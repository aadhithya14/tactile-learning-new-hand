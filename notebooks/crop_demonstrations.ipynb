{
 "cells": [
  {
   "cell_type": "code",
   "execution_count": 32,
   "id": "cc56ffa2-efa3-42df-a7c7-028e22b55f07",
   "metadata": {},
   "outputs": [],
   "source": [
    "# Script to crop demonstrations as desired\n",
    "from tactile_learning.utils.data import load_data\n",
    "import os \n",
    "import pickle"
   ]
  },
  {
   "cell_type": "code",
   "execution_count": 33,
   "id": "19380cab-c3ca-42df-a2b7-5d1991f50fa6",
   "metadata": {},
   "outputs": [],
   "source": [
    "DEMO_DIR = '/home/irmak/Workspace/Holo-Bot/extracted_data/bowl_picking/eval/demonstration_23'\n",
    "ROOTS = [DEMO_DIR]\n",
    "BEGIN_ID = 60 # 34 - 74 -> 11\n",
    "END_ID = -1 # 0 - 35 -> 4"
   ]
  },
  {
   "cell_type": "code",
   "execution_count": 40,
   "id": "f15016cd-5b99-46b8-8ea1-dee6c92f7f8b",
   "metadata": {},
   "outputs": [],
   "source": [
    "data = load_data(ROOTS)"
   ]
  },
  {
   "cell_type": "code",
   "execution_count": 41,
   "id": "66ac120e-aebb-474b-baa1-3d4f531f18af",
   "metadata": {},
   "outputs": [
    {
     "name": "stdout",
     "output_type": "stream",
     "text": [
      "dict_keys(['tactile', 'allegro_joint_states', 'allegro_tip_states', 'allegro_actions', 'kinova', 'image'])\n"
     ]
    }
   ],
   "source": [
    "print(data.keys())"
   ]
  },
  {
   "cell_type": "code",
   "execution_count": 42,
   "id": "9e32b54e-21ac-4b8a-a502-e45bbf1ec0b9",
   "metadata": {},
   "outputs": [
    {
     "name": "stdout",
     "output_type": "stream",
     "text": [
      "47 47 47\n"
     ]
    }
   ],
   "source": [
    "print(len(data['tactile']['indices']), len(data['allegro_joint_states']['indices']), len(data['allegro_actions']['indices']))"
   ]
  },
  {
   "cell_type": "code",
   "execution_count": 37,
   "id": "c0bb4954-b717-49b9-a7b4-c04f270bf8e2",
   "metadata": {},
   "outputs": [],
   "source": [
    "# Get the current ones and save them\n",
    "with open(os.path.join(DEMO_DIR, 'tactile_indices_pre_crop.pkl'), 'wb') as f:\n",
    "    pickle.dump(data['tactile']['indices'], f)\n",
    "with open(os.path.join(DEMO_DIR, 'allegro_indices_pre_crop.pkl'), 'wb') as f:\n",
    "    pickle.dump(data['allegro_joint_states']['indices'], f)\n",
    "with open(os.path.join(DEMO_DIR, 'image_indices_pre_crop.pkl'), 'wb') as f:\n",
    "    pickle.dump(data['image']['indices'], f)\n",
    "with open(os.path.join(DEMO_DIR, 'allegro_action_indices_pre_crop.pkl'), 'wb') as f:\n",
    "    pickle.dump(data['allegro_actions']['indices'], f)\n",
    "with open(os.path.join(DEMO_DIR, 'kinova_indices_pre_crop.pkl'), 'wb') as f:\n",
    "    pickle.dump(data['kinova']['indices'], f)"
   ]
  },
  {
   "cell_type": "code",
   "execution_count": 38,
   "id": "e1e6a623-8eff-4322-a828-cd7b0499c5e8",
   "metadata": {},
   "outputs": [],
   "source": [
    "# Indices for a specific bowl picking demonstration\n",
    "new_tactile_indices = data['tactile']['indices'][0:23] + data['tactile']['indices'][72:]\n",
    "new_allegro_indices = data['allegro_joint_states']['indices'][0:23] + data['allegro_joint_states']['indices'][72:]\n",
    "new_image_indices = data['image']['indices'][0:23] + data['image']['indices'][72:]\n",
    "new_action_indices = data['allegro_actions']['indices'][0:23] + data['allegro_actions']['indices'][72:]\n",
    "new_kinova_indices = data['kinova']['indices'][0:23] + data['kinova']['indices'][72:]"
   ]
  },
  {
   "cell_type": "code",
   "execution_count": 39,
   "id": "e03a03d8-9e9e-43ca-9fa5-0f3791dfb666",
   "metadata": {},
   "outputs": [],
   "source": [
    "import os\n",
    "import pickle\n",
    "\n",
    "with open(os.path.join(DEMO_DIR, 'tactile_indices.pkl'), 'wb') as f:\n",
    "    # pickle.dump(data['tactile']['indices'][BEGIN_ID:END_ID], f)\n",
    "    pickle.dump(new_tactile_indices, f)\n",
    "with open(os.path.join(DEMO_DIR, 'allegro_indices.pkl'), 'wb') as f:\n",
    "    # pickle.dump(data['allegro_joint_states']['indices'][BEGIN_ID:END_ID], f)\n",
    "    pickle.dump(new_allegro_indices, f)\n",
    "with open(os.path.join(DEMO_DIR, 'image_indices.pkl'), 'wb') as f:\n",
    "    # pickle.dump(data['image']['indices'][BEGIN_ID:END_ID], f)\n",
    "    pickle.dump(new_image_indices, f)\n",
    "with open(os.path.join(DEMO_DIR, 'allegro_action_indices.pkl'), 'wb') as f:\n",
    "    # pickle.dump(data['allegro_actions']['indices'][BEGIN_ID:END_ID], f)\n",
    "    pickle.dump(new_action_indices, f)\n",
    "with open(os.path.join(DEMO_DIR, 'kinova_indices.pkl'), 'wb') as f:\n",
    "    # pickle.dump(data['kinova']['indices'][BEGIN_ID:END_ID], f)\n",
    "    pickle.dump(new_kinova_indices, f)"
   ]
  },
  {
   "cell_type": "code",
   "execution_count": null,
   "id": "007b7314-5b6d-4c2c-9928-7809f38e7272",
   "metadata": {},
   "outputs": [],
   "source": []
  }
 ],
 "metadata": {
  "kernelspec": {
   "display_name": "Python 3 (ipykernel)",
   "language": "python",
   "name": "python3"
  },
  "language_info": {
   "codemirror_mode": {
    "name": "ipython",
    "version": 3
   },
   "file_extension": ".py",
   "mimetype": "text/x-python",
   "name": "python",
   "nbconvert_exporter": "python",
   "pygments_lexer": "ipython3",
   "version": "3.9.13"
  }
 },
 "nbformat": 4,
 "nbformat_minor": 5
}
