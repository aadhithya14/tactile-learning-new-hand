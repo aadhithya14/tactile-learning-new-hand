{
 "cells": [
  {
   "cell_type": "code",
   "execution_count": 1,
   "metadata": {},
   "outputs": [],
   "source": [
    "# Script to have different ways to train the tactile image\n",
    "import glob\n",
    "import h5py\n",
    "import hydra\n",
    "import mmap\n",
    "import numpy as np\n",
    "import os\n",
    "import pickle\n",
    "import torch \n",
    "import matplotlib.pyplot as plt\n",
    "import torchvision.transforms as T\n",
    "import torch.utils.data as data \n",
    "\n",
    "from omegaconf import DictConfig, OmegaConf\n",
    "from collections import OrderedDict\n",
    "from tqdm import tqdm \n",
    "from torch.nn.parallel import DistributedDataParallel as DDP\n",
    "from holobot.robot.allegro.allegro_kdl import AllegroKDL\n",
    "\n",
    "from tactile_learning.utils.constants import *\n",
    "from tactile_learning.models.custom import *\n",
    "from tactile_learning.datasets.tactile_vision import *\n",
    "from tactile_learning.deployment.load_models import * \n",
    "from tactile_learning.deployment.nn_buffer import NearestNeighborBuffer\n",
    "from tactile_learning.models.knn import KNearestNeighbors, ScaledKNearestNeighbors\n",
    "from tactile_learning.utils.visualization import *\n",
    "from tactile_learning.utils.tactile_image import *\n",
    "from tactile_learning.utils.data import load_data\n"
   ]
  },
  {
   "attachments": {},
   "cell_type": "markdown",
   "metadata": {},
   "source": [
    "# Linear Layer to each Tactile Sensor\n",
    "Here the approach will be as follows: \n",
    "1. Turn each small tactile sensor to an image\n",
    "2. In BYOL after applying the augmentations (which only could be) the encoder will flatten the data\n",
    "3. And then we'll just have multiple linear layers on top"
   ]
  },
  {
   "attachments": {},
   "cell_type": "markdown",
   "metadata": {},
   "source": [
    "## Load the data \n",
    "Load the data from the play dataset"
   ]
  },
  {
   "cell_type": "code",
   "execution_count": 2,
   "metadata": {},
   "outputs": [],
   "source": [
    "PLAY_DATA_DIR = '/home/irmak/Workspace/Holo-Bot/extracted_data/tactile_play_data'\n",
    "PLAY_ROOTS = glob.glob(f'{PLAY_DATA_DIR}/demonstration_*')\n",
    "play_data = load_data(PLAY_ROOTS)\n"
   ]
  },
  {
   "cell_type": "code",
   "execution_count": 3,
   "metadata": {},
   "outputs": [],
   "source": [
    "tactile_value = play_data['tactile']['values']"
   ]
  },
  {
   "cell_type": "code",
   "execution_count": 4,
   "metadata": {},
   "outputs": [],
   "source": [
    "DEMO_ID = 11\n",
    "TACTILE_ID = 2000\n",
    "tactile_values = play_data['tactile']['values'][DEMO_ID][TACTILE_ID]"
   ]
  },
  {
   "attachments": {},
   "cell_type": "markdown",
   "metadata": {},
   "source": [
    "## Utils methods"
   ]
  },
  {
   "cell_type": "code",
   "execution_count": 5,
   "metadata": {},
   "outputs": [],
   "source": [
    "from tactile_learning.utils.visualization import plot_tactile_sensor\n",
    "def plot_tactile_image(ax, tactile_image): # Tactile image should be tensor\n",
    "    # Map it to 0 and 1 - not super certain this is correct\n",
    "    min, max = tactile_image.min(), tactile_image.max()\n",
    "    img_range = max - min\n",
    "    img = (tactile_image - min) / img_range\n",
    "    npimg = img.numpy()\n",
    "    ax.imshow(np.transpose(npimg, (1, 2, 0)))\n",
    "    ax.axis('off')"
   ]
  },
  {
   "cell_type": "code",
   "execution_count": 6,
   "metadata": {},
   "outputs": [],
   "source": [
    "def get_small_tactile_image(tactile_value): # tactile_value.shape: (16,3)\n",
    "    tactile_image = torch.FloatTensor(tactile_value)\n",
    "    tactile_image = tactile_image.view(4,4,3)\n",
    "    return torch.permute(tactile_image, (2,0,1))"
   ]
  },
  {
   "cell_type": "code",
   "execution_count": 7,
   "metadata": {},
   "outputs": [],
   "source": [
    "ex_tact_value = tactile_values[7,:]\n",
    "ex_tact_img = get_small_tactile_image(ex_tact_value)"
   ]
  },
  {
   "attachments": {},
   "cell_type": "markdown",
   "metadata": {},
   "source": [
    "## Find the whole mean and std of this images"
   ]
  },
  {
   "cell_type": "code",
   "execution_count": 8,
   "metadata": {},
   "outputs": [],
   "source": [
    "# Find the whole mean and stds of this data\n",
    "\n",
    "def get_tactile_image_stats(tactile_values): # tactile_values: data['tactile']['values']\n",
    "    psum    = torch.tensor([0.0, 0.0, 0.0])\n",
    "    psum_sq = torch.tensor([0.0, 0.0, 0.0])\n",
    "\n",
    "    pbar = tqdm(total=len(tactile_values.keys()))\n",
    "    # loop through the images\n",
    "    total_num_imgs = 0\n",
    "    for demo_id in tactile_values.keys(): \n",
    "        for tactile_id in range(len(tactile_values[demo_id])):\n",
    "            curr_tactile_values = tactile_values[demo_id][tactile_id]\n",
    "            for sensor_id in range(curr_tactile_values.shape[0]): # 15\n",
    "                tactile_img = get_small_tactile_image(curr_tactile_values[sensor_id]).unsqueeze(0) # Act as if this is a batch\n",
    "                psum += tactile_img.sum(axis = [0,2,3])\n",
    "                psum_sq += (tactile_img ** 2).sum(axis = [0, 2, 3])\n",
    "                total_num_imgs += 1\n",
    "        pbar.update(1)\n",
    "        pbar.set_description(f'Demo: {demo_id}')\n",
    "\n",
    "    pbar.close()\n",
    "\n",
    "    # pixel count\n",
    "    count = total_num_imgs * 4 * 4\n",
    "\n",
    "    # mean and std\n",
    "    total_mean = psum / count\n",
    "    total_var  = (psum_sq / count) - (total_mean ** 2)\n",
    "    total_std  = torch.sqrt(total_var)\n",
    "\n",
    "    # output\n",
    "    # print('mean: '  + str(total_mean))\n",
    "    # print('std:  '  + str(total_std))\n",
    "\n",
    "    return total_mean, total_std"
   ]
  },
  {
   "cell_type": "code",
   "execution_count": 9,
   "metadata": {},
   "outputs": [
    {
     "name": "stderr",
     "output_type": "stream",
     "text": [
      "Demo: 12: 100%|██████████| 13/13 [00:22<00:00,  1.70s/it]\n"
     ]
    }
   ],
   "source": [
    "TACTILE_MEAN, TACTILE_STD = get_tactile_image_stats(play_data['tactile']['values'])"
   ]
  },
  {
   "cell_type": "code",
   "execution_count": 10,
   "metadata": {},
   "outputs": [
    {
     "name": "stdout",
     "output_type": "stream",
     "text": [
      "mean: tensor([-6.9900,  3.7022, 10.7355]), std: tensor([189.6929, 156.1941, 132.6691])\n"
     ]
    }
   ],
   "source": [
    "print('mean: {}, std: {}'.format(TACTILE_MEAN, TACTILE_STD))"
   ]
  },
  {
   "cell_type": "code",
   "execution_count": 11,
   "metadata": {},
   "outputs": [],
   "source": [
    "def get_augmentations(img_means, img_stds):\n",
    "    tactile_aug = T.Compose([\n",
    "        T.RandomApply(\n",
    "            nn.ModuleList([T.RandomResizedCrop((4,4), scale=(.75, 1))]),\n",
    "            p = 0.5\n",
    "        ), \n",
    "        T.RandomApply(\n",
    "            nn.ModuleList([T.GaussianBlur((3, 3), (1.0, 2.0))]), \n",
    "            p = 0.5\n",
    "        ),\n",
    "        T.Normalize(\n",
    "            mean = img_means, # NOTE: Wasn't this wrong?\n",
    "            std = img_stds\n",
    "        )\n",
    "    ])\n",
    "    return tactile_aug"
   ]
  },
  {
   "cell_type": "code",
   "execution_count": 12,
   "metadata": {},
   "outputs": [
    {
     "data": {
      "text/plain": [
       "Text(0.5, 1.0, 'Augmented Image')"
      ]
     },
     "execution_count": 12,
     "metadata": {},
     "output_type": "execute_result"
    },
    {
     "data": {
      "image/png": "[encoded data removed]",
      "text/plain": [
       "<Figure size 1500x500 with 3 Axes>"
      ]
     },
     "metadata": {},
     "output_type": "display_data"
    }
   ],
   "source": [
    "DEMO_ID = 11\n",
    "TACTILE_ID = 2000 #2126\n",
    "SENSOR_ID = 7\n",
    "tactile_values = play_data['tactile']['values'][DEMO_ID][TACTILE_ID]\n",
    "\n",
    "ex_tact_value = tactile_values[SENSOR_ID,:]\n",
    "ex_tact_img = get_small_tactile_image(ex_tact_value)\n",
    "tactile_aug = get_augmentations(TACTILE_MEAN, TACTILE_STD)\n",
    "ex_tact_aug_img = tactile_aug(ex_tact_img)\n",
    "norm_transform = T.Normalize(\n",
    "    mean = TACTILE_MEAN, std = TACTILE_STD\n",
    ")\n",
    "ex_tact_norm_img = norm_transform(ex_tact_img)\n",
    "\n",
    "fig, axs = plt.subplots(nrows=1, ncols=3, figsize=(15,5))\n",
    "plot_tactile_sensor(axs[0], ex_tact_value)\n",
    "axs[0].set_title('Tactile Value')\n",
    "plot_tactile_image(axs[1], ex_tact_norm_img)\n",
    "axs[1].set_title('Actual Image')\n",
    "plot_tactile_image(axs[2], ex_tact_aug_img)\n",
    "axs[2].set_title('Augmented Image')"
   ]
  },
  {
   "attachments": {},
   "cell_type": "markdown",
   "metadata": {},
   "source": [
    "## Different Encoder Types\n",
    "1. After normalizing just flatten it\n",
    "2. Have a separate CNN for each tactile sensor\n",
    "3. 16x3 channeled CNN"
   ]
  },
  {
   "attachments": {},
   "cell_type": "markdown",
   "metadata": {},
   "source": [
    "### Implement the only sensor tactile dataset\n",
    "This dataset should give only sensor tactile images"
   ]
  },
  {
   "cell_type": "code",
   "execution_count": 13,
   "metadata": {},
   "outputs": [],
   "source": [
    "\n",
    "def get_single_tactile_image(tactile_value):\n",
    "    tactile_image = torch.FloatTensor(tactile_value)\n",
    "    tactile_image = tactile_image.view(4,4,3)\n",
    "    return torch.permute(tactile_image, (2,0,1))\n",
    "\n",
    "class TactileSensorDataset(data.Dataset):\n",
    "    def __init__(\n",
    "        self,\n",
    "        data_path,\n",
    "        normalize=False,\n",
    "        stats=[TACTILE_MEAN, TACTILE_STD], # Will have image means and stds\n",
    "    ):\n",
    "        super().__init__()\n",
    "        self.roots = glob.glob(f'{data_path}/demonstration_*')\n",
    "        self.roots = sorted(self.roots)\n",
    "        self.data = load_data(self.roots, demos_to_use=[])\n",
    "        self.normalize = normalize\n",
    "        self.normalization_transform = T.Normalize(stats[0], stats[1])\n",
    "        self._preprocess_tactile_indices()\n",
    "\n",
    "    def _preprocess_tactile_indices(self):\n",
    "        self.tactile_mapper = np.zeros(len(self.data['tactile']['indices'])*15).astype(int)\n",
    "        for data_id in range(len(self.data['tactile']['indices'])):\n",
    "            for sensor_id in range(15):\n",
    "                self.tactile_mapper[data_id*15+sensor_id] = data_id # Assign each finger to an index basically\n",
    "\n",
    "    def _get_sensor_id(self, index):\n",
    "        return index % 15\n",
    "\n",
    "    def __len__(self):\n",
    "        return len(self.tactile_mapper)\n",
    "\n",
    "    def __getitem__(self, index):\n",
    "        data_id = self.tactile_mapper[index]\n",
    "        demo_id, tactile_id = self.data['tactile']['indices'][data_id]\n",
    "        sensor_id = self._get_sensor_id(index)\n",
    "\n",
    "        # Get the tactile image\n",
    "        tactile_value = self.data['tactile']['values'][demo_id][tactile_id][sensor_id]\n",
    "        tactile_image = get_single_tactile_image(tactile_value)\n",
    "\n",
    "        if self.normalize:\n",
    "            return self.normalization_transform(tactile_image)\n",
    "        else:\n",
    "            return tactile_image\n",
    "\n",
    "    def getitem(self, index):\n",
    "        return self.__getitem__(index) # NOTE: for debugging purposes"
   ]
  },
  {
   "cell_type": "code",
   "execution_count": 14,
   "metadata": {},
   "outputs": [],
   "source": [
    "dset = TactileSensorDataset(data_path = PLAY_DATA_DIR, normalize=True, stats = [TACTILE_MEAN, TACTILE_STD])\n",
    "tactile_loader = data.DataLoader(dset, \n",
    "                                batch_size  = 32, \n",
    "                                shuffle     = True, \n",
    "                                num_workers = 4,\n",
    "                                pin_memory  = True)\n"
   ]
  },
  {
   "cell_type": "code",
   "execution_count": 15,
   "metadata": {},
   "outputs": [
    {
     "data": {
      "image/png": "[encoded data removed]",
      "text/plain": [
       "<Figure size 1400x700 with 8 Axes>"
      ]
     },
     "metadata": {},
     "output_type": "display_data"
    }
   ],
   "source": [
    "# display images\n",
    "for batch_idx, inputs in enumerate(tactile_loader):\n",
    "    fig = plt.figure(figsize = (14, 7))\n",
    "    for i in range(8):\n",
    "        ax = fig.add_subplot(2, 4, i + 1, xticks = [], yticks = [])     \n",
    "        plot_tactile_image(ax, inputs[i])\n",
    "        # plt.imshow(inputs[i].numpy().transpose(1, 2, 0))\n",
    "    break"
   ]
  },
  {
   "attachments": {},
   "cell_type": "markdown",
   "metadata": {},
   "source": [
    "## Train these encoders with BYOL\n",
    "\n",
    "### LinearEncoder\n",
    "*Encoder* that just flattens the data - after defining the optimizer and adataloaders and stuff we'll use this"
   ]
  },
  {
   "cell_type": "code",
   "execution_count": 16,
   "metadata": {},
   "outputs": [],
   "source": [
    "class PrintSize(nn.Module):\n",
    "    def __init__(self):\n",
    "        super().__init__()\n",
    "\n",
    "    def forward(self, x):\n",
    "        print(x.shape)\n",
    "        return x\n",
    "\n",
    "class TactileLinearEncoder(nn.Module):\n",
    "    def __init__(\n",
    "        self,\n",
    "        input_dim = 48,\n",
    "        hidden_dim = 128,\n",
    "        output_dim = 64\n",
    "    ):\n",
    "        super().__init__() \n",
    "        self.model = nn.Sequential(\n",
    "            nn.Linear(input_dim, hidden_dim),\n",
    "            nn.ReLU(),\n",
    "            nn.Linear(hidden_dim, hidden_dim), \n",
    "            nn.ReLU(),\n",
    "            nn.Linear(hidden_dim, output_dim),\n",
    "            nn.ReLU()\n",
    "        )\n",
    "\n",
    "    def forward(self, x):\n",
    "        # Flatten the image\n",
    "        x = torch.flatten(x,1)\n",
    "        x = self.model(x)\n",
    "        return x\n",
    "\n",
    "class TactileSmallEncoder(nn.Module):\n",
    "    def __init__(\n",
    "        self,\n",
    "        in_channels,\n",
    "        out_dim # Final dimension of the representation\n",
    "    ):\n",
    "        super().__init__()\n",
    "        self.out_dim = out_dim\n",
    "        self.model = nn.Sequential(\n",
    "            nn.Conv2d(in_channels, out_channels=64, kernel_size=2),\n",
    "            nn.ReLU(),\n",
    "            # PrintSize(),\n",
    "            nn.Conv2d(in_channels=64, out_channels=128, kernel_size=2),\n",
    "            nn.ReLU(),\n",
    "            # PrintSize(),\n",
    "            nn.Conv2d(in_channels=128, out_channels=128, kernel_size=2),\n",
    "            nn.ReLU(),\n",
    "            # PrintSize()\n",
    "        )\n",
    "        self.linear = nn.Linear(in_features=128, out_features=out_dim)\n",
    "        self.relu = nn.ReLU()\n",
    "        \n",
    "    def forward(self, x):\n",
    "        x = self.model(x)\n",
    "        x = torch.flatten(x, 1) # Flatten all dimensions except batch\n",
    "        x = self.linear(x)\n",
    "        return self.relu(x)\n",
    "\n",
    "class TactileStackedEncoder(nn.Module): # Model for 16x3 RGB channelled images\n",
    "    def __init__(\n",
    "        self,\n",
    "        in_channels,\n",
    "        out_dim # Final dimension of the representation\n",
    "    ):\n",
    "        super().__init__()\n",
    "        self.out_dim = out_dim\n",
    "        self.model = nn.Sequential(\n",
    "            nn.Conv2d(in_channels, out_channels=64, kernel_size=2),\n",
    "            nn.ReLU(),\n",
    "            PrintSize(),\n",
    "            nn.Conv2d(in_channels=64, out_channels=128, kernel_size=2),\n",
    "            nn.ReLU(),\n",
    "            PrintSize(),\n",
    "            nn.Conv2d(in_channels=128, out_channels=128, kernel_size=2),\n",
    "            nn.ReLU(),\n",
    "            PrintSize()\n",
    "        )\n",
    "        self.linear = nn.Linear(in_features=128, out_features=out_dim)\n",
    "        self.relu = nn.ReLU()\n",
    "        \n",
    "    def forward(self, x):\n",
    "        x = self.model(x)\n",
    "        x = torch.flatten(x, 1) # Flatten all dimensions except batch\n",
    "        x = self.linear(x)\n",
    "        return self.relu(x)"
   ]
  },
  {
   "cell_type": "code",
   "execution_count": 17,
   "metadata": {},
   "outputs": [],
   "source": [
    "\n",
    "from tactile_learning.models.ssl_wrappers.byol import BYOL\n",
    "from torch.optim import Adam\n",
    "from torch.utils.data import DataLoader\n",
    "\n",
    "augment_fn = get_augmentations(TACTILE_IMAGE_MEANS, TACTILE_IMAGE_STDS) # One augment_fn is enough (since it will be the same as augment2)\n",
    "image_size = 4\n",
    "learner = BYOL(\n",
    "    # net = TactileLinearEncoder(\n",
    "    #     input_dim = 48, # 16 * 3\n",
    "    #     hidden_dim = 128, \n",
    "    #     output_dim = 64\n",
    "    # ), \n",
    "    net = TactileSmallEncoder(\n",
    "        in_channels=3,\n",
    "        out_dim=64\n",
    "    ),\n",
    "    image_size = image_size,\n",
    "    augment_fn = augment_fn,\n",
    "    hidden_layer=-1\n",
    ")\n",
    "optimizer = Adam(\n",
    "    learner.parameters(),\n",
    "    lr = 1e-2,\n",
    "    weight_decay = 1e-5\n",
    ")\n",
    "\n",
    "dataset = TactileSensorDataset(data_path = PLAY_DATA_DIR, normalize = True)\n",
    "dataloader = DataLoader(\n",
    "    dataset, \n",
    "    batch_size = 32,\n",
    "    shuffle = True,\n",
    "    num_workers = 4,\n",
    "    pin_memory = True,\n",
    ")"
   ]
  },
  {
   "cell_type": "code",
   "execution_count": 18,
   "metadata": {},
   "outputs": [],
   "source": [
    "def train_one_epoch(learner, dataloader, optimizer):\n",
    "    learner.train()\n",
    "    total_train_loss = 0\n",
    "\n",
    "    pbar = tqdm(total=len(dataloader))\n",
    "    timestep = 0\n",
    "    for batch in tqdm(dataloader):\n",
    "        tactile_image = batch\n",
    "        optimizer.zero_grad()\n",
    "        loss = learner(tactile_image) \n",
    "\n",
    "        loss.backward()\n",
    "        optimizer.step()\n",
    "        learner.update_moving_average()\n",
    "\n",
    "        total_train_loss += loss.item()\n",
    "        pbar.set_description(f'Train Loss: {loss.item()}')\n",
    "        pbar.update(1)\n",
    "\n",
    "        timestep += 1\n",
    "        if timestep % 100:\n",
    "            torch.save(learner.state_dict(),\n",
    "                       'linear_encoder.pt',\n",
    "                        _use_new_zipfile_serialization=False)\n",
    "\n",
    "    average_train_loss = total_train_loss / len(dataloader)\n",
    "    return average_train_loss "
   ]
  },
  {
   "cell_type": "code",
   "execution_count": 19,
   "metadata": {},
   "outputs": [
    {
     "name": "stderr",
     "output_type": "stream",
     "text": [
      "  4%|▎         | 1280/35525 [07:44<3:26:56,  2.76it/s]/35525 [07:43<2:40:07,  3.56it/s]  \n"
     ]
    },
    {
     "ename": "KeyboardInterrupt",
     "evalue": "",
     "output_type": "error",
     "traceback": [
      "\u001b[0;31m---------------------------------------------------------------------------\u001b[0m",
      "\u001b[0;31mKeyboardInterrupt\u001b[0m                         Traceback (most recent call last)",
      "Cell \u001b[0;32mIn [19], line 1\u001b[0m\n\u001b[0;32m----> 1\u001b[0m average_loss \u001b[39m=\u001b[39m train_one_epoch(learner, dataloader, optimizer)\n",
      "Cell \u001b[0;32mIn [18], line 10\u001b[0m, in \u001b[0;36mtrain_one_epoch\u001b[0;34m(learner, dataloader, optimizer)\u001b[0m\n\u001b[1;32m      8\u001b[0m tactile_image \u001b[39m=\u001b[39m batch\n\u001b[1;32m      9\u001b[0m optimizer\u001b[39m.\u001b[39mzero_grad()\n\u001b[0;32m---> 10\u001b[0m loss \u001b[39m=\u001b[39m learner(tactile_image) \n\u001b[1;32m     12\u001b[0m loss\u001b[39m.\u001b[39mbackward()\n\u001b[1;32m     13\u001b[0m optimizer\u001b[39m.\u001b[39mstep()\n",
      "File \u001b[0;32m~/miniconda3/envs/tactile_learning/lib/python3.9/site-packages/torch/nn/modules/module.py:1130\u001b[0m, in \u001b[0;36mModule._call_impl\u001b[0;34m(self, *input, **kwargs)\u001b[0m\n\u001b[1;32m   1126\u001b[0m \u001b[39m# If we don't have any hooks, we want to skip the rest of the logic in\u001b[39;00m\n\u001b[1;32m   1127\u001b[0m \u001b[39m# this function, and just call forward.\u001b[39;00m\n\u001b[1;32m   1128\u001b[0m \u001b[39mif\u001b[39;00m \u001b[39mnot\u001b[39;00m (\u001b[39mself\u001b[39m\u001b[39m.\u001b[39m_backward_hooks \u001b[39mor\u001b[39;00m \u001b[39mself\u001b[39m\u001b[39m.\u001b[39m_forward_hooks \u001b[39mor\u001b[39;00m \u001b[39mself\u001b[39m\u001b[39m.\u001b[39m_forward_pre_hooks \u001b[39mor\u001b[39;00m _global_backward_hooks\n\u001b[1;32m   1129\u001b[0m         \u001b[39mor\u001b[39;00m _global_forward_hooks \u001b[39mor\u001b[39;00m _global_forward_pre_hooks):\n\u001b[0;32m-> 1130\u001b[0m     \u001b[39mreturn\u001b[39;00m forward_call(\u001b[39m*\u001b[39;49m\u001b[39minput\u001b[39;49m, \u001b[39m*\u001b[39;49m\u001b[39m*\u001b[39;49mkwargs)\n\u001b[1;32m   1131\u001b[0m \u001b[39m# Do not call functions when jit is used\u001b[39;00m\n\u001b[1;32m   1132\u001b[0m full_backward_hooks, non_full_backward_hooks \u001b[39m=\u001b[39m [], []\n",
      "File \u001b[0;32m~/Workspace/tactile-learning/tactile_learning/models/ssl_wrappers/byol.py:252\u001b[0m, in \u001b[0;36mBYOL.forward\u001b[0;34m(self, x, return_embedding, return_projection)\u001b[0m\n\u001b[1;32m    249\u001b[0m image_one, image_two \u001b[39m=\u001b[39m \u001b[39mself\u001b[39m\u001b[39m.\u001b[39maugment1(x), \u001b[39mself\u001b[39m\u001b[39m.\u001b[39maugment2(x)\n\u001b[1;32m    251\u001b[0m online_proj_one, _ \u001b[39m=\u001b[39m \u001b[39mself\u001b[39m\u001b[39m.\u001b[39monline_encoder(image_one)\n\u001b[0;32m--> 252\u001b[0m online_proj_two, _ \u001b[39m=\u001b[39m \u001b[39mself\u001b[39;49m\u001b[39m.\u001b[39;49monline_encoder(image_two)\n\u001b[1;32m    254\u001b[0m online_pred_one \u001b[39m=\u001b[39m \u001b[39mself\u001b[39m\u001b[39m.\u001b[39monline_predictor(online_proj_one)\n\u001b[1;32m    255\u001b[0m online_pred_two \u001b[39m=\u001b[39m \u001b[39mself\u001b[39m\u001b[39m.\u001b[39monline_predictor(online_proj_two)\n",
      "File \u001b[0;32m~/miniconda3/envs/tactile_learning/lib/python3.9/site-packages/torch/nn/modules/module.py:1130\u001b[0m, in \u001b[0;36mModule._call_impl\u001b[0;34m(self, *input, **kwargs)\u001b[0m\n\u001b[1;32m   1126\u001b[0m \u001b[39m# If we don't have any hooks, we want to skip the rest of the logic in\u001b[39;00m\n\u001b[1;32m   1127\u001b[0m \u001b[39m# this function, and just call forward.\u001b[39;00m\n\u001b[1;32m   1128\u001b[0m \u001b[39mif\u001b[39;00m \u001b[39mnot\u001b[39;00m (\u001b[39mself\u001b[39m\u001b[39m.\u001b[39m_backward_hooks \u001b[39mor\u001b[39;00m \u001b[39mself\u001b[39m\u001b[39m.\u001b[39m_forward_hooks \u001b[39mor\u001b[39;00m \u001b[39mself\u001b[39m\u001b[39m.\u001b[39m_forward_pre_hooks \u001b[39mor\u001b[39;00m _global_backward_hooks\n\u001b[1;32m   1129\u001b[0m         \u001b[39mor\u001b[39;00m _global_forward_hooks \u001b[39mor\u001b[39;00m _global_forward_pre_hooks):\n\u001b[0;32m-> 1130\u001b[0m     \u001b[39mreturn\u001b[39;00m forward_call(\u001b[39m*\u001b[39;49m\u001b[39minput\u001b[39;49m, \u001b[39m*\u001b[39;49m\u001b[39m*\u001b[39;49mkwargs)\n\u001b[1;32m   1131\u001b[0m \u001b[39m# Do not call functions when jit is used\u001b[39;00m\n\u001b[1;32m   1132\u001b[0m full_backward_hooks, non_full_backward_hooks \u001b[39m=\u001b[39m [], []\n",
      "File \u001b[0;32m~/Workspace/tactile-learning/tactile_learning/models/ssl_wrappers/byol.py:159\u001b[0m, in \u001b[0;36mNetWrapper.forward\u001b[0;34m(self, x, return_projection)\u001b[0m\n\u001b[1;32m    158\u001b[0m \u001b[39mdef\u001b[39;00m \u001b[39mforward\u001b[39m(\u001b[39mself\u001b[39m, x, return_projection \u001b[39m=\u001b[39m \u001b[39mTrue\u001b[39;00m):\n\u001b[0;32m--> 159\u001b[0m     representation \u001b[39m=\u001b[39m \u001b[39mself\u001b[39;49m\u001b[39m.\u001b[39;49mget_representation(x)\n\u001b[1;32m    161\u001b[0m     \u001b[39mif\u001b[39;00m \u001b[39mnot\u001b[39;00m return_projection:\n\u001b[1;32m    162\u001b[0m         \u001b[39mreturn\u001b[39;00m representation\n",
      "File \u001b[0;32m~/Workspace/tactile-learning/tactile_learning/models/ssl_wrappers/byol.py:145\u001b[0m, in \u001b[0;36mNetWrapper.get_representation\u001b[0;34m(self, x)\u001b[0m\n\u001b[1;32m    143\u001b[0m \u001b[39mdef\u001b[39;00m \u001b[39mget_representation\u001b[39m(\u001b[39mself\u001b[39m, x):\n\u001b[1;32m    144\u001b[0m     \u001b[39mif\u001b[39;00m \u001b[39mself\u001b[39m\u001b[39m.\u001b[39mlayer \u001b[39m==\u001b[39m \u001b[39m-\u001b[39m\u001b[39m1\u001b[39m:\n\u001b[0;32m--> 145\u001b[0m         \u001b[39mreturn\u001b[39;00m \u001b[39mself\u001b[39;49m\u001b[39m.\u001b[39;49mnet(x)\n\u001b[1;32m    147\u001b[0m     \u001b[39mif\u001b[39;00m \u001b[39mnot\u001b[39;00m \u001b[39mself\u001b[39m\u001b[39m.\u001b[39mhook_registered:\n\u001b[1;32m    148\u001b[0m         \u001b[39mself\u001b[39m\u001b[39m.\u001b[39m_register_hook()\n",
      "File \u001b[0;32m~/miniconda3/envs/tactile_learning/lib/python3.9/site-packages/torch/nn/modules/module.py:1130\u001b[0m, in \u001b[0;36mModule._call_impl\u001b[0;34m(self, *input, **kwargs)\u001b[0m\n\u001b[1;32m   1126\u001b[0m \u001b[39m# If we don't have any hooks, we want to skip the rest of the logic in\u001b[39;00m\n\u001b[1;32m   1127\u001b[0m \u001b[39m# this function, and just call forward.\u001b[39;00m\n\u001b[1;32m   1128\u001b[0m \u001b[39mif\u001b[39;00m \u001b[39mnot\u001b[39;00m (\u001b[39mself\u001b[39m\u001b[39m.\u001b[39m_backward_hooks \u001b[39mor\u001b[39;00m \u001b[39mself\u001b[39m\u001b[39m.\u001b[39m_forward_hooks \u001b[39mor\u001b[39;00m \u001b[39mself\u001b[39m\u001b[39m.\u001b[39m_forward_pre_hooks \u001b[39mor\u001b[39;00m _global_backward_hooks\n\u001b[1;32m   1129\u001b[0m         \u001b[39mor\u001b[39;00m _global_forward_hooks \u001b[39mor\u001b[39;00m _global_forward_pre_hooks):\n\u001b[0;32m-> 1130\u001b[0m     \u001b[39mreturn\u001b[39;00m forward_call(\u001b[39m*\u001b[39;49m\u001b[39minput\u001b[39;49m, \u001b[39m*\u001b[39;49m\u001b[39m*\u001b[39;49mkwargs)\n\u001b[1;32m   1131\u001b[0m \u001b[39m# Do not call functions when jit is used\u001b[39;00m\n\u001b[1;32m   1132\u001b[0m full_backward_hooks, non_full_backward_hooks \u001b[39m=\u001b[39m [], []\n",
      "Cell \u001b[0;32mIn [16], line 55\u001b[0m, in \u001b[0;36mTactileSmallEncoder.forward\u001b[0;34m(self, x)\u001b[0m\n\u001b[1;32m     54\u001b[0m \u001b[39mdef\u001b[39;00m \u001b[39mforward\u001b[39m(\u001b[39mself\u001b[39m, x):\n\u001b[0;32m---> 55\u001b[0m     x \u001b[39m=\u001b[39m \u001b[39mself\u001b[39;49m\u001b[39m.\u001b[39;49mmodel(x)\n\u001b[1;32m     56\u001b[0m     x \u001b[39m=\u001b[39m torch\u001b[39m.\u001b[39mflatten(x, \u001b[39m1\u001b[39m) \u001b[39m# Flatten all dimensions except batch\u001b[39;00m\n\u001b[1;32m     57\u001b[0m     x \u001b[39m=\u001b[39m \u001b[39mself\u001b[39m\u001b[39m.\u001b[39mlinear(x)\n",
      "File \u001b[0;32m~/miniconda3/envs/tactile_learning/lib/python3.9/site-packages/torch/nn/modules/module.py:1130\u001b[0m, in \u001b[0;36mModule._call_impl\u001b[0;34m(self, *input, **kwargs)\u001b[0m\n\u001b[1;32m   1126\u001b[0m \u001b[39m# If we don't have any hooks, we want to skip the rest of the logic in\u001b[39;00m\n\u001b[1;32m   1127\u001b[0m \u001b[39m# this function, and just call forward.\u001b[39;00m\n\u001b[1;32m   1128\u001b[0m \u001b[39mif\u001b[39;00m \u001b[39mnot\u001b[39;00m (\u001b[39mself\u001b[39m\u001b[39m.\u001b[39m_backward_hooks \u001b[39mor\u001b[39;00m \u001b[39mself\u001b[39m\u001b[39m.\u001b[39m_forward_hooks \u001b[39mor\u001b[39;00m \u001b[39mself\u001b[39m\u001b[39m.\u001b[39m_forward_pre_hooks \u001b[39mor\u001b[39;00m _global_backward_hooks\n\u001b[1;32m   1129\u001b[0m         \u001b[39mor\u001b[39;00m _global_forward_hooks \u001b[39mor\u001b[39;00m _global_forward_pre_hooks):\n\u001b[0;32m-> 1130\u001b[0m     \u001b[39mreturn\u001b[39;00m forward_call(\u001b[39m*\u001b[39;49m\u001b[39minput\u001b[39;49m, \u001b[39m*\u001b[39;49m\u001b[39m*\u001b[39;49mkwargs)\n\u001b[1;32m   1131\u001b[0m \u001b[39m# Do not call functions when jit is used\u001b[39;00m\n\u001b[1;32m   1132\u001b[0m full_backward_hooks, non_full_backward_hooks \u001b[39m=\u001b[39m [], []\n",
      "File \u001b[0;32m~/miniconda3/envs/tactile_learning/lib/python3.9/site-packages/torch/nn/modules/container.py:139\u001b[0m, in \u001b[0;36mSequential.forward\u001b[0;34m(self, input)\u001b[0m\n\u001b[1;32m    137\u001b[0m \u001b[39mdef\u001b[39;00m \u001b[39mforward\u001b[39m(\u001b[39mself\u001b[39m, \u001b[39minput\u001b[39m):\n\u001b[1;32m    138\u001b[0m     \u001b[39mfor\u001b[39;00m module \u001b[39min\u001b[39;00m \u001b[39mself\u001b[39m:\n\u001b[0;32m--> 139\u001b[0m         \u001b[39minput\u001b[39m \u001b[39m=\u001b[39m module(\u001b[39minput\u001b[39;49m)\n\u001b[1;32m    140\u001b[0m     \u001b[39mreturn\u001b[39;00m \u001b[39minput\u001b[39m\n",
      "File \u001b[0;32m~/miniconda3/envs/tactile_learning/lib/python3.9/site-packages/torch/nn/modules/module.py:1130\u001b[0m, in \u001b[0;36mModule._call_impl\u001b[0;34m(self, *input, **kwargs)\u001b[0m\n\u001b[1;32m   1126\u001b[0m \u001b[39m# If we don't have any hooks, we want to skip the rest of the logic in\u001b[39;00m\n\u001b[1;32m   1127\u001b[0m \u001b[39m# this function, and just call forward.\u001b[39;00m\n\u001b[1;32m   1128\u001b[0m \u001b[39mif\u001b[39;00m \u001b[39mnot\u001b[39;00m (\u001b[39mself\u001b[39m\u001b[39m.\u001b[39m_backward_hooks \u001b[39mor\u001b[39;00m \u001b[39mself\u001b[39m\u001b[39m.\u001b[39m_forward_hooks \u001b[39mor\u001b[39;00m \u001b[39mself\u001b[39m\u001b[39m.\u001b[39m_forward_pre_hooks \u001b[39mor\u001b[39;00m _global_backward_hooks\n\u001b[1;32m   1129\u001b[0m         \u001b[39mor\u001b[39;00m _global_forward_hooks \u001b[39mor\u001b[39;00m _global_forward_pre_hooks):\n\u001b[0;32m-> 1130\u001b[0m     \u001b[39mreturn\u001b[39;00m forward_call(\u001b[39m*\u001b[39;49m\u001b[39minput\u001b[39;49m, \u001b[39m*\u001b[39;49m\u001b[39m*\u001b[39;49mkwargs)\n\u001b[1;32m   1131\u001b[0m \u001b[39m# Do not call functions when jit is used\u001b[39;00m\n\u001b[1;32m   1132\u001b[0m full_backward_hooks, non_full_backward_hooks \u001b[39m=\u001b[39m [], []\n",
      "File \u001b[0;32m~/miniconda3/envs/tactile_learning/lib/python3.9/site-packages/torch/nn/modules/conv.py:457\u001b[0m, in \u001b[0;36mConv2d.forward\u001b[0;34m(self, input)\u001b[0m\n\u001b[1;32m    456\u001b[0m \u001b[39mdef\u001b[39;00m \u001b[39mforward\u001b[39m(\u001b[39mself\u001b[39m, \u001b[39minput\u001b[39m: Tensor) \u001b[39m-\u001b[39m\u001b[39m>\u001b[39m Tensor:\n\u001b[0;32m--> 457\u001b[0m     \u001b[39mreturn\u001b[39;00m \u001b[39mself\u001b[39;49m\u001b[39m.\u001b[39;49m_conv_forward(\u001b[39minput\u001b[39;49m, \u001b[39mself\u001b[39;49m\u001b[39m.\u001b[39;49mweight, \u001b[39mself\u001b[39;49m\u001b[39m.\u001b[39;49mbias)\n",
      "File \u001b[0;32m~/miniconda3/envs/tactile_learning/lib/python3.9/site-packages/torch/nn/modules/conv.py:453\u001b[0m, in \u001b[0;36mConv2d._conv_forward\u001b[0;34m(self, input, weight, bias)\u001b[0m\n\u001b[1;32m    449\u001b[0m \u001b[39mif\u001b[39;00m \u001b[39mself\u001b[39m\u001b[39m.\u001b[39mpadding_mode \u001b[39m!=\u001b[39m \u001b[39m'\u001b[39m\u001b[39mzeros\u001b[39m\u001b[39m'\u001b[39m:\n\u001b[1;32m    450\u001b[0m     \u001b[39mreturn\u001b[39;00m F\u001b[39m.\u001b[39mconv2d(F\u001b[39m.\u001b[39mpad(\u001b[39minput\u001b[39m, \u001b[39mself\u001b[39m\u001b[39m.\u001b[39m_reversed_padding_repeated_twice, mode\u001b[39m=\u001b[39m\u001b[39mself\u001b[39m\u001b[39m.\u001b[39mpadding_mode),\n\u001b[1;32m    451\u001b[0m                     weight, bias, \u001b[39mself\u001b[39m\u001b[39m.\u001b[39mstride,\n\u001b[1;32m    452\u001b[0m                     _pair(\u001b[39m0\u001b[39m), \u001b[39mself\u001b[39m\u001b[39m.\u001b[39mdilation, \u001b[39mself\u001b[39m\u001b[39m.\u001b[39mgroups)\n\u001b[0;32m--> 453\u001b[0m \u001b[39mreturn\u001b[39;00m F\u001b[39m.\u001b[39;49mconv2d(\u001b[39minput\u001b[39;49m, weight, bias, \u001b[39mself\u001b[39;49m\u001b[39m.\u001b[39;49mstride,\n\u001b[1;32m    454\u001b[0m                 \u001b[39mself\u001b[39;49m\u001b[39m.\u001b[39;49mpadding, \u001b[39mself\u001b[39;49m\u001b[39m.\u001b[39;49mdilation, \u001b[39mself\u001b[39;49m\u001b[39m.\u001b[39;49mgroups)\n",
      "\u001b[0;31mKeyboardInterrupt\u001b[0m: "
     ]
    }
   ],
   "source": [
    "average_loss = train_one_epoch(learner, dataloader, optimizer)"
   ]
  },
  {
   "cell_type": "code",
   "execution_count": null,
   "metadata": {},
   "outputs": [],
   "source": []
  }
 ],
 "metadata": {
  "kernelspec": {
   "display_name": "tactile_learning",
   "language": "python",
   "name": "python3"
  },
  "language_info": {
   "codemirror_mode": {
    "name": "ipython",
    "version": 3
   },
   "file_extension": ".py",
   "mimetype": "text/x-python",
   "name": "python",
   "nbconvert_exporter": "python",
   "pygments_lexer": "ipython3",
   "version": "3.9.13"
  },
  "orig_nbformat": 4,
  "vscode": {
   "interpreter": {
    "hash": "36852de55b288c46ba617fd48cf310240e4201e2f57004cbdac030fa23152bd3"
   }
  }
 },
 "nbformat": 4,
 "nbformat_minor": 2
}
