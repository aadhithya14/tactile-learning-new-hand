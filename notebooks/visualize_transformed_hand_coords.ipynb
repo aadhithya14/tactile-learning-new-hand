{
 "cells": [
  {
   "cell_type": "code",
   "execution_count": 1,
   "metadata": {},
   "outputs": [],
   "source": [
    "import os\n",
    "import cv2\n",
    "import matplotlib\n",
    "import matplotlib.pyplot as plt\n",
    "import h5py \n",
    "\n",
    "from tqdm import tqdm\n",
    "\n",
    "from holobot.utils.files import *\n",
    "from holobot.constants import *"
   ]
  },
  {
   "cell_type": "code",
   "execution_count": 2,
   "metadata": {},
   "outputs": [],
   "source": [
    "\n",
    "\n",
    "def plot_line(X1, X2, Y1, Y2):\n",
    "    plt.plot([X1, X2], [Y1, Y2])\n",
    "\n",
    "class PlotHand2D():\n",
    "    def __init__(self):\n",
    "\n",
    "        # Thumb bound info\n",
    "        self.thumb_bounds = None\n",
    "        self.thumb_bounds_path = VR_DISPLAY_THUMB_BOUNDS_PATH\n",
    "        self.bound_update_counter = 0\n",
    "        self._check_thumb_bounds()\n",
    "\n",
    "        # Checking image storage path\n",
    "        # make_dir(os.path.join(PLOT_PATH))\n",
    "        matplotlib.use('Agg')\n",
    "\n",
    "        # Figure settings\n",
    "        self.fig = plt.figure(figsize=(6, 6), dpi=60)\n",
    "\n",
    "    def _check_thumb_bounds(self):\n",
    "        if check_file(self.thumb_bounds_path):\n",
    "            self.thumb_bounds = get_npz_data(self.thumb_bounds_path)\n",
    "\n",
    "    def _set_limits(self):\n",
    "        plt.axis([-0.12, 0.12, -0.02, 0.2])\n",
    "\n",
    "    def _draw_thumb_bounds(self):\n",
    "        for idx in range(VR_THUMB_BOUND_VERTICES):\n",
    "            plot_line(\n",
    "                self.thumb_bounds[idx][0], \n",
    "                self.thumb_bounds[(idx + 1) % VR_THUMB_BOUND_VERTICES][0], \n",
    "                self.thumb_bounds[idx][1], \n",
    "                self.thumb_bounds[(idx + 1) % VR_THUMB_BOUND_VERTICES][1]\n",
    "            )\n",
    "        \n",
    "    def draw_hand(self, X, Y):\n",
    "        plt.plot(X, Y, 'ro')\n",
    "\n",
    "        if self.thumb_bounds is not None:\n",
    "            self._draw_thumb_bounds()\n",
    "\n",
    "        # Drawing connections fromn the wrist - 0\n",
    "        for idx in OCULUS_JOINTS['metacarpals']:\n",
    "            plot_line(X[0], X[idx], Y[0], Y[idx])\n",
    "\n",
    "        # Drawing knuckle to knuckle connections and knuckle to finger connections\n",
    "        for key in ['knuckles', 'thumb', 'index', 'middle', 'ring', 'pinky']:\n",
    "            for idx in range(len(OCULUS_JOINTS[key]) - 1):\n",
    "                plot_line(\n",
    "                    X[OCULUS_JOINTS[key][idx]], \n",
    "                    X[OCULUS_JOINTS[key][idx + 1]], \n",
    "                    Y[OCULUS_JOINTS[key][idx]], \n",
    "                    Y[OCULUS_JOINTS[key][idx + 1]]\n",
    "                )\n",
    "\n",
    "    def draw(self, X, Y, fig_path=None):\n",
    "        # Setting the plot limits\n",
    "        self._set_limits()\n",
    "\n",
    "        # Resetting the thumb bounds\n",
    "        if self.bound_update_counter % 10 == 0:\n",
    "            self._check_thumb_bounds()\n",
    "            self.bound_update_counter = 0\n",
    "        else:\n",
    "            self.bound_update_counter += 1\n",
    "\n",
    "        # Plotting the lines to visualize the hand\n",
    "        self.draw_hand(X, Y)\n",
    "\n",
    "        # Saving and obtaining the plot\n",
    "        plt.savefig(fig_path)\n",
    "\n",
    "        # Resetting and pausing the 3D plot\n",
    "        # plt.pause(0.001) # This make the graph show up if matplotlib is in Tkinter mode\n",
    "        plt.cla()"
   ]
  },
  {
   "cell_type": "code",
   "execution_count": 3,
   "metadata": {},
   "outputs": [],
   "source": [
    "\n",
    "def dump_states(root, keypoint_indices, image_indices, view_num=0):\n",
    "    # Make directory to dump the visualization\n",
    "    pbar = tqdm(total=len(keypoint_indices))\n",
    "\n",
    "    with h5py.File(os.path.join(root, 'keypoints.h5'), 'r') as f:\n",
    "        hand_keypoints = f['transformed_hand_coords'][()]\n",
    "\n",
    "    viz_dir = os.path.join(root, 'visualization')\n",
    "    os.makedirs(viz_dir, exist_ok=True)\n",
    "\n",
    "    # Get the hand plotter\n",
    "    hand_plotter = PlotHand2D()\n",
    "    \n",
    "    video_path = os.path.join(root, f'cam_{view_num}_rgb_video.avi')\n",
    "    vidcap = cv2.VideoCapture(video_path)\n",
    "    success, image = vidcap.read()\n",
    "    frame_count = int(vidcap.get(cv2.CAP_PROP_FRAME_COUNT))\n",
    "    frame_id = 0\n",
    "    for i in range(len(keypoint_indices)):\n",
    "        [_, keypoint_id], [_, image_id] = keypoint_indices[i], image_indices[i]\n",
    "        while frame_id != image_id and success:\n",
    "            # Find the frame that is equal to image_id\n",
    "            success, image = vidcap.read()\n",
    "            frame_id += 1\n",
    "        dump_demo_state(\n",
    "            frame_id = i,\n",
    "            viz_dir = viz_dir,\n",
    "            hand_plotter = hand_plotter,\n",
    "            keypoint_values = hand_keypoints[keypoint_id,:],\n",
    "            camera_img = image\n",
    "        )\n",
    "\n",
    "        pbar.update(1)\n",
    "\n",
    "    pbar.close()\n",
    "\n",
    "def dump_demo_state(frame_id, viz_dir, hand_plotter, keypoint_values, camera_img):\n",
    "    hand_plotter.draw(\n",
    "        keypoint_values[:, 0], keypoint_values[:, 1],\n",
    "        fig_path=os.path.join(viz_dir, 'hand_coords.png'))\n",
    "\n",
    "    hand_coord_img = cv2.imread(os.path.join(viz_dir, 'hand_coords.png'))\n",
    "    height_scale = camera_img.shape[0] / hand_coord_img.shape[0]\n",
    "    hand_coord_img = cv2.resize(\n",
    "        hand_coord_img,\n",
    "        (int(hand_coord_img.shape[1] * height_scale),\n",
    "         int(hand_coord_img.shape[0] * height_scale))\n",
    "    )\n",
    "    total_img = cv2.hconcat([camera_img, hand_coord_img])\n",
    "\n",
    "    img_name = 'state_{}.png'.format(str(frame_id).zfill(3))\n",
    "    cv2.imwrite(os.path.join(viz_dir, img_name), total_img)\n",
    "\n"
   ]
  },
  {
   "cell_type": "code",
   "execution_count": 4,
   "metadata": {},
   "outputs": [],
   "source": [
    "def load_indices(root):\n",
    "    with open(os.path.join(root, 'keypoint_indices.pkl'), 'rb') as f:\n",
    "        keypoint_indices = pickle.load(f)\n",
    "\n",
    "    with open(os.path.join(root, 'image_indices.pkl'), 'rb') as f:\n",
    "        image_indices = pickle.load(f)\n",
    "\n",
    "    return keypoint_indices, image_indices"
   ]
  },
  {
   "cell_type": "code",
   "execution_count": 5,
   "metadata": {},
   "outputs": [
    {
     "name": "stdout",
     "output_type": "stream",
     "text": [
      "keypoint_indices: [[5, 0], [5, 2]], image_indices: [[5, 5], [5, 14]]\n"
     ]
    },
    {
     "name": "stderr",
     "output_type": "stream",
     "text": [
      "100%|██████████| 2/2 [00:00<00:00,  4.14it/s]\n"
     ]
    },
    {
     "name": "stdout",
     "output_type": "stream",
     "text": [
      "keypoint_indices: [[0, 0], [0, 19], [0, 37], [0, 55], [0, 73], [0, 91], [0, 109], [0, 127], [0, 145], [0, 163], [0, 181], [0, 198], [0, 216], [0, 234], [0, 252], [0, 270], [0, 288], [0, 306], [0, 324], [0, 342], [0, 360], [0, 378], [0, 396], [0, 414], [0, 432], [0, 450], [0, 468], [0, 486], [0, 504], [0, 522], [0, 540], [0, 558], [0, 576], [0, 594], [0, 610], [0, 629], [0, 647], [0, 665], [0, 683], [0, 701], [0, 719], [0, 737], [0, 755], [0, 773], [0, 791], [0, 809], [0, 827], [0, 845], [0, 863], [0, 881], [0, 898]], image_indices: [[0, 530], [0, 539], [0, 548], [0, 557], [0, 566], [0, 575], [0, 584], [0, 593], [0, 602], [0, 611], [0, 620], [0, 629], [0, 638], [0, 647], [0, 656], [0, 665], [0, 674], [0, 683], [0, 692], [0, 701], [0, 710], [0, 719], [0, 728], [0, 737], [0, 746], [0, 755], [0, 764], [0, 773], [0, 782], [0, 791], [0, 800], [0, 809], [0, 818], [0, 827], [0, 836], [0, 845], [0, 854], [0, 863], [0, 872], [0, 880], [0, 889], [0, 898], [0, 907], [0, 916], [0, 925], [0, 934], [0, 943], [0, 952], [0, 961], [0, 970], [0, 976]]\n"
     ]
    },
    {
     "name": "stderr",
     "output_type": "stream",
     "text": [
      "100%|██████████| 51/51 [00:07<00:00,  6.85it/s]\n"
     ]
    },
    {
     "name": "stdout",
     "output_type": "stream",
     "text": [
      "keypoint_indices: [[1, 0], [1, 18], [1, 36], [1, 54], [1, 72], [1, 90], [1, 108], [1, 126], [1, 144], [1, 162], [1, 180], [1, 198], [1, 216], [1, 234], [1, 252], [1, 270], [1, 288], [1, 306], [1, 324], [1, 342], [1, 360], [1, 377], [1, 395], [1, 413], [1, 431], [1, 449], [1, 467], [1, 485], [1, 503], [1, 521], [1, 539], [1, 557], [1, 575], [1, 593], [1, 611], [1, 629], [1, 647], [1, 665], [1, 683], [1, 701], [1, 719], [1, 737], [1, 755], [1, 773], [1, 791], [1, 807], [1, 825], [1, 843], [1, 861], [1, 879], [1, 897], [1, 915], [1, 933], [1, 951], [1, 969], [1, 987], [1, 999]], image_indices: [[1, 4], [1, 13], [1, 22], [1, 31], [1, 40], [1, 49], [1, 58], [1, 67], [1, 76], [1, 84], [1, 93], [1, 101], [1, 110], [1, 119], [1, 128], [1, 137], [1, 146], [1, 155], [1, 164], [1, 173], [1, 182], [1, 191], [1, 200], [1, 209], [1, 218], [1, 227], [1, 236], [1, 245], [1, 254], [1, 263], [1, 272], [1, 281], [1, 290], [1, 299], [1, 308], [1, 317], [1, 326], [1, 335], [1, 344], [1, 353], [1, 362], [1, 371], [1, 380], [1, 389], [1, 398], [1, 407], [1, 416], [1, 425], [1, 434], [1, 443], [1, 452], [1, 461], [1, 470], [1, 479], [1, 488], [1, 497], [1, 506]]\n"
     ]
    },
    {
     "name": "stderr",
     "output_type": "stream",
     "text": [
      "100%|██████████| 57/57 [00:08<00:00,  6.78it/s]\n"
     ]
    },
    {
     "name": "stdout",
     "output_type": "stream",
     "text": [
      "keypoint_indices: [[4, 0], [4, 19], [4, 37], [4, 55], [4, 73], [4, 91], [4, 109], [4, 125], [4, 143], [4, 161], [4, 179], [4, 197], [4, 215], [4, 233], [4, 251], [4, 269], [4, 287], [4, 305], [4, 323], [4, 341], [4, 359], [4, 377], [4, 395], [4, 413], [4, 431], [4, 449], [4, 467], [4, 485], [4, 503], [4, 521], [4, 539], [4, 554], [4, 572], [4, 590], [4, 608], [4, 626], [4, 644], [4, 662], [4, 680], [4, 698], [4, 716], [4, 734], [4, 752], [4, 770], [4, 788], [4, 806], [4, 824], [4, 842]], image_indices: [[4, 9], [4, 18], [4, 27], [4, 36], [4, 45], [4, 54], [4, 63], [4, 72], [4, 81], [4, 90], [4, 99], [4, 108], [4, 117], [4, 126], [4, 135], [4, 144], [4, 153], [4, 162], [4, 171], [4, 180], [4, 189], [4, 198], [4, 207], [4, 216], [4, 225], [4, 234], [4, 243], [4, 252], [4, 261], [4, 270], [4, 278], [4, 287], [4, 296], [4, 305], [4, 314], [4, 323], [4, 332], [4, 341], [4, 350], [4, 359], [4, 368], [4, 377], [4, 386], [4, 395], [4, 404], [4, 413], [4, 422], [4, 430]]\n"
     ]
    },
    {
     "name": "stderr",
     "output_type": "stream",
     "text": [
      "100%|██████████| 48/48 [00:06<00:00,  7.15it/s]\n"
     ]
    },
    {
     "name": "stdout",
     "output_type": "stream",
     "text": [
      "keypoint_indices: [[3, 0], [3, 18], [3, 36], [3, 54], [3, 72], [3, 90], [3, 108], [3, 126], [3, 144], [3, 162], [3, 180], [3, 196], [3, 214], [3, 232], [3, 248], [3, 266], [3, 284], [3, 302], [3, 320], [3, 338], [3, 356], [3, 374], [3, 392], [3, 410], [3, 428], [3, 446], [3, 464], [3, 482], [3, 500], [3, 518], [3, 536], [3, 554], [3, 572], [3, 590], [3, 608], [3, 624], [3, 642], [3, 660], [3, 678], [3, 696], [3, 714], [3, 732], [3, 750], [3, 768], [3, 786], [3, 804], [3, 822], [3, 832]], image_indices: [[3, 8], [3, 17], [3, 26], [3, 35], [3, 44], [3, 53], [3, 62], [3, 71], [3, 80], [3, 89], [3, 98], [3, 107], [3, 116], [3, 125], [3, 134], [3, 143], [3, 152], [3, 161], [3, 170], [3, 179], [3, 188], [3, 197], [3, 206], [3, 215], [3, 224], [3, 233], [3, 242], [3, 251], [3, 260], [3, 269], [3, 278], [3, 287], [3, 296], [3, 305], [3, 314], [3, 323], [3, 332], [3, 341], [3, 350], [3, 359], [3, 368], [3, 377], [3, 386], [3, 395], [3, 404], [3, 413], [3, 422], [3, 424]]\n"
     ]
    },
    {
     "name": "stderr",
     "output_type": "stream",
     "text": [
      "100%|██████████| 48/48 [00:07<00:00,  6.63it/s]\n"
     ]
    },
    {
     "name": "stdout",
     "output_type": "stream",
     "text": [
      "keypoint_indices: [[2, 0], [2, 18], [2, 36], [2, 54], [2, 72], [2, 90], [2, 108], [2, 126], [2, 144], [2, 162], [2, 180], [2, 198], [2, 216], [2, 234], [2, 252], [2, 270], [2, 288], [2, 306], [2, 324], [2, 342], [2, 360], [2, 378], [2, 396], [2, 414], [2, 432], [2, 450], [2, 468], [2, 486], [2, 500], [2, 518], [2, 536], [2, 554], [2, 572], [2, 590], [2, 608], [2, 626], [2, 644], [2, 662], [2, 680], [2, 698], [2, 716], [2, 734], [2, 752], [2, 770], [2, 788], [2, 806], [2, 824], [2, 842], [2, 860], [2, 878], [2, 896], [2, 914], [2, 931], [2, 947]], image_indices: [[2, 3], [2, 12], [2, 21], [2, 30], [2, 39], [2, 48], [2, 57], [2, 66], [2, 75], [2, 84], [2, 93], [2, 102], [2, 111], [2, 120], [2, 129], [2, 138], [2, 147], [2, 156], [2, 165], [2, 174], [2, 183], [2, 192], [2, 201], [2, 210], [2, 219], [2, 228], [2, 237], [2, 246], [2, 255], [2, 264], [2, 273], [2, 282], [2, 291], [2, 300], [2, 309], [2, 318], [2, 327], [2, 336], [2, 345], [2, 354], [2, 363], [2, 372], [2, 381], [2, 390], [2, 399], [2, 408], [2, 417], [2, 426], [2, 435], [2, 444], [2, 453], [2, 462], [2, 471], [2, 476]]\n"
     ]
    },
    {
     "name": "stderr",
     "output_type": "stream",
     "text": [
      "100%|██████████| 54/54 [00:07<00:00,  7.11it/s]\n"
     ]
    }
   ],
   "source": [
    "import glob\n",
    "data_path = '/home/irmak/Workspace/Holo-Bot/extracted_data/human_sponge_flipping'\n",
    "roots = glob.glob(f'{data_path}/demonstration_*')\n",
    "\n",
    "view_num = 0\n",
    "for root in roots:\n",
    "    keypoint_indices, image_indices = load_indices(root)\n",
    "    print('keypoint_indices: {}, image_indices: {}'.format(keypoint_indices, image_indices))\n",
    "    dump_states(root, keypoint_indices, image_indices, view_num=view_num)\n"
   ]
  },
  {
   "cell_type": "code",
   "execution_count": 6,
   "metadata": {},
   "outputs": [
    {
     "name": "stdout",
     "output_type": "stream",
     "text": [
      "dumping video in root: /home/irmak/Workspace/Holo-Bot/extracted_data/human_sponge_flipping/demonstration_8\n"
     ]
    },
    {
     "name": "stderr",
     "output_type": "stream",
     "text": [
      "ffmpeg version 5.1.2 Copyright (c) 2000-2022 the FFmpeg developers\n",
      "  built with gcc 10.4.0 (conda-forge gcc 10.4.0-18)\n",
      "  configuration: --prefix=/home/irmak/miniconda3/envs/tactile_learning --cc=/home/conda/feedstock_root/build_artifacts/ffmpeg_1666357487580/_build_env/bin/x86_64-conda-linux-gnu-cc --cxx=/home/conda/feedstock_root/build_artifacts/ffmpeg_1666357487580/_build_env/bin/x86_64-conda-linux-gnu-c++ --nm=/home/conda/feedstock_root/build_artifacts/ffmpeg_1666357487580/_build_env/bin/x86_64-conda-linux-gnu-nm --ar=/home/conda/feedstock_root/build_artifacts/ffmpeg_1666357487580/_build_env/bin/x86_64-conda-linux-gnu-ar --disable-doc --disable-openssl --enable-demuxer=dash --enable-hardcoded-tables --enable-libfreetype --enable-libfontconfig --enable-libopenh264 --enable-gnutls --enable-libmp3lame --enable-libvpx --enable-pthreads --enable-vaapi --enable-gpl --enable-libx264 --enable-libx265 --enable-libaom --enable-libsvtav1 --enable-libxml2 --enable-pic --enable-shared --disable-static --enable-version3 --enable-zlib --pkg-config=/home/conda/feedstock_root/build_artifacts/ffmpeg_1666357487580/_build_env/bin/pkg-config\n",
      "  libavutil      57. 28.100 / 57. 28.100\n",
      "  libavcodec     59. 37.100 / 59. 37.100\n",
      "  libavformat    59. 27.100 / 59. 27.100\n",
      "  libavdevice    59.  7.100 / 59.  7.100\n",
      "  libavfilter     8. 44.100 /  8. 44.100\n",
      "  libswscale      6.  7.100 /  6.  7.100\n",
      "  libswresample   4.  7.100 /  4.  7.100\n",
      "  libpostproc    56.  6.100 / 56.  6.100\n",
      "[image2 @ 0x55ee27b2e640] Pattern type 'glob_sequence' is deprecated: use pattern_type 'glob' instead\n",
      "Input #0, image2, from '/home/irmak/Workspace/Holo-Bot/extracted_data/human_sponge_flipping/demonstration_8/visualization/%*.png':\n",
      "  Duration: 00:00:00.12, start: 0.000000, bitrate: N/A\n",
      "  Stream #0:0: Video: png, rgba(pc), 360x360 [SAR 2362:2362 DAR 1:1], 25 fps, 25 tbr, 25 tbn\n",
      "Stream mapping:\n",
      "  Stream #0:0 -> #0:0 (png (native) -> h264 (libx264))\n",
      "Press [q] to stop, [?] for help\n",
      "[libx264 @ 0x55ee27b32a00] using SAR=1/1\n",
      "[libx264 @ 0x55ee27b32a00] using cpu capabilities: MMX2 SSE2Fast SSSE3 SSE4.2 AVX FMA3 BMI2 AVX2\n",
      "[libx264 @ 0x55ee27b32a00] profile High 4:4:4 Predictive, level 4.0, 4:4:4, 8-bit\n",
      "[libx264 @ 0x55ee27b32a00] 264 - core 164 r3095 baee400 - H.264/MPEG-4 AVC codec - Copyleft 2003-2022 - http://www.videolan.org/x264.html - options: cabac=1 ref=3 deblock=1:0:0 analyse=0x3:0x113 me=hex subme=7 psy=1 psy_rd=1.00:0.00 mixed_ref=1 me_range=16 chroma_me=1 trellis=1 8x8dct=1 cqm=0 deadzone=21,11 fast_pskip=1 chroma_qp_offset=4 threads=22 lookahead_threads=3 sliced_threads=0 nr=0 decimate=1 interlaced=0 bluray_compat=0 constrained_intra=0 bframes=3 b_pyramid=2 b_adapt=1 b_bias=0 direct=1 weightb=1 open_gop=0 weightp=2 keyint=250 keyint_min=8 scenecut=40 intra_refresh=0 rc_lookahead=40 rc=crf mbtree=1 crf=23.0 qcomp=0.60 qpmin=0 qpmax=69 qpstep=4 ip_ratio=1.40 aq=1:1.00\n",
      "Output #0, mp4, to '/home/irmak/Workspace/Holo-Bot/extracted_data/human_sponge_flipping/demonstration_8/visualization_0.mp4':\n",
      "  Metadata:\n",
      "    encoder         : Lavf59.27.100\n",
      "  Stream #0:0: Video: h264 (avc1 / 0x31637661), yuv444p(tv, progressive), 2000x720 [SAR 1:1 DAR 25:9], q=2-31, 8 fps, 16384 tbn\n",
      "    Metadata:\n",
      "      encoder         : Lavc59.37.100 libx264\n",
      "    Side data:\n",
      "      cpb: bitrate max/min/avg: 0/0/0 buffer size: 0 vbv_delay: N/A\n",
      "frame=    3 fps=0.0 q=-1.0 Lsize=      95kB time=00:00:00.00 bitrate=12786229.5kbits/s speed=0.000164x    \n",
      "video:94kB audio:0kB subtitle:0kB other streams:0kB global headers:0kB muxing overhead: 0.928591%\n",
      "[libx264 @ 0x55ee27b32a00] frame I:2     Avg QP:19.51  size: 32660\n",
      "[libx264 @ 0x55ee27b32a00] frame P:1     Avg QP:21.56  size: 30590\n",
      "[libx264 @ 0x55ee27b32a00] mb I  I16..4: 17.7% 77.3%  5.0%\n",
      "[libx264 @ 0x55ee27b32a00] mb P  I16..4:  1.7% 24.4%  0.2%  P16..4: 26.2%  7.1%  4.1%  0.0%  0.0%    skip:36.3%\n",
      "[libx264 @ 0x55ee27b32a00] 8x8 transform intra:79.1% inter:88.6%\n",
      "[libx264 @ 0x55ee27b32a00] coded y,u,v intra: 37.0% 19.6% 16.5% inter: 27.0% 18.4% 13.7%\n",
      "[libx264 @ 0x55ee27b32a00] i16 v,h,dc,p: 56% 30%  3% 11%\n",
      "[libx264 @ 0x55ee27b32a00] i8 v,h,dc,ddl,ddr,vr,hd,vl,hu: 27% 19% 42%  2%  1%  1%  2%  2%  3%\n",
      "[libx264 @ 0x55ee27b32a00] i4 v,h,dc,ddl,ddr,vr,hd,vl,hu: 35% 30% 12%  3%  4%  4%  4%  4%  4%\n",
      "[libx264 @ 0x55ee27b32a00] Weighted P-Frames: Y:0.0% UV:0.0%\n",
      "[libx264 @ 0x55ee27b32a00] ref P L0: 87.0% 12.5%  0.5%\n",
      "[libx264 @ 0x55ee27b32a00] kb/s:2046.08\n",
      "ffmpeg version 5.1.2 Copyright (c) 2000-2022 the FFmpeg developers\n",
      "  built with gcc 10.4.0 (conda-forge gcc 10.4.0-18)\n",
      "  configuration: --prefix=/home/irmak/miniconda3/envs/tactile_learning --cc=/home/conda/feedstock_root/build_artifacts/ffmpeg_1666357487580/_build_env/bin/x86_64-conda-linux-gnu-cc --cxx=/home/conda/feedstock_root/build_artifacts/ffmpeg_1666357487580/_build_env/bin/x86_64-conda-linux-gnu-c++ --nm=/home/conda/feedstock_root/build_artifacts/ffmpeg_1666357487580/_build_env/bin/x86_64-conda-linux-gnu-nm --ar=/home/conda/feedstock_root/build_artifacts/ffmpeg_1666357487580/_build_env/bin/x86_64-conda-linux-gnu-ar --disable-doc --disable-openssl --enable-demuxer=dash --enable-hardcoded-tables --enable-libfreetype --enable-libfontconfig --enable-libopenh264 --enable-gnutls --enable-libmp3lame --enable-libvpx --enable-pthreads --enable-vaapi --enable-gpl --enable-libx264 --enable-libx265 --enable-libaom --enable-libsvtav1 --enable-libxml2 --enable-pic --enable-shared --disable-static --enable-version3 --enable-zlib --pkg-config=/home/conda/feedstock_root/build_artifacts/ffmpeg_1666357487580/_build_env/bin/pkg-config\n",
      "  libavutil      57. 28.100 / 57. 28.100\n",
      "  libavcodec     59. 37.100 / 59. 37.100\n",
      "  libavformat    59. 27.100 / 59. 27.100\n",
      "  libavdevice    59.  7.100 / 59.  7.100\n",
      "  libavfilter     8. 44.100 /  8. 44.100\n",
      "  libswscale      6.  7.100 /  6.  7.100\n",
      "  libswresample   4.  7.100 /  4.  7.100\n",
      "  libpostproc    56.  6.100 / 56.  6.100\n",
      "[image2 @ 0x556523876640] Pattern type 'glob_sequence' is deprecated: use pattern_type 'glob' instead\n"
     ]
    },
    {
     "name": "stdout",
     "output_type": "stream",
     "text": [
      "dumping video in root: /home/irmak/Workspace/Holo-Bot/extracted_data/human_sponge_flipping/demonstration_1\n"
     ]
    },
    {
     "name": "stderr",
     "output_type": "stream",
     "text": [
      "Input #0, image2, from '/home/irmak/Workspace/Holo-Bot/extracted_data/human_sponge_flipping/demonstration_1/visualization/%*.png':\n",
      "  Duration: 00:00:02.08, start: 0.000000, bitrate: N/A\n",
      "  Stream #0:0: Video: png, rgba(pc), 360x360 [SAR 2362:2362 DAR 1:1], 25 fps, 25 tbr, 25 tbn\n",
      "Stream mapping:\n",
      "  Stream #0:0 -> #0:0 (png (native) -> h264 (libx264))\n",
      "Press [q] to stop, [?] for help\n",
      "[libx264 @ 0x55652387bc80] using SAR=1/1\n",
      "[libx264 @ 0x55652387bc80] using cpu capabilities: MMX2 SSE2Fast SSSE3 SSE4.2 AVX FMA3 BMI2 AVX2\n",
      "[libx264 @ 0x55652387bc80] profile High 4:4:4 Predictive, level 4.0, 4:4:4, 8-bit\n",
      "[libx264 @ 0x55652387bc80] 264 - core 164 r3095 baee400 - H.264/MPEG-4 AVC codec - Copyleft 2003-2022 - http://www.videolan.org/x264.html - options: cabac=1 ref=3 deblock=1:0:0 analyse=0x3:0x113 me=hex subme=7 psy=1 psy_rd=1.00:0.00 mixed_ref=1 me_range=16 chroma_me=1 trellis=1 8x8dct=1 cqm=0 deadzone=21,11 fast_pskip=1 chroma_qp_offset=4 threads=22 lookahead_threads=3 sliced_threads=0 nr=0 decimate=1 interlaced=0 bluray_compat=0 constrained_intra=0 bframes=3 b_pyramid=2 b_adapt=1 b_bias=0 direct=1 weightb=1 open_gop=0 weightp=2 keyint=250 keyint_min=8 scenecut=40 intra_refresh=0 rc_lookahead=40 rc=crf mbtree=1 crf=23.0 qcomp=0.60 qpmin=0 qpmax=69 qpstep=4 ip_ratio=1.40 aq=1:1.00\n",
      "Output #0, mp4, to '/home/irmak/Workspace/Holo-Bot/extracted_data/human_sponge_flipping/demonstration_1/visualization_0.mp4':\n",
      "  Metadata:\n",
      "    encoder         : Lavf59.27.100\n",
      "  Stream #0:0: Video: h264 (avc1 / 0x31637661), yuv444p(tv, progressive), 2000x720 [SAR 1:1 DAR 25:9], q=2-31, 8 fps, 16384 tbn\n",
      "    Metadata:\n",
      "      encoder         : Lavc59.37.100 libx264\n",
      "    Side data:\n",
      "      cpb: bitrate max/min/avg: 0/0/0 buffer size: 0 vbv_delay: N/A\n",
      "frame=   52 fps=0.0 q=-1.0 Lsize=    1289kB time=00:00:06.12 bitrate=1723.9kbits/s speed= 6.2x    \n",
      "video:1288kB audio:0kB subtitle:0kB other streams:0kB global headers:0kB muxing overhead: 0.113242%\n",
      "[libx264 @ 0x55652387bc80] frame I:2     Avg QP:18.72  size: 36718\n",
      "[libx264 @ 0x55652387bc80] frame P:13    Avg QP:19.47  size: 35779\n",
      "[libx264 @ 0x55652387bc80] frame B:37    Avg QP:20.58  size: 21058\n",
      "[libx264 @ 0x55652387bc80] consecutive B-frames:  3.8%  0.0% 11.5% 84.6%\n",
      "[libx264 @ 0x55652387bc80] mb I  I16..4: 17.3% 77.5%  5.3%\n",
      "[libx264 @ 0x55652387bc80] mb P  I16..4:  4.2% 30.7%  0.5%  P16..4: 18.0%  8.0%  4.1%  0.0%  0.0%    skip:34.6%\n",
      "[libx264 @ 0x55652387bc80] mb B  I16..4:  1.0% 10.8%  0.1%  B16..8: 22.6%  5.1%  1.0%  direct: 7.2%  skip:52.3%  L0:49.5% L1:41.3% BI: 9.2%\n",
      "[libx264 @ 0x55652387bc80] 8x8 transform intra:86.9% inter:86.3%\n",
      "[libx264 @ 0x55652387bc80] coded y,u,v intra: 64.4% 33.8% 27.8% inter: 22.0% 15.6% 13.1%\n",
      "[libx264 @ 0x55652387bc80] i16 v,h,dc,p: 29% 26% 15% 29%\n",
      "[libx264 @ 0x55652387bc80] i8 v,h,dc,ddl,ddr,vr,hd,vl,hu: 14% 23% 49%  2%  2%  2%  3%  2%  4%\n",
      "[libx264 @ 0x55652387bc80] i4 v,h,dc,ddl,ddr,vr,hd,vl,hu: 30% 28% 17%  3%  4%  5%  5%  4%  4%\n",
      "[libx264 @ 0x55652387bc80] Weighted P-Frames: Y:7.7% UV:0.0%\n",
      "[libx264 @ 0x55652387bc80] ref P L0: 41.5% 11.3% 25.9% 21.2%  0.2%\n",
      "[libx264 @ 0x55652387bc80] ref B L0: 72.5% 22.0%  5.5%\n",
      "[libx264 @ 0x55652387bc80] ref B L1: 90.3%  9.7%\n",
      "[libx264 @ 0x55652387bc80] kb/s:1621.82\n",
      "ffmpeg version 5.1.2 Copyright (c) 2000-2022 the FFmpeg developers\n",
      "  built with gcc 10.4.0 (conda-forge gcc 10.4.0-18)\n",
      "  configuration: --prefix=/home/irmak/miniconda3/envs/tactile_learning --cc=/home/conda/feedstock_root/build_artifacts/ffmpeg_1666357487580/_build_env/bin/x86_64-conda-linux-gnu-cc --cxx=/home/conda/feedstock_root/build_artifacts/ffmpeg_1666357487580/_build_env/bin/x86_64-conda-linux-gnu-c++ --nm=/home/conda/feedstock_root/build_artifacts/ffmpeg_1666357487580/_build_env/bin/x86_64-conda-linux-gnu-nm --ar=/home/conda/feedstock_root/build_artifacts/ffmpeg_1666357487580/_build_env/bin/x86_64-conda-linux-gnu-ar --disable-doc --disable-openssl --enable-demuxer=dash --enable-hardcoded-tables --enable-libfreetype --enable-libfontconfig --enable-libopenh264 --enable-gnutls --enable-libmp3lame --enable-libvpx --enable-pthreads --enable-vaapi --enable-gpl --enable-libx264 --enable-libx265 --enable-libaom --enable-libsvtav1 --enable-libxml2 --enable-pic --enable-shared --disable-static --enable-version3 --enable-zlib --pkg-config=/home/conda/feedstock_root/build_artifacts/ffmpeg_1666357487580/_build_env/bin/pkg-config\n",
      "  libavutil      57. 28.100 / 57. 28.100\n",
      "  libavcodec     59. 37.100 / 59. 37.100\n",
      "  libavformat    59. 27.100 / 59. 27.100\n",
      "  libavdevice    59.  7.100 / 59.  7.100\n",
      "  libavfilter     8. 44.100 /  8. 44.100\n",
      "  libswscale      6.  7.100 /  6.  7.100\n",
      "  libswresample   4.  7.100 /  4.  7.100\n",
      "  libpostproc    56.  6.100 / 56.  6.100\n",
      "[image2 @ 0x5634cee7e640] Pattern type 'glob_sequence' is deprecated: use pattern_type 'glob' instead\n",
      "Input #0, image2, from '/home/irmak/Workspace/Holo-Bot/extracted_data/human_sponge_flipping/demonstration_2/visualization/%*.png':\n",
      "  Duration: 00:00:02.32, start: 0.000000, bitrate: N/A\n",
      "  Stream #0:0: Video: png, rgba(pc), 360x360 [SAR 2362:2362 DAR 1:1], 25 fps, 25 tbr, 25 tbn\n",
      "Stream mapping:\n",
      "  Stream #0:0 -> #0:0 (png (native) -> h264 (libx264))\n",
      "Press [q] to stop, [?] for help\n"
     ]
    },
    {
     "name": "stdout",
     "output_type": "stream",
     "text": [
      "dumping video in root: /home/irmak/Workspace/Holo-Bot/extracted_data/human_sponge_flipping/demonstration_2\n"
     ]
    },
    {
     "name": "stderr",
     "output_type": "stream",
     "text": [
      "[libx264 @ 0x5634cee83c80] using SAR=1/1\n",
      "[libx264 @ 0x5634cee83c80] using cpu capabilities: MMX2 SSE2Fast SSSE3 SSE4.2 AVX FMA3 BMI2 AVX2\n",
      "[libx264 @ 0x5634cee83c80] profile High 4:4:4 Predictive, level 4.0, 4:4:4, 8-bit\n",
      "[libx264 @ 0x5634cee83c80] 264 - core 164 r3095 baee400 - H.264/MPEG-4 AVC codec - Copyleft 2003-2022 - http://www.videolan.org/x264.html - options: cabac=1 ref=3 deblock=1:0:0 analyse=0x3:0x113 me=hex subme=7 psy=1 psy_rd=1.00:0.00 mixed_ref=1 me_range=16 chroma_me=1 trellis=1 8x8dct=1 cqm=0 deadzone=21,11 fast_pskip=1 chroma_qp_offset=4 threads=22 lookahead_threads=3 sliced_threads=0 nr=0 decimate=1 interlaced=0 bluray_compat=0 constrained_intra=0 bframes=3 b_pyramid=2 b_adapt=1 b_bias=0 direct=1 weightb=1 open_gop=0 weightp=2 keyint=250 keyint_min=8 scenecut=40 intra_refresh=0 rc_lookahead=40 rc=crf mbtree=1 crf=23.0 qcomp=0.60 qpmin=0 qpmax=69 qpstep=4 ip_ratio=1.40 aq=1:1.00\n",
      "Output #0, mp4, to '/home/irmak/Workspace/Holo-Bot/extracted_data/human_sponge_flipping/demonstration_2/visualization_0.mp4':\n",
      "  Metadata:\n",
      "    encoder         : Lavf59.27.100\n",
      "  Stream #0:0: Video: h264 (avc1 / 0x31637661), yuv444p(tv, progressive), 2000x720 [SAR 1:1 DAR 25:9], q=2-31, 8 fps, 16384 tbn\n",
      "    Metadata:\n",
      "      encoder         : Lavc59.37.100 libx264\n",
      "    Side data:\n",
      "      cpb: bitrate max/min/avg: 0/0/0 buffer size: 0 vbv_delay: N/A\n",
      "frame=   58 fps= 56 q=-1.0 Lsize=    1536kB time=00:00:06.87 bitrate=1830.1kbits/s speed=6.65x    \n",
      "video:1534kB audio:0kB subtitle:0kB other streams:0kB global headers:0kB muxing overhead: 0.100115%\n",
      "[libx264 @ 0x5634cee83c80] frame I:2     Avg QP:18.02  size: 35312\n",
      "[libx264 @ 0x5634cee83c80] frame P:15    Avg QP:19.45  size: 36783\n",
      "[libx264 @ 0x5634cee83c80] frame B:41    Avg QP:20.61  size: 23125\n",
      "[libx264 @ 0x5634cee83c80] consecutive B-frames:  5.2%  0.0%  5.2% 89.7%\n",
      "[libx264 @ 0x5634cee83c80] mb I  I16..4: 20.0% 75.0%  5.0%\n",
      "[libx264 @ 0x5634cee83c80] mb P  I16..4:  4.0% 34.0%  0.5%  P16..4: 15.7%  7.2%  3.8%  0.0%  0.0%    skip:34.9%\n",
      "[libx264 @ 0x5634cee83c80] mb B  I16..4:  1.0% 12.9%  0.1%  B16..8: 21.5%  5.0%  1.0%  direct: 7.4%  skip:51.0%  L0:49.0% L1:42.5% BI: 8.5%\n",
      "[libx264 @ 0x5634cee83c80] 8x8 transform intra:87.9% inter:87.2%\n",
      "[libx264 @ 0x5634cee83c80] coded y,u,v intra: 68.1% 35.8% 30.2% inter: 22.6% 16.3% 14.1%\n",
      "[libx264 @ 0x5634cee83c80] i16 v,h,dc,p: 29% 24% 14% 33%\n",
      "[libx264 @ 0x5634cee83c80] i8 v,h,dc,ddl,ddr,vr,hd,vl,hu: 14% 23% 48%  2%  2%  2%  3%  2%  4%\n",
      "[libx264 @ 0x5634cee83c80] i4 v,h,dc,ddl,ddr,vr,hd,vl,hu: 27% 27% 19%  3%  5%  5%  6%  4%  4%\n",
      "[libx264 @ 0x5634cee83c80] Weighted P-Frames: Y:0.0% UV:0.0%\n",
      "[libx264 @ 0x5634cee83c80] ref P L0: 42.3% 12.8% 26.7% 18.2%\n",
      "[libx264 @ 0x5634cee83c80] ref B L0: 72.5% 21.9%  5.6%\n",
      "[libx264 @ 0x5634cee83c80] ref B L1: 89.8% 10.2%\n",
      "[libx264 @ 0x5634cee83c80] kb/s:1732.97\n",
      "ffmpeg version 5.1.2 Copyright (c) 2000-2022 the FFmpeg developers\n",
      "  built with gcc 10.4.0 (conda-forge gcc 10.4.0-18)\n",
      "  configuration: --prefix=/home/irmak/miniconda3/envs/tactile_learning --cc=/home/conda/feedstock_root/build_artifacts/ffmpeg_1666357487580/_build_env/bin/x86_64-conda-linux-gnu-cc --cxx=/home/conda/feedstock_root/build_artifacts/ffmpeg_1666357487580/_build_env/bin/x86_64-conda-linux-gnu-c++ --nm=/home/conda/feedstock_root/build_artifacts/ffmpeg_1666357487580/_build_env/bin/x86_64-conda-linux-gnu-nm --ar=/home/conda/feedstock_root/build_artifacts/ffmpeg_1666357487580/_build_env/bin/x86_64-conda-linux-gnu-ar --disable-doc --disable-openssl --enable-demuxer=dash --enable-hardcoded-tables --enable-libfreetype --enable-libfontconfig --enable-libopenh264 --enable-gnutls --enable-libmp3lame --enable-libvpx --enable-pthreads --enable-vaapi --enable-gpl --enable-libx264 --enable-libx265 --enable-libaom --enable-libsvtav1 --enable-libxml2 --enable-pic --enable-shared --disable-static --enable-version3 --enable-zlib --pkg-config=/home/conda/feedstock_root/build_artifacts/ffmpeg_1666357487580/_build_env/bin/pkg-config\n",
      "  libavutil      57. 28.100 / 57. 28.100\n",
      "  libavcodec     59. 37.100 / 59. 37.100\n",
      "  libavformat    59. 27.100 / 59. 27.100\n",
      "  libavdevice    59.  7.100 / 59.  7.100\n",
      "  libavfilter     8. 44.100 /  8. 44.100\n",
      "  libswscale      6.  7.100 /  6.  7.100\n",
      "  libswresample   4.  7.100 /  4.  7.100\n",
      "  libpostproc    56.  6.100 / 56.  6.100\n",
      "[image2 @ 0x559e7431a640] Pattern type 'glob_sequence' is deprecated: use pattern_type 'glob' instead\n",
      "Input #0, image2, from '/home/irmak/Workspace/Holo-Bot/extracted_data/human_sponge_flipping/demonstration_7/visualization/%*.png':\n",
      "  Duration: 00:00:01.96, start: 0.000000, bitrate: N/A\n",
      "  Stream #0:0: Video: png, rgba(pc), 360x360 [SAR 2362:2362 DAR 1:1], 25 fps, 25 tbr, 25 tbn\n",
      "Stream mapping:\n",
      "  Stream #0:0 -> #0:0 (png (native) -> h264 (libx264))\n",
      "Press [q] to stop, [?] for help\n"
     ]
    },
    {
     "name": "stdout",
     "output_type": "stream",
     "text": [
      "dumping video in root: /home/irmak/Workspace/Holo-Bot/extracted_data/human_sponge_flipping/demonstration_7\n"
     ]
    },
    {
     "name": "stderr",
     "output_type": "stream",
     "text": [
      "[libx264 @ 0x559e7431fd00] using SAR=1/1\n",
      "[libx264 @ 0x559e7431fd00] using cpu capabilities: MMX2 SSE2Fast SSSE3 SSE4.2 AVX FMA3 BMI2 AVX2\n",
      "[libx264 @ 0x559e7431fd00] profile High 4:4:4 Predictive, level 4.0, 4:4:4, 8-bit\n",
      "[libx264 @ 0x559e7431fd00] 264 - core 164 r3095 baee400 - H.264/MPEG-4 AVC codec - Copyleft 2003-2022 - http://www.videolan.org/x264.html - options: cabac=1 ref=3 deblock=1:0:0 analyse=0x3:0x113 me=hex subme=7 psy=1 psy_rd=1.00:0.00 mixed_ref=1 me_range=16 chroma_me=1 trellis=1 8x8dct=1 cqm=0 deadzone=21,11 fast_pskip=1 chroma_qp_offset=4 threads=22 lookahead_threads=3 sliced_threads=0 nr=0 decimate=1 interlaced=0 bluray_compat=0 constrained_intra=0 bframes=3 b_pyramid=2 b_adapt=1 b_bias=0 direct=1 weightb=1 open_gop=0 weightp=2 keyint=250 keyint_min=8 scenecut=40 intra_refresh=0 rc_lookahead=40 rc=crf mbtree=1 crf=23.0 qcomp=0.60 qpmin=0 qpmax=69 qpstep=4 ip_ratio=1.40 aq=1:1.00\n",
      "Output #0, mp4, to '/home/irmak/Workspace/Holo-Bot/extracted_data/human_sponge_flipping/demonstration_7/visualization_0.mp4':\n",
      "  Metadata:\n",
      "    encoder         : Lavf59.27.100\n",
      "  Stream #0:0: Video: h264 (avc1 / 0x31637661), yuv444p(tv, progressive), 2000x720 [SAR 1:1 DAR 25:9], q=2-31, 8 fps, 16384 tbn\n",
      "    Metadata:\n",
      "      encoder         : Lavc59.37.100 libx264\n",
      "    Side data:\n",
      "      cpb: bitrate max/min/avg: 0/0/0 buffer size: 0 vbv_delay: N/A\n",
      "frame=   49 fps=0.0 q=-1.0 Lsize=    1366kB time=00:00:05.75 bitrate=1946.6kbits/s speed=5.97x    \n",
      "video:1365kB audio:0kB subtitle:0kB other streams:0kB global headers:0kB muxing overhead: 0.104815%\n",
      "[libx264 @ 0x559e7431fd00] frame I:2     Avg QP:17.94  size: 37962\n",
      "[libx264 @ 0x559e7431fd00] frame P:12    Avg QP:19.72  size: 36753\n",
      "[libx264 @ 0x559e7431fd00] frame B:35    Avg QP:20.81  size: 25144\n",
      "[libx264 @ 0x559e7431fd00] consecutive B-frames:  4.1%  0.0%  6.1% 89.8%\n",
      "[libx264 @ 0x559e7431fd00] mb I  I16..4: 20.0% 74.6%  5.4%\n",
      "[libx264 @ 0x559e7431fd00] mb P  I16..4:  1.8% 20.0%  0.4%  P16..4: 24.2% 12.6%  6.2%  0.0%  0.0%    skip:34.8%\n",
      "[libx264 @ 0x559e7431fd00] mb B  I16..4:  0.6% 14.5%  0.0%  B16..8: 22.5%  5.5%  1.2%  direct: 6.3%  skip:49.5%  L0:47.0% L1:44.4% BI: 8.6%\n",
      "[libx264 @ 0x559e7431fd00] 8x8 transform intra:90.1% inter:86.4%\n",
      "[libx264 @ 0x559e7431fd00] coded y,u,v intra: 71.7% 39.0% 31.5% inter: 25.1% 16.7% 12.9%\n",
      "[libx264 @ 0x559e7431fd00] i16 v,h,dc,p: 45% 24% 13% 18%\n",
      "[libx264 @ 0x559e7431fd00] i8 v,h,dc,ddl,ddr,vr,hd,vl,hu: 12% 21% 55%  2%  1%  1%  2%  2%  4%\n",
      "[libx264 @ 0x559e7431fd00] i4 v,h,dc,ddl,ddr,vr,hd,vl,hu: 31% 26% 20%  3%  4%  4%  4%  4%  4%\n",
      "[libx264 @ 0x559e7431fd00] Weighted P-Frames: Y:0.0% UV:0.0%\n",
      "[libx264 @ 0x559e7431fd00] ref P L0: 40.6%  8.4% 29.7% 21.3%\n",
      "[libx264 @ 0x559e7431fd00] ref B L0: 68.3% 22.8%  8.9%\n",
      "[libx264 @ 0x559e7431fd00] ref B L1: 86.3% 13.7%\n",
      "[libx264 @ 0x559e7431fd00] kb/s:1824.67\n",
      "ffmpeg version 5.1.2 Copyright (c) 2000-2022 the FFmpeg developers\n",
      "  built with gcc 10.4.0 (conda-forge gcc 10.4.0-18)\n",
      "  configuration: --prefix=/home/irmak/miniconda3/envs/tactile_learning --cc=/home/conda/feedstock_root/build_artifacts/ffmpeg_1666357487580/_build_env/bin/x86_64-conda-linux-gnu-cc --cxx=/home/conda/feedstock_root/build_artifacts/ffmpeg_1666357487580/_build_env/bin/x86_64-conda-linux-gnu-c++ --nm=/home/conda/feedstock_root/build_artifacts/ffmpeg_1666357487580/_build_env/bin/x86_64-conda-linux-gnu-nm --ar=/home/conda/feedstock_root/build_artifacts/ffmpeg_1666357487580/_build_env/bin/x86_64-conda-linux-gnu-ar --disable-doc --disable-openssl --enable-demuxer=dash --enable-hardcoded-tables --enable-libfreetype --enable-libfontconfig --enable-libopenh264 --enable-gnutls --enable-libmp3lame --enable-libvpx --enable-pthreads --enable-vaapi --enable-gpl --enable-libx264 --enable-libx265 --enable-libaom --enable-libsvtav1 --enable-libxml2 --enable-pic --enable-shared --disable-static --enable-version3 --enable-zlib --pkg-config=/home/conda/feedstock_root/build_artifacts/ffmpeg_1666357487580/_build_env/bin/pkg-config\n",
      "  libavutil      57. 28.100 / 57. 28.100\n",
      "  libavcodec     59. 37.100 / 59. 37.100\n",
      "  libavformat    59. 27.100 / 59. 27.100\n",
      "  libavdevice    59.  7.100 / 59.  7.100\n",
      "  libavfilter     8. 44.100 /  8. 44.100\n",
      "  libswscale      6.  7.100 /  6.  7.100\n",
      "  libswresample   4.  7.100 /  4.  7.100\n",
      "  libpostproc    56.  6.100 / 56.  6.100\n",
      "[image2 @ 0x560cee56b640] Pattern type 'glob_sequence' is deprecated: use pattern_type 'glob' instead\n",
      "Input #0, image2, from '/home/irmak/Workspace/Holo-Bot/extracted_data/human_sponge_flipping/demonstration_5/visualization/%*.png':\n",
      "  Duration: 00:00:01.96, start: 0.000000, bitrate: N/A\n",
      "  Stream #0:0: Video: png, rgba(pc), 360x360 [SAR 2362:2362 DAR 1:1], 25 fps, 25 tbr, 25 tbn\n",
      "Stream mapping:\n",
      "  Stream #0:0 -> #0:0 (png (native) -> h264 (libx264))\n",
      "Press [q] to stop, [?] for help\n"
     ]
    },
    {
     "name": "stdout",
     "output_type": "stream",
     "text": [
      "dumping video in root: /home/irmak/Workspace/Holo-Bot/extracted_data/human_sponge_flipping/demonstration_5\n"
     ]
    },
    {
     "name": "stderr",
     "output_type": "stream",
     "text": [
      "[libx264 @ 0x560cee570d00] using SAR=1/1\n",
      "[libx264 @ 0x560cee570d00] using cpu capabilities: MMX2 SSE2Fast SSSE3 SSE4.2 AVX FMA3 BMI2 AVX2\n",
      "[libx264 @ 0x560cee570d00] profile High 4:4:4 Predictive, level 4.0, 4:4:4, 8-bit\n",
      "[libx264 @ 0x560cee570d00] 264 - core 164 r3095 baee400 - H.264/MPEG-4 AVC codec - Copyleft 2003-2022 - http://www.videolan.org/x264.html - options: cabac=1 ref=3 deblock=1:0:0 analyse=0x3:0x113 me=hex subme=7 psy=1 psy_rd=1.00:0.00 mixed_ref=1 me_range=16 chroma_me=1 trellis=1 8x8dct=1 cqm=0 deadzone=21,11 fast_pskip=1 chroma_qp_offset=4 threads=22 lookahead_threads=3 sliced_threads=0 nr=0 decimate=1 interlaced=0 bluray_compat=0 constrained_intra=0 bframes=3 b_pyramid=2 b_adapt=1 b_bias=0 direct=1 weightb=1 open_gop=0 weightp=2 keyint=250 keyint_min=8 scenecut=40 intra_refresh=0 rc_lookahead=40 rc=crf mbtree=1 crf=23.0 qcomp=0.60 qpmin=0 qpmax=69 qpstep=4 ip_ratio=1.40 aq=1:1.00\n",
      "Output #0, mp4, to '/home/irmak/Workspace/Holo-Bot/extracted_data/human_sponge_flipping/demonstration_5/visualization_0.mp4':\n",
      "  Metadata:\n",
      "    encoder         : Lavf59.27.100\n",
      "  Stream #0:0: Video: h264 (avc1 / 0x31637661), yuv444p(tv, progressive), 2000x720 [SAR 1:1 DAR 25:9], q=2-31, 8 fps, 16384 tbn\n",
      "    Metadata:\n",
      "      encoder         : Lavc59.37.100 libx264\n",
      "    Side data:\n",
      "      cpb: bitrate max/min/avg: 0/0/0 buffer size: 0 vbv_delay: N/A\n",
      "frame=   49 fps=0.0 q=-1.0 Lsize=    1338kB time=00:00:05.75 bitrate=1906.6kbits/s speed=5.93x    \n",
      "video:1337kB audio:0kB subtitle:0kB other streams:0kB global headers:0kB muxing overhead: 0.107021%\n",
      "[libx264 @ 0x560cee570d00] frame I:2     Avg QP:17.85  size: 37649\n",
      "[libx264 @ 0x560cee570d00] frame P:12    Avg QP:19.64  size: 36508\n",
      "[libx264 @ 0x560cee570d00] frame B:35    Avg QP:20.53  size: 24423\n",
      "[libx264 @ 0x560cee570d00] consecutive B-frames:  4.1%  0.0%  6.1% 89.8%\n",
      "[libx264 @ 0x560cee570d00] mb I  I16..4: 22.9% 71.9%  5.2%\n",
      "[libx264 @ 0x560cee570d00] mb P  I16..4:  2.5% 23.4%  0.4%  P16..4: 22.4% 11.0%  5.5%  0.0%  0.0%    skip:34.8%\n",
      "[libx264 @ 0x560cee570d00] mb B  I16..4:  0.6% 11.5%  0.0%  B16..8: 24.9%  6.0%  1.3%  direct: 6.8%  skip:48.9%  L0:46.1% L1:45.9% BI: 8.0%\n",
      "[libx264 @ 0x560cee570d00] 8x8 transform intra:87.8% inter:86.0%\n",
      "[libx264 @ 0x560cee570d00] coded y,u,v intra: 68.4% 37.4% 30.2% inter: 25.4% 17.3% 13.7%\n",
      "[libx264 @ 0x560cee570d00] i16 v,h,dc,p: 45% 20% 13% 23%\n",
      "[libx264 @ 0x560cee570d00] i8 v,h,dc,ddl,ddr,vr,hd,vl,hu: 13% 19% 55%  2%  1%  1%  2%  2%  4%\n",
      "[libx264 @ 0x560cee570d00] i4 v,h,dc,ddl,ddr,vr,hd,vl,hu: 32% 23% 21%  3%  4%  5%  4%  4%  4%\n",
      "[libx264 @ 0x560cee570d00] Weighted P-Frames: Y:0.0% UV:0.0%\n",
      "[libx264 @ 0x560cee570d00] ref P L0: 41.0%  9.6% 29.6% 19.8%\n",
      "[libx264 @ 0x560cee570d00] ref B L0: 69.4% 23.6%  7.0%\n",
      "[libx264 @ 0x560cee570d00] ref B L1: 87.0% 13.0%\n",
      "[libx264 @ 0x560cee570d00] kb/s:1787.03\n",
      "ffmpeg version 5.1.2 Copyright (c) 2000-2022 the FFmpeg developers\n",
      "  built with gcc 10.4.0 (conda-forge gcc 10.4.0-18)\n",
      "  configuration: --prefix=/home/irmak/miniconda3/envs/tactile_learning --cc=/home/conda/feedstock_root/build_artifacts/ffmpeg_1666357487580/_build_env/bin/x86_64-conda-linux-gnu-cc --cxx=/home/conda/feedstock_root/build_artifacts/ffmpeg_1666357487580/_build_env/bin/x86_64-conda-linux-gnu-c++ --nm=/home/conda/feedstock_root/build_artifacts/ffmpeg_1666357487580/_build_env/bin/x86_64-conda-linux-gnu-nm --ar=/home/conda/feedstock_root/build_artifacts/ffmpeg_1666357487580/_build_env/bin/x86_64-conda-linux-gnu-ar --disable-doc --disable-openssl --enable-demuxer=dash --enable-hardcoded-tables --enable-libfreetype --enable-libfontconfig --enable-libopenh264 --enable-gnutls --enable-libmp3lame --enable-libvpx --enable-pthreads --enable-vaapi --enable-gpl --enable-libx264 --enable-libx265 --enable-libaom --enable-libsvtav1 --enable-libxml2 --enable-pic --enable-shared --disable-static --enable-version3 --enable-zlib --pkg-config=/home/conda/feedstock_root/build_artifacts/ffmpeg_1666357487580/_build_env/bin/pkg-config\n",
      "  libavutil      57. 28.100 / 57. 28.100\n",
      "  libavcodec     59. 37.100 / 59. 37.100\n",
      "  libavformat    59. 27.100 / 59. 27.100\n",
      "  libavdevice    59.  7.100 / 59.  7.100\n",
      "  libavfilter     8. 44.100 /  8. 44.100\n",
      "  libswscale      6.  7.100 /  6.  7.100\n",
      "  libswresample   4.  7.100 /  4.  7.100\n",
      "  libpostproc    56.  6.100 / 56.  6.100\n",
      "[image2 @ 0x56459dab7640] Pattern type 'glob_sequence' is deprecated: use pattern_type 'glob' instead\n",
      "Input #0, image2, from '/home/irmak/Workspace/Holo-Bot/extracted_data/human_sponge_flipping/demonstration_4/visualization/%*.png':\n",
      "  Duration: 00:00:02.20, start: 0.000000, bitrate: N/A\n",
      "  Stream #0:0: Video: png, rgba(pc), 360x360 [SAR 2362:2362 DAR 1:1], 25 fps, 25 tbr, 25 tbn\n",
      "Stream mapping:\n",
      "  Stream #0:0 -> #0:0 (png (native) -> h264 (libx264))\n",
      "Press [q] to stop, [?] for help\n"
     ]
    },
    {
     "name": "stdout",
     "output_type": "stream",
     "text": [
      "dumping video in root: /home/irmak/Workspace/Holo-Bot/extracted_data/human_sponge_flipping/demonstration_4\n"
     ]
    },
    {
     "name": "stderr",
     "output_type": "stream",
     "text": [
      "[libx264 @ 0x56459dabce00] using SAR=1/1\n",
      "[libx264 @ 0x56459dabce00] using cpu capabilities: MMX2 SSE2Fast SSSE3 SSE4.2 AVX FMA3 BMI2 AVX2\n",
      "[libx264 @ 0x56459dabce00] profile High 4:4:4 Predictive, level 4.0, 4:4:4, 8-bit\n",
      "[libx264 @ 0x56459dabce00] 264 - core 164 r3095 baee400 - H.264/MPEG-4 AVC codec - Copyleft 2003-2022 - http://www.videolan.org/x264.html - options: cabac=1 ref=3 deblock=1:0:0 analyse=0x3:0x113 me=hex subme=7 psy=1 psy_rd=1.00:0.00 mixed_ref=1 me_range=16 chroma_me=1 trellis=1 8x8dct=1 cqm=0 deadzone=21,11 fast_pskip=1 chroma_qp_offset=4 threads=22 lookahead_threads=3 sliced_threads=0 nr=0 decimate=1 interlaced=0 bluray_compat=0 constrained_intra=0 bframes=3 b_pyramid=2 b_adapt=1 b_bias=0 direct=1 weightb=1 open_gop=0 weightp=2 keyint=250 keyint_min=8 scenecut=40 intra_refresh=0 rc_lookahead=40 rc=crf mbtree=1 crf=23.0 qcomp=0.60 qpmin=0 qpmax=69 qpstep=4 ip_ratio=1.40 aq=1:1.00\n",
      "Output #0, mp4, to '/home/irmak/Workspace/Holo-Bot/extracted_data/human_sponge_flipping/demonstration_4/visualization_0.mp4':\n",
      "  Metadata:\n",
      "    encoder         : Lavf59.27.100\n",
      "  Stream #0:0: Video: h264 (avc1 / 0x31637661), yuv444p(tv, progressive), 2000x720 [SAR 1:1 DAR 25:9], q=2-31, 8 fps, 16384 tbn\n",
      "    Metadata:\n",
      "      encoder         : Lavc59.37.100 libx264\n",
      "    Side data:\n",
      "      cpb: bitrate max/min/avg: 0/0/0 buffer size: 0 vbv_delay: N/A\n",
      "frame=   55 fps= 55 q=-1.0 Lsize=    1420kB time=00:00:06.50 bitrate=1789.2kbits/s speed=6.47x    \n",
      "video:1418kB audio:0kB subtitle:0kB other streams:0kB global headers:0kB muxing overhead: 0.106392%\n",
      "[libx264 @ 0x56459dabce00] frame I:2     Avg QP:18.08  size: 36108\n",
      "[libx264 @ 0x56459dabce00] frame P:14    Avg QP:19.53  size: 34900\n",
      "[libx264 @ 0x56459dabce00] frame B:39    Avg QP:20.54  size: 22838\n",
      "[libx264 @ 0x56459dabce00] consecutive B-frames:  5.5%  0.0%  0.0% 94.5%\n",
      "[libx264 @ 0x56459dabce00] mb I  I16..4: 21.3% 73.5%  5.2%\n",
      "[libx264 @ 0x56459dabce00] mb P  I16..4:  3.7% 27.3%  0.6%  P16..4: 19.8%  8.9%  4.6%  0.0%  0.0%    skip:35.0%\n",
      "[libx264 @ 0x56459dabce00] mb B  I16..4:  0.8% 16.3%  0.1%  B16..8: 19.3%  4.7%  1.0%  direct: 5.8%  skip:51.9%  L0:50.0% L1:40.6% BI: 9.4%\n",
      "[libx264 @ 0x56459dabce00] 8x8 transform intra:88.9% inter:87.9%\n",
      "[libx264 @ 0x56459dabce00] coded y,u,v intra: 70.0% 35.5% 29.2% inter: 21.3% 14.6% 12.7%\n",
      "[libx264 @ 0x56459dabce00] i16 v,h,dc,p: 36% 23% 13% 28%\n",
      "[libx264 @ 0x56459dabce00] i8 v,h,dc,ddl,ddr,vr,hd,vl,hu: 13% 24% 50%  2%  1%  1%  2%  2%  4%\n",
      "[libx264 @ 0x56459dabce00] i4 v,h,dc,ddl,ddr,vr,hd,vl,hu: 31% 26% 20%  3%  4%  4%  5%  4%  4%\n",
      "[libx264 @ 0x56459dabce00] Weighted P-Frames: Y:0.0% UV:0.0%\n",
      "[libx264 @ 0x56459dabce00] ref P L0: 46.2%  9.0% 26.6% 18.1%\n",
      "[libx264 @ 0x56459dabce00] ref B L0: 68.9% 24.3%  6.8%\n",
      "[libx264 @ 0x56459dabce00] ref B L1: 92.6%  7.4%\n",
      "[libx264 @ 0x56459dabce00] kb/s:1689.01\n"
     ]
    }
   ],
   "source": [
    "# Turn the images to a video and delete the directory\n",
    "video_fps = 8\n",
    "for root in roots:\n",
    "    print('dumping video in root: {}'.format(root))\n",
    "    video_path = os.path.join(root, f'visualization_{view_num}.mp4')\n",
    "    if os.path.exists(video_path):\n",
    "        os.remove(video_path)\n",
    "    viz_dir = os.path.join(root, 'visualization')\n",
    "    os.system('ffmpeg -r {} -i {}/%*.png -vf scale=2000x720,setsar=1:1 {}'.format(\n",
    "        video_fps, # fps\n",
    "        viz_dir,\n",
    "        video_path\n",
    "    ))\n"
   ]
  },
  {
   "cell_type": "code",
   "execution_count": 19,
   "metadata": {},
   "outputs": [],
   "source": [
    "# Remove the img directory\n",
    "import shutil\n",
    "for root in roots:\n",
    "    viz_dir = os.path.join(root, 'visualization')\n",
    "    shutil.rmtree(viz_dir)\n"
   ]
  },
  {
   "cell_type": "code",
   "execution_count": null,
   "metadata": {},
   "outputs": [],
   "source": []
  }
 ],
 "metadata": {
  "kernelspec": {
   "display_name": "tactile_learning",
   "language": "python",
   "name": "python3"
  },
  "language_info": {
   "codemirror_mode": {
    "name": "ipython",
    "version": 3
   },
   "file_extension": ".py",
   "mimetype": "text/x-python",
   "name": "python",
   "nbconvert_exporter": "python",
   "pygments_lexer": "ipython3",
   "version": "3.9.13"
  },
  "orig_nbformat": 4
 },
 "nbformat": 4,
 "nbformat_minor": 2
}
