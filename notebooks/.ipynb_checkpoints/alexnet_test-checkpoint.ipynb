{
 "cells": [
  {
   "cell_type": "code",
   "execution_count": null,
   "id": "2e6f2978-737e-445b-8741-954b99ff0be6",
   "metadata": {},
   "outputs": [],
   "source": [
    "# Script to tryout alexnet for the whole tactile images\n",
    "# Images should be loaded into a range bw [0,1] and normalized with mean = [0.485, 0.456, 0.406] and std = [0.229, 0.224, 0.225]"
   ]
  },
  {
   "cell_type": "code",
   "execution_count": 1,
   "id": "dd2fbd7b-a611-40f3-80c8-a390c4901ed6",
   "metadata": {},
   "outputs": [
    {
     "name": "stderr",
     "output_type": "stream",
     "text": [
      "Using cache found in /home/irmak/.cache/torch/hub/pytorch_vision_v0.10.0\n"
     ]
    },
    {
     "name": "stdout",
     "output_type": "stream",
     "text": [
      "mod_name: collections, name: OrderedDict\n",
      "mod_name: torch._utils, name: _rebuild_parameter\n",
      "mod_name: torch._utils, name: _rebuild_tensor_v2\n"
     ]
    },
    {
     "data": {
      "text/plain": [
       "AlexNet(\n",
       "  (features): Sequential(\n",
       "    (0): Conv2d(3, 64, kernel_size=(11, 11), stride=(4, 4), padding=(2, 2))\n",
       "    (1): ReLU(inplace=True)\n",
       "    (2): MaxPool2d(kernel_size=3, stride=2, padding=0, dilation=1, ceil_mode=False)\n",
       "    (3): Conv2d(64, 192, kernel_size=(5, 5), stride=(1, 1), padding=(2, 2))\n",
       "    (4): ReLU(inplace=True)\n",
       "    (5): MaxPool2d(kernel_size=3, stride=2, padding=0, dilation=1, ceil_mode=False)\n",
       "    (6): Conv2d(192, 384, kernel_size=(3, 3), stride=(1, 1), padding=(1, 1))\n",
       "    (7): ReLU(inplace=True)\n",
       "    (8): Conv2d(384, 256, kernel_size=(3, 3), stride=(1, 1), padding=(1, 1))\n",
       "    (9): ReLU(inplace=True)\n",
       "    (10): Conv2d(256, 256, kernel_size=(3, 3), stride=(1, 1), padding=(1, 1))\n",
       "    (11): ReLU(inplace=True)\n",
       "    (12): MaxPool2d(kernel_size=3, stride=2, padding=0, dilation=1, ceil_mode=False)\n",
       "  )\n",
       "  (avgpool): AdaptiveAvgPool2d(output_size=(6, 6))\n",
       "  (classifier): Sequential(\n",
       "    (0): Dropout(p=0.5, inplace=False)\n",
       "    (1): Linear(in_features=9216, out_features=4096, bias=True)\n",
       "    (2): ReLU(inplace=True)\n",
       "    (3): Dropout(p=0.5, inplace=False)\n",
       "    (4): Linear(in_features=4096, out_features=4096, bias=True)\n",
       "    (5): ReLU(inplace=True)\n",
       "    (6): Linear(in_features=4096, out_features=1000, bias=True)\n",
       "  )\n",
       ")"
      ]
     },
     "execution_count": 1,
     "metadata": {},
     "output_type": "execute_result"
    }
   ],
   "source": [
    "import torch\n",
    "model = torch.hub.load('pytorch/vision:v0.10.0', 'alexnet', pretrained=True)\n",
    "model.eval()"
   ]
  },
  {
   "cell_type": "code",
   "execution_count": 6,
   "id": "2ae624a1-59c6-42ea-89c6-d619ae140271",
   "metadata": {},
   "outputs": [],
   "source": [
    "from torchvision import models\n",
    "import torch.nn as nn\n",
    "\n",
    "# Remove the last layer of alexnet\n",
    "model.classifier = nn.Sequential(\n",
    "    nn.Dropout(p=0.5, inplace=False),\n",
    "    nn.Linear(9216, out_features=4096, bias=True),\n",
    "    nn.ReLU(inplace=True),\n",
    "    nn.Dropout(p=0.5, inplace=False),\n",
    "    nn.Linear(4096, 512, bias=True)\n",
    ")"
   ]
  },
  {
   "cell_type": "code",
   "execution_count": 7,
   "id": "589d8287-aaf7-4202-acf3-1d527e4e21b2",
   "metadata": {},
   "outputs": [
    {
     "name": "stdout",
     "output_type": "stream",
     "text": [
      "AlexNet(\n",
      "  (features): Sequential(\n",
      "    (0): Conv2d(3, 64, kernel_size=(11, 11), stride=(4, 4), padding=(2, 2))\n",
      "    (1): ReLU(inplace=True)\n",
      "    (2): MaxPool2d(kernel_size=3, stride=2, padding=0, dilation=1, ceil_mode=False)\n",
      "    (3): Conv2d(64, 192, kernel_size=(5, 5), stride=(1, 1), padding=(2, 2))\n",
      "    (4): ReLU(inplace=True)\n",
      "    (5): MaxPool2d(kernel_size=3, stride=2, padding=0, dilation=1, ceil_mode=False)\n",
      "    (6): Conv2d(192, 384, kernel_size=(3, 3), stride=(1, 1), padding=(1, 1))\n",
      "    (7): ReLU(inplace=True)\n",
      "    (8): Conv2d(384, 256, kernel_size=(3, 3), stride=(1, 1), padding=(1, 1))\n",
      "    (9): ReLU(inplace=True)\n",
      "    (10): Conv2d(256, 256, kernel_size=(3, 3), stride=(1, 1), padding=(1, 1))\n",
      "    (11): ReLU(inplace=True)\n",
      "    (12): MaxPool2d(kernel_size=3, stride=2, padding=0, dilation=1, ceil_mode=False)\n",
      "  )\n",
      "  (avgpool): AdaptiveAvgPool2d(output_size=(6, 6))\n",
      "  (classifier): Sequential(\n",
      "    (0): Dropout(p=0.5, inplace=False)\n",
      "    (1): Linear(in_features=9216, out_features=4096, bias=True)\n",
      "    (2): ReLU(inplace=True)\n",
      "    (3): Dropout(p=0.5, inplace=False)\n",
      "    (4): Linear(in_features=4096, out_features=1000, bias=True)\n",
      "  )\n",
      ")\n"
     ]
    }
   ],
   "source": [
    "print(model)"
   ]
  },
  {
   "cell_type": "code",
   "execution_count": 8,
   "id": "56eb8795-6baa-45d3-b895-24a3acdde223",
   "metadata": {},
   "outputs": [
    {
     "name": "stdout",
     "output_type": "stream",
     "text": [
      "torch.Size([2, 1000])\n"
     ]
    }
   ],
   "source": [
    "mock_data = torch.rand((2,3,224,224))\n",
    "output = model(mock_data)\n",
    "print(output.shape)"
   ]
  },
  {
   "cell_type": "code",
   "execution_count": 4,
   "id": "84d01b71-9345-4feb-8bbc-abdace81ac6d",
   "metadata": {},
   "outputs": [],
   "source": [
    "import glob\n",
    "import matplotlib.pyplot as plt\n",
    "import numpy as np\n",
    "import torch\n",
    "import torchvision.transforms as T \n",
    "import torch.nn.functional as F\n",
    "\n",
    "from torchvision.datasets.folder import default_loader as loader \n",
    "from torch.utils import data\n",
    "\n",
    "from tactile_learning.utils.constants import *\n",
    "from tactile_learning.utils.data import load_data\n",
    "\n",
    "# Get the tactile image whole dataset - TODO: If this works add this to the code base as well\n",
    "class TactileWholeHandDataset(data.Dataset): # Dataset that will return 16x3,4,4 images - stacked cnn\n",
    "    def __init__(\n",
    "        self,\n",
    "        data_path,\n",
    "        img_size=16,\n",
    "        normalize=False,\n",
    "        stats=[TACTILE_IMAGE_MEANS, TACTILE_IMAGE_STDS], # Will have image means and stds\n",
    "    ):\n",
    "        super().__init__()\n",
    "        self.roots = glob.glob(f'{data_path}/demonstration_*')\n",
    "        self.roots = sorted(self.roots)\n",
    "        self.data = load_data(self.roots, demos_to_use=[])\n",
    "        self.normalize = normalize\n",
    "        self.resize_transform = T.Resize((img_size, img_size))\n",
    "        self.normalization_transform = T.Normalize(stats[0], stats[1])\n",
    "\n",
    "    def __len__(self):\n",
    "        return len(self.data['tactile']['indices'])\n",
    "\n",
    "    def _get_whole_hand_tactile_image(self, tactile_values): \n",
    "        # tactile_values: (15,16,3)\n",
    "        # turn it into 16,16,3 by concatenating 0z\n",
    "        tactile_image = torch.FloatTensor(tactile_values)\n",
    "        tactile_image = F.pad(tactile_image, (0,0,0,0,1,0), 'constant', 0)\n",
    "        # reshape it to 4x4\n",
    "        tactile_image = tactile_image.view(16,4,4,3)\n",
    "\n",
    "        # concat for it have its proper shape\n",
    "        tactile_image = torch.concat([\n",
    "            torch.concat([tactile_image[i*4+j] for j in range(4)], dim=0)\n",
    "            for i in range(4)\n",
    "        ], dim=1)\n",
    "\n",
    "        tactile_image = torch.permute(tactile_image, (2,0,1))\n",
    "\n",
    "        return self.resize_transform(tactile_image)\n",
    "\n",
    "    def __getitem__(self, index):\n",
    "        # Get the tactile image\n",
    "        demo_id, tactile_id = self.data['tactile']['indices'][index]\n",
    "        tactile_values = self.data['tactile']['values'][demo_id][tactile_id]\n",
    "        tactile_image = self._get_whole_hand_tactile_image(tactile_values)\n",
    "\n",
    "        if self.normalize:\n",
    "            return self.normalization_transform(tactile_image)\n",
    "        else:\n",
    "            return tactile_image\n",
    "\n",
    "    def getitem(self, index):\n",
    "        return self.__getitem__(index) # NOTE: for debugging purposes\n",
    "    "
   ]
  },
  {
   "cell_type": "code",
   "execution_count": 10,
   "id": "4f4728b3-d4b3-40a7-a100-639ff6cace23",
   "metadata": {},
   "outputs": [],
   "source": []
  },
  {
   "cell_type": "code",
   "execution_count": 5,
   "id": "3c1fb89e-8256-41b6-9acc-e7501e439155",
   "metadata": {},
   "outputs": [],
   "source": [
    "PLAY_DATA_DIR = '/home/irmak/Workspace/Holo-Bot/extracted_data/tactile_play_data'\n",
    "dset = TactileWholeHandDataset(\n",
    "    data_path = PLAY_DATA_DIR,\n",
    "    img_size = 224, # For alexnet\n",
    "    normalize = True\n",
    ")"
   ]
  },
  {
   "cell_type": "code",
   "execution_count": 7,
   "id": "6831cc92-2698-444e-9c43-5365256e7398",
   "metadata": {},
   "outputs": [],
   "source": [
    "# First get the minimum and maximum of the images - and visualize them\n",
    "tactile_loader = data.DataLoader(dset, \n",
    "                                batch_size  = 32, \n",
    "                                shuffle     = True, \n",
    "                                num_workers = 4,\n",
    "                                pin_memory  = True)"
   ]
  },
  {
   "cell_type": "code",
   "execution_count": 8,
   "id": "9917e48c-e06b-433a-92ce-79f84295aa38",
   "metadata": {},
   "outputs": [
    {
     "name": "stdout",
     "output_type": "stream",
     "text": [
      "tensor(-112.1339) tensor(99.1087)\n"
     ]
    }
   ],
   "source": [
    "\n",
    "\n",
    "    \n",
    "min_tactile = 13534\n",
    "max_tactile = -13834\n",
    "for batch in tactile_loader:\n",
    "    curr_min = batch.min() \n",
    "    curr_max = batch.max()\n",
    "    if curr_min < min_tactile:\n",
    "        min_tactile = curr_min \n",
    "    if curr_max > max_tactile: \n",
    "        max_tactile = curr_max\n",
    "\n",
    "print(min_tactile, max_tactile)\n",
    "    \n",
    "    "
   ]
  },
  {
   "cell_type": "code",
   "execution_count": 19,
   "id": "898b008f-856a-4525-9438-3ab807a5bca5",
   "metadata": {},
   "outputs": [
    {
     "name": "stderr",
     "output_type": "stream",
     "text": [
      "Clipping input data to the valid range for imshow with RGB data ([0..1] for floats or [0..255] for integers).\n"
     ]
    },
    {
     "data": {
      "image/png": "[encoded data removed]",
      "text/plain": [
       "<Figure size 1400x700 with 8 Axes>"
      ]
     },
     "metadata": {},
     "output_type": "display_data"
    }
   ],
   "source": [
    "# display images\n",
    "def plot_tactile_image(ax, tactile_image, scale=False, tactile_min=None, tactile_max=None): # Tactile image should be tensor\n",
    "    if scale:\n",
    "        img_range = tactile_max - tactile_min\n",
    "        tactile_image = (tactile_image - tactile_min) / img_range\n",
    "    npimg = tactile_image.numpy()\n",
    "    ax.imshow(np.transpose(npimg, (1, 2, 0)))\n",
    "    ax.axis('off')\n",
    "\n",
    "preprocess = T.Compose([\n",
    "    T.Resize(224),\n",
    "    T.Normalize(mean=[0.485, 0.456, 0.406], std=[0.229, 0.224, 0.225]),\n",
    "])\n",
    "for batch_idx, inputs in enumerate(tactile_loader):\n",
    "    img_range = max_tactile - min_tactile\n",
    "    inputs = (inputs - min_tactile) / img_range\n",
    "    inputs = preprocess(inputs)\n",
    "    fig = plt.figure(figsize = (14, 7))\n",
    "    for i in range(8):\n",
    "        ax = fig.add_subplot(2, 4, i + 1, xticks = [], yticks = [])  \n",
    "        plot_tactile_image(ax, inputs[i])\n",
    "    break"
   ]
  },
  {
   "cell_type": "code",
   "execution_count": 2,
   "id": "d9791ef8-bb3b-47fb-b39b-cd843e85b97a",
   "metadata": {},
   "outputs": [],
   "source": [
    "import glob\n",
    "import h5py\n",
    "import hydra\n",
    "import mmap\n",
    "import numpy as np\n",
    "import os\n",
    "import pickle\n",
    "import torch \n",
    "import matplotlib.pyplot as plt\n",
    "import torchvision.transforms as T\n",
    "import torch.utils.data as data \n",
    "\n",
    "from omegaconf import DictConfig, OmegaConf\n",
    "from collections import OrderedDict\n",
    "from tqdm import tqdm \n",
    "from torch.nn.parallel import DistributedDataParallel as DDP\n",
    "from torchvision import models\n",
    "from holobot.robot.allegro.allegro_kdl import AllegroKDL\n",
    "\n",
    "from tactile_learning.utils.constants import *\n",
    "from tactile_learning.models.custom import *\n",
    "from tactile_learning.datasets.tactile_vision import *\n",
    "from tactile_learning.deployment.load_models import * \n",
    "from tactile_learning.deployment.nn_buffer import NearestNeighborBuffer\n",
    "from tactile_learning.models.knn import KNearestNeighbors, ScaledKNearestNeighbors\n",
    "from tactile_learning.utils.visualization import *\n",
    "from tactile_learning.utils.tactile_image import *\n",
    "from torchvision.transforms.functional import crop"
   ]
  },
  {
   "cell_type": "code",
   "execution_count": 1,
   "id": "d3bf656b-286d-4e66-b869-0ccc54d604ea",
   "metadata": {},
   "outputs": [],
   "source": [
    "from tactile_learning.datasets.tactile import TactileBYOLDataset\n",
    "from tactile_learning.utils.constants import TACTILE_IMAGE_STATS\n",
    "GAMEPAD_DATA_DIR = '/home/irmak/Workspace/Holo-Bot/extracted_data/gamepad/right/eval'\n",
    "whole_hand_dset = TactileBYOLDataset(\n",
    "    data_path = GAMEPAD_DATA_DIR,\n",
    "    img_size = 224,\n",
    "    tactile_information_type = 'whole_hand',\n",
    "    mean_std = [TACTILE_IMAGE_STATS['play_data']['mean'], TACTILE_IMAGE_STATS['play_data']['std']],\n",
    "    min_max = [TACTILE_IMAGE_STATS['play_data']['min'], TACTILE_IMAGE_STATS['play_data']['max']]\n",
    ")"
   ]
  },
  {
   "cell_type": "code",
   "execution_count": 6,
   "id": "0578f093-6d4e-4ef5-9c8b-64f96ede5eb3",
   "metadata": {},
   "outputs": [
    {
     "name": "stdout",
     "output_type": "stream",
     "text": [
      "cfg.learner_type: tactile_byol\n"
     ]
    },
    {
     "name": "stderr",
     "output_type": "stream",
     "text": [
      "Using cache found in /home/irmak/.cache/torch/hub/pytorch_vision_v0.10.0\n"
     ]
    },
    {
     "name": "stdout",
     "output_type": "stream",
     "text": [
      "mod_name: collections, name: OrderedDict\n",
      "mod_name: torch._utils, name: _rebuild_parameter\n",
      "mod_name: torch._utils, name: _rebuild_tensor_v2\n"
     ]
    }
   ],
   "source": [
    "# Load the model\n",
    "ALEXNET_OUT_DIR = '/home/irmak/Workspace/tactile-learning/tactile_learning/out/2023.01.18/17-06_tactile_byol_bs_512_tactile_play_data_alexnet_clamped'\n",
    "os.environ[\"MASTER_ADDR\"] = \"localhost\"\n",
    "os.environ[\"MASTER_PORT\"] = \"29506\"\n",
    "\n",
    "torch.distributed.init_process_group(backend='gloo', rank=0, world_size=1)\n",
    "torch.cuda.set_device(0)\n",
    "device = torch.device('cuda:0')\n",
    "\n",
    "out_dir = ALEXNET_OUT_DIR\n",
    "cfg = OmegaConf.load(os.path.join(out_dir, '.hydra/config.yaml'))\n",
    "model_path = os.path.join(out_dir, 'models/byol_encoder_best.pt')\n",
    "device = torch.device('cuda:0')\n",
    "encoder = load_model(cfg, device, model_path)\n"
   ]
  },
  {
   "cell_type": "code",
   "execution_count": 7,
   "id": "90f4445e-8359-4cf3-93df-fff4063478c6",
   "metadata": {},
   "outputs": [],
   "source": [
    "transform = T.Compose([\n",
    "    T.Resize((224, 224)),\n",
    "    T.Normalize([0.485, 0.456, 0.406], [0.229, 0.224, 0.225])\n",
    "]) "
   ]
  },
  {
   "cell_type": "code",
   "execution_count": 8,
   "id": "b01f7719-de39-4098-9901-6a70e589e275",
   "metadata": {},
   "outputs": [],
   "source": [
    "tactile_loader = data.DataLoader(\n",
    "    whole_hand_dset, \n",
    "    batch_size  = 32, \n",
    "    shuffle     = True, \n",
    "    num_workers = 4,\n",
    "    pin_memory  = True\n",
    ")"
   ]
  },
  {
   "cell_type": "code",
   "execution_count": 9,
   "id": "90b8b27d-521c-4e55-a7a0-12977221740f",
   "metadata": {},
   "outputs": [],
   "source": [
    "batch = next(iter(tactile_loader))"
   ]
  },
  {
   "cell_type": "code",
   "execution_count": 12,
   "id": "d64e0568-a541-4bdb-a323-674b8609ad28",
   "metadata": {},
   "outputs": [],
   "source": [
    "transformed_batch = transform(batch)"
   ]
  },
  {
   "cell_type": "code",
   "execution_count": 13,
   "id": "0e21e86e-e132-41d9-bd75-6b50bee49018",
   "metadata": {},
   "outputs": [],
   "source": [
    "output = encoder(transformed_batch)"
   ]
  },
  {
   "cell_type": "code",
   "execution_count": 19,
   "id": "a8d813f5-5ec6-4c80-8193-00211842dc95",
   "metadata": {},
   "outputs": [
    {
     "data": {
      "text/plain": [
       "tensor(-0.0009, device='cuda:0', grad_fn=<AddBackward0>)"
      ]
     },
     "execution_count": 19,
     "metadata": {},
     "output_type": "execute_result"
    }
   ],
   "source": [
    "sum(output[1] - output[3])"
   ]
  },
  {
   "cell_type": "code",
   "execution_count": 21,
   "id": "98c0ba9e-2f98-4cd5-9b25-34952ef587b8",
   "metadata": {},
   "outputs": [
    {
     "name": "stdout",
     "output_type": "stream",
     "text": [
      "inputs.shape: torch.Size([32, 3, 224, 224])\n",
      "output.shape: torch.Size([32, 1000])\n",
      "tensor([-7.9275e-01,  9.4470e-01, -1.5069e+00, -1.6408e+00, -7.5520e-01,\n",
      "         1.1387e-01, -2.5467e+00, -1.3912e-01, -2.2648e+00, -6.3195e-03,\n",
      "         1.4627e+00,  7.0336e-01,  2.0990e-01,  1.9693e-01, -4.9721e-01,\n",
      "        -4.6372e-01,  7.0187e-01, -9.6748e-01, -3.8108e-01,  1.7180e-01,\n",
      "         2.2447e-01,  2.1981e+00,  7.4972e-01, -2.8371e-02, -1.3842e-01,\n",
      "        -9.7830e-01, -1.8382e-01, -1.6004e-01, -2.0830e-01, -6.0412e-02,\n",
      "        -1.6127e+00,  3.9980e-02, -9.2993e-01, -7.8887e-01, -9.7627e-01,\n",
      "        -2.0505e+00, -3.5103e-02, -1.6683e+00,  1.5700e+00, -1.1540e+00,\n",
      "        -7.7959e-01, -4.9018e-01,  1.9904e+00,  1.4399e+00, -5.9023e-01,\n",
      "        -5.6342e-01, -6.5846e-01,  3.3001e-01, -2.0446e+00, -1.5656e+00,\n",
      "        -1.4014e+00, -7.3611e-01,  8.4861e-01,  5.6708e-01, -3.8263e-01,\n",
      "        -1.0599e+00, -3.9390e-01, -1.1229e+00,  2.9475e-01,  1.4288e+00,\n",
      "        -9.8462e-01, -1.3175e+00,  4.6416e-01,  1.3882e+00,  1.2975e+00,\n",
      "         5.7180e-01,  5.3045e-01, -1.4421e+00,  5.5342e-01, -9.6154e-01,\n",
      "         3.4689e-01,  7.8349e-01,  2.4981e-02,  2.3115e+00, -1.2533e-01,\n",
      "         1.9958e+00, -1.5874e+00,  2.5559e-01,  2.2889e+00,  1.1686e+00,\n",
      "         2.2812e+00,  1.2920e+00, -7.3913e-01,  7.0226e-01, -1.5331e+00,\n",
      "        -3.3961e-01, -3.3824e-02,  8.2826e-01, -9.2766e-02, -3.8350e-01,\n",
      "        -4.7602e-01,  1.2019e+00,  1.1655e+00, -7.0158e-01, -2.4334e-02,\n",
      "         4.4481e-01, -1.7557e-03, -1.6723e+00,  1.4289e+00, -9.9330e-01,\n",
      "         4.1206e-03, -1.6773e+00, -8.8814e-01,  1.9921e+00, -1.6095e+00,\n",
      "        -2.1938e+00, -1.0503e+00, -1.1126e+00, -3.3215e+00, -2.3646e+00,\n",
      "        -8.0335e-01,  2.5348e+00,  4.7388e-02,  3.5658e-01, -8.7439e-01,\n",
      "        -1.9216e+00, -9.7380e-01,  1.0333e+00, -1.9045e+00, -1.7697e+00,\n",
      "        -4.1012e-01, -2.1098e+00, -1.2364e+00, -2.0341e+00, -1.9996e+00,\n",
      "        -7.1950e-01,  7.2411e-01,  4.0680e-01,  1.8083e+00,  1.3704e-01,\n",
      "        -1.6478e+00, -8.2582e-01, -1.0410e-01, -2.4811e-01, -7.7841e-02,\n",
      "         3.1635e-01, -1.1533e+00, -1.7845e-01, -1.5832e+00, -2.3134e-01,\n",
      "         5.3483e-01,  1.0200e-01,  3.7324e-01,  3.4701e-01, -2.0996e-01,\n",
      "         6.2735e-01,  9.0668e-01, -1.2566e-01, -5.6994e-01,  1.3024e-01,\n",
      "        -1.5322e-01, -4.2275e-01,  8.5796e-02, -2.5449e-02, -6.9273e-01,\n",
      "        -9.8928e-01,  8.5826e-02,  1.8010e-01,  2.4336e-01, -2.2826e-01,\n",
      "        -1.8121e+00, -1.2917e+00, -8.1156e-01, -3.1905e-01, -2.2089e-01,\n",
      "        -3.9263e-01,  6.2518e-01, -4.0747e-01, -1.6125e-01, -1.4651e+00,\n",
      "        -3.7304e-01, -7.8262e-02, -2.9575e-02, -8.4030e-01, -1.7801e-01,\n",
      "        -2.7085e-01, -1.7467e+00, -9.7481e-01, -6.0863e-01, -1.6042e+00,\n",
      "        -1.6771e+00, -1.2249e-01, -1.4008e+00, -2.7615e-01, -3.4651e-01,\n",
      "        -7.8370e-01, -2.0932e-01,  7.4409e-02,  4.5618e-01, -1.7995e-01,\n",
      "         8.8323e-01, -1.0450e+00, -1.2536e+00, -1.8791e-01,  7.6210e-01,\n",
      "        -3.6064e-01, -1.2845e+00, -1.1981e+00, -9.7767e-01, -1.1411e+00,\n",
      "        -4.4279e-02, -1.6319e+00, -1.0014e+00, -8.8566e-01, -9.1965e-01,\n",
      "        -1.2175e+00,  4.1054e-01, -5.7283e-01, -1.2093e+00, -2.7086e-01,\n",
      "         4.6836e-01, -1.8090e-02, -4.2030e-01, -7.1473e-01, -4.9985e-01,\n",
      "        -1.3729e+00, -8.9428e-01, -1.1388e+00, -1.3685e+00, -1.3563e+00,\n",
      "         1.4974e-01, -3.4236e-01,  8.3676e-03, -1.9599e-01, -1.1204e+00,\n",
      "        -6.6502e-01, -1.0989e+00, -1.2270e+00,  4.3588e-01, -4.1792e-01,\n",
      "        -8.6228e-01, -1.5846e+00, -1.0204e+00, -1.7050e+00, -1.0961e+00,\n",
      "        -5.6119e-01, -1.9001e-01, -4.4444e-01, -2.5395e-01,  1.0295e-01,\n",
      "        -1.0228e+00,  1.9966e-02, -1.4513e+00, -1.1651e+00, -1.2913e+00,\n",
      "        -3.7805e-01, -9.6727e-01, -1.1643e+00, -3.6659e-01, -5.6151e-01,\n",
      "        -9.9633e-01, -2.3616e-01, -7.8762e-02, -3.5234e-02, -7.7571e-01,\n",
      "        -1.0612e+00, -4.7592e-01, -4.8678e-01,  7.9758e-01, -6.2927e-02,\n",
      "        -1.0563e+00, -1.4469e+00, -2.7131e-01, -1.4338e-01, -1.0992e+00,\n",
      "        -2.6578e-01, -5.0014e-01, -1.0683e+00, -6.0478e-01, -8.9485e-01,\n",
      "        -8.3481e-01, -1.6661e+00, -6.5993e-01,  6.2428e-01, -9.7436e-01,\n",
      "         2.0421e-01, -1.1111e+00, -1.4751e-01, -7.8900e-01, -2.8624e-01,\n",
      "        -5.9276e-01, -7.6432e-01, -9.2738e-01, -1.4842e-03,  2.3673e-01,\n",
      "         2.8273e-01, -2.1678e+00, -1.6479e+00, -1.1256e+00, -1.8788e+00,\n",
      "        -2.2201e+00,  1.2478e-01, -1.0572e+00,  9.7001e-02, -7.1427e-01,\n",
      "        -1.1372e+00, -5.0541e-01, -1.5065e+00,  1.4650e-01,  3.2477e-01,\n",
      "         2.3190e-01,  1.2395e+00,  8.8796e-01,  1.1999e+00, -2.4428e-01,\n",
      "        -1.5743e+00,  4.8182e-01,  2.3955e-01,  9.1028e-01, -1.0036e+00,\n",
      "         1.6955e+00, -1.4890e-01, -2.2478e-01,  1.1599e-01,  9.6018e-01,\n",
      "         8.0183e-01,  1.8931e-01, -1.2436e+00,  8.9100e-01,  1.3111e+00,\n",
      "         1.0679e+00, -9.8595e-01, -1.1963e+00, -4.1794e-01, -1.0086e+00,\n",
      "        -8.4249e-01,  6.6162e-01, -4.1737e-01, -1.5102e+00, -1.0873e+00,\n",
      "        -8.9381e-01,  1.2390e-01, -2.7636e-01, -1.4441e+00, -1.7032e+00,\n",
      "         5.7670e-02, -9.6522e-01, -2.7228e-01, -1.0148e+00, -1.0806e+00,\n",
      "        -1.8075e+00, -1.2420e+00, -1.3345e+00, -2.5419e+00, -1.6025e+00,\n",
      "        -1.3718e+00, -2.1058e+00, -8.8906e-01, -1.6147e+00, -7.4457e-01,\n",
      "         2.0633e-01,  4.0162e-01, -1.1158e+00, -2.1391e-01,  5.5045e-01,\n",
      "        -1.4535e+00,  6.7484e-01, -4.4635e-01,  4.7911e-01, -4.4460e-01,\n",
      "        -1.1367e+00, -9.4420e-01, -1.0420e+00, -1.0300e+00, -1.6199e+00,\n",
      "        -9.8821e-01, -1.6943e+00, -8.3381e-01, -8.8653e-01, -1.0018e+00,\n",
      "        -3.0120e-01, -3.6861e-01, -1.0421e+00, -1.0748e+00, -6.9476e-01,\n",
      "        -1.4300e+00, -4.0555e-01, -7.7725e-01, -1.1562e+00, -1.7923e+00,\n",
      "        -3.3463e-02, -1.3299e+00, -6.2816e-01, -3.6225e-01, -1.9209e+00,\n",
      "        -7.7599e-01, -8.7449e-01, -1.1445e+00, -1.7621e+00, -1.9568e-01,\n",
      "        -7.9562e-01, -1.1453e+00, -1.3622e-01, -2.9786e+00, -9.1299e-01,\n",
      "         6.0809e-02, -2.4024e+00, -1.6790e+00, -4.0796e-01,  1.2717e+00,\n",
      "         2.4067e-01, -5.1714e-01,  1.0220e+00, -3.5802e-01,  1.5943e+00,\n",
      "         2.0396e+00, -1.7720e+00, -1.1770e+00, -1.2332e+00,  1.7474e+00,\n",
      "        -2.5435e+00,  8.2992e-01,  8.9308e-01,  1.5718e+00, -2.6832e-01,\n",
      "        -2.9344e+00,  1.1578e+00,  1.1030e+00,  2.9420e+00,  1.8121e+00,\n",
      "         4.3265e-01,  3.7164e-01,  4.7112e-01,  3.4284e-01, -1.6443e+00,\n",
      "        -1.2696e+00,  1.5604e+00,  8.5714e-01, -1.3070e+00,  1.1332e+00,\n",
      "         1.1306e-01, -5.5812e-01,  2.3996e+00,  8.1396e-01, -1.2863e+00,\n",
      "         9.5598e-01, -3.3366e-01,  1.1177e+00,  2.2080e+00,  3.9432e-01,\n",
      "         8.5503e-01,  8.7030e-01,  3.6441e-02,  4.0366e-01, -1.6350e+00,\n",
      "        -5.2588e-01,  2.7041e+00,  1.0425e+00,  5.1744e-02, -3.4044e-01,\n",
      "         5.3916e-01,  3.0116e+00,  3.3626e-01, -3.8830e-01, -2.7791e+00,\n",
      "         1.4368e+00,  9.6406e-01,  8.8037e-01, -1.4230e+00,  1.0649e+00,\n",
      "         5.8740e-02,  6.9935e-02,  2.0852e+00, -3.4839e-02,  8.8182e-01,\n",
      "         1.6127e+00,  9.2698e-02, -2.9068e+00, -2.1129e+00,  7.9105e-01,\n",
      "         1.1260e+00, -4.0930e-01, -1.1624e+00,  2.3933e+00, -1.5313e-01,\n",
      "        -1.2529e+00, -2.5563e+00,  2.0701e-01,  4.9867e-01, -9.4664e-01,\n",
      "        -9.6725e-02,  1.7585e+00,  8.1914e-01, -1.2432e+00,  6.5054e-01,\n",
      "         8.3815e-01,  4.4922e-01,  1.7475e+00,  2.1383e+00, -2.1966e+00,\n",
      "         4.5646e-01,  1.8016e+00,  3.5039e-01,  8.5650e-01,  1.9628e+00,\n",
      "        -6.9321e-01,  1.4115e-01, -1.2638e+00, -8.9798e-01,  2.9563e+00,\n",
      "        -2.7522e+00,  1.0691e+00,  7.3720e-01,  2.7739e+00,  1.2547e+00,\n",
      "         1.0683e+00,  6.4995e-01,  2.4742e+00, -1.2923e-01, -2.1116e+00,\n",
      "         1.4788e+00, -3.4713e-01,  2.0197e+00,  7.2741e-01,  1.1134e+00,\n",
      "        -2.9432e-01,  2.2813e-01,  7.5186e-01, -5.5658e-04,  1.6442e-01,\n",
      "         2.4303e-01,  8.7258e-01,  9.0174e-01,  4.2342e-01, -2.0676e-01,\n",
      "        -9.9006e-01,  2.3935e-01,  1.0078e+00,  2.0567e-01, -5.2149e-01,\n",
      "         9.9529e-01,  1.2327e+00,  1.1246e+00, -1.3584e+00,  3.4226e+00,\n",
      "        -8.9756e-01, -7.9297e-01, -1.7618e-01,  2.4804e-01, -1.5005e+00,\n",
      "         1.6391e+00,  1.5669e-01,  1.7766e+00,  1.3462e+00, -1.0788e+00,\n",
      "         1.5457e+00,  1.2014e+00, -2.8182e+00, -1.1415e-01,  1.9965e+00,\n",
      "         1.3573e-01,  1.3605e+00, -8.2191e-01,  1.9138e+00,  4.2191e-01,\n",
      "        -1.4035e+00,  2.8550e+00,  6.2662e-01,  1.6623e+00,  1.4301e+00,\n",
      "        -8.0584e-01, -6.2322e-01, -1.2516e+00,  1.6844e+00,  8.8194e-02,\n",
      "        -1.4960e+00, -9.8169e-02,  1.2211e+00, -5.8739e-01, -1.6745e+00,\n",
      "         3.0518e-01, -1.4576e+00,  1.8250e+00, -1.4880e+00,  1.6030e+00,\n",
      "        -1.2674e+00, -3.9222e-02,  1.3063e+00,  3.0266e-01, -2.3784e-01,\n",
      "        -2.6523e+00, -1.9392e+00, -2.3711e+00,  1.7366e+00,  2.3998e+00,\n",
      "         2.4192e+00, -1.0774e+00,  2.4284e+00,  8.2951e-01,  7.4395e-01,\n",
      "         1.0772e+00,  4.9492e-01,  1.3095e+00,  1.5980e+00,  2.3852e-01,\n",
      "        -1.3635e+00,  3.2936e+00, -6.5870e-01,  1.5044e+00,  2.4866e-01,\n",
      "         2.4276e+00,  1.7321e+00,  1.1733e+00, -1.8973e+00,  3.0704e+00,\n",
      "         2.1803e+00,  8.0627e-01, -9.7445e-01, -1.4137e+00, -1.1533e+00,\n",
      "         2.3500e+00,  1.1139e-01, -7.1897e-01,  1.0237e+00, -7.5032e-01,\n",
      "         9.4288e-01,  1.7936e+00,  1.1578e+00,  1.6909e+00,  2.2151e+00,\n",
      "         1.1305e+00, -1.1860e+00,  1.5965e+00,  3.4889e+00, -1.8827e+00,\n",
      "        -2.3443e-01,  2.3631e+00, -3.7770e-01,  7.7571e-01,  2.1321e+00,\n",
      "         1.0323e+00,  2.8467e+00,  1.3203e+00,  2.7516e+00, -2.7139e+00,\n",
      "         9.2975e-01,  1.1148e+00, -1.1001e+00,  2.8149e-01,  7.0703e-01,\n",
      "        -2.9327e+00,  2.3078e+00, -3.6708e-01, -3.6243e-01,  2.6950e+00,\n",
      "        -1.1056e+00, -1.1094e+00,  1.3415e+00,  1.0519e+00, -4.8246e-02,\n",
      "         1.5550e+00,  1.1406e+00, -4.7704e-01,  2.0652e+00, -1.2427e+00,\n",
      "        -4.3032e-01, -1.2140e+00,  3.9167e-01, -7.1590e-01,  1.2478e-01,\n",
      "         6.8476e-02, -2.1120e+00,  2.1825e+00,  8.4703e-01,  1.0117e+00,\n",
      "        -1.3708e+00,  2.0747e+00,  5.2596e-01,  1.3960e-01, -1.1142e-01,\n",
      "        -8.5860e-01, -1.3410e+00,  2.1324e-01,  1.5474e+00,  1.8475e+00,\n",
      "         9.6352e-02,  1.4557e+00,  2.7419e+00,  9.9619e-01,  5.5855e-01,\n",
      "         2.8928e+00,  1.5192e+00,  4.7188e-01,  3.5282e+00,  1.8289e+00,\n",
      "        -1.0310e+00,  3.1025e+00, -1.6924e+00, -4.9712e-01,  1.3239e+00,\n",
      "        -1.9846e+00,  6.3589e-01,  7.1835e-01,  4.8965e-01, -3.9473e-01,\n",
      "         8.7517e-01,  1.5093e+00, -7.9038e-01, -1.0755e+00,  2.5359e+00,\n",
      "         1.2322e+00,  1.9702e+00,  1.4948e+00, -2.3700e+00, -6.8604e-01,\n",
      "        -1.1903e+00, -1.7067e+00, -5.0018e-01,  2.7108e+00, -7.8431e-01,\n",
      "         2.1267e+00,  1.8651e+00,  1.1778e+00,  9.5196e-01,  2.3502e+00,\n",
      "         1.2494e+00, -6.4057e-01, -1.8320e+00,  4.8231e-01,  1.7764e+00,\n",
      "         2.1828e+00, -2.2697e+00,  2.5619e+00,  1.6683e+00,  6.5212e-01,\n",
      "         8.4402e-01,  9.0453e-01,  3.5921e-01, -1.8448e-01,  8.5823e-01,\n",
      "        -6.4066e-01,  3.2344e+00,  1.4466e+00,  1.1224e+00, -2.3895e+00,\n",
      "         4.1894e-01,  6.1775e-01,  1.2162e+00, -2.0794e-01, -3.8903e-01,\n",
      "         1.3677e+00, -8.8234e-01,  7.7980e-01, -7.0287e-01,  6.2736e-01,\n",
      "         1.6191e+00,  1.4639e+00,  1.4525e+00,  6.9436e-01,  1.6144e+00,\n",
      "        -1.6993e-01, -5.1163e-01,  6.4045e-01,  1.9689e+00,  9.8750e-01,\n",
      "         1.1298e-01, -2.0630e-02, -9.9694e-01,  9.4404e-01,  9.7147e-01,\n",
      "         1.5939e+00,  1.7738e+00, -9.6908e-01,  2.6527e+00,  1.1668e-01,\n",
      "         8.8372e-01, -6.6748e-01,  1.8122e+00, -1.7382e-01,  2.0959e+00,\n",
      "        -4.8395e-01,  2.0975e+00,  2.9461e+00,  6.7967e-01,  8.2753e-01,\n",
      "        -3.0987e-01,  1.8495e+00,  1.1701e+00,  7.5970e-01, -1.0419e+00,\n",
      "         3.6069e-01, -3.5948e-01,  2.0448e+00,  3.4359e+00,  2.6160e+00,\n",
      "        -1.2366e+00,  8.4505e-01, -4.1548e-01, -2.0633e+00,  1.2444e+00,\n",
      "         2.6667e-01, -1.0943e+00,  1.5766e+00,  3.0857e-01,  4.9220e-01,\n",
      "         2.4130e-02,  7.4905e-01, -3.7689e-01,  2.0857e+00, -7.5968e-02,\n",
      "        -1.4725e+00, -8.7829e-02, -2.1785e-03, -7.2289e-01,  2.7453e+00,\n",
      "         1.0558e+00,  1.0358e+00, -3.6823e-01,  1.7850e-01, -8.8531e-01,\n",
      "         5.8437e-02,  1.7401e+00,  2.4902e+00,  3.4036e+00,  4.2421e-01,\n",
      "        -2.3047e+00,  3.4660e-01, -7.1158e-01,  1.9504e+00, -7.0986e-01,\n",
      "        -1.3990e+00,  8.2915e-01, -9.2695e-01,  1.9022e+00, -1.1025e-01,\n",
      "        -1.9973e+00,  1.7394e+00,  4.1028e-01,  7.4328e-01, -2.4309e+00,\n",
      "        -1.9942e-02,  1.3137e+00,  1.1018e-01,  6.0235e-01,  1.3645e+00,\n",
      "        -8.0116e-01,  1.1153e+00, -3.8736e-01,  2.7246e+00, -7.0439e-01,\n",
      "         1.1364e+00,  8.9480e-01,  1.4179e+00, -2.2410e+00,  3.0538e+00,\n",
      "         2.5176e+00,  3.6144e+00, -6.8129e-01,  1.7225e-01, -2.7950e-01,\n",
      "         4.8365e-03,  1.7206e+00,  1.2681e+00, -1.3049e+00,  1.7701e-01,\n",
      "         2.2488e+00, -7.1940e-01,  2.1708e-02, -1.0013e+00,  1.0671e+00,\n",
      "        -3.8588e-01,  2.1830e+00,  1.7295e+00, -3.2254e-01, -7.9562e-01,\n",
      "        -2.7182e+00, -1.4253e+00, -5.2373e-01,  6.9296e-02,  1.8194e+00,\n",
      "        -1.6764e+00,  1.8912e-01,  2.0665e+00, -1.2106e+00, -2.0256e+00,\n",
      "         7.6526e-01,  1.5244e-01, -7.7123e-01, -3.7128e-01,  1.6333e-01,\n",
      "         3.7763e-02, -2.4446e-01,  2.1487e-01,  1.4547e+00, -8.8581e-01,\n",
      "         1.4537e+00, -1.3963e+00, -1.2318e-01, -7.9706e-01, -7.7160e-02,\n",
      "        -3.3871e-01,  1.4593e+00,  3.3268e+00,  1.0035e+00,  1.0301e+00,\n",
      "         1.2839e+00,  1.4189e+00,  2.2983e+00,  1.3625e+00,  1.9984e+00,\n",
      "         1.6934e+00,  2.8772e+00,  3.0425e+00,  9.8665e-03,  9.0332e-02,\n",
      "         8.9051e-02,  1.8484e+00,  7.9283e-01, -2.2761e-01,  2.8018e-02,\n",
      "         8.2606e-01, -4.5625e-02, -4.9683e-01,  1.9031e-01,  6.0051e-01,\n",
      "        -1.6045e+00,  4.1632e-01, -9.3531e-01, -2.8121e-01,  7.7017e-01,\n",
      "         1.5300e+00,  1.6979e+00, -6.9861e-01,  4.0612e-01, -1.7406e+00,\n",
      "         7.5615e-01, -1.4158e+00, -1.1195e+00, -1.4162e+00, -4.4647e-01,\n",
      "        -1.2234e+00, -6.2479e-01, -1.0433e+00, -1.6671e+00, -1.4958e+00,\n",
      "        -1.9992e+00, -1.6116e+00, -1.3088e+00, -1.2795e+00, -1.1404e+00,\n",
      "         6.8857e-01, -1.9635e+00, -1.1213e-01, -7.0807e-01, -7.0228e-01,\n",
      "         3.7293e-01, -5.3195e-01, -1.1589e+00,  3.6831e-01,  6.0639e-01,\n",
      "        -1.9071e-02, -7.4921e-02, -2.1281e-01, -6.3942e-01,  3.7998e-01,\n",
      "        -2.0630e+00, -2.8416e-01, -2.6815e-01, -1.3575e+00, -6.7436e-01,\n",
      "         3.6230e-01, -1.0186e+00, -8.3904e-01, -2.9279e+00, -1.0802e+00,\n",
      "        -2.1490e+00,  8.5192e-01, -3.0246e-01,  1.4644e+00,  1.3381e+00,\n",
      "        -2.5425e-02,  4.0787e-01, -1.5413e+00, -3.5253e+00,  1.8832e+00,\n",
      "         3.9282e-01,  1.6841e-01,  9.5309e-01,  6.7056e-01, -1.4556e+00,\n",
      "         7.3777e-01, -5.2453e-01, -2.4135e+00, -1.4659e+00, -1.1271e+00,\n",
      "        -8.9579e-01, -1.3735e+00, -4.5041e-01, -4.5754e-02,  4.8283e-01,\n",
      "        -3.5467e-01, -2.6509e+00, -6.2683e-01, -7.4522e-01, -1.9015e-01,\n",
      "        -7.2679e-01, -1.2740e+00, -1.5598e+00, -7.6841e-01,  1.0501e+00],\n",
      "       device='cuda:0')\n"
     ]
    }
   ],
   "source": [
    "# sample execution (requires torchvision)\n",
    "preprocess = T.Compose([\n",
    "    # transforms.Resize(256),\n",
    "    # transforms.CenterCrop(224),\n",
    "    # transforms.ToTensor(),\n",
    "    transforms.Normalize(mean=[0.485, 0.456, 0.406], std=[0.229, 0.224, 0.225]),\n",
    "])\n",
    "\n",
    "\n",
    "\n",
    "# move the input and model to GPU for speed if available\n",
    "\n",
    "\n",
    "for batch_idx, inputs in enumerate(tactile_loader):\n",
    "    print('inputs.shape: {}'.format(inputs.shape))\n",
    "    img_range = max_tactile - min_tactile\n",
    "    inputs = (inputs - min_tactile) / img_range\n",
    "    if torch.cuda.is_available():\n",
    "        inputs = inputs.to('cuda')\n",
    "        model.to('cuda')\n",
    "        \n",
    "    with torch.no_grad():\n",
    "        output = model(inputs)\n",
    "        \n",
    "    print('output.shape: {}'.format(output.shape))\n",
    "    break\n",
    "\n",
    "\n",
    "# Tensor of shape 1000, with confidence scores over Imagenet's 1000 classes\n",
    "# print(output[0])\n",
    "# The output has unnormalized scores. To get probabilities, you can run a softmax on it.\n",
    "# probabilities = torch.nn.functional.softmax(output[0], dim=0)\n",
    "# print(probabilities)"
   ]
  },
  {
   "cell_type": "code",
   "execution_count": null,
   "id": "d3dc2c35-589d-4dbc-a599-3894461be3fe",
   "metadata": {},
   "outputs": [],
   "source": []
  }
 ],
 "metadata": {
  "kernelspec": {
   "display_name": "Python 3 (ipykernel)",
   "language": "python",
   "name": "python3"
  },
  "language_info": {
   "codemirror_mode": {
    "name": "ipython",
    "version": 3
   },
   "file_extension": ".py",
   "mimetype": "text/x-python",
   "name": "python",
   "nbconvert_exporter": "python",
   "pygments_lexer": "ipython3",
   "version": "3.9.13"
  }
 },
 "nbformat": 4,
 "nbformat_minor": 5
}
