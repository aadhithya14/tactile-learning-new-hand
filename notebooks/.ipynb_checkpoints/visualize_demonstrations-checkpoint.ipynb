{
 "cells": [
  {
   "cell_type": "code",
   "execution_count": 1,
   "metadata": {},
   "outputs": [],
   "source": [
    "import cv2\n",
    "import h5py\n",
    "import matplotlib.pyplot as plt\n",
    "import numpy as np\n",
    "import os\n",
    "import pickle\n",
    "import shutil\n",
    "\n",
    "from tqdm import tqdm"
   ]
  },
  {
   "cell_type": "code",
   "execution_count": 2,
   "metadata": {},
   "outputs": [],
   "source": [
    "from tactile_learning.datasets.preprocess import dump_video_to_images, get_closest_id\n",
    "from tactile_learning.utils.visualization import plot_tactile_sensor"
   ]
  },
  {
   "cell_type": "code",
   "execution_count": 3,
   "metadata": {},
   "outputs": [],
   "source": [
    "import decimal\n",
    "\n",
    "# Get the metadata of images and tactile information\n",
    "def get_desired_indices(root, fps, view_num=0): # frames per second from the video to receive\n",
    "    image_metadata_path = os.path.join(root, f'cam_{view_num}_rgb_video.metadata')\n",
    "    tactile_info_path = os.path.join(root, 'touch_sensor_values.h5')\n",
    "\n",
    "    with open(image_metadata_path, 'rb') as f:\n",
    "        image_metadata = pickle.load(f)\n",
    "        image_timestamps_array = np.asarray(image_metadata['timestamps'])\n",
    "        image_timestamps = np.asarray(image_metadata['timestamps']) / 1000.\n",
    "    with h5py.File(tactile_info_path, 'r') as f:\n",
    "        tactile_timestamps = f['timestamps'][()]\n",
    "\n",
    "    image_id, tactile_id = 0, 0\n",
    "    curr_timestamp = tactile_timestamps[0] # These timestamps are in seconds\n",
    "    image_id = get_closest_id(image_id, curr_timestamp, image_timestamps)\n",
    "\n",
    "    tactile_indices, image_indices = [], []\n",
    "    tactile_indices.append(tactile_id)\n",
    "    image_indices.append(image_id)\n",
    "\n",
    "    frame_period = 1. / fps\n",
    "    while(True):\n",
    "        curr_timestamp += frame_period\n",
    "        tactile_id = get_closest_id(tactile_id, curr_timestamp, tactile_timestamps)\n",
    "        image_id = get_closest_id(image_id, curr_timestamp, image_timestamps)\n",
    "\n",
    "        if curr_timestamp > tactile_timestamps[tactile_id] and curr_timestamp > image_timestamps[image_id]:\n",
    "            break\n",
    "\n",
    "        tactile_indices.append(tactile_id)\n",
    "        image_indices.append(image_id)\n",
    "\n",
    "    assert len(tactile_indices) == len(image_indices)\n",
    "    return tactile_indices, image_indices\n"
   ]
  },
  {
   "cell_type": "code",
   "execution_count": 4,
   "metadata": {},
   "outputs": [],
   "source": [
    "\n",
    "def dump_states(root, tactile_indices, image_indices, view_num=0):\n",
    "    # Make directory to dump the visualization\n",
    "    pbar = tqdm(total=len(tactile_indices))\n",
    "\n",
    "    with h5py.File(os.path.join(root, 'touch_sensor_values.h5'), 'r') as f:\n",
    "        all_tactile_values = f['sensor_values'][()]\n",
    "\n",
    "    viz_dir = os.path.join(root, 'visualization')\n",
    "    os.makedirs(viz_dir, exist_ok=True)\n",
    "    \n",
    "    video_path = os.path.join(root, f'cam_{view_num}_rgb_video.avi')\n",
    "    vidcap = cv2.VideoCapture(video_path)\n",
    "    success, image = vidcap.read()\n",
    "    frame_count = int(vidcap.get(cv2.CAP_PROP_FRAME_COUNT))\n",
    "    frame_id = 0\n",
    "    for i in range(len(tactile_indices)):\n",
    "        tactile_id, image_id = tactile_indices[i], image_indices[i]\n",
    "        while frame_id != image_id and success:\n",
    "            # Find the frame that is equal to image_id\n",
    "            success, image = vidcap.read()\n",
    "            frame_id += 1\n",
    "        dump_demo_state(\n",
    "            frame_id = i,\n",
    "            viz_dir = viz_dir,\n",
    "            tactile_values = all_tactile_values[tactile_id,:,:,:],\n",
    "            camera_img = image\n",
    "        )\n",
    "\n",
    "        pbar.update(1)\n",
    "\n",
    "    pbar.close()\n",
    "\n",
    "def dump_demo_state(frame_id, viz_dir, tactile_values, camera_img):\n",
    "    # tactile_values: (15,16,3)\n",
    "    fig, axs = plt.subplots(figsize=(20,20), nrows=4, ncols=4)\n",
    "    for row_id in range(4):\n",
    "        for column_id in range(4):\n",
    "            if row_id + column_id > 0: # The top left axis should stay empty\n",
    "                plot_tactile_sensor(\n",
    "                    ax = axs[column_id][row_id],\n",
    "                    sensor_values = tactile_values[row_id*4 + column_id-1],\n",
    "                    title = f'Sensor {row_id*4+column_id-1}'\n",
    "                )\n",
    "    fig.suptitle('Tactile State')\n",
    "    fig.savefig(os.path.join(viz_dir, 'Tactile State.png'))\n",
    "    fig.clf()\n",
    "    plt.close()\n",
    "\n",
    "    tactile_img = cv2.imread(os.path.join(viz_dir, 'Tactile State.png'))\n",
    "    height_scale = camera_img.shape[0] / tactile_img.shape[0]\n",
    "    tactile_img = cv2.resize(\n",
    "        tactile_img,\n",
    "        (int(tactile_img.shape[1] * height_scale),\n",
    "         int(tactile_img.shape[0] * height_scale))\n",
    "    )\n",
    "    total_img = cv2.hconcat([camera_img, tactile_img])\n",
    "\n",
    "    img_name = 'state_{}.png'.format(str(frame_id).zfill(3))\n",
    "    cv2.imwrite(os.path.join(viz_dir, img_name), total_img)\n",
    "\n"
   ]
  },
  {
   "cell_type": "code",
   "execution_count": 5,
   "metadata": {},
   "outputs": [
    {
     "name": "stdout",
     "output_type": "stream",
     "text": [
      "tactile_indices: [0, 111, 209, 300, 407, 494, 592, 690, 789, 888, 985, 1081, 1181, 1279, 1377, 1476, 1580, 1675, 1774, 1871, 1970, 2069, 2167, 2265, 2364, 2463, 2560, 2660, 2757, 2854, 2953, 3052, 3152, 3250, 3351, 3447, 3546, 3646, 3742, 3841, 3939, 4037, 4136, 4235, 4333, 4432, 4530, 4628, 4727, 4825, 4922, 5021, 5120, 5218, 5316, 5414, 5512, 5610, 5709, 5808, 5907, 6005, 6105, 6203, 6312, 6400, 6497, 6597, 6695, 6794, 6890, 6990, 7088, 7187, 7285, 7384, 7489, 7587, 7687, 7779, 7877, 7976, 8074, 8172, 8271, 8369, 8468, 8566, 8665, 8763, 8861, 8963, 9061, 9160, 9265, 9354, 9453, 9551, 9649, 9747, 9846, 9944, 10043, 10140, 10239, 10337, 10439, 10534, 10633, 10734, 10831, 10931, 11032, 11126, 11224, 11322, 11420, 11519, 11616, 11716, 11814, 11911, 12009, 12107, 12205, 12305, 12402, 12502, 12599, 12698, 12797, 12895, 12994, 13092, 13191, 13289, 13388, 13486, 13587, 13683, 13781, 13881, 13980, 14077, 14176, 14274, 14372, 14471, 14570, 14668, 14767, 14865, 14964, 15062, 15161, 15258, 15357, 15455], image_indices: [71, 101, 131, 161, 190, 220, 249, 279, 307, 335, 365, 395, 425, 454, 484, 514, 543, 573, 603, 633, 663, 693, 723, 752, 782, 812, 842, 872, 902, 932, 962, 992, 1022, 1052, 1082, 1111, 1141, 1171, 1200, 1230, 1260, 1290, 1320, 1350, 1379, 1409, 1439, 1469, 1499, 1528, 1558, 1588, 1618, 1647, 1677, 1707, 1737, 1767, 1797, 1826, 1855, 1885, 1915, 1945, 1975, 2004, 2034, 2064, 2093, 2123, 2153, 2183, 2213, 2242, 2272, 2301, 2331, 2360, 2390, 2420, 2449, 2479, 2509, 2539, 2569, 2598, 2628, 2658, 2688, 2718, 2748, 2778, 2808, 2838, 2868, 2897, 2927, 2957, 2987, 3017, 3047, 3077, 3106, 3136, 3166, 3196, 3225, 3255, 3285, 3314, 3344, 3373, 3403, 3433, 3463, 3493, 3523, 3553, 3583, 3613, 3643, 3673, 3703, 3732, 3761, 3791, 3821, 3851, 3881, 3911, 3941, 3971, 4001, 4031, 4061, 4091, 4121, 4151, 4180, 4210, 4240, 4270, 4300, 4330, 4360, 4390, 4420, 4450, 4480, 4510, 4539, 4569, 4599, 4629, 4658, 4687, 4717, 4747]\n"
     ]
    },
    {
     "name": "stderr",
     "output_type": "stream",
     "text": [
      "100%|█████████████████████████████████████████████████████| 158/158 [02:51<00:00,  1.08s/it]\n"
     ]
    },
    {
     "name": "stdout",
     "output_type": "stream",
     "text": [
      "tactile_indices: [0, 99, 202, 296, 395, 492, 591, 689, 787, 886, 984, 1081, 1180, 1278, 1376, 1475, 1575, 1671, 1773, 1870, 1969, 2068, 2164, 2262, 2361, 2459, 2558, 2656, 2755, 2853, 2952, 3051, 3149, 3247, 3346, 3444, 3542, 3640, 3739, 3837, 3935, 4034, 4131, 4230, 4328, 4429, 4526, 4624, 4731, 4822, 4919, 5018, 5117, 5215, 5313, 5412, 5511, 5609, 5706, 5806, 5906, 6003, 6101, 6200, 6299, 6397, 6496, 6595, 6693, 6790, 6889, 6988, 7087, 7185, 7284, 7381, 7481, 7579, 7677, 7775, 7871, 7970, 8067, 8166, 8265, 8362, 8461, 8560, 8657, 8756, 8861, 8957, 9053, 9159, 9248, 9346, 9445, 9544, 9641, 9740, 9839, 9937, 10034, 10134, 10231, 10330, 10429, 10529, 10628, 10732, 10824, 10923, 11021, 11120, 11217, 11315, 11414, 11513, 11610, 11708], image_indices: [70, 100, 130, 160, 190, 217, 246, 275, 305, 333, 362, 392, 421, 450, 480, 510, 540, 570, 600, 630, 660, 690, 720, 750, 779, 809, 839, 869, 899, 928, 958, 988, 1018, 1048, 1078, 1108, 1137, 1166, 1196, 1226, 1255, 1285, 1315, 1345, 1375, 1405, 1435, 1464, 1494, 1524, 1554, 1584, 1614, 1644, 1674, 1703, 1733, 1763, 1792, 1821, 1851, 1881, 1909, 1938, 1968, 1997, 2027, 2057, 2087, 2117, 2147, 2177, 2207, 2237, 2267, 2297, 2326, 2356, 2386, 2415, 2445, 2475, 2505, 2533, 2563, 2593, 2623, 2653, 2683, 2713, 2742, 2772, 2802, 2832, 2862, 2892, 2922, 2952, 2982, 3012, 3042, 3072, 3102, 3132, 3162, 3192, 3221, 3251, 3281, 3311, 3341, 3371, 3400, 3430, 3460, 3490, 3520, 3550, 3580, 3610]\n"
     ]
    },
    {
     "name": "stderr",
     "output_type": "stream",
     "text": [
      "100%|█████████████████████████████████████████████████████| 120/120 [02:10<00:00,  1.09s/it]\n"
     ]
    },
    {
     "name": "stdout",
     "output_type": "stream",
     "text": [
      "tactile_indices: [0, 99, 197, 295, 393, 491, 590, 688, 785, 891, 983, 1083, 1181, 1281, 1377, 1477, 1574, 1671, 1770, 1869, 1967, 2065, 2164, 2263, 2374, 2473, 2560, 2661, 2756, 2855, 2954, 3052, 3150, 3248, 3346, 3446, 3544, 3642, 3740, 3839, 3938, 4036, 4136, 4233, 4332, 4430, 4528, 4626, 4725, 4822, 4921, 5018, 5117, 5214, 5313, 5410, 5508, 5607, 5707, 5805, 5903, 6002, 6100, 6198, 6297, 6395, 6494, 6591, 6690, 6789, 6886, 6986, 7089, 7184, 7282, 7380, 7478, 7576, 7675, 7774, 7872, 7970, 8068, 8166, 8265, 8362, 8462, 8561, 8659, 8758, 8856, 8954, 9053, 9152, 9249, 9347, 9445, 9544, 9642, 9741, 9839, 9936, 10034, 10133, 10230, 10330, 10428, 10526], image_indices: [70, 100, 129, 159, 189, 217, 247, 277, 307, 337, 366, 396, 426, 456, 485, 515, 545, 575, 605, 635, 665, 694, 724, 754, 784, 814, 844, 873, 903, 933, 963, 992, 1022, 1052, 1082, 1112, 1142, 1172, 1202, 1232, 1262, 1292, 1322, 1352, 1381, 1411, 1441, 1471, 1500, 1530, 1560, 1590, 1620, 1649, 1679, 1709, 1738, 1768, 1798, 1828, 1858, 1888, 1918, 1948, 1978, 2008, 2038, 2067, 2097, 2127, 2157, 2187, 2217, 2247, 2277, 2306, 2336, 2366, 2396, 2425, 2455, 2483, 2513, 2543, 2573, 2602, 2632, 2662, 2692, 2722, 2751, 2781, 2811, 2841, 2871, 2900, 2930, 2960, 2990, 3020, 3050, 3080, 3110, 3139, 3169, 3199, 3229, 3259]\n"
     ]
    },
    {
     "name": "stderr",
     "output_type": "stream",
     "text": [
      "100%|█████████████████████████████████████████████████████| 108/108 [01:59<00:00,  1.11s/it]\n"
     ]
    },
    {
     "name": "stdout",
     "output_type": "stream",
     "text": [
      "tactile_indices: [0, 98, 201, 298, 393, 491, 589, 687, 785, 884, 982, 1083, 1180, 1278, 1387, 1483, 1585, 1675, 1773, 1872, 1968, 2067, 2166, 2264, 2364, 2461, 2560, 2658, 2756, 2859, 2955, 3052, 3149, 3246, 3347, 3444, 3543, 3641, 3739, 3841, 3937, 4034, 4134, 4231, 4329, 4427, 4526, 4624, 4724, 4820, 4919, 5018, 5116, 5215, 5313, 5412, 5510, 5608, 5707, 5807, 5906, 6002, 6104, 6200, 6297, 6395, 6494, 6592, 6690, 6790, 6888, 6985, 7084, 7182, 7287, 7379, 7482, 7575, 7674, 7775, 7874, 7971, 8069, 8167, 8265, 8363, 8463, 8560, 8658, 8768, 8856, 8956, 9052, 9149, 9247, 9346, 9444, 9545, 9642, 9740, 9839, 9937, 10035, 10134, 10234, 10335, 10437, 10537, 10634, 10725, 10824, 10923, 11022, 11119, 11217, 11316, 11414, 11512, 11611, 11710, 11810, 11905, 12012, 12103, 12201, 12300, 12399, 12496, 12595, 12693, 12792, 12890, 12992, 13087, 13185, 13283, 13381, 13479, 13579, 13679, 13777, 13875, 13975, 14070, 14170, 14268, 14365, 14463, 14561, 14659, 14757, 14856, 14961, 15054, 15153, 15250, 15350, 15448, 15544, 15642, 15740, 15839, 15937, 16038, 16136, 16233, 16331, 16428, 16527, 16626, 16725, 16824, 16922, 17020, 17119, 17219, 17315, 17413, 17513, 17608, 17711, 17805, 17908, 18008, 18102, 18200, 18299, 18396, 18496, 18593, 18691, 18791, 18887, 18984, 19084, 19182, 19279, 19378, 19478, 19576, 19674, 19772, 19871], image_indices: [69, 97, 127, 153, 179, 208, 238, 268, 298, 327, 357, 387, 416, 446, 476, 505, 535, 565, 595, 625, 654, 684, 714, 744, 774, 803, 833, 863, 893, 922, 952, 981, 1011, 1041, 1070, 1100, 1129, 1159, 1189, 1219, 1249, 1278, 1307, 1337, 1367, 1397, 1427, 1457, 1486, 1516, 1546, 1576, 1605, 1635, 1665, 1695, 1725, 1754, 1784, 1814, 1843, 1873, 1902, 1932, 1962, 1992, 2021, 2050, 2080, 2110, 2139, 2169, 2199, 2229, 2259, 2288, 2318, 2348, 2378, 2408, 2438, 2467, 2497, 2527, 2556, 2586, 2615, 2645, 2675, 2705, 2735, 2765, 2794, 2823, 2852, 2882, 2911, 2940, 2970, 3000, 3030, 3059, 3089, 3119, 3148, 3178, 3208, 3237, 3267, 3296, 3325, 3355, 3385, 3414, 3444, 3474, 3503, 3533, 3563, 3593, 3622, 3652, 3682, 3712, 3741, 3771, 3800, 3830, 3860, 3890, 3920, 3950, 3979, 4009, 4039, 4069, 4098, 4127, 4157, 4187, 4216, 4246, 4276, 4304, 4334, 4364, 4394, 4423, 4453, 4483, 4513, 4542, 4572, 4602, 4632, 4662, 4692, 4722, 4751, 4781, 4811, 4841, 4870, 4900, 4930, 4960, 4990, 5020, 5050, 5079, 5109, 5139, 5169, 5198, 5227, 5257, 5287, 5316, 5345, 5375, 5405, 5435, 5465, 5495, 5525, 5554, 5583, 5613, 5643, 5672, 5702, 5732, 5762, 5792, 5821, 5851, 5881, 5911, 5941, 5970, 6000, 6030, 6060]\n"
     ]
    },
    {
     "name": "stderr",
     "output_type": "stream",
     "text": [
      "100%|█████████████████████████████████████████████████████| 203/203 [03:42<00:00,  1.10s/it]\n"
     ]
    },
    {
     "name": "stdout",
     "output_type": "stream",
     "text": [
      "tactile_indices: [0, 101, 198, 297, 395, 494, 592, 690, 786, 885, 983, 1081, 1179, 1278, 1377, 1474, 1573, 1672, 1770, 1869, 1966, 2065, 2164, 2262, 2361, 2460, 2559, 2657, 2759, 2855, 2953, 3053, 3154, 3250, 3349, 3447, 3545, 3643, 3740, 3839, 3937, 4035, 4135, 4233, 4331, 4432, 4528, 4627, 4726, 4828, 4922, 5020, 5118, 5216, 5315, 5414, 5511, 5610, 5710, 5808, 5905, 6005, 6103, 6200, 6298, 6395, 6495, 6593, 6690, 6788, 6887, 6986, 7083, 7182, 7282, 7381, 7482, 7578, 7684, 7774, 7872, 7973, 8070, 8168, 8266, 8364, 8463, 8562, 8658, 8759], image_indices: [70, 100, 129, 158, 188, 218, 247, 277, 306, 336, 365, 394, 423, 453, 483, 512, 541, 571, 601, 631, 661, 691, 721, 751, 781, 811, 841, 871, 901, 931, 961, 991, 1021, 1050, 1080, 1110, 1140, 1170, 1200, 1230, 1260, 1290, 1320, 1350, 1380, 1410, 1440, 1470, 1500, 1530, 1559, 1589, 1619, 1649, 1679, 1708, 1738, 1768, 1798, 1828, 1858, 1888, 1917, 1947, 1977, 2005, 2035, 2064, 2094, 2124, 2154, 2184, 2214, 2244, 2273, 2303, 2332, 2362, 2391, 2421, 2451, 2481, 2511, 2540, 2570, 2600, 2630, 2660, 2689, 2719]\n"
     ]
    },
    {
     "name": "stderr",
     "output_type": "stream",
     "text": [
      "100%|███████████████████████████████████████████████████████| 90/90 [01:41<00:00,  1.13s/it]\n"
     ]
    },
    {
     "name": "stdout",
     "output_type": "stream",
     "text": [
      "tactile_indices: [0, 100, 198, 297, 395, 492, 590, 689, 787, 886, 984, 1083, 1182, 1288, 1379, 1489, 1577, 1676, 1773, 1872, 1970, 2068, 2166, 2264, 2364, 2461, 2560, 2659, 2762, 2862, 2956, 3056, 3152, 3250, 3348, 3447, 3545, 3643, 3742, 3841, 3939, 4036, 4137, 4235, 4334, 4431, 4531, 4630, 4728, 4826, 4924, 5023, 5121, 5219, 5319, 5417, 5515, 5614, 5712, 5810, 5908, 6008, 6107, 6203, 6301, 6401, 6499, 6597, 6695, 6794, 6894, 6996, 7091, 7193, 7288, 7386, 7485, 7581, 7680, 7779, 7877, 7975, 8074, 8173, 8271, 8370, 8469, 8567, 8669, 8774, 8863, 8963, 9061, 9159, 9257, 9356, 9454, 9552, 9651, 9750, 9848, 9947, 10046, 10144, 10243, 10340, 10441, 10538, 10638, 10736, 10834, 10933, 11029, 11129, 11228, 11326, 11424, 11522, 11621, 11719, 11818, 11916, 12015, 12113, 12211, 12309, 12405, 12506, 12603, 12700, 12800, 12902, 12999, 13100, 13195, 13293, 13391, 13490, 13593, 13687, 13785, 13883, 13981, 14080, 14178, 14276, 14376, 14473, 14571, 14670, 14768, 14867, 14964, 15063, 15161, 15260, 15358, 15456, 15555, 15653, 15751, 15850, 15948, 16051, 16149, 16246, 16344, 16442, 16539, 16638, 16735, 16834, 16933, 17031, 17133, 17227, 17326, 17424, 17523, 17623, 17721, 17820, 17921, 18017, 18119, 18214, 18312, 18410, 18509, 18604, 18704, 18801, 18900, 18999, 19096, 19195, 19293, 19392, 19490, 19588, 19687, 19784, 19882, 19981, 20079, 20177, 20276, 20375, 20474, 20573, 20671, 20773, 20867, 20966, 21064], image_indices: [73, 102, 131, 161, 191, 221, 251, 281, 311, 341, 371, 401, 431, 461, 491, 521, 551, 581, 610, 640, 670, 700, 730, 760, 790, 819, 849, 879, 909, 939, 969, 999, 1029, 1059, 1089, 1119, 1149, 1179, 1209, 1239, 1269, 1299, 1329, 1359, 1389, 1419, 1449, 1479, 1509, 1539, 1568, 1597, 1627, 1657, 1687, 1717, 1746, 1776, 1806, 1835, 1865, 1895, 1925, 1955, 1985, 2015, 2045, 2075, 2105, 2135, 2165, 2194, 2224, 2254, 2284, 2314, 2344, 2374, 2404, 2434, 2464, 2494, 2524, 2554, 2584, 2613, 2642, 2671, 2701, 2731, 2761, 2791, 2821, 2851, 2880, 2910, 2940, 2970, 3000, 3030, 3060, 3089, 3119, 3149, 3179, 3209, 3239, 3269, 3298, 3328, 3358, 3388, 3418, 3448, 3478, 3508, 3538, 3568, 3598, 3628, 3658, 3688, 3717, 3747, 3777, 3807, 3837, 3867, 3897, 3927, 3957, 3986, 4016, 4046, 4076, 4106, 4136, 4166, 4196, 4225, 4255, 4285, 4315, 4345, 4375, 4405, 4435, 4465, 4495, 4524, 4554, 4583, 4613, 4643, 4672, 4702, 4732, 4762, 4792, 4822, 4852, 4882, 4912, 4942, 4972, 5002, 5032, 5062, 5092, 5122, 5152, 5182, 5212, 5242, 5272, 5302, 5332, 5362, 5392, 5422, 5452, 5482, 5512, 5542, 5572, 5601, 5631, 5661, 5690, 5720, 5750, 5780, 5810, 5840, 5870, 5900, 5929, 5959, 5989, 6019, 6048, 6077, 6107, 6137, 6167, 6197, 6227, 6257, 6287, 6317, 6347, 6376, 6405, 6435, 6465]\n"
     ]
    },
    {
     "name": "stderr",
     "output_type": "stream",
     "text": [
      "100%|█████████████████████████████████████████████████████| 215/215 [03:59<00:00,  1.11s/it]\n"
     ]
    }
   ],
   "source": [
    "import glob\n",
    "# roots = [\n",
    "#     '/home/irmak/Workspace/Holo-Bot/extracted_data/bowl_picking/eval/demonstration_7',\n",
    "#     '/home/irmak/Workspace/Holo-Bot/extracted_data/bowl_picking/eval/demonstration_9',\n",
    "#     '/home/irmak/Workspace/Holo-Bot/extracted_data/bowl_picking/eval/demonstration_15',\n",
    "# ]\n",
    "# data_path = '/home/irmak/Workspace/Holo-Bot/extracted_data/tofu_picking/eval'\n",
    "data_path = '/data/tactile_learning/deployment_data/data/bowl_picking/demonstrations/image_generalization'\n",
    "roots = glob.glob(f'{data_path}/demonstration_*')\n",
    "\n",
    "retrieval_fps = 1\n",
    "view_num=0\n",
    "for root in roots:\n",
    "    # print('root: {}'.format(root))\n",
    "    tactile_indices, image_indices = get_desired_indices(root=root, fps=retrieval_fps, view_num=view_num)\n",
    "    print('tactile_indices: {}, image_indices: {}'.format(tactile_indices, image_indices))\n",
    "    dump_states(root, tactile_indices, image_indices, view_num=view_num)\n"
   ]
  },
  {
   "cell_type": "code",
   "execution_count": 7,
   "metadata": {},
   "outputs": [
    {
     "name": "stdout",
     "output_type": "stream",
     "text": [
      "['/home/irmak/Workspace/Holo-Bot/extracted_data/tofu_picking/eval/demonstration_large', '/home/irmak/Workspace/Holo-Bot/extracted_data/tofu_picking/eval/demonstration_largest_size', '/home/irmak/Workspace/Holo-Bot/extracted_data/tofu_picking/eval/demonstration_raspberry_whole', '/home/irmak/Workspace/Holo-Bot/extracted_data/tofu_picking/eval/demonstration_small_mid_size', '/home/irmak/Workspace/Holo-Bot/extracted_data/tofu_picking/eval/demonstration_small_size', '/home/irmak/Workspace/Holo-Bot/extracted_data/tofu_picking/eval/demonstration_mid_size', '/home/irmak/Workspace/Holo-Bot/extracted_data/tofu_picking/eval/demonstration_smallest_size', '/home/irmak/Workspace/Holo-Bot/extracted_data/tofu_picking/eval/demonstration_large_mid_size']\n"
     ]
    }
   ],
   "source": [
    "print(roots)"
   ]
  },
  {
   "cell_type": "code",
   "execution_count": 8,
   "metadata": {},
   "outputs": [
    {
     "name": "stdout",
     "output_type": "stream",
     "text": [
      "dumping video in root: /home/irmak/Workspace/Holo-Bot/extracted_data/tofu_picking/eval/demonstration_large\n"
     ]
    },
    {
     "name": "stderr",
     "output_type": "stream",
     "text": [
      "ffmpeg version 5.1.2 Copyright (c) 2000-2022 the FFmpeg developers\n",
      "  built with gcc 10.4.0 (conda-forge gcc 10.4.0-18)\n",
      "  configuration: --prefix=/home/irmak/miniconda3/envs/tactile_learning --cc=/home/conda/feedstock_root/build_artifacts/ffmpeg_1666357487580/_build_env/bin/x86_64-conda-linux-gnu-cc --cxx=/home/conda/feedstock_root/build_artifacts/ffmpeg_1666357487580/_build_env/bin/x86_64-conda-linux-gnu-c++ --nm=/home/conda/feedstock_root/build_artifacts/ffmpeg_1666357487580/_build_env/bin/x86_64-conda-linux-gnu-nm --ar=/home/conda/feedstock_root/build_artifacts/ffmpeg_1666357487580/_build_env/bin/x86_64-conda-linux-gnu-ar --disable-doc --disable-openssl --enable-demuxer=dash --enable-hardcoded-tables --enable-libfreetype --enable-libfontconfig --enable-libopenh264 --enable-gnutls --enable-libmp3lame --enable-libvpx --enable-pthreads --enable-vaapi --enable-gpl --enable-libx264 --enable-libx265 --enable-libaom --enable-libsvtav1 --enable-libxml2 --enable-pic --enable-shared --disable-static --enable-version3 --enable-zlib --pkg-config=/home/conda/feedstock_root/build_artifacts/ffmpeg_1666357487580/_build_env/bin/pkg-config\n",
      "  libavutil      57. 28.100 / 57. 28.100\n",
      "  libavcodec     59. 37.100 / 59. 37.100\n",
      "  libavformat    59. 27.100 / 59. 27.100\n",
      "  libavdevice    59.  7.100 / 59.  7.100\n",
      "  libavfilter     8. 44.100 /  8. 44.100\n",
      "  libswscale      6.  7.100 /  6.  7.100\n",
      "  libswresample   4.  7.100 /  4.  7.100\n",
      "  libpostproc    56.  6.100 / 56.  6.100\n",
      "[image2 @ 0x56173eb02640] Pattern type 'glob_sequence' is deprecated: use pattern_type 'glob' instead\n",
      "Input #0, image2, from '/home/irmak/Workspace/Holo-Bot/extracted_data/tofu_picking/eval/demonstration_large/visualization/%*.png':\n",
      "  Duration: 00:00:07.68, start: 0.000000, bitrate: N/A\n",
      "  Stream #0:0: Video: png, rgba(pc), 2000x2000 [SAR 3937:3937 DAR 1:1], 25 fps, 25 tbr, 25 tbn\n",
      "Stream mapping:\n",
      "  Stream #0:0 -> #0:0 (png (native) -> h264 (libx264))\n",
      "Press [q] to stop, [?] for help\n",
      "[libx264 @ 0x56173eb0eec0] using SAR=1/1\n",
      "[libx264 @ 0x56173eb0eec0] using cpu capabilities: MMX2 SSE2Fast SSSE3 SSE4.2 AVX FMA3 BMI2 AVX2\n",
      "[libx264 @ 0x56173eb0eec0] profile High 4:4:4 Predictive, level 4.0, 4:4:4, 8-bit\n",
      "[libx264 @ 0x56173eb0eec0] 264 - core 164 r3095 baee400 - H.264/MPEG-4 AVC codec - Copyleft 2003-2022 - http://www.videolan.org/x264.html - options: cabac=1 ref=3 deblock=1:0:0 analyse=0x3:0x113 me=hex subme=7 psy=1 psy_rd=1.00:0.00 mixed_ref=1 me_range=16 chroma_me=1 trellis=1 8x8dct=1 cqm=0 deadzone=21,11 fast_pskip=1 chroma_qp_offset=4 threads=22 lookahead_threads=3 sliced_threads=0 nr=0 decimate=1 interlaced=0 bluray_compat=0 constrained_intra=0 bframes=3 b_pyramid=2 b_adapt=1 b_bias=0 direct=1 weightb=1 open_gop=0 weightp=2 keyint=250 keyint_min=10 scenecut=40 intra_refresh=0 rc_lookahead=40 rc=crf mbtree=1 crf=23.0 qcomp=0.60 qpmin=0 qpmax=69 qpstep=4 ip_ratio=1.40 aq=1:1.00\n",
      "Output #0, mp4, to '/home/irmak/Workspace/Holo-Bot/extracted_data/tofu_picking/eval/demonstration_large/visualization_0.mp4':\n",
      "  Metadata:\n",
      "    encoder         : Lavf59.27.100\n",
      "  Stream #0:0: Video: h264 (avc1 / 0x31637661), yuv444p(tv, progressive), 2000x720 [SAR 1:1 DAR 25:9], q=2-31, 10 fps, 10240 tbn\n",
      "    Metadata:\n",
      "      encoder         : Lavc59.37.100 libx264\n",
      "    Side data:\n",
      "      cpb: bitrate max/min/avg: 0/0/0 buffer size: 0 vbv_delay: N/A\n",
      "frame=  192 fps=105 q=-1.0 Lsize=    4797kB time=00:00:18.90 bitrate=2079.2kbits/s speed=10.3x    \n",
      "video:4794kB audio:0kB subtitle:0kB other streams:0kB global headers:0kB muxing overhead: 0.065777%\n",
      "[libx264 @ 0x56173eb0eec0] frame I:1     Avg QP:23.00  size: 51840\n",
      "[libx264 @ 0x56173eb0eec0] frame P:49    Avg QP:20.25  size: 42044\n",
      "[libx264 @ 0x56173eb0eec0] frame B:142   Avg QP:21.83  size: 19692\n",
      "[libx264 @ 0x56173eb0eec0] consecutive B-frames:  1.0%  0.0%  3.1% 95.8%\n",
      "[libx264 @ 0x56173eb0eec0] mb I  I16..4: 27.5% 43.8% 28.6%\n",
      "[libx264 @ 0x56173eb0eec0] mb P  I16..4:  2.7% 23.9%  0.6%  P16..4: 22.5% 10.8%  6.0%  0.0%  0.0%    skip:33.6%\n",
      "[libx264 @ 0x56173eb0eec0] mb B  I16..4:  0.9% 11.1%  0.2%  B16..8: 23.6%  5.0%  1.2%  direct: 4.6%  skip:53.4%  L0:46.7% L1:45.9% BI: 7.4%\n",
      "[libx264 @ 0x56173eb0eec0] 8x8 transform intra:88.5% inter:85.8%\n",
      "[libx264 @ 0x56173eb0eec0] coded y,u,v intra: 71.4% 37.6% 31.4% inter: 19.6% 12.7% 10.6%\n",
      "[libx264 @ 0x56173eb0eec0] i16 v,h,dc,p: 26% 28% 23% 22%\n",
      "[libx264 @ 0x56173eb0eec0] i8 v,h,dc,ddl,ddr,vr,hd,vl,hu: 13% 22% 49%  3%  2%  2%  3%  3%  4%\n",
      "[libx264 @ 0x56173eb0eec0] i4 v,h,dc,ddl,ddr,vr,hd,vl,hu: 30% 29% 15%  4%  5%  4%  5%  4%  4%\n",
      "[libx264 @ 0x56173eb0eec0] Weighted P-Frames: Y:0.0% UV:0.0%\n",
      "[libx264 @ 0x56173eb0eec0] ref P L0: 38.0% 10.8% 32.1% 19.1%\n",
      "[libx264 @ 0x56173eb0eec0] ref B L0: 68.7% 24.5%  6.7%\n",
      "[libx264 @ 0x56173eb0eec0] ref B L1: 88.3% 11.7%\n",
      "[libx264 @ 0x56173eb0eec0] kb/s:2045.13\n",
      "ffmpeg version 5.1.2 Copyright (c) 2000-2022 the FFmpeg developers\n",
      "  built with gcc 10.4.0 (conda-forge gcc 10.4.0-18)\n",
      "  configuration: --prefix=/home/irmak/miniconda3/envs/tactile_learning --cc=/home/conda/feedstock_root/build_artifacts/ffmpeg_1666357487580/_build_env/bin/x86_64-conda-linux-gnu-cc --cxx=/home/conda/feedstock_root/build_artifacts/ffmpeg_1666357487580/_build_env/bin/x86_64-conda-linux-gnu-c++ --nm=/home/conda/feedstock_root/build_artifacts/ffmpeg_1666357487580/_build_env/bin/x86_64-conda-linux-gnu-nm --ar=/home/conda/feedstock_root/build_artifacts/ffmpeg_1666357487580/_build_env/bin/x86_64-conda-linux-gnu-ar --disable-doc --disable-openssl --enable-demuxer=dash --enable-hardcoded-tables --enable-libfreetype --enable-libfontconfig --enable-libopenh264 --enable-gnutls --enable-libmp3lame --enable-libvpx --enable-pthreads --enable-vaapi --enable-gpl --enable-libx264 --enable-libx265 --enable-libaom --enable-libsvtav1 --enable-libxml2 --enable-pic --enable-shared --disable-static --enable-version3 --enable-zlib --pkg-config=/home/conda/feedstock_root/build_artifacts/ffmpeg_1666357487580/_build_env/bin/pkg-config\n",
      "  libavutil      57. 28.100 / 57. 28.100\n",
      "  libavcodec     59. 37.100 / 59. 37.100\n",
      "  libavformat    59. 27.100 / 59. 27.100\n",
      "  libavdevice    59.  7.100 / 59.  7.100\n",
      "  libavfilter     8. 44.100 /  8. 44.100\n",
      "  libswscale      6.  7.100 /  6.  7.100\n",
      "  libswresample   4.  7.100 /  4.  7.100\n",
      "  libpostproc    56.  6.100 / 56.  6.100\n",
      "[image2 @ 0x5559ad732640] Pattern type 'glob_sequence' is deprecated: use pattern_type 'glob' instead\n",
      "Input #0, image2, from '/home/irmak/Workspace/Holo-Bot/extracted_data/tofu_picking/eval/demonstration_largest_size/visualization/%*.png':\n",
      "  Duration: 00:00:03.56, start: 0.000000, bitrate: N/A\n",
      "  Stream #0:0: Video: png, rgba(pc), 2000x2000 [SAR 3937:3937 DAR 1:1], 25 fps, 25 tbr, 25 tbn\n",
      "Stream mapping:\n",
      "  Stream #0:0 -> #0:0 (png (native) -> h264 (libx264))\n",
      "Press [q] to stop, [?] for help\n"
     ]
    },
    {
     "name": "stdout",
     "output_type": "stream",
     "text": [
      "dumping video in root: /home/irmak/Workspace/Holo-Bot/extracted_data/tofu_picking/eval/demonstration_largest_size\n"
     ]
    },
    {
     "name": "stderr",
     "output_type": "stream",
     "text": [
      "[libx264 @ 0x5559ad73c880] using SAR=1/1\n",
      "[libx264 @ 0x5559ad73c880] using cpu capabilities: MMX2 SSE2Fast SSSE3 SSE4.2 AVX FMA3 BMI2 AVX2\n",
      "[libx264 @ 0x5559ad73c880] profile High 4:4:4 Predictive, level 4.0, 4:4:4, 8-bit\n",
      "[libx264 @ 0x5559ad73c880] 264 - core 164 r3095 baee400 - H.264/MPEG-4 AVC codec - Copyleft 2003-2022 - http://www.videolan.org/x264.html - options: cabac=1 ref=3 deblock=1:0:0 analyse=0x3:0x113 me=hex subme=7 psy=1 psy_rd=1.00:0.00 mixed_ref=1 me_range=16 chroma_me=1 trellis=1 8x8dct=1 cqm=0 deadzone=21,11 fast_pskip=1 chroma_qp_offset=4 threads=22 lookahead_threads=3 sliced_threads=0 nr=0 decimate=1 interlaced=0 bluray_compat=0 constrained_intra=0 bframes=3 b_pyramid=2 b_adapt=1 b_bias=0 direct=1 weightb=1 open_gop=0 weightp=2 keyint=250 keyint_min=10 scenecut=40 intra_refresh=0 rc_lookahead=40 rc=crf mbtree=1 crf=23.0 qcomp=0.60 qpmin=0 qpmax=69 qpstep=4 ip_ratio=1.40 aq=1:1.00\n",
      "Output #0, mp4, to '/home/irmak/Workspace/Holo-Bot/extracted_data/tofu_picking/eval/demonstration_largest_size/visualization_0.mp4':\n",
      "  Metadata:\n",
      "    encoder         : Lavf59.27.100\n",
      "  Stream #0:0: Video: h264 (avc1 / 0x31637661), yuv444p(tv, progressive), 2000x720 [SAR 1:1 DAR 25:9], q=2-31, 10 fps, 10240 tbn\n",
      "    Metadata:\n",
      "      encoder         : Lavc59.37.100 libx264\n",
      "    Side data:\n",
      "      cpb: bitrate max/min/avg: 0/0/0 buffer size: 0 vbv_delay: N/A\n",
      "frame=   89 fps= 76 q=-1.0 Lsize=    2194kB time=00:00:08.60 bitrate=2090.1kbits/s speed=7.36x    \n",
      "video:2192kB audio:0kB subtitle:0kB other streams:0kB global headers:0kB muxing overhead: 0.087174%\n",
      "[libx264 @ 0x5559ad73c880] frame I:1     Avg QP:22.82  size: 51638\n",
      "[libx264 @ 0x5559ad73c880] frame P:24    Avg QP:20.31  size: 42300\n",
      "[libx264 @ 0x5559ad73c880] frame B:64    Avg QP:21.74  size: 18397\n",
      "[libx264 @ 0x5559ad73c880] consecutive B-frames:  2.2%  4.5%  3.4% 89.9%\n",
      "[libx264 @ 0x5559ad73c880] mb I  I16..4: 28.3% 43.0% 28.7%\n",
      "[libx264 @ 0x5559ad73c880] mb P  I16..4:  2.6% 25.3%  0.9%  P16..4: 21.5%  9.9%  6.2%  0.0%  0.0%    skip:33.6%\n",
      "[libx264 @ 0x5559ad73c880] mb B  I16..4:  0.7% 10.0%  0.1%  B16..8: 23.5%  4.8%  1.2%  direct: 4.4%  skip:55.2%  L0:46.1% L1:46.3% BI: 7.6%\n",
      "[libx264 @ 0x5559ad73c880] 8x8 transform intra:86.9% inter:85.8%\n",
      "[libx264 @ 0x5559ad73c880] coded y,u,v intra: 70.2% 35.9% 30.0% inter: 18.9% 12.1% 10.0%\n",
      "[libx264 @ 0x5559ad73c880] i16 v,h,dc,p: 30% 31% 20% 19%\n",
      "[libx264 @ 0x5559ad73c880] i8 v,h,dc,ddl,ddr,vr,hd,vl,hu: 14% 22% 48%  3%  2%  2%  3%  3%  4%\n",
      "[libx264 @ 0x5559ad73c880] i4 v,h,dc,ddl,ddr,vr,hd,vl,hu: 34% 32% 13%  3%  3%  3%  4%  3%  4%\n",
      "[libx264 @ 0x5559ad73c880] Weighted P-Frames: Y:0.0% UV:0.0%\n",
      "[libx264 @ 0x5559ad73c880] ref P L0: 34.6% 11.3% 32.9% 21.2%\n",
      "[libx264 @ 0x5559ad73c880] ref B L0: 67.2% 26.4%  6.4%\n",
      "[libx264 @ 0x5559ad73c880] ref B L1: 87.9% 12.1%\n",
      "[libx264 @ 0x5559ad73c880] kb/s:2017.31\n",
      "ffmpeg version 5.1.2 Copyright (c) 2000-2022 the FFmpeg developers\n",
      "  built with gcc 10.4.0 (conda-forge gcc 10.4.0-18)\n",
      "  configuration: --prefix=/home/irmak/miniconda3/envs/tactile_learning --cc=/home/conda/feedstock_root/build_artifacts/ffmpeg_1666357487580/_build_env/bin/x86_64-conda-linux-gnu-cc --cxx=/home/conda/feedstock_root/build_artifacts/ffmpeg_1666357487580/_build_env/bin/x86_64-conda-linux-gnu-c++ --nm=/home/conda/feedstock_root/build_artifacts/ffmpeg_1666357487580/_build_env/bin/x86_64-conda-linux-gnu-nm --ar=/home/conda/feedstock_root/build_artifacts/ffmpeg_1666357487580/_build_env/bin/x86_64-conda-linux-gnu-ar --disable-doc --disable-openssl --enable-demuxer=dash --enable-hardcoded-tables --enable-libfreetype --enable-libfontconfig --enable-libopenh264 --enable-gnutls --enable-libmp3lame --enable-libvpx --enable-pthreads --enable-vaapi --enable-gpl --enable-libx264 --enable-libx265 --enable-libaom --enable-libsvtav1 --enable-libxml2 --enable-pic --enable-shared --disable-static --enable-version3 --enable-zlib --pkg-config=/home/conda/feedstock_root/build_artifacts/ffmpeg_1666357487580/_build_env/bin/pkg-config\n",
      "  libavutil      57. 28.100 / 57. 28.100\n",
      "  libavcodec     59. 37.100 / 59. 37.100\n",
      "  libavformat    59. 27.100 / 59. 27.100\n",
      "  libavdevice    59.  7.100 / 59.  7.100\n",
      "  libavfilter     8. 44.100 /  8. 44.100\n",
      "  libswscale      6.  7.100 /  6.  7.100\n",
      "  libswresample   4.  7.100 /  4.  7.100\n",
      "  libpostproc    56.  6.100 / 56.  6.100\n",
      "[image2 @ 0x55ed295db640] Pattern type 'glob_sequence' is deprecated: use pattern_type 'glob' instead\n",
      "Input #0, image2, from '/home/irmak/Workspace/Holo-Bot/extracted_data/tofu_picking/eval/demonstration_raspberry_whole/visualization/%*.png':\n",
      "  Duration: 00:00:09.88, start: 0.000000, bitrate: N/A\n",
      "  Stream #0:0: Video: png, rgba(pc), 2000x2000 [SAR 3937:3937 DAR 1:1], 25 fps, 25 tbr, 25 tbn\n",
      "Stream mapping:\n",
      "  Stream #0:0 -> #0:0 (png (native) -> h264 (libx264))\n",
      "Press [q] to stop, [?] for help\n"
     ]
    },
    {
     "name": "stdout",
     "output_type": "stream",
     "text": [
      "dumping video in root: /home/irmak/Workspace/Holo-Bot/extracted_data/tofu_picking/eval/demonstration_raspberry_whole\n"
     ]
    },
    {
     "name": "stderr",
     "output_type": "stream",
     "text": [
      "[libx264 @ 0x55ed295eaac0] using SAR=1/1\n",
      "[libx264 @ 0x55ed295eaac0] using cpu capabilities: MMX2 SSE2Fast SSSE3 SSE4.2 AVX FMA3 BMI2 AVX2\n",
      "[libx264 @ 0x55ed295eaac0] profile High 4:4:4 Predictive, level 4.0, 4:4:4, 8-bit\n",
      "[libx264 @ 0x55ed295eaac0] 264 - core 164 r3095 baee400 - H.264/MPEG-4 AVC codec - Copyleft 2003-2022 - http://www.videolan.org/x264.html - options: cabac=1 ref=3 deblock=1:0:0 analyse=0x3:0x113 me=hex subme=7 psy=1 psy_rd=1.00:0.00 mixed_ref=1 me_range=16 chroma_me=1 trellis=1 8x8dct=1 cqm=0 deadzone=21,11 fast_pskip=1 chroma_qp_offset=4 threads=22 lookahead_threads=3 sliced_threads=0 nr=0 decimate=1 interlaced=0 bluray_compat=0 constrained_intra=0 bframes=3 b_pyramid=2 b_adapt=1 b_bias=0 direct=1 weightb=1 open_gop=0 weightp=2 keyint=250 keyint_min=10 scenecut=40 intra_refresh=0 rc_lookahead=40 rc=crf mbtree=1 crf=23.0 qcomp=0.60 qpmin=0 qpmax=69 qpstep=4 ip_ratio=1.40 aq=1:1.00\n",
      "Output #0, mp4, to '/home/irmak/Workspace/Holo-Bot/extracted_data/tofu_picking/eval/demonstration_raspberry_whole/visualization_0.mp4':\n",
      "  Metadata:\n",
      "    encoder         : Lavf59.27.100\n",
      "  Stream #0:0: Video: h264 (avc1 / 0x31637661), yuv444p(tv, progressive), 2000x720 [SAR 1:1 DAR 25:9], q=2-31, 10 fps, 10240 tbn\n",
      "    Metadata:\n",
      "      encoder         : Lavc59.37.100 libx264\n",
      "    Side data:\n",
      "      cpb: bitrate max/min/avg: 0/0/0 buffer size: 0 vbv_delay: N/A\n",
      "frame=  247 fps=116 q=-1.0 Lsize=    5877kB time=00:00:24.40 bitrate=1973.0kbits/s speed=11.5x    \n",
      "video:5873kB audio:0kB subtitle:0kB other streams:0kB global headers:0kB muxing overhead: 0.065199%\n",
      "[libx264 @ 0x55ed295eaac0] frame I:1     Avg QP:22.96  size: 52223\n",
      "[libx264 @ 0x55ed295eaac0] frame P:62    Avg QP:20.18  size: 41850\n",
      "[libx264 @ 0x55ed295eaac0] frame B:184   Avg QP:21.92  size: 18295\n",
      "[libx264 @ 0x55ed295eaac0] consecutive B-frames:  0.4%  0.8%  0.0% 98.8%\n",
      "[libx264 @ 0x55ed295eaac0] mb I  I16..4: 28.0% 43.3% 28.7%\n",
      "[libx264 @ 0x55ed295eaac0] mb P  I16..4:  1.7% 18.9%  0.3%  P16..4: 25.3% 12.5%  7.6%  0.0%  0.0%    skip:33.7%\n",
      "[libx264 @ 0x55ed295eaac0] mb B  I16..4:  0.6%  9.4%  0.1%  B16..8: 25.6%  4.7%  1.1%  direct: 4.3%  skip:54.1%  L0:50.5% L1:42.3% BI: 7.2%\n",
      "[libx264 @ 0x55ed295eaac0] 8x8 transform intra:90.6% inter:86.5%\n",
      "[libx264 @ 0x55ed295eaac0] coded y,u,v intra: 75.0% 39.7% 32.8% inter: 20.0% 12.8% 10.1%\n",
      "[libx264 @ 0x55ed295eaac0] i16 v,h,dc,p: 25% 28% 24% 23%\n",
      "[libx264 @ 0x55ed295eaac0] i8 v,h,dc,ddl,ddr,vr,hd,vl,hu: 11% 21% 54%  3%  2%  2%  2%  2%  4%\n",
      "[libx264 @ 0x55ed295eaac0] i4 v,h,dc,ddl,ddr,vr,hd,vl,hu: 34% 30% 14%  3%  4%  4%  4%  3%  4%\n",
      "[libx264 @ 0x55ed295eaac0] Weighted P-Frames: Y:4.8% UV:0.0%\n",
      "[libx264 @ 0x55ed295eaac0] ref P L0: 33.4%  8.8% 35.1% 21.8%  0.9%\n",
      "[libx264 @ 0x55ed295eaac0] ref B L0: 62.1% 29.6%  8.4%\n",
      "[libx264 @ 0x55ed295eaac0] ref B L1: 86.0% 14.0%\n",
      "[libx264 @ 0x55ed295eaac0] kb/s:1947.58\n",
      "ffmpeg version 5.1.2 Copyright (c) 2000-2022 the FFmpeg developers\n",
      "  built with gcc 10.4.0 (conda-forge gcc 10.4.0-18)\n",
      "  configuration: --prefix=/home/irmak/miniconda3/envs/tactile_learning --cc=/home/conda/feedstock_root/build_artifacts/ffmpeg_1666357487580/_build_env/bin/x86_64-conda-linux-gnu-cc --cxx=/home/conda/feedstock_root/build_artifacts/ffmpeg_1666357487580/_build_env/bin/x86_64-conda-linux-gnu-c++ --nm=/home/conda/feedstock_root/build_artifacts/ffmpeg_1666357487580/_build_env/bin/x86_64-conda-linux-gnu-nm --ar=/home/conda/feedstock_root/build_artifacts/ffmpeg_1666357487580/_build_env/bin/x86_64-conda-linux-gnu-ar --disable-doc --disable-openssl --enable-demuxer=dash --enable-hardcoded-tables --enable-libfreetype --enable-libfontconfig --enable-libopenh264 --enable-gnutls --enable-libmp3lame --enable-libvpx --enable-pthreads --enable-vaapi --enable-gpl --enable-libx264 --enable-libx265 --enable-libaom --enable-libsvtav1 --enable-libxml2 --enable-pic --enable-shared --disable-static --enable-version3 --enable-zlib --pkg-config=/home/conda/feedstock_root/build_artifacts/ffmpeg_1666357487580/_build_env/bin/pkg-config\n",
      "  libavutil      57. 28.100 / 57. 28.100\n",
      "  libavcodec     59. 37.100 / 59. 37.100\n",
      "  libavformat    59. 27.100 / 59. 27.100\n",
      "  libavdevice    59.  7.100 / 59.  7.100\n",
      "  libavfilter     8. 44.100 /  8. 44.100\n",
      "  libswscale      6.  7.100 /  6.  7.100\n",
      "  libswresample   4.  7.100 /  4.  7.100\n",
      "  libpostproc    56.  6.100 / 56.  6.100\n",
      "[image2 @ 0x56136be2b640] Pattern type 'glob_sequence' is deprecated: use pattern_type 'glob' instead\n",
      "Input #0, image2, from '/home/irmak/Workspace/Holo-Bot/extracted_data/tofu_picking/eval/demonstration_small_mid_size/visualization/%*.png':\n",
      "  Duration: 00:00:04.84, start: 0.000000, bitrate: N/A\n",
      "  Stream #0:0: Video: png, rgba(pc), 2000x2000 [SAR 3937:3937 DAR 1:1], 25 fps, 25 tbr, 25 tbn\n",
      "Stream mapping:\n",
      "  Stream #0:0 -> #0:0 (png (native) -> h264 (libx264))\n",
      "Press [q] to stop, [?] for help\n"
     ]
    },
    {
     "name": "stdout",
     "output_type": "stream",
     "text": [
      "dumping video in root: /home/irmak/Workspace/Holo-Bot/extracted_data/tofu_picking/eval/demonstration_small_mid_size\n"
     ]
    },
    {
     "name": "stderr",
     "output_type": "stream",
     "text": [
      "[libx264 @ 0x56136be36600] using SAR=1/1\n",
      "[libx264 @ 0x56136be36600] using cpu capabilities: MMX2 SSE2Fast SSSE3 SSE4.2 AVX FMA3 BMI2 AVX2\n",
      "[libx264 @ 0x56136be36600] profile High 4:4:4 Predictive, level 4.0, 4:4:4, 8-bit\n",
      "[libx264 @ 0x56136be36600] 264 - core 164 r3095 baee400 - H.264/MPEG-4 AVC codec - Copyleft 2003-2022 - http://www.videolan.org/x264.html - options: cabac=1 ref=3 deblock=1:0:0 analyse=0x3:0x113 me=hex subme=7 psy=1 psy_rd=1.00:0.00 mixed_ref=1 me_range=16 chroma_me=1 trellis=1 8x8dct=1 cqm=0 deadzone=21,11 fast_pskip=1 chroma_qp_offset=4 threads=22 lookahead_threads=3 sliced_threads=0 nr=0 decimate=1 interlaced=0 bluray_compat=0 constrained_intra=0 bframes=3 b_pyramid=2 b_adapt=1 b_bias=0 direct=1 weightb=1 open_gop=0 weightp=2 keyint=250 keyint_min=10 scenecut=40 intra_refresh=0 rc_lookahead=40 rc=crf mbtree=1 crf=23.0 qcomp=0.60 qpmin=0 qpmax=69 qpstep=4 ip_ratio=1.40 aq=1:1.00\n",
      "Output #0, mp4, to '/home/irmak/Workspace/Holo-Bot/extracted_data/tofu_picking/eval/demonstration_small_mid_size/visualization_0.mp4':\n",
      "  Metadata:\n",
      "    encoder         : Lavf59.27.100\n",
      "  Stream #0:0: Video: h264 (avc1 / 0x31637661), yuv444p(tv, progressive), 2000x720 [SAR 1:1 DAR 25:9], q=2-31, 10 fps, 10240 tbn\n",
      "    Metadata:\n",
      "      encoder         : Lavc59.37.100 libx264\n",
      "    Side data:\n",
      "      cpb: bitrate max/min/avg: 0/0/0 buffer size: 0 vbv_delay: N/A\n",
      "frame=  121 fps= 89 q=-1.0 Lsize=    3134kB time=00:00:11.80 bitrate=2175.4kbits/s speed=8.73x    \n",
      "video:3131kB audio:0kB subtitle:0kB other streams:0kB global headers:0kB muxing overhead: 0.074134%\n",
      "[libx264 @ 0x56136be36600] frame I:1     Avg QP:22.97  size: 51102\n",
      "[libx264 @ 0x56136be36600] frame P:30    Avg QP:20.30  size: 43773\n",
      "[libx264 @ 0x56136be36600] frame B:90    Avg QP:21.88  size: 20460\n",
      "[libx264 @ 0x56136be36600] consecutive B-frames:  0.8%  0.0%  0.0% 99.2%\n",
      "[libx264 @ 0x56136be36600] mb I  I16..4: 27.3% 44.4% 28.4%\n",
      "[libx264 @ 0x56136be36600] mb P  I16..4:  2.1% 22.8%  0.8%  P16..4: 22.8% 11.7%  6.2%  0.0%  0.0%    skip:33.7%\n",
      "[libx264 @ 0x56136be36600] mb B  I16..4:  0.7% 10.7%  0.1%  B16..8: 24.8%  5.5%  1.3%  direct: 4.7%  skip:52.2%  L0:47.6% L1:43.9% BI: 8.5%\n",
      "[libx264 @ 0x56136be36600] 8x8 transform intra:88.8% inter:85.1%\n",
      "[libx264 @ 0x56136be36600] coded y,u,v intra: 72.8% 37.5% 30.9% inter: 20.8% 12.6% 9.7%\n",
      "[libx264 @ 0x56136be36600] i16 v,h,dc,p: 29% 28% 23% 19%\n",
      "[libx264 @ 0x56136be36600] i8 v,h,dc,ddl,ddr,vr,hd,vl,hu: 12% 21% 53%  3%  2%  2%  2%  2%  4%\n",
      "[libx264 @ 0x56136be36600] i4 v,h,dc,ddl,ddr,vr,hd,vl,hu: 33% 32% 14%  3%  3%  3%  4%  3%  4%\n",
      "[libx264 @ 0x56136be36600] Weighted P-Frames: Y:0.0% UV:0.0%\n",
      "[libx264 @ 0x56136be36600] ref P L0: 38.3% 10.5% 31.2% 20.0%\n",
      "[libx264 @ 0x56136be36600] ref B L0: 70.2% 23.6%  6.2%\n",
      "[libx264 @ 0x56136be36600] ref B L1: 88.4% 11.6%\n",
      "[libx264 @ 0x56136be36600] kb/s:2119.45\n",
      "ffmpeg version 5.1.2 Copyright (c) 2000-2022 the FFmpeg developers\n",
      "  built with gcc 10.4.0 (conda-forge gcc 10.4.0-18)\n",
      "  configuration: --prefix=/home/irmak/miniconda3/envs/tactile_learning --cc=/home/conda/feedstock_root/build_artifacts/ffmpeg_1666357487580/_build_env/bin/x86_64-conda-linux-gnu-cc --cxx=/home/conda/feedstock_root/build_artifacts/ffmpeg_1666357487580/_build_env/bin/x86_64-conda-linux-gnu-c++ --nm=/home/conda/feedstock_root/build_artifacts/ffmpeg_1666357487580/_build_env/bin/x86_64-conda-linux-gnu-nm --ar=/home/conda/feedstock_root/build_artifacts/ffmpeg_1666357487580/_build_env/bin/x86_64-conda-linux-gnu-ar --disable-doc --disable-openssl --enable-demuxer=dash --enable-hardcoded-tables --enable-libfreetype --enable-libfontconfig --enable-libopenh264 --enable-gnutls --enable-libmp3lame --enable-libvpx --enable-pthreads --enable-vaapi --enable-gpl --enable-libx264 --enable-libx265 --enable-libaom --enable-libsvtav1 --enable-libxml2 --enable-pic --enable-shared --disable-static --enable-version3 --enable-zlib --pkg-config=/home/conda/feedstock_root/build_artifacts/ffmpeg_1666357487580/_build_env/bin/pkg-config\n",
      "  libavutil      57. 28.100 / 57. 28.100\n",
      "  libavcodec     59. 37.100 / 59. 37.100\n",
      "  libavformat    59. 27.100 / 59. 27.100\n",
      "  libavdevice    59.  7.100 / 59.  7.100\n",
      "  libavfilter     8. 44.100 /  8. 44.100\n",
      "  libswscale      6.  7.100 /  6.  7.100\n",
      "  libswresample   4.  7.100 /  4.  7.100\n",
      "  libpostproc    56.  6.100 / 56.  6.100\n",
      "[image2 @ 0x56154d325640] Pattern type 'glob_sequence' is deprecated: use pattern_type 'glob' instead\n",
      "Input #0, image2, from '/home/irmak/Workspace/Holo-Bot/extracted_data/tofu_picking/eval/demonstration_small_size/visualization/%*.png':\n",
      "  Duration: 00:00:06.16, start: 0.000000, bitrate: N/A\n",
      "  Stream #0:0: Video: png, rgba(pc), 2000x2000 [SAR 3937:3937 DAR 1:1], 25 fps, 25 tbr, 25 tbn\n",
      "Stream mapping:\n",
      "  Stream #0:0 -> #0:0 (png (native) -> h264 (libx264))\n",
      "Press [q] to stop, [?] for help\n"
     ]
    },
    {
     "name": "stdout",
     "output_type": "stream",
     "text": [
      "dumping video in root: /home/irmak/Workspace/Holo-Bot/extracted_data/tofu_picking/eval/demonstration_small_size\n"
     ]
    },
    {
     "name": "stderr",
     "output_type": "stream",
     "text": [
      "[libx264 @ 0x56154d331000] using SAR=1/1\n",
      "[libx264 @ 0x56154d331000] using cpu capabilities: MMX2 SSE2Fast SSSE3 SSE4.2 AVX FMA3 BMI2 AVX2\n",
      "[libx264 @ 0x56154d331000] profile High 4:4:4 Predictive, level 4.0, 4:4:4, 8-bit\n",
      "[libx264 @ 0x56154d331000] 264 - core 164 r3095 baee400 - H.264/MPEG-4 AVC codec - Copyleft 2003-2022 - http://www.videolan.org/x264.html - options: cabac=1 ref=3 deblock=1:0:0 analyse=0x3:0x113 me=hex subme=7 psy=1 psy_rd=1.00:0.00 mixed_ref=1 me_range=16 chroma_me=1 trellis=1 8x8dct=1 cqm=0 deadzone=21,11 fast_pskip=1 chroma_qp_offset=4 threads=22 lookahead_threads=3 sliced_threads=0 nr=0 decimate=1 interlaced=0 bluray_compat=0 constrained_intra=0 bframes=3 b_pyramid=2 b_adapt=1 b_bias=0 direct=1 weightb=1 open_gop=0 weightp=2 keyint=250 keyint_min=10 scenecut=40 intra_refresh=0 rc_lookahead=40 rc=crf mbtree=1 crf=23.0 qcomp=0.60 qpmin=0 qpmax=69 qpstep=4 ip_ratio=1.40 aq=1:1.00\n",
      "Output #0, mp4, to '/home/irmak/Workspace/Holo-Bot/extracted_data/tofu_picking/eval/demonstration_small_size/visualization_0.mp4':\n",
      "  Metadata:\n",
      "    encoder         : Lavf59.27.100\n",
      "  Stream #0:0: Video: h264 (avc1 / 0x31637661), yuv444p(tv, progressive), 2000x720 [SAR 1:1 DAR 25:9], q=2-31, 10 fps, 10240 tbn\n",
      "    Metadata:\n",
      "      encoder         : Lavc59.37.100 libx264\n",
      "    Side data:\n",
      "      cpb: bitrate max/min/avg: 0/0/0 buffer size: 0 vbv_delay: N/A\n",
      "frame=  154 fps= 96 q=-1.0 Lsize=    3866kB time=00:00:15.10 bitrate=2097.6kbits/s speed=9.41x    \n",
      "video:3864kB audio:0kB subtitle:0kB other streams:0kB global headers:0kB muxing overhead: 0.069885%\n",
      "[libx264 @ 0x56154d331000] frame I:1     Avg QP:22.65  size: 50812\n",
      "[libx264 @ 0x56154d331000] frame P:39    Avg QP:20.37  size: 43313\n",
      "[libx264 @ 0x56154d331000] frame B:114   Avg QP:21.89  size: 19437\n",
      "[libx264 @ 0x56154d331000] consecutive B-frames:  0.6%  1.3%  1.9% 96.1%\n",
      "[libx264 @ 0x56154d331000] mb I  I16..4: 25.4% 46.0% 28.6%\n",
      "[libx264 @ 0x56154d331000] mb P  I16..4:  2.2% 23.4%  0.8%  P16..4: 22.5% 11.3%  6.4%  0.0%  0.0%    skip:33.3%\n",
      "[libx264 @ 0x56154d331000] mb B  I16..4:  0.7% 10.1%  0.1%  B16..8: 24.8%  5.4%  1.3%  direct: 4.4%  skip:53.2%  L0:47.2% L1:45.4% BI: 7.4%\n",
      "[libx264 @ 0x56154d331000] 8x8 transform intra:88.7% inter:85.2%\n",
      "[libx264 @ 0x56154d331000] coded y,u,v intra: 72.5% 37.1% 30.1% inter: 19.8% 12.2% 9.2%\n",
      "[libx264 @ 0x56154d331000] i16 v,h,dc,p: 29% 28% 24% 19%\n",
      "[libx264 @ 0x56154d331000] i8 v,h,dc,ddl,ddr,vr,hd,vl,hu: 12% 22% 51%  3%  2%  2%  2%  2%  4%\n",
      "[libx264 @ 0x56154d331000] i4 v,h,dc,ddl,ddr,vr,hd,vl,hu: 32% 29% 15%  4%  4%  4%  5%  4%  4%\n",
      "[libx264 @ 0x56154d331000] Weighted P-Frames: Y:0.0% UV:0.0%\n",
      "[libx264 @ 0x56154d331000] ref P L0: 37.9% 10.4% 32.1% 19.6%\n",
      "[libx264 @ 0x56154d331000] ref B L0: 68.6% 24.5%  6.9%\n",
      "[libx264 @ 0x56154d331000] ref B L1: 88.4% 11.6%\n",
      "[libx264 @ 0x56154d331000] kb/s:2054.95\n",
      "ffmpeg version 5.1.2 Copyright (c) 2000-2022 the FFmpeg developers\n",
      "  built with gcc 10.4.0 (conda-forge gcc 10.4.0-18)\n",
      "  configuration: --prefix=/home/irmak/miniconda3/envs/tactile_learning --cc=/home/conda/feedstock_root/build_artifacts/ffmpeg_1666357487580/_build_env/bin/x86_64-conda-linux-gnu-cc --cxx=/home/conda/feedstock_root/build_artifacts/ffmpeg_1666357487580/_build_env/bin/x86_64-conda-linux-gnu-c++ --nm=/home/conda/feedstock_root/build_artifacts/ffmpeg_1666357487580/_build_env/bin/x86_64-conda-linux-gnu-nm --ar=/home/conda/feedstock_root/build_artifacts/ffmpeg_1666357487580/_build_env/bin/x86_64-conda-linux-gnu-ar --disable-doc --disable-openssl --enable-demuxer=dash --enable-hardcoded-tables --enable-libfreetype --enable-libfontconfig --enable-libopenh264 --enable-gnutls --enable-libmp3lame --enable-libvpx --enable-pthreads --enable-vaapi --enable-gpl --enable-libx264 --enable-libx265 --enable-libaom --enable-libsvtav1 --enable-libxml2 --enable-pic --enable-shared --disable-static --enable-version3 --enable-zlib --pkg-config=/home/conda/feedstock_root/build_artifacts/ffmpeg_1666357487580/_build_env/bin/pkg-config\n",
      "  libavutil      57. 28.100 / 57. 28.100\n",
      "  libavcodec     59. 37.100 / 59. 37.100\n",
      "  libavformat    59. 27.100 / 59. 27.100\n",
      "  libavdevice    59.  7.100 / 59.  7.100\n",
      "  libavfilter     8. 44.100 /  8. 44.100\n",
      "  libswscale      6.  7.100 /  6.  7.100\n",
      "  libswresample   4.  7.100 /  4.  7.100\n",
      "  libpostproc    56.  6.100 / 56.  6.100\n",
      "[image2 @ 0x560fc8c4a640] Pattern type 'glob_sequence' is deprecated: use pattern_type 'glob' instead\n",
      "Input #0, image2, from '/home/irmak/Workspace/Holo-Bot/extracted_data/tofu_picking/eval/demonstration_mid_size/visualization/%*.png':\n",
      "  Duration: 00:00:07.96, start: 0.000000, bitrate: N/A\n",
      "  Stream #0:0: Video: png, rgba(pc), 2000x2000 [SAR 3937:3937 DAR 1:1], 25 fps, 25 tbr, 25 tbn\n",
      "Stream mapping:\n",
      "  Stream #0:0 -> #0:0 (png (native) -> h264 (libx264))\n",
      "Press [q] to stop, [?] for help\n"
     ]
    },
    {
     "name": "stdout",
     "output_type": "stream",
     "text": [
      "dumping video in root: /home/irmak/Workspace/Holo-Bot/extracted_data/tofu_picking/eval/demonstration_mid_size\n"
     ]
    },
    {
     "name": "stderr",
     "output_type": "stream",
     "text": [
      "[libx264 @ 0x560fc8c56f80] using SAR=1/1\n",
      "[libx264 @ 0x560fc8c56f80] using cpu capabilities: MMX2 SSE2Fast SSSE3 SSE4.2 AVX FMA3 BMI2 AVX2\n",
      "[libx264 @ 0x560fc8c56f80] profile High 4:4:4 Predictive, level 4.0, 4:4:4, 8-bit\n",
      "[libx264 @ 0x560fc8c56f80] 264 - core 164 r3095 baee400 - H.264/MPEG-4 AVC codec - Copyleft 2003-2022 - http://www.videolan.org/x264.html - options: cabac=1 ref=3 deblock=1:0:0 analyse=0x3:0x113 me=hex subme=7 psy=1 psy_rd=1.00:0.00 mixed_ref=1 me_range=16 chroma_me=1 trellis=1 8x8dct=1 cqm=0 deadzone=21,11 fast_pskip=1 chroma_qp_offset=4 threads=22 lookahead_threads=3 sliced_threads=0 nr=0 decimate=1 interlaced=0 bluray_compat=0 constrained_intra=0 bframes=3 b_pyramid=2 b_adapt=1 b_bias=0 direct=1 weightb=1 open_gop=0 weightp=2 keyint=250 keyint_min=10 scenecut=40 intra_refresh=0 rc_lookahead=40 rc=crf mbtree=1 crf=23.0 qcomp=0.60 qpmin=0 qpmax=69 qpstep=4 ip_ratio=1.40 aq=1:1.00\n",
      "Output #0, mp4, to '/home/irmak/Workspace/Holo-Bot/extracted_data/tofu_picking/eval/demonstration_mid_size/visualization_0.mp4':\n",
      "  Metadata:\n",
      "    encoder         : Lavf59.27.100\n",
      "  Stream #0:0: Video: h264 (avc1 / 0x31637661), yuv444p(tv, progressive), 2000x720 [SAR 1:1 DAR 25:9], q=2-31, 10 fps, 10240 tbn\n",
      "    Metadata:\n",
      "      encoder         : Lavc59.37.100 libx264\n",
      "    Side data:\n",
      "      cpb: bitrate max/min/avg: 0/0/0 buffer size: 0 vbv_delay: N/A\n",
      "frame=  199 fps=107 q=-1.0 Lsize=    4903kB time=00:00:19.60 bitrate=2049.2kbits/s speed=10.5x    \n",
      "video:4900kB audio:0kB subtitle:0kB other streams:0kB global headers:0kB muxing overhead: 0.066033%\n",
      "[libx264 @ 0x560fc8c56f80] frame I:1     Avg QP:22.70  size: 51437\n",
      "[libx264 @ 0x560fc8c56f80] frame P:50    Avg QP:20.19  size: 42710\n",
      "[libx264 @ 0x560fc8c56f80] frame B:148   Avg QP:21.90  size: 19119\n",
      "[libx264 @ 0x560fc8c56f80] consecutive B-frames:  0.5%  0.0%  3.0% 96.5%\n",
      "[libx264 @ 0x560fc8c56f80] mb I  I16..4: 27.9% 43.8% 28.3%\n",
      "[libx264 @ 0x560fc8c56f80] mb P  I16..4:  2.5% 22.6%  0.7%  P16..4: 23.7% 11.5%  6.3%  0.0%  0.0%    skip:32.8%\n",
      "[libx264 @ 0x560fc8c56f80] mb B  I16..4:  0.8%  9.8%  0.1%  B16..8: 25.2%  5.5%  1.3%  direct: 4.5%  skip:52.8%  L0:47.0% L1:45.2% BI: 7.8%\n",
      "[libx264 @ 0x560fc8c56f80] 8x8 transform intra:88.3% inter:84.9%\n",
      "[libx264 @ 0x560fc8c56f80] coded y,u,v intra: 70.5% 35.9% 29.7% inter: 20.1% 12.6% 9.9%\n",
      "[libx264 @ 0x560fc8c56f80] i16 v,h,dc,p: 26% 27% 26% 22%\n",
      "[libx264 @ 0x560fc8c56f80] i8 v,h,dc,ddl,ddr,vr,hd,vl,hu: 12% 21% 52%  3%  2%  2%  2%  2%  4%\n",
      "[libx264 @ 0x560fc8c56f80] i4 v,h,dc,ddl,ddr,vr,hd,vl,hu: 31% 30% 15%  4%  4%  4%  5%  3%  4%\n",
      "[libx264 @ 0x560fc8c56f80] Weighted P-Frames: Y:0.0% UV:0.0%\n",
      "[libx264 @ 0x560fc8c56f80] ref P L0: 36.1% 10.9% 32.6% 20.4%\n",
      "[libx264 @ 0x560fc8c56f80] ref B L0: 69.2% 24.1%  6.8%\n",
      "[libx264 @ 0x560fc8c56f80] ref B L1: 88.2% 11.8%\n",
      "[libx264 @ 0x560fc8c56f80] kb/s:2016.69\n",
      "ffmpeg version 5.1.2 Copyright (c) 2000-2022 the FFmpeg developers\n",
      "  built with gcc 10.4.0 (conda-forge gcc 10.4.0-18)\n",
      "  configuration: --prefix=/home/irmak/miniconda3/envs/tactile_learning --cc=/home/conda/feedstock_root/build_artifacts/ffmpeg_1666357487580/_build_env/bin/x86_64-conda-linux-gnu-cc --cxx=/home/conda/feedstock_root/build_artifacts/ffmpeg_1666357487580/_build_env/bin/x86_64-conda-linux-gnu-c++ --nm=/home/conda/feedstock_root/build_artifacts/ffmpeg_1666357487580/_build_env/bin/x86_64-conda-linux-gnu-nm --ar=/home/conda/feedstock_root/build_artifacts/ffmpeg_1666357487580/_build_env/bin/x86_64-conda-linux-gnu-ar --disable-doc --disable-openssl --enable-demuxer=dash --enable-hardcoded-tables --enable-libfreetype --enable-libfontconfig --enable-libopenh264 --enable-gnutls --enable-libmp3lame --enable-libvpx --enable-pthreads --enable-vaapi --enable-gpl --enable-libx264 --enable-libx265 --enable-libaom --enable-libsvtav1 --enable-libxml2 --enable-pic --enable-shared --disable-static --enable-version3 --enable-zlib --pkg-config=/home/conda/feedstock_root/build_artifacts/ffmpeg_1666357487580/_build_env/bin/pkg-config\n",
      "  libavutil      57. 28.100 / 57. 28.100\n",
      "  libavcodec     59. 37.100 / 59. 37.100\n",
      "  libavformat    59. 27.100 / 59. 27.100\n",
      "  libavdevice    59.  7.100 / 59.  7.100\n",
      "  libavfilter     8. 44.100 /  8. 44.100\n",
      "  libswscale      6.  7.100 /  6.  7.100\n",
      "  libswresample   4.  7.100 /  4.  7.100\n",
      "  libpostproc    56.  6.100 / 56.  6.100\n",
      "[image2 @ 0x563d19888640] Pattern type 'glob_sequence' is deprecated: use pattern_type 'glob' instead\n",
      "Input #0, image2, from '/home/irmak/Workspace/Holo-Bot/extracted_data/tofu_picking/eval/demonstration_smallest_size/visualization/%*.png':\n",
      "  Duration: 00:00:06.72, start: 0.000000, bitrate: N/A\n",
      "  Stream #0:0: Video: png, rgba(pc), 2000x2000 [SAR 3937:3937 DAR 1:1], 25 fps, 25 tbr, 25 tbn\n",
      "Stream mapping:\n",
      "  Stream #0:0 -> #0:0 (png (native) -> h264 (libx264))\n",
      "Press [q] to stop, [?] for help\n"
     ]
    },
    {
     "name": "stdout",
     "output_type": "stream",
     "text": [
      "dumping video in root: /home/irmak/Workspace/Holo-Bot/extracted_data/tofu_picking/eval/demonstration_smallest_size\n"
     ]
    },
    {
     "name": "stderr",
     "output_type": "stream",
     "text": [
      "[libx264 @ 0x563d19894140] using SAR=1/1\n",
      "[libx264 @ 0x563d19894140] using cpu capabilities: MMX2 SSE2Fast SSSE3 SSE4.2 AVX FMA3 BMI2 AVX2\n",
      "[libx264 @ 0x563d19894140] profile High 4:4:4 Predictive, level 4.0, 4:4:4, 8-bit\n",
      "[libx264 @ 0x563d19894140] 264 - core 164 r3095 baee400 - H.264/MPEG-4 AVC codec - Copyleft 2003-2022 - http://www.videolan.org/x264.html - options: cabac=1 ref=3 deblock=1:0:0 analyse=0x3:0x113 me=hex subme=7 psy=1 psy_rd=1.00:0.00 mixed_ref=1 me_range=16 chroma_me=1 trellis=1 8x8dct=1 cqm=0 deadzone=21,11 fast_pskip=1 chroma_qp_offset=4 threads=22 lookahead_threads=3 sliced_threads=0 nr=0 decimate=1 interlaced=0 bluray_compat=0 constrained_intra=0 bframes=3 b_pyramid=2 b_adapt=1 b_bias=0 direct=1 weightb=1 open_gop=0 weightp=2 keyint=250 keyint_min=10 scenecut=40 intra_refresh=0 rc_lookahead=40 rc=crf mbtree=1 crf=23.0 qcomp=0.60 qpmin=0 qpmax=69 qpstep=4 ip_ratio=1.40 aq=1:1.00\n",
      "Output #0, mp4, to '/home/irmak/Workspace/Holo-Bot/extracted_data/tofu_picking/eval/demonstration_smallest_size/visualization_0.mp4':\n",
      "  Metadata:\n",
      "    encoder         : Lavf59.27.100\n",
      "  Stream #0:0: Video: h264 (avc1 / 0x31637661), yuv444p(tv, progressive), 2000x720 [SAR 1:1 DAR 25:9], q=2-31, 10 fps, 10240 tbn\n",
      "    Metadata:\n",
      "      encoder         : Lavc59.37.100 libx264\n",
      "    Side data:\n",
      "      cpb: bitrate max/min/avg: 0/0/0 buffer size: 0 vbv_delay: N/A\n",
      "frame=  168 fps= 99 q=-1.0 Lsize=    4319kB time=00:00:16.50 bitrate=2144.4kbits/s speed=9.74x    \n",
      "video:4316kB audio:0kB subtitle:0kB other streams:0kB global headers:0kB muxing overhead: 0.066721%\n",
      "[libx264 @ 0x563d19894140] frame I:1     Avg QP:22.88  size: 51105\n",
      "[libx264 @ 0x563d19894140] frame P:43    Avg QP:20.35  size: 43064\n",
      "[libx264 @ 0x563d19894140] frame B:124   Avg QP:21.90  size: 20293\n",
      "[libx264 @ 0x563d19894140] consecutive B-frames:  0.6%  2.4%  1.8% 95.2%\n",
      "[libx264 @ 0x563d19894140] mb I  I16..4: 27.8% 43.7% 28.6%\n",
      "[libx264 @ 0x563d19894140] mb P  I16..4:  3.1% 24.6%  0.7%  P16..4: 22.5% 11.2%  6.7%  0.0%  0.0%    skip:31.3%\n",
      "[libx264 @ 0x563d19894140] mb B  I16..4:  1.1% 11.2%  0.2%  B16..8: 25.1%  5.9%  1.6%  direct: 4.4%  skip:50.6%  L0:49.5% L1:43.3% BI: 7.2%\n",
      "[libx264 @ 0x563d19894140] 8x8 transform intra:86.9% inter:85.0%\n",
      "[libx264 @ 0x563d19894140] coded y,u,v intra: 68.4% 35.2% 29.3% inter: 19.8% 12.9% 10.7%\n",
      "[libx264 @ 0x563d19894140] i16 v,h,dc,p: 28% 28% 24% 20%\n",
      "[libx264 @ 0x563d19894140] i8 v,h,dc,ddl,ddr,vr,hd,vl,hu: 14% 22% 49%  3%  2%  2%  2%  3%  4%\n",
      "[libx264 @ 0x563d19894140] i4 v,h,dc,ddl,ddr,vr,hd,vl,hu: 32% 28% 17%  3%  4%  4%  5%  3%  4%\n",
      "[libx264 @ 0x563d19894140] Weighted P-Frames: Y:0.0% UV:0.0%\n",
      "[libx264 @ 0x563d19894140] ref P L0: 37.4%  8.9% 32.7% 21.0%\n",
      "[libx264 @ 0x563d19894140] ref B L0: 66.9% 25.4%  7.7%\n",
      "[libx264 @ 0x563d19894140] ref B L1: 88.3% 11.7%\n",
      "[libx264 @ 0x563d19894140] kb/s:2104.38\n",
      "ffmpeg version 5.1.2 Copyright (c) 2000-2022 the FFmpeg developers\n",
      "  built with gcc 10.4.0 (conda-forge gcc 10.4.0-18)\n",
      "  configuration: --prefix=/home/irmak/miniconda3/envs/tactile_learning --cc=/home/conda/feedstock_root/build_artifacts/ffmpeg_1666357487580/_build_env/bin/x86_64-conda-linux-gnu-cc --cxx=/home/conda/feedstock_root/build_artifacts/ffmpeg_1666357487580/_build_env/bin/x86_64-conda-linux-gnu-c++ --nm=/home/conda/feedstock_root/build_artifacts/ffmpeg_1666357487580/_build_env/bin/x86_64-conda-linux-gnu-nm --ar=/home/conda/feedstock_root/build_artifacts/ffmpeg_1666357487580/_build_env/bin/x86_64-conda-linux-gnu-ar --disable-doc --disable-openssl --enable-demuxer=dash --enable-hardcoded-tables --enable-libfreetype --enable-libfontconfig --enable-libopenh264 --enable-gnutls --enable-libmp3lame --enable-libvpx --enable-pthreads --enable-vaapi --enable-gpl --enable-libx264 --enable-libx265 --enable-libaom --enable-libsvtav1 --enable-libxml2 --enable-pic --enable-shared --disable-static --enable-version3 --enable-zlib --pkg-config=/home/conda/feedstock_root/build_artifacts/ffmpeg_1666357487580/_build_env/bin/pkg-config\n",
      "  libavutil      57. 28.100 / 57. 28.100\n",
      "  libavcodec     59. 37.100 / 59. 37.100\n",
      "  libavformat    59. 27.100 / 59. 27.100\n",
      "  libavdevice    59.  7.100 / 59.  7.100\n",
      "  libavfilter     8. 44.100 /  8. 44.100\n",
      "  libswscale      6.  7.100 /  6.  7.100\n",
      "  libswresample   4.  7.100 /  4.  7.100\n",
      "  libpostproc    56.  6.100 / 56.  6.100\n",
      "[image2 @ 0x56149d151640] Pattern type 'glob_sequence' is deprecated: use pattern_type 'glob' instead\n",
      "Input #0, image2, from '/home/irmak/Workspace/Holo-Bot/extracted_data/tofu_picking/eval/demonstration_large_mid_size/visualization/%*.png':\n",
      "  Duration: 00:00:03.96, start: 0.000000, bitrate: N/A\n",
      "  Stream #0:0: Video: png, rgba(pc), 2000x2000 [SAR 3937:3937 DAR 1:1], 25 fps, 25 tbr, 25 tbn\n",
      "Stream mapping:\n",
      "  Stream #0:0 -> #0:0 (png (native) -> h264 (libx264))\n",
      "Press [q] to stop, [?] for help\n"
     ]
    },
    {
     "name": "stdout",
     "output_type": "stream",
     "text": [
      "dumping video in root: /home/irmak/Workspace/Holo-Bot/extracted_data/tofu_picking/eval/demonstration_large_mid_size\n"
     ]
    },
    {
     "name": "stderr",
     "output_type": "stream",
     "text": [
      "[libx264 @ 0x56149d15b380] using SAR=1/1\n",
      "[libx264 @ 0x56149d15b380] using cpu capabilities: MMX2 SSE2Fast SSSE3 SSE4.2 AVX FMA3 BMI2 AVX2\n",
      "[libx264 @ 0x56149d15b380] profile High 4:4:4 Predictive, level 4.0, 4:4:4, 8-bit\n",
      "[libx264 @ 0x56149d15b380] 264 - core 164 r3095 baee400 - H.264/MPEG-4 AVC codec - Copyleft 2003-2022 - http://www.videolan.org/x264.html - options: cabac=1 ref=3 deblock=1:0:0 analyse=0x3:0x113 me=hex subme=7 psy=1 psy_rd=1.00:0.00 mixed_ref=1 me_range=16 chroma_me=1 trellis=1 8x8dct=1 cqm=0 deadzone=21,11 fast_pskip=1 chroma_qp_offset=4 threads=22 lookahead_threads=3 sliced_threads=0 nr=0 decimate=1 interlaced=0 bluray_compat=0 constrained_intra=0 bframes=3 b_pyramid=2 b_adapt=1 b_bias=0 direct=1 weightb=1 open_gop=0 weightp=2 keyint=250 keyint_min=10 scenecut=40 intra_refresh=0 rc_lookahead=40 rc=crf mbtree=1 crf=23.0 qcomp=0.60 qpmin=0 qpmax=69 qpstep=4 ip_ratio=1.40 aq=1:1.00\n",
      "Output #0, mp4, to '/home/irmak/Workspace/Holo-Bot/extracted_data/tofu_picking/eval/demonstration_large_mid_size/visualization_0.mp4':\n",
      "  Metadata:\n",
      "    encoder         : Lavf59.27.100\n",
      "  Stream #0:0: Video: h264 (avc1 / 0x31637661), yuv444p(tv, progressive), 2000x720 [SAR 1:1 DAR 25:9], q=2-31, 10 fps, 10240 tbn\n",
      "    Metadata:\n",
      "      encoder         : Lavc59.37.100 libx264\n",
      "    Side data:\n",
      "      cpb: bitrate max/min/avg: 0/0/0 buffer size: 0 vbv_delay: N/A\n",
      "frame=   99 fps= 80 q=-1.0 Lsize=    2295kB time=00:00:09.60 bitrate=1958.2kbits/s speed=7.76x    \n",
      "video:2293kB audio:0kB subtitle:0kB other streams:0kB global headers:0kB muxing overhead: 0.088805%\n",
      "[libx264 @ 0x56149d15b380] frame I:1     Avg QP:23.00  size: 52107\n",
      "[libx264 @ 0x56149d15b380] frame P:26    Avg QP:20.35  size: 40334\n",
      "[libx264 @ 0x56149d15b380] frame B:72    Avg QP:21.67  size: 17310\n",
      "[libx264 @ 0x56149d15b380] consecutive B-frames:  3.0%  0.0%  0.0% 97.0%\n",
      "[libx264 @ 0x56149d15b380] mb I  I16..4: 27.7% 43.9% 28.5%\n",
      "[libx264 @ 0x56149d15b380] mb P  I16..4:  2.6% 22.2%  0.9%  P16..4: 23.2% 10.7%  5.7%  0.0%  0.0%    skip:34.7%\n",
      "[libx264 @ 0x56149d15b380] mb B  I16..4:  0.8%  9.2%  0.1%  B16..8: 23.9%  4.7%  1.1%  direct: 4.1%  skip:56.1%  L0:45.8% L1:47.1% BI: 7.1%\n",
      "[libx264 @ 0x56149d15b380] 8x8 transform intra:85.7% inter:86.2%\n",
      "[libx264 @ 0x56149d15b380] coded y,u,v intra: 67.7% 34.1% 28.9% inter: 18.2% 11.5% 9.0%\n",
      "[libx264 @ 0x56149d15b380] i16 v,h,dc,p: 30% 29% 22% 19%\n",
      "[libx264 @ 0x56149d15b380] i8 v,h,dc,ddl,ddr,vr,hd,vl,hu: 13% 22% 48%  3%  2%  2%  3%  3%  4%\n",
      "[libx264 @ 0x56149d15b380] i4 v,h,dc,ddl,ddr,vr,hd,vl,hu: 33% 33% 13%  3%  3%  3%  5%  3%  4%\n",
      "[libx264 @ 0x56149d15b380] Weighted P-Frames: Y:0.0% UV:0.0%\n",
      "[libx264 @ 0x56149d15b380] ref P L0: 39.6% 10.1% 30.8% 19.5%\n",
      "[libx264 @ 0x56149d15b380] ref B L0: 68.1% 24.7%  7.2%\n",
      "[libx264 @ 0x56149d15b380] ref B L1: 87.5% 12.5%\n",
      "[libx264 @ 0x56149d15b380] kb/s:1896.69\n"
     ]
    }
   ],
   "source": [
    "# Turn the images to a video and delete the directory\n",
    "video_fps = 10\n",
    "for root in roots:\n",
    "    print('dumping video in root: {}'.format(root))\n",
    "    video_path = os.path.join(root, f'visualization_{view_num}.mp4')\n",
    "    if os.path.exists(video_path):\n",
    "        os.remove(video_path)\n",
    "    viz_dir = os.path.join(root, 'visualization')\n",
    "    os.system('ffmpeg -r {} -i {}/%*.png -vf scale=2000x720,setsar=1:1 {}'.format(\n",
    "        video_fps, # fps\n",
    "        viz_dir,\n",
    "        video_path\n",
    "    ))\n"
   ]
  },
  {
   "cell_type": "code",
   "execution_count": 18,
   "metadata": {},
   "outputs": [],
   "source": [
    "# Remove the img directory\n",
    "\n",
    "for root in roots:\n",
    "    viz_dir = os.path.join(root, 'visualization')\n",
    "    shutil.rmtree(viz_dir)\n"
   ]
  },
  {
   "cell_type": "code",
   "execution_count": null,
   "metadata": {},
   "outputs": [],
   "source": []
  }
 ],
 "metadata": {
  "kernelspec": {
   "display_name": "Python 3 (ipykernel)",
   "language": "python",
   "name": "python3"
  },
  "language_info": {
   "codemirror_mode": {
    "name": "ipython",
    "version": 3
   },
   "file_extension": ".py",
   "mimetype": "text/x-python",
   "name": "python",
   "nbconvert_exporter": "python",
   "pygments_lexer": "ipython3",
   "version": "3.9.13"
  },
  "vscode": {
   "interpreter": {
    "hash": "36852de55b288c46ba617fd48cf310240e4201e2f57004cbdac030fa23152bd3"
   }
  }
 },
 "nbformat": 4,
 "nbformat_minor": 4
}
