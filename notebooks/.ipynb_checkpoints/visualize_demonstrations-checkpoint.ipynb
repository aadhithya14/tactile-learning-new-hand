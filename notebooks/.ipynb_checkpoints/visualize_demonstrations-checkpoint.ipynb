{
 "cells": [
  {
   "cell_type": "code",
   "execution_count": 1,
   "metadata": {},
   "outputs": [],
   "source": [
    "import cv2\n",
    "import h5py\n",
    "import matplotlib.pyplot as plt\n",
    "import numpy as np\n",
    "import os\n",
    "import pickle\n",
    "import shutil\n",
    "\n",
    "from tqdm import tqdm"
   ]
  },
  {
   "cell_type": "code",
   "execution_count": 2,
   "metadata": {},
   "outputs": [],
   "source": [
    "from tactile_learning.datasets.preprocess import dump_video_to_images, get_closest_id\n",
    "from tactile_learning.utils.visualization import plot_tactile_sensor"
   ]
  },
  {
   "cell_type": "code",
   "execution_count": 3,
   "metadata": {},
   "outputs": [],
   "source": [
    "import decimal\n",
    "\n",
    "# Get the metadata of images and tactile information\n",
    "def get_desired_indices(root, fps, view_num=0): # frames per second from the video to receive\n",
    "    image_metadata_path = os.path.join(root, f'cam_{view_num}_rgb_video.metadata')\n",
    "    tactile_info_path = os.path.join(root, 'touch_sensor_values.h5')\n",
    "\n",
    "    with open(image_metadata_path, 'rb') as f:\n",
    "        image_metadata = pickle.load(f)\n",
    "        image_timestamps_array = np.asarray(image_metadata['timestamps'])\n",
    "        image_timestamps = np.asarray(image_metadata['timestamps']) / 1000.\n",
    "    with h5py.File(tactile_info_path, 'r') as f:\n",
    "        tactile_timestamps = f['timestamps'][()]\n",
    "\n",
    "    image_id, tactile_id = 0, 0\n",
    "    curr_timestamp = tactile_timestamps[0] # These timestamps are in seconds\n",
    "    image_id = get_closest_id(image_id, curr_timestamp, image_timestamps)\n",
    "\n",
    "    tactile_indices, image_indices = [], []\n",
    "    tactile_indices.append(tactile_id)\n",
    "    image_indices.append(image_id)\n",
    "\n",
    "    frame_period = 1. / fps\n",
    "    while(True):\n",
    "        curr_timestamp += frame_period\n",
    "        tactile_id = get_closest_id(tactile_id, curr_timestamp, tactile_timestamps)\n",
    "        image_id = get_closest_id(image_id, curr_timestamp, image_timestamps)\n",
    "\n",
    "        if curr_timestamp > tactile_timestamps[tactile_id] and curr_timestamp > image_timestamps[image_id]:\n",
    "            break\n",
    "\n",
    "        tactile_indices.append(tactile_id)\n",
    "        image_indices.append(image_id)\n",
    "\n",
    "    assert len(tactile_indices) == len(image_indices)\n",
    "    return tactile_indices, image_indices\n"
   ]
  },
  {
   "cell_type": "code",
   "execution_count": 4,
   "metadata": {},
   "outputs": [],
   "source": [
    "\n",
    "def dump_states(root, tactile_indices, image_indices, view_num=0):\n",
    "    # Make directory to dump the visualization\n",
    "    pbar = tqdm(total=len(tactile_indices))\n",
    "\n",
    "    with h5py.File(os.path.join(root, 'touch_sensor_values.h5'), 'r') as f:\n",
    "        all_tactile_values = f['sensor_values'][()]\n",
    "\n",
    "    viz_dir = os.path.join(root, 'visualization')\n",
    "    os.makedirs(viz_dir, exist_ok=True)\n",
    "    \n",
    "    video_path = os.path.join(root, f'cam_{view_num}_rgb_video.avi')\n",
    "    vidcap = cv2.VideoCapture(video_path)\n",
    "    success, image = vidcap.read()\n",
    "    frame_count = int(vidcap.get(cv2.CAP_PROP_FRAME_COUNT))\n",
    "    frame_id = 0\n",
    "    for i in range(len(tactile_indices)):\n",
    "        tactile_id, image_id = tactile_indices[i], image_indices[i]\n",
    "        while frame_id != image_id and success:\n",
    "            # Find the frame that is equal to image_id\n",
    "            success, image = vidcap.read()\n",
    "            frame_id += 1\n",
    "        dump_demo_state(\n",
    "            frame_id = i,\n",
    "            viz_dir = viz_dir,\n",
    "            tactile_values = all_tactile_values[tactile_id,:,:,:],\n",
    "            camera_img = image\n",
    "        )\n",
    "\n",
    "        pbar.update(1)\n",
    "\n",
    "    pbar.close()\n",
    "\n",
    "def dump_demo_state(frame_id, viz_dir, tactile_values, camera_img):\n",
    "    # tactile_values: (15,16,3)\n",
    "    fig, axs = plt.subplots(figsize=(20,20), nrows=4, ncols=4)\n",
    "    for row_id in range(4):\n",
    "        for column_id in range(4):\n",
    "            if row_id + column_id > 0: # The top left axis should stay empty\n",
    "                plot_tactile_sensor(\n",
    "                    ax = axs[column_id][row_id],\n",
    "                    sensor_values = tactile_values[row_id*4 + column_id-1],\n",
    "                    title = f'Sensor {row_id*4+column_id-1}'\n",
    "                )\n",
    "    fig.suptitle('Tactile State')\n",
    "    fig.savefig(os.path.join(viz_dir, 'Tactile State.png'))\n",
    "    fig.clf()\n",
    "    plt.close()\n",
    "\n",
    "    tactile_img = cv2.imread(os.path.join(viz_dir, 'Tactile State.png'))\n",
    "    height_scale = camera_img.shape[0] / tactile_img.shape[0]\n",
    "    tactile_img = cv2.resize(\n",
    "        tactile_img,\n",
    "        (int(tactile_img.shape[1] * height_scale),\n",
    "         int(tactile_img.shape[0] * height_scale))\n",
    "    )\n",
    "    total_img = cv2.hconcat([camera_img, tactile_img])\n",
    "\n",
    "    img_name = 'state_{}.png'.format(str(frame_id).zfill(3))\n",
    "    cv2.imwrite(os.path.join(viz_dir, img_name), total_img)\n",
    "\n"
   ]
  },
  {
   "cell_type": "code",
   "execution_count": 5,
   "metadata": {},
   "outputs": [
    {
     "name": "stdout",
     "output_type": "stream",
     "text": [
      "tactile_indices: [0, 100, 201, 297, 395, 494, 593, 692, 791, 888, 987, 1084, 1184, 1281, 1380, 1479, 1579, 1677, 1774, 1873, 1971, 2069, 2168, 2267, 2366, 2462, 2560, 2659, 2758, 2857, 2955, 3053, 3153, 3250, 3349, 3448, 3546, 3645, 3744, 3842, 3941, 4039, 4137, 4236, 4334, 4433, 4531, 4630, 4728, 4828, 4925, 5023, 5126, 5220, 5319, 5418, 5516, 5614, 5713, 5811, 5912, 6008, 6108, 6203, 6304, 6401, 6500, 6598, 6696, 6795, 6893, 6992, 7089, 7188, 7286, 7384, 7480, 7580, 7678, 7778, 7874, 7973, 8071, 8169, 8269, 8365, 8463, 8562, 8660, 8759, 8858, 8956, 9055, 9154, 9252, 9351, 9449, 9548, 9645, 9744, 9843, 9943, 10041, 10140, 10238, 10338, 10435, 10534, 10632, 10730, 10829, 10928, 11026, 11124, 11223, 11321, 11418, 11518, 11616, 11715, 11813, 11912, 12009, 12107, 12206, 12304, 12402, 12500, 12599, 12698, 12796, 12894, 12993, 13092, 13190, 13289, 13388, 13485, 13583, 13682, 13780, 13878, 13976, 14074, 14173, 14275, 14370, 14469, 14568, 14666, 14764, 14863, 14960, 15060, 15158, 15255, 15353, 15452, 15551, 15650, 15747, 15846, 15943, 16042, 16140, 16239, 16337, 16435, 16534, 16632, 16730, 16828, 16926, 17024, 17127, 17226, 17327, 17420, 17518, 17619, 17716, 17813, 17913, 18010, 18109, 18208, 18306, 18406, 18505, 18603, 18701], image_indices: [72, 102, 132, 162, 192, 221, 250, 279, 309, 338, 368, 398, 428, 458, 488, 518, 546, 575, 605, 635, 664, 693, 721, 751, 780, 809, 839, 869, 898, 928, 957, 987, 1017, 1047, 1077, 1106, 1136, 1165, 1195, 1224, 1254, 1284, 1313, 1343, 1372, 1401, 1430, 1460, 1488, 1517, 1547, 1577, 1607, 1637, 1666, 1696, 1726, 1756, 1786, 1816, 1846, 1876, 1904, 1934, 1964, 1994, 2023, 2053, 2083, 2112, 2141, 2170, 2200, 2230, 2260, 2290, 2319, 2349, 2379, 2409, 2439, 2469, 2499, 2529, 2559, 2589, 2619, 2648, 2678, 2708, 2738, 2768, 2798, 2828, 2858, 2888, 2918, 2948, 2978, 3007, 3037, 3067, 3097, 3127, 3157, 3187, 3217, 3247, 3277, 3307, 3337, 3367, 3396, 3426, 3456, 3485, 3514, 3544, 3574, 3604, 3633, 3662, 3690, 3720, 3750, 3780, 3810, 3839, 3869, 3899, 3928, 3958, 3988, 4018, 4047, 4077, 4107, 4137, 4166, 4196, 4226, 4256, 4285, 4315, 4345, 4374, 4404, 4434, 4464, 4494, 4524, 4554, 4584, 4614, 4644, 4674, 4704, 4734, 4764, 4794, 4824, 4854, 4884, 4913, 4943, 4973, 5002, 5032, 5062, 5092, 5122, 5152, 5182, 5212, 5242, 5272, 5302, 5332, 5362, 5392, 5421, 5451, 5481, 5511, 5541, 5571, 5601, 5631, 5661, 5690, 5720]\n"
     ]
    },
    {
     "name": "stderr",
     "output_type": "stream",
     "text": [
      "100%|███████████████████████████████████████████████████████████████████████████████| 191/191 [03:25<00:00,  1.08s/it]\n"
     ]
    },
    {
     "name": "stdout",
     "output_type": "stream",
     "text": [
      "tactile_indices: [0, 100, 199, 298, 396, 500, 593, 692, 790, 888, 987, 1085, 1185, 1282, 1381, 1479, 1578, 1677, 1774, 1873, 1971, 2070, 2168, 2267, 2365, 2465, 2563, 2662, 2761, 2859, 2957, 3055, 3154, 3252, 3352, 3450, 3548, 3646, 3745, 3843, 3942, 4040, 4137, 4237, 4335, 4434, 4531, 4629, 4728, 4826, 4924, 5022, 5120, 5218, 5318, 5415, 5515, 5613, 5710, 5808, 5906, 6004, 6103, 6201, 6300, 6398, 6497, 6595, 6693, 6791, 6889, 6988, 7086, 7185, 7282, 7382, 7480, 7578, 7677, 7776, 7874, 7973, 8071, 8169, 8267, 8366, 8465, 8564], image_indices: [72, 102, 132, 161, 191, 221, 251, 281, 311, 341, 371, 401, 431, 460, 490, 520, 550, 580, 610, 640, 669, 699, 729, 759, 789, 819, 848, 878, 908, 938, 967, 997, 1027, 1057, 1087, 1117, 1146, 1176, 1206, 1236, 1266, 1296, 1324, 1354, 1384, 1414, 1444, 1472, 1502, 1532, 1562, 1592, 1622, 1652, 1682, 1712, 1742, 1772, 1801, 1831, 1861, 1891, 1921, 1951, 1981, 2010, 2040, 2070, 2100, 2130, 2160, 2190, 2220, 2250, 2280, 2310, 2340, 2370, 2399, 2429, 2459, 2489, 2519, 2549, 2579, 2609, 2639, 2668]\n"
     ]
    },
    {
     "name": "stderr",
     "output_type": "stream",
     "text": [
      "100%|█████████████████████████████████████████████████████████████████████████████████| 88/88 [01:35<00:00,  1.09s/it]\n"
     ]
    },
    {
     "name": "stdout",
     "output_type": "stream",
     "text": [
      "tactile_indices: [0, 100, 200, 296, 396, 494, 592, 690, 789, 891, 988, 1087, 1187, 1285, 1386, 1480, 1581, 1677, 1779, 1876, 1983, 2077, 2172, 2271, 2368, 2467, 2565, 2664, 2761, 2861, 2959, 3060, 3154, 3252, 3351, 3449, 3548, 3647, 3745, 3843, 3942, 4041, 4139, 4235, 4336, 4441, 4533, 4632, 4730, 4828, 4926, 5028, 5127, 5221, 5320, 5420, 5519, 5616, 5714, 5815, 5911, 6009, 6114, 6208, 6307, 6411, 6504, 6602, 6701, 6798, 6896, 6995, 7095, 7194, 7291, 7389, 7489, 7584, 7683, 7782, 7884, 7979, 8077, 8175, 8274, 8373, 8471, 8569, 8668, 8773, 8865, 8964, 9064, 9162, 9261, 9359, 9460, 9557, 9655, 9753, 9853, 9950, 10050, 10147, 10245, 10344, 10444, 10541, 10639, 10743, 10838, 10936, 11033, 11131, 11231, 11330, 11428, 11527, 11630, 11724, 11825, 11923, 12020, 12118, 12218, 12316, 12413, 12514, 12611, 12710, 12808, 12904, 13005, 13103, 13203, 13300, 13397, 13496, 13594, 13690, 13791, 13891, 13988, 14086, 14185, 14282, 14381, 14478, 14581, 14677, 14774, 14873, 14972, 15070, 15170, 15275, 15369, 15464, 15562, 15660, 15762, 15859, 15959, 16056, 16155, 16255, 16352, 16450, 16549, 16648, 16747, 16846, 16945, 17042, 17141, 17242, 17338, 17436, 17536, 17635, 17731, 17830, 17931, 18025, 18125, 18223, 18324, 18419, 18518, 18618, 18716, 18818, 18911, 19010, 19112, 19216, 19307, 19405, 19503, 19601, 19700, 19799, 19899, 19996, 20096, 20205, 20293, 20391, 20490, 20588, 20688, 20785, 20886, 20983, 21092, 21181, 21279, 21377, 21478, 21576, 21673, 21775, 21872, 21969, 22068, 22169, 22265, 22361, 22461, 22560, 22657, 22756, 22854, 22953, 23051, 23158, 23248, 23347, 23446, 23544, 23643, 23741, 23839, 23938, 24036, 24136], image_indices: [85, 114, 144, 174, 204, 234, 263, 293, 323, 353, 383, 413, 442, 472, 502, 532, 562, 591, 621, 651, 681, 710, 740, 769, 798, 828, 857, 887, 916, 946, 975, 1005, 1035, 1064, 1094, 1123, 1153, 1183, 1212, 1241, 1270, 1300, 1330, 1359, 1389, 1419, 1448, 1478, 1508, 1538, 1567, 1596, 1625, 1655, 1685, 1714, 1744, 1773, 1803, 1833, 1863, 1893, 1923, 1953, 1982, 2012, 2041, 2071, 2101, 2131, 2160, 2190, 2220, 2248, 2278, 2308, 2337, 2367, 2397, 2427, 2456, 2486, 2515, 2544, 2574, 2604, 2634, 2663, 2690, 2720, 2750, 2780, 2809, 2839, 2869, 2899, 2928, 2958, 2987, 3017, 3047, 3077, 3106, 3136, 3166, 3196, 3225, 3255, 3284, 3313, 3343, 3373, 3402, 3432, 3462, 3492, 3522, 3551, 3581, 3611, 3641, 3671, 3701, 3731, 3761, 3790, 3819, 3849, 3879, 3908, 3938, 3968, 3998, 4028, 4058, 4088, 4118, 4148, 4177, 4206, 4236, 4266, 4296, 4325, 4355, 4385, 4415, 4445, 4475, 4505, 4535, 4565, 4595, 4624, 4654, 4684, 4714, 4743, 4773, 4802, 4832, 4861, 4891, 4921, 4951, 4980, 5009, 5039, 5069, 5099, 5128, 5158, 5188, 5218, 5248, 5277, 5307, 5337, 5366, 5396, 5426, 5455, 5484, 5514, 5544, 5574, 5604, 5634, 5663, 5692, 5722, 5752, 5782, 5811, 5841, 5871, 5900, 5930, 5959, 5989, 6019, 6048, 6078, 6108, 6138, 6167, 6197, 6227, 6257, 6287, 6317, 6347, 6377, 6407, 6436, 6466, 6496, 6526, 6556, 6586, 6616, 6646, 6676, 6705, 6735, 6764, 6794, 6824, 6854, 6884, 6914, 6944, 6973, 7003, 7033, 7063, 7093, 7123, 7152, 7181, 7211, 7241, 7270, 7300, 7329, 7358]\n"
     ]
    },
    {
     "name": "stderr",
     "output_type": "stream",
     "text": [
      "100%|███████████████████████████████████████████████████████████████████████████████| 246/246 [04:29<00:00,  1.10s/it]\n"
     ]
    },
    {
     "name": "stdout",
     "output_type": "stream",
     "text": [
      "tactile_indices: [0, 103, 198, 297, 396, 494, 591, 690, 789, 886, 984, 1084, 1182, 1281, 1379, 1479, 1580, 1675, 1772, 1870, 1968, 2067, 2165, 2264, 2363, 2461, 2559, 2658, 2756, 2855, 2953, 3052, 3151, 3250, 3347, 3446, 3543, 3642, 3740, 3838, 3938, 4035, 4134, 4233, 4330, 4428, 4526, 4626, 4724, 4822, 4920, 5025, 5118, 5216, 5315, 5413, 5511, 5609, 5709, 5806, 5904, 6004, 6102, 6200, 6298, 6397, 6496, 6593, 6693, 6792, 6891, 6988, 7088, 7185, 7283, 7382, 7480, 7578, 7677, 7775, 7873, 7971, 8069, 8168, 8266, 8364, 8462, 8560, 8659, 8757, 8856, 8953, 9052, 9151, 9249, 9348, 9444, 9543, 9641, 9740, 9838, 9940, 10036, 10136, 10231, 10330, 10428, 10528, 10625, 10724, 10821, 10920, 11018, 11116, 11215, 11314, 11412, 11511, 11609, 11707], image_indices: [75, 105, 135, 165, 195, 224, 254, 284, 313, 343, 373, 403, 433, 463, 493, 523, 553, 582, 612, 642, 672, 702, 732, 762, 792, 822, 852, 882, 912, 942, 971, 1001, 1030, 1060, 1090, 1120, 1150, 1179, 1208, 1238, 1268, 1298, 1328, 1357, 1387, 1416, 1446, 1476, 1506, 1536, 1566, 1595, 1625, 1655, 1684, 1714, 1744, 1774, 1804, 1834, 1863, 1893, 1923, 1953, 1983, 2012, 2042, 2072, 2102, 2132, 2162, 2192, 2222, 2252, 2281, 2311, 2340, 2370, 2399, 2429, 2458, 2488, 2518, 2548, 2575, 2605, 2635, 2665, 2695, 2725, 2755, 2785, 2815, 2845, 2875, 2904, 2934, 2964, 2993, 3023, 3053, 3083, 3113, 3143, 3173, 3202, 3232, 3262, 3292, 3322, 3351, 3381, 3411, 3439, 3469, 3499, 3529, 3559, 3589, 3619]\n"
     ]
    },
    {
     "name": "stderr",
     "output_type": "stream",
     "text": [
      "100%|███████████████████████████████████████████████████████████████████████████████| 120/120 [02:12<00:00,  1.10s/it]\n"
     ]
    },
    {
     "name": "stdout",
     "output_type": "stream",
     "text": [
      "tactile_indices: [0, 100, 199, 298, 396, 495, 593, 692, 790, 889, 987, 1086, 1185, 1283, 1383, 1481, 1579, 1677, 1774, 1873, 1974, 2070, 2168, 2268, 2365, 2464, 2563, 2662, 2760, 2859, 2956, 3055, 3154, 3252, 3351, 3449, 3548, 3646, 3745, 3843, 3943, 4040, 4138, 4238, 4337, 4435, 4533, 4637, 4730, 4829, 4927, 5027, 5125, 5222, 5321, 5419, 5518, 5615, 5714, 5813, 5911, 6012, 6109, 6206, 6305, 6403, 6501, 6599, 6698, 6796, 6895, 6995, 7092, 7190, 7287, 7385, 7483, 7582, 7680, 7779, 7877, 7975, 8074, 8173, 8270, 8367, 8465, 8564, 8661, 8759, 8859, 8956, 9055, 9154, 9252, 9350, 9450, 9547, 9645, 9744, 9842, 9941, 10040, 10139, 10235, 10334, 10432, 10530, 10629, 10727, 10826, 10927, 11026, 11122, 11229, 11327, 11418, 11516, 11615, 11712, 11811, 11910, 12007, 12105, 12203, 12302, 12401, 12499, 12598, 12695, 12793, 12891, 12991, 13090, 13188, 13286, 13384, 13483, 13581, 13678, 13786, 13875, 13973, 14072, 14169, 14268, 14366, 14466, 14563, 14662, 14761, 14860, 14959], image_indices: [72, 101, 131, 161, 191, 221, 251, 281, 311, 341, 370, 400, 428, 458, 488, 518, 548, 577, 607, 637, 667, 696, 726, 756, 786, 816, 846, 876, 906, 936, 965, 995, 1024, 1054, 1083, 1113, 1143, 1172, 1202, 1232, 1262, 1292, 1322, 1352, 1381, 1411, 1441, 1470, 1500, 1530, 1560, 1590, 1620, 1650, 1680, 1710, 1739, 1769, 1798, 1828, 1858, 1888, 1916, 1946, 1976, 2005, 2035, 2065, 2095, 2124, 2154, 2183, 2213, 2242, 2272, 2302, 2331, 2361, 2391, 2421, 2450, 2480, 2509, 2539, 2569, 2599, 2628, 2658, 2688, 2718, 2747, 2777, 2807, 2837, 2866, 2896, 2926, 2956, 2986, 3015, 3045, 3075, 3105, 3134, 3164, 3194, 3223, 3253, 3283, 3312, 3342, 3372, 3400, 3430, 3460, 3489, 3519, 3549, 3579, 3608, 3637, 3667, 3696, 3725, 3754, 3784, 3814, 3844, 3874, 3904, 3933, 3963, 3992, 4022, 4051, 4081, 4111, 4141, 4170, 4200, 4230, 4259, 4288, 4318, 4348, 4378, 4408, 4437, 4467, 4496, 4526, 4556, 4586]\n"
     ]
    },
    {
     "name": "stderr",
     "output_type": "stream",
     "text": [
      "100%|███████████████████████████████████████████████████████████████████████████████| 153/153 [02:49<00:00,  1.11s/it]\n"
     ]
    },
    {
     "name": "stdout",
     "output_type": "stream",
     "text": [
      "tactile_indices: [0, 100, 199, 297, 395, 493, 593, 691, 790, 888, 987, 1085, 1189, 1282, 1381, 1481, 1578, 1677, 1777, 1875, 1973, 2072, 2170, 2268, 2367, 2465, 2564, 2662, 2760, 2859, 2958, 3057, 3155, 3253, 3352, 3449, 3549, 3648, 3746, 3843, 3943, 4041, 4138, 4237, 4335, 4435, 4532, 4630, 4728, 4826, 4925, 5023, 5122, 5222, 5319, 5418, 5516, 5614, 5712, 5810, 5909, 6008, 6108, 6204, 6302, 6400, 6499, 6598, 6696, 6794, 6893, 6991, 7091, 7188, 7286, 7385, 7484, 7583, 7681, 7779, 7878, 7976, 8075, 8174, 8271, 8370, 8468, 8568, 8665, 8764, 8863, 8963, 9059, 9159, 9256, 9354, 9452, 9552, 9649, 9748, 9845, 9943, 10043, 10141, 10239, 10338, 10436, 10535, 10633, 10731, 10830, 10928, 11026, 11125, 11223, 11322, 11421, 11519, 11618, 11718, 11814, 11913, 12012, 12110, 12207, 12306, 12404, 12503, 12602, 12700, 12798, 12897, 12997, 13097, 13193, 13292, 13390, 13489, 13588, 13686, 13785, 13884, 13982, 14081, 14179, 14278, 14376, 14474, 14575, 14671, 14770, 14870, 14967, 15066, 15165, 15263, 15361, 15460, 15558, 15657, 15755, 15853, 15952, 16051, 16148, 16246, 16345, 16443, 16542, 16638, 16736, 16835, 16933, 17032, 17131, 17229, 17328, 17427, 17524, 17622, 17719, 17817, 17918, 18016, 18114, 18214, 18311, 18408, 18506, 18605, 18704, 18801, 18900, 18999, 19097, 19194, 19294, 19392], image_indices: [72, 102, 132, 162, 192, 222, 252, 282, 312, 342, 372, 402, 431, 461, 491, 521, 551, 581, 611, 641, 671, 701, 731, 760, 790, 820, 850, 879, 909, 938, 968, 998, 1028, 1058, 1088, 1118, 1147, 1177, 1207, 1237, 1267, 1297, 1327, 1357, 1387, 1417, 1447, 1476, 1505, 1535, 1565, 1595, 1625, 1655, 1685, 1715, 1745, 1774, 1804, 1834, 1863, 1893, 1923, 1952, 1982, 2011, 2041, 2071, 2101, 2131, 2161, 2191, 2221, 2251, 2281, 2311, 2341, 2370, 2400, 2429, 2458, 2488, 2518, 2548, 2578, 2608, 2638, 2668, 2696, 2726, 2756, 2786, 2816, 2846, 2876, 2906, 2935, 2965, 2995, 3025, 3055, 3085, 3115, 3145, 3175, 3205, 3235, 3265, 3295, 3325, 3355, 3385, 3415, 3445, 3475, 3505, 3535, 3565, 3594, 3623, 3653, 3683, 3713, 3743, 3773, 3803, 3833, 3863, 3893, 3922, 3952, 3981, 4011, 4041, 4071, 4101, 4131, 4161, 4191, 4221, 4250, 4280, 4309, 4339, 4369, 4399, 4429, 4458, 4488, 4518, 4548, 4577, 4607, 4637, 4666, 4696, 4726, 4756, 4785, 4815, 4845, 4875, 4905, 4935, 4965, 4995, 5024, 5054, 5084, 5114, 5144, 5174, 5204, 5233, 5263, 5293, 5323, 5353, 5382, 5412, 5442, 5471, 5501, 5531, 5561, 5591, 5621, 5650, 5680, 5710, 5740, 5770, 5800, 5830, 5860, 5890, 5920, 5950]\n"
     ]
    },
    {
     "name": "stderr",
     "output_type": "stream",
     "text": [
      "100%|███████████████████████████████████████████████████████████████████████████████| 198/198 [03:40<00:00,  1.11s/it]\n"
     ]
    },
    {
     "name": "stdout",
     "output_type": "stream",
     "text": [
      "tactile_indices: [0, 99, 197, 297, 396, 494, 593, 691, 789, 887, 985, 1085, 1183, 1282, 1380, 1478, 1578, 1677, 1775, 1873, 1971, 2070, 2168, 2267, 2366, 2464, 2561, 2661, 2759, 2858, 2957, 3055, 3153, 3252, 3356, 3453, 3556, 3647, 3745, 3844, 3943, 4038, 4138, 4236, 4334, 4432, 4532, 4630, 4729, 4827, 4927, 5024, 5122, 5223, 5318, 5417, 5515, 5614, 5715, 5812, 5910, 6008, 6106, 6205, 6303, 6402, 6500, 6598, 6697, 6795, 6895, 6993, 7092, 7190, 7289, 7387, 7486, 7583, 7681, 7779, 7878, 7975, 8075, 8173, 8271, 8370, 8468, 8567, 8664, 8763, 8862, 8960, 9058, 9157, 9255, 9353, 9452, 9550, 9649, 9748, 9845, 9943, 10043, 10141, 10241, 10339, 10435, 10533, 10630, 10730, 10829, 10927, 11026, 11124, 11222, 11320, 11419, 11517, 11617, 11715, 11813, 11912, 12010, 12109, 12208, 12305, 12403, 12502, 12600, 12699, 12798, 12896, 12994, 13093, 13192, 13291, 13389, 13486, 13584, 13682, 13781, 13880, 13979, 14077, 14176, 14274, 14373, 14471, 14570, 14667, 14766, 14864, 14962, 15061, 15159, 15259, 15358, 15455, 15554, 15653, 15749, 15848, 15946, 16045, 16143, 16242, 16340], image_indices: [69, 99, 129, 159, 188, 218, 248, 278, 308, 338, 368, 398, 428, 457, 487, 517, 546, 576, 606, 636, 665, 695, 725, 755, 784, 814, 844, 874, 904, 934, 963, 993, 1023, 1053, 1082, 1112, 1142, 1172, 1202, 1231, 1260, 1290, 1319, 1348, 1378, 1408, 1438, 1468, 1498, 1528, 1558, 1588, 1618, 1648, 1677, 1707, 1737, 1767, 1796, 1826, 1856, 1886, 1915, 1945, 1975, 2005, 2034, 2064, 2094, 2124, 2154, 2184, 2214, 2244, 2274, 2303, 2333, 2363, 2392, 2422, 2452, 2482, 2512, 2542, 2572, 2602, 2632, 2661, 2691, 2718, 2747, 2777, 2807, 2837, 2866, 2896, 2926, 2955, 2985, 3015, 3045, 3075, 3105, 3135, 3165, 3195, 3225, 3254, 3284, 3314, 3344, 3374, 3404, 3434, 3464, 3494, 3524, 3554, 3584, 3614, 3644, 3673, 3702, 3732, 3762, 3792, 3821, 3851, 3881, 3910, 3940, 3969, 3999, 4029, 4059, 4089, 4119, 4149, 4178, 4207, 4237, 4267, 4297, 4327, 4356, 4386, 4416, 4446, 4476, 4505, 4535, 4565, 4595, 4625, 4654, 4684, 4713, 4742, 4772, 4802, 4832, 4862, 4892, 4922, 4952, 4982, 5012]\n"
     ]
    },
    {
     "name": "stderr",
     "output_type": "stream",
     "text": [
      "100%|███████████████████████████████████████████████████████████████████████████████| 167/167 [03:06<00:00,  1.12s/it]\n"
     ]
    },
    {
     "name": "stdout",
     "output_type": "stream",
     "text": [
      "tactile_indices: [0, 99, 198, 296, 394, 494, 592, 692, 789, 887, 986, 1084, 1186, 1287, 1392, 1486, 1579, 1676, 1776, 1874, 1973, 2072, 2170, 2268, 2367, 2465, 2564, 2662, 2762, 2860, 2958, 3057, 3156, 3255, 3354, 3451, 3550, 3648, 3746, 3845, 3943, 4041, 4139, 4238, 4341, 4435, 4533, 4631, 4730, 4829, 4928, 5026, 5125, 5223, 5322, 5421, 5519, 5618, 5716, 5815, 5913, 6012, 6110, 6209, 6307, 6405, 6504, 6602, 6701, 6801, 6899, 6997, 7095, 7192, 7290, 7389, 7488, 7586, 7685, 7782, 7881, 7984, 8085, 8175, 8275, 8375, 8472, 8571, 8668, 8768, 8867, 8964, 9064, 9162, 9266, 9360, 9459, 9557], image_indices: [75, 105, 135, 164, 194, 224, 254, 284, 313, 342, 372, 402, 432, 462, 492, 522, 551, 581, 611, 641, 670, 700, 730, 760, 790, 820, 850, 880, 910, 940, 970, 999, 1029, 1059, 1089, 1119, 1149, 1178, 1208, 1238, 1267, 1297, 1327, 1357, 1387, 1416, 1446, 1476, 1506, 1535, 1565, 1595, 1624, 1654, 1684, 1712, 1742, 1771, 1800, 1830, 1860, 1890, 1920, 1950, 1979, 2009, 2039, 2069, 2099, 2129, 2159, 2189, 2219, 2249, 2279, 2309, 2339, 2369, 2399, 2429, 2459, 2489, 2519, 2549, 2579, 2608, 2638, 2668, 2698, 2728, 2757, 2787, 2817, 2847, 2877, 2907, 2937, 2967]\n"
     ]
    },
    {
     "name": "stderr",
     "output_type": "stream",
     "text": [
      "100%|█████████████████████████████████████████████████████████████████████████████████| 98/98 [01:48<00:00,  1.11s/it]\n"
     ]
    }
   ],
   "source": [
    "import glob\n",
    "# roots = [\n",
    "#     '/home/irmak/Workspace/Holo-Bot/extracted_data/bowl_picking/eval/demonstration_7',\n",
    "#     '/home/irmak/Workspace/Holo-Bot/extracted_data/bowl_picking/eval/demonstration_9',\n",
    "#     '/home/irmak/Workspace/Holo-Bot/extracted_data/bowl_picking/eval/demonstration_15',\n",
    "# ]\n",
    "data_path = '/home/irmak/Workspace/Holo-Bot/extracted_data/tofu_picking/eval'\n",
    "roots = glob.glob(f'{data_path}/demonstration_*')\n",
    "\n",
    "retrieval_fps = 1\n",
    "view_num=0\n",
    "for root in roots:\n",
    "    # print('root: {}'.format(root))\n",
    "    tactile_indices, image_indices = get_desired_indices(root=root, fps=retrieval_fps, view_num=view_num)\n",
    "    print('tactile_indices: {}, image_indices: {}'.format(tactile_indices, image_indices))\n",
    "    dump_states(root, tactile_indices, image_indices, view_num=view_num)\n"
   ]
  },
  {
   "cell_type": "code",
   "execution_count": null,
   "metadata": {},
   "outputs": [],
   "source": [
    "print(roots)"
   ]
  },
  {
   "cell_type": "code",
   "execution_count": 17,
   "metadata": {},
   "outputs": [
    {
     "name": "stdout",
     "output_type": "stream",
     "text": [
      "dumping video in root: /home/irmak/Workspace/Holo-Bot/extracted_data/tofu_picking/eval/demonstration_large\n"
     ]
    },
    {
     "name": "stderr",
     "output_type": "stream",
     "text": [
      "ffmpeg version 5.1.2 Copyright (c) 2000-2022 the FFmpeg developers\n",
      "  built with gcc 10.4.0 (conda-forge gcc 10.4.0-18)\n",
      "  configuration: --prefix=/home/irmak/miniconda3/envs/tactile_learning --cc=/home/conda/feedstock_root/build_artifacts/ffmpeg_1666357487580/_build_env/bin/x86_64-conda-linux-gnu-cc --cxx=/home/conda/feedstock_root/build_artifacts/ffmpeg_1666357487580/_build_env/bin/x86_64-conda-linux-gnu-c++ --nm=/home/conda/feedstock_root/build_artifacts/ffmpeg_1666357487580/_build_env/bin/x86_64-conda-linux-gnu-nm --ar=/home/conda/feedstock_root/build_artifacts/ffmpeg_1666357487580/_build_env/bin/x86_64-conda-linux-gnu-ar --disable-doc --disable-openssl --enable-demuxer=dash --enable-hardcoded-tables --enable-libfreetype --enable-libfontconfig --enable-libopenh264 --enable-gnutls --enable-libmp3lame --enable-libvpx --enable-pthreads --enable-vaapi --enable-gpl --enable-libx264 --enable-libx265 --enable-libaom --enable-libsvtav1 --enable-libxml2 --enable-pic --enable-shared --disable-static --enable-version3 --enable-zlib --pkg-config=/home/conda/feedstock_root/build_artifacts/ffmpeg_1666357487580/_build_env/bin/pkg-config\n",
      "  libavutil      57. 28.100 / 57. 28.100\n",
      "  libavcodec     59. 37.100 / 59. 37.100\n",
      "  libavformat    59. 27.100 / 59. 27.100\n",
      "  libavdevice    59.  7.100 / 59.  7.100\n",
      "  libavfilter     8. 44.100 /  8. 44.100\n",
      "  libswscale      6.  7.100 /  6.  7.100\n",
      "  libswresample   4.  7.100 /  4.  7.100\n",
      "  libpostproc    56.  6.100 / 56.  6.100\n",
      "[image2 @ 0x55725d694640] Pattern type 'glob_sequence' is deprecated: use pattern_type 'glob' instead\n",
      "Input #0, image2, from '/home/irmak/Workspace/Holo-Bot/extracted_data/tofu_picking/eval/demonstration_large/visualization/%*.png':\n",
      "  Duration: 00:00:07.68, start: 0.000000, bitrate: N/A\n",
      "  Stream #0:0: Video: png, rgba(pc), 2000x2000 [SAR 3937:3937 DAR 1:1], 25 fps, 25 tbr, 25 tbn\n",
      "Stream mapping:\n",
      "  Stream #0:0 -> #0:0 (png (native) -> h264 (libx264))\n",
      "Press [q] to stop, [?] for help\n",
      "[libx264 @ 0x55725d6a0ec0] using SAR=1/1\n",
      "[libx264 @ 0x55725d6a0ec0] using cpu capabilities: MMX2 SSE2Fast SSSE3 SSE4.2 AVX FMA3 BMI2 AVX2\n",
      "[libx264 @ 0x55725d6a0ec0] profile High 4:4:4 Predictive, level 4.0, 4:4:4, 8-bit\n",
      "[libx264 @ 0x55725d6a0ec0] 264 - core 164 r3095 baee400 - H.264/MPEG-4 AVC codec - Copyleft 2003-2022 - http://www.videolan.org/x264.html - options: cabac=1 ref=3 deblock=1:0:0 analyse=0x3:0x113 me=hex subme=7 psy=1 psy_rd=1.00:0.00 mixed_ref=1 me_range=16 chroma_me=1 trellis=1 8x8dct=1 cqm=0 deadzone=21,11 fast_pskip=1 chroma_qp_offset=4 threads=22 lookahead_threads=3 sliced_threads=0 nr=0 decimate=1 interlaced=0 bluray_compat=0 constrained_intra=0 bframes=3 b_pyramid=2 b_adapt=1 b_bias=0 direct=1 weightb=1 open_gop=0 weightp=2 keyint=250 keyint_min=10 scenecut=40 intra_refresh=0 rc_lookahead=40 rc=crf mbtree=1 crf=23.0 qcomp=0.60 qpmin=0 qpmax=69 qpstep=4 ip_ratio=1.40 aq=1:1.00\n",
      "Output #0, mp4, to '/home/irmak/Workspace/Holo-Bot/extracted_data/tofu_picking/eval/demonstration_large/visualization.mp4':\n",
      "  Metadata:\n",
      "    encoder         : Lavf59.27.100\n",
      "  Stream #0:0: Video: h264 (avc1 / 0x31637661), yuv444p(tv, progressive), 2000x720 [SAR 1:1 DAR 25:9], q=2-31, 10 fps, 10240 tbn\n",
      "    Metadata:\n",
      "      encoder         : Lavc59.37.100 libx264\n",
      "    Side data:\n",
      "      cpb: bitrate max/min/avg: 0/0/0 buffer size: 0 vbv_delay: N/A\n",
      "frame=  192 fps=100 q=-1.0 Lsize=    4982kB time=00:00:18.90 bitrate=2159.5kbits/s speed=9.81x    \n",
      "video:4979kB audio:0kB subtitle:0kB other streams:0kB global headers:0kB muxing overhead: 0.062546%\n",
      "[libx264 @ 0x55725d6a0ec0] frame I:1     Avg QP:22.98  size: 51867\n",
      "[libx264 @ 0x55725d6a0ec0] frame P:53    Avg QP:19.22  size: 42662\n",
      "[libx264 @ 0x55725d6a0ec0] frame B:138   Avg QP:22.29  size: 20181\n",
      "[libx264 @ 0x55725d6a0ec0] consecutive B-frames:  3.1%  1.0%  6.2% 89.6%\n",
      "[libx264 @ 0x55725d6a0ec0] mb I  I16..4: 27.5% 44.0% 28.4%\n",
      "[libx264 @ 0x55725d6a0ec0] mb P  I16..4:  3.4% 31.1%  0.7%  P16..4: 18.1%  9.0%  4.8%  0.0%  0.0%    skip:32.8%\n",
      "[libx264 @ 0x55725d6a0ec0] mb B  I16..4:  1.3% 12.5%  0.3%  B16..8: 22.6%  5.7%  1.3%  direct: 4.7%  skip:51.5%  L0:47.0% L1:46.4% BI: 6.6%\n",
      "[libx264 @ 0x55725d6a0ec0] 8x8 transform intra:87.1% inter:83.2%\n",
      "[libx264 @ 0x55725d6a0ec0] coded y,u,v intra: 68.7% 31.9% 30.8% inter: 19.1% 11.2% 10.6%\n",
      "[libx264 @ 0x55725d6a0ec0] i16 v,h,dc,p: 29% 21% 26% 24%\n",
      "[libx264 @ 0x55725d6a0ec0] i8 v,h,dc,ddl,ddr,vr,hd,vl,hu: 18% 21% 39%  3%  3%  5%  3%  3%  5%\n",
      "[libx264 @ 0x55725d6a0ec0] i4 v,h,dc,ddl,ddr,vr,hd,vl,hu: 29% 28% 13%  4%  6%  7%  5%  3%  5%\n",
      "[libx264 @ 0x55725d6a0ec0] Weighted P-Frames: Y:0.0% UV:0.0%\n",
      "[libx264 @ 0x55725d6a0ec0] ref P L0: 39.4% 13.1% 29.8% 17.7%\n",
      "[libx264 @ 0x55725d6a0ec0] ref B L0: 70.5% 23.2%  6.3%\n",
      "[libx264 @ 0x55725d6a0ec0] ref B L1: 88.9% 11.1%\n",
      "[libx264 @ 0x55725d6a0ec0] kb/s:2124.14\n",
      "ffmpeg version 5.1.2 Copyright (c) 2000-2022 the FFmpeg developers\n",
      "  built with gcc 10.4.0 (conda-forge gcc 10.4.0-18)\n",
      "  configuration: --prefix=/home/irmak/miniconda3/envs/tactile_learning --cc=/home/conda/feedstock_root/build_artifacts/ffmpeg_1666357487580/_build_env/bin/x86_64-conda-linux-gnu-cc --cxx=/home/conda/feedstock_root/build_artifacts/ffmpeg_1666357487580/_build_env/bin/x86_64-conda-linux-gnu-c++ --nm=/home/conda/feedstock_root/build_artifacts/ffmpeg_1666357487580/_build_env/bin/x86_64-conda-linux-gnu-nm --ar=/home/conda/feedstock_root/build_artifacts/ffmpeg_1666357487580/_build_env/bin/x86_64-conda-linux-gnu-ar --disable-doc --disable-openssl --enable-demuxer=dash --enable-hardcoded-tables --enable-libfreetype --enable-libfontconfig --enable-libopenh264 --enable-gnutls --enable-libmp3lame --enable-libvpx --enable-pthreads --enable-vaapi --enable-gpl --enable-libx264 --enable-libx265 --enable-libaom --enable-libsvtav1 --enable-libxml2 --enable-pic --enable-shared --disable-static --enable-version3 --enable-zlib --pkg-config=/home/conda/feedstock_root/build_artifacts/ffmpeg_1666357487580/_build_env/bin/pkg-config\n",
      "  libavutil      57. 28.100 / 57. 28.100\n",
      "  libavcodec     59. 37.100 / 59. 37.100\n",
      "  libavformat    59. 27.100 / 59. 27.100\n",
      "  libavdevice    59.  7.100 / 59.  7.100\n",
      "  libavfilter     8. 44.100 /  8. 44.100\n",
      "  libswscale      6.  7.100 /  6.  7.100\n",
      "  libswresample   4.  7.100 /  4.  7.100\n",
      "  libpostproc    56.  6.100 / 56.  6.100\n",
      "[image2 @ 0x5608690b7640] Pattern type 'glob_sequence' is deprecated: use pattern_type 'glob' instead\n",
      "Input #0, image2, from '/home/irmak/Workspace/Holo-Bot/extracted_data/tofu_picking/eval/demonstration_largest_size/visualization/%*.png':\n",
      "  Duration: 00:00:03.56, start: 0.000000, bitrate: N/A\n",
      "  Stream #0:0: Video: png, rgba(pc), 2000x2000 [SAR 3937:3937 DAR 1:1], 25 fps, 25 tbr, 25 tbn\n",
      "Stream mapping:\n",
      "  Stream #0:0 -> #0:0 (png (native) -> h264 (libx264))\n",
      "Press [q] to stop, [?] for help\n"
     ]
    },
    {
     "name": "stdout",
     "output_type": "stream",
     "text": [
      "dumping video in root: /home/irmak/Workspace/Holo-Bot/extracted_data/tofu_picking/eval/demonstration_largest_size\n"
     ]
    },
    {
     "name": "stderr",
     "output_type": "stream",
     "text": [
      "[libx264 @ 0x5608690c1880] using SAR=1/1\n",
      "[libx264 @ 0x5608690c1880] using cpu capabilities: MMX2 SSE2Fast SSSE3 SSE4.2 AVX FMA3 BMI2 AVX2\n",
      "[libx264 @ 0x5608690c1880] profile High 4:4:4 Predictive, level 4.0, 4:4:4, 8-bit\n",
      "[libx264 @ 0x5608690c1880] 264 - core 164 r3095 baee400 - H.264/MPEG-4 AVC codec - Copyleft 2003-2022 - http://www.videolan.org/x264.html - options: cabac=1 ref=3 deblock=1:0:0 analyse=0x3:0x113 me=hex subme=7 psy=1 psy_rd=1.00:0.00 mixed_ref=1 me_range=16 chroma_me=1 trellis=1 8x8dct=1 cqm=0 deadzone=21,11 fast_pskip=1 chroma_qp_offset=4 threads=22 lookahead_threads=3 sliced_threads=0 nr=0 decimate=1 interlaced=0 bluray_compat=0 constrained_intra=0 bframes=3 b_pyramid=2 b_adapt=1 b_bias=0 direct=1 weightb=1 open_gop=0 weightp=2 keyint=250 keyint_min=10 scenecut=40 intra_refresh=0 rc_lookahead=40 rc=crf mbtree=1 crf=23.0 qcomp=0.60 qpmin=0 qpmax=69 qpstep=4 ip_ratio=1.40 aq=1:1.00\n",
      "Output #0, mp4, to '/home/irmak/Workspace/Holo-Bot/extracted_data/tofu_picking/eval/demonstration_largest_size/visualization.mp4':\n",
      "  Metadata:\n",
      "    encoder         : Lavf59.27.100\n",
      "  Stream #0:0: Video: h264 (avc1 / 0x31637661), yuv444p(tv, progressive), 2000x720 [SAR 1:1 DAR 25:9], q=2-31, 10 fps, 10240 tbn\n",
      "    Metadata:\n",
      "      encoder         : Lavc59.37.100 libx264\n",
      "    Side data:\n",
      "      cpb: bitrate max/min/avg: 0/0/0 buffer size: 0 vbv_delay: N/A\n",
      "frame=   89 fps= 72 q=-1.0 Lsize=    2294kB time=00:00:08.60 bitrate=2184.7kbits/s speed=6.97x    \n",
      "video:2292kB audio:0kB subtitle:0kB other streams:0kB global headers:0kB muxing overhead: 0.083055%\n",
      "[libx264 @ 0x5608690c1880] frame I:1     Avg QP:22.80  size: 51714\n",
      "[libx264 @ 0x5608690c1880] frame P:25    Avg QP:19.25  size: 43570\n",
      "[libx264 @ 0x5608690c1880] frame B:63    Avg QP:22.42  size: 19127\n",
      "[libx264 @ 0x5608690c1880] consecutive B-frames:  4.5%  2.2%  3.4% 89.9%\n",
      "[libx264 @ 0x5608690c1880] mb I  I16..4: 28.7% 42.7% 28.6%\n",
      "[libx264 @ 0x5608690c1880] mb P  I16..4:  3.4% 30.4%  1.0%  P16..4: 18.6%  9.1%  5.1%  0.0%  0.0%    skip:32.4%\n",
      "[libx264 @ 0x5608690c1880] mb B  I16..4:  1.1% 11.1%  0.3%  B16..8: 24.0%  5.6%  1.3%  direct: 4.6%  skip:52.1%  L0:48.3% L1:44.4% BI: 7.2%\n",
      "[libx264 @ 0x5608690c1880] 8x8 transform intra:85.5% inter:83.4%\n",
      "[libx264 @ 0x5608690c1880] coded y,u,v intra: 67.3% 30.3% 29.1% inter: 19.4% 10.7% 10.2%\n",
      "[libx264 @ 0x5608690c1880] i16 v,h,dc,p: 35% 23% 22% 20%\n",
      "[libx264 @ 0x5608690c1880] i8 v,h,dc,ddl,ddr,vr,hd,vl,hu: 18% 20% 41%  3%  3%  4%  3%  3%  5%\n",
      "[libx264 @ 0x5608690c1880] i4 v,h,dc,ddl,ddr,vr,hd,vl,hu: 32% 32% 12%  3%  4%  5%  5%  2%  4%\n",
      "[libx264 @ 0x5608690c1880] Weighted P-Frames: Y:4.0% UV:4.0%\n",
      "[libx264 @ 0x5608690c1880] ref P L0: 37.7% 10.2% 32.6% 18.3%  1.2%\n",
      "[libx264 @ 0x5608690c1880] ref B L0: 69.2% 25.1%  5.7%\n",
      "[libx264 @ 0x5608690c1880] ref B L1: 88.5% 11.5%\n",
      "[libx264 @ 0x5608690c1880] kb/s:2108.71\n",
      "ffmpeg version 5.1.2 Copyright (c) 2000-2022 the FFmpeg developers\n",
      "  built with gcc 10.4.0 (conda-forge gcc 10.4.0-18)\n",
      "  configuration: --prefix=/home/irmak/miniconda3/envs/tactile_learning --cc=/home/conda/feedstock_root/build_artifacts/ffmpeg_1666357487580/_build_env/bin/x86_64-conda-linux-gnu-cc --cxx=/home/conda/feedstock_root/build_artifacts/ffmpeg_1666357487580/_build_env/bin/x86_64-conda-linux-gnu-c++ --nm=/home/conda/feedstock_root/build_artifacts/ffmpeg_1666357487580/_build_env/bin/x86_64-conda-linux-gnu-nm --ar=/home/conda/feedstock_root/build_artifacts/ffmpeg_1666357487580/_build_env/bin/x86_64-conda-linux-gnu-ar --disable-doc --disable-openssl --enable-demuxer=dash --enable-hardcoded-tables --enable-libfreetype --enable-libfontconfig --enable-libopenh264 --enable-gnutls --enable-libmp3lame --enable-libvpx --enable-pthreads --enable-vaapi --enable-gpl --enable-libx264 --enable-libx265 --enable-libaom --enable-libsvtav1 --enable-libxml2 --enable-pic --enable-shared --disable-static --enable-version3 --enable-zlib --pkg-config=/home/conda/feedstock_root/build_artifacts/ffmpeg_1666357487580/_build_env/bin/pkg-config\n",
      "  libavutil      57. 28.100 / 57. 28.100\n",
      "  libavcodec     59. 37.100 / 59. 37.100\n",
      "  libavformat    59. 27.100 / 59. 27.100\n",
      "  libavdevice    59.  7.100 / 59.  7.100\n",
      "  libavfilter     8. 44.100 /  8. 44.100\n",
      "  libswscale      6.  7.100 /  6.  7.100\n",
      "  libswresample   4.  7.100 /  4.  7.100\n",
      "  libpostproc    56.  6.100 / 56.  6.100\n",
      "[image2 @ 0x5618ba626640] Pattern type 'glob_sequence' is deprecated: use pattern_type 'glob' instead\n",
      "Input #0, image2, from '/home/irmak/Workspace/Holo-Bot/extracted_data/tofu_picking/eval/demonstration_small_mid_size/visualization/%*.png':\n",
      "  Duration: 00:00:04.84, start: 0.000000, bitrate: N/A\n",
      "  Stream #0:0: Video: png, rgba(pc), 2000x2000 [SAR 3937:3937 DAR 1:1], 25 fps, 25 tbr, 25 tbn\n",
      "Stream mapping:\n",
      "  Stream #0:0 -> #0:0 (png (native) -> h264 (libx264))\n",
      "Press [q] to stop, [?] for help\n"
     ]
    },
    {
     "name": "stdout",
     "output_type": "stream",
     "text": [
      "dumping video in root: /home/irmak/Workspace/Holo-Bot/extracted_data/tofu_picking/eval/demonstration_small_mid_size\n"
     ]
    },
    {
     "name": "stderr",
     "output_type": "stream",
     "text": [
      "[libx264 @ 0x5618ba631600] using SAR=1/1\n",
      "[libx264 @ 0x5618ba631600] using cpu capabilities: MMX2 SSE2Fast SSSE3 SSE4.2 AVX FMA3 BMI2 AVX2\n",
      "[libx264 @ 0x5618ba631600] profile High 4:4:4 Predictive, level 4.0, 4:4:4, 8-bit\n",
      "[libx264 @ 0x5618ba631600] 264 - core 164 r3095 baee400 - H.264/MPEG-4 AVC codec - Copyleft 2003-2022 - http://www.videolan.org/x264.html - options: cabac=1 ref=3 deblock=1:0:0 analyse=0x3:0x113 me=hex subme=7 psy=1 psy_rd=1.00:0.00 mixed_ref=1 me_range=16 chroma_me=1 trellis=1 8x8dct=1 cqm=0 deadzone=21,11 fast_pskip=1 chroma_qp_offset=4 threads=22 lookahead_threads=3 sliced_threads=0 nr=0 decimate=1 interlaced=0 bluray_compat=0 constrained_intra=0 bframes=3 b_pyramid=2 b_adapt=1 b_bias=0 direct=1 weightb=1 open_gop=0 weightp=2 keyint=250 keyint_min=10 scenecut=40 intra_refresh=0 rc_lookahead=40 rc=crf mbtree=1 crf=23.0 qcomp=0.60 qpmin=0 qpmax=69 qpstep=4 ip_ratio=1.40 aq=1:1.00\n",
      "Output #0, mp4, to '/home/irmak/Workspace/Holo-Bot/extracted_data/tofu_picking/eval/demonstration_small_mid_size/visualization.mp4':\n",
      "  Metadata:\n",
      "    encoder         : Lavf59.27.100\n",
      "  Stream #0:0: Video: h264 (avc1 / 0x31637661), yuv444p(tv, progressive), 2000x720 [SAR 1:1 DAR 25:9], q=2-31, 10 fps, 10240 tbn\n",
      "    Metadata:\n",
      "      encoder         : Lavc59.37.100 libx264\n",
      "    Side data:\n",
      "      cpb: bitrate max/min/avg: 0/0/0 buffer size: 0 vbv_delay: N/A\n",
      "frame=  121 fps= 85 q=-1.0 Lsize=    3175kB time=00:00:11.80 bitrate=2204.3kbits/s speed=8.27x    \n",
      "video:3173kB audio:0kB subtitle:0kB other streams:0kB global headers:0kB muxing overhead: 0.072913%\n",
      "[libx264 @ 0x5618ba631600] frame I:1     Avg QP:23.07  size: 50951\n",
      "[libx264 @ 0x5618ba631600] frame P:32    Avg QP:18.92  size: 46409\n",
      "[libx264 @ 0x5618ba631600] frame B:88    Avg QP:22.46  size: 19458\n",
      "[libx264 @ 0x5618ba631600] consecutive B-frames:  2.5%  1.7%  0.0% 95.9%\n",
      "[libx264 @ 0x5618ba631600] mb I  I16..4: 27.9% 43.8% 28.4%\n",
      "[libx264 @ 0x5618ba631600] mb P  I16..4:  2.5% 29.5%  1.0%  P16..4: 17.8% 10.0%  5.4%  0.0%  0.0%    skip:33.8%\n",
      "[libx264 @ 0x5618ba631600] mb B  I16..4:  1.0%  9.7%  0.2%  B16..8: 24.1%  6.4%  1.5%  direct: 4.5%  skip:52.7%  L0:47.0% L1:44.5% BI: 8.6%\n",
      "[libx264 @ 0x5618ba631600] 8x8 transform intra:87.1% inter:82.5%\n",
      "[libx264 @ 0x5618ba631600] coded y,u,v intra: 69.3% 31.3% 29.9% inter: 19.8% 10.9% 10.3%\n",
      "[libx264 @ 0x5618ba631600] i16 v,h,dc,p: 34% 22% 27% 17%\n",
      "[libx264 @ 0x5618ba631600] i8 v,h,dc,ddl,ddr,vr,hd,vl,hu: 18% 19% 43%  3%  3%  4%  2%  2%  5%\n",
      "[libx264 @ 0x5618ba631600] i4 v,h,dc,ddl,ddr,vr,hd,vl,hu: 32% 29% 13%  3%  5%  6%  4%  3%  5%\n",
      "[libx264 @ 0x5618ba631600] Weighted P-Frames: Y:0.0% UV:0.0%\n",
      "[libx264 @ 0x5618ba631600] ref P L0: 41.0% 11.5% 30.3% 17.2%\n",
      "[libx264 @ 0x5618ba631600] ref B L0: 73.4% 21.6%  5.0%\n",
      "[libx264 @ 0x5618ba631600] ref B L1: 90.3%  9.7%\n",
      "[libx264 @ 0x5618ba631600] kb/s:2147.69\n",
      "ffmpeg version 5.1.2 Copyright (c) 2000-2022 the FFmpeg developers\n",
      "  built with gcc 10.4.0 (conda-forge gcc 10.4.0-18)\n",
      "  configuration: --prefix=/home/irmak/miniconda3/envs/tactile_learning --cc=/home/conda/feedstock_root/build_artifacts/ffmpeg_1666357487580/_build_env/bin/x86_64-conda-linux-gnu-cc --cxx=/home/conda/feedstock_root/build_artifacts/ffmpeg_1666357487580/_build_env/bin/x86_64-conda-linux-gnu-c++ --nm=/home/conda/feedstock_root/build_artifacts/ffmpeg_1666357487580/_build_env/bin/x86_64-conda-linux-gnu-nm --ar=/home/conda/feedstock_root/build_artifacts/ffmpeg_1666357487580/_build_env/bin/x86_64-conda-linux-gnu-ar --disable-doc --disable-openssl --enable-demuxer=dash --enable-hardcoded-tables --enable-libfreetype --enable-libfontconfig --enable-libopenh264 --enable-gnutls --enable-libmp3lame --enable-libvpx --enable-pthreads --enable-vaapi --enable-gpl --enable-libx264 --enable-libx265 --enable-libaom --enable-libsvtav1 --enable-libxml2 --enable-pic --enable-shared --disable-static --enable-version3 --enable-zlib --pkg-config=/home/conda/feedstock_root/build_artifacts/ffmpeg_1666357487580/_build_env/bin/pkg-config\n",
      "  libavutil      57. 28.100 / 57. 28.100\n",
      "  libavcodec     59. 37.100 / 59. 37.100\n",
      "  libavformat    59. 27.100 / 59. 27.100\n",
      "  libavdevice    59.  7.100 / 59.  7.100\n",
      "  libavfilter     8. 44.100 /  8. 44.100\n",
      "  libswscale      6.  7.100 /  6.  7.100\n",
      "  libswresample   4.  7.100 /  4.  7.100\n",
      "  libpostproc    56.  6.100 / 56.  6.100\n",
      "[image2 @ 0x563daefc6640] Pattern type 'glob_sequence' is deprecated: use pattern_type 'glob' instead\n",
      "Input #0, image2, from '/home/irmak/Workspace/Holo-Bot/extracted_data/tofu_picking/eval/demonstration_small_size/visualization/%*.png':\n",
      "  Duration: 00:00:06.16, start: 0.000000, bitrate: N/A\n",
      "  Stream #0:0: Video: png, rgba(pc), 2000x2000 [SAR 3937:3937 DAR 1:1], 25 fps, 25 tbr, 25 tbn\n",
      "Stream mapping:\n",
      "  Stream #0:0 -> #0:0 (png (native) -> h264 (libx264))\n",
      "Press [q] to stop, [?] for help\n"
     ]
    },
    {
     "name": "stdout",
     "output_type": "stream",
     "text": [
      "dumping video in root: /home/irmak/Workspace/Holo-Bot/extracted_data/tofu_picking/eval/demonstration_small_size\n"
     ]
    },
    {
     "name": "stderr",
     "output_type": "stream",
     "text": [
      "[libx264 @ 0x563daefd2000] using SAR=1/1\n",
      "[libx264 @ 0x563daefd2000] using cpu capabilities: MMX2 SSE2Fast SSSE3 SSE4.2 AVX FMA3 BMI2 AVX2\n",
      "[libx264 @ 0x563daefd2000] profile High 4:4:4 Predictive, level 4.0, 4:4:4, 8-bit\n",
      "[libx264 @ 0x563daefd2000] 264 - core 164 r3095 baee400 - H.264/MPEG-4 AVC codec - Copyleft 2003-2022 - http://www.videolan.org/x264.html - options: cabac=1 ref=3 deblock=1:0:0 analyse=0x3:0x113 me=hex subme=7 psy=1 psy_rd=1.00:0.00 mixed_ref=1 me_range=16 chroma_me=1 trellis=1 8x8dct=1 cqm=0 deadzone=21,11 fast_pskip=1 chroma_qp_offset=4 threads=22 lookahead_threads=3 sliced_threads=0 nr=0 decimate=1 interlaced=0 bluray_compat=0 constrained_intra=0 bframes=3 b_pyramid=2 b_adapt=1 b_bias=0 direct=1 weightb=1 open_gop=0 weightp=2 keyint=250 keyint_min=10 scenecut=40 intra_refresh=0 rc_lookahead=40 rc=crf mbtree=1 crf=23.0 qcomp=0.60 qpmin=0 qpmax=69 qpstep=4 ip_ratio=1.40 aq=1:1.00\n",
      "Output #0, mp4, to '/home/irmak/Workspace/Holo-Bot/extracted_data/tofu_picking/eval/demonstration_small_size/visualization.mp4':\n",
      "  Metadata:\n",
      "    encoder         : Lavf59.27.100\n",
      "  Stream #0:0: Video: h264 (avc1 / 0x31637661), yuv444p(tv, progressive), 2000x720 [SAR 1:1 DAR 25:9], q=2-31, 10 fps, 10240 tbn\n",
      "    Metadata:\n",
      "      encoder         : Lavc59.37.100 libx264\n",
      "    Side data:\n",
      "      cpb: bitrate max/min/avg: 0/0/0 buffer size: 0 vbv_delay: N/A\n",
      "frame=  154 fps= 92 q=-1.0 Lsize=    4099kB time=00:00:15.10 bitrate=2223.9kbits/s speed=8.99x    \n",
      "video:4097kB audio:0kB subtitle:0kB other streams:0kB global headers:0kB muxing overhead: 0.065531%\n",
      "[libx264 @ 0x563daefd2000] frame I:1     Avg QP:22.68  size: 50820\n",
      "[libx264 @ 0x563daefd2000] frame P:40    Avg QP:19.21  size: 46481\n",
      "[libx264 @ 0x563daefd2000] frame B:113   Avg QP:22.29  size: 20214\n",
      "[libx264 @ 0x563daefd2000] consecutive B-frames:  1.3%  1.3%  3.9% 93.5%\n",
      "[libx264 @ 0x563daefd2000] mb I  I16..4: 27.6% 43.9% 28.5%\n",
      "[libx264 @ 0x563daefd2000] mb P  I16..4:  3.3% 30.8%  1.1%  P16..4: 18.2%  9.6%  4.8%  0.0%  0.0%    skip:32.2%\n",
      "[libx264 @ 0x563daefd2000] mb B  I16..4:  1.1% 10.4%  0.3%  B16..8: 24.0%  6.1%  1.4%  direct: 5.4%  skip:51.3%  L0:46.0% L1:46.0% BI: 7.9%\n",
      "[libx264 @ 0x563daefd2000] 8x8 transform intra:86.2% inter:82.5%\n",
      "[libx264 @ 0x563daefd2000] coded y,u,v intra: 68.1% 31.9% 30.1% inter: 20.5% 11.5% 10.9%\n",
      "[libx264 @ 0x563daefd2000] i16 v,h,dc,p: 31% 21% 25% 22%\n",
      "[libx264 @ 0x563daefd2000] i8 v,h,dc,ddl,ddr,vr,hd,vl,hu: 18% 19% 40%  3%  3%  5%  3%  3%  5%\n",
      "[libx264 @ 0x563daefd2000] i4 v,h,dc,ddl,ddr,vr,hd,vl,hu: 30% 28% 14%  3%  6%  7%  5%  3%  5%\n",
      "[libx264 @ 0x563daefd2000] Weighted P-Frames: Y:0.0% UV:0.0%\n",
      "[libx264 @ 0x563daefd2000] ref P L0: 43.1% 11.7% 30.6% 14.7%\n",
      "[libx264 @ 0x563daefd2000] ref B L0: 75.7% 19.7%  4.6%\n",
      "[libx264 @ 0x563daefd2000] ref B L1: 89.7% 10.3%\n",
      "[libx264 @ 0x563daefd2000] kb/s:2178.84\n",
      "ffmpeg version 5.1.2 Copyright (c) 2000-2022 the FFmpeg developers\n",
      "  built with gcc 10.4.0 (conda-forge gcc 10.4.0-18)\n",
      "  configuration: --prefix=/home/irmak/miniconda3/envs/tactile_learning --cc=/home/conda/feedstock_root/build_artifacts/ffmpeg_1666357487580/_build_env/bin/x86_64-conda-linux-gnu-cc --cxx=/home/conda/feedstock_root/build_artifacts/ffmpeg_1666357487580/_build_env/bin/x86_64-conda-linux-gnu-c++ --nm=/home/conda/feedstock_root/build_artifacts/ffmpeg_1666357487580/_build_env/bin/x86_64-conda-linux-gnu-nm --ar=/home/conda/feedstock_root/build_artifacts/ffmpeg_1666357487580/_build_env/bin/x86_64-conda-linux-gnu-ar --disable-doc --disable-openssl --enable-demuxer=dash --enable-hardcoded-tables --enable-libfreetype --enable-libfontconfig --enable-libopenh264 --enable-gnutls --enable-libmp3lame --enable-libvpx --enable-pthreads --enable-vaapi --enable-gpl --enable-libx264 --enable-libx265 --enable-libaom --enable-libsvtav1 --enable-libxml2 --enable-pic --enable-shared --disable-static --enable-version3 --enable-zlib --pkg-config=/home/conda/feedstock_root/build_artifacts/ffmpeg_1666357487580/_build_env/bin/pkg-config\n",
      "  libavutil      57. 28.100 / 57. 28.100\n",
      "  libavcodec     59. 37.100 / 59. 37.100\n",
      "  libavformat    59. 27.100 / 59. 27.100\n",
      "  libavdevice    59.  7.100 / 59.  7.100\n",
      "  libavfilter     8. 44.100 /  8. 44.100\n",
      "  libswscale      6.  7.100 /  6.  7.100\n",
      "  libswresample   4.  7.100 /  4.  7.100\n",
      "  libpostproc    56.  6.100 / 56.  6.100\n",
      "[image2 @ 0x5653b8883640] Pattern type 'glob_sequence' is deprecated: use pattern_type 'glob' instead\n",
      "Input #0, image2, from '/home/irmak/Workspace/Holo-Bot/extracted_data/tofu_picking/eval/demonstration_mid_size/visualization/%*.png':\n",
      "  Duration: 00:00:07.96, start: 0.000000, bitrate: N/A\n",
      "  Stream #0:0: Video: png, rgba(pc), 2000x2000 [SAR 3937:3937 DAR 1:1], 25 fps, 25 tbr, 25 tbn\n",
      "Stream mapping:\n",
      "  Stream #0:0 -> #0:0 (png (native) -> h264 (libx264))\n",
      "Press [q] to stop, [?] for help\n"
     ]
    },
    {
     "name": "stdout",
     "output_type": "stream",
     "text": [
      "dumping video in root: /home/irmak/Workspace/Holo-Bot/extracted_data/tofu_picking/eval/demonstration_mid_size\n"
     ]
    },
    {
     "name": "stderr",
     "output_type": "stream",
     "text": [
      "[libx264 @ 0x5653b888ff80] using SAR=1/1\n",
      "[libx264 @ 0x5653b888ff80] using cpu capabilities: MMX2 SSE2Fast SSSE3 SSE4.2 AVX FMA3 BMI2 AVX2\n",
      "[libx264 @ 0x5653b888ff80] profile High 4:4:4 Predictive, level 4.0, 4:4:4, 8-bit\n",
      "[libx264 @ 0x5653b888ff80] 264 - core 164 r3095 baee400 - H.264/MPEG-4 AVC codec - Copyleft 2003-2022 - http://www.videolan.org/x264.html - options: cabac=1 ref=3 deblock=1:0:0 analyse=0x3:0x113 me=hex subme=7 psy=1 psy_rd=1.00:0.00 mixed_ref=1 me_range=16 chroma_me=1 trellis=1 8x8dct=1 cqm=0 deadzone=21,11 fast_pskip=1 chroma_qp_offset=4 threads=22 lookahead_threads=3 sliced_threads=0 nr=0 decimate=1 interlaced=0 bluray_compat=0 constrained_intra=0 bframes=3 b_pyramid=2 b_adapt=1 b_bias=0 direct=1 weightb=1 open_gop=0 weightp=2 keyint=250 keyint_min=10 scenecut=40 intra_refresh=0 rc_lookahead=40 rc=crf mbtree=1 crf=23.0 qcomp=0.60 qpmin=0 qpmax=69 qpstep=4 ip_ratio=1.40 aq=1:1.00\n",
      "Output #0, mp4, to '/home/irmak/Workspace/Holo-Bot/extracted_data/tofu_picking/eval/demonstration_mid_size/visualization.mp4':\n",
      "  Metadata:\n",
      "    encoder         : Lavf59.27.100\n",
      "  Stream #0:0: Video: h264 (avc1 / 0x31637661), yuv444p(tv, progressive), 2000x720 [SAR 1:1 DAR 25:9], q=2-31, 10 fps, 10240 tbn\n",
      "    Metadata:\n",
      "      encoder         : Lavc59.37.100 libx264\n",
      "    Side data:\n",
      "      cpb: bitrate max/min/avg: 0/0/0 buffer size: 0 vbv_delay: N/A\n",
      "frame=  199 fps=104 q=-1.0 Lsize=    5381kB time=00:00:19.60 bitrate=2249.2kbits/s speed=10.3x    \n",
      "video:5378kB audio:0kB subtitle:0kB other streams:0kB global headers:0kB muxing overhead: 0.060448%\n",
      "[libx264 @ 0x5653b888ff80] frame I:1     Avg QP:22.71  size: 51448\n",
      "[libx264 @ 0x5653b888ff80] frame P:50    Avg QP:18.96  size: 46537\n",
      "[libx264 @ 0x5653b888ff80] frame B:148   Avg QP:22.35  size: 21136\n",
      "[libx264 @ 0x5653b888ff80] consecutive B-frames:  0.5%  0.0%  3.0% 96.5%\n",
      "[libx264 @ 0x5653b888ff80] mb I  I16..4: 27.6% 43.8% 28.6%\n",
      "[libx264 @ 0x5653b888ff80] mb P  I16..4:  2.9% 28.2%  0.8%  P16..4: 20.0% 10.5%  5.5%  0.0%  0.0%    skip:32.1%\n",
      "[libx264 @ 0x5653b888ff80] mb B  I16..4:  1.1% 12.1%  0.2%  B16..8: 23.3%  6.5%  1.5%  direct: 5.2%  skip:50.0%  L0:49.1% L1:42.9% BI: 8.0%\n",
      "[libx264 @ 0x5653b888ff80] 8x8 transform intra:88.1% inter:82.4%\n",
      "[libx264 @ 0x5653b888ff80] coded y,u,v intra: 69.5% 32.1% 29.2% inter: 21.3% 11.7% 10.8%\n",
      "[libx264 @ 0x5653b888ff80] i16 v,h,dc,p: 31% 21% 28% 21%\n",
      "[libx264 @ 0x5653b888ff80] i8 v,h,dc,ddl,ddr,vr,hd,vl,hu: 18% 19% 43%  3%  3%  4%  3%  3%  5%\n",
      "[libx264 @ 0x5653b888ff80] i4 v,h,dc,ddl,ddr,vr,hd,vl,hu: 31% 27% 14%  4%  5%  6%  5%  3%  5%\n",
      "[libx264 @ 0x5653b888ff80] Weighted P-Frames: Y:0.0% UV:0.0%\n",
      "[libx264 @ 0x5653b888ff80] ref P L0: 39.8% 13.4% 28.9% 17.9%\n",
      "[libx264 @ 0x5653b888ff80] ref B L0: 72.8% 21.3%  5.9%\n",
      "[libx264 @ 0x5653b888ff80] ref B L1: 89.8% 10.2%\n",
      "[libx264 @ 0x5653b888ff80] kb/s:2213.68\n",
      "ffmpeg version 5.1.2 Copyright (c) 2000-2022 the FFmpeg developers\n",
      "  built with gcc 10.4.0 (conda-forge gcc 10.4.0-18)\n",
      "  configuration: --prefix=/home/irmak/miniconda3/envs/tactile_learning --cc=/home/conda/feedstock_root/build_artifacts/ffmpeg_1666357487580/_build_env/bin/x86_64-conda-linux-gnu-cc --cxx=/home/conda/feedstock_root/build_artifacts/ffmpeg_1666357487580/_build_env/bin/x86_64-conda-linux-gnu-c++ --nm=/home/conda/feedstock_root/build_artifacts/ffmpeg_1666357487580/_build_env/bin/x86_64-conda-linux-gnu-nm --ar=/home/conda/feedstock_root/build_artifacts/ffmpeg_1666357487580/_build_env/bin/x86_64-conda-linux-gnu-ar --disable-doc --disable-openssl --enable-demuxer=dash --enable-hardcoded-tables --enable-libfreetype --enable-libfontconfig --enable-libopenh264 --enable-gnutls --enable-libmp3lame --enable-libvpx --enable-pthreads --enable-vaapi --enable-gpl --enable-libx264 --enable-libx265 --enable-libaom --enable-libsvtav1 --enable-libxml2 --enable-pic --enable-shared --disable-static --enable-version3 --enable-zlib --pkg-config=/home/conda/feedstock_root/build_artifacts/ffmpeg_1666357487580/_build_env/bin/pkg-config\n",
      "  libavutil      57. 28.100 / 57. 28.100\n",
      "  libavcodec     59. 37.100 / 59. 37.100\n",
      "  libavformat    59. 27.100 / 59. 27.100\n",
      "  libavdevice    59.  7.100 / 59.  7.100\n",
      "  libavfilter     8. 44.100 /  8. 44.100\n",
      "  libswscale      6.  7.100 /  6.  7.100\n",
      "  libswresample   4.  7.100 /  4.  7.100\n",
      "  libpostproc    56.  6.100 / 56.  6.100\n",
      "[image2 @ 0x557e5906e640] Pattern type 'glob_sequence' is deprecated: use pattern_type 'glob' instead\n",
      "Input #0, image2, from '/home/irmak/Workspace/Holo-Bot/extracted_data/tofu_picking/eval/demonstration_smallest_size/visualization/%*.png':\n",
      "  Duration: 00:00:06.72, start: 0.000000, bitrate: N/A\n",
      "  Stream #0:0: Video: png, rgba(pc), 2000x2000 [SAR 3937:3937 DAR 1:1], 25 fps, 25 tbr, 25 tbn\n",
      "Stream mapping:\n",
      "  Stream #0:0 -> #0:0 (png (native) -> h264 (libx264))\n",
      "Press [q] to stop, [?] for help\n"
     ]
    },
    {
     "name": "stdout",
     "output_type": "stream",
     "text": [
      "dumping video in root: /home/irmak/Workspace/Holo-Bot/extracted_data/tofu_picking/eval/demonstration_smallest_size\n"
     ]
    },
    {
     "name": "stderr",
     "output_type": "stream",
     "text": [
      "[libx264 @ 0x557e5907a140] using SAR=1/1\n",
      "[libx264 @ 0x557e5907a140] using cpu capabilities: MMX2 SSE2Fast SSSE3 SSE4.2 AVX FMA3 BMI2 AVX2\n",
      "[libx264 @ 0x557e5907a140] profile High 4:4:4 Predictive, level 4.0, 4:4:4, 8-bit\n",
      "[libx264 @ 0x557e5907a140] 264 - core 164 r3095 baee400 - H.264/MPEG-4 AVC codec - Copyleft 2003-2022 - http://www.videolan.org/x264.html - options: cabac=1 ref=3 deblock=1:0:0 analyse=0x3:0x113 me=hex subme=7 psy=1 psy_rd=1.00:0.00 mixed_ref=1 me_range=16 chroma_me=1 trellis=1 8x8dct=1 cqm=0 deadzone=21,11 fast_pskip=1 chroma_qp_offset=4 threads=22 lookahead_threads=3 sliced_threads=0 nr=0 decimate=1 interlaced=0 bluray_compat=0 constrained_intra=0 bframes=3 b_pyramid=2 b_adapt=1 b_bias=0 direct=1 weightb=1 open_gop=0 weightp=2 keyint=250 keyint_min=10 scenecut=40 intra_refresh=0 rc_lookahead=40 rc=crf mbtree=1 crf=23.0 qcomp=0.60 qpmin=0 qpmax=69 qpstep=4 ip_ratio=1.40 aq=1:1.00\n",
      "Output #0, mp4, to '/home/irmak/Workspace/Holo-Bot/extracted_data/tofu_picking/eval/demonstration_smallest_size/visualization.mp4':\n",
      "  Metadata:\n",
      "    encoder         : Lavf59.27.100\n",
      "  Stream #0:0: Video: h264 (avc1 / 0x31637661), yuv444p(tv, progressive), 2000x720 [SAR 1:1 DAR 25:9], q=2-31, 10 fps, 10240 tbn\n",
      "    Metadata:\n",
      "      encoder         : Lavc59.37.100 libx264\n",
      "    Side data:\n",
      "      cpb: bitrate max/min/avg: 0/0/0 buffer size: 0 vbv_delay: N/A\n",
      "frame=  168 fps= 94 q=-1.0 Lsize=    4692kB time=00:00:16.50 bitrate=2329.5kbits/s speed=9.22x    \n",
      "video:4689kB audio:0kB subtitle:0kB other streams:0kB global headers:0kB muxing overhead: 0.060748%\n",
      "[libx264 @ 0x557e5907a140] frame I:1     Avg QP:23.04  size: 51113\n",
      "[libx264 @ 0x557e5907a140] frame P:46    Avg QP:19.51  size: 46683\n",
      "[libx264 @ 0x557e5907a140] frame B:121   Avg QP:22.65  size: 21509\n",
      "[libx264 @ 0x557e5907a140] consecutive B-frames:  3.0%  0.0%  8.9% 88.1%\n",
      "[libx264 @ 0x557e5907a140] mb I  I16..4: 27.6% 43.9% 28.5%\n",
      "[libx264 @ 0x557e5907a140] mb P  I16..4:  3.1% 29.8%  0.8%  P16..4: 18.7% 10.7%  6.1%  0.0%  0.0%    skip:30.8%\n",
      "[libx264 @ 0x557e5907a140] mb B  I16..4:  1.2% 11.2%  0.3%  B16..8: 24.6%  7.4%  1.8%  direct: 4.7%  skip:48.7%  L0:47.9% L1:44.5% BI: 7.6%\n",
      "[libx264 @ 0x557e5907a140] 8x8 transform intra:86.7% inter:82.0%\n",
      "[libx264 @ 0x557e5907a140] coded y,u,v intra: 68.0% 32.2% 29.9% inter: 20.8% 11.8% 11.0%\n",
      "[libx264 @ 0x557e5907a140] i16 v,h,dc,p: 32% 23% 26% 20%\n",
      "[libx264 @ 0x557e5907a140] i8 v,h,dc,ddl,ddr,vr,hd,vl,hu: 18% 19% 41%  3%  3%  5%  3%  3%  5%\n",
      "[libx264 @ 0x557e5907a140] i4 v,h,dc,ddl,ddr,vr,hd,vl,hu: 29% 27% 15%  3%  5%  7%  5%  3%  5%\n",
      "[libx264 @ 0x557e5907a140] Weighted P-Frames: Y:0.0% UV:0.0%\n",
      "[libx264 @ 0x557e5907a140] ref P L0: 37.6% 10.6% 31.6% 20.3%\n",
      "[libx264 @ 0x557e5907a140] ref B L0: 70.1% 22.8%  7.2%\n",
      "[libx264 @ 0x557e5907a140] ref B L1: 87.8% 12.2%\n",
      "[libx264 @ 0x557e5907a140] kb/s:2286.23\n",
      "ffmpeg version 5.1.2 Copyright (c) 2000-2022 the FFmpeg developers\n",
      "  built with gcc 10.4.0 (conda-forge gcc 10.4.0-18)\n",
      "  configuration: --prefix=/home/irmak/miniconda3/envs/tactile_learning --cc=/home/conda/feedstock_root/build_artifacts/ffmpeg_1666357487580/_build_env/bin/x86_64-conda-linux-gnu-cc --cxx=/home/conda/feedstock_root/build_artifacts/ffmpeg_1666357487580/_build_env/bin/x86_64-conda-linux-gnu-c++ --nm=/home/conda/feedstock_root/build_artifacts/ffmpeg_1666357487580/_build_env/bin/x86_64-conda-linux-gnu-nm --ar=/home/conda/feedstock_root/build_artifacts/ffmpeg_1666357487580/_build_env/bin/x86_64-conda-linux-gnu-ar --disable-doc --disable-openssl --enable-demuxer=dash --enable-hardcoded-tables --enable-libfreetype --enable-libfontconfig --enable-libopenh264 --enable-gnutls --enable-libmp3lame --enable-libvpx --enable-pthreads --enable-vaapi --enable-gpl --enable-libx264 --enable-libx265 --enable-libaom --enable-libsvtav1 --enable-libxml2 --enable-pic --enable-shared --disable-static --enable-version3 --enable-zlib --pkg-config=/home/conda/feedstock_root/build_artifacts/ffmpeg_1666357487580/_build_env/bin/pkg-config\n",
      "  libavutil      57. 28.100 / 57. 28.100\n",
      "  libavcodec     59. 37.100 / 59. 37.100\n",
      "  libavformat    59. 27.100 / 59. 27.100\n",
      "  libavdevice    59.  7.100 / 59.  7.100\n",
      "  libavfilter     8. 44.100 /  8. 44.100\n",
      "  libswscale      6.  7.100 /  6.  7.100\n",
      "  libswresample   4.  7.100 /  4.  7.100\n",
      "  libpostproc    56.  6.100 / 56.  6.100\n",
      "[image2 @ 0x5640c89bf640] Pattern type 'glob_sequence' is deprecated: use pattern_type 'glob' instead\n",
      "Input #0, image2, from '/home/irmak/Workspace/Holo-Bot/extracted_data/tofu_picking/eval/demonstration_large_mid_size/visualization/%*.png':\n",
      "  Duration: 00:00:03.96, start: 0.000000, bitrate: N/A\n",
      "  Stream #0:0: Video: png, rgba(pc), 2000x2000 [SAR 3937:3937 DAR 1:1], 25 fps, 25 tbr, 25 tbn\n",
      "Stream mapping:\n",
      "  Stream #0:0 -> #0:0 (png (native) -> h264 (libx264))\n",
      "Press [q] to stop, [?] for help\n"
     ]
    },
    {
     "name": "stdout",
     "output_type": "stream",
     "text": [
      "dumping video in root: /home/irmak/Workspace/Holo-Bot/extracted_data/tofu_picking/eval/demonstration_large_mid_size\n"
     ]
    },
    {
     "name": "stderr",
     "output_type": "stream",
     "text": [
      "[libx264 @ 0x5640c89c9380] using SAR=1/1\n",
      "[libx264 @ 0x5640c89c9380] using cpu capabilities: MMX2 SSE2Fast SSSE3 SSE4.2 AVX FMA3 BMI2 AVX2\n",
      "[libx264 @ 0x5640c89c9380] profile High 4:4:4 Predictive, level 4.0, 4:4:4, 8-bit\n",
      "[libx264 @ 0x5640c89c9380] 264 - core 164 r3095 baee400 - H.264/MPEG-4 AVC codec - Copyleft 2003-2022 - http://www.videolan.org/x264.html - options: cabac=1 ref=3 deblock=1:0:0 analyse=0x3:0x113 me=hex subme=7 psy=1 psy_rd=1.00:0.00 mixed_ref=1 me_range=16 chroma_me=1 trellis=1 8x8dct=1 cqm=0 deadzone=21,11 fast_pskip=1 chroma_qp_offset=4 threads=22 lookahead_threads=3 sliced_threads=0 nr=0 decimate=1 interlaced=0 bluray_compat=0 constrained_intra=0 bframes=3 b_pyramid=2 b_adapt=1 b_bias=0 direct=1 weightb=1 open_gop=0 weightp=2 keyint=250 keyint_min=10 scenecut=40 intra_refresh=0 rc_lookahead=40 rc=crf mbtree=1 crf=23.0 qcomp=0.60 qpmin=0 qpmax=69 qpstep=4 ip_ratio=1.40 aq=1:1.00\n",
      "Output #0, mp4, to '/home/irmak/Workspace/Holo-Bot/extracted_data/tofu_picking/eval/demonstration_large_mid_size/visualization.mp4':\n",
      "  Metadata:\n",
      "    encoder         : Lavf59.27.100\n",
      "  Stream #0:0: Video: h264 (avc1 / 0x31637661), yuv444p(tv, progressive), 2000x720 [SAR 1:1 DAR 25:9], q=2-31, 10 fps, 10240 tbn\n",
      "    Metadata:\n",
      "      encoder         : Lavc59.37.100 libx264\n",
      "    Side data:\n",
      "      cpb: bitrate max/min/avg: 0/0/0 buffer size: 0 vbv_delay: N/A\n",
      "frame=   99 fps= 75 q=-1.0 Lsize=    2452kB time=00:00:09.60 bitrate=2092.1kbits/s speed= 7.3x    \n",
      "video:2450kB audio:0kB subtitle:0kB other streams:0kB global headers:0kB muxing overhead: 0.082961%\n",
      "[libx264 @ 0x5640c89c9380] frame I:1     Avg QP:22.84  size: 52073\n",
      "[libx264 @ 0x5640c89c9380] frame P:26    Avg QP:19.18  size: 43989\n",
      "[libx264 @ 0x5640c89c9380] frame B:72    Avg QP:22.34  size: 18221\n",
      "[libx264 @ 0x5640c89c9380] consecutive B-frames:  1.0%  4.0%  6.1% 88.9%\n",
      "[libx264 @ 0x5640c89c9380] mb I  I16..4: 28.0% 43.3% 28.7%\n",
      "[libx264 @ 0x5640c89c9380] mb P  I16..4:  3.3% 28.6%  1.0%  P16..4: 18.8%  9.5%  5.2%  0.0%  0.0%    skip:33.5%\n",
      "[libx264 @ 0x5640c89c9380] mb B  I16..4:  1.1%  9.8%  0.3%  B16..8: 23.2%  5.6%  1.3%  direct: 4.4%  skip:54.5%  L0:45.9% L1:46.4% BI: 7.7%\n",
      "[libx264 @ 0x5640c89c9380] 8x8 transform intra:84.8% inter:83.1%\n",
      "[libx264 @ 0x5640c89c9380] coded y,u,v intra: 65.8% 29.9% 28.5% inter: 18.4% 10.7% 10.1%\n",
      "[libx264 @ 0x5640c89c9380] i16 v,h,dc,p: 33% 23% 25% 19%\n",
      "[libx264 @ 0x5640c89c9380] i8 v,h,dc,ddl,ddr,vr,hd,vl,hu: 18% 19% 41%  3%  3%  4%  3%  3%  5%\n",
      "[libx264 @ 0x5640c89c9380] i4 v,h,dc,ddl,ddr,vr,hd,vl,hu: 32% 30% 13%  3%  4%  5%  5%  3%  5%\n",
      "[libx264 @ 0x5640c89c9380] Weighted P-Frames: Y:0.0% UV:0.0%\n",
      "[libx264 @ 0x5640c89c9380] ref P L0: 41.4% 12.3% 31.0% 15.4%\n",
      "[libx264 @ 0x5640c89c9380] ref B L0: 71.8% 23.1%  5.1%\n",
      "[libx264 @ 0x5640c89c9380] ref B L1: 88.9% 11.1%\n",
      "[libx264 @ 0x5640c89c9380] kb/s:2026.44\n"
     ]
    }
   ],
   "source": [
    "# Turn the images to a video and delete the directory\n",
    "video_fps = 10\n",
    "for root in roots:\n",
    "    print('dumping video in root: {}'.format(root))\n",
    "    video_path = os.path.join(root, f'visualization_{view_num}.mp4')\n",
    "    if os.path.exists(video_path):\n",
    "        os.remove(video_path)\n",
    "    viz_dir = os.path.join(root, 'visualization')\n",
    "    os.system('ffmpeg -r {} -i {}/%*.png -vf scale=2000x720,setsar=1:1 {}'.format(\n",
    "        video_fps, # fps\n",
    "        viz_dir,\n",
    "        video_path\n",
    "    ))\n"
   ]
  },
  {
   "cell_type": "code",
   "execution_count": 18,
   "metadata": {},
   "outputs": [],
   "source": [
    "# Remove the img directory\n",
    "\n",
    "for root in roots:\n",
    "    viz_dir = os.path.join(root, 'visualization')\n",
    "    shutil.rmtree(viz_dir)\n"
   ]
  },
  {
   "cell_type": "code",
   "execution_count": null,
   "metadata": {},
   "outputs": [],
   "source": []
  }
 ],
 "metadata": {
  "kernelspec": {
   "display_name": "Python 3 (ipykernel)",
   "language": "python",
   "name": "python3"
  },
  "language_info": {
   "codemirror_mode": {
    "name": "ipython",
    "version": 3
   },
   "file_extension": ".py",
   "mimetype": "text/x-python",
   "name": "python",
   "nbconvert_exporter": "python",
   "pygments_lexer": "ipython3",
   "version": "3.9.13"
  },
  "vscode": {
   "interpreter": {
    "hash": "36852de55b288c46ba617fd48cf310240e4201e2f57004cbdac030fa23152bd3"
   }
  }
 },
 "nbformat": 4,
 "nbformat_minor": 4
}
