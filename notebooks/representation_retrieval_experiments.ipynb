{
 "cells": [
  {
   "cell_type": "code",
   "execution_count": 1,
   "id": "d97b38c4-ae79-44be-b221-ce8ee4642420",
   "metadata": {},
   "outputs": [],
   "source": [
    "# Notebook to retrieve different tactile representations\n",
    "import matplotlib.pyplot as plt \n",
    "import numpy as np\n",
    "import cv2 \n",
    "import pickle \n",
    "import os\n",
    "\n",
    "deployment_data_dir = '/home/irmak/Workspace/Holo-Bot/deployment_data/cup_picking/demo_images/image_tactile_play/1'\n",
    "with open(os.path.join(deployment_data_dir, 'deployment_info.pkl'), 'rb') as f:\n",
    "    deployment_info = pickle.load(f)\n",
    "    "
   ]
  },
  {
   "cell_type": "code",
   "execution_count": 2,
   "id": "f2e88b98-9443-4de7-ac8a-76bb58fc8cf8",
   "metadata": {},
   "outputs": [],
   "source": [
    "tactile_values = deployment_info['tactile_values']"
   ]
  },
  {
   "cell_type": "code",
   "execution_count": 3,
   "id": "6b30a560-440e-4dd6-b100-f0e0be7167bc",
   "metadata": {},
   "outputs": [
    {
     "data": {
      "text/plain": [
       "(15, 16, 3)"
      ]
     },
     "execution_count": 3,
     "metadata": {},
     "output_type": "execute_result"
    }
   ],
   "source": [
    "id = 15\n",
    "tactile_values[id].shape"
   ]
  },
  {
   "cell_type": "code",
   "execution_count": null,
   "id": "4ed446b7-3dc1-4a89-94c5-3bc16637457a",
   "metadata": {},
   "outputs": [],
   "source": [
    "# def find_pad_means(tactile_values)"
   ]
  },
  {
   "cell_type": "code",
   "execution_count": 81,
   "id": "2d4ac1eb-8fee-42e6-acc9-0c65c9530a11",
   "metadata": {},
   "outputs": [],
   "source": [
    "def get_sumpooled_tactile_repr(tactile_values, pad_states=None):\n",
    "    tactile_image = torch.FloatTensor(tactile_values)\n",
    "    # tactile_image = tactile_image.view(15,4,4,3)\n",
    "    \n",
    "    tactile_image = torch.sum(tactile_image, dim=1).flatten() # Shape: 15,3\n",
    "    \n",
    "    # normalization should be done afterwards\n",
    "    if pad_states is None:\n",
    "        return tactile_image\n",
    "    \n",
    "    return ((tactile_image - pad_states[0]) / pad_states[1]).flatten()"
   ]
  },
  {
   "cell_type": "code",
   "execution_count": 76,
   "id": "26021573-6375-48a9-98cb-2bd6f91bb093",
   "metadata": {},
   "outputs": [],
   "source": [
    "# Find the mean and std of each sumpooled tactile data point\n",
    "all_sumpooled_tactile_images = torch.zeros((len(data['tactile']['indices'])), 45)\n",
    "for i in range(len(data['tactile']['indices'])):\n",
    "    demo_id, tactile_id = data['tactile']['indices'][i]\n",
    "    tactile_values = data['tactile']['values'][demo_id][tactile_id]\n",
    "    # print(tactile_values.shape)\n",
    "    sumpooled_tactile_image = get_sumpooled_tactile_image(tactile_values)\n",
    "    all_sumpooled_tactile_images[i,:] = sumpooled_tactile_image[:]\n",
    "    # print(sumpooled_tactile_image.shape)\n",
    "        \n"
   ]
  },
  {
   "cell_type": "code",
   "execution_count": 79,
   "id": "25e11ab3-5564-44b5-bc3e-3b9a2b3345ec",
   "metadata": {},
   "outputs": [
    {
     "name": "stdout",
     "output_type": "stream",
     "text": [
      "torch.Size([45]) torch.Size([45])\n"
     ]
    }
   ],
   "source": [
    "# Find the mean and std of all sumpooled tactile images\n",
    "std, mean = torch.std_mean(all_sumpooled_tactile_images, 0)\n",
    "print(std.shape, mean.shape)"
   ]
  },
  {
   "cell_type": "code",
   "execution_count": 82,
   "id": "a783668a-299a-4bbd-8aa7-7481a638d4c5",
   "metadata": {},
   "outputs": [],
   "source": [
    "tactile_repr = get_sumpooled_tactile_repr(data['tactile']['values'][0][120], (mean, std))"
   ]
  },
  {
   "cell_type": "code",
   "execution_count": 83,
   "id": "2578a5da-35df-4f04-842d-3b70300a14b6",
   "metadata": {},
   "outputs": [
    {
     "name": "stdout",
     "output_type": "stream",
     "text": [
      "torch.Size([45])\n"
     ]
    }
   ],
   "source": [
    "print(tactile_repr.shape)"
   ]
  },
  {
   "cell_type": "code",
   "execution_count": 43,
   "id": "9315b34a-e1fa-4010-a9c9-445e0f5bb60f",
   "metadata": {},
   "outputs": [
    {
     "name": "stdout",
     "output_type": "stream",
     "text": [
      "_iris.shape: (150, 4)\n",
      "passed!\n"
     ]
    },
    {
     "data": {
      "image/png": "[encoded data removed]",
      "text/plain": [
       "<Figure size 640x480 with 1 Axes>"
      ]
     },
     "metadata": {},
     "output_type": "display_data"
    }
   ],
   "source": [
    "import torch\n",
    "import torch.nn as nn\n",
    "import torch.nn.functional as F\n",
    "\n",
    "\n",
    "def svd_flip(u, v):\n",
    "    # columns of u, rows of v\n",
    "    max_abs_cols = torch.argmax(torch.abs(u), 0)\n",
    "    i = torch.arange(u.shape[1]).to(u.device)\n",
    "    signs = torch.sign(u[max_abs_cols, i])\n",
    "    u *= signs\n",
    "    v *= signs.view(-1, 1)\n",
    "    return u, v\n",
    "\n",
    "class PCA(nn.Module):\n",
    "    def __init__(self, n_components):\n",
    "        super().__init__()\n",
    "        self.n_components = n_components\n",
    "\n",
    "    @torch.no_grad()\n",
    "    def fit(self, X):\n",
    "        n, d = X.size()\n",
    "        if self.n_components is not None:\n",
    "            d = min(self.n_components, d)\n",
    "        self.register_buffer(\"mean_\", X.mean(0, keepdim=True))\n",
    "        Z = X - self.mean_ # center\n",
    "        U, S, Vh = torch.linalg.svd(Z, full_matrices=False)\n",
    "        Vt = Vh\n",
    "        U, Vt = svd_flip(U, Vt)\n",
    "        self.register_buffer(\"components_\", Vt[:d])\n",
    "        return self\n",
    "\n",
    "    def forward(self, X):\n",
    "        return self.transform(X)\n",
    "\n",
    "    def transform(self, X):\n",
    "        assert hasattr(self, \"components_\"), \"PCA must be fit before use.\"\n",
    "        return torch.matmul(X - self.mean_, self.components_.t())\n",
    "\n",
    "    def fit_transform(self, X):\n",
    "        self.fit(X)\n",
    "        return self.transform(X)\n",
    "\n",
    "    def inverse_transform(self, Y):\n",
    "        assert hasattr(self, \"components_\"), \"PCA must be fit before use.\"\n",
    "        return torch.matmul(Y, self.components_) + self.mean_\n",
    "\n",
    "if __name__ == \"__main__\":\n",
    "    import numpy as np\n",
    "    from sklearn.decomposition import PCA as sklearn_PCA\n",
    "    from sklearn import datasets\n",
    "    iris = torch.tensor(datasets.load_iris().data)\n",
    "    _iris = iris.numpy()\n",
    "    print('_iris.shape: {}'.format(_iris.shape))\n",
    "    devices = ['cpu']\n",
    "    if torch.cuda.is_available():\n",
    "        devices.append('cuda')\n",
    "    for device in devices:\n",
    "        iris = iris.to(device)\n",
    "        for n_components in (2, 4, None):\n",
    "            _pca = sklearn_PCA(n_components=n_components).fit(_iris)\n",
    "            plt.plot(np.cumsum(_pca.explained_variance_ratio_))\n",
    "            _components = torch.tensor(_pca.components_)\n",
    "            pca = PCA(n_components=n_components).to(device).fit(iris)\n",
    "            components = pca.components_\n",
    "            assert torch.allclose(components, _components.to(device))\n",
    "            _t = torch.tensor(_pca.transform(_iris))\n",
    "            t = pca.transform(iris)\n",
    "            assert torch.allclose(t, _t.to(device))\n",
    "        __iris = pca.inverse_transform(t)\n",
    "        assert torch.allclose(__iris, iris)\n",
    "    print(\"passed!\")"
   ]
  },
  {
   "cell_type": "code",
   "execution_count": 46,
   "id": "65241e7e-f99d-47cc-9d28-29c41267ae4c",
   "metadata": {},
   "outputs": [
    {
     "name": "stdout",
     "output_type": "stream",
     "text": [
      "['/data/tactile_learning/play_data/demonstration_36', '/data/tactile_learning/play_data/demonstration_3', '/data/tactile_learning/play_data/demonstration_19', '/data/tactile_learning/play_data/demonstration_29', '/data/tactile_learning/play_data/demonstration_4', '/data/tactile_learning/play_data/demonstration_10', '/data/tactile_learning/play_data/demonstration_5', '/data/tactile_learning/play_data/demonstration_2', '/data/tactile_learning/play_data/demonstration_13', '/data/tactile_learning/play_data/demonstration_33', '/data/tactile_learning/play_data/demonstration_20', '/data/tactile_learning/play_data/demonstration_16', '/data/tactile_learning/play_data/demonstration_27', '/data/tactile_learning/play_data/demonstration_35', '/data/tactile_learning/play_data/demonstration_18', '/data/tactile_learning/play_data/demonstration_11', '/data/tactile_learning/play_data/demonstration_39', '/data/tactile_learning/play_data/demonstration_12', '/data/tactile_learning/play_data/demonstration_6', '/data/tactile_learning/play_data/demonstration_24', '/data/tactile_learning/play_data/demonstration_8', '/data/tactile_learning/play_data/demonstration_26', '/data/tactile_learning/play_data/demonstration_34', '/data/tactile_learning/play_data/demonstration_14', '/data/tactile_learning/play_data/demonstration_9', '/data/tactile_learning/play_data/demonstration_32', '/data/tactile_learning/play_data/demonstration_28', '/data/tactile_learning/play_data/demonstration_hand_touching_itself_record_15', '/data/tactile_learning/play_data/demonstration_22', '/data/tactile_learning/play_data/demonstration_23', '/data/tactile_learning/play_data/demonstration_7', '/data/tactile_learning/play_data/demonstration_17', '/data/tactile_learning/play_data/demonstration_hand_touching_itself_record_31', '/data/tactile_learning/play_data/demonstration_30', '/data/tactile_learning/play_data/demonstration_38', '/data/tactile_learning/play_data/demonstration_25', '/data/tactile_learning/play_data/demonstration_37', '/data/tactile_learning/play_data/demonstration_21']\n"
     ]
    }
   ],
   "source": [
    "# Find the number of components from sklearn package\n",
    "# load the tactile_values data\n",
    "from tactile_learning.utils.data import load_data\n",
    "import glob\n",
    "data_path = '/data/tactile_learning/play_data'\n",
    "# data_path = '/home/irmak/Workspace/Holo-Bot/extracted_data/bowl_picking/eval'\n",
    "roots = glob.glob(f'{data_path}/demonstration_*')\n",
    "print(roots)\n",
    "data = load_data(roots)"
   ]
  },
  {
   "cell_type": "code",
   "execution_count": 47,
   "id": "1eacb7be-c6dd-4f9a-8b39-d41f21fe6a3b",
   "metadata": {},
   "outputs": [
    {
     "data": {
      "text/plain": [
       "dict_keys(['tactile', 'allegro_joint_states', 'allegro_tip_states', 'allegro_actions', 'kinova', 'image'])"
      ]
     },
     "execution_count": 47,
     "metadata": {},
     "output_type": "execute_result"
    }
   ],
   "source": [
    "data.keys()"
   ]
  },
  {
   "cell_type": "code",
   "execution_count": 48,
   "id": "b9fe0722-92f0-4857-9589-be5fa58dee79",
   "metadata": {},
   "outputs": [
    {
     "data": {
      "text/plain": [
       "dict_keys([0, 1, 2, 3, 4, 5, 6, 7, 8, 9, 10, 11, 12, 13, 14, 15, 16, 17, 18, 19, 20, 21, 22, 23, 24, 25, 26, 27, 28, 29, 30, 31, 32, 33, 34, 35, 36, 37])"
      ]
     },
     "execution_count": 48,
     "metadata": {},
     "output_type": "execute_result"
    }
   ],
   "source": [
    "# Get all tactile values as a numpy\n",
    "data['tactile']['values'].keys()"
   ]
  },
  {
   "cell_type": "code",
   "execution_count": 49,
   "id": "4fd37ac6-fcca-43d4-8ffd-6d6b196ace76",
   "metadata": {},
   "outputs": [
    {
     "data": {
      "text/plain": [
       "(41969, 720)"
      ]
     },
     "execution_count": 49,
     "metadata": {},
     "output_type": "execute_result"
    }
   ],
   "source": [
    "all_tactile_values = np.zeros((\n",
    "    len(data['tactile']['indices']), 15*16*3\n",
    "))\n",
    "all_tactile_values.shape"
   ]
  },
  {
   "cell_type": "code",
   "execution_count": 50,
   "id": "49368f32-246b-4543-af55-c7a028093eff",
   "metadata": {},
   "outputs": [
    {
     "data": {
      "text/plain": [
       "(15, 16, 3)"
      ]
     },
     "execution_count": 50,
     "metadata": {},
     "output_type": "execute_result"
    }
   ],
   "source": [
    "data['tactile']['values'][0][120].shape"
   ]
  },
  {
   "cell_type": "code",
   "execution_count": 85,
   "id": "accc7653-bb47-40bf-b36c-4d9e9e19a25b",
   "metadata": {},
   "outputs": [
    {
     "name": "stderr",
     "output_type": "stream",
     "text": [
      "100%|███████████| 41969/41969 [00:00<00:00, 395344.61it/s]\n"
     ]
    }
   ],
   "source": [
    "# Transfer all the tactile value to the numpy array\n",
    "from tqdm import tqdm\n",
    "for i in tqdm(range(len(data['tactile']['indices']))):\n",
    "    demo_id, tactile_id = data['tactile']['indices'][i]\n",
    "    all_tactile_values[i,:] = data['tactile']['values'][demo_id][tactile_id].flatten()\n",
    "    "
   ]
  },
  {
   "cell_type": "code",
   "execution_count": 52,
   "id": "2d3cab57-1829-426e-a09c-cdff6933bccf",
   "metadata": {},
   "outputs": [
    {
     "data": {
      "text/plain": [
       "[<matplotlib.lines.Line2D at 0x7f8cff9d2100>]"
      ]
     },
     "execution_count": 52,
     "metadata": {},
     "output_type": "execute_result"
    },
    {
     "data": {
      "image/png": "[encoded data removed]",
      "text/plain": [
       "<Figure size 640x480 with 1 Axes>"
      ]
     },
     "metadata": {},
     "output_type": "display_data"
    }
   ],
   "source": [
    "# Fit this with pca and plot the cumulative explained variance graph\n",
    "import numpy as np\n",
    "from sklearn.decomposition import PCA as sklearn_PCA\n",
    "from sklearn import datasets\n",
    "import matplotlib.pyplot as plt\n",
    "\n",
    "pca = sklearn_PCA().fit(all_tactile_values)\n",
    "plt.plot(np.cumsum(pca.explained_variance_ratio_))\n",
    "\n",
    "# devices = ['cpu']\n",
    "# if torch.cuda.is_available():\n",
    "#     devices.append('cuda')\n",
    "# n_comps = []\n",
    "# variances = []\n",
    "# # for device in devices:\n",
    "# #     iris = iris.to(device)\n",
    "# for n_components in (60, 720, 20):\n",
    "#     _pca = sklearn_PCA(n_components=n_components).fit(_iris)\n",
    "#     # _components = torch.tensor(_pca.components_)\n",
    "#     n_comps.append(n_components)\n",
    "#     variances.append(_pca.\n",
    "        \n",
    "        # pca = PCA(n_components=n_components).to(device).fit(iris)\n",
    "    #     components = pca.components_\n",
    "    #     assert torch.allclose(components, _components.to(device))\n",
    "    #     _t = torch.tensor(_pca.transform(_iris))\n",
    "    #     t = pca.transform(iris)\n",
    "    #     assert torch.allclose(t, _t.to(device))\n",
    "    # __iris = pca.inverse_transform(t)\n",
    "    # assert torch.allclose(__iris, iris)\n",
    "    # print(\"passed!\")"
   ]
  },
  {
   "cell_type": "code",
   "execution_count": 63,
   "id": "5c76d110-d1f1-48b1-9604-ee171508a937",
   "metadata": {},
   "outputs": [
    {
     "data": {
      "text/plain": [
       "[<matplotlib.lines.Line2D at 0x7f8cdd372070>]"
      ]
     },
     "execution_count": 63,
     "metadata": {},
     "output_type": "execute_result"
    },
    {
     "data": {
      "image/png": "[encoded data removed]",
      "text/plain": [
       "<Figure size 640x480 with 1 Axes>"
      ]
     },
     "metadata": {},
     "output_type": "display_data"
    }
   ],
   "source": [
    "pca = sklearn_PCA(200).fit(all_tactile_values)\n",
    "plt.plot(np.cumsum(pca.explained_variance_ratio_))"
   ]
  },
  {
   "cell_type": "code",
   "execution_count": 65,
   "id": "37c0cb44-c33b-4a2a-829a-85af8455a6ba",
   "metadata": {},
   "outputs": [],
   "source": [
    "# Chosen component number -> 100\n",
    "\n",
    "def get_transformed_tactile_image(pca,tactile_values):\n",
    "    transformed_tactile_values = pca.transform(np.expand_dims(tactile_values.flatten(), axis=0))\n",
    "    print('transformed shape: {}'.format(transformed_tactile_values.shape))\n",
    "    tactile_image = torch.FloatTensor(transformed_tactile_values)\n",
    "    return tactile_image\n",
    "    # tactile_image = tactile_image.view(15,4,4,3)\n",
    "    \n",
    "#     tactile_image = tactile_image.sum(tactile_image, dim=1) # Shape: 15,3\n",
    "    \n",
    "#     # normalization should be done afterwards\n",
    "#     if pad_states is None:\n",
    "#         return tactile_image \n",
    "    \n",
    "#     return (tactile_image - pad_states[0]) / pad_states[1] "
   ]
  },
  {
   "cell_type": "code",
   "execution_count": 66,
   "id": "44f04000-e4f6-42f7-a248-98bcb2f17d1c",
   "metadata": {},
   "outputs": [
    {
     "name": "stdout",
     "output_type": "stream",
     "text": [
      "transformed shape: (1, 200)\n"
     ]
    },
    {
     "data": {
      "text/plain": [
       "tensor([[-8.9941e+02,  1.4756e+01,  1.7711e+01,  3.0944e+02, -3.9858e+01,\n",
       "          1.8889e+01,  1.1033e+01, -4.4838e+01, -3.7085e+01, -1.4641e+01,\n",
       "          1.5389e+01,  5.8533e+01, -2.4650e+01, -7.8559e+01,  3.3918e+01,\n",
       "          1.0318e+01, -2.3740e+01,  2.5650e+01, -3.1492e+01,  4.3021e+01,\n",
       "         -4.1845e+01, -2.4663e+01,  2.1173e+01,  1.5565e+01, -3.3025e+00,\n",
       "          4.4864e+01, -2.4256e+00, -2.2706e+01, -2.8377e+01,  1.0537e+00,\n",
       "         -3.0054e+01,  2.2966e+01,  5.8311e+00,  1.9235e+01,  1.3232e+01,\n",
       "         -1.8904e+01, -1.2164e+01,  1.3090e+01,  5.0345e+00,  1.1658e+01,\n",
       "          2.5185e+01, -1.3102e+01,  1.3510e+01,  3.2773e+01, -5.3243e+00,\n",
       "         -7.6578e+00, -1.7689e+01,  1.8498e+01, -5.7654e-02,  8.2104e+00,\n",
       "          1.3707e+00, -2.0799e+01,  2.5655e+01,  1.1659e+01,  1.3598e+01,\n",
       "          1.9669e+01,  1.0597e+01,  1.2414e+01, -1.5845e+01, -1.5750e+01,\n",
       "         -5.7802e+00,  7.8496e+00, -2.0972e+01, -2.7314e-01,  7.5185e-01,\n",
       "          7.0050e+00, -1.9664e+01, -5.9099e+00, -1.3840e+01, -2.4836e+00,\n",
       "         -8.2598e+00, -1.3894e+01,  1.7707e+01, -1.2525e+01, -1.3526e+01,\n",
       "         -5.3378e+00, -3.9080e+00,  1.4209e+01, -1.7759e+01,  1.9087e+01,\n",
       "          1.8146e+01, -1.7391e+01, -9.0925e+00,  4.4749e+00, -4.0232e+00,\n",
       "         -2.8728e+00, -1.2635e+01,  6.8576e+00, -4.6873e-01,  6.7074e+00,\n",
       "          6.8493e-01,  2.6848e+00, -5.5054e+00,  6.8110e+00,  1.2337e+01,\n",
       "         -1.1890e+01, -6.7173e+00,  3.4518e+00, -5.4463e+00, -1.3048e+01,\n",
       "         -9.5990e+00,  2.5336e+00,  4.2306e+00, -1.4061e+01, -7.8930e+00,\n",
       "          5.1604e+00,  6.6239e+00,  1.5369e+00,  4.0738e+00,  1.7778e+01,\n",
       "          4.4546e+00,  1.3628e-01, -7.0757e+00,  3.9070e+00, -5.2012e+00,\n",
       "         -1.1377e-01, -7.5274e+00, -5.5415e+00, -1.2596e+00, -1.0783e+00,\n",
       "         -7.7056e+00, -1.4211e+01,  1.6131e+01,  2.3960e+00, -3.3671e+00,\n",
       "         -5.3395e+00,  1.4935e+01, -2.9611e+00, -6.0111e+00, -8.6852e+00,\n",
       "          7.5564e+00, -8.8157e+00,  1.0176e+01,  9.3740e+00, -3.4074e+00,\n",
       "          1.4027e+01, -7.5318e+00,  8.2984e+00, -8.4571e+00, -5.2443e+00,\n",
       "          5.4040e+00,  7.9717e+00, -5.4467e+00,  4.0153e-01, -6.8457e+00,\n",
       "          7.1769e+00,  6.8081e+00,  7.5921e+00,  3.9406e+00,  8.2760e+00,\n",
       "         -9.4242e+00, -5.3335e+00, -8.9894e+00,  7.9626e+00, -3.1314e+00,\n",
       "         -2.4189e+00,  9.5429e+00, -2.1334e+00, -8.5271e-01, -1.0781e+00,\n",
       "          7.3363e+00,  6.8476e+00,  4.4225e+00, -2.7709e+00,  2.6342e+00,\n",
       "         -7.1064e+00, -6.6777e-01, -4.0562e+00,  6.6201e+00, -3.2588e+00,\n",
       "         -7.6304e-01,  7.6687e+00,  5.3651e+00,  2.1193e+00,  7.5004e+00,\n",
       "         -1.8358e+00, -3.0934e+00, -3.9491e+00, -5.7648e-01, -7.5456e+00,\n",
       "          7.5761e-01, -8.9803e+00, -2.5912e+00,  8.2041e+00,  2.8852e-01,\n",
       "          9.3285e+00,  1.3924e+00, -2.0802e+00,  1.1318e+01, -2.4618e+00,\n",
       "          6.1230e+00, -1.8360e+00, -5.5572e+00,  7.8497e-02,  4.5398e+00,\n",
       "          3.0743e+00, -9.2315e-01, -5.1188e+00, -4.3284e+00, -1.9990e+00]])"
      ]
     },
     "execution_count": 66,
     "metadata": {},
     "output_type": "execute_result"
    }
   ],
   "source": [
    "get_transformed_tactile_image(pca, data['tactile']['values'][0][100])"
   ]
  },
  {
   "cell_type": "code",
   "execution_count": 86,
   "id": "fd15f88e-9b10-45dc-955c-edcae5a1961c",
   "metadata": {},
   "outputs": [
    {
     "data": {
      "text/plain": [
       "[<matplotlib.lines.Line2D at 0x7f8cd50ad460>]"
      ]
     },
     "execution_count": 86,
     "metadata": {},
     "output_type": "execute_result"
    },
    {
     "data": {
      "image/png": "[encoded data removed]",
      "text/plain": [
       "<Figure size 640x480 with 1 Axes>"
      ]
     },
     "metadata": {},
     "output_type": "display_data"
    }
   ],
   "source": [
    "pca = sklearn_PCA(100).fit(all_tactile_values)\n",
    "plt.plot(np.cumsum(pca.explained_variance_ratio_))"
   ]
  },
  {
   "cell_type": "code",
   "execution_count": 87,
   "id": "6ea80d0f-c90d-466e-9cd8-058e99a6a8af",
   "metadata": {},
   "outputs": [
    {
     "name": "stdout",
     "output_type": "stream",
     "text": [
      "(41969, 720)\n"
     ]
    }
   ],
   "source": [
    "import pickle\n",
    "print(all_tactile_values.shape)"
   ]
  },
  {
   "cell_type": "code",
   "execution_count": 88,
   "id": "42fd06d3-7e4d-46dd-b257-093e8bae4223",
   "metadata": {},
   "outputs": [],
   "source": [
    "with open('/home/irmak/Workspace/tactile-learning/model_outs/pca_play_data.pkl', 'wb') as f:\n",
    "    pickle.dump(pca, f)"
   ]
  },
  {
   "cell_type": "code",
   "execution_count": null,
   "id": "2d9ab5b6-8bb1-4c5c-84fc-4e3f6cd5c025",
   "metadata": {},
   "outputs": [],
   "source": []
  }
 ],
 "metadata": {
  "kernelspec": {
   "display_name": "Python 3 (ipykernel)",
   "language": "python",
   "name": "python3"
  },
  "language_info": {
   "codemirror_mode": {
    "name": "ipython",
    "version": 3
   },
   "file_extension": ".py",
   "mimetype": "text/x-python",
   "name": "python",
   "nbconvert_exporter": "python",
   "pygments_lexer": "ipython3",
   "version": "3.9.13"
  }
 },
 "nbformat": 4,
 "nbformat_minor": 5
}
