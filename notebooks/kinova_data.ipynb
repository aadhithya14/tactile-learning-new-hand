{
 "cells": [
  {
   "cell_type": "code",
   "execution_count": 1,
   "metadata": {},
   "outputs": [],
   "source": [
    "# Script to visualize kinova arm\n",
    "\n",
    "import matplotlib.pyplot as plt\n",
    "import h5py\n",
    "import numpy as np\n",
    "import os \n",
    "import pickle"
   ]
  },
  {
   "cell_type": "code",
   "execution_count": 2,
   "metadata": {},
   "outputs": [
    {
     "name": "stdout",
     "output_type": "stream",
     "text": [
      "<KeysViewHDF5 ['file_name', 'num_datapoints', 'orientations', 'positions', 'record_duration', 'record_end_time', 'record_frequency', 'record_start_time', 'timestamps']>\n",
      "cartesian_pos: [-0.48899147  0.24628985  0.36182094], cartesian_rot: [-0.04381844 -0.6713765   0.01281483  0.73970896]\n"
     ]
    }
   ],
   "source": [
    "root = '/home/irmak/Workspace/Holo-Bot/extracted_data/box_handle_lifting/demonstration_19'\n",
    "with h5py.File(os.path.join(root, 'kinova_cartesian_states.h5'), 'r') as f:\n",
    "    print(f.keys())\n",
    "    cartesian_positions = f['positions'][()]\n",
    "    cartesian_rotations = f['orientations'][()]\n",
    "\n",
    "print('cartesian_pos: {}, cartesian_rot: {}'.format(cartesian_positions[0], cartesian_rotations[0]))\n",
    "\n",
    "# Load the indices\n",
    "# with open(os.path.join(root, 'tactile_indices.pkl'), 'rb') as f:\n",
    "#     self.tactile_indices += pickle.load(f)\n",
    "# with open(os.path.join(root, 'allegro_indices.pkl'), 'rb') as f:\n",
    "#     self.allegro_indices += pickle.load(f)\n",
    "# with open(os.path.join(root, 'allegro_action_indices.pkl'), 'rb') as f:\n",
    "#     self.allegro_action_indices += pickle.load(f)\n",
    "\n",
    "# # Load the data\n",
    "# with h5py.File(os.path.join(root, 'allegro_fingertip_states.h5'), 'r') as f:\n",
    "#     # print(f['positions'][()].shape)\n",
    "#     self.allegro_tip_positions.append(f['positions'][()][:, self.allegro_finger_indices])\n",
    "# with h5py.File(os.path.join(root, 'allegro_commanded_joint_states.h5'), 'r') as f:\n",
    "#     self.allegro_actions.append(f['positions'][()]) # Positions are to be learned - since this is a position control\n",
    "# with h5py.File(os.path.join(root, 'touch_sensor_values.h5'), 'r') as f:\n",
    "#     self.tactile_values.append(f['sensor_values'][()][:,self.sensor_indices,:,:])"
   ]
  },
  {
   "cell_type": "code",
   "execution_count": null,
   "metadata": {},
   "outputs": [],
   "source": []
  }
 ],
 "metadata": {
  "kernelspec": {
   "display_name": "tactile_learning",
   "language": "python",
   "name": "python3"
  },
  "language_info": {
   "codemirror_mode": {
    "name": "ipython",
    "version": 3
   },
   "file_extension": ".py",
   "mimetype": "text/x-python",
   "name": "python",
   "nbconvert_exporter": "python",
   "pygments_lexer": "ipython3",
   "version": "3.9.13"
  },
  "orig_nbformat": 4,
  "vscode": {
   "interpreter": {
    "hash": "36852de55b288c46ba617fd48cf310240e4201e2f57004cbdac030fa23152bd3"
   }
  }
 },
 "nbformat": 4,
 "nbformat_minor": 2
}
