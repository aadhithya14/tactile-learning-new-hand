{
 "cells": [
  {
   "cell_type": "code",
   "execution_count": 2,
   "id": "da5858d6-ef4a-411b-965b-b8037aa355c4",
   "metadata": {},
   "outputs": [
    {
     "name": "stdout",
     "output_type": "stream",
     "text": [
      "number of parameters: 4.85M\n"
     ]
    },
    {
     "name": "stderr",
     "output_type": "stream",
     "text": [
      "K-means clustering: 100%|████████████████████████████████████████████████████████████| 50/50 [00:00<00:00, 300.57it/s]\n"
     ]
    }
   ],
   "source": [
    "import torch\n",
    "from behavior_transformer import BehaviorTransformer, GPT, GPTConfig\n",
    "\n",
    "conditional = False\n",
    "obs_dim = 50\n",
    "act_dim = 8\n",
    "goal_dim = 50 if conditional else 0\n",
    "K = 32\n",
    "T = 16\n",
    "batch_size = 256\n",
    "\n",
    "cbet = BehaviorTransformer(\n",
    "    obs_dim=obs_dim,\n",
    "    act_dim=act_dim,\n",
    "    goal_dim=goal_dim,\n",
    "    gpt_model=GPT(\n",
    "        GPTConfig(\n",
    "            block_size=144,\n",
    "            input_dim=obs_dim,\n",
    "            n_layer=6,\n",
    "            n_head=8,\n",
    "            n_embd=256,\n",
    "        )\n",
    "    ),  # The sequence model to use.\n",
    "    n_clusters=K,  # Number of clusters to use for k-means discretization.\n",
    "    kmeans_fit_steps=5,  # The k-means discretization is done on the actions seen in the first kmeans_fit_steps.\n",
    ")\n",
    "\n",
    "optimizer = cbet.configure_optimizers(\n",
    "    weight_decay=2e-4,\n",
    "    learning_rate=1e-5,\n",
    "    betas=[0.9, 0.999],\n",
    ")\n",
    "\n",
    "for i in range(10):\n",
    "    obs_seq = torch.randn(batch_size, T, obs_dim)\n",
    "    goal_seq = torch.randn(batch_size, T, goal_dim)\n",
    "    action_seq = torch.randn(batch_size, T, act_dim)\n",
    "    if i <= 7:\n",
    "        # Training.\n",
    "        train_action, train_loss, train_loss_dict = cbet(obs_seq, goal_seq=None, action_seq=action_seq)\n",
    "    else:\n",
    "        # Action inference\n",
    "        eval_action, eval_loss, eval_loss_dict = cbet(obs_seq, goal_seq=None, action_seq=None)"
   ]
  },
  {
   "cell_type": "code",
   "execution_count": null,
   "id": "8ab4ad27-9abc-4fd4-af80-f0da90ac0dc4",
   "metadata": {},
   "outputs": [],
   "source": []
  },
  {
   "cell_type": "code",
   "execution_count": 3,
   "id": "7d76ec59-9ab1-4bea-b7d6-df8f08b23876",
   "metadata": {},
   "outputs": [
    {
     "data": {
      "text/plain": [
       "{'classification_loss': 3.275615930557251,\n",
       " 'offset_loss': 0.5616233348846436,\n",
       " 'total_loss': 564.8989868164062}"
      ]
     },
     "execution_count": 3,
     "metadata": {},
     "output_type": "execute_result"
    }
   ],
   "source": [
    "train_loss_dict"
   ]
  },
  {
   "cell_type": "code",
   "execution_count": null,
   "id": "2cc41aed-7e99-4054-8b4a-650ea65106a5",
   "metadata": {},
   "outputs": [],
   "source": []
  }
 ],
 "metadata": {
  "kernelspec": {
   "display_name": "Python 3 (ipykernel)",
   "language": "python",
   "name": "python3"
  },
  "language_info": {
   "codemirror_mode": {
    "name": "ipython",
    "version": 3
   },
   "file_extension": ".py",
   "mimetype": "text/x-python",
   "name": "python",
   "nbconvert_exporter": "python",
   "pygments_lexer": "ipython3",
   "version": "3.9.13"
  }
 },
 "nbformat": 4,
 "nbformat_minor": 5
}
