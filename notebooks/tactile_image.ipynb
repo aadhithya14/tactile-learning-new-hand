{
 "cells": [
  {
   "cell_type": "code",
   "execution_count": 124,
   "metadata": {},
   "outputs": [],
   "source": [
    "# Script to try out implementing tactile information as image\n",
    "import glob\n",
    "import h5py\n",
    "import matplotlib.pyplot as plt\n",
    "import numpy as np\n",
    "import os\n",
    "import pickle\n",
    "import torch\n",
    "import torch.nn as nn\n",
    "import torchvision.transforms as T \n",
    "\n",
    "from abc import ABC\n",
    "from copy import deepcopy\n",
    "from torchvision.datasets.folder import default_loader as loader \n",
    "from torch.utils import data\n",
    "from tqdm import tqdm\n",
    "from omegaconf import DictConfig, OmegaConf"
   ]
  },
  {
   "cell_type": "code",
   "execution_count": 15,
   "metadata": {},
   "outputs": [
    {
     "name": "stdout",
     "output_type": "stream",
     "text": [
      "(9571, 15, 16, 3)\n"
     ]
    }
   ],
   "source": [
    "root = '/home/irmak/Workspace/Holo-Bot/extracted_data/logitech_mouse/demonstration_1'\n",
    "with open(os.path.join(root, 'tactile_indices.pkl'), 'rb') as f:\n",
    "    tactile_indices = pickle.load(f)\n",
    "with h5py.File(os.path.join(root, 'touch_sensor_values.h5'), 'r') as f:\n",
    "    tactile_values = f['sensor_values'][()]\n",
    "\n",
    "\n",
    "print(tactile_values.shape)"
   ]
  },
  {
   "cell_type": "code",
   "execution_count": 218,
   "metadata": {},
   "outputs": [],
   "source": [
    "class TactileImage:\n",
    "    def __init__(\n",
    "        self,\n",
    "        tactile_value, # (15,16,3) will be the shape\n",
    "        sensor_indices = [3, 7], # Index and middle tip for now\n",
    "        size = (4, 8)\n",
    "    ): \n",
    "        desired_tactile_values = tactile_value[sensor_indices]\n",
    "        num_sensors = len(desired_tactile_values)\n",
    "\n",
    "        # Reshape the tensor to an image according to the sensor_indices\n",
    "        tactile_image = torch.FloatTensor(desired_tactile_values)\n",
    "        tactile_image = tactile_image.reshape((num_sensors, size[0], int(size[1]/num_sensors), -1))\n",
    "        tactile_image = torch.concat((tactile_image[0], tactile_image[1]), dim=1)\n",
    "        self.tactile_image = torch.permute(tactile_image, (2,0,1))\n",
    "\n",
    "        # Resize transform\n",
    "        self.resize = T.Resize((size[1],size[1]))\n",
    "        self.tactile_image = self.resize(self.tactile_image)\n",
    "\n",
    "        # Set up the transforms\n",
    "        # self.means, self.stds = self.calculate_mean_std(self.tactile_image)\n",
    "\n",
    "\n",
    "    def calculate_mean_std(self): # This will be used for transforms\n",
    "        means, stds = [0,0,0], [0,0,0]\n",
    "        for channel_num in range(self.tactile_image.shape[0]):\n",
    "            means[channel_num] = self.tactile_image[channel_num,:,:].mean()\n",
    "            stds[channel_num] = self.tactile_image[channel_num,:,:].std()\n",
    "        return means, stds\n",
    "\n",
    "    def plot(self):\n",
    "        # Map it to 0 and 1 - not super certain this is correct\n",
    "        min, max = self.tactile_image.min(), self.tactile_image.max()\n",
    "        img_range = max - min\n",
    "        img = (self.tactile_image - min) / img_range\n",
    "        npimg = img.numpy()\n",
    "        plt.imshow(np.transpose(npimg, (1, 2, 0)))\n",
    "        plt.show()\n",
    "\n",
    "    def apply_aug(self, augmentation):\n",
    "        self.tactile_image = augmentation(self.tactile_image)\n",
    "\n",
    "    def get_image(self):\n",
    "        return self.tactile_image"
   ]
  },
  {
   "cell_type": "code",
   "execution_count": 219,
   "metadata": {},
   "outputs": [],
   "source": [
    "def get_augmentations(img_means, img_stds):\n",
    "    tactile_aug = T.Compose([\n",
    "        T.RandomApply(\n",
    "            nn.ModuleList([T.RandomResizedCrop((8,8), scale=(.8, 1))]),\n",
    "            p = 0.5\n",
    "        ), \n",
    "        T.RandomApply(\n",
    "            nn.ModuleList([T.GaussianBlur((3, 3), (1.0, 2.0))]), \n",
    "            p = 0.5\n",
    "        ),\n",
    "        T.Normalize(\n",
    "            mean = img_means, # NOTE: Wasn't this wrong?\n",
    "            std = img_stds\n",
    "        )\n",
    "    ])\n",
    "    return tactile_aug"
   ]
  },
  {
   "cell_type": "code",
   "execution_count": 220,
   "metadata": {},
   "outputs": [
    {
     "data": {
      "image/png": "[encoded data removed]",
      "text/plain": [
       "<Figure size 640x480 with 1 Axes>"
      ]
     },
     "metadata": {},
     "output_type": "display_data"
    },
    {
     "data": {
      "image/png": "[encoded data removed]",
      "text/plain": [
       "<Figure size 640x480 with 1 Axes>"
      ]
     },
     "metadata": {},
     "output_type": "display_data"
    }
   ],
   "source": [
    "img = TactileImage(tactile_value=tactile_values[0])\n",
    "img.plot()\n",
    "img_means, img_stds = img.calculate_mean_std()\n",
    "tactile_aug = get_augmentations(img_means, img_stds)\n",
    "img.apply_aug(tactile_aug)\n",
    "img.plot()"
   ]
  },
  {
   "cell_type": "code",
   "execution_count": 226,
   "metadata": {},
   "outputs": [],
   "source": [
    "# Create the encoder for this image\n",
    "from tactile_learning.models.custom import PrintSize\n",
    "class TactileImageEncoder(nn.Module):\n",
    "    def __init__(\n",
    "        self,\n",
    "        in_channels,\n",
    "        out_dim # Final dimension of the representation\n",
    "    ):\n",
    "        super().__init__()\n",
    "        self.out_dim = out_dim\n",
    "        self.model = nn.Sequential(\n",
    "            nn.Conv2d(in_channels, out_channels=64, kernel_size=2),\n",
    "            nn.ReLU(),\n",
    "            # PrintSize(),\n",
    "            nn.Conv2d(in_channels=64, out_channels=32, kernel_size=2),\n",
    "            nn.ReLU(),\n",
    "            # PrintSize(),\n",
    "            nn.Conv2d(in_channels=32, out_channels=16, kernel_size=2),\n",
    "            nn.ReLU(),\n",
    "            # PrintSize()\n",
    "        )\n",
    "        self.linear = nn.Linear(in_features=16*5*5, out_features=out_dim)\n",
    "        self.relu = nn.ReLU()\n",
    "        \n",
    "    def forward(self, x):\n",
    "        x = self.model(x)\n",
    "        x = torch.flatten(x, 1) # Flatten all dimensions except batch\n",
    "        x = self.linear(x)\n",
    "        return self.relu(x)\n"
   ]
  },
  {
   "cell_type": "code",
   "execution_count": 222,
   "metadata": {},
   "outputs": [
    {
     "name": "stdout",
     "output_type": "stream",
     "text": [
      "torch.Size([1, 64, 7, 7])\n",
      "torch.Size([1, 32, 6, 6])\n",
      "torch.Size([1, 16, 5, 5])\n",
      "torch.Size([1, 64])\n"
     ]
    }
   ],
   "source": [
    "encoder = TactileImageEncoder(3, 64)\n",
    "tactile_img = img.get_image().unsqueeze(0)\n",
    "out = encoder(tactile_img)\n",
    "print(out.shape)"
   ]
  },
  {
   "cell_type": "code",
   "execution_count": 223,
   "metadata": {},
   "outputs": [
    {
     "name": "stdout",
     "output_type": "stream",
     "text": [
      "tensor([[0.0068, 0.0000, 0.0000, 0.0000, 0.0000, 0.0303, 0.0020, 0.0000, 0.0000,\n",
      "         0.0000, 0.0000, 0.0000, 0.0000, 0.0000, 0.0000, 0.0000, 0.0000, 0.0000,\n",
      "         0.0000, 0.0000, 0.0376, 0.0635, 0.0000, 0.0280, 0.0000, 0.0000, 0.0000,\n",
      "         0.0000, 0.1187, 0.0144, 0.0000, 0.0000, 0.0000, 0.0111, 0.0259, 0.0213,\n",
      "         0.0776, 0.0152, 0.0227, 0.0000, 0.0528, 0.0000, 0.0000, 0.0860, 0.0000,\n",
      "         0.0000, 0.0544, 0.0617, 0.0214, 0.0000, 0.0336, 0.0000, 0.0000, 0.0304,\n",
      "         0.0000, 0.0000, 0.0000, 0.0000, 0.0027, 0.0000, 0.0000, 0.0227, 0.0159,\n",
      "         0.0000]], grad_fn=<ReluBackward0>)\n"
     ]
    }
   ],
   "source": [
    "print(out)"
   ]
  },
  {
   "cell_type": "code",
   "execution_count": 224,
   "metadata": {},
   "outputs": [],
   "source": [
    "# Dataset to get all tactile images from the given datapath\n",
    "class TactileImageDataset(data.Dataset):\n",
    "    def __init__(self):\n",
    "        super().__init__()\n",
    "        root = '/home/irmak/Workspace/Holo-Bot/extracted_data/logitech_mouse/demonstration_1'\n",
    "        # with open(os.path.join(root, 'tactile_indices.pkl'), 'rb') as f:\n",
    "        #     tactile_indices = pickle.load(f)\n",
    "        with h5py.File(os.path.join(root, 'touch_sensor_values.h5'), 'r') as f:\n",
    "            self.tactile_values = f['sensor_values'][()]\n",
    "\n",
    "    def __len__(self):\n",
    "        return len(self.tactile_values)\n",
    "\n",
    "    def __getitem__(self, id):\n",
    "        tactile_value = self.tactile_values[id]\n",
    "        tactile_image = TactileImage(tactile_value)\n",
    "        return tactile_image.get_image()"
   ]
  },
  {
   "cell_type": "code",
   "execution_count": 228,
   "metadata": {},
   "outputs": [
    {
     "name": "stdout",
     "output_type": "stream",
     "text": [
      "torch.Size([32, 3, 8, 8])\n"
     ]
    },
    {
     "name": "stderr",
     "output_type": "stream",
     "text": [
      "100%|██████████| 300/300 [06:01<00:00,  1.21s/it]\n"
     ]
    }
   ],
   "source": [
    "# Train with BYOL on this encoder\n",
    "from tactile_learning.models.ssl_wrappers.byol import BYOL\n",
    "from torch.optim import Adam\n",
    "from torch.utils.data import DataLoader\n",
    "augment_fn = get_augmentations(img_means, img_stds) # One augment_fn is enough (since it will be the same as augment2)\n",
    "image_size = 8\n",
    "learner = BYOL(\n",
    "    net = TactileImageEncoder(3, 64), \n",
    "    image_size = image_size,\n",
    "    augment_fn = augment_fn\n",
    ")\n",
    "optimizer = Adam(\n",
    "    learner.parameters(),\n",
    "    lr = 1e-2,\n",
    "    weight_decay = 1e-5\n",
    ")\n",
    "\n",
    "dataset = TactileImageDataset()\n",
    "dataloader = DataLoader(\n",
    "    dataset, \n",
    "    batch_size = 32,\n",
    "    shuffle = True,\n",
    "    num_workers = 4,\n",
    "    pin_memory = True,\n",
    ")\n",
    "\n",
    "batch = next(iter(dataloader))\n",
    "print(batch.shape)\n",
    "\n",
    "\n",
    "def train_one_epoch(earner, dataloader, optimizer):\n",
    "    learner.train()\n",
    "    total_train_loss = 0\n",
    "\n",
    "    for idx, (input_images) in enumerate(tqdm(dataloader)):\n",
    "        \n",
    "        # input_data = torch.cat(input_images, dim = 1).to(configs.device)\n",
    "\n",
    "        # print('input_images.shap: {}'.format(input_images.shape))\n",
    "        loss = learner(input_images) \n",
    "\n",
    "        optimizer.zero_grad()\n",
    "        loss.backward()\n",
    "        optimizer.step()\n",
    "        learner.update_moving_average()\n",
    "\n",
    "        total_train_loss += loss.item()\n",
    "\n",
    "    average_train_loss = total_train_loss / len(dataloader)\n",
    "    return average_train_loss \n",
    "\n",
    "average_loss = train_one_epoch(learner, dataloader, optimizer)"
   ]
  },
  {
   "cell_type": "code",
   "execution_count": null,
   "metadata": {},
   "outputs": [],
   "source": []
  }
 ],
 "metadata": {
  "kernelspec": {
   "display_name": "Python 3.9.13 ('tactile_learning')",
   "language": "python",
   "name": "python3"
  },
  "language_info": {
   "codemirror_mode": {
    "name": "ipython",
    "version": 3
   },
   "file_extension": ".py",
   "mimetype": "text/x-python",
   "name": "python",
   "nbconvert_exporter": "python",
   "pygments_lexer": "ipython3",
   "version": "3.9.13"
  },
  "orig_nbformat": 4,
  "vscode": {
   "interpreter": {
    "hash": "36852de55b288c46ba617fd48cf310240e4201e2f57004cbdac030fa23152bd3"
   }
  }
 },
 "nbformat": 4,
 "nbformat_minor": 2
}
