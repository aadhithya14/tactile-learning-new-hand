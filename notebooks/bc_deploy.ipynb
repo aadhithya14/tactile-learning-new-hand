{
 "cells": [
  {
   "cell_type": "code",
   "execution_count": null,
   "metadata": {},
   "outputs": [],
   "source": [
    "import torch \n",
    "import numpy as np \n",
    "\n",
    "from tactile_learning.deployment.load_models import load_model\n",
    "\n",
    "from holobot.components.deploy.commander import DeployAPI"
   ]
  },
  {
   "cell_type": "code",
   "execution_count": null,
   "metadata": {},
   "outputs": [],
   "source": [
    "# Notebook to deploy the trained model\n",
    "# It uses the DeployAPI of the holobot\n",
    "config_path = '/home/irmak/Workspace/tactile-learning/tactile_learning/out/2022.11.25/18-02_bc/.hydra/config.yaml'\n",
    "cfg = \n",
    "\n",
    "model_path = '/home/irmak/Workspace/tactile-learning/tactile_learning/out/2022.11.25/18-02_bc/models/bc_model_best.pt'\n",
    "\n",
    "# Load the model\n",
    "bc_model = load_model()"
   ]
  },
  {
   "cell_type": "code",
   "execution_count": null,
   "metadata": {},
   "outputs": [],
   "source": []
  },
  {
   "cell_type": "code",
   "execution_count": null,
   "metadata": {},
   "outputs": [],
   "source": []
  }
 ],
 "metadata": {
  "kernelspec": {
   "display_name": "Python 3.9.13 ('tactile_learning')",
   "language": "python",
   "name": "python3"
  },
  "language_info": {
   "name": "python",
   "version": "3.9.13"
  },
  "orig_nbformat": 4,
  "vscode": {
   "interpreter": {
    "hash": "36852de55b288c46ba617fd48cf310240e4201e2f57004cbdac030fa23152bd3"
   }
  }
 },
 "nbformat": 4,
 "nbformat_minor": 2
}
