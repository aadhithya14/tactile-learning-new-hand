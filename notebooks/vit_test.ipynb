{
 "cells": [
  {
   "cell_type": "code",
   "execution_count": 1,
   "id": "1a409814-d6b6-4602-a4fc-2579b5e9286b",
   "metadata": {},
   "outputs": [
    {
     "name": "stdout",
     "output_type": "stream",
     "text": [
      "Collecting vit-pytorch\n",
      "  Downloading vit_pytorch-0.40.2-py3-none-any.whl (83 kB)\n",
      "\u001b[2K     \u001b[90m━━━━━━━━━━━━━━━━━━━━━━━━━━━━━━━━━━━━━━━━\u001b[0m \u001b[32m83.1/83.1 kB\u001b[0m \u001b[31m14.8 MB/s\u001b[0m eta \u001b[36m0:00:00\u001b[0m\n",
      "\u001b[?25hCollecting einops>=0.6.0\n",
      "  Downloading einops-0.6.0-py3-none-any.whl (41 kB)\n",
      "\u001b[2K     \u001b[90m━━━━━━━━━━━━━━━━━━━━━━━━━━━━━━━━━━━━━━━━\u001b[0m \u001b[32m41.6/41.6 kB\u001b[0m \u001b[31m11.4 MB/s\u001b[0m eta \u001b[36m0:00:00\u001b[0m\n",
      "\u001b[?25hRequirement already satisfied: torchvision in /home/irmak/miniconda3/envs/tactile_learning/lib/python3.9/site-packages (from vit-pytorch) (0.13.0a0+8069656)\n",
      "Requirement already satisfied: torch>=1.10 in /home/irmak/miniconda3/envs/tactile_learning/lib/python3.9/site-packages (from vit-pytorch) (1.12.1.post201)\n",
      "Requirement already satisfied: typing_extensions in /home/irmak/miniconda3/envs/tactile_learning/lib/python3.9/site-packages (from torch>=1.10->vit-pytorch) (4.4.0)\n",
      "Requirement already satisfied: pillow!=8.3.*,>=5.3.0 in /home/irmak/miniconda3/envs/tactile_learning/lib/python3.9/site-packages (from torchvision->vit-pytorch) (9.2.0)\n",
      "Requirement already satisfied: requests in /home/irmak/miniconda3/envs/tactile_learning/lib/python3.9/site-packages (from torchvision->vit-pytorch) (2.28.1)\n",
      "Requirement already satisfied: numpy in /home/irmak/miniconda3/envs/tactile_learning/lib/python3.9/site-packages (from torchvision->vit-pytorch) (1.23.5)\n",
      "Requirement already satisfied: charset-normalizer<3,>=2 in /home/irmak/miniconda3/envs/tactile_learning/lib/python3.9/site-packages (from requests->torchvision->vit-pytorch) (2.1.1)\n",
      "Requirement already satisfied: idna<4,>=2.5 in /home/irmak/miniconda3/envs/tactile_learning/lib/python3.9/site-packages (from requests->torchvision->vit-pytorch) (3.4)\n",
      "Requirement already satisfied: urllib3<1.27,>=1.21.1 in /home/irmak/miniconda3/envs/tactile_learning/lib/python3.9/site-packages (from requests->torchvision->vit-pytorch) (1.26.11)\n",
      "Requirement already satisfied: certifi>=2017.4.17 in /home/irmak/miniconda3/envs/tactile_learning/lib/python3.9/site-packages (from requests->torchvision->vit-pytorch) (2022.9.24)\n",
      "Installing collected packages: einops, vit-pytorch\n",
      "  Attempting uninstall: einops\n",
      "    Found existing installation: einops 0.4.1\n",
      "    Uninstalling einops-0.4.1:\n",
      "      Successfully uninstalled einops-0.4.1\n",
      "Successfully installed einops-0.6.0 vit-pytorch-0.40.2\n"
     ]
    }
   ],
   "source": [
    "# Test for vit implementation \n",
    "!pip install vit-pytorch"
   ]
  },
  {
   "cell_type": "code",
   "execution_count": null,
   "id": "eabe6943-d5bb-42fb-bef3-79eedb9e5bf6",
   "metadata": {},
   "outputs": [],
   "source": [
    "import torch\n",
    "from vit_pytorch import ViT\n",
    "\n",
    "v = ViT( # First one should resize the images to 256 - so tactile_img_size is 256 (we're gonna have \n",
    "    image_size = 128,\n",
    "    patch_size = 32,\n",
    "    num_classes = 1000,\n",
    "    dim = 1024,\n",
    "    depth = 6,\n",
    "    heads = 16,\n",
    "    mlp_dim = 2048,\n",
    "    dropout = 0.1,\n",
    "    emb_dropout = 0.1\n",
    ")\n",
    "\n",
    "img = torch.randn(1, 3, 128, 128)\n",
    "\n",
    "preds = v(img)"
   ]
  }
 ],
 "metadata": {
  "kernelspec": {
   "display_name": "Python 3 (ipykernel)",
   "language": "python",
   "name": "python3"
  },
  "language_info": {
   "codemirror_mode": {
    "name": "ipython",
    "version": 3
   },
   "file_extension": ".py",
   "mimetype": "text/x-python",
   "name": "python",
   "nbconvert_exporter": "python",
   "pygments_lexer": "ipython3",
   "version": "3.9.13"
  }
 },
 "nbformat": 4,
 "nbformat_minor": 5
}
