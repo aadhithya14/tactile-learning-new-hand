{
 "cells": [
  {
   "cell_type": "code",
   "execution_count": 6,
   "metadata": {},
   "outputs": [],
   "source": [
    "import cv2\n",
    "import h5py\n",
    "import matplotlib.pyplot as plt\n",
    "import numpy as np\n",
    "import os\n",
    "import pickle\n",
    "import shutil\n",
    "\n",
    "from tqdm import tqdm"
   ]
  },
  {
   "cell_type": "code",
   "execution_count": 7,
   "metadata": {},
   "outputs": [],
   "source": [
    "# Script to visualize demonstrations according to the timestamps\n",
    "# First get the first timestamp of the xela sensor\n",
    "# Then with given fps given get image frames - find closest tactile and image observations"
   ]
  },
  {
   "cell_type": "code",
   "execution_count": 8,
   "metadata": {},
   "outputs": [],
   "source": [
    "from tactile_learning.datasets.preprocess import dump_video_to_images, get_closest_id\n",
    "from tactile_learning.utils.visualization import plot_tactile_sensor"
   ]
  },
  {
   "cell_type": "code",
   "execution_count": 9,
   "metadata": {},
   "outputs": [],
   "source": [
    "import decimal\n",
    "\n",
    "# Get the metadata of images and tactile information\n",
    "def get_desired_indices(root, fps): # frames per second from the video to receive\n",
    "    image_metadata_path = os.path.join(root, 'cam_0_rgb_video.metadata')\n",
    "    tactile_info_path = os.path.join(root, 'touch_sensor_values.h5')\n",
    "\n",
    "    with open(image_metadata_path, 'rb') as f:\n",
    "        image_metadata = pickle.load(f)\n",
    "        image_timestamps_array = np.asarray(image_metadata['timestamps'])\n",
    "        image_timestamps = np.asarray(image_metadata['timestamps']) / 1000.\n",
    "    with h5py.File(tactile_info_path, 'r') as f:\n",
    "        tactile_timestamps = f['timestamps'][()]\n",
    "\n",
    "    image_id, tactile_id = 0, 0\n",
    "    curr_timestamp = tactile_timestamps[0] # These timestamps are in seconds\n",
    "    image_id = get_closest_id(image_id, curr_timestamp, image_timestamps)\n",
    "\n",
    "    tactile_indices, image_indices = [], []\n",
    "    tactile_indices.append(tactile_id)\n",
    "    image_indices.append(image_id)\n",
    "\n",
    "    frame_period = 1. / fps\n",
    "    while(True):\n",
    "        curr_timestamp += frame_period\n",
    "        tactile_id = get_closest_id(tactile_id, curr_timestamp, tactile_timestamps)\n",
    "        image_id = get_closest_id(image_id, curr_timestamp, image_timestamps)\n",
    "\n",
    "        if curr_timestamp > tactile_timestamps[tactile_id] and curr_timestamp > image_timestamps[image_id]:\n",
    "            break\n",
    "\n",
    "        tactile_indices.append(tactile_id)\n",
    "        image_indices.append(image_id)\n",
    "\n",
    "    assert len(tactile_indices) == len(image_indices)\n",
    "    return tactile_indices, image_indices\n"
   ]
  },
  {
   "cell_type": "code",
   "execution_count": 10,
   "metadata": {},
   "outputs": [],
   "source": [
    "\n",
    "def dump_states(root, tactile_indices, image_indices):\n",
    "    # Make directory to dump the visualization\n",
    "    pbar = tqdm(total=len(tactile_indices))\n",
    "\n",
    "    with h5py.File(os.path.join(root, 'touch_sensor_values.h5'), 'r') as f:\n",
    "        all_tactile_values = f['sensor_values'][()]\n",
    "\n",
    "    viz_dir = os.path.join(root, 'visualization')\n",
    "    os.makedirs(viz_dir, exist_ok=True)\n",
    "    \n",
    "    video_path = os.path.join(root, f'cam_0_rgb_video.avi')\n",
    "    vidcap = cv2.VideoCapture(video_path)\n",
    "    success, image = vidcap.read()\n",
    "    frame_count = int(vidcap.get(cv2.CAP_PROP_FRAME_COUNT))\n",
    "    frame_id = 0\n",
    "    for i in range(len(tactile_indices)):\n",
    "        tactile_id, image_id = tactile_indices[i], image_indices[i]\n",
    "        while frame_id != image_id and success:\n",
    "            # Find the frame that is equal to image_id\n",
    "            success, image = vidcap.read()\n",
    "            frame_id += 1\n",
    "        dump_demo_state(\n",
    "            frame_id = i,\n",
    "            viz_dir = viz_dir,\n",
    "            tactile_values = all_tactile_values[tactile_id,:,:,:],\n",
    "            camera_img = image\n",
    "        )\n",
    "\n",
    "        pbar.update(1)\n",
    "\n",
    "    pbar.close()\n",
    "\n",
    "def dump_demo_state(frame_id, viz_dir, tactile_values, camera_img):\n",
    "    # tactile_values: (15,16,3)\n",
    "    fig, axs = plt.subplots(figsize=(20,20), nrows=4, ncols=4)\n",
    "    for row_id in range(4):\n",
    "        for column_id in range(4):\n",
    "            if row_id + column_id > 0: # The top left axis should stay empty\n",
    "                plot_tactile_sensor(\n",
    "                    ax = axs[column_id][row_id],\n",
    "                    sensor_values = tactile_values[row_id*4 + column_id-1],\n",
    "                    title = f'Sensor {row_id*4+column_id-1}'\n",
    "                )\n",
    "    fig.suptitle('Tactile State')\n",
    "    fig.savefig(os.path.join(viz_dir, 'Tactile State.png'))\n",
    "    fig.clf()\n",
    "    plt.close()\n",
    "\n",
    "    tactile_img = cv2.imread(os.path.join(viz_dir, 'Tactile State.png'))\n",
    "    height_scale = camera_img.shape[0] / tactile_img.shape[0]\n",
    "    tactile_img = cv2.resize(\n",
    "        tactile_img,\n",
    "        (int(tactile_img.shape[1] * height_scale),\n",
    "         int(tactile_img.shape[0] * height_scale))\n",
    "    )\n",
    "    total_img = cv2.hconcat([camera_img, tactile_img])\n",
    "\n",
    "    img_name = 'state_{}.png'.format(str(frame_id).zfill(3))\n",
    "    cv2.imwrite(os.path.join(viz_dir, img_name), total_img)\n",
    "\n"
   ]
  },
  {
   "cell_type": "code",
   "execution_count": 15,
   "metadata": {},
   "outputs": [
    {
     "name": "stdout",
     "output_type": "stream",
     "text": [
      "tactile_indices: [0, 47, 99, 147, 197, 244, 295, 344, 394, 441, 490, 538, 588, 636, 686, 735, 783, 833, 881, 931, 980, 1029, 1076, 1127, 1177, 1225, 1275, 1322, 1370, 1420, 1468, 1518, 1567, 1615, 1664, 1713, 1762, 1810, 1864, 1907, 1958, 2007, 2056, 2106, 2155, 2203, 2252, 2301, 2351, 2399, 2449, 2498, 2547, 2596, 2644, 2694, 2742, 2793, 2840, 2891, 2937, 2987, 3035, 3085, 3135, 3184, 3233, 3282, 3330, 3378, 3427, 3476, 3525, 3573, 3624, 3673, 3722, 3771, 3820, 3868, 3917, 3967, 4016, 4066, 4116, 4163, 4213, 4260, 4311, 4359, 4410, 4457, 4507, 4555, 4605, 4655, 4704, 4752, 4801, 4851, 4901, 4949, 4999, 5047, 5097, 5145, 5196, 5244, 5291, 5341, 5390, 5440, 5489, 5538, 5589, 5636, 5687, 5735, 5785, 5834, 5883, 5933, 5980, 6031, 6079, 6129, 6179, 6227, 6276, 6323, 6373, 6420, 6471, 6519, 6568, 6617, 6667, 6714, 6764, 6812, 6862, 6911, 6958, 7009, 7058, 7107, 7156, 7205, 7257, 7303, 7355, 7403, 7450, 7501, 7550, 7600, 7648, 7697, 7747, 7796, 7844, 7894, 7943, 7993, 8041, 8089, 8139, 8187, 8236, 8286, 8334, 8383, 8433, 8481, 8531, 8579, 8629, 8676, 8727, 8776, 8825, 8878, 8923, 8971, 9022, 9069, 9117, 9167, 9216, 9266, 9315, 9364, 9412, 9462, 9509, 9560, 9607, 9659, 9705, 9756, 9804, 9854, 9902, 9952, 10002, 10050, 10098, 10149, 10197, 10247, 10294, 10344, 10393, 10442, 10490, 10540, 10587, 10638, 10685, 10736, 10784, 10834, 10882, 10931, 10981, 11028, 11077, 11126, 11176, 11224, 11274, 11323, 11373, 11421, 11470, 11518, 11569, 11617, 11665, 11716, 11764, 11813, 11862, 11912, 11960, 12010, 12058, 12108, 12156, 12205, 12254, 12303, 12353, 12401, 12450, 12498, 12549, 12597, 12646, 12695, 12746, 12793, 12843, 12892, 12942, 12990, 13039, 13088, 13138, 13186, 13235, 13285, 13334, 13383, 13433, 13480, 13529, 13578, 13627, 13677, 13725, 13776, 13823, 13873, 13922, 13971, 14020, 14070, 14118, 14168, 14216, 14266, 14313, 14364, 14412, 14461, 14511, 14560, 14608, 14659, 14706, 14756, 14805, 14855, 14903, 14953, 15000, 15051, 15099, 15148, 15195, 15246, 15294, 15343, 15391, 15440, 15490, 15539, 15588, 15637, 15686, 15735, 15785, 15833, 15883, 15931, 15981, 16030, 16078, 16128, 16178, 16226, 16276, 16325, 16373, 16424, 16472, 16522, 16570, 16620, 16668, 16717, 16766, 16816, 16865, 16913, 16964, 17010, 17061, 17109, 17158, 17207], image_indices: [70, 85, 100, 115, 130, 145, 160, 175, 190, 205, 220, 235, 249, 264, 279, 294, 309, 324, 338, 353, 367, 382, 396, 410, 424, 439, 453, 467, 482, 497, 511, 525, 539, 554, 569, 584, 598, 613, 628, 643, 658, 673, 688, 703, 717, 732, 747, 762, 776, 791, 806, 821, 836, 850, 865, 880, 895, 910, 925, 940, 955, 970, 985, 999, 1014, 1028, 1043, 1058, 1073, 1088, 1102, 1117, 1132, 1147, 1162, 1177, 1192, 1207, 1221, 1236, 1251, 1266, 1280, 1295, 1309, 1324, 1339, 1353, 1368, 1383, 1398, 1413, 1428, 1443, 1457, 1472, 1487, 1501, 1516, 1531, 1545, 1560, 1575, 1589, 1604, 1619, 1634, 1649, 1664, 1679, 1693, 1707, 1722, 1737, 1752, 1767, 1781, 1796, 1811, 1826, 1841, 1855, 1870, 1884, 1899, 1914, 1929, 1944, 1959, 1974, 1988, 2003, 2018, 2032, 2047, 2062, 2077, 2092, 2107, 2122, 2136, 2151, 2166, 2181, 2196, 2211, 2226, 2241, 2256, 2270, 2285, 2300, 2314, 2329, 2344, 2359, 2374, 2389, 2404, 2419, 2434, 2449, 2464, 2479, 2494, 2508, 2523, 2538, 2553, 2568, 2583, 2598, 2612, 2627, 2641, 2656, 2670, 2685, 2700, 2715, 2729, 2744, 2759, 2773, 2787, 2802, 2816, 2831, 2845, 2860, 2875, 2889, 2904, 2918, 2933, 2948, 2962, 2977, 2992, 3007, 3022, 3037, 3051, 3066, 3081, 3096, 3110, 3125, 3140, 3155, 3170, 3185, 3200, 3215, 3229, 3244, 3259, 3274, 3289, 3304, 3319, 3333, 3347, 3362, 3377, 3391, 3406, 3421, 3436, 3450, 3465, 3480, 3495, 3508, 3523, 3538, 3553, 3568, 3582, 3597, 3612, 3627, 3642, 3656, 3671, 3686, 3701, 3715, 3730, 3745, 3759, 3773, 3788, 3803, 3818, 3832, 3847, 3862, 3876, 3891, 3906, 3921, 3936, 3951, 3966, 3981, 3995, 4009, 4024, 4039, 4053, 4068, 4083, 4098, 4112, 4127, 4142, 4157, 4172, 4186, 4201, 4216, 4231, 4245, 4260, 4275, 4290, 4305, 4320, 4335, 4349, 4364, 4379, 4393, 4407, 4422, 4437, 4452, 4467, 4482, 4497, 4512, 4527, 4542, 4556, 4571, 4585, 4600, 4615, 4629, 4644, 4659, 4674, 4689, 4704, 4719, 4734, 4749, 4764, 4779, 4794, 4809, 4824, 4839, 4853, 4868, 4883, 4898, 4913, 4928, 4943, 4957, 4972, 4987, 5002, 5016, 5031, 5046, 5061, 5076, 5091, 5105, 5120, 5134, 5149, 5163, 5178, 5193, 5208, 5223, 5238, 5253]\n"
     ]
    },
    {
     "name": "stderr",
     "output_type": "stream",
     "text": [
      "100%|██████████| 352/352 [08:37<00:00,  1.47s/it]\n"
     ]
    }
   ],
   "source": [
    "\n",
    "roots = [\n",
    "    '/home/irmak/Workspace/Holo-Bot/deployment_data/box_handle_lifting/demonstration_image_tactile_scaled_knn'\n",
    "]\n",
    "\n",
    "retrieval_fps = 2\n",
    "for root in roots:\n",
    "    # print('root: {}'.format(root))\n",
    "    tactile_indices, image_indices = get_desired_indices(root=root, fps=retrieval_fps)\n",
    "    print('tactile_indices: {}, image_indices: {}'.format(tactile_indices, image_indices))\n",
    "    dump_states(root, tactile_indices, image_indices)\n"
   ]
  },
  {
   "cell_type": "code",
   "execution_count": 16,
   "metadata": {},
   "outputs": [
    {
     "name": "stdout",
     "output_type": "stream",
     "text": [
      "dumping video in root: /home/irmak/Workspace/Holo-Bot/deployment_data/box_handle_lifting/demonstration_image_tactile_scaled_knn\n"
     ]
    },
    {
     "name": "stderr",
     "output_type": "stream",
     "text": [
      "ffmpeg version 5.1.2 Copyright (c) 2000-2022 the FFmpeg developers\n",
      "  built with gcc 10.4.0 (conda-forge gcc 10.4.0-18)\n",
      "  configuration: --prefix=/home/irmak/miniconda3/envs/tactile_learning --cc=/home/conda/feedstock_root/build_artifacts/ffmpeg_1666357487580/_build_env/bin/x86_64-conda-linux-gnu-cc --cxx=/home/conda/feedstock_root/build_artifacts/ffmpeg_1666357487580/_build_env/bin/x86_64-conda-linux-gnu-c++ --nm=/home/conda/feedstock_root/build_artifacts/ffmpeg_1666357487580/_build_env/bin/x86_64-conda-linux-gnu-nm --ar=/home/conda/feedstock_root/build_artifacts/ffmpeg_1666357487580/_build_env/bin/x86_64-conda-linux-gnu-ar --disable-doc --disable-openssl --enable-demuxer=dash --enable-hardcoded-tables --enable-libfreetype --enable-libfontconfig --enable-libopenh264 --enable-gnutls --enable-libmp3lame --enable-libvpx --enable-pthreads --enable-vaapi --enable-gpl --enable-libx264 --enable-libx265 --enable-libaom --enable-libsvtav1 --enable-libxml2 --enable-pic --enable-shared --disable-static --enable-version3 --enable-zlib --pkg-config=/home/conda/feedstock_root/build_artifacts/ffmpeg_1666357487580/_build_env/bin/pkg-config\n",
      "  libavutil      57. 28.100 / 57. 28.100\n",
      "  libavcodec     59. 37.100 / 59. 37.100\n",
      "  libavformat    59. 27.100 / 59. 27.100\n",
      "  libavdevice    59.  7.100 / 59.  7.100\n",
      "  libavfilter     8. 44.100 /  8. 44.100\n",
      "  libswscale      6.  7.100 /  6.  7.100\n",
      "  libswresample   4.  7.100 /  4.  7.100\n",
      "  libpostproc    56.  6.100 / 56.  6.100\n",
      "[image2 @ 0x55db3a30f640] Pattern type 'glob_sequence' is deprecated: use pattern_type 'glob' instead\n",
      "Input #0, image2, from '/home/irmak/Workspace/Holo-Bot/deployment_data/box_handle_lifting/demonstration_image_tactile_scaled_knn/visualization/%*.png':\n",
      "  Duration: 00:00:14.12, start: 0.000000, bitrate: N/A\n",
      "  Stream #0:0: Video: png, rgba(pc), 2000x2000 [SAR 3937:3937 DAR 1:1], 25 fps, 25 tbr, 25 tbn\n",
      "Stream mapping:\n",
      "  Stream #0:0 -> #0:0 (png (native) -> h264 (libx264))\n",
      "Press [q] to stop, [?] for help\n",
      "[libx264 @ 0x55db3a322dc0] using SAR=1/1\n",
      "[libx264 @ 0x55db3a322dc0] using cpu capabilities: MMX2 SSE2Fast SSSE3 SSE4.2 AVX FMA3 BMI2 AVX2\n",
      "[libx264 @ 0x55db3a322dc0] profile High 4:4:4 Predictive, level 4.0, 4:4:4, 8-bit\n",
      "[libx264 @ 0x55db3a322dc0] 264 - core 164 r3095 baee400 - H.264/MPEG-4 AVC codec - Copyleft 2003-2022 - http://www.videolan.org/x264.html - options: cabac=1 ref=3 deblock=1:0:0 analyse=0x3:0x113 me=hex subme=7 psy=1 psy_rd=1.00:0.00 mixed_ref=1 me_range=16 chroma_me=1 trellis=1 8x8dct=1 cqm=0 deadzone=21,11 fast_pskip=1 chroma_qp_offset=4 threads=22 lookahead_threads=3 sliced_threads=0 nr=0 decimate=1 interlaced=0 bluray_compat=0 constrained_intra=0 bframes=3 b_pyramid=2 b_adapt=1 b_bias=0 direct=1 weightb=1 open_gop=0 weightp=2 keyint=250 keyint_min=10 scenecut=40 intra_refresh=0 rc_lookahead=40 rc=crf mbtree=1 crf=23.0 qcomp=0.60 qpmin=0 qpmax=69 qpstep=4 ip_ratio=1.40 aq=1:1.00\n",
      "Output #0, mp4, to '/home/irmak/Workspace/Holo-Bot/deployment_data/box_handle_lifting/demonstration_image_tactile_scaled_knn/visualization.mp4':\n",
      "  Metadata:\n",
      "    encoder         : Lavf59.27.100\n",
      "  Stream #0:0: Video: h264 (avc1 / 0x31637661), yuv444p(tv, progressive), 2000x720 [SAR 1:1 DAR 25:9], q=2-31, 10 fps, 10240 tbn\n",
      "    Metadata:\n",
      "      encoder         : Lavc59.37.100 libx264\n",
      "    Side data:\n",
      "      cpb: bitrate max/min/avg: 0/0/0 buffer size: 0 vbv_delay: N/A\n",
      "frame=  353 fps=116 q=-1.0 Lsize=    6763kB time=00:00:35.00 bitrate=1582.9kbits/s speed=11.5x    \n",
      "video:6758kB audio:0kB subtitle:0kB other streams:0kB global headers:0kB muxing overhead: 0.075215%\n",
      "[libx264 @ 0x55db3a322dc0] frame I:2     Avg QP:18.80  size: 94382\n",
      "[libx264 @ 0x55db3a322dc0] frame P:89    Avg QP:18.79  size: 37247\n",
      "[libx264 @ 0x55db3a322dc0] frame B:262   Avg QP:21.92  size: 13037\n",
      "[libx264 @ 0x55db3a322dc0] consecutive B-frames:  0.8%  0.6%  0.0% 98.6%\n",
      "[libx264 @ 0x55db3a322dc0] mb I  I16..4: 20.1% 57.0% 22.9%\n",
      "[libx264 @ 0x55db3a322dc0] mb P  I16..4:  1.7% 11.2%  0.3%  P16..4: 26.0% 14.2% 10.0%  0.0%  0.0%    skip:36.6%\n",
      "[libx264 @ 0x55db3a322dc0] mb B  I16..4:  0.8%  7.2%  0.0%  B16..8: 24.6%  4.5%  1.0%  direct: 2.6%  skip:59.3%  L0:51.4% L1:41.8% BI: 6.8%\n",
      "[libx264 @ 0x55db3a322dc0] 8x8 transform intra:86.7% inter:86.9%\n",
      "[libx264 @ 0x55db3a322dc0] coded y,u,v intra: 63.6% 28.0% 26.5% inter: 16.7% 8.4% 8.2%\n",
      "[libx264 @ 0x55db3a322dc0] i16 v,h,dc,p: 30% 26% 32% 12%\n",
      "[libx264 @ 0x55db3a322dc0] i8 v,h,dc,ddl,ddr,vr,hd,vl,hu: 14% 18% 59%  2%  1%  1%  1%  1%  2%\n",
      "[libx264 @ 0x55db3a322dc0] i4 v,h,dc,ddl,ddr,vr,hd,vl,hu: 41% 31% 13%  2%  2%  2%  3%  2%  3%\n",
      "[libx264 @ 0x55db3a322dc0] Weighted P-Frames: Y:0.0% UV:0.0%\n",
      "[libx264 @ 0x55db3a322dc0] ref P L0: 33.6%  6.5% 37.8% 22.1%\n",
      "[libx264 @ 0x55db3a322dc0] ref B L0: 58.2% 32.4%  9.4%\n",
      "[libx264 @ 0x55db3a322dc0] ref B L1: 83.9% 16.1%\n",
      "[libx264 @ 0x55db3a322dc0] kb/s:1568.16\n"
     ]
    }
   ],
   "source": [
    "# Turn the images to a video and delete the directory\n",
    "video_fps = 10\n",
    "for root in roots:\n",
    "    print('dumping video in root: {}'.format(root))\n",
    "    video_path = os.path.join(root, 'visualization.mp4')\n",
    "    if os.path.exists(video_path):\n",
    "        os.remove(video_path)\n",
    "    viz_dir = os.path.join(root, 'visualization')\n",
    "    os.system('ffmpeg -r {} -i {}/%*.png -vf scale=2000x720,setsar=1:1 {}'.format(\n",
    "        video_fps, # fps\n",
    "        viz_dir,\n",
    "        video_path\n",
    "    ))\n"
   ]
  },
  {
   "cell_type": "code",
   "execution_count": 17,
   "metadata": {},
   "outputs": [],
   "source": [
    "# Remove the img directory\n",
    "\n",
    "for root in roots:\n",
    "    viz_dir = os.path.join(root, 'visualization')\n",
    "    shutil.rmtree(viz_dir)\n"
   ]
  },
  {
   "cell_type": "code",
   "execution_count": null,
   "metadata": {},
   "outputs": [],
   "source": []
  }
 ],
 "metadata": {
  "kernelspec": {
   "display_name": "Python 3.9.13 ('tactile_learning')",
   "language": "python",
   "name": "python3"
  },
  "language_info": {
   "codemirror_mode": {
    "name": "ipython",
    "version": 3
   },
   "file_extension": ".py",
   "mimetype": "text/x-python",
   "name": "python",
   "nbconvert_exporter": "python",
   "pygments_lexer": "ipython3",
   "version": "3.9.13 | packaged by conda-forge | (main, May 27 2022, 16:56:21) \n[GCC 10.3.0]"
  },
  "orig_nbformat": 4,
  "vscode": {
   "interpreter": {
    "hash": "36852de55b288c46ba617fd48cf310240e4201e2f57004cbdac030fa23152bd3"
   }
  }
 },
 "nbformat": 4,
 "nbformat_minor": 2
}
