{
 "cells": [
  {
   "cell_type": "code",
   "execution_count": 2,
   "metadata": {},
   "outputs": [],
   "source": [
    "import cv2\n",
    "import h5py\n",
    "import matplotlib.pyplot as plt\n",
    "import numpy as np\n",
    "import os\n",
    "import pickle\n",
    "import shutil\n",
    "\n",
    "from tqdm import tqdm"
   ]
  },
  {
   "cell_type": "code",
   "execution_count": 3,
   "metadata": {},
   "outputs": [],
   "source": [
    "from tactile_learning.datasets import dump_video_to_images, get_closest_id\n",
    "from tactile_learning.utils.visualization import plot_tactile_sensor"
   ]
  },
  {
   "cell_type": "code",
   "execution_count": 4,
   "metadata": {},
   "outputs": [],
   "source": [
    "import decimal\n",
    "\n",
    "# Get the metadata of images and tactile information\n",
    "def get_desired_indices(root, fps, view_num=0): # frames per second from the video to receive\n",
    "    image_metadata_path = os.path.join(root, f'cam_{view_num}_rgb_video.metadata')\n",
    "    tactile_info_path = os.path.join(root, 'touch_sensor_values.h5')\n",
    "\n",
    "    with open(image_metadata_path, 'rb') as f:\n",
    "        image_metadata = pickle.load(f)\n",
    "        image_timestamps_array = np.asarray(image_metadata['timestamps'])\n",
    "        image_timestamps = np.asarray(image_metadata['timestamps']) / 1000.\n",
    "    with h5py.File(tactile_info_path, 'r') as f:\n",
    "        tactile_timestamps = f['timestamps'][()]\n",
    "\n",
    "    image_id, tactile_id = 0, 0\n",
    "    curr_timestamp = tactile_timestamps[0] # These timestamps are in seconds\n",
    "    image_id = get_closest_id(image_id, curr_timestamp, image_timestamps)\n",
    "\n",
    "    tactile_indices, image_indices = [], []\n",
    "    tactile_indices.append(tactile_id)\n",
    "    image_indices.append(image_id)\n",
    "\n",
    "    frame_period = 1. / fps\n",
    "    while(True):\n",
    "        curr_timestamp += frame_period\n",
    "        tactile_id = get_closest_id(tactile_id, curr_timestamp, tactile_timestamps)\n",
    "        image_id = get_closest_id(image_id, curr_timestamp, image_timestamps)\n",
    "\n",
    "        if curr_timestamp > tactile_timestamps[tactile_id] and curr_timestamp > image_timestamps[image_id]:\n",
    "            break\n",
    "\n",
    "        tactile_indices.append(tactile_id)\n",
    "        image_indices.append(image_id)\n",
    "\n",
    "    assert len(tactile_indices) == len(image_indices)\n",
    "    return tactile_indices, image_indices\n"
   ]
  },
  {
   "cell_type": "code",
   "execution_count": 5,
   "metadata": {},
   "outputs": [],
   "source": [
    "\n",
    "def dump_states(root, tactile_indices, image_indices, view_num=0):\n",
    "    # Make directory to dump the visualization\n",
    "    pbar = tqdm(total=len(tactile_indices))\n",
    "\n",
    "    with h5py.File(os.path.join(root, 'touch_sensor_values.h5'), 'r') as f:\n",
    "        all_tactile_values = f['sensor_values'][()]\n",
    "\n",
    "    viz_dir = os.path.join(root, 'visualization')\n",
    "    os.makedirs(viz_dir, exist_ok=True)\n",
    "    \n",
    "    video_path = os.path.join(root, f'cam_{view_num}_rgb_video.avi')\n",
    "    vidcap = cv2.VideoCapture(video_path)\n",
    "    success, image = vidcap.read()\n",
    "    frame_count = int(vidcap.get(cv2.CAP_PROP_FRAME_COUNT))\n",
    "    frame_id = 0\n",
    "    for i in range(len(tactile_indices)):\n",
    "        tactile_id, image_id = tactile_indices[i], image_indices[i]\n",
    "        while frame_id != image_id and success:\n",
    "            # Find the frame that is equal to image_id\n",
    "            success, image = vidcap.read()\n",
    "            frame_id += 1\n",
    "        dump_demo_state(\n",
    "            frame_id = i,\n",
    "            viz_dir = viz_dir,\n",
    "            tactile_values = all_tactile_values[tactile_id,:,:,:],\n",
    "            camera_img = image\n",
    "        )\n",
    "\n",
    "        pbar.update(1)\n",
    "\n",
    "    pbar.close()\n",
    "\n",
    "def dump_demo_state(frame_id, viz_dir, tactile_values, camera_img):\n",
    "    # tactile_values: (15,16,3)\n",
    "    fig, axs = plt.subplots(figsize=(20,20), nrows=4, ncols=4)\n",
    "    for row_id in range(4):\n",
    "        for column_id in range(4):\n",
    "            if row_id + column_id > 0: # The top left axis should stay empty\n",
    "                plot_tactile_sensor(\n",
    "                    ax = axs[column_id][row_id],\n",
    "                    sensor_values = tactile_values[row_id*4 + column_id-1],\n",
    "                    title = f'Sensor {row_id*4+column_id-1}'\n",
    "                )\n",
    "    fig.suptitle('Tactile State')\n",
    "    fig.savefig(os.path.join(viz_dir, 'Tactile State.png'))\n",
    "    fig.clf()\n",
    "    plt.close()\n",
    "\n",
    "    tactile_img = cv2.imread(os.path.join(viz_dir, 'Tactile State.png'))\n",
    "    height_scale = camera_img.shape[0] / tactile_img.shape[0]\n",
    "    tactile_img = cv2.resize(\n",
    "        tactile_img,\n",
    "        (int(tactile_img.shape[1] * height_scale),\n",
    "         int(tactile_img.shape[0] * height_scale))\n",
    "    )\n",
    "    total_img = cv2.hconcat([camera_img, tactile_img])\n",
    "\n",
    "    img_name = 'state_{}.png'.format(str(frame_id).zfill(3))\n",
    "    cv2.imwrite(os.path.join(viz_dir, img_name), total_img)\n",
    "\n"
   ]
  },
  {
   "cell_type": "code",
   "execution_count": 10,
   "metadata": {},
   "outputs": [
    {
     "name": "stdout",
     "output_type": "stream",
     "text": [
      "tactile_indices: [0, 101, 199, 295, 393, 491, 586, 684, 783, 878, 978, 1075, 1172, 1272, 1368, 1467, 1564, 1662, 1760, 1857, 1955, 2053, 2151, 2246, 2348, 2443, 2540, 2638, 2734, 2832, 2931, 3029, 3127, 3225, 3323, 3421], image_indices: [70, 98, 128, 157, 185, 215, 244, 273, 301, 330, 359, 389, 418, 447, 475, 505, 534, 561, 591, 620, 649, 678, 707, 736, 765, 794, 824, 854, 881, 911, 940, 970, 999, 1028, 1057, 1086]\n"
     ]
    },
    {
     "name": "stderr",
     "output_type": "stream",
     "text": [
      "100%|██████████| 36/36 [00:45<00:00,  1.26s/it]\n"
     ]
    },
    {
     "name": "stdout",
     "output_type": "stream",
     "text": [
      "tactile_indices: [0, 99, 199, 294, 392, 490, 588, 685, 783, 889, 980, 1078, 1175, 1272, 1370, 1469, 1566, 1663, 1761, 1858, 1957, 2052, 2149, 2247, 2344, 2441, 2539, 2638, 2736], image_indices: [69, 96, 125, 155, 183, 213, 242, 272, 301, 331, 360, 389, 419, 448, 475, 505, 535, 564, 593, 621, 650, 680, 706, 735, 765, 794, 823, 853, 883]\n"
     ]
    },
    {
     "name": "stderr",
     "output_type": "stream",
     "text": [
      "100%|██████████| 29/29 [00:38<00:00,  1.31s/it]\n"
     ]
    },
    {
     "name": "stdout",
     "output_type": "stream",
     "text": [
      "tactile_indices: [0, 98, 197, 294, 391, 490, 586, 685, 783, 881, 979, 1078, 1176, 1275, 1371, 1467, 1566, 1664, 1761, 1860, 1957, 2053, 2151, 2250, 2347, 2445, 2543, 2640], image_indices: [72, 101, 130, 158, 187, 217, 245, 274, 303, 330, 358, 383, 411, 441, 469, 497, 526, 555, 585, 615, 644, 672, 701, 729, 758, 787, 816, 844]\n"
     ]
    },
    {
     "name": "stderr",
     "output_type": "stream",
     "text": [
      "100%|██████████| 28/28 [00:36<00:00,  1.32s/it]\n"
     ]
    },
    {
     "name": "stdout",
     "output_type": "stream",
     "text": [
      "tactile_indices: [0, 99, 198, 294, 395, 489, 585, 686, 783, 879, 977, 1073, 1171, 1267, 1366, 1463, 1560, 1657, 1755, 1854, 1951, 2050], image_indices: [70, 97, 127, 156, 183, 213, 242, 272, 300, 328, 357, 387, 416, 446, 475, 504, 533, 562, 590, 619, 645, 674]\n"
     ]
    },
    {
     "name": "stderr",
     "output_type": "stream",
     "text": [
      "100%|██████████| 22/22 [00:28<00:00,  1.28s/it]\n"
     ]
    }
   ],
   "source": [
    "import glob\n",
    "# roots = [\n",
    "#     '/home/irmak/Workspace/Holo-Bot/extracted_data/bowl_picking/eval/demonstration_7',\n",
    "#     '/home/irmak/Workspace/Holo-Bot/extracted_data/bowl_picking/eval/demonstration_9',\n",
    "#     '/home/irmak/Workspace/Holo-Bot/extracted_data/bowl_picking/eval/demonstration_15',\n",
    "# ]\n",
    "data_path = '/home/irmak/Workspace/Holo-Bot/extracted_data/peg_insertion'\n",
    "# data_path = '/data/tactile_learning/deployment_data/data/bowl_picking/demonstrations/image_generalization'\n",
    "roots = glob.glob(f'{data_path}/demonstration_*')\n",
    "# roots = [f'{data_path}/demonstration_6']\n",
    "\n",
    "retrieval_fps = 1\n",
    "view_num = 0\n",
    "for root in roots:\n",
    "    # print('root: {}'.format(root))\n",
    "    tactile_indices, image_indices = get_desired_indices(root=root, fps=retrieval_fps, view_num=view_num)\n",
    "    print('tactile_indices: {}, image_indices: {}'.format(tactile_indices, image_indices))\n",
    "    dump_states(root, tactile_indices, image_indices, view_num=view_num)\n"
   ]
  },
  {
   "cell_type": "code",
   "execution_count": null,
   "metadata": {},
   "outputs": [],
   "source": []
  },
  {
   "cell_type": "code",
   "execution_count": 7,
   "metadata": {},
   "outputs": [
    {
     "name": "stdout",
     "output_type": "stream",
     "text": [
      "['/home/irmak/Workspace/Holo-Bot/extracted_data/cup_turning/demonstration_6']\n"
     ]
    }
   ],
   "source": [
    "print(roots)"
   ]
  },
  {
   "cell_type": "code",
   "execution_count": 11,
   "metadata": {},
   "outputs": [
    {
     "name": "stdout",
     "output_type": "stream",
     "text": [
      "dumping video in root: /home/irmak/Workspace/Holo-Bot/extracted_data/peg_insertion/demonstration_3\n"
     ]
    },
    {
     "name": "stderr",
     "output_type": "stream",
     "text": [
      "ffmpeg version 5.1.2 Copyright (c) 2000-2022 the FFmpeg developers\n",
      "  built with gcc 10.4.0 (conda-forge gcc 10.4.0-18)\n",
      "  configuration: --prefix=/home/irmak/miniconda3/envs/tactile_learning --cc=/home/conda/feedstock_root/build_artifacts/ffmpeg_1666357487580/_build_env/bin/x86_64-conda-linux-gnu-cc --cxx=/home/conda/feedstock_root/build_artifacts/ffmpeg_1666357487580/_build_env/bin/x86_64-conda-linux-gnu-c++ --nm=/home/conda/feedstock_root/build_artifacts/ffmpeg_1666357487580/_build_env/bin/x86_64-conda-linux-gnu-nm --ar=/home/conda/feedstock_root/build_artifacts/ffmpeg_1666357487580/_build_env/bin/x86_64-conda-linux-gnu-ar --disable-doc --disable-openssl --enable-demuxer=dash --enable-hardcoded-tables --enable-libfreetype --enable-libfontconfig --enable-libopenh264 --enable-gnutls --enable-libmp3lame --enable-libvpx --enable-pthreads --enable-vaapi --enable-gpl --enable-libx264 --enable-libx265 --enable-libaom --enable-libsvtav1 --enable-libxml2 --enable-pic --enable-shared --disable-static --enable-version3 --enable-zlib --pkg-config=/home/conda/feedstock_root/build_artifacts/ffmpeg_1666357487580/_build_env/bin/pkg-config\n",
      "  libavutil      57. 28.100 / 57. 28.100\n",
      "  libavcodec     59. 37.100 / 59. 37.100\n",
      "  libavformat    59. 27.100 / 59. 27.100\n",
      "  libavdevice    59.  7.100 / 59.  7.100\n",
      "  libavfilter     8. 44.100 /  8. 44.100\n",
      "  libswscale      6.  7.100 /  6.  7.100\n",
      "  libswresample   4.  7.100 /  4.  7.100\n",
      "  libpostproc    56.  6.100 / 56.  6.100\n",
      "[image2 @ 0x55ddcc53e640] Pattern type 'glob_sequence' is deprecated: use pattern_type 'glob' instead\n",
      "Input #0, image2, from '/home/irmak/Workspace/Holo-Bot/extracted_data/peg_insertion/demonstration_3/visualization/%*.png':\n",
      "  Duration: 00:00:01.48, start: 0.000000, bitrate: N/A\n",
      "  Stream #0:0: Video: png, rgba(pc), 2000x2000 [SAR 3937:3937 DAR 1:1], 25 fps, 25 tbr, 25 tbn\n",
      "Stream mapping:\n",
      "  Stream #0:0 -> #0:0 (png (native) -> h264 (libx264))\n",
      "Press [q] to stop, [?] for help\n",
      "[libx264 @ 0x55ddcc545800] using SAR=1/1\n",
      "[libx264 @ 0x55ddcc545800] using cpu capabilities: MMX2 SSE2Fast SSSE3 SSE4.2 AVX FMA3 BMI2 AVX2\n",
      "[libx264 @ 0x55ddcc545800] profile High 4:4:4 Predictive, level 4.0, 4:4:4, 8-bit\n",
      "[libx264 @ 0x55ddcc545800] 264 - core 164 r3095 baee400 - H.264/MPEG-4 AVC codec - Copyleft 2003-2022 - http://www.videolan.org/x264.html - options: cabac=1 ref=3 deblock=1:0:0 analyse=0x3:0x113 me=hex subme=7 psy=1 psy_rd=1.00:0.00 mixed_ref=1 me_range=16 chroma_me=1 trellis=1 8x8dct=1 cqm=0 deadzone=21,11 fast_pskip=1 chroma_qp_offset=4 threads=22 lookahead_threads=3 sliced_threads=0 nr=0 decimate=1 interlaced=0 bluray_compat=0 constrained_intra=0 bframes=3 b_pyramid=2 b_adapt=1 b_bias=0 direct=1 weightb=1 open_gop=0 weightp=2 keyint=250 keyint_min=10 scenecut=40 intra_refresh=0 rc_lookahead=40 rc=crf mbtree=1 crf=23.0 qcomp=0.60 qpmin=0 qpmax=69 qpstep=4 ip_ratio=1.40 aq=1:1.00\n",
      "Output #0, mp4, to '/home/irmak/Workspace/Holo-Bot/extracted_data/peg_insertion/demonstration_3/visualization_0.mp4':\n",
      "  Metadata:\n",
      "    encoder         : Lavf59.27.100\n",
      "  Stream #0:0: Video: h264 (avc1 / 0x31637661), yuv444p(tv, progressive), 2000x720 [SAR 1:1 DAR 25:9], q=2-31, 10 fps, 10240 tbn\n",
      "    Metadata:\n",
      "      encoder         : Lavc59.37.100 libx264\n",
      "    Side data:\n",
      "      cpb: bitrate max/min/avg: 0/0/0 buffer size: 0 vbv_delay: N/A\n",
      "frame=   37 fps=0.0 q=-1.0 Lsize=    1109kB time=00:00:03.40 bitrate=2673.1kbits/s speed= 3.5x    \n",
      "video:1108kB audio:0kB subtitle:0kB other streams:0kB global headers:0kB muxing overhead: 0.117115%\n",
      "[libx264 @ 0x55ddcc545800] frame I:1     Avg QP:23.15  size: 52725\n",
      "[libx264 @ 0x55ddcc545800] frame P:10    Avg QP:20.31  size: 49583\n",
      "[libx264 @ 0x55ddcc545800] frame B:26    Avg QP:21.77  size: 22521\n",
      "[libx264 @ 0x55ddcc545800] consecutive B-frames:  5.4%  0.0%  8.1% 86.5%\n",
      "[libx264 @ 0x55ddcc545800] mb I  I16..4: 27.4% 43.4% 29.2%\n",
      "[libx264 @ 0x55ddcc545800] mb P  I16..4:  2.8% 29.0%  1.7%  P16..4: 20.7% 10.3%  5.0%  0.0%  0.0%    skip:30.5%\n",
      "[libx264 @ 0x55ddcc545800] mb B  I16..4:  0.7%  8.5%  0.2%  B16..8: 26.6%  6.2%  1.6%  direct: 6.2%  skip:50.1%  L0:44.7% L1:46.8% BI: 8.5%\n",
      "[libx264 @ 0x55ddcc545800] 8x8 transform intra:81.7% inter:82.0%\n",
      "[libx264 @ 0x55ddcc545800] coded y,u,v intra: 67.6% 35.6% 34.2% inter: 22.5% 13.9% 12.4%\n",
      "[libx264 @ 0x55ddcc545800] i16 v,h,dc,p: 39% 34% 12% 14%\n",
      "[libx264 @ 0x55ddcc545800] i8 v,h,dc,ddl,ddr,vr,hd,vl,hu: 14% 22% 46%  3%  2%  2%  3%  3%  5%\n",
      "[libx264 @ 0x55ddcc545800] i4 v,h,dc,ddl,ddr,vr,hd,vl,hu: 36% 34% 12%  2%  3%  3%  4%  2%  4%\n",
      "[libx264 @ 0x55ddcc545800] Weighted P-Frames: Y:0.0% UV:0.0%\n",
      "[libx264 @ 0x55ddcc545800] ref P L0: 45.4% 12.1% 28.4% 14.1%\n",
      "[libx264 @ 0x55ddcc545800] ref B L0: 73.4% 21.4%  5.2%\n",
      "[libx264 @ 0x55ddcc545800] ref B L1: 89.8% 10.2%\n",
      "[libx264 @ 0x55ddcc545800] kb/s:2452.10\n",
      "ffmpeg version 5.1.2 Copyright (c) 2000-2022 the FFmpeg developers\n",
      "  built with gcc 10.4.0 (conda-forge gcc 10.4.0-18)\n",
      "  configuration: --prefix=/home/irmak/miniconda3/envs/tactile_learning --cc=/home/conda/feedstock_root/build_artifacts/ffmpeg_1666357487580/_build_env/bin/x86_64-conda-linux-gnu-cc --cxx=/home/conda/feedstock_root/build_artifacts/ffmpeg_1666357487580/_build_env/bin/x86_64-conda-linux-gnu-c++ --nm=/home/conda/feedstock_root/build_artifacts/ffmpeg_1666357487580/_build_env/bin/x86_64-conda-linux-gnu-nm --ar=/home/conda/feedstock_root/build_artifacts/ffmpeg_1666357487580/_build_env/bin/x86_64-conda-linux-gnu-ar --disable-doc --disable-openssl --enable-demuxer=dash --enable-hardcoded-tables --enable-libfreetype --enable-libfontconfig --enable-libopenh264 --enable-gnutls --enable-libmp3lame --enable-libvpx --enable-pthreads --enable-vaapi --enable-gpl --enable-libx264 --enable-libx265 --enable-libaom --enable-libsvtav1 --enable-libxml2 --enable-pic --enable-shared --disable-static --enable-version3 --enable-zlib --pkg-config=/home/conda/feedstock_root/build_artifacts/ffmpeg_1666357487580/_build_env/bin/pkg-config\n",
      "  libavutil      57. 28.100 / 57. 28.100\n",
      "  libavcodec     59. 37.100 / 59. 37.100\n",
      "  libavformat    59. 27.100 / 59. 27.100\n",
      "  libavdevice    59.  7.100 / 59.  7.100\n",
      "  libavfilter     8. 44.100 /  8. 44.100\n",
      "  libswscale      6.  7.100 /  6.  7.100\n",
      "  libswresample   4.  7.100 /  4.  7.100\n",
      "  libpostproc    56.  6.100 / 56.  6.100\n",
      "[image2 @ 0x55c8a8af8640] Pattern type 'glob_sequence' is deprecated: use pattern_type 'glob' instead\n",
      "Input #0, image2, from '/home/irmak/Workspace/Holo-Bot/extracted_data/peg_insertion/demonstration_1/visualization/%*.png':\n",
      "  Duration: 00:00:01.20, start: 0.000000, bitrate: N/A\n",
      "  Stream #0:0: Video: png, rgba(pc), 2000x2000 [SAR 3937:3937 DAR 1:1], 25 fps, 25 tbr, 25 tbn\n",
      "Stream mapping:\n",
      "  Stream #0:0 -> #0:0 (png (native) -> h264 (libx264))\n",
      "Press [q] to stop, [?] for help\n"
     ]
    },
    {
     "name": "stdout",
     "output_type": "stream",
     "text": [
      "dumping video in root: /home/irmak/Workspace/Holo-Bot/extracted_data/peg_insertion/demonstration_1\n"
     ]
    },
    {
     "name": "stderr",
     "output_type": "stream",
     "text": [
      "[libx264 @ 0x55c8a8aff880] using SAR=1/1\n",
      "[libx264 @ 0x55c8a8aff880] using cpu capabilities: MMX2 SSE2Fast SSSE3 SSE4.2 AVX FMA3 BMI2 AVX2\n",
      "[libx264 @ 0x55c8a8aff880] profile High 4:4:4 Predictive, level 4.0, 4:4:4, 8-bit\n",
      "[libx264 @ 0x55c8a8aff880] 264 - core 164 r3095 baee400 - H.264/MPEG-4 AVC codec - Copyleft 2003-2022 - http://www.videolan.org/x264.html - options: cabac=1 ref=3 deblock=1:0:0 analyse=0x3:0x113 me=hex subme=7 psy=1 psy_rd=1.00:0.00 mixed_ref=1 me_range=16 chroma_me=1 trellis=1 8x8dct=1 cqm=0 deadzone=21,11 fast_pskip=1 chroma_qp_offset=4 threads=22 lookahead_threads=3 sliced_threads=0 nr=0 decimate=1 interlaced=0 bluray_compat=0 constrained_intra=0 bframes=3 b_pyramid=2 b_adapt=1 b_bias=0 direct=1 weightb=1 open_gop=0 weightp=2 keyint=250 keyint_min=10 scenecut=40 intra_refresh=0 rc_lookahead=40 rc=crf mbtree=1 crf=23.0 qcomp=0.60 qpmin=0 qpmax=69 qpstep=4 ip_ratio=1.40 aq=1:1.00\n",
      "Output #0, mp4, to '/home/irmak/Workspace/Holo-Bot/extracted_data/peg_insertion/demonstration_1/visualization_0.mp4':\n",
      "  Metadata:\n",
      "    encoder         : Lavf59.27.100\n",
      "  Stream #0:0: Video: h264 (avc1 / 0x31637661), yuv444p(tv, progressive), 2000x720 [SAR 1:1 DAR 25:9], q=2-31, 10 fps, 10240 tbn\n",
      "    Metadata:\n",
      "      encoder         : Lavc59.37.100 libx264\n",
      "    Side data:\n",
      "      cpb: bitrate max/min/avg: 0/0/0 buffer size: 0 vbv_delay: N/A\n",
      "frame=   30 fps=0.0 q=-1.0 Lsize=     883kB time=00:00:02.70 bitrate=2678.6kbits/s speed=3.09x    \n",
      "video:882kB audio:0kB subtitle:0kB other streams:0kB global headers:0kB muxing overhead: 0.137016%\n",
      "[libx264 @ 0x55c8a8aff880] frame I:1     Avg QP:23.26  size: 50808\n",
      "[libx264 @ 0x55c8a8aff880] frame P:8     Avg QP:20.45  size: 48605\n",
      "[libx264 @ 0x55c8a8aff880] frame B:21    Avg QP:21.76  size: 22023\n",
      "[libx264 @ 0x55c8a8aff880] consecutive B-frames:  6.7%  0.0%  0.0% 93.3%\n",
      "[libx264 @ 0x55c8a8aff880] mb I  I16..4: 27.4% 44.1% 28.5%\n",
      "[libx264 @ 0x55c8a8aff880] mb P  I16..4:  3.6% 30.6%  2.2%  P16..4: 19.4%  9.3%  4.6%  0.0%  0.0%    skip:30.4%\n",
      "[libx264 @ 0x55c8a8aff880] mb B  I16..4:  0.6% 10.0%  0.1%  B16..8: 25.6%  5.4%  1.4%  direct: 6.0%  skip:50.8%  L0:46.6% L1:45.0% BI: 8.4%\n",
      "[libx264 @ 0x55c8a8aff880] 8x8 transform intra:81.1% inter:82.5%\n",
      "[libx264 @ 0x55c8a8aff880] coded y,u,v intra: 67.2% 36.0% 33.2% inter: 21.4% 13.1% 11.6%\n",
      "[libx264 @ 0x55c8a8aff880] i16 v,h,dc,p: 39% 36%  9% 16%\n",
      "[libx264 @ 0x55c8a8aff880] i8 v,h,dc,ddl,ddr,vr,hd,vl,hu: 15% 24% 44%  3%  2%  2%  3%  3%  5%\n",
      "[libx264 @ 0x55c8a8aff880] i4 v,h,dc,ddl,ddr,vr,hd,vl,hu: 36% 36% 12%  2%  2%  2%  4%  2%  4%\n",
      "[libx264 @ 0x55c8a8aff880] Weighted P-Frames: Y:0.0% UV:0.0%\n",
      "[libx264 @ 0x55c8a8aff880] ref P L0: 43.0% 10.9% 32.7% 13.4%\n",
      "[libx264 @ 0x55c8a8aff880] ref B L0: 78.4% 17.6%  4.0%\n",
      "[libx264 @ 0x55c8a8aff880] ref B L1: 89.1% 10.9%\n",
      "[libx264 @ 0x55c8a8aff880] kb/s:2405.66\n",
      "ffmpeg version 5.1.2 Copyright (c) 2000-2022 the FFmpeg developers\n",
      "  built with gcc 10.4.0 (conda-forge gcc 10.4.0-18)\n",
      "  configuration: --prefix=/home/irmak/miniconda3/envs/tactile_learning --cc=/home/conda/feedstock_root/build_artifacts/ffmpeg_1666357487580/_build_env/bin/x86_64-conda-linux-gnu-cc --cxx=/home/conda/feedstock_root/build_artifacts/ffmpeg_1666357487580/_build_env/bin/x86_64-conda-linux-gnu-c++ --nm=/home/conda/feedstock_root/build_artifacts/ffmpeg_1666357487580/_build_env/bin/x86_64-conda-linux-gnu-nm --ar=/home/conda/feedstock_root/build_artifacts/ffmpeg_1666357487580/_build_env/bin/x86_64-conda-linux-gnu-ar --disable-doc --disable-openssl --enable-demuxer=dash --enable-hardcoded-tables --enable-libfreetype --enable-libfontconfig --enable-libopenh264 --enable-gnutls --enable-libmp3lame --enable-libvpx --enable-pthreads --enable-vaapi --enable-gpl --enable-libx264 --enable-libx265 --enable-libaom --enable-libsvtav1 --enable-libxml2 --enable-pic --enable-shared --disable-static --enable-version3 --enable-zlib --pkg-config=/home/conda/feedstock_root/build_artifacts/ffmpeg_1666357487580/_build_env/bin/pkg-config\n",
      "  libavutil      57. 28.100 / 57. 28.100\n",
      "  libavcodec     59. 37.100 / 59. 37.100\n",
      "  libavformat    59. 27.100 / 59. 27.100\n",
      "  libavdevice    59.  7.100 / 59.  7.100\n",
      "  libavfilter     8. 44.100 /  8. 44.100\n",
      "  libswscale      6.  7.100 /  6.  7.100\n",
      "  libswresample   4.  7.100 /  4.  7.100\n",
      "  libpostproc    56.  6.100 / 56.  6.100\n",
      "[image2 @ 0x557cc685a640] Pattern type 'glob_sequence' is deprecated: use pattern_type 'glob' instead\n",
      "Input #0, image2, from '/home/irmak/Workspace/Holo-Bot/extracted_data/peg_insertion/demonstration_2/visualization/%*.png':\n",
      "  Duration: 00:00:01.16, start: 0.000000, bitrate: N/A\n",
      "  Stream #0:0: Video: png, rgba(pc), 2000x2000 [SAR 3937:3937 DAR 1:1], 25 fps, 25 tbr, 25 tbn\n",
      "Stream mapping:\n",
      "  Stream #0:0 -> #0:0 (png (native) -> h264 (libx264))\n",
      "Press [q] to stop, [?] for help\n"
     ]
    },
    {
     "name": "stdout",
     "output_type": "stream",
     "text": [
      "dumping video in root: /home/irmak/Workspace/Holo-Bot/extracted_data/peg_insertion/demonstration_2\n"
     ]
    },
    {
     "name": "stderr",
     "output_type": "stream",
     "text": [
      "[libx264 @ 0x557cc6861bc0] using SAR=1/1\n",
      "[libx264 @ 0x557cc6861bc0] using cpu capabilities: MMX2 SSE2Fast SSSE3 SSE4.2 AVX FMA3 BMI2 AVX2\n",
      "[libx264 @ 0x557cc6861bc0] profile High 4:4:4 Predictive, level 4.0, 4:4:4, 8-bit\n",
      "[libx264 @ 0x557cc6861bc0] 264 - core 164 r3095 baee400 - H.264/MPEG-4 AVC codec - Copyleft 2003-2022 - http://www.videolan.org/x264.html - options: cabac=1 ref=3 deblock=1:0:0 analyse=0x3:0x113 me=hex subme=7 psy=1 psy_rd=1.00:0.00 mixed_ref=1 me_range=16 chroma_me=1 trellis=1 8x8dct=1 cqm=0 deadzone=21,11 fast_pskip=1 chroma_qp_offset=4 threads=22 lookahead_threads=3 sliced_threads=0 nr=0 decimate=1 interlaced=0 bluray_compat=0 constrained_intra=0 bframes=3 b_pyramid=2 b_adapt=1 b_bias=0 direct=1 weightb=1 open_gop=0 weightp=2 keyint=250 keyint_min=10 scenecut=40 intra_refresh=0 rc_lookahead=40 rc=crf mbtree=1 crf=23.0 qcomp=0.60 qpmin=0 qpmax=69 qpstep=4 ip_ratio=1.40 aq=1:1.00\n",
      "Output #0, mp4, to '/home/irmak/Workspace/Holo-Bot/extracted_data/peg_insertion/demonstration_2/visualization_0.mp4':\n",
      "  Metadata:\n",
      "    encoder         : Lavf59.27.100\n",
      "  Stream #0:0: Video: h264 (avc1 / 0x31637661), yuv444p(tv, progressive), 2000x720 [SAR 1:1 DAR 25:9], q=2-31, 10 fps, 10240 tbn\n",
      "    Metadata:\n",
      "      encoder         : Lavc59.37.100 libx264\n",
      "    Side data:\n",
      "      cpb: bitrate max/min/avg: 0/0/0 buffer size: 0 vbv_delay: N/A\n",
      "frame=   29 fps=0.0 q=-1.0 Lsize=     881kB time=00:00:02.60 bitrate=2775.7kbits/s speed=2.78x    \n",
      "video:880kB audio:0kB subtitle:0kB other streams:0kB global headers:0kB muxing overhead: 0.135973%\n",
      "[libx264 @ 0x557cc6861bc0] frame I:1     Avg QP:23.17  size: 50344\n",
      "[libx264 @ 0x557cc6861bc0] frame P:8     Avg QP:20.53  size: 50528\n",
      "[libx264 @ 0x557cc6861bc0] frame B:20    Avg QP:21.72  size: 22283\n",
      "[libx264 @ 0x557cc6861bc0] consecutive B-frames:  3.4% 13.8%  0.0% 82.8%\n",
      "[libx264 @ 0x557cc6861bc0] mb I  I16..4: 27.7% 44.1% 28.2%\n",
      "[libx264 @ 0x557cc6861bc0] mb P  I16..4:  3.7% 34.1%  2.2%  P16..4: 17.7%  8.6%  4.0%  0.0%  0.0%    skip:29.7%\n",
      "[libx264 @ 0x557cc6861bc0] mb B  I16..4:  0.6%  9.5%  0.2%  B16..8: 25.5%  5.7%  1.5%  direct: 6.2%  skip:50.9%  L0:44.0% L1:46.9% BI: 9.1%\n",
      "[libx264 @ 0x557cc6861bc0] 8x8 transform intra:81.0% inter:81.9%\n",
      "[libx264 @ 0x557cc6861bc0] coded y,u,v intra: 67.2% 35.9% 33.0% inter: 21.3% 13.3% 11.8%\n",
      "[libx264 @ 0x557cc6861bc0] i16 v,h,dc,p: 38% 37%  9% 16%\n",
      "[libx264 @ 0x557cc6861bc0] i8 v,h,dc,ddl,ddr,vr,hd,vl,hu: 14% 24% 44%  3%  2%  2%  3%  3%  5%\n",
      "[libx264 @ 0x557cc6861bc0] i4 v,h,dc,ddl,ddr,vr,hd,vl,hu: 36% 35% 12%  2%  2%  3%  4%  2%  4%\n",
      "[libx264 @ 0x557cc6861bc0] Weighted P-Frames: Y:0.0% UV:0.0%\n",
      "[libx264 @ 0x557cc6861bc0] ref P L0: 50.5% 13.5% 22.6% 13.3%\n",
      "[libx264 @ 0x557cc6861bc0] ref B L0: 76.0% 19.7%  4.3%\n",
      "[libx264 @ 0x557cc6861bc0] ref B L1: 91.8%  8.2%\n",
      "[libx264 @ 0x557cc6861bc0] kb/s:2483.38\n",
      "ffmpeg version 5.1.2 Copyright (c) 2000-2022 the FFmpeg developers\n",
      "  built with gcc 10.4.0 (conda-forge gcc 10.4.0-18)\n",
      "  configuration: --prefix=/home/irmak/miniconda3/envs/tactile_learning --cc=/home/conda/feedstock_root/build_artifacts/ffmpeg_1666357487580/_build_env/bin/x86_64-conda-linux-gnu-cc --cxx=/home/conda/feedstock_root/build_artifacts/ffmpeg_1666357487580/_build_env/bin/x86_64-conda-linux-gnu-c++ --nm=/home/conda/feedstock_root/build_artifacts/ffmpeg_1666357487580/_build_env/bin/x86_64-conda-linux-gnu-nm --ar=/home/conda/feedstock_root/build_artifacts/ffmpeg_1666357487580/_build_env/bin/x86_64-conda-linux-gnu-ar --disable-doc --disable-openssl --enable-demuxer=dash --enable-hardcoded-tables --enable-libfreetype --enable-libfontconfig --enable-libopenh264 --enable-gnutls --enable-libmp3lame --enable-libvpx --enable-pthreads --enable-vaapi --enable-gpl --enable-libx264 --enable-libx265 --enable-libaom --enable-libsvtav1 --enable-libxml2 --enable-pic --enable-shared --disable-static --enable-version3 --enable-zlib --pkg-config=/home/conda/feedstock_root/build_artifacts/ffmpeg_1666357487580/_build_env/bin/pkg-config\n",
      "  libavutil      57. 28.100 / 57. 28.100\n",
      "  libavcodec     59. 37.100 / 59. 37.100\n",
      "  libavformat    59. 27.100 / 59. 27.100\n",
      "  libavdevice    59.  7.100 / 59.  7.100\n",
      "  libavfilter     8. 44.100 /  8. 44.100\n",
      "  libswscale      6.  7.100 /  6.  7.100\n",
      "  libswresample   4.  7.100 /  4.  7.100\n",
      "  libpostproc    56.  6.100 / 56.  6.100\n",
      "[image2 @ 0x563c95eff640] Pattern type 'glob_sequence' is deprecated: use pattern_type 'glob' instead\n",
      "Input #0, image2, from '/home/irmak/Workspace/Holo-Bot/extracted_data/peg_insertion/demonstration_4/visualization/%*.png':\n",
      "  Duration: 00:00:00.92, start: 0.000000, bitrate: N/A\n",
      "  Stream #0:0: Video: png, rgba(pc), 2000x2000 [SAR 3937:3937 DAR 1:1], 25 fps, 25 tbr, 25 tbn\n",
      "Stream mapping:\n",
      "  Stream #0:0 -> #0:0 (png (native) -> h264 (libx264))\n",
      "Press [q] to stop, [?] for help\n"
     ]
    },
    {
     "name": "stdout",
     "output_type": "stream",
     "text": [
      "dumping video in root: /home/irmak/Workspace/Holo-Bot/extracted_data/peg_insertion/demonstration_4\n"
     ]
    },
    {
     "name": "stderr",
     "output_type": "stream",
     "text": [
      "[libx264 @ 0x563c95f05fc0] using SAR=1/1\n",
      "[libx264 @ 0x563c95f05fc0] using cpu capabilities: MMX2 SSE2Fast SSSE3 SSE4.2 AVX FMA3 BMI2 AVX2\n",
      "[libx264 @ 0x563c95f05fc0] profile High 4:4:4 Predictive, level 4.0, 4:4:4, 8-bit\n",
      "[libx264 @ 0x563c95f05fc0] 264 - core 164 r3095 baee400 - H.264/MPEG-4 AVC codec - Copyleft 2003-2022 - http://www.videolan.org/x264.html - options: cabac=1 ref=3 deblock=1:0:0 analyse=0x3:0x113 me=hex subme=7 psy=1 psy_rd=1.00:0.00 mixed_ref=1 me_range=16 chroma_me=1 trellis=1 8x8dct=1 cqm=0 deadzone=21,11 fast_pskip=1 chroma_qp_offset=4 threads=22 lookahead_threads=3 sliced_threads=0 nr=0 decimate=1 interlaced=0 bluray_compat=0 constrained_intra=0 bframes=3 b_pyramid=2 b_adapt=1 b_bias=0 direct=1 weightb=1 open_gop=0 weightp=2 keyint=250 keyint_min=10 scenecut=40 intra_refresh=0 rc_lookahead=40 rc=crf mbtree=1 crf=23.0 qcomp=0.60 qpmin=0 qpmax=69 qpstep=4 ip_ratio=1.40 aq=1:1.00\n",
      "Output #0, mp4, to '/home/irmak/Workspace/Holo-Bot/extracted_data/peg_insertion/demonstration_4/visualization_0.mp4':\n",
      "  Metadata:\n",
      "    encoder         : Lavf59.27.100\n",
      "  Stream #0:0: Video: h264 (avc1 / 0x31637661), yuv444p(tv, progressive), 2000x720 [SAR 1:1 DAR 25:9], q=2-31, 10 fps, 10240 tbn\n",
      "    Metadata:\n",
      "      encoder         : Lavc59.37.100 libx264\n",
      "    Side data:\n",
      "      cpb: bitrate max/min/avg: 0/0/0 buffer size: 0 vbv_delay: N/A\n",
      "frame=   23 fps=0.0 q=-1.0 Lsize=     818kB time=00:00:02.00 bitrate=3350.1kbits/s speed=2.66x    \n",
      "video:817kB audio:0kB subtitle:0kB other streams:0kB global headers:0kB muxing overhead: 0.135934%\n",
      "[libx264 @ 0x563c95f05fc0] frame I:1     Avg QP:23.30  size: 50693\n",
      "[libx264 @ 0x563c95f05fc0] frame P:6     Avg QP:20.87  size: 55592\n",
      "[libx264 @ 0x563c95f05fc0] frame B:16    Avg QP:21.80  size: 28219\n",
      "[libx264 @ 0x563c95f05fc0] consecutive B-frames:  4.3%  0.0% 26.1% 69.6%\n",
      "[libx264 @ 0x563c95f05fc0] mb I  I16..4: 27.9% 43.3% 28.8%\n",
      "[libx264 @ 0x563c95f05fc0] mb P  I16..4:  3.1% 36.9%  2.7%  P16..4: 17.4%  8.1%  3.9%  0.0%  0.0%    skip:27.7%\n",
      "[libx264 @ 0x563c95f05fc0] mb B  I16..4:  0.6% 14.3%  0.3%  B16..8: 22.8%  5.8%  1.6%  direct: 7.4%  skip:47.2%  L0:47.8% L1:43.4% BI: 8.8%\n",
      "[libx264 @ 0x563c95f05fc0] 8x8 transform intra:82.2% inter:82.3%\n",
      "[libx264 @ 0x563c95f05fc0] coded y,u,v intra: 70.3% 38.8% 35.9% inter: 24.2% 15.3% 14.3%\n",
      "[libx264 @ 0x563c95f05fc0] i16 v,h,dc,p: 43% 36%  8% 12%\n",
      "[libx264 @ 0x563c95f05fc0] i8 v,h,dc,ddl,ddr,vr,hd,vl,hu: 13% 23% 46%  3%  2%  2%  3%  3%  5%\n",
      "[libx264 @ 0x563c95f05fc0] i4 v,h,dc,ddl,ddr,vr,hd,vl,hu: 35% 36% 12%  3%  3%  2%  4%  3%  4%\n",
      "[libx264 @ 0x563c95f05fc0] Weighted P-Frames: Y:0.0% UV:0.0%\n",
      "[libx264 @ 0x563c95f05fc0] ref P L0: 45.7% 13.5% 20.7% 20.2%\n",
      "[libx264 @ 0x563c95f05fc0] ref B L0: 80.7% 15.1%  4.1%\n",
      "[libx264 @ 0x563c95f05fc0] ref B L1: 91.7%  8.3%\n",
      "[libx264 @ 0x563c95f05fc0] kb/s:2906.94\n"
     ]
    }
   ],
   "source": [
    "# Turn the images to a video and delete the directory\n",
    "video_fps = 10\n",
    "for root in roots:\n",
    "    print('dumping video in root: {}'.format(root))\n",
    "    video_path = os.path.join(root, f'visualization_{view_num}.mp4')\n",
    "    if os.path.exists(video_path):\n",
    "        os.remove(video_path)\n",
    "    viz_dir = os.path.join(root, 'visualization')\n",
    "    os.system('ffmpeg -r {} -i {}/%*.png -vf scale=2000x720,setsar=1:1 {}'.format(\n",
    "        video_fps, # fps\n",
    "        viz_dir,\n",
    "        video_path\n",
    "    ))\n"
   ]
  },
  {
   "cell_type": "code",
   "execution_count": 12,
   "metadata": {},
   "outputs": [],
   "source": [
    "# Remove the img directory\n",
    "\n",
    "for root in roots:\n",
    "    viz_dir = os.path.join(root, 'visualization')\n",
    "    shutil.rmtree(viz_dir)\n"
   ]
  },
  {
   "cell_type": "code",
   "execution_count": null,
   "metadata": {},
   "outputs": [],
   "source": []
  }
 ],
 "metadata": {
  "kernelspec": {
   "display_name": "Python 3 (ipykernel)",
   "language": "python",
   "name": "python3"
  },
  "language_info": {
   "codemirror_mode": {
    "name": "ipython",
    "version": 3
   },
   "file_extension": ".py",
   "mimetype": "text/x-python",
   "name": "python",
   "nbconvert_exporter": "python",
   "pygments_lexer": "ipython3",
   "version": "3.9.13"
  },
  "vscode": {
   "interpreter": {
    "hash": "36852de55b288c46ba617fd48cf310240e4201e2f57004cbdac030fa23152bd3"
   }
  }
 },
 "nbformat": 4,
 "nbformat_minor": 4
}
