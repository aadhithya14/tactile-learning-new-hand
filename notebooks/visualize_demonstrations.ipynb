{
 "cells": [
  {
   "cell_type": "code",
   "execution_count": 1,
   "metadata": {},
   "outputs": [],
   "source": [
    "import cv2\n",
    "import h5py\n",
    "import matplotlib.pyplot as plt\n",
    "import numpy as np\n",
    "import os\n",
    "import pickle\n",
    "import shutil\n",
    "\n",
    "from tqdm import tqdm"
   ]
  },
  {
   "cell_type": "code",
   "execution_count": 2,
   "metadata": {},
   "outputs": [],
   "source": [
    "# Script to visualize demonstrations according to the timestamps\n",
    "# First get the first timestamp of the xela sensor\n",
    "# Then with given fps given get image frames - find closest tactile and image observations"
   ]
  },
  {
   "cell_type": "code",
   "execution_count": 3,
   "metadata": {},
   "outputs": [],
   "source": [
    "from tactile_learning.datasets.preprocess import dump_video_to_images, get_closest_id\n",
    "from tactile_learning.utils.visualization import plot_tactile_sensor"
   ]
  },
  {
   "cell_type": "code",
   "execution_count": 4,
   "metadata": {},
   "outputs": [],
   "source": [
    "import decimal\n",
    "\n",
    "# Get the metadata of images and tactile information\n",
    "def get_desired_indices(root, fps): # frames per second from the video to receive\n",
    "    image_metadata_path = os.path.join(root, 'cam_0_rgb_video.metadata')\n",
    "    tactile_info_path = os.path.join(root, 'touch_sensor_values.h5')\n",
    "\n",
    "    with open(image_metadata_path, 'rb') as f:\n",
    "        image_metadata = pickle.load(f)\n",
    "        image_timestamps_array = np.asarray(image_metadata['timestamps'])\n",
    "        image_timestamps = np.asarray(image_metadata['timestamps']) / 1000.\n",
    "    with h5py.File(tactile_info_path, 'r') as f:\n",
    "        tactile_timestamps = f['timestamps'][()]\n",
    "\n",
    "    image_id, tactile_id = 0, 0\n",
    "    curr_timestamp = tactile_timestamps[0] # These timestamps are in seconds\n",
    "    image_id = get_closest_id(image_id, curr_timestamp, image_timestamps)\n",
    "\n",
    "    tactile_indices, image_indices = [], []\n",
    "    tactile_indices.append(tactile_id)\n",
    "    image_indices.append(image_id)\n",
    "\n",
    "    frame_period = 1. / fps\n",
    "    while(True):\n",
    "        curr_timestamp += frame_period\n",
    "        tactile_id = get_closest_id(tactile_id, curr_timestamp, tactile_timestamps)\n",
    "        image_id = get_closest_id(image_id, curr_timestamp, image_timestamps)\n",
    "\n",
    "        if curr_timestamp > tactile_timestamps[tactile_id] and curr_timestamp > image_timestamps[image_id]:\n",
    "            break\n",
    "\n",
    "        tactile_indices.append(tactile_id)\n",
    "        image_indices.append(image_id)\n",
    "\n",
    "    assert len(tactile_indices) == len(image_indices)\n",
    "    return tactile_indices, image_indices\n"
   ]
  },
  {
   "cell_type": "code",
   "execution_count": 5,
   "metadata": {},
   "outputs": [],
   "source": [
    "\n",
    "def dump_states(root, tactile_indices, image_indices):\n",
    "    # Make directory to dump the visualization\n",
    "    pbar = tqdm(total=len(tactile_indices))\n",
    "\n",
    "    with h5py.File(os.path.join(root, 'touch_sensor_values.h5'), 'r') as f:\n",
    "        all_tactile_values = f['sensor_values'][()]\n",
    "\n",
    "    viz_dir = os.path.join(root, 'visualization')\n",
    "    os.makedirs(viz_dir, exist_ok=True)\n",
    "    \n",
    "    video_path = os.path.join(root, f'cam_0_rgb_video.avi')\n",
    "    vidcap = cv2.VideoCapture(video_path)\n",
    "    success, image = vidcap.read()\n",
    "    frame_count = int(vidcap.get(cv2.CAP_PROP_FRAME_COUNT))\n",
    "    frame_id = 0\n",
    "    for i in range(len(tactile_indices)):\n",
    "        tactile_id, image_id = tactile_indices[i], image_indices[i]\n",
    "        while frame_id != image_id and success:\n",
    "            # Find the frame that is equal to image_id\n",
    "            success, image = vidcap.read()\n",
    "            frame_id += 1\n",
    "        dump_demo_state(\n",
    "            frame_id = i,\n",
    "            viz_dir = viz_dir,\n",
    "            tactile_values = all_tactile_values[tactile_id,:,:,:],\n",
    "            camera_img = image\n",
    "        )\n",
    "\n",
    "        pbar.update(1)\n",
    "\n",
    "    pbar.close()\n",
    "\n",
    "def dump_demo_state(frame_id, viz_dir, tactile_values, camera_img):\n",
    "    # tactile_values: (15,16,3)\n",
    "    fig, axs = plt.subplots(figsize=(20,20), nrows=4, ncols=4)\n",
    "    for row_id in range(4):\n",
    "        for column_id in range(4):\n",
    "            if row_id + column_id > 0: # The top left axis should stay empty\n",
    "                plot_tactile_sensor(\n",
    "                    ax = axs[column_id][row_id],\n",
    "                    sensor_values = tactile_values[row_id*4 + column_id-1],\n",
    "                    title = f'Sensor {row_id*4+column_id-1}'\n",
    "                )\n",
    "    fig.suptitle('Tactile State')\n",
    "    fig.savefig(os.path.join(viz_dir, 'Tactile State.png'))\n",
    "    fig.clf()\n",
    "    plt.close()\n",
    "\n",
    "    tactile_img = cv2.imread(os.path.join(viz_dir, 'Tactile State.png'))\n",
    "    height_scale = camera_img.shape[0] / tactile_img.shape[0]\n",
    "    tactile_img = cv2.resize(\n",
    "        tactile_img,\n",
    "        (int(tactile_img.shape[1] * height_scale),\n",
    "         int(tactile_img.shape[0] * height_scale))\n",
    "    )\n",
    "    total_img = cv2.hconcat([camera_img, tactile_img])\n",
    "\n",
    "    img_name = 'state_{}.png'.format(str(frame_id).zfill(3))\n",
    "    cv2.imwrite(os.path.join(viz_dir, img_name), total_img)\n",
    "\n"
   ]
  },
  {
   "cell_type": "code",
   "execution_count": 12,
   "metadata": {},
   "outputs": [
    {
     "name": "stdout",
     "output_type": "stream",
     "text": [
      "tactile_indices: [0, 50, 99, 149, 196, 247, 295, 345, 395, 443, 491, 541, 591, 639, 690, 737, 788, 835, 884, 933, 982, 1031, 1080, 1129, 1177, 1227, 1276, 1326, 1374, 1424, 1472, 1522, 1569, 1619, 1667, 1717, 1766, 1815, 1864, 1914, 1962, 2012, 2060, 2110, 2158, 2208, 2257, 2307, 2354, 2405, 2454, 2504, 2551, 2602, 2649, 2697, 2746, 2795, 2844, 2893, 2942, 2991, 3041, 3089, 3136, 3188, 3235, 3285, 3333, 3383, 3432, 3481, 3530, 3580, 3628, 3677, 3726, 3775, 3824, 3874, 3921, 3971, 4019, 4069, 4117, 4168, 4215, 4265, 4313, 4363, 4414, 4461, 4509, 4560, 4608, 4658, 4706, 4756, 4805, 4854, 4902, 4951, 4999, 5048, 5097, 5145, 5196, 5243, 5293, 5342, 5391, 5439, 5489, 5536, 5586, 5634, 5681, 5731, 5781, 5829, 5879, 5928, 5976, 6026, 6073, 6124, 6172, 6227, 6270, 6321, 6368, 6416, 6466, 6514, 6564, 6612, 6662, 6710, 6760, 6809, 6859, 6907, 6956, 7005, 7054, 7103, 7153, 7201, 7250, 7299, 7347, 7396, 7446, 7494, 7544, 7591, 7642, 7690, 7740, 7788, 7838, 7886, 7937, 7984, 8034, 8082, 8131, 8182, 8227, 8277, 8325, 8374, 8423, 8473, 8521, 8571, 8619, 8667, 8716, 8764, 8814, 8861, 8911, 8960, 9009, 9058, 9109, 9156, 9206, 9254, 9304, 9352, 9402, 9450, 9501, 9548, 9598, 9647, 9695, 9745, 9795, 9843, 9891, 9941, 9990, 10039, 10088, 10137, 10186, 10236, 10284, 10333, 10381, 10431, 10480, 10529, 10578, 10626, 10675, 10724, 10773, 10822, 10871, 10920, 10970, 11018, 11066, 11115, 11165, 11215, 11263, 11312, 11361, 11412, 11460, 11509, 11559, 11608, 11656, 11706, 11755, 11805, 11852, 11902, 11950, 11999, 12046, 12096, 12144, 12194, 12241, 12291, 12339, 12388, 12437, 12486, 12536, 12584, 12634, 12681, 12730, 12778, 12828, 12877, 12926, 12974, 13024, 13072, 13121, 13170, 13225, 13268, 13317, 13366, 13416, 13464, 13514, 13561, 13610, 13660, 13707, 13756, 13805, 13855, 13904, 13953, 14002, 14052, 14100, 14150, 14198, 14248, 14296, 14346, 14394, 14442, 14492, 14540, 14590, 14637, 14688, 14737, 14786, 14833, 14884, 14930], image_indices: [69, 84, 98, 113, 128, 143, 158, 173, 188, 203, 218, 233, 248, 262, 277, 292, 307, 322, 337, 352, 366, 381, 395, 410, 425, 439, 454, 469, 484, 498, 513, 528, 543, 558, 573, 587, 602, 617, 632, 647, 661, 676, 691, 706, 720, 735, 750, 765, 780, 794, 809, 824, 839, 853, 868, 882, 897, 912, 927, 942, 956, 971, 986, 1001, 1016, 1030, 1045, 1060, 1075, 1090, 1104, 1118, 1132, 1147, 1162, 1177, 1191, 1206, 1221, 1236, 1251, 1265, 1280, 1294, 1308, 1322, 1336, 1351, 1366, 1381, 1395, 1410, 1425, 1440, 1455, 1469, 1484, 1499, 1513, 1528, 1543, 1558, 1572, 1586, 1601, 1615, 1630, 1644, 1659, 1673, 1688, 1703, 1717, 1732, 1747, 1762, 1776, 1790, 1805, 1819, 1834, 1849, 1864, 1879, 1893, 1908, 1922, 1937, 1952, 1966, 1981, 1996, 2010, 2025, 2039, 2054, 2069, 2084, 2099, 2113, 2126, 2141, 2156, 2171, 2185, 2200, 2215, 2229, 2244, 2259, 2273, 2288, 2302, 2317, 2331, 2346, 2361, 2376, 2390, 2404, 2419, 2434, 2448, 2463, 2478, 2492, 2507, 2522, 2537, 2552, 2567, 2582, 2596, 2611, 2625, 2640, 2655, 2669, 2684, 2699, 2714, 2728, 2743, 2757, 2771, 2786, 2801, 2816, 2830, 2845, 2860, 2875, 2890, 2904, 2919, 2933, 2948, 2963, 2978, 2993, 3007, 3022, 3036, 3051, 3066, 3081, 3096, 3110, 3125, 3140, 3154, 3169, 3184, 3199, 3214, 3228, 3243, 3257, 3272, 3287, 3302, 3317, 3332, 3347, 3361, 3376, 3390, 3405, 3420, 3435, 3450, 3464, 3478, 3493, 3507, 3522, 3537, 3552, 3567, 3581, 3596, 3610, 3625, 3640, 3655, 3670, 3685, 3700, 3714, 3729, 3744, 3758, 3773, 3788, 3803, 3818, 3832, 3847, 3862, 3877, 3891, 3906, 3921, 3935, 3950, 3964, 3979, 3994, 4009, 4024, 4039, 4054, 4068, 4083, 4098, 4113, 4127, 4142, 4157, 4172, 4186, 4201, 4216, 4230, 4244, 4259, 4274, 4288, 4303, 4317, 4332, 4347, 4362, 4375, 4390, 4405, 4420, 4435, 4449, 4464, 4479, 4493, 4508, 4523, 4537, 4552]\n"
     ]
    },
    {
     "name": "stderr",
     "output_type": "stream",
     "text": [
      "100%|██████████| 306/306 [05:51<00:00,  1.15s/it]\n"
     ]
    },
    {
     "name": "stdout",
     "output_type": "stream",
     "text": [
      "tactile_indices: [0, 52, 100, 150, 198, 247, 296, 345, 394, 444, 492, 543, 592, 641, 689, 737, 787, 836, 886, 934, 983, 1031, 1082, 1129, 1180, 1227, 1277, 1329, 1377, 1424, 1474, 1522, 1571, 1621, 1670, 1719, 1767, 1817, 1865, 1915, 1963, 2012, 2063, 2111, 2159, 2208, 2257, 2307, 2355, 2404, 2452, 2502, 2551, 2598, 2648, 2697, 2747, 2797, 2846, 2894, 2943, 2993, 3042, 3092, 3139, 3190, 3238, 3288, 3336, 3387, 3435, 3483, 3534, 3581, 3631, 3679, 3730, 3778, 3827, 3875, 3925, 3973, 4024, 4071, 4121, 4169, 4220, 4269, 4318, 4367, 4417, 4465, 4515, 4564, 4613, 4662, 4710, 4759, 4807, 4857, 4906, 4955, 5004, 5055, 5102, 5152, 5200, 5250, 5299, 5348, 5397, 5446, 5494, 5544, 5593, 5641, 5691, 5740, 5788, 5839, 5887, 5936, 5985, 6036, 6083, 6133, 6181, 6235, 6279, 6328, 6377, 6427, 6475, 6525, 6574, 6623, 6672, 6721, 6768, 6820, 6868, 6917, 6967, 7016, 7065, 7115, 7163, 7213, 7261, 7310, 7359, 7409, 7457, 7507, 7556, 7606, 7654, 7704, 7752, 7802, 7850, 7900, 7951, 7999, 8046, 8097, 8145, 8193, 8242, 8292, 8344, 8391, 8439, 8488, 8537, 8586, 8636, 8684, 8733, 8782, 8832, 8882, 8930, 8978, 9029, 9077, 9127, 9175, 9225, 9272, 9323, 9371, 9421, 9469, 9519, 9567, 9618, 9666, 9715, 9764, 9814, 9862, 9911, 9960, 10008, 10059, 10107, 10157, 10205, 10255, 10302, 10353, 10401, 10449, 10500, 10547], image_indices: [76, 90, 105, 120, 135, 150, 165, 180, 195, 210, 225, 240, 255, 270, 284, 299, 314, 329, 344, 359, 374, 389, 403, 417, 432, 447, 461, 476, 491, 506, 521, 536, 551, 566, 580, 595, 610, 625, 640, 655, 670, 685, 699, 714, 729, 744, 758, 773, 788, 803, 817, 832, 847, 862, 877, 892, 907, 921, 936, 951, 965, 980, 995, 1010, 1024, 1039, 1054, 1069, 1084, 1099, 1114, 1129, 1144, 1159, 1173, 1188, 1203, 1217, 1232, 1247, 1262, 1277, 1292, 1307, 1322, 1337, 1352, 1367, 1382, 1397, 1411, 1425, 1440, 1455, 1470, 1485, 1500, 1514, 1529, 1544, 1559, 1574, 1589, 1604, 1619, 1634, 1649, 1664, 1679, 1693, 1707, 1722, 1737, 1752, 1767, 1782, 1797, 1812, 1827, 1842, 1857, 1871, 1885, 1893, 1908, 1922, 1937, 1952, 1967, 1982, 1997, 2012, 2027, 2042, 2057, 2072, 2087, 2102, 2117, 2132, 2147, 2162, 2177, 2191, 2206, 2221, 2236, 2251, 2266, 2281, 2296, 2311, 2326, 2341, 2356, 2371, 2386, 2401, 2416, 2431, 2446, 2461, 2475, 2490, 2505, 2520, 2535, 2550, 2565, 2580, 2595, 2609, 2624, 2639, 2654, 2669, 2684, 2699, 2714, 2729, 2744, 2758, 2773, 2788, 2803, 2818, 2833, 2848, 2862, 2876, 2891, 2906, 2921, 2936, 2950, 2965, 2980, 2995, 3010, 3024, 3038, 3053, 3068, 3083, 3098, 3113, 3128, 3142, 3157, 3172, 3187, 3202, 3216, 3231, 3245, 3257]\n"
     ]
    },
    {
     "name": "stderr",
     "output_type": "stream",
     "text": [
      "100%|██████████| 216/216 [04:10<00:00,  1.16s/it]\n"
     ]
    },
    {
     "name": "stdout",
     "output_type": "stream",
     "text": [
      "tactile_indices: [0, 52, 99, 148, 197, 246, 296, 346, 393, 442, 491, 539, 588, 637, 687, 734, 784, 833, 883, 931, 982, 1029, 1079, 1127, 1177, 1224, 1275, 1323, 1373, 1420, 1471, 1518, 1567, 1621, 1666, 1715, 1764, 1813, 1863, 1912, 1961, 2010, 2060, 2107, 2157, 2205, 2255, 2304, 2353, 2402, 2452, 2502, 2549, 2600, 2648, 2698, 2745, 2795, 2843, 2891, 2940, 2989, 3039, 3088, 3136, 3185, 3232, 3283, 3331, 3380, 3429, 3479, 3528, 3577, 3626, 3675, 3725, 3774, 3822, 3872, 3920, 3969, 4017, 4066, 4116, 4165, 4215, 4263, 4313, 4361, 4411, 4460, 4510, 4558, 4609, 4656, 4706, 4754, 4805, 4852, 4903, 4950], image_indices: [70, 85, 100, 114, 129, 144, 159, 173, 188, 203, 218, 233, 248, 263, 278, 293, 306, 321, 336, 351, 366, 381, 396, 410, 425, 440, 455, 470, 484, 499, 514, 529, 543, 558, 573, 587, 602, 617, 632, 647, 662, 676, 691, 706, 720, 735, 749, 764, 779, 794, 809, 824, 838, 852, 867, 881, 896, 910, 925, 940, 954, 969, 984, 999, 1013, 1028, 1042, 1057, 1072, 1086, 1101, 1116, 1130, 1144, 1159, 1174, 1189, 1202, 1217, 1231, 1246, 1261, 1276, 1290, 1305, 1320, 1335, 1350, 1365, 1380, 1394, 1408, 1423, 1438, 1453, 1468, 1482, 1497, 1512, 1526, 1541, 1555]\n"
     ]
    },
    {
     "name": "stderr",
     "output_type": "stream",
     "text": [
      "100%|██████████| 102/102 [02:03<00:00,  1.21s/it]\n"
     ]
    }
   ],
   "source": [
    "# root = '/home/irmak/Workspace/Holo-Bot/extracted_data/both_robots/demonstration_new_box_opening_1'\n",
    "# roots = [\n",
    "#     '/home/irmak/Workspace/Holo-Bot/extracted_data/both_robots/demonstration_new_box_opening_1',\n",
    "#     '/home/irmak/Workspace/Holo-Bot/extracted_data/both_robots/demonstration_hammer_1',\n",
    "#     '/home/irmak/Workspace/Holo-Bot/extracted_data/both_robots/demonstration_new_book_1',\n",
    "#     '/home/irmak/Workspace/Holo-Bot/extracted_data/both_robots/demonstration_bottle_opening_1',\n",
    "#     '/home/irmak/Workspace/Holo-Bot/extracted_data/both_robots/demonstration_new_reverse_peg_4',\n",
    "#     '/home/irmak/Workspace/Holo-Bot/extracted_data/both_robots/demonstration_new_joystick_2'\n",
    "# ]\n",
    "roots = [\n",
    "    # '/home/irmak/Workspace/Holo-Bot/extracted_data/both_robots/demonstration_handle_grabbing_1',\n",
    "    # '/home/irmak/Workspace/Holo-Bot/extracted_data/both_robots/demonstration_bowl_handle_lifting_4',\n",
    "    # '/home/irmak/Workspace/Holo-Bot/extracted_data/both_robots/demonstration_bowl_handle_lifting_6',\n",
    "    # '/home/irmak/Workspace/Holo-Bot/deployment_data/box_handle_lifting/demonstration_4cm_forward_start',\n",
    "    # '/home/irmak/Workspace/Holo-Bot/deployment_data/box_handle_lifting/demonstration_10cm_forward_start',\n",
    "    # '/home/irmak/Workspace/Holo-Bot/deployment_data/box_handle_lifting/demonstration_10cm_left_start',\n",
    "    # '/home/irmak/Workspace/Holo-Bot/deployment_data/box_handle_lifting/demonstration_10cm_right_start',\n",
    "    '/home/irmak/Workspace/Holo-Bot/deployment_data/box_handle_lifting/demonstration_5cm_up_start'\n",
    "]\n",
    "\n",
    "retrieval_fps = 2\n",
    "for root in roots:\n",
    "    # print('root: {}'.format(root))\n",
    "    tactile_indices, image_indices = get_desired_indices(root=root, fps=retrieval_fps)\n",
    "    print('tactile_indices: {}, image_indices: {}'.format(tactile_indices, image_indices))\n",
    "    dump_states(root, tactile_indices, image_indices)\n"
   ]
  },
  {
   "cell_type": "code",
   "execution_count": 13,
   "metadata": {},
   "outputs": [
    {
     "name": "stdout",
     "output_type": "stream",
     "text": [
      "dumping video in root: /home/irmak/Workspace/Holo-Bot/deployment_data/box_handle_lifting/demonstration_10cm_forward_start\n"
     ]
    },
    {
     "name": "stderr",
     "output_type": "stream",
     "text": [
      "ffmpeg version 5.1.2 Copyright (c) 2000-2022 the FFmpeg developers\n",
      "  built with gcc 10.4.0 (conda-forge gcc 10.4.0-18)\n",
      "  configuration: --prefix=/home/irmak/miniconda3/envs/tactile_learning --cc=/home/conda/feedstock_root/build_artifacts/ffmpeg_1666357487580/_build_env/bin/x86_64-conda-linux-gnu-cc --cxx=/home/conda/feedstock_root/build_artifacts/ffmpeg_1666357487580/_build_env/bin/x86_64-conda-linux-gnu-c++ --nm=/home/conda/feedstock_root/build_artifacts/ffmpeg_1666357487580/_build_env/bin/x86_64-conda-linux-gnu-nm --ar=/home/conda/feedstock_root/build_artifacts/ffmpeg_1666357487580/_build_env/bin/x86_64-conda-linux-gnu-ar --disable-doc --disable-openssl --enable-demuxer=dash --enable-hardcoded-tables --enable-libfreetype --enable-libfontconfig --enable-libopenh264 --enable-gnutls --enable-libmp3lame --enable-libvpx --enable-pthreads --enable-vaapi --enable-gpl --enable-libx264 --enable-libx265 --enable-libaom --enable-libsvtav1 --enable-libxml2 --enable-pic --enable-shared --disable-static --enable-version3 --enable-zlib --pkg-config=/home/conda/feedstock_root/build_artifacts/ffmpeg_1666357487580/_build_env/bin/pkg-config\n",
      "  libavutil      57. 28.100 / 57. 28.100\n",
      "  libavcodec     59. 37.100 / 59. 37.100\n",
      "  libavformat    59. 27.100 / 59. 27.100\n",
      "  libavdevice    59.  7.100 / 59.  7.100\n",
      "  libavfilter     8. 44.100 /  8. 44.100\n",
      "  libswscale      6.  7.100 /  6.  7.100\n",
      "  libswresample   4.  7.100 /  4.  7.100\n",
      "  libpostproc    56.  6.100 / 56.  6.100\n",
      "[image2 @ 0x5568f68bc640] Pattern type 'glob_sequence' is deprecated: use pattern_type 'glob' instead\n",
      "Input #0, image2, from '/home/irmak/Workspace/Holo-Bot/deployment_data/box_handle_lifting/demonstration_10cm_forward_start/visualization/%*.png':\n",
      "  Duration: 00:00:12.28, start: 0.000000, bitrate: N/A\n",
      "  Stream #0:0: Video: png, rgba(pc), 2000x2000 [SAR 3937:3937 DAR 1:1], 25 fps, 25 tbr, 25 tbn\n",
      "Stream mapping:\n",
      "  Stream #0:0 -> #0:0 (png (native) -> h264 (libx264))\n",
      "Press [q] to stop, [?] for help\n",
      "[libx264 @ 0x5568f68cdd80] using SAR=1/1\n",
      "[libx264 @ 0x5568f68cdd80] using cpu capabilities: MMX2 SSE2Fast SSSE3 SSE4.2 AVX FMA3 BMI2 AVX2\n",
      "[libx264 @ 0x5568f68cdd80] profile High 4:4:4 Predictive, level 4.0, 4:4:4, 8-bit\n",
      "[libx264 @ 0x5568f68cdd80] 264 - core 164 r3095 baee400 - H.264/MPEG-4 AVC codec - Copyleft 2003-2022 - http://www.videolan.org/x264.html - options: cabac=1 ref=3 deblock=1:0:0 analyse=0x3:0x113 me=hex subme=7 psy=1 psy_rd=1.00:0.00 mixed_ref=1 me_range=16 chroma_me=1 trellis=1 8x8dct=1 cqm=0 deadzone=21,11 fast_pskip=1 chroma_qp_offset=4 threads=22 lookahead_threads=3 sliced_threads=0 nr=0 decimate=1 interlaced=0 bluray_compat=0 constrained_intra=0 bframes=3 b_pyramid=2 b_adapt=1 b_bias=0 direct=1 weightb=1 open_gop=0 weightp=2 keyint=250 keyint_min=10 scenecut=40 intra_refresh=0 rc_lookahead=40 rc=crf mbtree=1 crf=23.0 qcomp=0.60 qpmin=0 qpmax=69 qpstep=4 ip_ratio=1.40 aq=1:1.00\n",
      "Output #0, mp4, to '/home/irmak/Workspace/Holo-Bot/deployment_data/box_handle_lifting/demonstration_10cm_forward_start/visualization.mp4':\n",
      "  Metadata:\n",
      "    encoder         : Lavf59.27.100\n",
      "  Stream #0:0: Video: h264 (avc1 / 0x31637661), yuv444p(tv, progressive), 2000x720 [SAR 1:1 DAR 25:9], q=2-31, 10 fps, 10240 tbn\n",
      "    Metadata:\n",
      "      encoder         : Lavc59.37.100 libx264\n",
      "    Side data:\n",
      "      cpb: bitrate max/min/avg: 0/0/0 buffer size: 0 vbv_delay: N/A\n",
      "frame=  307 fps=115 q=-1.0 Lsize=    6799kB time=00:00:30.40 bitrate=1832.2kbits/s speed=11.3x    \n",
      "video:6795kB audio:0kB subtitle:0kB other streams:0kB global headers:0kB muxing overhead: 0.066816%\n",
      "[libx264 @ 0x5568f68cdd80] frame I:2     Avg QP:19.07  size: 94792\n",
      "[libx264 @ 0x5568f68cdd80] frame P:77    Avg QP:18.88  size: 43788\n",
      "[libx264 @ 0x5568f68cdd80] frame B:228   Avg QP:21.94  size: 14894\n",
      "[libx264 @ 0x5568f68cdd80] consecutive B-frames:  1.0%  0.0%  0.0% 99.0%\n",
      "[libx264 @ 0x5568f68cdd80] mb I  I16..4: 21.8% 55.2% 23.0%\n",
      "[libx264 @ 0x5568f68cdd80] mb P  I16..4:  1.7% 14.7%  0.4%  P16..4: 25.1% 13.9%  9.4%  0.0%  0.0%    skip:34.7%\n",
      "[libx264 @ 0x5568f68cdd80] mb B  I16..4:  0.7%  7.3%  0.0%  B16..8: 25.6%  4.9%  1.2%  direct: 3.2%  skip:57.1%  L0:49.1% L1:43.7% BI: 7.2%\n",
      "[libx264 @ 0x5568f68cdd80] 8x8 transform intra:87.4% inter:85.9%\n",
      "[libx264 @ 0x5568f68cdd80] coded y,u,v intra: 67.1% 31.0% 28.4% inter: 18.3% 9.1% 8.7%\n",
      "[libx264 @ 0x5568f68cdd80] i16 v,h,dc,p: 32% 25% 30% 13%\n",
      "[libx264 @ 0x5568f68cdd80] i8 v,h,dc,ddl,ddr,vr,hd,vl,hu: 14% 18% 56%  2%  2%  2%  2%  2%  3%\n",
      "[libx264 @ 0x5568f68cdd80] i4 v,h,dc,ddl,ddr,vr,hd,vl,hu: 39% 28% 13%  3%  3%  4%  4%  3%  4%\n",
      "[libx264 @ 0x5568f68cdd80] Weighted P-Frames: Y:0.0% UV:0.0%\n",
      "[libx264 @ 0x5568f68cdd80] ref P L0: 37.3%  8.1% 34.7% 19.8%\n",
      "[libx264 @ 0x5568f68cdd80] ref B L0: 62.0% 29.9%  8.2%\n",
      "[libx264 @ 0x5568f68cdd80] ref B L1: 85.5% 14.5%\n",
      "[libx264 @ 0x5568f68cdd80] kb/s:1812.95\n",
      "ffmpeg version 5.1.2 Copyright (c) 2000-2022 the FFmpeg developers\n",
      "  built with gcc 10.4.0 (conda-forge gcc 10.4.0-18)\n",
      "  configuration: --prefix=/home/irmak/miniconda3/envs/tactile_learning --cc=/home/conda/feedstock_root/build_artifacts/ffmpeg_1666357487580/_build_env/bin/x86_64-conda-linux-gnu-cc --cxx=/home/conda/feedstock_root/build_artifacts/ffmpeg_1666357487580/_build_env/bin/x86_64-conda-linux-gnu-c++ --nm=/home/conda/feedstock_root/build_artifacts/ffmpeg_1666357487580/_build_env/bin/x86_64-conda-linux-gnu-nm --ar=/home/conda/feedstock_root/build_artifacts/ffmpeg_1666357487580/_build_env/bin/x86_64-conda-linux-gnu-ar --disable-doc --disable-openssl --enable-demuxer=dash --enable-hardcoded-tables --enable-libfreetype --enable-libfontconfig --enable-libopenh264 --enable-gnutls --enable-libmp3lame --enable-libvpx --enable-pthreads --enable-vaapi --enable-gpl --enable-libx264 --enable-libx265 --enable-libaom --enable-libsvtav1 --enable-libxml2 --enable-pic --enable-shared --disable-static --enable-version3 --enable-zlib --pkg-config=/home/conda/feedstock_root/build_artifacts/ffmpeg_1666357487580/_build_env/bin/pkg-config\n",
      "  libavutil      57. 28.100 / 57. 28.100\n",
      "  libavcodec     59. 37.100 / 59. 37.100\n",
      "  libavformat    59. 27.100 / 59. 27.100\n",
      "  libavdevice    59.  7.100 / 59.  7.100\n",
      "  libavfilter     8. 44.100 /  8. 44.100\n",
      "  libswscale      6.  7.100 /  6.  7.100\n",
      "  libswresample   4.  7.100 /  4.  7.100\n",
      "  libpostproc    56.  6.100 / 56.  6.100\n",
      "[image2 @ 0x5587fe751640] Pattern type 'glob_sequence' is deprecated: use pattern_type 'glob' instead\n",
      "Input #0, image2, from '/home/irmak/Workspace/Holo-Bot/deployment_data/box_handle_lifting/demonstration_10cm_left_start/visualization/%*.png':\n",
      "  Duration: 00:00:08.68, start: 0.000000, bitrate: N/A\n",
      "  Stream #0:0: Video: png, rgba(pc), 2000x2000 [SAR 3937:3937 DAR 1:1], 25 fps, 25 tbr, 25 tbn\n",
      "Stream mapping:\n",
      "  Stream #0:0 -> #0:0 (png (native) -> h264 (libx264))\n",
      "Press [q] to stop, [?] for help\n"
     ]
    },
    {
     "name": "stdout",
     "output_type": "stream",
     "text": [
      "dumping video in root: /home/irmak/Workspace/Holo-Bot/deployment_data/box_handle_lifting/demonstration_10cm_left_start\n"
     ]
    },
    {
     "name": "stderr",
     "output_type": "stream",
     "text": [
      "[libx264 @ 0x5587fe75fd80] using SAR=1/1\n",
      "[libx264 @ 0x5587fe75fd80] using cpu capabilities: MMX2 SSE2Fast SSSE3 SSE4.2 AVX FMA3 BMI2 AVX2\n",
      "[libx264 @ 0x5587fe75fd80] profile High 4:4:4 Predictive, level 4.0, 4:4:4, 8-bit\n",
      "[libx264 @ 0x5587fe75fd80] 264 - core 164 r3095 baee400 - H.264/MPEG-4 AVC codec - Copyleft 2003-2022 - http://www.videolan.org/x264.html - options: cabac=1 ref=3 deblock=1:0:0 analyse=0x3:0x113 me=hex subme=7 psy=1 psy_rd=1.00:0.00 mixed_ref=1 me_range=16 chroma_me=1 trellis=1 8x8dct=1 cqm=0 deadzone=21,11 fast_pskip=1 chroma_qp_offset=4 threads=22 lookahead_threads=3 sliced_threads=0 nr=0 decimate=1 interlaced=0 bluray_compat=0 constrained_intra=0 bframes=3 b_pyramid=2 b_adapt=1 b_bias=0 direct=1 weightb=1 open_gop=0 weightp=2 keyint=250 keyint_min=10 scenecut=40 intra_refresh=0 rc_lookahead=40 rc=crf mbtree=1 crf=23.0 qcomp=0.60 qpmin=0 qpmax=69 qpstep=4 ip_ratio=1.40 aq=1:1.00\n",
      "Output #0, mp4, to '/home/irmak/Workspace/Holo-Bot/deployment_data/box_handle_lifting/demonstration_10cm_left_start/visualization.mp4':\n",
      "  Metadata:\n",
      "    encoder         : Lavf59.27.100\n",
      "  Stream #0:0: Video: h264 (avc1 / 0x31637661), yuv444p(tv, progressive), 2000x720 [SAR 1:1 DAR 25:9], q=2-31, 10 fps, 10240 tbn\n",
      "    Metadata:\n",
      "      encoder         : Lavc59.37.100 libx264\n",
      "    Side data:\n",
      "      cpb: bitrate max/min/avg: 0/0/0 buffer size: 0 vbv_delay: N/A\n",
      "frame=  217 fps=104 q=-1.0 Lsize=    4920kB time=00:00:21.40 bitrate=1883.4kbits/s speed=10.2x    \n",
      "video:4916kB audio:0kB subtitle:0kB other streams:0kB global headers:0kB muxing overhead: 0.070414%\n",
      "[libx264 @ 0x5587fe75fd80] frame I:1     Avg QP:22.69  size: 51271\n",
      "[libx264 @ 0x5587fe75fd80] frame P:56    Avg QP:19.01  size: 45195\n",
      "[libx264 @ 0x5587fe75fd80] frame B:160   Avg QP:22.05  size: 15322\n",
      "[libx264 @ 0x5587fe75fd80] consecutive B-frames:  1.4%  0.9%  0.0% 97.7%\n",
      "[libx264 @ 0x5587fe75fd80] mb I  I16..4: 27.2% 43.9% 28.9%\n",
      "[libx264 @ 0x5587fe75fd80] mb P  I16..4:  1.7% 17.0%  0.5%  P16..4: 24.2% 13.3%  9.1%  0.0%  0.0%    skip:34.1%\n",
      "[libx264 @ 0x5587fe75fd80] mb B  I16..4:  0.7%  6.9%  0.0%  B16..8: 26.2%  5.1%  1.2%  direct: 3.5%  skip:56.4%  L0:49.3% L1:42.8% BI: 7.8%\n",
      "[libx264 @ 0x5587fe75fd80] 8x8 transform intra:87.7% inter:85.5%\n",
      "[libx264 @ 0x5587fe75fd80] coded y,u,v intra: 67.8% 31.3% 28.7% inter: 18.8% 9.2% 8.9%\n",
      "[libx264 @ 0x5587fe75fd80] i16 v,h,dc,p: 31% 26% 30% 12%\n",
      "[libx264 @ 0x5587fe75fd80] i8 v,h,dc,ddl,ddr,vr,hd,vl,hu: 14% 18% 56%  2%  2%  2%  2%  2%  3%\n",
      "[libx264 @ 0x5587fe75fd80] i4 v,h,dc,ddl,ddr,vr,hd,vl,hu: 35% 29% 14%  3%  4%  4%  4%  3%  4%\n",
      "[libx264 @ 0x5587fe75fd80] Weighted P-Frames: Y:0.0% UV:0.0%\n",
      "[libx264 @ 0x5587fe75fd80] ref P L0: 36.8%  9.1% 33.8% 20.3%\n",
      "[libx264 @ 0x5587fe75fd80] ref B L0: 61.7% 30.2%  8.2%\n",
      "[libx264 @ 0x5587fe75fd80] ref B L1: 86.3% 13.7%\n",
      "[libx264 @ 0x5587fe75fd80] kb/s:1855.77\n",
      "ffmpeg version 5.1.2 Copyright (c) 2000-2022 the FFmpeg developers\n",
      "  built with gcc 10.4.0 (conda-forge gcc 10.4.0-18)\n",
      "  configuration: --prefix=/home/irmak/miniconda3/envs/tactile_learning --cc=/home/conda/feedstock_root/build_artifacts/ffmpeg_1666357487580/_build_env/bin/x86_64-conda-linux-gnu-cc --cxx=/home/conda/feedstock_root/build_artifacts/ffmpeg_1666357487580/_build_env/bin/x86_64-conda-linux-gnu-c++ --nm=/home/conda/feedstock_root/build_artifacts/ffmpeg_1666357487580/_build_env/bin/x86_64-conda-linux-gnu-nm --ar=/home/conda/feedstock_root/build_artifacts/ffmpeg_1666357487580/_build_env/bin/x86_64-conda-linux-gnu-ar --disable-doc --disable-openssl --enable-demuxer=dash --enable-hardcoded-tables --enable-libfreetype --enable-libfontconfig --enable-libopenh264 --enable-gnutls --enable-libmp3lame --enable-libvpx --enable-pthreads --enable-vaapi --enable-gpl --enable-libx264 --enable-libx265 --enable-libaom --enable-libsvtav1 --enable-libxml2 --enable-pic --enable-shared --disable-static --enable-version3 --enable-zlib --pkg-config=/home/conda/feedstock_root/build_artifacts/ffmpeg_1666357487580/_build_env/bin/pkg-config\n",
      "  libavutil      57. 28.100 / 57. 28.100\n",
      "  libavcodec     59. 37.100 / 59. 37.100\n",
      "  libavformat    59. 27.100 / 59. 27.100\n",
      "  libavdevice    59.  7.100 / 59.  7.100\n",
      "  libavfilter     8. 44.100 /  8. 44.100\n",
      "  libswscale      6.  7.100 /  6.  7.100\n",
      "  libswresample   4.  7.100 /  4.  7.100\n",
      "  libpostproc    56.  6.100 / 56.  6.100\n",
      "[image2 @ 0x556f5aad5640] Pattern type 'glob_sequence' is deprecated: use pattern_type 'glob' instead\n",
      "Input #0, image2, from '/home/irmak/Workspace/Holo-Bot/deployment_data/box_handle_lifting/demonstration_10cm_right_start/visualization/%*.png':\n",
      "  Duration: 00:00:04.12, start: 0.000000, bitrate: N/A\n",
      "  Stream #0:0: Video: png, rgba(pc), 2000x2000 [SAR 3937:3937 DAR 1:1], 25 fps, 25 tbr, 25 tbn\n",
      "Stream mapping:\n",
      "  Stream #0:0 -> #0:0 (png (native) -> h264 (libx264))\n",
      "Press [q] to stop, [?] for help\n"
     ]
    },
    {
     "name": "stdout",
     "output_type": "stream",
     "text": [
      "dumping video in root: /home/irmak/Workspace/Holo-Bot/deployment_data/box_handle_lifting/demonstration_10cm_right_start\n"
     ]
    },
    {
     "name": "stderr",
     "output_type": "stream",
     "text": [
      "[libx264 @ 0x556f5aaf3a00] using SAR=1/1\n",
      "[libx264 @ 0x556f5aaf3a00] using cpu capabilities: MMX2 SSE2Fast SSSE3 SSE4.2 AVX FMA3 BMI2 AVX2\n",
      "[libx264 @ 0x556f5aaf3a00] profile High 4:4:4 Predictive, level 4.0, 4:4:4, 8-bit\n",
      "[libx264 @ 0x556f5aaf3a00] 264 - core 164 r3095 baee400 - H.264/MPEG-4 AVC codec - Copyleft 2003-2022 - http://www.videolan.org/x264.html - options: cabac=1 ref=3 deblock=1:0:0 analyse=0x3:0x113 me=hex subme=7 psy=1 psy_rd=1.00:0.00 mixed_ref=1 me_range=16 chroma_me=1 trellis=1 8x8dct=1 cqm=0 deadzone=21,11 fast_pskip=1 chroma_qp_offset=4 threads=22 lookahead_threads=3 sliced_threads=0 nr=0 decimate=1 interlaced=0 bluray_compat=0 constrained_intra=0 bframes=3 b_pyramid=2 b_adapt=1 b_bias=0 direct=1 weightb=1 open_gop=0 weightp=2 keyint=250 keyint_min=10 scenecut=40 intra_refresh=0 rc_lookahead=40 rc=crf mbtree=1 crf=23.0 qcomp=0.60 qpmin=0 qpmax=69 qpstep=4 ip_ratio=1.40 aq=1:1.00\n",
      "Output #0, mp4, to '/home/irmak/Workspace/Holo-Bot/deployment_data/box_handle_lifting/demonstration_10cm_right_start/visualization.mp4':\n",
      "  Metadata:\n",
      "    encoder         : Lavf59.27.100\n",
      "  Stream #0:0: Video: h264 (avc1 / 0x31637661), yuv444p(tv, progressive), 2000x720 [SAR 1:1 DAR 25:9], q=2-31, 10 fps, 10240 tbn\n",
      "    Metadata:\n",
      "      encoder         : Lavc59.37.100 libx264\n",
      "    Side data:\n",
      "      cpb: bitrate max/min/avg: 0/0/0 buffer size: 0 vbv_delay: N/A\n",
      "frame=  103 fps= 74 q=-1.0 Lsize=    2384kB time=00:00:10.00 bitrate=1952.6kbits/s speed=7.21x    \n",
      "video:2381kB audio:0kB subtitle:0kB other streams:0kB global headers:0kB muxing overhead: 0.087960%\n",
      "[libx264 @ 0x556f5aaf3a00] frame I:1     Avg QP:22.43  size: 50802\n",
      "[libx264 @ 0x556f5aaf3a00] frame P:26    Avg QP:19.15  size: 45625\n",
      "[libx264 @ 0x556f5aaf3a00] frame B:76    Avg QP:21.88  size: 15801\n",
      "[libx264 @ 0x556f5aaf3a00] consecutive B-frames:  1.0%  1.9%  0.0% 97.1%\n",
      "[libx264 @ 0x556f5aaf3a00] mb I  I16..4: 28.4% 43.0% 28.6%\n",
      "[libx264 @ 0x556f5aaf3a00] mb P  I16..4:  2.2% 19.4%  0.8%  P16..4: 22.7% 12.5%  8.5%  0.0%  0.0%    skip:33.9%\n",
      "[libx264 @ 0x556f5aaf3a00] mb B  I16..4:  0.7%  8.1%  0.1%  B16..8: 24.4%  4.7%  1.2%  direct: 3.9%  skip:56.9%  L0:46.8% L1:44.8% BI: 8.4%\n",
      "[libx264 @ 0x556f5aaf3a00] 8x8 transform intra:85.7% inter:85.9%\n",
      "[libx264 @ 0x556f5aaf3a00] coded y,u,v intra: 66.4% 30.8% 28.2% inter: 18.7% 9.6% 9.0%\n",
      "[libx264 @ 0x556f5aaf3a00] i16 v,h,dc,p: 33% 29% 24% 14%\n",
      "[libx264 @ 0x556f5aaf3a00] i8 v,h,dc,ddl,ddr,vr,hd,vl,hu: 15% 19% 52%  2%  2%  2%  2%  2%  3%\n",
      "[libx264 @ 0x556f5aaf3a00] i4 v,h,dc,ddl,ddr,vr,hd,vl,hu: 37% 33% 13%  2%  3%  3%  4%  2%  4%\n",
      "[libx264 @ 0x556f5aaf3a00] Weighted P-Frames: Y:0.0% UV:0.0%\n",
      "[libx264 @ 0x556f5aaf3a00] ref P L0: 35.6% 11.4% 34.9% 18.2%\n",
      "[libx264 @ 0x556f5aaf3a00] ref B L0: 64.8% 27.9%  7.3%\n",
      "[libx264 @ 0x556f5aaf3a00] ref B L1: 86.4% 13.6%\n",
      "[libx264 @ 0x556f5aaf3a00] kb/s:1893.52\n"
     ]
    }
   ],
   "source": [
    "# Turn the images to a video and delete the directory\n",
    "video_fps = 10\n",
    "for root in roots:\n",
    "    print('dumping video in root: {}'.format(root))\n",
    "    video_path = os.path.join(root, 'visualization.mp4')\n",
    "    if os.path.exists(video_path):\n",
    "        os.remove(video_path)\n",
    "    viz_dir = os.path.join(root, 'visualization')\n",
    "    os.system('ffmpeg -r {} -i {}/%*.png -vf scale=2000x720,setsar=1:1 {}'.format(\n",
    "        video_fps, # fps\n",
    "        viz_dir,\n",
    "        video_path\n",
    "    ))\n"
   ]
  },
  {
   "cell_type": "code",
   "execution_count": null,
   "metadata": {},
   "outputs": [],
   "source": []
  },
  {
   "cell_type": "code",
   "execution_count": null,
   "metadata": {},
   "outputs": [],
   "source": [
    "# Remove the img directory\n",
    "\n",
    "for root in roots:\n",
    "    viz_dir = os.path.join(root, 'visualization')\n",
    "    shutil.rmtree(viz_dir)\n"
   ]
  },
  {
   "cell_type": "code",
   "execution_count": null,
   "metadata": {},
   "outputs": [],
   "source": []
  }
 ],
 "metadata": {
  "kernelspec": {
   "display_name": "Python 3.9.13 ('tactile_learning')",
   "language": "python",
   "name": "python3"
  },
  "language_info": {
   "codemirror_mode": {
    "name": "ipython",
    "version": 3
   },
   "file_extension": ".py",
   "mimetype": "text/x-python",
   "name": "python",
   "nbconvert_exporter": "python",
   "pygments_lexer": "ipython3",
   "version": "3.9.13"
  },
  "orig_nbformat": 4,
  "vscode": {
   "interpreter": {
    "hash": "36852de55b288c46ba617fd48cf310240e4201e2f57004cbdac030fa23152bd3"
   }
  }
 },
 "nbformat": 4,
 "nbformat_minor": 2
}
