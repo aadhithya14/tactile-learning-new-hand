{
 "cells": [
  {
   "cell_type": "code",
   "execution_count": 46,
   "metadata": {},
   "outputs": [],
   "source": [
    "import cv2\n",
    "import h5py\n",
    "import matplotlib.pyplot as plt\n",
    "import numpy as np\n",
    "import os\n",
    "import pickle\n",
    "import shutil\n",
    "\n",
    "from tqdm import tqdm"
   ]
  },
  {
   "cell_type": "code",
   "execution_count": 47,
   "metadata": {},
   "outputs": [],
   "source": [
    "from tactile_learning.datasets.preprocess import dump_video_to_images, get_closest_id\n",
    "from tactile_learning.utils.visualization import plot_tactile_sensor"
   ]
  },
  {
   "cell_type": "code",
   "execution_count": 48,
   "metadata": {},
   "outputs": [],
   "source": [
    "import decimal\n",
    "\n",
    "# Get the metadata of images and tactile information\n",
    "def get_desired_indices(root, fps): # frames per second from the video to receive\n",
    "    image_metadata_path = os.path.join(root, 'cam_0_rgb_video.metadata')\n",
    "    tactile_info_path = os.path.join(root, 'touch_sensor_values.h5')\n",
    "\n",
    "    with open(image_metadata_path, 'rb') as f:\n",
    "        image_metadata = pickle.load(f)\n",
    "        image_timestamps_array = np.asarray(image_metadata['timestamps'])\n",
    "        image_timestamps = np.asarray(image_metadata['timestamps']) / 1000.\n",
    "    with h5py.File(tactile_info_path, 'r') as f:\n",
    "        tactile_timestamps = f['timestamps'][()]\n",
    "\n",
    "    image_id, tactile_id = 0, 0\n",
    "    curr_timestamp = tactile_timestamps[0] # These timestamps are in seconds\n",
    "    image_id = get_closest_id(image_id, curr_timestamp, image_timestamps)\n",
    "\n",
    "    tactile_indices, image_indices = [], []\n",
    "    tactile_indices.append(tactile_id)\n",
    "    image_indices.append(image_id)\n",
    "\n",
    "    frame_period = 1. / fps\n",
    "    while(True):\n",
    "        curr_timestamp += frame_period\n",
    "        tactile_id = get_closest_id(tactile_id, curr_timestamp, tactile_timestamps)\n",
    "        image_id = get_closest_id(image_id, curr_timestamp, image_timestamps)\n",
    "\n",
    "        if curr_timestamp > tactile_timestamps[tactile_id] and curr_timestamp > image_timestamps[image_id]:\n",
    "            break\n",
    "\n",
    "        tactile_indices.append(tactile_id)\n",
    "        image_indices.append(image_id)\n",
    "\n",
    "    assert len(tactile_indices) == len(image_indices)\n",
    "    return tactile_indices, image_indices\n"
   ]
  },
  {
   "cell_type": "code",
   "execution_count": 49,
   "metadata": {},
   "outputs": [],
   "source": [
    "\n",
    "def dump_states(root, tactile_indices, image_indices):\n",
    "    # Make directory to dump the visualization\n",
    "    pbar = tqdm(total=len(tactile_indices))\n",
    "\n",
    "    with h5py.File(os.path.join(root, 'touch_sensor_values.h5'), 'r') as f:\n",
    "        all_tactile_values = f['sensor_values'][()]\n",
    "\n",
    "    viz_dir = os.path.join(root, 'visualization')\n",
    "    os.makedirs(viz_dir, exist_ok=True)\n",
    "    \n",
    "    video_path = os.path.join(root, f'cam_0_rgb_video.avi')\n",
    "    vidcap = cv2.VideoCapture(video_path)\n",
    "    success, image = vidcap.read()\n",
    "    frame_count = int(vidcap.get(cv2.CAP_PROP_FRAME_COUNT))\n",
    "    frame_id = 0\n",
    "    for i in range(len(tactile_indices)):\n",
    "        tactile_id, image_id = tactile_indices[i], image_indices[i]\n",
    "        while frame_id != image_id and success:\n",
    "            # Find the frame that is equal to image_id\n",
    "            success, image = vidcap.read()\n",
    "            frame_id += 1\n",
    "        dump_demo_state(\n",
    "            frame_id = i,\n",
    "            viz_dir = viz_dir,\n",
    "            tactile_values = all_tactile_values[tactile_id,:,:,:],\n",
    "            camera_img = image\n",
    "        )\n",
    "\n",
    "        pbar.update(1)\n",
    "\n",
    "    pbar.close()\n",
    "\n",
    "def dump_demo_state(frame_id, viz_dir, tactile_values, camera_img):\n",
    "    # tactile_values: (15,16,3)\n",
    "    fig, axs = plt.subplots(figsize=(20,20), nrows=4, ncols=4)\n",
    "    for row_id in range(4):\n",
    "        for column_id in range(4):\n",
    "            if row_id + column_id > 0: # The top left axis should stay empty\n",
    "                plot_tactile_sensor(\n",
    "                    ax = axs[column_id][row_id],\n",
    "                    sensor_values = tactile_values[row_id*4 + column_id-1],\n",
    "                    title = f'Sensor {row_id*4+column_id-1}'\n",
    "                )\n",
    "    fig.suptitle('Tactile State')\n",
    "    fig.savefig(os.path.join(viz_dir, 'Tactile State.png'))\n",
    "    fig.clf()\n",
    "    plt.close()\n",
    "\n",
    "    tactile_img = cv2.imread(os.path.join(viz_dir, 'Tactile State.png'))\n",
    "    height_scale = camera_img.shape[0] / tactile_img.shape[0]\n",
    "    tactile_img = cv2.resize(\n",
    "        tactile_img,\n",
    "        (int(tactile_img.shape[1] * height_scale),\n",
    "         int(tactile_img.shape[0] * height_scale))\n",
    "    )\n",
    "    total_img = cv2.hconcat([camera_img, tactile_img])\n",
    "\n",
    "    img_name = 'state_{}.png'.format(str(frame_id).zfill(3))\n",
    "    cv2.imwrite(os.path.join(viz_dir, img_name), total_img)\n",
    "\n"
   ]
  },
  {
   "cell_type": "code",
   "execution_count": 50,
   "metadata": {},
   "outputs": [
    {
     "name": "stdout",
     "output_type": "stream",
     "text": [
      "tactile_indices: [0, 51, 100, 150, 199, 249, 298, 347, 396, 445, 494, 544, 591, 641, 689, 738, 788, 836, 893, 935, 991, 1035, 1086, 1133, 1190, 1239, 1282, 1330, 1381, 1430, 1479, 1529, 1578, 1626, 1675, 1725, 1775, 1824, 1872, 1922, 1971, 2020, 2069, 2119, 2168, 2217, 2266, 2317, 2364, 2414, 2463, 2513, 2563, 2612, 2660, 2710, 2758, 2809, 2857, 2907, 2955, 3004, 3053, 3104, 3153, 3201, 3249, 3299, 3348, 3397, 3447, 3495, 3545, 3595, 3644, 3693, 3743, 3791, 3841, 3889, 3939, 3988, 4037, 4087, 4135, 4184, 4233, 4282, 4331, 4381, 4431, 4480, 4530, 4579, 4629, 4677, 4726, 4777, 4827, 4874, 4924, 4972, 5022, 5070, 5120, 5169, 5219, 5267, 5317, 5365, 5417, 5465, 5513, 5562, 5612, 5661, 5710, 5759, 5809, 5858, 5907, 5957, 6005, 6055, 6103, 6154, 6202, 6251, 6300, 6348, 6398, 6446, 6497, 6545, 6595, 6643, 6692, 6742, 6791, 6840, 6889, 6938, 6987, 7037, 7087, 7134, 7185, 7233, 7283, 7331, 7380, 7430, 7478, 7528, 7578, 7625, 7676, 7724, 7775, 7823, 7873, 7922, 7971, 8028, 8070, 8118, 8168, 8217, 8266, 8315, 8365, 8413, 8463, 8512, 8562, 8610, 8660, 8708, 8759, 8809, 8857, 8906, 8955, 9006, 9054, 9104, 9154, 9202, 9251, 9300, 9351, 9399, 9449, 9496, 9547, 9595, 9645, 9695, 9744, 9793, 9842, 9891, 9941, 9990, 10039, 10088, 10144, 10187, 10237, 10285, 10335, 10384, 10434, 10482, 10531, 10580, 10630, 10678, 10728, 10777, 10827, 10875, 10924, 10974, 11023, 11072, 11121, 11170, 11220, 11269, 11317, 11366, 11415, 11466, 11513, 11564, 11613, 11663, 11710, 11761, 11809, 11859, 11908, 11958, 12007, 12057, 12105, 12155, 12204, 12254, 12302, 12352, 12400, 12451, 12499, 12549, 12598, 12648, 12696, 12745, 12795, 12844, 12893, 12942, 12991, 13040, 13090, 13138, 13188, 13237, 13288, 13336, 13386, 13436, 13485, 13533, 13583, 13631, 13681, 13731, 13781, 13829, 13879, 13927, 13977, 14026, 14077, 14124, 14174, 14223, 14271, 14321, 14371, 14419, 14470, 14518, 14566, 14615, 14664, 14714, 14763, 14813, 14861, 14911, 14960, 15008, 15064, 15108, 15156, 15205, 15255, 15304, 15354, 15402, 15452, 15500, 15550, 15598, 15648, 15697, 15746, 15795, 15844, 15893, 15943, 15992, 16042, 16090, 16140, 16189, 16238, 16288, 16337, 16385, 16436, 16484, 16534, 16583, 16631, 16681, 16728, 16779, 16827, 16877, 16926, 16974, 17025, 17073, 17122, 17178, 17222, 17270, 17319, 17368, 17418, 17466, 17517, 17565, 17614, 17663, 17714, 17762, 17812, 17860, 17911, 17959, 18009, 18057, 18105, 18155, 18205, 18255, 18303, 18352, 18401, 18451, 18499, 18549, 18598, 18647, 18695, 18746, 18794, 18843, 18892, 18942, 18990, 19040, 19089, 19140, 19187, 19237, 19286, 19336, 19383, 19433, 19481, 19531, 19579, 19629, 19677, 19727, 19777, 19827, 19875, 19925, 19973, 20024, 20072, 20121, 20171, 20220, 20268, 20318, 20367, 20416, 20466, 20513, 20563, 20612, 20662, 20710, 20760, 20809, 20858, 20907, 20958, 21006, 21056, 21105, 21154, 21204, 21254, 21302, 21351, 21401, 21450, 21499, 21548, 21597, 21645, 21696, 21744, 21794, 21843, 21892, 21941, 21990, 22040, 22093, 22137, 22187, 22234, 22285, 22334, 22383, 22432, 22482, 22530, 22581, 22629, 22679, 22728, 22778, 22827, 22875, 22924, 22974, 23023, 23073, 23121, 23171, 23219, 23269, 23318, 23368, 23416, 23466, 23515, 23566, 23613, 23663, 23711, 23760, 23809, 23858, 23907, 23958, 24006, 24054, 24103, 24154, 24205, 24252, 24300, 24350, 24398, 24448, 24496, 24547, 24595, 24645, 24693, 24743, 24792, 24841, 24891, 24939, 24989, 25038, 25087, 25135, 25186, 25235, 25284, 25333, 25382, 25430, 25480, 25528, 25578, 25627, 25676, 25725, 25775, 25824, 25874, 25923, 25970, 26020, 26069, 26119, 26168, 26216, 26266, 26317, 26364, 26412, 26461, 26513, 26560, 26610, 26659, 26708, 26757, 26807, 26855, 26905, 26954, 27004, 27053, 27102, 27151, 27202, 27250, 27299, 27348, 27398, 27446, 27496, 27544, 27594, 27643, 27693, 27741, 27792, 27839, 27889, 27938, 27987, 28037, 28084, 28135, 28183, 28233, 28281, 28332, 28379, 28430, 28477, 28527, 28575, 28626, 28673, 28724, 28772, 28821, 28870, 28919, 28968, 29018, 29066, 29121, 29164, 29214, 29263, 29311, 29361, 29409, 29459, 29506, 29556, 29606, 29655, 29705, 29753, 29803, 29851, 29902, 29950, 30000, 30048, 30098, 30146, 30197, 30246, 30294, 30344, 30394, 30443, 30491, 30541, 30589, 30640, 30687, 30737, 30786, 30836, 30885, 30934, 30989, 31042, 31090, 31133, 31181, 31234, 31278, 31328, 31378, 31427, 31477, 31526, 31576, 31624, 31675, 31723, 31773, 31822, 31872, 31919, 31970, 32017, 32068, 32116, 32166, 32214, 32264, 32313, 32363, 32411, 32461, 32509, 32559, 32607, 32656, 32705, 32754, 32803, 32853, 32901, 32951, 32999, 33048, 33096, 33146, 33195, 33244, 33294, 33344, 33392, 33441, 33490, 33540, 33589, 33638, 33686, 33736, 33785, 33834, 33883, 33933, 33982, 34031, 34080, 34129, 34180, 34227, 34276, 34326, 34374, 34424, 34473, 34522, 34572, 34622, 34670, 34719, 34768, 34817, 34867, 34916, 34965, 35015, 35063, 35113, 35162, 35211, 35260, 35311, 35359, 35409, 35458, 35506, 35556, 35604, 35654, 35703, 35753, 35801, 35851, 35899, 35949, 35997, 36047, 36095, 36145, 36193, 36243, 36291, 36342, 36390, 36441, 36488], image_indices: [70, 85, 100, 115, 130, 145, 160, 175, 189, 204, 219, 234, 249, 264, 279, 294, 309, 324, 339, 353, 368, 383, 398, 413, 428, 443, 458, 473, 488, 503, 518, 533, 548, 563, 578, 593, 608, 623, 638, 653, 668, 683, 698, 713, 728, 743, 758, 773, 788, 803, 818, 833, 848, 863, 877, 892, 907, 922, 937, 952, 967, 982, 997, 1012, 1027, 1042, 1057, 1072, 1087, 1102, 1117, 1132, 1147, 1162, 1176, 1191, 1206, 1221, 1236, 1251, 1266, 1281, 1296, 1311, 1326, 1341, 1356, 1371, 1386, 1401, 1416, 1431, 1446, 1461, 1476, 1491, 1506, 1521, 1536, 1551, 1566, 1581, 1596, 1611, 1626, 1641, 1656, 1671, 1686, 1701, 1716, 1731, 1746, 1761, 1775, 1790, 1805, 1820, 1835, 1849, 1864, 1879, 1894, 1909, 1924, 1939, 1954, 1969, 1983, 1998, 2013, 2028, 2043, 2058, 2073, 2088, 2103, 2118, 2133, 2148, 2163, 2178, 2193, 2208, 2223, 2238, 2253, 2268, 2283, 2298, 2313, 2328, 2343, 2358, 2373, 2387, 2402, 2417, 2432, 2447, 2462, 2477, 2492, 2507, 2522, 2537, 2552, 2567, 2582, 2597, 2612, 2627, 2642, 2657, 2672, 2687, 2702, 2717, 2732, 2747, 2762, 2777, 2792, 2807, 2821, 2836, 2851, 2866, 2880, 2895, 2910, 2925, 2940, 2955, 2970, 2985, 3000, 3015, 3030, 3044, 3059, 3074, 3089, 3104, 3119, 3134, 3149, 3164, 3179, 3194, 3209, 3224, 3239, 3254, 3269, 3284, 3299, 3314, 3327, 3342, 3357, 3372, 3387, 3402, 3417, 3432, 3447, 3462, 3476, 3491, 3506, 3521, 3536, 3551, 3566, 3581, 3596, 3611, 3626, 3641, 3656, 3671, 3686, 3701, 3716, 3730, 3744, 3759, 3774, 3789, 3804, 3819, 3834, 3849, 3864, 3879, 3894, 3909, 3924, 3939, 3954, 3969, 3984, 3999, 4013, 4027, 4042, 4057, 4072, 4086, 4101, 4116, 4131, 4146, 4161, 4176, 4191, 4206, 4221, 4236, 4251, 4266, 4281, 4296, 4311, 4326, 4341, 4356, 4371, 4385, 4400, 4415, 4430, 4445, 4460, 4475, 4490, 4505, 4520, 4535, 4550, 4565, 4580, 4595, 4610, 4625, 4640, 4655, 4670, 4685, 4700, 4715, 4730, 4745, 4760, 4775, 4790, 4805, 4819, 4834, 4849, 4864, 4879, 4894, 4909, 4924, 4939, 4954, 4969, 4984, 4999, 5014, 5029, 5044, 5059, 5074, 5089, 5104, 5119, 5134, 5149, 5164, 5179, 5194, 5209, 5224, 5239, 5254, 5269, 5284, 5299, 5313, 5328, 5343, 5358, 5372, 5387, 5402, 5417, 5432, 5447, 5462, 5477, 5492, 5507, 5522, 5537, 5552, 5567, 5582, 5597, 5612, 5627, 5642, 5657, 5671, 5685, 5700, 5715, 5730, 5745, 5760, 5775, 5789, 5804, 5819, 5834, 5849, 5864, 5879, 5894, 5909, 5924, 5939, 5954, 5969, 5984, 5999, 6014, 6029, 6044, 6059, 6074, 6089, 6104, 6119, 6134, 6149, 6164, 6179, 6194, 6209, 6224, 6239, 6254, 6269, 6284, 6299, 6313, 6328, 6343, 6358, 6373, 6388, 6402, 6417, 6432, 6447, 6462, 6477, 6492, 6507, 6522, 6537, 6552, 6567, 6582, 6597, 6612, 6627, 6642, 6657, 6672, 6687, 6702, 6717, 6731, 6746, 6761, 6776, 6791, 6806, 6821, 6836, 6851, 6866, 6881, 6896, 6911, 6926, 6941, 6956, 6971, 6986, 7001, 7015, 7029, 7044, 7059, 7074, 7089, 7104, 7119, 7134, 7149, 7164, 7179, 7194, 7209, 7224, 7239, 7254, 7269, 7284, 7299, 7314, 7329, 7344, 7359, 7374, 7389, 7403, 7418, 7433, 7448, 7463, 7478, 7493, 7508, 7523, 7538, 7552, 7567, 7582, 7597, 7611, 7626, 7641, 7656, 7671, 7686, 7701, 7716, 7731, 7746, 7761, 7776, 7791, 7805, 7820, 7835, 7850, 7865, 7880, 7895, 7910, 7925, 7939, 7954, 7969, 7984, 7999, 8014, 8029, 8044, 8059, 8074, 8089, 8104, 8119, 8134, 8149, 8164, 8179, 8194, 8209, 8224, 8239, 8254, 8269, 8284, 8299, 8314, 8329, 8344, 8359, 8374, 8389, 8404, 8419, 8434, 8449, 8464, 8479, 8494, 8509, 8524, 8539, 8554, 8569, 8584, 8599, 8614, 8629, 8644, 8659, 8674, 8689, 8704, 8719, 8734, 8749, 8764, 8779, 8794, 8809, 8824, 8839, 8854, 8869, 8884, 8899, 8914, 8929, 8944, 8959, 8974, 8989, 9003, 9018, 9033, 9048, 9063, 9078, 9093, 9108, 9123, 9138, 9153, 9168, 9183, 9198, 9213, 9228, 9243, 9258, 9273, 9287, 9301, 9316, 9331, 9346, 9361, 9376, 9391, 9405, 9420, 9435, 9450, 9465, 9480, 9495, 9510, 9525, 9540, 9555, 9570, 9585, 9600, 9615, 9630, 9645, 9660, 9675, 9690, 9705, 9720, 9735, 9750, 9765, 9780, 9795, 9810, 9825, 9840, 9855, 9870, 9885, 9900, 9915, 9930, 9945, 9960, 9975, 9990, 10005, 10020, 10035, 10050, 10064, 10079, 10093, 10108, 10123, 10138, 10153, 10168, 10183, 10198, 10213, 10228, 10243, 10257, 10272, 10287, 10302, 10317, 10332, 10347, 10362, 10377, 10392, 10406, 10421, 10436, 10451, 10466, 10480, 10495, 10510, 10525, 10540, 10555, 10570, 10585, 10600, 10615, 10630, 10645, 10660, 10675, 10689, 10704, 10719, 10734, 10749, 10764, 10779, 10793, 10808, 10823, 10838, 10853, 10868, 10883, 10898, 10913, 10928, 10943, 10958, 10973, 10988, 11003, 11018, 11033, 11048, 11063, 11077, 11092, 11107, 11122, 11137, 11152]\n"
     ]
    },
    {
     "name": "stderr",
     "output_type": "stream",
     "text": [
      "100%|███████████████████| 743/743 [13:56<00:00,  1.13s/it]\n"
     ]
    }
   ],
   "source": [
    "\n",
    "roots = [\n",
    "    # '/home/irmak/Workspace/Holo-Bot/extracted_data/tactile_play_data/demonstration_21',\n",
    "    '/home/irmak/Workspace/Holo-Bot/extracted_data/tactile_play_data/demonstration_35',\n",
    "]\n",
    "\n",
    "retrieval_fps = 2\n",
    "for root in roots:\n",
    "    # print('root: {}'.format(root))\n",
    "    tactile_indices, image_indices = get_desired_indices(root=root, fps=retrieval_fps)\n",
    "    print('tactile_indices: {}, image_indices: {}'.format(tactile_indices, image_indices))\n",
    "    dump_states(root, tactile_indices, image_indices)\n"
   ]
  },
  {
   "cell_type": "code",
   "execution_count": 51,
   "metadata": {},
   "outputs": [
    {
     "name": "stdout",
     "output_type": "stream",
     "text": [
      "dumping video in root: /home/irmak/Workspace/Holo-Bot/extracted_data/tactile_play_data/demonstration_35\n"
     ]
    },
    {
     "name": "stderr",
     "output_type": "stream",
     "text": [
      "ffmpeg version 5.1.2 Copyright (c) 2000-2022 the FFmpeg developers\n",
      "  built with gcc 10.4.0 (conda-forge gcc 10.4.0-18)\n",
      "  configuration: --prefix=/home/irmak/miniconda3/envs/tactile_learning --cc=/home/conda/feedstock_root/build_artifacts/ffmpeg_1666357487580/_build_env/bin/x86_64-conda-linux-gnu-cc --cxx=/home/conda/feedstock_root/build_artifacts/ffmpeg_1666357487580/_build_env/bin/x86_64-conda-linux-gnu-c++ --nm=/home/conda/feedstock_root/build_artifacts/ffmpeg_1666357487580/_build_env/bin/x86_64-conda-linux-gnu-nm --ar=/home/conda/feedstock_root/build_artifacts/ffmpeg_1666357487580/_build_env/bin/x86_64-conda-linux-gnu-ar --disable-doc --disable-openssl --enable-demuxer=dash --enable-hardcoded-tables --enable-libfreetype --enable-libfontconfig --enable-libopenh264 --enable-gnutls --enable-libmp3lame --enable-libvpx --enable-pthreads --enable-vaapi --enable-gpl --enable-libx264 --enable-libx265 --enable-libaom --enable-libsvtav1 --enable-libxml2 --enable-pic --enable-shared --disable-static --enable-version3 --enable-zlib --pkg-config=/home/conda/feedstock_root/build_artifacts/ffmpeg_1666357487580/_build_env/bin/pkg-config\n",
      "  libavutil      57. 28.100 / 57. 28.100\n",
      "  libavcodec     59. 37.100 / 59. 37.100\n",
      "  libavformat    59. 27.100 / 59. 27.100\n",
      "  libavdevice    59.  7.100 / 59.  7.100\n",
      "  libavfilter     8. 44.100 /  8. 44.100\n",
      "  libswscale      6.  7.100 /  6.  7.100\n",
      "  libswresample   4.  7.100 /  4.  7.100\n",
      "  libpostproc    56.  6.100 / 56.  6.100\n",
      "[image2 @ 0x55f1ab3cb640] Pattern type 'glob_sequence' is deprecated: use pattern_type 'glob' instead\n",
      "Input #0, image2, from '/home/irmak/Workspace/Holo-Bot/extracted_data/tactile_play_data/demonstration_35/visualization/%*.png':\n",
      "  Duration: 00:00:29.76, start: 0.000000, bitrate: N/A\n",
      "  Stream #0:0: Video: png, rgba(pc), 2000x2000 [SAR 3937:3937 DAR 1:1], 25 fps, 25 tbr, 25 tbn\n",
      "Stream mapping:\n",
      "  Stream #0:0 -> #0:0 (png (native) -> h264 (libx264))\n",
      "Press [q] to stop, [?] for help\n",
      "[libx264 @ 0x55f1ab3eaa00] using SAR=1/1\n",
      "[libx264 @ 0x55f1ab3eaa00] using cpu capabilities: MMX2 SSE2Fast SSSE3 SSE4.2 AVX FMA3 BMI2 AVX2\n",
      "[libx264 @ 0x55f1ab3eaa00] profile High 4:4:4 Predictive, level 4.0, 4:4:4, 8-bit\n",
      "[libx264 @ 0x55f1ab3eaa00] 264 - core 164 r3095 baee400 - H.264/MPEG-4 AVC codec - Copyleft 2003-2022 - http://www.videolan.org/x264.html - options: cabac=1 ref=3 deblock=1:0:0 analyse=0x3:0x113 me=hex subme=7 psy=1 psy_rd=1.00:0.00 mixed_ref=1 me_range=16 chroma_me=1 trellis=1 8x8dct=1 cqm=0 deadzone=21,11 fast_pskip=1 chroma_qp_offset=4 threads=22 lookahead_threads=3 sliced_threads=0 nr=0 decimate=1 interlaced=0 bluray_compat=0 constrained_intra=0 bframes=3 b_pyramid=2 b_adapt=1 b_bias=0 direct=1 weightb=1 open_gop=0 weightp=2 keyint=250 keyint_min=10 scenecut=40 intra_refresh=0 rc_lookahead=40 rc=crf mbtree=1 crf=23.0 qcomp=0.60 qpmin=0 qpmax=69 qpstep=4 ip_ratio=1.40 aq=1:1.00\n",
      "Output #0, mp4, to '/home/irmak/Workspace/Holo-Bot/extracted_data/tactile_play_data/demonstration_35/visualization.mp4':\n",
      "  Metadata:\n",
      "    encoder         : Lavf59.27.100\n",
      "  Stream #0:0: Video: h264 (avc1 / 0x31637661), yuv444p(tv, progressive), 2000x720 [SAR 1:1 DAR 25:9], q=2-31, 10 fps, 10240 tbn\n",
      "    Metadata:\n",
      "      encoder         : Lavc59.37.100 libx264\n",
      "    Side data:\n",
      "      cpb: bitrate max/min/avg: 0/0/0 buffer size: 0 vbv_delay: N/A\n",
      "frame=  744 fps=136 q=-1.0 Lsize=   24150kB time=00:01:14.10 bitrate=2669.8kbits/s speed=13.5x    \n",
      "video:24140kB audio:0kB subtitle:0kB other streams:0kB global headers:0kB muxing overhead: 0.040863%\n",
      "[libx264 @ 0x55f1ab3eaa00] frame I:3     Avg QP:17.98  size:122457\n",
      "[libx264 @ 0x55f1ab3eaa00] frame P:187   Avg QP:19.29  size: 57015\n",
      "[libx264 @ 0x55f1ab3eaa00] frame B:554   Avg QP:23.04  size: 24710\n",
      "[libx264 @ 0x55f1ab3eaa00] consecutive B-frames:  0.7%  0.0%  0.4% 98.9%\n",
      "[libx264 @ 0x55f1ab3eaa00] mb I  I16..4: 20.7% 57.8% 21.4%\n",
      "[libx264 @ 0x55f1ab3eaa00] mb P  I16..4:  2.2% 12.3%  0.6%  P16..4: 24.6% 17.6% 13.8%  0.0%  0.0%    skip:29.0%\n",
      "[libx264 @ 0x55f1ab3eaa00] mb B  I16..4:  0.8%  6.9%  0.4%  B16..8: 25.3%  8.4%  3.5%  direct: 5.0%  skip:49.8%  L0:49.0% L1:38.5% BI:12.5%\n",
      "[libx264 @ 0x55f1ab3eaa00] 8x8 transform intra:82.8% inter:84.6%\n",
      "[libx264 @ 0x55f1ab3eaa00] coded y,u,v intra: 65.0% 29.3% 28.2% inter: 25.9% 10.7% 9.3%\n",
      "[libx264 @ 0x55f1ab3eaa00] i16 v,h,dc,p: 33% 28% 25% 14%\n",
      "[libx264 @ 0x55f1ab3eaa00] i8 v,h,dc,ddl,ddr,vr,hd,vl,hu: 13% 19% 50%  2%  4%  3%  4%  2%  3%\n",
      "[libx264 @ 0x55f1ab3eaa00] i4 v,h,dc,ddl,ddr,vr,hd,vl,hu: 26% 21% 19%  4%  8%  7%  7%  4%  4%\n",
      "[libx264 @ 0x55f1ab3eaa00] Weighted P-Frames: Y:1.1% UV:0.0%\n",
      "[libx264 @ 0x55f1ab3eaa00] ref P L0: 31.3%  9.1% 35.2% 24.2%  0.2%\n",
      "[libx264 @ 0x55f1ab3eaa00] ref B L0: 62.3% 28.2%  9.5%\n",
      "[libx264 @ 0x55f1ab3eaa00] ref B L1: 86.0% 14.0%\n",
      "[libx264 @ 0x55f1ab3eaa00] kb/s:2657.90\n"
     ]
    }
   ],
   "source": [
    "# Turn the images to a video and delete the directory\n",
    "video_fps = 10\n",
    "for root in roots:\n",
    "    print('dumping video in root: {}'.format(root))\n",
    "    video_path = os.path.join(root, 'visualization.mp4')\n",
    "    if os.path.exists(video_path):\n",
    "        os.remove(video_path)\n",
    "    viz_dir = os.path.join(root, 'visualization')\n",
    "    os.system('ffmpeg -r {} -i {}/%*.png -vf scale=2000x720,setsar=1:1 {}'.format(\n",
    "        video_fps, # fps\n",
    "        viz_dir,\n",
    "        video_path\n",
    "    ))\n"
   ]
  },
  {
   "cell_type": "code",
   "execution_count": 52,
   "metadata": {},
   "outputs": [],
   "source": [
    "# Remove the img directory\n",
    "\n",
    "for root in roots:\n",
    "    viz_dir = os.path.join(root, 'visualization')\n",
    "    shutil.rmtree(viz_dir)\n"
   ]
  },
  {
   "cell_type": "code",
   "execution_count": null,
   "metadata": {},
   "outputs": [],
   "source": []
  }
 ],
 "metadata": {
  "kernelspec": {
   "display_name": "Python 3 (ipykernel)",
   "language": "python",
   "name": "python3"
  },
  "language_info": {
   "codemirror_mode": {
    "name": "ipython",
    "version": 3
   },
   "file_extension": ".py",
   "mimetype": "text/x-python",
   "name": "python",
   "nbconvert_exporter": "python",
   "pygments_lexer": "ipython3",
   "version": "3.9.13"
  },
  "vscode": {
   "interpreter": {
    "hash": "36852de55b288c46ba617fd48cf310240e4201e2f57004cbdac030fa23152bd3"
   }
  }
 },
 "nbformat": 4,
 "nbformat_minor": 4
}
