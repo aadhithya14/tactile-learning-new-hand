{
 "cells": [
  {
   "cell_type": "code",
   "execution_count": 1,
   "metadata": {},
   "outputs": [],
   "source": [
    "import cv2\n",
    "import h5py\n",
    "import matplotlib.pyplot as plt\n",
    "import numpy as np\n",
    "import os\n",
    "import pickle\n",
    "import shutil\n",
    "\n",
    "from tqdm import tqdm"
   ]
  },
  {
   "cell_type": "code",
   "execution_count": 2,
   "metadata": {},
   "outputs": [],
   "source": [
    "from tactile_learning.datasets.preprocess import dump_video_to_images, get_closest_id\n",
    "from tactile_learning.utils.visualization import plot_tactile_sensor"
   ]
  },
  {
   "cell_type": "code",
   "execution_count": 3,
   "metadata": {},
   "outputs": [],
   "source": [
    "import decimal\n",
    "\n",
    "# Get the metadata of images and tactile information\n",
    "def get_desired_indices(root, fps): # frames per second from the video to receive\n",
    "    image_metadata_path = os.path.join(root, 'cam_0_rgb_video.metadata')\n",
    "    tactile_info_path = os.path.join(root, 'touch_sensor_values.h5')\n",
    "\n",
    "    with open(image_metadata_path, 'rb') as f:\n",
    "        image_metadata = pickle.load(f)\n",
    "        image_timestamps_array = np.asarray(image_metadata['timestamps'])\n",
    "        image_timestamps = np.asarray(image_metadata['timestamps']) / 1000.\n",
    "    with h5py.File(tactile_info_path, 'r') as f:\n",
    "        tactile_timestamps = f['timestamps'][()]\n",
    "\n",
    "    image_id, tactile_id = 0, 0\n",
    "    curr_timestamp = tactile_timestamps[0] # These timestamps are in seconds\n",
    "    image_id = get_closest_id(image_id, curr_timestamp, image_timestamps)\n",
    "\n",
    "    tactile_indices, image_indices = [], []\n",
    "    tactile_indices.append(tactile_id)\n",
    "    image_indices.append(image_id)\n",
    "\n",
    "    frame_period = 1. / fps\n",
    "    while(True):\n",
    "        curr_timestamp += frame_period\n",
    "        tactile_id = get_closest_id(tactile_id, curr_timestamp, tactile_timestamps)\n",
    "        image_id = get_closest_id(image_id, curr_timestamp, image_timestamps)\n",
    "\n",
    "        if curr_timestamp > tactile_timestamps[tactile_id] and curr_timestamp > image_timestamps[image_id]:\n",
    "            break\n",
    "\n",
    "        tactile_indices.append(tactile_id)\n",
    "        image_indices.append(image_id)\n",
    "\n",
    "    assert len(tactile_indices) == len(image_indices)\n",
    "    return tactile_indices, image_indices\n"
   ]
  },
  {
   "cell_type": "code",
   "execution_count": 12,
   "metadata": {},
   "outputs": [],
   "source": [
    "\n",
    "def dump_states(root, tactile_indices, image_indices, view_num=0):\n",
    "    # Make directory to dump the visualization\n",
    "    pbar = tqdm(total=len(tactile_indices))\n",
    "\n",
    "    with h5py.File(os.path.join(root, 'touch_sensor_values.h5'), 'r') as f:\n",
    "        all_tactile_values = f['sensor_values'][()]\n",
    "\n",
    "    viz_dir = os.path.join(root, 'visualization')\n",
    "    os.makedirs(viz_dir, exist_ok=True)\n",
    "    \n",
    "    video_path = os.path.join(root, f'cam_{view_num}_rgb_video.avi')\n",
    "    vidcap = cv2.VideoCapture(video_path)\n",
    "    success, image = vidcap.read()\n",
    "    frame_count = int(vidcap.get(cv2.CAP_PROP_FRAME_COUNT))\n",
    "    frame_id = 0\n",
    "    for i in range(len(tactile_indices)):\n",
    "        tactile_id, image_id = tactile_indices[i], image_indices[i]\n",
    "        while frame_id != image_id and success:\n",
    "            # Find the frame that is equal to image_id\n",
    "            success, image = vidcap.read()\n",
    "            frame_id += 1\n",
    "        dump_demo_state(\n",
    "            frame_id = i,\n",
    "            viz_dir = viz_dir,\n",
    "            tactile_values = all_tactile_values[tactile_id,:,:,:],\n",
    "            camera_img = image\n",
    "        )\n",
    "\n",
    "        pbar.update(1)\n",
    "\n",
    "    pbar.close()\n",
    "\n",
    "def dump_demo_state(frame_id, viz_dir, tactile_values, camera_img):\n",
    "    # tactile_values: (15,16,3)\n",
    "    fig, axs = plt.subplots(figsize=(20,20), nrows=4, ncols=4)\n",
    "    for row_id in range(4):\n",
    "        for column_id in range(4):\n",
    "            if row_id + column_id > 0: # The top left axis should stay empty\n",
    "                plot_tactile_sensor(\n",
    "                    ax = axs[column_id][row_id],\n",
    "                    sensor_values = tactile_values[row_id*4 + column_id-1],\n",
    "                    title = f'Sensor {row_id*4+column_id-1}'\n",
    "                )\n",
    "    fig.suptitle('Tactile State')\n",
    "    fig.savefig(os.path.join(viz_dir, 'Tactile State.png'))\n",
    "    fig.clf()\n",
    "    plt.close()\n",
    "\n",
    "    tactile_img = cv2.imread(os.path.join(viz_dir, 'Tactile State.png'))\n",
    "    height_scale = camera_img.shape[0] / tactile_img.shape[0]\n",
    "    tactile_img = cv2.resize(\n",
    "        tactile_img,\n",
    "        (int(tactile_img.shape[1] * height_scale),\n",
    "         int(tactile_img.shape[0] * height_scale))\n",
    "    )\n",
    "    total_img = cv2.hconcat([camera_img, tactile_img])\n",
    "\n",
    "    img_name = 'state_{}.png'.format(str(frame_id).zfill(3))\n",
    "    cv2.imwrite(os.path.join(viz_dir, img_name), total_img)\n",
    "\n"
   ]
  },
  {
   "cell_type": "code",
   "execution_count": 13,
   "metadata": {},
   "outputs": [
    {
     "name": "stdout",
     "output_type": "stream",
     "text": [
      "tactile_indices: [0, 52, 102, 149, 197, 246, 296, 344, 393, 442, 491, 541, 589, 639, 688, 738, 785, 834, 882, 932, 980, 1032, 1078, 1128, 1176, 1227], image_indices: [69, 83, 98, 112, 126, 140, 155, 170, 185, 200, 214, 229, 244, 259, 274, 289, 304, 318, 333, 348, 361, 376, 388, 400, 412, 426]\n"
     ]
    },
    {
     "name": "stderr",
     "output_type": "stream",
     "text": [
      "100%|█████████████████████| 26/26 [00:41<00:00,  1.60s/it]\n"
     ]
    },
    {
     "name": "stdout",
     "output_type": "stream",
     "text": [
      "tactile_indices: [0, 51, 99, 150, 197, 247, 294, 345, 392, 442, 491, 541, 589, 638, 687], image_indices: [71, 85, 99, 114, 128, 143, 157, 172, 185, 200, 215, 230, 245, 260, 275]\n"
     ]
    },
    {
     "name": "stderr",
     "output_type": "stream",
     "text": [
      "100%|█████████████████████| 15/15 [00:18<00:00,  1.23s/it]\n"
     ]
    },
    {
     "name": "stdout",
     "output_type": "stream",
     "text": [
      "tactile_indices: [0, 51, 99, 149, 197, 248, 295, 345, 394, 442, 490, 540, 590, 636, 687, 735, 784, 832, 880, 929, 977, 1028, 1078], image_indices: [67, 81, 96, 110, 124, 139, 153, 167, 180, 194, 208, 223, 237, 251, 266, 280, 294, 307, 321, 335, 348, 362, 376]\n"
     ]
    },
    {
     "name": "stderr",
     "output_type": "stream",
     "text": [
      "100%|█████████████████████| 23/23 [00:27<00:00,  1.20s/it]\n"
     ]
    },
    {
     "name": "stdout",
     "output_type": "stream",
     "text": [
      "tactile_indices: [0, 52, 98, 148, 196, 246, 294, 343, 393, 443, 490, 540, 588, 637, 684, 734, 782, 832, 879, 929, 977, 1027, 1075, 1123, 1172, 1222, 1271, 1320], image_indices: [70, 84, 99, 113, 128, 143, 158, 173, 188, 202, 217, 232, 247, 261, 274, 288, 303, 318, 333, 348, 363, 378, 393, 407, 422, 437, 452, 464]\n"
     ]
    },
    {
     "name": "stderr",
     "output_type": "stream",
     "text": [
      "100%|█████████████████████| 28/28 [00:32<00:00,  1.16s/it]\n"
     ]
    },
    {
     "name": "stdout",
     "output_type": "stream",
     "text": [
      "tactile_indices: [0, 52, 100, 150, 197, 248, 296, 345, 394, 443, 491, 542, 590, 639, 687, 737, 784], image_indices: [68, 81, 96, 111, 126, 140, 153, 167, 182, 196, 209, 224, 239, 254, 269, 283, 296]\n"
     ]
    },
    {
     "name": "stderr",
     "output_type": "stream",
     "text": [
      "100%|█████████████████████| 17/17 [00:20<00:00,  1.20s/it]\n"
     ]
    },
    {
     "name": "stdout",
     "output_type": "stream",
     "text": [
      "tactile_indices: [0, 51, 98, 147, 196, 246, 294, 344, 393, 443, 490, 539, 586, 636, 684, 735], image_indices: [68, 82, 96, 110, 123, 137, 151, 165, 179, 193, 207, 221, 236, 251, 266, 281]\n"
     ]
    },
    {
     "name": "stderr",
     "output_type": "stream",
     "text": [
      "100%|█████████████████████| 16/16 [00:18<00:00,  1.18s/it]\n"
     ]
    },
    {
     "name": "stdout",
     "output_type": "stream",
     "text": [
      "tactile_indices: [0, 52, 100, 150, 199, 248, 297, 345, 395, 442, 492, 540, 589, 637, 687, 735, 784, 831, 881], image_indices: [66, 80, 94, 109, 123, 137, 152, 167, 182, 196, 211, 225, 238, 253, 268, 282, 297, 311, 325]\n"
     ]
    },
    {
     "name": "stderr",
     "output_type": "stream",
     "text": [
      "100%|█████████████████████| 19/19 [00:22<00:00,  1.21s/it]\n"
     ]
    },
    {
     "name": "stdout",
     "output_type": "stream",
     "text": [
      "tactile_indices: [0, 51, 100, 149, 198, 248, 295, 345, 393, 443, 491], image_indices: [69, 84, 98, 112, 126, 141, 155, 168, 182, 196, 210]\n"
     ]
    },
    {
     "name": "stderr",
     "output_type": "stream",
     "text": [
      "100%|█████████████████████| 11/11 [00:13<00:00,  1.25s/it]\n"
     ]
    },
    {
     "name": "stdout",
     "output_type": "stream",
     "text": [
      "tactile_indices: [0, 51, 99, 147, 196, 246, 294, 343, 391, 440, 490, 538, 585, 636, 686, 732, 783, 831, 880, 929, 976, 1027, 1078, 1124], image_indices: [67, 82, 96, 111, 125, 139, 153, 168, 182, 196, 211, 226, 241, 256, 269, 283, 298, 312, 325, 340, 354, 368, 382, 395]\n"
     ]
    },
    {
     "name": "stderr",
     "output_type": "stream",
     "text": [
      "100%|█████████████████████| 24/24 [00:29<00:00,  1.22s/it]\n"
     ]
    },
    {
     "name": "stdout",
     "output_type": "stream",
     "text": [
      "tactile_indices: [0, 52, 99, 149, 198, 247, 295, 347, 393, 442, 490, 540, 588, 637, 687, 735, 785, 834, 884, 933, 982], image_indices: [70, 85, 100, 114, 128, 143, 158, 173, 188, 202, 217, 231, 246, 259, 273, 288, 303, 317, 332, 347, 362]\n"
     ]
    },
    {
     "name": "stderr",
     "output_type": "stream",
     "text": [
      "100%|█████████████████████| 21/21 [00:25<00:00,  1.23s/it]\n"
     ]
    },
    {
     "name": "stdout",
     "output_type": "stream",
     "text": [
      "tactile_indices: [0, 52, 99, 150, 198, 247, 295, 345, 394, 443, 491, 542, 589, 639, 687, 736], image_indices: [71, 85, 100, 115, 130, 145, 160, 175, 189, 204, 218, 233, 247, 262, 277, 291]\n"
     ]
    },
    {
     "name": "stderr",
     "output_type": "stream",
     "text": [
      "100%|█████████████████████| 16/16 [00:20<00:00,  1.28s/it]\n"
     ]
    },
    {
     "name": "stdout",
     "output_type": "stream",
     "text": [
      "tactile_indices: [0, 51, 101, 149, 199, 248, 297, 346, 394, 443, 493, 542, 591, 639, 690, 738, 788, 836, 889, 934, 983, 1032, 1080, 1129, 1177, 1228, 1278], image_indices: [70, 85, 98, 113, 128, 143, 157, 172, 186, 201, 216, 230, 245, 260, 275, 290, 305, 319, 334, 348, 363, 377, 392, 407, 421, 436, 451]\n"
     ]
    },
    {
     "name": "stderr",
     "output_type": "stream",
     "text": [
      "100%|█████████████████████| 27/27 [00:34<00:00,  1.27s/it]\n"
     ]
    }
   ],
   "source": [
    "import glob\n",
    "# roots = [\n",
    "#     '/home/irmak/Workspace/Holo-Bot/extracted_data/gamepad/training/demonstration_3',\n",
    "#     '/home/irmak/Workspace/Holo-Bot/extracted_data/gamepad/training/demonstration_1',\n",
    "#     '/home/irmak/Workspace/Holo-Bot/extracted_data/gamepad/training/demonstration_2',\n",
    "#     '/home/irmak/Workspace/Holo-Bot/extracted_data/gamepad/training/demonstration_22',\n",
    "#     '/home/irmak/Workspace/Holo-Bot/extracted_data/gamepad/training/demonstration_21',\n",
    "#     '/home/irmak/Workspace/Holo-Bot/extracted_data/gamepad/training/demonstration_12',\n",
    "#     '/home/irmak/Workspace/Holo-Bot/extracted_data/gamepad/training/demonstration_9',\n",
    "#     '/home/irmak/Workspace/Holo-Bot/extracted_data/gamepad/training/demonstration_20',\n",
    "#     '/home/irmak/Workspace/Holo-Bot/extracted_data/gamepad/training/demonstration_25',\n",
    "#     '/home/irmak/Workspace/Holo-Bot/extracted_data/gamepad/training/demonstration_16',\n",
    "#     '/home/irmak/Workspace/Holo-Bot/extracted_data/gamepad/training/demonstration_7',\n",
    "#     '/home/irmak/Workspace/Holo-Bot/extracted_data/gamepad/training/demonstration_24',\n",
    "#     '/home/irmak/Workspace/Holo-Bot/extracted_data/gamepad/training/demonstration_5',\n",
    "#     '/home/irmak/Workspace/Holo-Bot/extracted_data/gamepad/training/demonstration_19',\n",
    "#     '/home/irmak/Workspace/Holo-Bot/extracted_data/gamepad/training/demonstration_4',\n",
    "#     '/home/irmak/Workspace/Holo-Bot/extracted_data/gamepad/training/demonstration_27',\n",
    "#     '/home/irmak/Workspace/Holo-Bot/extracted_data/gamepad/training/demonstration_17'\n",
    "# ]\n",
    "data_path = '/home/irmak/Workspace/Holo-Bot/extracted_data/gamepad/training'\n",
    "roots = glob.glob(f'{data_path}/demonstration_*')\n",
    "\n",
    "retrieval_fps = 2\n",
    "for root in roots:\n",
    "    # print('root: {}'.format(root))\n",
    "    tactile_indices, image_indices = get_desired_indices(root=root, fps=retrieval_fps)\n",
    "    print('tactile_indices: {}, image_indices: {}'.format(tactile_indices, image_indices))\n",
    "    dump_states(root, tactile_indices, image_indices, view_num=1)\n"
   ]
  },
  {
   "cell_type": "code",
   "execution_count": 14,
   "metadata": {},
   "outputs": [
    {
     "name": "stdout",
     "output_type": "stream",
     "text": [
      "['/home/irmak/Workspace/Holo-Bot/extracted_data/gamepad/training/demonstration_13', '/home/irmak/Workspace/Holo-Bot/extracted_data/gamepad/training/demonstration_26', '/home/irmak/Workspace/Holo-Bot/extracted_data/gamepad/training/demonstration_23', '/home/irmak/Workspace/Holo-Bot/extracted_data/gamepad/training/demonstration_10', '/home/irmak/Workspace/Holo-Bot/extracted_data/gamepad/training/demonstration_22', '/home/irmak/Workspace/Holo-Bot/extracted_data/gamepad/training/demonstration_21', '/home/irmak/Workspace/Holo-Bot/extracted_data/gamepad/training/demonstration_12', '/home/irmak/Workspace/Holo-Bot/extracted_data/gamepad/training/demonstration_20', '/home/irmak/Workspace/Holo-Bot/extracted_data/gamepad/training/demonstration_25', '/home/irmak/Workspace/Holo-Bot/extracted_data/gamepad/training/demonstration_24', '/home/irmak/Workspace/Holo-Bot/extracted_data/gamepad/training/demonstration_19', '/home/irmak/Workspace/Holo-Bot/extracted_data/gamepad/training/demonstration_27']\n"
     ]
    }
   ],
   "source": [
    "print(roots)"
   ]
  },
  {
   "cell_type": "code",
   "execution_count": 15,
   "metadata": {},
   "outputs": [
    {
     "name": "stdout",
     "output_type": "stream",
     "text": [
      "dumping video in root: /home/irmak/Workspace/Holo-Bot/extracted_data/gamepad/training/demonstration_13\n"
     ]
    },
    {
     "name": "stderr",
     "output_type": "stream",
     "text": [
      "ffmpeg version 5.1.2 Copyright (c) 2000-2022 the FFmpeg developers\n",
      "  built with gcc 10.4.0 (conda-forge gcc 10.4.0-18)\n",
      "  configuration: --prefix=/home/irmak/miniconda3/envs/tactile_learning --cc=/home/conda/feedstock_root/build_artifacts/ffmpeg_1666357487580/_build_env/bin/x86_64-conda-linux-gnu-cc --cxx=/home/conda/feedstock_root/build_artifacts/ffmpeg_1666357487580/_build_env/bin/x86_64-conda-linux-gnu-c++ --nm=/home/conda/feedstock_root/build_artifacts/ffmpeg_1666357487580/_build_env/bin/x86_64-conda-linux-gnu-nm --ar=/home/conda/feedstock_root/build_artifacts/ffmpeg_1666357487580/_build_env/bin/x86_64-conda-linux-gnu-ar --disable-doc --disable-openssl --enable-demuxer=dash --enable-hardcoded-tables --enable-libfreetype --enable-libfontconfig --enable-libopenh264 --enable-gnutls --enable-libmp3lame --enable-libvpx --enable-pthreads --enable-vaapi --enable-gpl --enable-libx264 --enable-libx265 --enable-libaom --enable-libsvtav1 --enable-libxml2 --enable-pic --enable-shared --disable-static --enable-version3 --enable-zlib --pkg-config=/home/conda/feedstock_root/build_artifacts/ffmpeg_1666357487580/_build_env/bin/pkg-config\n",
      "  libavutil      57. 28.100 / 57. 28.100\n",
      "  libavcodec     59. 37.100 / 59. 37.100\n",
      "  libavformat    59. 27.100 / 59. 27.100\n",
      "  libavdevice    59.  7.100 / 59.  7.100\n",
      "  libavfilter     8. 44.100 /  8. 44.100\n",
      "  libswscale      6.  7.100 /  6.  7.100\n",
      "  libswresample   4.  7.100 /  4.  7.100\n",
      "  libpostproc    56.  6.100 / 56.  6.100\n",
      "[image2 @ 0x557ea34e5640] Pattern type 'glob_sequence' is deprecated: use pattern_type 'glob' instead\n",
      "Input #0, image2, from '/home/irmak/Workspace/Holo-Bot/extracted_data/gamepad/training/demonstration_13/visualization/%*.png':\n",
      "  Duration: 00:00:01.08, start: 0.000000, bitrate: N/A\n",
      "  Stream #0:0: Video: png, rgba(pc), 2000x2000 [SAR 3937:3937 DAR 1:1], 25 fps, 25 tbr, 25 tbn\n",
      "Stream mapping:\n",
      "  Stream #0:0 -> #0:0 (png (native) -> h264 (libx264))\n",
      "Press [q] to stop, [?] for help\n",
      "[libx264 @ 0x557ea34ec4c0] using SAR=1/1\n",
      "[libx264 @ 0x557ea34ec4c0] using cpu capabilities: MMX2 SSE2Fast SSSE3 SSE4.2 AVX FMA3 BMI2 AVX2\n",
      "[libx264 @ 0x557ea34ec4c0] profile High 4:4:4 Predictive, level 4.0, 4:4:4, 8-bit\n",
      "[libx264 @ 0x557ea34ec4c0] 264 - core 164 r3095 baee400 - H.264/MPEG-4 AVC codec - Copyleft 2003-2022 - http://www.videolan.org/x264.html - options: cabac=1 ref=3 deblock=1:0:0 analyse=0x3:0x113 me=hex subme=7 psy=1 psy_rd=1.00:0.00 mixed_ref=1 me_range=16 chroma_me=1 trellis=1 8x8dct=1 cqm=0 deadzone=21,11 fast_pskip=1 chroma_qp_offset=4 threads=22 lookahead_threads=3 sliced_threads=0 nr=0 decimate=1 interlaced=0 bluray_compat=0 constrained_intra=0 bframes=3 b_pyramid=2 b_adapt=1 b_bias=0 direct=1 weightb=1 open_gop=0 weightp=2 keyint=250 keyint_min=10 scenecut=40 intra_refresh=0 rc_lookahead=40 rc=crf mbtree=1 crf=23.0 qcomp=0.60 qpmin=0 qpmax=69 qpstep=4 ip_ratio=1.40 aq=1:1.00\n",
      "Output #0, mp4, to '/home/irmak/Workspace/Holo-Bot/extracted_data/gamepad/training/demonstration_13/visualization.mp4':\n",
      "  Metadata:\n",
      "    encoder         : Lavf59.27.100\n",
      "  Stream #0:0: Video: h264 (avc1 / 0x31637661), yuv444p(tv, progressive), 2000x720 [SAR 1:1 DAR 25:9], q=2-31, 10 fps, 10240 tbn\n",
      "    Metadata:\n",
      "      encoder         : Lavc59.37.100 libx264\n",
      "    Side data:\n",
      "      cpb: bitrate max/min/avg: 0/0/0 buffer size: 0 vbv_delay: N/A\n",
      "frame=   27 fps=0.0 q=-1.0 Lsize=     778kB time=00:00:02.40 bitrate=2656.3kbits/s speed=3.19x    \n",
      "video:777kB audio:0kB subtitle:0kB other streams:0kB global headers:0kB muxing overhead: 0.150933%\n",
      "[libx264 @ 0x557ea34ec4c0] frame I:1     Avg QP:22.64  size: 49191\n",
      "[libx264 @ 0x557ea34ec4c0] frame P:7     Avg QP:20.72  size: 54499\n",
      "[libx264 @ 0x557ea34ec4c0] frame B:19    Avg QP:22.73  size: 19176\n",
      "[libx264 @ 0x557ea34ec4c0] consecutive B-frames:  3.7%  7.4%  0.0% 88.9%\n",
      "[libx264 @ 0x557ea34ec4c0] mb I  I16..4: 28.7% 43.3% 28.0%\n",
      "[libx264 @ 0x557ea34ec4c0] mb P  I16..4:  3.1% 27.6%  2.1%  P16..4: 19.3% 10.7%  7.1%  0.0%  0.0%    skip:30.1%\n",
      "[libx264 @ 0x557ea34ec4c0] mb B  I16..4:  1.1%  9.4%  0.3%  B16..8: 23.4%  6.2%  1.5%  direct: 3.7%  skip:54.5%  L0:45.7% L1:46.5% BI: 7.9%\n",
      "[libx264 @ 0x557ea34ec4c0] 8x8 transform intra:77.8% inter:86.3%\n",
      "[libx264 @ 0x557ea34ec4c0] coded y,u,v intra: 57.9% 31.3% 27.8% inter: 18.2% 10.3% 9.4%\n",
      "[libx264 @ 0x557ea34ec4c0] i16 v,h,dc,p: 45% 32% 16%  6%\n",
      "[libx264 @ 0x557ea34ec4c0] i8 v,h,dc,ddl,ddr,vr,hd,vl,hu: 20% 20% 45%  2%  2%  2%  2%  2%  3%\n",
      "[libx264 @ 0x557ea34ec4c0] i4 v,h,dc,ddl,ddr,vr,hd,vl,hu: 38% 35% 11%  2%  3%  3%  4%  2%  4%\n",
      "[libx264 @ 0x557ea34ec4c0] Weighted P-Frames: Y:0.0% UV:0.0%\n",
      "[libx264 @ 0x557ea34ec4c0] ref P L0: 46.5%  7.4% 30.3% 15.8%\n",
      "[libx264 @ 0x557ea34ec4c0] ref B L0: 71.0% 23.9%  5.2%\n",
      "[libx264 @ 0x557ea34ec4c0] ref B L1: 90.3%  9.7%\n",
      "[libx264 @ 0x557ea34ec4c0] kb/s:2355.64\n",
      "ffmpeg version 5.1.2 Copyright (c) 2000-2022 the FFmpeg developers\n",
      "  built with gcc 10.4.0 (conda-forge gcc 10.4.0-18)\n",
      "  configuration: --prefix=/home/irmak/miniconda3/envs/tactile_learning --cc=/home/conda/feedstock_root/build_artifacts/ffmpeg_1666357487580/_build_env/bin/x86_64-conda-linux-gnu-cc --cxx=/home/conda/feedstock_root/build_artifacts/ffmpeg_1666357487580/_build_env/bin/x86_64-conda-linux-gnu-c++ --nm=/home/conda/feedstock_root/build_artifacts/ffmpeg_1666357487580/_build_env/bin/x86_64-conda-linux-gnu-nm --ar=/home/conda/feedstock_root/build_artifacts/ffmpeg_1666357487580/_build_env/bin/x86_64-conda-linux-gnu-ar --disable-doc --disable-openssl --enable-demuxer=dash --enable-hardcoded-tables --enable-libfreetype --enable-libfontconfig --enable-libopenh264 --enable-gnutls --enable-libmp3lame --enable-libvpx --enable-pthreads --enable-vaapi --enable-gpl --enable-libx264 --enable-libx265 --enable-libaom --enable-libsvtav1 --enable-libxml2 --enable-pic --enable-shared --disable-static --enable-version3 --enable-zlib --pkg-config=/home/conda/feedstock_root/build_artifacts/ffmpeg_1666357487580/_build_env/bin/pkg-config\n",
      "  libavutil      57. 28.100 / 57. 28.100\n",
      "  libavcodec     59. 37.100 / 59. 37.100\n",
      "  libavformat    59. 27.100 / 59. 27.100\n",
      "  libavdevice    59.  7.100 / 59.  7.100\n",
      "  libavfilter     8. 44.100 /  8. 44.100\n",
      "  libswscale      6.  7.100 /  6.  7.100\n",
      "  libswresample   4.  7.100 /  4.  7.100\n",
      "  libpostproc    56.  6.100 / 56.  6.100\n",
      "[image2 @ 0x557b53ce5640] Pattern type 'glob_sequence' is deprecated: use pattern_type 'glob' instead\n",
      "Input #0, image2, from '/home/irmak/Workspace/Holo-Bot/extracted_data/gamepad/training/demonstration_26/visualization/%*.png':\n",
      "  Duration: 00:00:00.64, start: 0.000000, bitrate: N/A\n",
      "  Stream #0:0: Video: png, rgba(pc), 2000x2000 [SAR 3937:3937 DAR 1:1], 25 fps, 25 tbr, 25 tbn\n",
      "Stream mapping:\n",
      "  Stream #0:0 -> #0:0 (png (native) -> h264 (libx264))\n",
      "Press [q] to stop, [?] for help\n"
     ]
    },
    {
     "name": "stdout",
     "output_type": "stream",
     "text": [
      "dumping video in root: /home/irmak/Workspace/Holo-Bot/extracted_data/gamepad/training/demonstration_26\n"
     ]
    },
    {
     "name": "stderr",
     "output_type": "stream",
     "text": [
      "[libx264 @ 0x557b53cebf40] using SAR=1/1\n",
      "[libx264 @ 0x557b53cebf40] using cpu capabilities: MMX2 SSE2Fast SSSE3 SSE4.2 AVX FMA3 BMI2 AVX2\n",
      "[libx264 @ 0x557b53cebf40] profile High 4:4:4 Predictive, level 4.0, 4:4:4, 8-bit\n",
      "[libx264 @ 0x557b53cebf40] 264 - core 164 r3095 baee400 - H.264/MPEG-4 AVC codec - Copyleft 2003-2022 - http://www.videolan.org/x264.html - options: cabac=1 ref=3 deblock=1:0:0 analyse=0x3:0x113 me=hex subme=7 psy=1 psy_rd=1.00:0.00 mixed_ref=1 me_range=16 chroma_me=1 trellis=1 8x8dct=1 cqm=0 deadzone=21,11 fast_pskip=1 chroma_qp_offset=4 threads=22 lookahead_threads=3 sliced_threads=0 nr=0 decimate=1 interlaced=0 bluray_compat=0 constrained_intra=0 bframes=3 b_pyramid=2 b_adapt=1 b_bias=0 direct=1 weightb=1 open_gop=0 weightp=2 keyint=250 keyint_min=10 scenecut=40 intra_refresh=0 rc_lookahead=40 rc=crf mbtree=1 crf=23.0 qcomp=0.60 qpmin=0 qpmax=69 qpstep=4 ip_ratio=1.40 aq=1:1.00\n",
      "Output #0, mp4, to '/home/irmak/Workspace/Holo-Bot/extracted_data/gamepad/training/demonstration_26/visualization.mp4':\n",
      "  Metadata:\n",
      "    encoder         : Lavf59.27.100\n",
      "  Stream #0:0: Video: h264 (avc1 / 0x31637661), yuv444p(tv, progressive), 2000x720 [SAR 1:1 DAR 25:9], q=2-31, 10 fps, 10240 tbn\n",
      "    Metadata:\n",
      "      encoder         : Lavc59.37.100 libx264\n",
      "    Side data:\n",
      "      cpb: bitrate max/min/avg: 0/0/0 buffer size: 0 vbv_delay: N/A\n",
      "frame=   16 fps=0.0 q=-1.0 Lsize=     524kB time=00:00:01.30 bitrate=3299.6kbits/s speed=1.95x    \n",
      "video:523kB audio:0kB subtitle:0kB other streams:0kB global headers:0kB muxing overhead: 0.198260%\n",
      "[libx264 @ 0x557b53cebf40] frame I:1     Avg QP:21.62  size: 46163\n",
      "[libx264 @ 0x557b53cebf40] frame P:4     Avg QP:21.28  size: 61588\n",
      "[libx264 @ 0x557b53cebf40] frame B:11    Avg QP:22.77  size: 21996\n",
      "[libx264 @ 0x557b53cebf40] consecutive B-frames:  6.2%  0.0% 18.8% 75.0%\n",
      "[libx264 @ 0x557b53cebf40] mb I  I16..4: 28.7% 45.0% 26.3%\n",
      "[libx264 @ 0x557b53cebf40] mb P  I16..4:  4.6% 34.0%  4.0%  P16..4: 16.5%  9.9%  5.8%  0.0%  0.0%    skip:25.2%\n",
      "[libx264 @ 0x557b53cebf40] mb B  I16..4:  0.9% 10.4%  0.2%  B16..8: 22.4%  6.6%  1.7%  direct: 4.6%  skip:53.2%  L0:46.4% L1:45.0% BI: 8.6%\n",
      "[libx264 @ 0x557b53cebf40] 8x8 transform intra:74.5% inter:85.5%\n",
      "[libx264 @ 0x557b53cebf40] coded y,u,v intra: 55.4% 30.8% 27.3% inter: 20.1% 10.8% 9.9%\n",
      "[libx264 @ 0x557b53cebf40] i16 v,h,dc,p: 49% 35% 11%  5%\n",
      "[libx264 @ 0x557b53cebf40] i8 v,h,dc,ddl,ddr,vr,hd,vl,hu: 21% 21% 42%  3%  2%  3%  3%  2%  4%\n",
      "[libx264 @ 0x557b53cebf40] i4 v,h,dc,ddl,ddr,vr,hd,vl,hu: 39% 33% 12%  2%  2%  2%  4%  1%  4%\n",
      "[libx264 @ 0x557b53cebf40] Weighted P-Frames: Y:0.0% UV:0.0%\n",
      "[libx264 @ 0x557b53cebf40] ref P L0: 59.8%  6.5% 24.8%  8.8%\n",
      "[libx264 @ 0x557b53cebf40] ref B L0: 76.8% 19.4%  3.8%\n",
      "[libx264 @ 0x557b53cebf40] ref B L1: 92.3%  7.7%\n",
      "[libx264 @ 0x557b53cebf40] kb/s:2672.34\n",
      "ffmpeg version 5.1.2 Copyright (c) 2000-2022 the FFmpeg developers\n",
      "  built with gcc 10.4.0 (conda-forge gcc 10.4.0-18)\n",
      "  configuration: --prefix=/home/irmak/miniconda3/envs/tactile_learning --cc=/home/conda/feedstock_root/build_artifacts/ffmpeg_1666357487580/_build_env/bin/x86_64-conda-linux-gnu-cc --cxx=/home/conda/feedstock_root/build_artifacts/ffmpeg_1666357487580/_build_env/bin/x86_64-conda-linux-gnu-c++ --nm=/home/conda/feedstock_root/build_artifacts/ffmpeg_1666357487580/_build_env/bin/x86_64-conda-linux-gnu-nm --ar=/home/conda/feedstock_root/build_artifacts/ffmpeg_1666357487580/_build_env/bin/x86_64-conda-linux-gnu-ar --disable-doc --disable-openssl --enable-demuxer=dash --enable-hardcoded-tables --enable-libfreetype --enable-libfontconfig --enable-libopenh264 --enable-gnutls --enable-libmp3lame --enable-libvpx --enable-pthreads --enable-vaapi --enable-gpl --enable-libx264 --enable-libx265 --enable-libaom --enable-libsvtav1 --enable-libxml2 --enable-pic --enable-shared --disable-static --enable-version3 --enable-zlib --pkg-config=/home/conda/feedstock_root/build_artifacts/ffmpeg_1666357487580/_build_env/bin/pkg-config\n",
      "  libavutil      57. 28.100 / 57. 28.100\n",
      "  libavcodec     59. 37.100 / 59. 37.100\n",
      "  libavformat    59. 27.100 / 59. 27.100\n",
      "  libavdevice    59.  7.100 / 59.  7.100\n",
      "  libavfilter     8. 44.100 /  8. 44.100\n",
      "  libswscale      6.  7.100 /  6.  7.100\n",
      "  libswresample   4.  7.100 /  4.  7.100\n",
      "  libpostproc    56.  6.100 / 56.  6.100\n",
      "[image2 @ 0x56469ad94640] Pattern type 'glob_sequence' is deprecated: use pattern_type 'glob' instead\n",
      "Input #0, image2, from '/home/irmak/Workspace/Holo-Bot/extracted_data/gamepad/training/demonstration_23/visualization/%*.png':\n",
      "  Duration: 00:00:00.96, start: 0.000000, bitrate: N/A\n",
      "  Stream #0:0: Video: png, rgba(pc), 2000x2000 [SAR 3937:3937 DAR 1:1], 25 fps, 25 tbr, 25 tbn\n",
      "Stream mapping:\n",
      "  Stream #0:0 -> #0:0 (png (native) -> h264 (libx264))\n",
      "Press [q] to stop, [?] for help\n"
     ]
    },
    {
     "name": "stdout",
     "output_type": "stream",
     "text": [
      "dumping video in root: /home/irmak/Workspace/Holo-Bot/extracted_data/gamepad/training/demonstration_23\n"
     ]
    },
    {
     "name": "stderr",
     "output_type": "stream",
     "text": [
      "[libx264 @ 0x56469ad9b340] using SAR=1/1\n",
      "[libx264 @ 0x56469ad9b340] using cpu capabilities: MMX2 SSE2Fast SSSE3 SSE4.2 AVX FMA3 BMI2 AVX2\n",
      "[libx264 @ 0x56469ad9b340] profile High 4:4:4 Predictive, level 4.0, 4:4:4, 8-bit\n",
      "[libx264 @ 0x56469ad9b340] 264 - core 164 r3095 baee400 - H.264/MPEG-4 AVC codec - Copyleft 2003-2022 - http://www.videolan.org/x264.html - options: cabac=1 ref=3 deblock=1:0:0 analyse=0x3:0x113 me=hex subme=7 psy=1 psy_rd=1.00:0.00 mixed_ref=1 me_range=16 chroma_me=1 trellis=1 8x8dct=1 cqm=0 deadzone=21,11 fast_pskip=1 chroma_qp_offset=4 threads=22 lookahead_threads=3 sliced_threads=0 nr=0 decimate=1 interlaced=0 bluray_compat=0 constrained_intra=0 bframes=3 b_pyramid=2 b_adapt=1 b_bias=0 direct=1 weightb=1 open_gop=0 weightp=2 keyint=250 keyint_min=10 scenecut=40 intra_refresh=0 rc_lookahead=40 rc=crf mbtree=1 crf=23.0 qcomp=0.60 qpmin=0 qpmax=69 qpstep=4 ip_ratio=1.40 aq=1:1.00\n",
      "Output #0, mp4, to '/home/irmak/Workspace/Holo-Bot/extracted_data/gamepad/training/demonstration_23/visualization.mp4':\n",
      "  Metadata:\n",
      "    encoder         : Lavf59.27.100\n",
      "  Stream #0:0: Video: h264 (avc1 / 0x31637661), yuv444p(tv, progressive), 2000x720 [SAR 1:1 DAR 25:9], q=2-31, 10 fps, 10240 tbn\n",
      "    Metadata:\n",
      "      encoder         : Lavc59.37.100 libx264\n",
      "    Side data:\n",
      "      cpb: bitrate max/min/avg: 0/0/0 buffer size: 0 vbv_delay: N/A\n",
      "frame=   24 fps=0.0 q=-1.0 Lsize=     630kB time=00:00:02.10 bitrate=2457.1kbits/s speed=2.77x    \n",
      "video:629kB audio:0kB subtitle:0kB other streams:0kB global headers:0kB muxing overhead: 0.179696%\n",
      "[libx264 @ 0x56469ad9b340] frame I:1     Avg QP:23.02  size: 49660\n",
      "[libx264 @ 0x56469ad9b340] frame P:6     Avg QP:20.61  size: 50949\n",
      "[libx264 @ 0x56469ad9b340] frame B:17    Avg QP:22.51  size: 16931\n",
      "[libx264 @ 0x56469ad9b340] consecutive B-frames:  4.2%  0.0% 12.5% 83.3%\n",
      "[libx264 @ 0x56469ad9b340] mb I  I16..4: 27.6% 44.5% 27.9%\n",
      "[libx264 @ 0x56469ad9b340] mb P  I16..4:  3.4% 22.5%  2.3%  P16..4: 20.9% 11.5%  7.3%  0.0%  0.0%    skip:31.9%\n",
      "[libx264 @ 0x56469ad9b340] mb B  I16..4:  1.1%  9.8%  0.1%  B16..8: 21.8%  5.1%  1.3%  direct: 3.2%  skip:57.5%  L0:43.7% L1:48.1% BI: 8.2%\n",
      "[libx264 @ 0x56469ad9b340] 8x8 transform intra:75.6% inter:87.3%\n",
      "[libx264 @ 0x56469ad9b340] coded y,u,v intra: 54.3% 29.8% 26.5% inter: 16.8% 9.5% 9.1%\n",
      "[libx264 @ 0x56469ad9b340] i16 v,h,dc,p: 45% 34% 16%  6%\n",
      "[libx264 @ 0x56469ad9b340] i8 v,h,dc,ddl,ddr,vr,hd,vl,hu: 21% 20% 46%  2%  2%  3%  2%  2%  3%\n",
      "[libx264 @ 0x56469ad9b340] i4 v,h,dc,ddl,ddr,vr,hd,vl,hu: 39% 35% 11%  1%  3%  2%  4%  1%  4%\n",
      "[libx264 @ 0x56469ad9b340] Weighted P-Frames: Y:0.0% UV:0.0%\n",
      "[libx264 @ 0x56469ad9b340] ref P L0: 44.6%  7.5% 33.0% 14.9%\n",
      "[libx264 @ 0x56469ad9b340] ref B L0: 68.9% 25.5%  5.6%\n",
      "[libx264 @ 0x56469ad9b340] ref B L1: 89.7% 10.3%\n",
      "[libx264 @ 0x56469ad9b340] kb/s:2143.92\n",
      "ffmpeg version 5.1.2 Copyright (c) 2000-2022 the FFmpeg developers\n",
      "  built with gcc 10.4.0 (conda-forge gcc 10.4.0-18)\n",
      "  configuration: --prefix=/home/irmak/miniconda3/envs/tactile_learning --cc=/home/conda/feedstock_root/build_artifacts/ffmpeg_1666357487580/_build_env/bin/x86_64-conda-linux-gnu-cc --cxx=/home/conda/feedstock_root/build_artifacts/ffmpeg_1666357487580/_build_env/bin/x86_64-conda-linux-gnu-c++ --nm=/home/conda/feedstock_root/build_artifacts/ffmpeg_1666357487580/_build_env/bin/x86_64-conda-linux-gnu-nm --ar=/home/conda/feedstock_root/build_artifacts/ffmpeg_1666357487580/_build_env/bin/x86_64-conda-linux-gnu-ar --disable-doc --disable-openssl --enable-demuxer=dash --enable-hardcoded-tables --enable-libfreetype --enable-libfontconfig --enable-libopenh264 --enable-gnutls --enable-libmp3lame --enable-libvpx --enable-pthreads --enable-vaapi --enable-gpl --enable-libx264 --enable-libx265 --enable-libaom --enable-libsvtav1 --enable-libxml2 --enable-pic --enable-shared --disable-static --enable-version3 --enable-zlib --pkg-config=/home/conda/feedstock_root/build_artifacts/ffmpeg_1666357487580/_build_env/bin/pkg-config\n",
      "  libavutil      57. 28.100 / 57. 28.100\n",
      "  libavcodec     59. 37.100 / 59. 37.100\n",
      "  libavformat    59. 27.100 / 59. 27.100\n",
      "  libavdevice    59.  7.100 / 59.  7.100\n",
      "  libavfilter     8. 44.100 /  8. 44.100\n",
      "  libswscale      6.  7.100 /  6.  7.100\n",
      "  libswresample   4.  7.100 /  4.  7.100\n",
      "  libpostproc    56.  6.100 / 56.  6.100\n",
      "[image2 @ 0x56430ca08640] Pattern type 'glob_sequence' is deprecated: use pattern_type 'glob' instead\n",
      "Input #0, image2, from '/home/irmak/Workspace/Holo-Bot/extracted_data/gamepad/training/demonstration_10/visualization/%*.png':\n",
      "  Duration: 00:00:01.16, start: 0.000000, bitrate: N/A\n",
      "  Stream #0:0: Video: png, rgba(pc), 2000x2000 [SAR 3937:3937 DAR 1:1], 25 fps, 25 tbr, 25 tbn\n",
      "Stream mapping:\n",
      "  Stream #0:0 -> #0:0 (png (native) -> h264 (libx264))\n",
      "Press [q] to stop, [?] for help\n"
     ]
    },
    {
     "name": "stdout",
     "output_type": "stream",
     "text": [
      "dumping video in root: /home/irmak/Workspace/Holo-Bot/extracted_data/gamepad/training/demonstration_10\n"
     ]
    },
    {
     "name": "stderr",
     "output_type": "stream",
     "text": [
      "[libx264 @ 0x56430ca0e140] using SAR=1/1\n",
      "[libx264 @ 0x56430ca0e140] using cpu capabilities: MMX2 SSE2Fast SSSE3 SSE4.2 AVX FMA3 BMI2 AVX2\n",
      "[libx264 @ 0x56430ca0e140] profile High 4:4:4 Predictive, level 4.0, 4:4:4, 8-bit\n",
      "[libx264 @ 0x56430ca0e140] 264 - core 164 r3095 baee400 - H.264/MPEG-4 AVC codec - Copyleft 2003-2022 - http://www.videolan.org/x264.html - options: cabac=1 ref=3 deblock=1:0:0 analyse=0x3:0x113 me=hex subme=7 psy=1 psy_rd=1.00:0.00 mixed_ref=1 me_range=16 chroma_me=1 trellis=1 8x8dct=1 cqm=0 deadzone=21,11 fast_pskip=1 chroma_qp_offset=4 threads=22 lookahead_threads=3 sliced_threads=0 nr=0 decimate=1 interlaced=0 bluray_compat=0 constrained_intra=0 bframes=3 b_pyramid=2 b_adapt=1 b_bias=0 direct=1 weightb=1 open_gop=0 weightp=2 keyint=250 keyint_min=10 scenecut=40 intra_refresh=0 rc_lookahead=40 rc=crf mbtree=1 crf=23.0 qcomp=0.60 qpmin=0 qpmax=69 qpstep=4 ip_ratio=1.40 aq=1:1.00\n",
      "Output #0, mp4, to '/home/irmak/Workspace/Holo-Bot/extracted_data/gamepad/training/demonstration_10/visualization.mp4':\n",
      "  Metadata:\n",
      "    encoder         : Lavf59.27.100\n",
      "  Stream #0:0: Video: h264 (avc1 / 0x31637661), yuv444p(tv, progressive), 2000x720 [SAR 1:1 DAR 25:9], q=2-31, 10 fps, 10240 tbn\n",
      "    Metadata:\n",
      "      encoder         : Lavc59.37.100 libx264\n",
      "    Side data:\n",
      "      cpb: bitrate max/min/avg: 0/0/0 buffer size: 0 vbv_delay: N/A\n",
      "frame=   29 fps=0.0 q=-1.0 Lsize=     869kB time=00:00:02.60 bitrate=2737.3kbits/s speed=3.17x    \n",
      "video:868kB audio:0kB subtitle:0kB other streams:0kB global headers:0kB muxing overhead: 0.136980%\n",
      "[libx264 @ 0x56430ca0e140] frame I:1     Avg QP:22.35  size: 48628\n",
      "[libx264 @ 0x56430ca0e140] frame P:8     Avg QP:20.49  size: 53865\n",
      "[libx264 @ 0x56430ca0e140] frame B:20    Avg QP:23.02  size: 20411\n",
      "[libx264 @ 0x56430ca0e140] consecutive B-frames:  6.9%  0.0% 10.3% 82.8%\n",
      "[libx264 @ 0x56430ca0e140] mb I  I16..4: 29.2% 42.9% 27.9%\n",
      "[libx264 @ 0x56430ca0e140] mb P  I16..4:  2.7% 24.1%  1.8%  P16..4: 20.4% 12.7%  7.9%  0.0%  0.0%    skip:30.5%\n",
      "[libx264 @ 0x56430ca0e140] mb B  I16..4:  0.9% 11.3%  0.2%  B16..8: 23.1%  6.3%  1.7%  direct: 3.7%  skip:52.7%  L0:46.8% L1:44.7% BI: 8.6%\n",
      "[libx264 @ 0x56430ca0e140] 8x8 transform intra:80.0% inter:86.1%\n",
      "[libx264 @ 0x56430ca0e140] coded y,u,v intra: 60.7% 34.0% 30.5% inter: 19.7% 11.1% 10.4%\n",
      "[libx264 @ 0x56430ca0e140] i16 v,h,dc,p: 47% 32% 16%  6%\n",
      "[libx264 @ 0x56430ca0e140] i8 v,h,dc,ddl,ddr,vr,hd,vl,hu: 18% 19% 49%  2%  2%  2%  2%  2%  3%\n",
      "[libx264 @ 0x56430ca0e140] i4 v,h,dc,ddl,ddr,vr,hd,vl,hu: 39% 34% 12%  1%  3%  3%  4%  1%  4%\n",
      "[libx264 @ 0x56430ca0e140] Weighted P-Frames: Y:0.0% UV:0.0%\n",
      "[libx264 @ 0x56430ca0e140] ref P L0: 42.5%  8.4% 31.9% 17.2%\n",
      "[libx264 @ 0x56430ca0e140] ref B L0: 66.3% 26.3%  7.3%\n",
      "[libx264 @ 0x56430ca0e140] ref B L1: 90.5%  9.5%\n",
      "[libx264 @ 0x56430ca0e140] kb/s:2449.00\n",
      "ffmpeg version 5.1.2 Copyright (c) 2000-2022 the FFmpeg developers\n",
      "  built with gcc 10.4.0 (conda-forge gcc 10.4.0-18)\n",
      "  configuration: --prefix=/home/irmak/miniconda3/envs/tactile_learning --cc=/home/conda/feedstock_root/build_artifacts/ffmpeg_1666357487580/_build_env/bin/x86_64-conda-linux-gnu-cc --cxx=/home/conda/feedstock_root/build_artifacts/ffmpeg_1666357487580/_build_env/bin/x86_64-conda-linux-gnu-c++ --nm=/home/conda/feedstock_root/build_artifacts/ffmpeg_1666357487580/_build_env/bin/x86_64-conda-linux-gnu-nm --ar=/home/conda/feedstock_root/build_artifacts/ffmpeg_1666357487580/_build_env/bin/x86_64-conda-linux-gnu-ar --disable-doc --disable-openssl --enable-demuxer=dash --enable-hardcoded-tables --enable-libfreetype --enable-libfontconfig --enable-libopenh264 --enable-gnutls --enable-libmp3lame --enable-libvpx --enable-pthreads --enable-vaapi --enable-gpl --enable-libx264 --enable-libx265 --enable-libaom --enable-libsvtav1 --enable-libxml2 --enable-pic --enable-shared --disable-static --enable-version3 --enable-zlib --pkg-config=/home/conda/feedstock_root/build_artifacts/ffmpeg_1666357487580/_build_env/bin/pkg-config\n",
      "  libavutil      57. 28.100 / 57. 28.100\n",
      "  libavcodec     59. 37.100 / 59. 37.100\n",
      "  libavformat    59. 27.100 / 59. 27.100\n",
      "  libavdevice    59.  7.100 / 59.  7.100\n",
      "  libavfilter     8. 44.100 /  8. 44.100\n",
      "  libswscale      6.  7.100 /  6.  7.100\n",
      "  libswresample   4.  7.100 /  4.  7.100\n",
      "  libpostproc    56.  6.100 / 56.  6.100\n",
      "[image2 @ 0x56406bc24640] Pattern type 'glob_sequence' is deprecated: use pattern_type 'glob' instead\n",
      "Input #0, image2, from '/home/irmak/Workspace/Holo-Bot/extracted_data/gamepad/training/demonstration_22/visualization/%*.png':\n",
      "  Duration: 00:00:00.72, start: 0.000000, bitrate: N/A\n",
      "  Stream #0:0: Video: png, rgba(pc), 2000x2000 [SAR 3937:3937 DAR 1:1], 25 fps, 25 tbr, 25 tbn\n",
      "Stream mapping:\n",
      "  Stream #0:0 -> #0:0 (png (native) -> h264 (libx264))\n",
      "Press [q] to stop, [?] for help\n"
     ]
    },
    {
     "name": "stdout",
     "output_type": "stream",
     "text": [
      "dumping video in root: /home/irmak/Workspace/Holo-Bot/extracted_data/gamepad/training/demonstration_22\n"
     ]
    },
    {
     "name": "stderr",
     "output_type": "stream",
     "text": [
      "[libx264 @ 0x56406bc2b040] using SAR=1/1\n",
      "[libx264 @ 0x56406bc2b040] using cpu capabilities: MMX2 SSE2Fast SSSE3 SSE4.2 AVX FMA3 BMI2 AVX2\n",
      "[libx264 @ 0x56406bc2b040] profile High 4:4:4 Predictive, level 4.0, 4:4:4, 8-bit\n",
      "[libx264 @ 0x56406bc2b040] 264 - core 164 r3095 baee400 - H.264/MPEG-4 AVC codec - Copyleft 2003-2022 - http://www.videolan.org/x264.html - options: cabac=1 ref=3 deblock=1:0:0 analyse=0x3:0x113 me=hex subme=7 psy=1 psy_rd=1.00:0.00 mixed_ref=1 me_range=16 chroma_me=1 trellis=1 8x8dct=1 cqm=0 deadzone=21,11 fast_pskip=1 chroma_qp_offset=4 threads=22 lookahead_threads=3 sliced_threads=0 nr=0 decimate=1 interlaced=0 bluray_compat=0 constrained_intra=0 bframes=3 b_pyramid=2 b_adapt=1 b_bias=0 direct=1 weightb=1 open_gop=0 weightp=2 keyint=250 keyint_min=10 scenecut=40 intra_refresh=0 rc_lookahead=40 rc=crf mbtree=1 crf=23.0 qcomp=0.60 qpmin=0 qpmax=69 qpstep=4 ip_ratio=1.40 aq=1:1.00\n",
      "Output #0, mp4, to '/home/irmak/Workspace/Holo-Bot/extracted_data/gamepad/training/demonstration_22/visualization.mp4':\n",
      "  Metadata:\n",
      "    encoder         : Lavf59.27.100\n",
      "  Stream #0:0: Video: h264 (avc1 / 0x31637661), yuv444p(tv, progressive), 2000x720 [SAR 1:1 DAR 25:9], q=2-31, 10 fps, 10240 tbn\n",
      "    Metadata:\n",
      "      encoder         : Lavc59.37.100 libx264\n",
      "    Side data:\n",
      "      cpb: bitrate max/min/avg: 0/0/0 buffer size: 0 vbv_delay: N/A\n",
      "frame=   18 fps=0.0 q=-1.0 Lsize=     556kB time=00:00:01.50 bitrate=3035.1kbits/s speed=2.14x    \n",
      "video:555kB audio:0kB subtitle:0kB other streams:0kB global headers:0kB muxing overhead: 0.192423%\n",
      "[libx264 @ 0x56406bc2b040] frame I:1     Avg QP:22.45  size: 49662\n",
      "[libx264 @ 0x56406bc2b040] frame P:5     Avg QP:21.45  size: 55810\n",
      "[libx264 @ 0x56406bc2b040] frame B:12    Avg QP:22.90  size: 19885\n",
      "[libx264 @ 0x56406bc2b040] consecutive B-frames: 11.1%  0.0%  0.0% 88.9%\n",
      "[libx264 @ 0x56406bc2b040] mb I  I16..4: 30.0% 41.2% 28.8%\n",
      "[libx264 @ 0x56406bc2b040] mb P  I16..4:  4.0% 29.3%  3.1%  P16..4: 18.9% 11.0%  6.3%  0.0%  0.0%    skip:27.5%\n",
      "[libx264 @ 0x56406bc2b040] mb B  I16..4:  1.4% 10.7%  0.3%  B16..8: 21.4%  5.7%  1.6%  direct: 4.2%  skip:54.7%  L0:38.9% L1:53.0% BI: 8.1%\n",
      "[libx264 @ 0x56406bc2b040] 8x8 transform intra:73.5% inter:85.3%\n",
      "[libx264 @ 0x56406bc2b040] coded y,u,v intra: 54.1% 29.5% 25.9% inter: 18.4% 10.0% 9.1%\n",
      "[libx264 @ 0x56406bc2b040] i16 v,h,dc,p: 48% 33% 13%  7%\n",
      "[libx264 @ 0x56406bc2b040] i8 v,h,dc,ddl,ddr,vr,hd,vl,hu: 21% 21% 41%  3%  3%  3%  3%  2%  4%\n",
      "[libx264 @ 0x56406bc2b040] i4 v,h,dc,ddl,ddr,vr,hd,vl,hu: 38% 35% 12%  2%  2%  3%  4%  2%  4%\n",
      "[libx264 @ 0x56406bc2b040] Weighted P-Frames: Y:0.0% UV:0.0%\n",
      "[libx264 @ 0x56406bc2b040] ref P L0: 55.5%  4.7% 30.4%  9.4%\n",
      "[libx264 @ 0x56406bc2b040] ref B L0: 77.7% 20.5%  1.8%\n",
      "[libx264 @ 0x56406bc2b040] ref B L1: 90.9%  9.1%\n",
      "[libx264 @ 0x56406bc2b040] kb/s:2521.47\n",
      "ffmpeg version 5.1.2 Copyright (c) 2000-2022 the FFmpeg developers\n",
      "  built with gcc 10.4.0 (conda-forge gcc 10.4.0-18)\n",
      "  configuration: --prefix=/home/irmak/miniconda3/envs/tactile_learning --cc=/home/conda/feedstock_root/build_artifacts/ffmpeg_1666357487580/_build_env/bin/x86_64-conda-linux-gnu-cc --cxx=/home/conda/feedstock_root/build_artifacts/ffmpeg_1666357487580/_build_env/bin/x86_64-conda-linux-gnu-c++ --nm=/home/conda/feedstock_root/build_artifacts/ffmpeg_1666357487580/_build_env/bin/x86_64-conda-linux-gnu-nm --ar=/home/conda/feedstock_root/build_artifacts/ffmpeg_1666357487580/_build_env/bin/x86_64-conda-linux-gnu-ar --disable-doc --disable-openssl --enable-demuxer=dash --enable-hardcoded-tables --enable-libfreetype --enable-libfontconfig --enable-libopenh264 --enable-gnutls --enable-libmp3lame --enable-libvpx --enable-pthreads --enable-vaapi --enable-gpl --enable-libx264 --enable-libx265 --enable-libaom --enable-libsvtav1 --enable-libxml2 --enable-pic --enable-shared --disable-static --enable-version3 --enable-zlib --pkg-config=/home/conda/feedstock_root/build_artifacts/ffmpeg_1666357487580/_build_env/bin/pkg-config\n",
      "  libavutil      57. 28.100 / 57. 28.100\n",
      "  libavcodec     59. 37.100 / 59. 37.100\n",
      "  libavformat    59. 27.100 / 59. 27.100\n",
      "  libavdevice    59.  7.100 / 59.  7.100\n",
      "  libavfilter     8. 44.100 /  8. 44.100\n",
      "  libswscale      6.  7.100 /  6.  7.100\n",
      "  libswresample   4.  7.100 /  4.  7.100\n",
      "  libpostproc    56.  6.100 / 56.  6.100\n",
      "[image2 @ 0x5631fd305640] Pattern type 'glob_sequence' is deprecated: use pattern_type 'glob' instead\n",
      "Input #0, image2, from '/home/irmak/Workspace/Holo-Bot/extracted_data/gamepad/training/demonstration_21/visualization/%*.png':\n",
      "  Duration: 00:00:00.68, start: 0.000000, bitrate: N/A\n",
      "  Stream #0:0: Video: png, rgba(pc), 2000x2000 [SAR 3937:3937 DAR 1:1], 25 fps, 25 tbr, 25 tbn\n",
      "Stream mapping:\n",
      "  Stream #0:0 -> #0:0 (png (native) -> h264 (libx264))\n",
      "Press [q] to stop, [?] for help\n"
     ]
    },
    {
     "name": "stdout",
     "output_type": "stream",
     "text": [
      "dumping video in root: /home/irmak/Workspace/Holo-Bot/extracted_data/gamepad/training/demonstration_21\n"
     ]
    },
    {
     "name": "stderr",
     "output_type": "stream",
     "text": [
      "[libx264 @ 0x5631fd30bfc0] using SAR=1/1\n",
      "[libx264 @ 0x5631fd30bfc0] using cpu capabilities: MMX2 SSE2Fast SSSE3 SSE4.2 AVX FMA3 BMI2 AVX2\n",
      "[libx264 @ 0x5631fd30bfc0] profile High 4:4:4 Predictive, level 4.0, 4:4:4, 8-bit\n",
      "[libx264 @ 0x5631fd30bfc0] 264 - core 164 r3095 baee400 - H.264/MPEG-4 AVC codec - Copyleft 2003-2022 - http://www.videolan.org/x264.html - options: cabac=1 ref=3 deblock=1:0:0 analyse=0x3:0x113 me=hex subme=7 psy=1 psy_rd=1.00:0.00 mixed_ref=1 me_range=16 chroma_me=1 trellis=1 8x8dct=1 cqm=0 deadzone=21,11 fast_pskip=1 chroma_qp_offset=4 threads=22 lookahead_threads=3 sliced_threads=0 nr=0 decimate=1 interlaced=0 bluray_compat=0 constrained_intra=0 bframes=3 b_pyramid=2 b_adapt=1 b_bias=0 direct=1 weightb=1 open_gop=0 weightp=2 keyint=250 keyint_min=10 scenecut=40 intra_refresh=0 rc_lookahead=40 rc=crf mbtree=1 crf=23.0 qcomp=0.60 qpmin=0 qpmax=69 qpstep=4 ip_ratio=1.40 aq=1:1.00\n",
      "Output #0, mp4, to '/home/irmak/Workspace/Holo-Bot/extracted_data/gamepad/training/demonstration_21/visualization.mp4':\n",
      "  Metadata:\n",
      "    encoder         : Lavf59.27.100\n",
      "  Stream #0:0: Video: h264 (avc1 / 0x31637661), yuv444p(tv, progressive), 2000x720 [SAR 1:1 DAR 25:9], q=2-31, 10 fps, 10240 tbn\n",
      "    Metadata:\n",
      "      encoder         : Lavc59.37.100 libx264\n",
      "    Side data:\n",
      "      cpb: bitrate max/min/avg: 0/0/0 buffer size: 0 vbv_delay: N/A\n",
      "frame=   17 fps=0.0 q=-1.0 Lsize=     533kB time=00:00:01.40 bitrate=3116.6kbits/s speed=2.07x    \n",
      "video:532kB audio:0kB subtitle:0kB other streams:0kB global headers:0kB muxing overhead: 0.198581%\n",
      "[libx264 @ 0x5631fd30bfc0] frame I:1     Avg QP:22.50  size: 50583\n",
      "[libx264 @ 0x5631fd30bfc0] frame P:4     Avg QP:21.39  size: 62262\n",
      "[libx264 @ 0x5631fd30bfc0] frame B:12    Avg QP:22.50  size: 20337\n",
      "[libx264 @ 0x5631fd30bfc0] consecutive B-frames:  5.9%  0.0%  0.0% 94.1%\n",
      "[libx264 @ 0x5631fd30bfc0] mb I  I16..4: 27.8% 43.6% 28.6%\n",
      "[libx264 @ 0x5631fd30bfc0] mb P  I16..4:  4.8% 33.5%  3.7%  P16..4: 16.6%  9.9%  6.0%  0.0%  0.0%    skip:25.5%\n",
      "[libx264 @ 0x5631fd30bfc0] mb B  I16..4:  1.1% 10.2%  0.2%  B16..8: 21.4%  6.4%  1.8%  direct: 4.2%  skip:54.7%  L0:47.7% L1:44.4% BI: 7.8%\n",
      "[libx264 @ 0x5631fd30bfc0] 8x8 transform intra:73.9% inter:85.1%\n",
      "[libx264 @ 0x5631fd30bfc0] coded y,u,v intra: 54.4% 29.9% 26.2% inter: 18.9% 10.3% 9.4%\n",
      "[libx264 @ 0x5631fd30bfc0] i16 v,h,dc,p: 45% 35% 14%  6%\n",
      "[libx264 @ 0x5631fd30bfc0] i8 v,h,dc,ddl,ddr,vr,hd,vl,hu: 20% 21% 43%  3%  3%  3%  2%  2%  4%\n",
      "[libx264 @ 0x5631fd30bfc0] i4 v,h,dc,ddl,ddr,vr,hd,vl,hu: 36% 36% 12%  1%  3%  2%  4%  1%  4%\n",
      "[libx264 @ 0x5631fd30bfc0] Weighted P-Frames: Y:0.0% UV:0.0%\n",
      "[libx264 @ 0x5631fd30bfc0] ref P L0: 58.4%  4.4% 28.7%  8.4%\n",
      "[libx264 @ 0x5631fd30bfc0] ref B L0: 75.6% 22.9%  1.5%\n",
      "[libx264 @ 0x5631fd30bfc0] ref B L1: 89.0% 11.0%\n",
      "[libx264 @ 0x5631fd30bfc0] kb/s:2558.46\n",
      "ffmpeg version 5.1.2 Copyright (c) 2000-2022 the FFmpeg developers\n",
      "  built with gcc 10.4.0 (conda-forge gcc 10.4.0-18)\n",
      "  configuration: --prefix=/home/irmak/miniconda3/envs/tactile_learning --cc=/home/conda/feedstock_root/build_artifacts/ffmpeg_1666357487580/_build_env/bin/x86_64-conda-linux-gnu-cc --cxx=/home/conda/feedstock_root/build_artifacts/ffmpeg_1666357487580/_build_env/bin/x86_64-conda-linux-gnu-c++ --nm=/home/conda/feedstock_root/build_artifacts/ffmpeg_1666357487580/_build_env/bin/x86_64-conda-linux-gnu-nm --ar=/home/conda/feedstock_root/build_artifacts/ffmpeg_1666357487580/_build_env/bin/x86_64-conda-linux-gnu-ar --disable-doc --disable-openssl --enable-demuxer=dash --enable-hardcoded-tables --enable-libfreetype --enable-libfontconfig --enable-libopenh264 --enable-gnutls --enable-libmp3lame --enable-libvpx --enable-pthreads --enable-vaapi --enable-gpl --enable-libx264 --enable-libx265 --enable-libaom --enable-libsvtav1 --enable-libxml2 --enable-pic --enable-shared --disable-static --enable-version3 --enable-zlib --pkg-config=/home/conda/feedstock_root/build_artifacts/ffmpeg_1666357487580/_build_env/bin/pkg-config\n",
      "  libavutil      57. 28.100 / 57. 28.100\n",
      "  libavcodec     59. 37.100 / 59. 37.100\n",
      "  libavformat    59. 27.100 / 59. 27.100\n",
      "  libavdevice    59.  7.100 / 59.  7.100\n",
      "  libavfilter     8. 44.100 /  8. 44.100\n",
      "  libswscale      6.  7.100 /  6.  7.100\n",
      "  libswresample   4.  7.100 /  4.  7.100\n",
      "  libpostproc    56.  6.100 / 56.  6.100\n",
      "[image2 @ 0x5641cf899640] Pattern type 'glob_sequence' is deprecated: use pattern_type 'glob' instead\n",
      "Input #0, image2, from '/home/irmak/Workspace/Holo-Bot/extracted_data/gamepad/training/demonstration_12/visualization/%*.png':\n",
      "  Duration: 00:00:00.80, start: 0.000000, bitrate: N/A\n",
      "  Stream #0:0: Video: png, rgba(pc), 2000x2000 [SAR 3937:3937 DAR 1:1], 25 fps, 25 tbr, 25 tbn\n",
      "Stream mapping:\n",
      "  Stream #0:0 -> #0:0 (png (native) -> h264 (libx264))\n",
      "Press [q] to stop, [?] for help\n"
     ]
    },
    {
     "name": "stdout",
     "output_type": "stream",
     "text": [
      "dumping video in root: /home/irmak/Workspace/Holo-Bot/extracted_data/gamepad/training/demonstration_12\n"
     ]
    },
    {
     "name": "stderr",
     "output_type": "stream",
     "text": [
      "[libx264 @ 0x5641cf8a0140] using SAR=1/1\n",
      "[libx264 @ 0x5641cf8a0140] using cpu capabilities: MMX2 SSE2Fast SSSE3 SSE4.2 AVX FMA3 BMI2 AVX2\n",
      "[libx264 @ 0x5641cf8a0140] profile High 4:4:4 Predictive, level 4.0, 4:4:4, 8-bit\n",
      "[libx264 @ 0x5641cf8a0140] 264 - core 164 r3095 baee400 - H.264/MPEG-4 AVC codec - Copyleft 2003-2022 - http://www.videolan.org/x264.html - options: cabac=1 ref=3 deblock=1:0:0 analyse=0x3:0x113 me=hex subme=7 psy=1 psy_rd=1.00:0.00 mixed_ref=1 me_range=16 chroma_me=1 trellis=1 8x8dct=1 cqm=0 deadzone=21,11 fast_pskip=1 chroma_qp_offset=4 threads=22 lookahead_threads=3 sliced_threads=0 nr=0 decimate=1 interlaced=0 bluray_compat=0 constrained_intra=0 bframes=3 b_pyramid=2 b_adapt=1 b_bias=0 direct=1 weightb=1 open_gop=0 weightp=2 keyint=250 keyint_min=10 scenecut=40 intra_refresh=0 rc_lookahead=40 rc=crf mbtree=1 crf=23.0 qcomp=0.60 qpmin=0 qpmax=69 qpstep=4 ip_ratio=1.40 aq=1:1.00\n",
      "Output #0, mp4, to '/home/irmak/Workspace/Holo-Bot/extracted_data/gamepad/training/demonstration_12/visualization.mp4':\n",
      "  Metadata:\n",
      "    encoder         : Lavf59.27.100\n",
      "  Stream #0:0: Video: h264 (avc1 / 0x31637661), yuv444p(tv, progressive), 2000x720 [SAR 1:1 DAR 25:9], q=2-31, 10 fps, 10240 tbn\n",
      "    Metadata:\n",
      "      encoder         : Lavc59.37.100 libx264\n",
      "    Side data:\n",
      "      cpb: bitrate max/min/avg: 0/0/0 buffer size: 0 vbv_delay: N/A\n",
      "frame=   20 fps=0.0 q=-1.0 Lsize=     640kB time=00:00:01.70 bitrate=3085.6kbits/s speed=2.31x    \n",
      "video:639kB audio:0kB subtitle:0kB other streams:0kB global headers:0kB muxing overhead: 0.170636%\n",
      "[libx264 @ 0x5641cf8a0140] frame I:1     Avg QP:22.43  size: 48108\n",
      "[libx264 @ 0x5641cf8a0140] frame P:6     Avg QP:21.07  size: 55872\n",
      "[libx264 @ 0x5641cf8a0140] frame B:13    Avg QP:22.95  size: 20814\n",
      "[libx264 @ 0x5641cf8a0140] consecutive B-frames: 10.0% 10.0%  0.0% 80.0%\n",
      "[libx264 @ 0x5641cf8a0140] mb I  I16..4: 30.1% 42.8% 27.1%\n",
      "[libx264 @ 0x5641cf8a0140] mb P  I16..4:  3.4% 28.7%  2.5%  P16..4: 18.4% 10.6%  6.8%  0.0%  0.0%    skip:29.7%\n",
      "[libx264 @ 0x5641cf8a0140] mb B  I16..4:  1.0% 10.2%  0.2%  B16..8: 22.5%  6.3%  1.7%  direct: 4.0%  skip:54.0%  L0:44.0% L1:47.5% BI: 8.5%\n",
      "[libx264 @ 0x5641cf8a0140] 8x8 transform intra:76.2% inter:85.2%\n",
      "[libx264 @ 0x5641cf8a0140] coded y,u,v intra: 57.7% 32.3% 28.7% inter: 19.8% 11.1% 10.1%\n",
      "[libx264 @ 0x5641cf8a0140] i16 v,h,dc,p: 48% 34% 13%  5%\n",
      "[libx264 @ 0x5641cf8a0140] i8 v,h,dc,ddl,ddr,vr,hd,vl,hu: 19% 20% 44%  3%  3%  3%  2%  2%  4%\n",
      "[libx264 @ 0x5641cf8a0140] i4 v,h,dc,ddl,ddr,vr,hd,vl,hu: 36% 36% 12%  2%  2%  2%  4%  2%  4%\n",
      "[libx264 @ 0x5641cf8a0140] Weighted P-Frames: Y:0.0% UV:0.0%\n",
      "[libx264 @ 0x5641cf8a0140] ref P L0: 51.6%  9.2% 26.3% 12.9%\n",
      "[libx264 @ 0x5641cf8a0140] ref B L0: 75.1% 21.4%  3.5%\n",
      "[libx264 @ 0x5641cf8a0140] ref B L1: 90.2%  9.8%\n",
      "[libx264 @ 0x5641cf8a0140] kb/s:2615.68\n",
      "ffmpeg version 5.1.2 Copyright (c) 2000-2022 the FFmpeg developers\n",
      "  built with gcc 10.4.0 (conda-forge gcc 10.4.0-18)\n",
      "  configuration: --prefix=/home/irmak/miniconda3/envs/tactile_learning --cc=/home/conda/feedstock_root/build_artifacts/ffmpeg_1666357487580/_build_env/bin/x86_64-conda-linux-gnu-cc --cxx=/home/conda/feedstock_root/build_artifacts/ffmpeg_1666357487580/_build_env/bin/x86_64-conda-linux-gnu-c++ --nm=/home/conda/feedstock_root/build_artifacts/ffmpeg_1666357487580/_build_env/bin/x86_64-conda-linux-gnu-nm --ar=/home/conda/feedstock_root/build_artifacts/ffmpeg_1666357487580/_build_env/bin/x86_64-conda-linux-gnu-ar --disable-doc --disable-openssl --enable-demuxer=dash --enable-hardcoded-tables --enable-libfreetype --enable-libfontconfig --enable-libopenh264 --enable-gnutls --enable-libmp3lame --enable-libvpx --enable-pthreads --enable-vaapi --enable-gpl --enable-libx264 --enable-libx265 --enable-libaom --enable-libsvtav1 --enable-libxml2 --enable-pic --enable-shared --disable-static --enable-version3 --enable-zlib --pkg-config=/home/conda/feedstock_root/build_artifacts/ffmpeg_1666357487580/_build_env/bin/pkg-config\n",
      "  libavutil      57. 28.100 / 57. 28.100\n",
      "  libavcodec     59. 37.100 / 59. 37.100\n",
      "  libavformat    59. 27.100 / 59. 27.100\n",
      "  libavdevice    59.  7.100 / 59.  7.100\n",
      "  libavfilter     8. 44.100 /  8. 44.100\n",
      "  libswscale      6.  7.100 /  6.  7.100\n",
      "  libswresample   4.  7.100 /  4.  7.100\n",
      "  libpostproc    56.  6.100 / 56.  6.100\n",
      "[image2 @ 0x5557c4ea3640] Pattern type 'glob_sequence' is deprecated: use pattern_type 'glob' instead\n",
      "Input #0, image2, from '/home/irmak/Workspace/Holo-Bot/extracted_data/gamepad/training/demonstration_20/visualization/%*.png':\n",
      "  Duration: 00:00:00.48, start: 0.000000, bitrate: N/A\n",
      "  Stream #0:0: Video: png, rgba(pc), 2000x2000 [SAR 3937:3937 DAR 1:1], 25 fps, 25 tbr, 25 tbn\n",
      "Stream mapping:\n",
      "  Stream #0:0 -> #0:0 (png (native) -> h264 (libx264))\n",
      "Press [q] to stop, [?] for help\n"
     ]
    },
    {
     "name": "stdout",
     "output_type": "stream",
     "text": [
      "dumping video in root: /home/irmak/Workspace/Holo-Bot/extracted_data/gamepad/training/demonstration_20\n"
     ]
    },
    {
     "name": "stderr",
     "output_type": "stream",
     "text": [
      "[libx264 @ 0x5557c4eaa240] using SAR=1/1\n",
      "[libx264 @ 0x5557c4eaa240] using cpu capabilities: MMX2 SSE2Fast SSSE3 SSE4.2 AVX FMA3 BMI2 AVX2\n",
      "[libx264 @ 0x5557c4eaa240] profile High 4:4:4 Predictive, level 4.0, 4:4:4, 8-bit\n",
      "[libx264 @ 0x5557c4eaa240] 264 - core 164 r3095 baee400 - H.264/MPEG-4 AVC codec - Copyleft 2003-2022 - http://www.videolan.org/x264.html - options: cabac=1 ref=3 deblock=1:0:0 analyse=0x3:0x113 me=hex subme=7 psy=1 psy_rd=1.00:0.00 mixed_ref=1 me_range=16 chroma_me=1 trellis=1 8x8dct=1 cqm=0 deadzone=21,11 fast_pskip=1 chroma_qp_offset=4 threads=22 lookahead_threads=3 sliced_threads=0 nr=0 decimate=1 interlaced=0 bluray_compat=0 constrained_intra=0 bframes=3 b_pyramid=2 b_adapt=1 b_bias=0 direct=1 weightb=1 open_gop=0 weightp=2 keyint=250 keyint_min=10 scenecut=40 intra_refresh=0 rc_lookahead=40 rc=crf mbtree=1 crf=23.0 qcomp=0.60 qpmin=0 qpmax=69 qpstep=4 ip_ratio=1.40 aq=1:1.00\n",
      "Output #0, mp4, to '/home/irmak/Workspace/Holo-Bot/extracted_data/gamepad/training/demonstration_20/visualization.mp4':\n",
      "  Metadata:\n",
      "    encoder         : Lavf59.27.100\n",
      "  Stream #0:0: Video: h264 (avc1 / 0x31637661), yuv444p(tv, progressive), 2000x720 [SAR 1:1 DAR 25:9], q=2-31, 10 fps, 10240 tbn\n",
      "    Metadata:\n",
      "      encoder         : Lavc59.37.100 libx264\n",
      "    Side data:\n",
      "      cpb: bitrate max/min/avg: 0/0/0 buffer size: 0 vbv_delay: N/A\n",
      "frame=   12 fps=0.0 q=-1.0 Lsize=     429kB time=00:00:00.90 bitrate=3905.7kbits/s speed=1.53x    \n",
      "video:428kB audio:0kB subtitle:0kB other streams:0kB global headers:0kB muxing overhead: 0.231056%\n",
      "[libx264 @ 0x5557c4eaa240] frame I:1     Avg QP:22.86  size: 48333\n",
      "[libx264 @ 0x5557c4eaa240] frame P:3     Avg QP:22.22  size: 64641\n",
      "[libx264 @ 0x5557c4eaa240] frame B:8     Avg QP:22.87  size: 24434\n",
      "[libx264 @ 0x5557c4eaa240] consecutive B-frames:  8.3%  0.0% 25.0% 66.7%\n",
      "[libx264 @ 0x5557c4eaa240] mb I  I16..4: 28.6% 43.8% 27.7%\n",
      "[libx264 @ 0x5557c4eaa240] mb P  I16..4:  4.7% 40.7%  4.6%  P16..4: 13.1%  8.3%  4.8%  0.0%  0.0%    skip:23.8%\n",
      "[libx264 @ 0x5557c4eaa240] mb B  I16..4:  1.1% 12.8%  0.4%  B16..8: 21.6%  6.6%  2.0%  direct: 4.9%  skip:50.6%  L0:44.1% L1:47.2% BI: 8.7%\n",
      "[libx264 @ 0x5557c4eaa240] 8x8 transform intra:73.6% inter:83.1%\n",
      "[libx264 @ 0x5557c4eaa240] coded y,u,v intra: 55.5% 30.0% 27.5% inter: 20.0% 11.0% 10.7%\n",
      "[libx264 @ 0x5557c4eaa240] i16 v,h,dc,p: 48% 37% 10%  5%\n",
      "[libx264 @ 0x5557c4eaa240] i8 v,h,dc,ddl,ddr,vr,hd,vl,hu: 22% 21% 41%  3%  2%  3%  2%  2%  4%\n",
      "[libx264 @ 0x5557c4eaa240] i4 v,h,dc,ddl,ddr,vr,hd,vl,hu: 39% 34% 12%  1%  2%  2%  4%  2%  4%\n",
      "[libx264 @ 0x5557c4eaa240] Weighted P-Frames: Y:0.0% UV:0.0%\n",
      "[libx264 @ 0x5557c4eaa240] ref P L0: 62.8%  3.7% 25.1%  8.4%\n",
      "[libx264 @ 0x5557c4eaa240] ref B L0: 74.5% 22.9%  2.6%\n",
      "[libx264 @ 0x5557c4eaa240] ref B L1: 92.0%  8.0%\n",
      "[libx264 @ 0x5557c4eaa240] kb/s:2918.22\n",
      "ffmpeg version 5.1.2 Copyright (c) 2000-2022 the FFmpeg developers\n",
      "  built with gcc 10.4.0 (conda-forge gcc 10.4.0-18)\n",
      "  configuration: --prefix=/home/irmak/miniconda3/envs/tactile_learning --cc=/home/conda/feedstock_root/build_artifacts/ffmpeg_1666357487580/_build_env/bin/x86_64-conda-linux-gnu-cc --cxx=/home/conda/feedstock_root/build_artifacts/ffmpeg_1666357487580/_build_env/bin/x86_64-conda-linux-gnu-c++ --nm=/home/conda/feedstock_root/build_artifacts/ffmpeg_1666357487580/_build_env/bin/x86_64-conda-linux-gnu-nm --ar=/home/conda/feedstock_root/build_artifacts/ffmpeg_1666357487580/_build_env/bin/x86_64-conda-linux-gnu-ar --disable-doc --disable-openssl --enable-demuxer=dash --enable-hardcoded-tables --enable-libfreetype --enable-libfontconfig --enable-libopenh264 --enable-gnutls --enable-libmp3lame --enable-libvpx --enable-pthreads --enable-vaapi --enable-gpl --enable-libx264 --enable-libx265 --enable-libaom --enable-libsvtav1 --enable-libxml2 --enable-pic --enable-shared --disable-static --enable-version3 --enable-zlib --pkg-config=/home/conda/feedstock_root/build_artifacts/ffmpeg_1666357487580/_build_env/bin/pkg-config\n",
      "  libavutil      57. 28.100 / 57. 28.100\n",
      "  libavcodec     59. 37.100 / 59. 37.100\n",
      "  libavformat    59. 27.100 / 59. 27.100\n",
      "  libavdevice    59.  7.100 / 59.  7.100\n",
      "  libavfilter     8. 44.100 /  8. 44.100\n",
      "  libswscale      6.  7.100 /  6.  7.100\n",
      "  libswresample   4.  7.100 /  4.  7.100\n",
      "  libpostproc    56.  6.100 / 56.  6.100\n",
      "[image2 @ 0x55f267d4a640] Pattern type 'glob_sequence' is deprecated: use pattern_type 'glob' instead\n",
      "Input #0, image2, from '/home/irmak/Workspace/Holo-Bot/extracted_data/gamepad/training/demonstration_25/visualization/%*.png':\n",
      "  Duration: 00:00:01.00, start: 0.000000, bitrate: N/A\n",
      "  Stream #0:0: Video: png, rgba(pc), 2000x2000 [SAR 3937:3937 DAR 1:1], 25 fps, 25 tbr, 25 tbn\n",
      "Stream mapping:\n",
      "  Stream #0:0 -> #0:0 (png (native) -> h264 (libx264))\n",
      "Press [q] to stop, [?] for help\n"
     ]
    },
    {
     "name": "stdout",
     "output_type": "stream",
     "text": [
      "dumping video in root: /home/irmak/Workspace/Holo-Bot/extracted_data/gamepad/training/demonstration_25\n"
     ]
    },
    {
     "name": "stderr",
     "output_type": "stream",
     "text": [
      "[libx264 @ 0x55f267d513c0] using SAR=1/1\n",
      "[libx264 @ 0x55f267d513c0] using cpu capabilities: MMX2 SSE2Fast SSSE3 SSE4.2 AVX FMA3 BMI2 AVX2\n",
      "[libx264 @ 0x55f267d513c0] profile High 4:4:4 Predictive, level 4.0, 4:4:4, 8-bit\n",
      "[libx264 @ 0x55f267d513c0] 264 - core 164 r3095 baee400 - H.264/MPEG-4 AVC codec - Copyleft 2003-2022 - http://www.videolan.org/x264.html - options: cabac=1 ref=3 deblock=1:0:0 analyse=0x3:0x113 me=hex subme=7 psy=1 psy_rd=1.00:0.00 mixed_ref=1 me_range=16 chroma_me=1 trellis=1 8x8dct=1 cqm=0 deadzone=21,11 fast_pskip=1 chroma_qp_offset=4 threads=22 lookahead_threads=3 sliced_threads=0 nr=0 decimate=1 interlaced=0 bluray_compat=0 constrained_intra=0 bframes=3 b_pyramid=2 b_adapt=1 b_bias=0 direct=1 weightb=1 open_gop=0 weightp=2 keyint=250 keyint_min=10 scenecut=40 intra_refresh=0 rc_lookahead=40 rc=crf mbtree=1 crf=23.0 qcomp=0.60 qpmin=0 qpmax=69 qpstep=4 ip_ratio=1.40 aq=1:1.00\n",
      "Output #0, mp4, to '/home/irmak/Workspace/Holo-Bot/extracted_data/gamepad/training/demonstration_25/visualization.mp4':\n",
      "  Metadata:\n",
      "    encoder         : Lavf59.27.100\n",
      "  Stream #0:0: Video: h264 (avc1 / 0x31637661), yuv444p(tv, progressive), 2000x720 [SAR 1:1 DAR 25:9], q=2-31, 10 fps, 10240 tbn\n",
      "    Metadata:\n",
      "      encoder         : Lavc59.37.100 libx264\n",
      "    Side data:\n",
      "      cpb: bitrate max/min/avg: 0/0/0 buffer size: 0 vbv_delay: N/A\n",
      "frame=   25 fps=0.0 q=-1.0 Lsize=     743kB time=00:00:02.20 bitrate=2765.4kbits/s speed=2.81x    \n",
      "video:742kB audio:0kB subtitle:0kB other streams:0kB global headers:0kB muxing overhead: 0.155002%\n",
      "[libx264 @ 0x55f267d513c0] frame I:1     Avg QP:23.07  size: 48739\n",
      "[libx264 @ 0x55f267d513c0] frame P:6     Avg QP:21.07  size: 57786\n",
      "[libx264 @ 0x55f267d513c0] frame B:18    Avg QP:22.61  size: 20178\n",
      "[libx264 @ 0x55f267d513c0] consecutive B-frames:  4.0%  0.0%  0.0% 96.0%\n",
      "[libx264 @ 0x55f267d513c0] mb I  I16..4: 27.3% 44.7% 27.9%\n",
      "[libx264 @ 0x55f267d513c0] mb P  I16..4:  2.9% 28.0%  2.3%  P16..4: 19.2% 11.9%  6.7%  0.0%  0.0%    skip:29.0%\n",
      "[libx264 @ 0x55f267d513c0] mb B  I16..4:  0.9% 10.7%  0.2%  B16..8: 22.4%  5.9%  1.6%  direct: 4.0%  skip:54.3%  L0:48.3% L1:43.0% BI: 8.7%\n",
      "[libx264 @ 0x55f267d513c0] 8x8 transform intra:79.4% inter:87.1%\n",
      "[libx264 @ 0x55f267d513c0] coded y,u,v intra: 60.3% 34.1% 29.5% inter: 19.0% 10.8% 9.7%\n",
      "[libx264 @ 0x55f267d513c0] i16 v,h,dc,p: 46% 34% 14%  6%\n",
      "[libx264 @ 0x55f267d513c0] i8 v,h,dc,ddl,ddr,vr,hd,vl,hu: 19% 20% 47%  2%  2%  2%  2%  2%  3%\n",
      "[libx264 @ 0x55f267d513c0] i4 v,h,dc,ddl,ddr,vr,hd,vl,hu: 40% 34% 11%  1%  3%  2%  4%  1%  4%\n",
      "[libx264 @ 0x55f267d513c0] Weighted P-Frames: Y:16.7% UV:0.0%\n",
      "[libx264 @ 0x55f267d513c0] ref P L0: 44.7%  7.5% 32.6% 13.6%  1.5%\n",
      "[libx264 @ 0x55f267d513c0] ref B L0: 72.1% 23.5%  4.4%\n",
      "[libx264 @ 0x55f267d513c0] ref B L1: 88.4% 11.6%\n",
      "[libx264 @ 0x55f267d513c0] kb/s:2427.70\n",
      "ffmpeg version 5.1.2 Copyright (c) 2000-2022 the FFmpeg developers\n",
      "  built with gcc 10.4.0 (conda-forge gcc 10.4.0-18)\n",
      "  configuration: --prefix=/home/irmak/miniconda3/envs/tactile_learning --cc=/home/conda/feedstock_root/build_artifacts/ffmpeg_1666357487580/_build_env/bin/x86_64-conda-linux-gnu-cc --cxx=/home/conda/feedstock_root/build_artifacts/ffmpeg_1666357487580/_build_env/bin/x86_64-conda-linux-gnu-c++ --nm=/home/conda/feedstock_root/build_artifacts/ffmpeg_1666357487580/_build_env/bin/x86_64-conda-linux-gnu-nm --ar=/home/conda/feedstock_root/build_artifacts/ffmpeg_1666357487580/_build_env/bin/x86_64-conda-linux-gnu-ar --disable-doc --disable-openssl --enable-demuxer=dash --enable-hardcoded-tables --enable-libfreetype --enable-libfontconfig --enable-libopenh264 --enable-gnutls --enable-libmp3lame --enable-libvpx --enable-pthreads --enable-vaapi --enable-gpl --enable-libx264 --enable-libx265 --enable-libaom --enable-libsvtav1 --enable-libxml2 --enable-pic --enable-shared --disable-static --enable-version3 --enable-zlib --pkg-config=/home/conda/feedstock_root/build_artifacts/ffmpeg_1666357487580/_build_env/bin/pkg-config\n",
      "  libavutil      57. 28.100 / 57. 28.100\n",
      "  libavcodec     59. 37.100 / 59. 37.100\n",
      "  libavformat    59. 27.100 / 59. 27.100\n",
      "  libavdevice    59.  7.100 / 59.  7.100\n",
      "  libavfilter     8. 44.100 /  8. 44.100\n",
      "  libswscale      6.  7.100 /  6.  7.100\n",
      "  libswresample   4.  7.100 /  4.  7.100\n",
      "  libpostproc    56.  6.100 / 56.  6.100\n",
      "[image2 @ 0x564219e0c640] Pattern type 'glob_sequence' is deprecated: use pattern_type 'glob' instead\n",
      "Input #0, image2, from '/home/irmak/Workspace/Holo-Bot/extracted_data/gamepad/training/demonstration_24/visualization/%*.png':\n",
      "  Duration: 00:00:00.88, start: 0.000000, bitrate: N/A\n",
      "  Stream #0:0: Video: png, rgba(pc), 2000x2000 [SAR 3937:3937 DAR 1:1], 25 fps, 25 tbr, 25 tbn\n",
      "Stream mapping:\n",
      "  Stream #0:0 -> #0:0 (png (native) -> h264 (libx264))\n",
      "Press [q] to stop, [?] for help\n"
     ]
    },
    {
     "name": "stdout",
     "output_type": "stream",
     "text": [
      "dumping video in root: /home/irmak/Workspace/Holo-Bot/extracted_data/gamepad/training/demonstration_24\n"
     ]
    },
    {
     "name": "stderr",
     "output_type": "stream",
     "text": [
      "[libx264 @ 0x564219e13240] using SAR=1/1\n",
      "[libx264 @ 0x564219e13240] using cpu capabilities: MMX2 SSE2Fast SSSE3 SSE4.2 AVX FMA3 BMI2 AVX2\n",
      "[libx264 @ 0x564219e13240] profile High 4:4:4 Predictive, level 4.0, 4:4:4, 8-bit\n",
      "[libx264 @ 0x564219e13240] 264 - core 164 r3095 baee400 - H.264/MPEG-4 AVC codec - Copyleft 2003-2022 - http://www.videolan.org/x264.html - options: cabac=1 ref=3 deblock=1:0:0 analyse=0x3:0x113 me=hex subme=7 psy=1 psy_rd=1.00:0.00 mixed_ref=1 me_range=16 chroma_me=1 trellis=1 8x8dct=1 cqm=0 deadzone=21,11 fast_pskip=1 chroma_qp_offset=4 threads=22 lookahead_threads=3 sliced_threads=0 nr=0 decimate=1 interlaced=0 bluray_compat=0 constrained_intra=0 bframes=3 b_pyramid=2 b_adapt=1 b_bias=0 direct=1 weightb=1 open_gop=0 weightp=2 keyint=250 keyint_min=10 scenecut=40 intra_refresh=0 rc_lookahead=40 rc=crf mbtree=1 crf=23.0 qcomp=0.60 qpmin=0 qpmax=69 qpstep=4 ip_ratio=1.40 aq=1:1.00\n",
      "Output #0, mp4, to '/home/irmak/Workspace/Holo-Bot/extracted_data/gamepad/training/demonstration_24/visualization.mp4':\n",
      "  Metadata:\n",
      "    encoder         : Lavf59.27.100\n",
      "  Stream #0:0: Video: h264 (avc1 / 0x31637661), yuv444p(tv, progressive), 2000x720 [SAR 1:1 DAR 25:9], q=2-31, 10 fps, 10240 tbn\n",
      "    Metadata:\n",
      "      encoder         : Lavc59.37.100 libx264\n",
      "    Side data:\n",
      "      cpb: bitrate max/min/avg: 0/0/0 buffer size: 0 vbv_delay: N/A\n",
      "frame=   22 fps=0.0 q=-1.0 Lsize=     619kB time=00:00:01.90 bitrate=2668.4kbits/s speed=2.58x    \n",
      "video:618kB audio:0kB subtitle:0kB other streams:0kB global headers:0kB muxing overhead: 0.180357%\n",
      "[libx264 @ 0x564219e13240] frame I:1     Avg QP:22.31  size: 49923\n",
      "[libx264 @ 0x564219e13240] frame P:6     Avg QP:20.91  size: 53473\n",
      "[libx264 @ 0x564219e13240] frame B:15    Avg QP:22.52  size: 17412\n",
      "[libx264 @ 0x564219e13240] consecutive B-frames:  9.1%  0.0%  0.0% 90.9%\n",
      "[libx264 @ 0x564219e13240] mb I  I16..4: 30.0% 41.5% 28.5%\n",
      "[libx264 @ 0x564219e13240] mb P  I16..4:  3.6% 28.1%  2.4%  P16..4: 19.0% 10.7%  6.8%  0.0%  0.0%    skip:29.4%\n",
      "[libx264 @ 0x564219e13240] mb B  I16..4:  1.1%  8.9%  0.1%  B16..8: 22.6%  5.6%  1.5%  direct: 3.8%  skip:56.4%  L0:42.4% L1:50.2% BI: 7.4%\n",
      "[libx264 @ 0x564219e13240] 8x8 transform intra:75.5% inter:85.8%\n",
      "[libx264 @ 0x564219e13240] coded y,u,v intra: 54.7% 29.8% 27.0% inter: 17.6% 9.8% 9.8%\n",
      "[libx264 @ 0x564219e13240] i16 v,h,dc,p: 48% 32% 14%  6%\n",
      "[libx264 @ 0x564219e13240] i8 v,h,dc,ddl,ddr,vr,hd,vl,hu: 20% 20% 45%  2%  2%  2%  2%  2%  3%\n",
      "[libx264 @ 0x564219e13240] i4 v,h,dc,ddl,ddr,vr,hd,vl,hu: 39% 36% 11%  1%  2%  2%  4%  1%  4%\n",
      "[libx264 @ 0x564219e13240] Weighted P-Frames: Y:0.0% UV:0.0%\n",
      "[libx264 @ 0x564219e13240] ref P L0: 44.5%  7.2% 34.8% 13.6%\n",
      "[libx264 @ 0x564219e13240] ref B L0: 72.8% 23.1%  4.1%\n",
      "[libx264 @ 0x564219e13240] ref B L1: 88.6% 11.4%\n",
      "[libx264 @ 0x564219e13240] kb/s:2297.98\n",
      "ffmpeg version 5.1.2 Copyright (c) 2000-2022 the FFmpeg developers\n",
      "  built with gcc 10.4.0 (conda-forge gcc 10.4.0-18)\n",
      "  configuration: --prefix=/home/irmak/miniconda3/envs/tactile_learning --cc=/home/conda/feedstock_root/build_artifacts/ffmpeg_1666357487580/_build_env/bin/x86_64-conda-linux-gnu-cc --cxx=/home/conda/feedstock_root/build_artifacts/ffmpeg_1666357487580/_build_env/bin/x86_64-conda-linux-gnu-c++ --nm=/home/conda/feedstock_root/build_artifacts/ffmpeg_1666357487580/_build_env/bin/x86_64-conda-linux-gnu-nm --ar=/home/conda/feedstock_root/build_artifacts/ffmpeg_1666357487580/_build_env/bin/x86_64-conda-linux-gnu-ar --disable-doc --disable-openssl --enable-demuxer=dash --enable-hardcoded-tables --enable-libfreetype --enable-libfontconfig --enable-libopenh264 --enable-gnutls --enable-libmp3lame --enable-libvpx --enable-pthreads --enable-vaapi --enable-gpl --enable-libx264 --enable-libx265 --enable-libaom --enable-libsvtav1 --enable-libxml2 --enable-pic --enable-shared --disable-static --enable-version3 --enable-zlib --pkg-config=/home/conda/feedstock_root/build_artifacts/ffmpeg_1666357487580/_build_env/bin/pkg-config\n",
      "  libavutil      57. 28.100 / 57. 28.100\n",
      "  libavcodec     59. 37.100 / 59. 37.100\n",
      "  libavformat    59. 27.100 / 59. 27.100\n",
      "  libavdevice    59.  7.100 / 59.  7.100\n",
      "  libavfilter     8. 44.100 /  8. 44.100\n",
      "  libswscale      6.  7.100 /  6.  7.100\n",
      "  libswresample   4.  7.100 /  4.  7.100\n",
      "  libpostproc    56.  6.100 / 56.  6.100\n",
      "[image2 @ 0x559df3e94640] Pattern type 'glob_sequence' is deprecated: use pattern_type 'glob' instead\n",
      "Input #0, image2, from '/home/irmak/Workspace/Holo-Bot/extracted_data/gamepad/training/demonstration_19/visualization/%*.png':\n",
      "  Duration: 00:00:00.68, start: 0.000000, bitrate: N/A\n",
      "  Stream #0:0: Video: png, rgba(pc), 2000x2000 [SAR 3937:3937 DAR 1:1], 25 fps, 25 tbr, 25 tbn\n",
      "Stream mapping:\n",
      "  Stream #0:0 -> #0:0 (png (native) -> h264 (libx264))\n",
      "Press [q] to stop, [?] for help\n"
     ]
    },
    {
     "name": "stdout",
     "output_type": "stream",
     "text": [
      "dumping video in root: /home/irmak/Workspace/Holo-Bot/extracted_data/gamepad/training/demonstration_19\n"
     ]
    },
    {
     "name": "stderr",
     "output_type": "stream",
     "text": [
      "[libx264 @ 0x559df3e9afc0] using SAR=1/1\n",
      "[libx264 @ 0x559df3e9afc0] using cpu capabilities: MMX2 SSE2Fast SSSE3 SSE4.2 AVX FMA3 BMI2 AVX2\n",
      "[libx264 @ 0x559df3e9afc0] profile High 4:4:4 Predictive, level 4.0, 4:4:4, 8-bit\n",
      "[libx264 @ 0x559df3e9afc0] 264 - core 164 r3095 baee400 - H.264/MPEG-4 AVC codec - Copyleft 2003-2022 - http://www.videolan.org/x264.html - options: cabac=1 ref=3 deblock=1:0:0 analyse=0x3:0x113 me=hex subme=7 psy=1 psy_rd=1.00:0.00 mixed_ref=1 me_range=16 chroma_me=1 trellis=1 8x8dct=1 cqm=0 deadzone=21,11 fast_pskip=1 chroma_qp_offset=4 threads=22 lookahead_threads=3 sliced_threads=0 nr=0 decimate=1 interlaced=0 bluray_compat=0 constrained_intra=0 bframes=3 b_pyramid=2 b_adapt=1 b_bias=0 direct=1 weightb=1 open_gop=0 weightp=2 keyint=250 keyint_min=10 scenecut=40 intra_refresh=0 rc_lookahead=40 rc=crf mbtree=1 crf=23.0 qcomp=0.60 qpmin=0 qpmax=69 qpstep=4 ip_ratio=1.40 aq=1:1.00\n",
      "Output #0, mp4, to '/home/irmak/Workspace/Holo-Bot/extracted_data/gamepad/training/demonstration_19/visualization.mp4':\n",
      "  Metadata:\n",
      "    encoder         : Lavf59.27.100\n",
      "  Stream #0:0: Video: h264 (avc1 / 0x31637661), yuv444p(tv, progressive), 2000x720 [SAR 1:1 DAR 25:9], q=2-31, 10 fps, 10240 tbn\n",
      "    Metadata:\n",
      "      encoder         : Lavc59.37.100 libx264\n",
      "    Side data:\n",
      "      cpb: bitrate max/min/avg: 0/0/0 buffer size: 0 vbv_delay: N/A\n",
      "frame=   17 fps=0.0 q=-1.0 Lsize=     514kB time=00:00:01.40 bitrate=3006.3kbits/s speed=2.14x    \n",
      "video:513kB audio:0kB subtitle:0kB other streams:0kB global headers:0kB muxing overhead: 0.202828%\n",
      "[libx264 @ 0x559df3e9afc0] frame I:1     Avg QP:23.36  size: 49983\n",
      "[libx264 @ 0x559df3e9afc0] frame P:5     Avg QP:21.31  size: 53091\n",
      "[libx264 @ 0x559df3e9afc0] frame B:11    Avg QP:22.61  size: 18995\n",
      "[libx264 @ 0x559df3e9afc0] consecutive B-frames:  5.9% 11.8% 35.3% 47.1%\n",
      "[libx264 @ 0x559df3e9afc0] mb I  I16..4: 27.5% 43.7% 28.8%\n",
      "[libx264 @ 0x559df3e9afc0] mb P  I16..4:  4.0% 30.1%  3.5%  P16..4: 17.0%  9.3%  5.8%  0.0%  0.0%    skip:30.3%\n",
      "[libx264 @ 0x559df3e9afc0] mb B  I16..4:  1.3% 11.3%  0.3%  B16..8: 20.5%  5.7%  1.4%  direct: 3.7%  skip:55.8%  L0:44.3% L1:48.8% BI: 6.9%\n",
      "[libx264 @ 0x559df3e9afc0] 8x8 transform intra:74.2% inter:86.0%\n",
      "[libx264 @ 0x559df3e9afc0] coded y,u,v intra: 55.0% 28.9% 26.3% inter: 17.4% 9.3% 8.6%\n",
      "[libx264 @ 0x559df3e9afc0] i16 v,h,dc,p: 44% 36% 13%  8%\n",
      "[libx264 @ 0x559df3e9afc0] i8 v,h,dc,ddl,ddr,vr,hd,vl,hu: 22% 22% 39%  3%  3%  2%  3%  2%  4%\n",
      "[libx264 @ 0x559df3e9afc0] i4 v,h,dc,ddl,ddr,vr,hd,vl,hu: 38% 35% 11%  2%  3%  2%  4%  2%  4%\n",
      "[libx264 @ 0x559df3e9afc0] Weighted P-Frames: Y:0.0% UV:0.0%\n",
      "[libx264 @ 0x559df3e9afc0] ref P L0: 47.0% 10.0% 31.4% 11.6%\n",
      "[libx264 @ 0x559df3e9afc0] ref B L0: 65.5% 26.5%  7.9%\n",
      "[libx264 @ 0x559df3e9afc0] ref B L1: 91.1%  8.9%\n",
      "[libx264 @ 0x559df3e9afc0] kb/s:2467.70\n",
      "ffmpeg version 5.1.2 Copyright (c) 2000-2022 the FFmpeg developers\n",
      "  built with gcc 10.4.0 (conda-forge gcc 10.4.0-18)\n",
      "  configuration: --prefix=/home/irmak/miniconda3/envs/tactile_learning --cc=/home/conda/feedstock_root/build_artifacts/ffmpeg_1666357487580/_build_env/bin/x86_64-conda-linux-gnu-cc --cxx=/home/conda/feedstock_root/build_artifacts/ffmpeg_1666357487580/_build_env/bin/x86_64-conda-linux-gnu-c++ --nm=/home/conda/feedstock_root/build_artifacts/ffmpeg_1666357487580/_build_env/bin/x86_64-conda-linux-gnu-nm --ar=/home/conda/feedstock_root/build_artifacts/ffmpeg_1666357487580/_build_env/bin/x86_64-conda-linux-gnu-ar --disable-doc --disable-openssl --enable-demuxer=dash --enable-hardcoded-tables --enable-libfreetype --enable-libfontconfig --enable-libopenh264 --enable-gnutls --enable-libmp3lame --enable-libvpx --enable-pthreads --enable-vaapi --enable-gpl --enable-libx264 --enable-libx265 --enable-libaom --enable-libsvtav1 --enable-libxml2 --enable-pic --enable-shared --disable-static --enable-version3 --enable-zlib --pkg-config=/home/conda/feedstock_root/build_artifacts/ffmpeg_1666357487580/_build_env/bin/pkg-config\n",
      "  libavutil      57. 28.100 / 57. 28.100\n",
      "  libavcodec     59. 37.100 / 59. 37.100\n",
      "  libavformat    59. 27.100 / 59. 27.100\n",
      "  libavdevice    59.  7.100 / 59.  7.100\n",
      "  libavfilter     8. 44.100 /  8. 44.100\n",
      "  libswscale      6.  7.100 /  6.  7.100\n",
      "  libswresample   4.  7.100 /  4.  7.100\n",
      "  libpostproc    56.  6.100 / 56.  6.100\n",
      "[image2 @ 0x55b48f799640] Pattern type 'glob_sequence' is deprecated: use pattern_type 'glob' instead\n",
      "Input #0, image2, from '/home/irmak/Workspace/Holo-Bot/extracted_data/gamepad/training/demonstration_27/visualization/%*.png':\n",
      "  Duration: 00:00:01.12, start: 0.000000, bitrate: N/A\n",
      "  Stream #0:0: Video: png, rgba(pc), 2000x2000 [SAR 3937:3937 DAR 1:1], 25 fps, 25 tbr, 25 tbn\n",
      "Stream mapping:\n",
      "  Stream #0:0 -> #0:0 (png (native) -> h264 (libx264))\n",
      "Press [q] to stop, [?] for help\n"
     ]
    },
    {
     "name": "stdout",
     "output_type": "stream",
     "text": [
      "dumping video in root: /home/irmak/Workspace/Holo-Bot/extracted_data/gamepad/training/demonstration_27\n"
     ]
    },
    {
     "name": "stderr",
     "output_type": "stream",
     "text": [
      "[libx264 @ 0x55b48f79f180] using SAR=1/1\n",
      "[libx264 @ 0x55b48f79f180] using cpu capabilities: MMX2 SSE2Fast SSSE3 SSE4.2 AVX FMA3 BMI2 AVX2\n",
      "[libx264 @ 0x55b48f79f180] profile High 4:4:4 Predictive, level 4.0, 4:4:4, 8-bit\n",
      "[libx264 @ 0x55b48f79f180] 264 - core 164 r3095 baee400 - H.264/MPEG-4 AVC codec - Copyleft 2003-2022 - http://www.videolan.org/x264.html - options: cabac=1 ref=3 deblock=1:0:0 analyse=0x3:0x113 me=hex subme=7 psy=1 psy_rd=1.00:0.00 mixed_ref=1 me_range=16 chroma_me=1 trellis=1 8x8dct=1 cqm=0 deadzone=21,11 fast_pskip=1 chroma_qp_offset=4 threads=22 lookahead_threads=3 sliced_threads=0 nr=0 decimate=1 interlaced=0 bluray_compat=0 constrained_intra=0 bframes=3 b_pyramid=2 b_adapt=1 b_bias=0 direct=1 weightb=1 open_gop=0 weightp=2 keyint=250 keyint_min=10 scenecut=40 intra_refresh=0 rc_lookahead=40 rc=crf mbtree=1 crf=23.0 qcomp=0.60 qpmin=0 qpmax=69 qpstep=4 ip_ratio=1.40 aq=1:1.00\n",
      "Output #0, mp4, to '/home/irmak/Workspace/Holo-Bot/extracted_data/gamepad/training/demonstration_27/visualization.mp4':\n",
      "  Metadata:\n",
      "    encoder         : Lavf59.27.100\n",
      "  Stream #0:0: Video: h264 (avc1 / 0x31637661), yuv444p(tv, progressive), 2000x720 [SAR 1:1 DAR 25:9], q=2-31, 10 fps, 10240 tbn\n",
      "    Metadata:\n",
      "      encoder         : Lavc59.37.100 libx264\n",
      "    Side data:\n",
      "      cpb: bitrate max/min/avg: 0/0/0 buffer size: 0 vbv_delay: N/A\n",
      "frame=   28 fps=0.0 q=-1.0 Lsize=     830kB time=00:00:02.50 bitrate=2718.4kbits/s speed=3.22x    \n",
      "video:828kB audio:0kB subtitle:0kB other streams:0kB global headers:0kB muxing overhead: 0.142045%\n",
      "[libx264 @ 0x55b48f79f180] frame I:1     Avg QP:22.76  size: 50500\n",
      "[libx264 @ 0x55b48f79f180] frame P:7     Avg QP:20.50  size: 57422\n",
      "[libx264 @ 0x55b48f79f180] frame B:20    Avg QP:22.81  size: 19759\n",
      "[libx264 @ 0x55b48f79f180] consecutive B-frames:  3.6%  0.0% 10.7% 85.7%\n",
      "[libx264 @ 0x55b48f79f180] mb I  I16..4: 25.2% 45.9% 28.9%\n",
      "[libx264 @ 0x55b48f79f180] mb P  I16..4:  2.6% 27.1%  2.1%  P16..4: 19.4% 12.1%  7.5%  0.0%  0.0%    skip:29.0%\n",
      "[libx264 @ 0x55b48f79f180] mb B  I16..4:  0.8% 10.1%  0.2%  B16..8: 23.7%  6.1%  1.6%  direct: 3.9%  skip:53.8%  L0:45.3% L1:45.4% BI: 9.2%\n",
      "[libx264 @ 0x55b48f79f180] 8x8 transform intra:80.6% inter:86.8%\n",
      "[libx264 @ 0x55b48f79f180] coded y,u,v intra: 61.8% 34.7% 30.3% inter: 19.2% 10.9% 9.8%\n",
      "[libx264 @ 0x55b48f79f180] i16 v,h,dc,p: 42% 36% 15%  7%\n",
      "[libx264 @ 0x55b48f79f180] i8 v,h,dc,ddl,ddr,vr,hd,vl,hu: 19% 19% 48%  2%  2%  2%  2%  2%  3%\n",
      "[libx264 @ 0x55b48f79f180] i4 v,h,dc,ddl,ddr,vr,hd,vl,hu: 38% 35% 12%  1%  3%  2%  4%  1%  4%\n",
      "[libx264 @ 0x55b48f79f180] Weighted P-Frames: Y:14.3% UV:0.0%\n",
      "[libx264 @ 0x55b48f79f180] ref P L0: 40.9%  9.9% 31.7% 16.0%  1.5%\n",
      "[libx264 @ 0x55b48f79f180] ref B L0: 64.9% 28.0%  7.1%\n",
      "[libx264 @ 0x55b48f79f180] ref B L1: 90.2%  9.8%\n",
      "[libx264 @ 0x55b48f79f180] kb/s:2421.81\n"
     ]
    }
   ],
   "source": [
    "# Turn the images to a video and delete the directory\n",
    "video_fps = 10\n",
    "for root in roots:\n",
    "    print('dumping video in root: {}'.format(root))\n",
    "    video_path = os.path.join(root, 'visualization.mp4')\n",
    "    if os.path.exists(video_path):\n",
    "        os.remove(video_path)\n",
    "    viz_dir = os.path.join(root, 'visualization')\n",
    "    os.system('ffmpeg -r {} -i {}/%*.png -vf scale=2000x720,setsar=1:1 {}'.format(\n",
    "        video_fps, # fps\n",
    "        viz_dir,\n",
    "        video_path\n",
    "    ))\n"
   ]
  },
  {
   "cell_type": "code",
   "execution_count": 16,
   "metadata": {},
   "outputs": [],
   "source": [
    "# Remove the img directory\n",
    "\n",
    "for root in roots:\n",
    "    viz_dir = os.path.join(root, 'visualization')\n",
    "    shutil.rmtree(viz_dir)\n"
   ]
  },
  {
   "cell_type": "code",
   "execution_count": null,
   "metadata": {},
   "outputs": [],
   "source": []
  }
 ],
 "metadata": {
  "kernelspec": {
   "display_name": "Python 3 (ipykernel)",
   "language": "python",
   "name": "python3"
  },
  "language_info": {
   "codemirror_mode": {
    "name": "ipython",
    "version": 3
   },
   "file_extension": ".py",
   "mimetype": "text/x-python",
   "name": "python",
   "nbconvert_exporter": "python",
   "pygments_lexer": "ipython3",
   "version": "3.9.13"
  },
  "vscode": {
   "interpreter": {
    "hash": "36852de55b288c46ba617fd48cf310240e4201e2f57004cbdac030fa23152bd3"
   }
  }
 },
 "nbformat": 4,
 "nbformat_minor": 4
}
