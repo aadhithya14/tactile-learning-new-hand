{
 "cells": [
  {
   "cell_type": "code",
   "execution_count": 1,
   "metadata": {},
   "outputs": [],
   "source": [
    "import cv2\n",
    "import h5py\n",
    "import matplotlib.pyplot as plt\n",
    "import numpy as np\n",
    "import os\n",
    "import pickle\n",
    "import shutil\n",
    "\n",
    "from tqdm import tqdm"
   ]
  },
  {
   "cell_type": "code",
   "execution_count": 2,
   "metadata": {},
   "outputs": [],
   "source": [
    "from tactile_learning.datasets import dump_video_to_images, get_closest_id\n",
    "from tactile_learning.utils.visualization import plot_tactile_sensor"
   ]
  },
  {
   "cell_type": "code",
   "execution_count": 3,
   "metadata": {},
   "outputs": [],
   "source": [
    "import decimal\n",
    "\n",
    "# Get the metadata of images and tactile information\n",
    "def get_desired_indices(root, fps, view_num=0): # frames per second from the video to receive\n",
    "    image_metadata_path = os.path.join(root, f'cam_{view_num}_rgb_video.metadata')\n",
    "    tactile_info_path = os.path.join(root, 'touch_sensor_values.h5')\n",
    "\n",
    "    with open(image_metadata_path, 'rb') as f:\n",
    "        image_metadata = pickle.load(f)\n",
    "        image_timestamps_array = np.asarray(image_metadata['timestamps'])\n",
    "        image_timestamps = np.asarray(image_metadata['timestamps']) / 1000.\n",
    "    with h5py.File(tactile_info_path, 'r') as f:\n",
    "        tactile_timestamps = f['timestamps'][()]\n",
    "\n",
    "    image_id, tactile_id = 0, 0\n",
    "    curr_timestamp = tactile_timestamps[0] # These timestamps are in seconds\n",
    "    image_id = get_closest_id(image_id, curr_timestamp, image_timestamps)\n",
    "\n",
    "    tactile_indices, image_indices = [], []\n",
    "    tactile_indices.append(tactile_id)\n",
    "    image_indices.append(image_id)\n",
    "\n",
    "    frame_period = 1. / fps\n",
    "    while(True):\n",
    "        curr_timestamp += frame_period\n",
    "        tactile_id = get_closest_id(tactile_id, curr_timestamp, tactile_timestamps)\n",
    "        image_id = get_closest_id(image_id, curr_timestamp, image_timestamps)\n",
    "\n",
    "        if curr_timestamp > tactile_timestamps[tactile_id] and curr_timestamp > image_timestamps[image_id]:\n",
    "            break\n",
    "\n",
    "        tactile_indices.append(tactile_id)\n",
    "        image_indices.append(image_id)\n",
    "\n",
    "    assert len(tactile_indices) == len(image_indices)\n",
    "    return tactile_indices, image_indices\n"
   ]
  },
  {
   "cell_type": "code",
   "execution_count": 4,
   "metadata": {},
   "outputs": [],
   "source": [
    "\n",
    "def dump_states(root, tactile_indices, image_indices, view_num=0):\n",
    "    # Make directory to dump the visualization\n",
    "    pbar = tqdm(total=len(tactile_indices))\n",
    "\n",
    "    with h5py.File(os.path.join(root, 'touch_sensor_values.h5'), 'r') as f:\n",
    "        all_tactile_values = f['sensor_values'][()]\n",
    "\n",
    "    viz_dir = os.path.join(root, 'visualization')\n",
    "    os.makedirs(viz_dir, exist_ok=True)\n",
    "    \n",
    "    video_path = os.path.join(root, f'cam_{view_num}_rgb_video.avi')\n",
    "    vidcap = cv2.VideoCapture(video_path)\n",
    "    success, image = vidcap.read()\n",
    "    frame_count = int(vidcap.get(cv2.CAP_PROP_FRAME_COUNT))\n",
    "    frame_id = 0\n",
    "    for i in range(len(tactile_indices)):\n",
    "        tactile_id, image_id = tactile_indices[i], image_indices[i]\n",
    "        while frame_id != image_id and success:\n",
    "            # Find the frame that is equal to image_id\n",
    "            success, image = vidcap.read()\n",
    "            frame_id += 1\n",
    "        dump_demo_state(\n",
    "            frame_id = i,\n",
    "            viz_dir = viz_dir,\n",
    "            tactile_values = all_tactile_values[tactile_id,:,:,:],\n",
    "            camera_img = image\n",
    "        )\n",
    "\n",
    "        pbar.update(1)\n",
    "\n",
    "    pbar.close()\n",
    "\n",
    "def dump_demo_state(frame_id, viz_dir, tactile_values, camera_img):\n",
    "    # tactile_values: (15,16,3)\n",
    "    fig, axs = plt.subplots(figsize=(20,20), nrows=4, ncols=4)\n",
    "    for row_id in range(4):\n",
    "        for column_id in range(4):\n",
    "            if row_id + column_id > 0: # The top left axis should stay empty\n",
    "                plot_tactile_sensor(\n",
    "                    ax = axs[column_id][row_id],\n",
    "                    sensor_values = tactile_values[row_id*4 + column_id-1],\n",
    "                    title = f'Sensor {row_id*4+column_id-1}'\n",
    "                )\n",
    "    fig.suptitle('Tactile State')\n",
    "    fig.savefig(os.path.join(viz_dir, 'Tactile State.png'))\n",
    "    fig.clf()\n",
    "    plt.close()\n",
    "\n",
    "    tactile_img = cv2.imread(os.path.join(viz_dir, 'Tactile State.png'))\n",
    "    height_scale = camera_img.shape[0] / tactile_img.shape[0]\n",
    "    tactile_img = cv2.resize(\n",
    "        tactile_img,\n",
    "        (int(tactile_img.shape[1] * height_scale),\n",
    "         int(tactile_img.shape[0] * height_scale))\n",
    "    )\n",
    "    total_img = cv2.hconcat([camera_img, tactile_img])\n",
    "\n",
    "    img_name = 'state_{}.png'.format(str(frame_id).zfill(3))\n",
    "    cv2.imwrite(os.path.join(viz_dir, img_name), total_img)\n",
    "\n"
   ]
  },
  {
   "cell_type": "code",
   "execution_count": 16,
   "metadata": {},
   "outputs": [
    {
     "name": "stdout",
     "output_type": "stream",
     "text": [
      "tactile_indices: [0, 100, 198, 297, 395, 492, 591, 689, 786, 885, 984, 1081, 1179, 1277, 1374, 1474, 1571, 1670, 1768, 1866, 1963, 2062, 2160, 2257, 2356, 2460, 2552, 2650], image_indices: [71, 101, 130, 159, 188, 218, 247, 277, 305, 335, 365, 393, 423, 452, 481, 510, 540, 570, 599, 628, 658, 687, 716, 746, 775, 805, 834, 864]\n"
     ]
    },
    {
     "name": "stderr",
     "output_type": "stream",
     "text": [
      "100%|██████████| 28/28 [00:31<00:00,  1.14s/it]\n"
     ]
    },
    {
     "name": "stdout",
     "output_type": "stream",
     "text": [
      "tactile_indices: [0, 97, 196, 294, 392, 491, 589, 686, 784, 882, 979, 1079, 1176, 1274, 1372, 1471, 1568, 1667, 1765, 1864, 1962, 2060, 2158, 2257, 2356, 2451, 2550, 2648, 2746], image_indices: [69, 98, 128, 158, 187, 217, 246, 276, 306, 335, 365, 394, 423, 452, 481, 510, 539, 568, 597, 627, 656, 685, 714, 743, 772, 802, 832, 862, 892]\n"
     ]
    },
    {
     "name": "stderr",
     "output_type": "stream",
     "text": [
      "100%|██████████| 29/29 [00:33<00:00,  1.17s/it]\n"
     ]
    },
    {
     "name": "stdout",
     "output_type": "stream",
     "text": [
      "tactile_indices: [0, 99, 199, 298, 396, 495, 592, 691, 789, 887, 986, 1087, 1181, 1280, 1379, 1478, 1577, 1674], image_indices: [70, 100, 129, 158, 187, 217, 246, 275, 304, 333, 362, 392, 422, 451, 481, 510, 540, 569]\n"
     ]
    },
    {
     "name": "stderr",
     "output_type": "stream",
     "text": [
      "100%|██████████| 18/18 [00:21<00:00,  1.19s/it]\n"
     ]
    },
    {
     "name": "stdout",
     "output_type": "stream",
     "text": [
      "tactile_indices: [0, 99, 197, 297, 395, 493, 591, 690, 787, 890, 983, 1082, 1180, 1278, 1376, 1474, 1572, 1669, 1767, 1865, 1963, 2062, 2160, 2258, 2359, 2456, 2554, 2652, 2751, 2849, 2948, 3046], image_indices: [70, 100, 129, 159, 189, 219, 248, 278, 307, 337, 367, 397, 426, 456, 486, 516, 545, 575, 605, 633, 662, 691, 721, 751, 780, 810, 838, 868, 898, 926, 956, 986]\n"
     ]
    },
    {
     "name": "stderr",
     "output_type": "stream",
     "text": [
      "100%|██████████| 32/32 [00:37<00:00,  1.17s/it]\n"
     ]
    },
    {
     "name": "stdout",
     "output_type": "stream",
     "text": [
      "tactile_indices: [0, 99, 199, 297, 394, 494, 591, 689, 787, 884, 990, 1081, 1178, 1278, 1375, 1475, 1572, 1670, 1768, 1867, 1963, 2062, 2161, 2259], image_indices: [68, 98, 127, 156, 186, 216, 245, 274, 304, 333, 363, 391, 420, 450, 478, 508, 538, 568, 597, 627, 657, 686, 715, 744]\n"
     ]
    },
    {
     "name": "stderr",
     "output_type": "stream",
     "text": [
      "100%|██████████| 24/24 [00:27<00:00,  1.13s/it]\n"
     ]
    },
    {
     "name": "stdout",
     "output_type": "stream",
     "text": [
      "tactile_indices: [0, 101, 199, 298, 395, 494, 592, 690, 788, 887, 985, 1083, 1182, 1280, 1379, 1476, 1578, 1671, 1771, 1867, 1964, 2063, 2161, 2261, 2358, 2457, 2554, 2652, 2751, 2850, 2948, 3046, 3144, 3243, 3340, 3438, 3537, 3635, 3733, 3831, 3929, 4027, 4126, 4224], image_indices: [71, 99, 129, 159, 188, 217, 246, 276, 305, 334, 364, 394, 424, 453, 483, 512, 541, 571, 601, 630, 660, 689, 719, 748, 778, 808, 837, 866, 895, 925, 954, 982, 1012, 1042, 1071, 1101, 1131, 1160, 1189, 1219, 1249, 1278, 1307, 1334]\n"
     ]
    },
    {
     "name": "stderr",
     "output_type": "stream",
     "text": [
      "100%|██████████| 44/44 [00:50<00:00,  1.16s/it]\n"
     ]
    },
    {
     "name": "stdout",
     "output_type": "stream",
     "text": [
      "tactile_indices: [0, 100, 200, 299, 397, 496, 593, 692, 790, 889, 987, 1084, 1183, 1281, 1379, 1477, 1575, 1673, 1771, 1869, 1969, 2066, 2164, 2262, 2365, 2459, 2558, 2656, 2753, 2852], image_indices: [69, 99, 128, 157, 186, 215, 244, 274, 303, 333, 363, 392, 422, 452, 481, 510, 539, 569, 598, 627, 656, 685, 715, 744, 774, 803, 832, 862, 891, 921]\n"
     ]
    },
    {
     "name": "stderr",
     "output_type": "stream",
     "text": [
      "100%|██████████| 30/30 [00:35<00:00,  1.17s/it]\n"
     ]
    }
   ],
   "source": [
    "import glob\n",
    "# roots = [\n",
    "#     '/home/irmak/Workspace/Holo-Bot/extracted_data/bowl_picking/eval/demonstration_7',\n",
    "#     '/home/irmak/Workspace/Holo-Bot/extracted_data/bowl_picking/eval/demonstration_9',\n",
    "#     '/home/irmak/Workspace/Holo-Bot/extracted_data/bowl_picking/eval/demonstration_15',\n",
    "# ]\n",
    "data_path = '/home/irmak/Workspace/Holo-Bot/extracted_data/plier_picking'\n",
    "# data_path = '/data/tactile_learning/deployment_data/data/bowl_picking/demonstrations/image_generalization'\n",
    "roots = glob.glob(f'{data_path}/demonstration_*')\n",
    "\n",
    "retrieval_fps = 1\n",
    "view_num = 0\n",
    "for root in roots:\n",
    "    # print('root: {}'.format(root))\n",
    "    tactile_indices, image_indices = get_desired_indices(root=root, fps=retrieval_fps, view_num=view_num)\n",
    "    print('tactile_indices: {}, image_indices: {}'.format(tactile_indices, image_indices))\n",
    "    dump_states(root, tactile_indices, image_indices, view_num=view_num)\n"
   ]
  },
  {
   "cell_type": "code",
   "execution_count": 17,
   "metadata": {},
   "outputs": [
    {
     "name": "stdout",
     "output_type": "stream",
     "text": [
      "['/home/irmak/Workspace/Holo-Bot/extracted_data/plier_picking/demonstration_15', '/home/irmak/Workspace/Holo-Bot/extracted_data/plier_picking/demonstration_10', '/home/irmak/Workspace/Holo-Bot/extracted_data/plier_picking/demonstration_3', '/home/irmak/Workspace/Holo-Bot/extracted_data/plier_picking/demonstration_20', '/home/irmak/Workspace/Holo-Bot/extracted_data/plier_picking/demonstration_25', '/home/irmak/Workspace/Holo-Bot/extracted_data/plier_picking/demonstration_16', '/home/irmak/Workspace/Holo-Bot/extracted_data/plier_picking/demonstration_27']\n"
     ]
    }
   ],
   "source": [
    "print(roots)"
   ]
  },
  {
   "cell_type": "code",
   "execution_count": 18,
   "metadata": {},
   "outputs": [
    {
     "name": "stderr",
     "output_type": "stream",
     "text": [
      "ffmpeg version 5.1.2 Copyright (c) 2000-2022 the FFmpeg developers\n",
      "  built with gcc 10.4.0 (conda-forge gcc 10.4.0-18)\n",
      "  configuration: --prefix=/home/irmak/miniconda3/envs/tactile_learning --cc=/home/conda/feedstock_root/build_artifacts/ffmpeg_1666357487580/_build_env/bin/x86_64-conda-linux-gnu-cc --cxx=/home/conda/feedstock_root/build_artifacts/ffmpeg_1666357487580/_build_env/bin/x86_64-conda-linux-gnu-c++ --nm=/home/conda/feedstock_root/build_artifacts/ffmpeg_1666357487580/_build_env/bin/x86_64-conda-linux-gnu-nm --ar=/home/conda/feedstock_root/build_artifacts/ffmpeg_1666357487580/_build_env/bin/x86_64-conda-linux-gnu-ar --disable-doc --disable-openssl --enable-demuxer=dash --enable-hardcoded-tables --enable-libfreetype --enable-libfontconfig --enable-libopenh264 --enable-gnutls --enable-libmp3lame --enable-libvpx --enable-pthreads --enable-vaapi --enable-gpl --enable-libx264 --enable-libx265 --enable-libaom --enable-libsvtav1 --enable-libxml2 --enable-pic --enable-shared --disable-static --enable-version3 --enable-zlib --pkg-config=/home/conda/feedstock_root/build_artifacts/ffmpeg_1666357487580/_build_env/bin/pkg-config\n",
      "  libavutil      57. 28.100 / 57. 28.100\n",
      "  libavcodec     59. 37.100 / 59. 37.100\n",
      "  libavformat    59. 27.100 / 59. 27.100\n",
      "  libavdevice    59.  7.100 / 59.  7.100\n",
      "  libavfilter     8. 44.100 /  8. 44.100\n",
      "  libswscale      6.  7.100 /  6.  7.100\n",
      "  libswresample   4.  7.100 /  4.  7.100\n",
      "  libpostproc    56.  6.100 / 56.  6.100\n",
      "[image2 @ 0x561592128640] Pattern type 'glob_sequence' is deprecated: use pattern_type 'glob' instead\n",
      "Input #0, image2, from '/home/irmak/Workspace/Holo-Bot/extracted_data/plier_picking/demonstration_15/visualization/%*.png':\n",
      "  Duration: 00:00:01.16, start: 0.000000, bitrate: N/A\n",
      "  Stream #0:0: Video: png, rgba(pc), 2000x2000 [SAR 3937:3937 DAR 1:1], 25 fps, 25 tbr, 25 tbn\n",
      "Stream mapping:\n",
      "  Stream #0:0 -> #0:0 (png (native) -> h264 (libx264))\n",
      "Press [q] to stop, [?] for help\n"
     ]
    },
    {
     "name": "stdout",
     "output_type": "stream",
     "text": [
      "dumping video in root: /home/irmak/Workspace/Holo-Bot/extracted_data/plier_picking/demonstration_15\n"
     ]
    },
    {
     "name": "stderr",
     "output_type": "stream",
     "text": [
      "[libx264 @ 0x56159212e140] using SAR=1/1\n",
      "[libx264 @ 0x56159212e140] using cpu capabilities: MMX2 SSE2Fast SSSE3 SSE4.2 AVX FMA3 BMI2 AVX2\n",
      "[libx264 @ 0x56159212e140] profile High 4:4:4 Predictive, level 4.0, 4:4:4, 8-bit\n",
      "[libx264 @ 0x56159212e140] 264 - core 164 r3095 baee400 - H.264/MPEG-4 AVC codec - Copyleft 2003-2022 - http://www.videolan.org/x264.html - options: cabac=1 ref=3 deblock=1:0:0 analyse=0x3:0x113 me=hex subme=7 psy=1 psy_rd=1.00:0.00 mixed_ref=1 me_range=16 chroma_me=1 trellis=1 8x8dct=1 cqm=0 deadzone=21,11 fast_pskip=1 chroma_qp_offset=4 threads=22 lookahead_threads=3 sliced_threads=0 nr=0 decimate=1 interlaced=0 bluray_compat=0 constrained_intra=0 bframes=3 b_pyramid=2 b_adapt=1 b_bias=0 direct=1 weightb=1 open_gop=0 weightp=2 keyint=250 keyint_min=10 scenecut=40 intra_refresh=0 rc_lookahead=40 rc=crf mbtree=1 crf=23.0 qcomp=0.60 qpmin=0 qpmax=69 qpstep=4 ip_ratio=1.40 aq=1:1.00\n",
      "Output #0, mp4, to '/home/irmak/Workspace/Holo-Bot/extracted_data/plier_picking/demonstration_15/visualization_0.mp4':\n",
      "  Metadata:\n",
      "    encoder         : Lavf59.27.100\n",
      "  Stream #0:0: Video: h264 (avc1 / 0x31637661), yuv444p(tv, progressive), 2000x720 [SAR 1:1 DAR 25:9], q=2-31, 10 fps, 10240 tbn\n",
      "    Metadata:\n",
      "      encoder         : Lavc59.37.100 libx264\n",
      "    Side data:\n",
      "      cpb: bitrate max/min/avg: 0/0/0 buffer size: 0 vbv_delay: N/A\n",
      "frame=   29 fps=0.0 q=-1.0 Lsize=     992kB time=00:00:02.60 bitrate=3125.2kbits/s speed=3.19x    \n",
      "video:991kB audio:0kB subtitle:0kB other streams:0kB global headers:0kB muxing overhead: 0.120750%\n",
      "[libx264 @ 0x56159212e140] frame I:1     Avg QP:22.09  size: 51517\n",
      "[libx264 @ 0x56159212e140] frame P:7     Avg QP:20.50  size: 57173\n",
      "[libx264 @ 0x56159212e140] frame B:21    Avg QP:21.64  size: 26765\n",
      "[libx264 @ 0x56159212e140] consecutive B-frames:  3.4%  0.0%  0.0% 96.6%\n",
      "[libx264 @ 0x56159212e140] mb I  I16..4: 30.2% 40.9% 28.9%\n",
      "[libx264 @ 0x56159212e140] mb P  I16..4:  2.4% 35.8%  2.2%  P16..4: 15.8%  9.6%  5.2%  0.0%  0.0%    skip:29.1%\n",
      "[libx264 @ 0x56159212e140] mb B  I16..4:  0.4% 11.9%  0.2%  B16..8: 23.3%  6.0%  1.8%  direct: 6.5%  skip:49.9%  L0:42.7% L1:48.2% BI: 9.1%\n",
      "[libx264 @ 0x56159212e140] 8x8 transform intra:84.0% inter:83.5%\n",
      "[libx264 @ 0x56159212e140] coded y,u,v intra: 73.7% 40.1% 38.9% inter: 23.8% 14.2% 13.1%\n",
      "[libx264 @ 0x56159212e140] i16 v,h,dc,p: 49% 35%  7%  9%\n",
      "[libx264 @ 0x56159212e140] i8 v,h,dc,ddl,ddr,vr,hd,vl,hu: 12% 20% 52%  3%  2%  2%  2%  3%  5%\n",
      "[libx264 @ 0x56159212e140] i4 v,h,dc,ddl,ddr,vr,hd,vl,hu: 36% 35% 12%  2%  2%  2%  4%  2%  4%\n",
      "[libx264 @ 0x56159212e140] Weighted P-Frames: Y:0.0% UV:0.0%\n",
      "[libx264 @ 0x56159212e140] ref P L0: 42.6% 11.1% 30.3% 16.1%\n",
      "[libx264 @ 0x56159212e140] ref B L0: 73.5% 21.7%  4.8%\n",
      "[libx264 @ 0x56159212e140] ref B L1: 89.6% 10.4%\n",
      "[libx264 @ 0x56159212e140] kb/s:2796.69\n",
      "ffmpeg version 5.1.2 Copyright (c) 2000-2022 the FFmpeg developers\n",
      "  built with gcc 10.4.0 (conda-forge gcc 10.4.0-18)\n",
      "  configuration: --prefix=/home/irmak/miniconda3/envs/tactile_learning --cc=/home/conda/feedstock_root/build_artifacts/ffmpeg_1666357487580/_build_env/bin/x86_64-conda-linux-gnu-cc --cxx=/home/conda/feedstock_root/build_artifacts/ffmpeg_1666357487580/_build_env/bin/x86_64-conda-linux-gnu-c++ --nm=/home/conda/feedstock_root/build_artifacts/ffmpeg_1666357487580/_build_env/bin/x86_64-conda-linux-gnu-nm --ar=/home/conda/feedstock_root/build_artifacts/ffmpeg_1666357487580/_build_env/bin/x86_64-conda-linux-gnu-ar --disable-doc --disable-openssl --enable-demuxer=dash --enable-hardcoded-tables --enable-libfreetype --enable-libfontconfig --enable-libopenh264 --enable-gnutls --enable-libmp3lame --enable-libvpx --enable-pthreads --enable-vaapi --enable-gpl --enable-libx264 --enable-libx265 --enable-libaom --enable-libsvtav1 --enable-libxml2 --enable-pic --enable-shared --disable-static --enable-version3 --enable-zlib --pkg-config=/home/conda/feedstock_root/build_artifacts/ffmpeg_1666357487580/_build_env/bin/pkg-config\n",
      "  libavutil      57. 28.100 / 57. 28.100\n",
      "  libavcodec     59. 37.100 / 59. 37.100\n",
      "  libavformat    59. 27.100 / 59. 27.100\n",
      "  libavdevice    59.  7.100 / 59.  7.100\n",
      "  libavfilter     8. 44.100 /  8. 44.100\n",
      "  libswscale      6.  7.100 /  6.  7.100\n",
      "  libswresample   4.  7.100 /  4.  7.100\n",
      "  libpostproc    56.  6.100 / 56.  6.100\n",
      "[image2 @ 0x561102a08640] Pattern type 'glob_sequence' is deprecated: use pattern_type 'glob' instead\n",
      "Input #0, image2, from '/home/irmak/Workspace/Holo-Bot/extracted_data/plier_picking/demonstration_10/visualization/%*.png':\n",
      "  Duration: 00:00:01.20, start: 0.000000, bitrate: N/A\n",
      "  Stream #0:0: Video: png, rgba(pc), 2000x2000 [SAR 3937:3937 DAR 1:1], 25 fps, 25 tbr, 25 tbn\n",
      "Stream mapping:\n",
      "  Stream #0:0 -> #0:0 (png (native) -> h264 (libx264))\n",
      "Press [q] to stop, [?] for help\n"
     ]
    },
    {
     "name": "stdout",
     "output_type": "stream",
     "text": [
      "dumping video in root: /home/irmak/Workspace/Holo-Bot/extracted_data/plier_picking/demonstration_10\n"
     ]
    },
    {
     "name": "stderr",
     "output_type": "stream",
     "text": [
      "[libx264 @ 0x561102a0e1c0] using SAR=1/1\n",
      "[libx264 @ 0x561102a0e1c0] using cpu capabilities: MMX2 SSE2Fast SSSE3 SSE4.2 AVX FMA3 BMI2 AVX2\n",
      "[libx264 @ 0x561102a0e1c0] profile High 4:4:4 Predictive, level 4.0, 4:4:4, 8-bit\n",
      "[libx264 @ 0x561102a0e1c0] 264 - core 164 r3095 baee400 - H.264/MPEG-4 AVC codec - Copyleft 2003-2022 - http://www.videolan.org/x264.html - options: cabac=1 ref=3 deblock=1:0:0 analyse=0x3:0x113 me=hex subme=7 psy=1 psy_rd=1.00:0.00 mixed_ref=1 me_range=16 chroma_me=1 trellis=1 8x8dct=1 cqm=0 deadzone=21,11 fast_pskip=1 chroma_qp_offset=4 threads=22 lookahead_threads=3 sliced_threads=0 nr=0 decimate=1 interlaced=0 bluray_compat=0 constrained_intra=0 bframes=3 b_pyramid=2 b_adapt=1 b_bias=0 direct=1 weightb=1 open_gop=0 weightp=2 keyint=250 keyint_min=10 scenecut=40 intra_refresh=0 rc_lookahead=40 rc=crf mbtree=1 crf=23.0 qcomp=0.60 qpmin=0 qpmax=69 qpstep=4 ip_ratio=1.40 aq=1:1.00\n",
      "Output #0, mp4, to '/home/irmak/Workspace/Holo-Bot/extracted_data/plier_picking/demonstration_10/visualization_0.mp4':\n",
      "  Metadata:\n",
      "    encoder         : Lavf59.27.100\n",
      "  Stream #0:0: Video: h264 (avc1 / 0x31637661), yuv444p(tv, progressive), 2000x720 [SAR 1:1 DAR 25:9], q=2-31, 10 fps, 10240 tbn\n",
      "    Metadata:\n",
      "      encoder         : Lavc59.37.100 libx264\n",
      "    Side data:\n",
      "      cpb: bitrate max/min/avg: 0/0/0 buffer size: 0 vbv_delay: N/A\n",
      "frame=   30 fps=0.0 q=-1.0 Lsize=     918kB time=00:00:02.70 bitrate=2785.7kbits/s speed= 3.2x    \n",
      "video:917kB audio:0kB subtitle:0kB other streams:0kB global headers:0kB muxing overhead: 0.131742%\n",
      "[libx264 @ 0x561102a0e1c0] frame I:1     Avg QP:22.91  size: 49133\n",
      "[libx264 @ 0x561102a0e1c0] frame P:8     Avg QP:20.38  size: 49666\n",
      "[libx264 @ 0x561102a0e1c0] frame B:21    Avg QP:21.54  size: 23419\n",
      "[libx264 @ 0x561102a0e1c0] consecutive B-frames:  6.7%  0.0%  0.0% 93.3%\n",
      "[libx264 @ 0x561102a0e1c0] mb I  I16..4: 26.2% 45.7% 28.1%\n",
      "[libx264 @ 0x561102a0e1c0] mb P  I16..4:  2.4% 28.7%  2.0%  P16..4: 20.4% 10.6%  6.2%  0.0%  0.0%    skip:29.8%\n",
      "[libx264 @ 0x561102a0e1c0] mb B  I16..4:  0.6% 10.8%  0.3%  B16..8: 24.9%  5.7%  1.6%  direct: 5.8%  skip:50.4%  L0:43.1% L1:49.4% BI: 7.5%\n",
      "[libx264 @ 0x561102a0e1c0] 8x8 transform intra:82.2% inter:83.4%\n",
      "[libx264 @ 0x561102a0e1c0] coded y,u,v intra: 68.7% 36.0% 35.7% inter: 22.1% 13.2% 12.5%\n",
      "[libx264 @ 0x561102a0e1c0] i16 v,h,dc,p: 41% 36% 10% 12%\n",
      "[libx264 @ 0x561102a0e1c0] i8 v,h,dc,ddl,ddr,vr,hd,vl,hu: 14% 19% 50%  3%  2%  2%  2%  3%  4%\n",
      "[libx264 @ 0x561102a0e1c0] i4 v,h,dc,ddl,ddr,vr,hd,vl,hu: 37% 33% 12%  2%  3%  3%  4%  2%  4%\n",
      "[libx264 @ 0x561102a0e1c0] Weighted P-Frames: Y:0.0% UV:0.0%\n",
      "[libx264 @ 0x561102a0e1c0] ref P L0: 38.7%  8.8% 31.9% 20.7%\n",
      "[libx264 @ 0x561102a0e1c0] ref B L0: 71.8% 22.7%  5.5%\n",
      "[libx264 @ 0x561102a0e1c0] ref B L1: 87.2% 12.8%\n",
      "[libx264 @ 0x561102a0e1c0] kb/s:2502.05\n",
      "ffmpeg version 5.1.2 Copyright (c) 2000-2022 the FFmpeg developers\n",
      "  built with gcc 10.4.0 (conda-forge gcc 10.4.0-18)\n",
      "  configuration: --prefix=/home/irmak/miniconda3/envs/tactile_learning --cc=/home/conda/feedstock_root/build_artifacts/ffmpeg_1666357487580/_build_env/bin/x86_64-conda-linux-gnu-cc --cxx=/home/conda/feedstock_root/build_artifacts/ffmpeg_1666357487580/_build_env/bin/x86_64-conda-linux-gnu-c++ --nm=/home/conda/feedstock_root/build_artifacts/ffmpeg_1666357487580/_build_env/bin/x86_64-conda-linux-gnu-nm --ar=/home/conda/feedstock_root/build_artifacts/ffmpeg_1666357487580/_build_env/bin/x86_64-conda-linux-gnu-ar --disable-doc --disable-openssl --enable-demuxer=dash --enable-hardcoded-tables --enable-libfreetype --enable-libfontconfig --enable-libopenh264 --enable-gnutls --enable-libmp3lame --enable-libvpx --enable-pthreads --enable-vaapi --enable-gpl --enable-libx264 --enable-libx265 --enable-libaom --enable-libsvtav1 --enable-libxml2 --enable-pic --enable-shared --disable-static --enable-version3 --enable-zlib --pkg-config=/home/conda/feedstock_root/build_artifacts/ffmpeg_1666357487580/_build_env/bin/pkg-config\n",
      "  libavutil      57. 28.100 / 57. 28.100\n",
      "  libavcodec     59. 37.100 / 59. 37.100\n",
      "  libavformat    59. 27.100 / 59. 27.100\n",
      "  libavdevice    59.  7.100 / 59.  7.100\n",
      "  libavfilter     8. 44.100 /  8. 44.100\n",
      "  libswscale      6.  7.100 /  6.  7.100\n",
      "  libswresample   4.  7.100 /  4.  7.100\n",
      "  libpostproc    56.  6.100 / 56.  6.100\n",
      "[image2 @ 0x56250e519640] Pattern type 'glob_sequence' is deprecated: use pattern_type 'glob' instead\n",
      "Input #0, image2, from '/home/irmak/Workspace/Holo-Bot/extracted_data/plier_picking/demonstration_3/visualization/%*.png':\n",
      "  Duration: 00:00:00.76, start: 0.000000, bitrate: N/A\n",
      "  Stream #0:0: Video: png, rgba(pc), 2000x2000 [SAR 3937:3937 DAR 1:1], 25 fps, 25 tbr, 25 tbn\n",
      "Stream mapping:\n",
      "  Stream #0:0 -> #0:0 (png (native) -> h264 (libx264))\n",
      "Press [q] to stop, [?] for help\n"
     ]
    },
    {
     "name": "stdout",
     "output_type": "stream",
     "text": [
      "dumping video in root: /home/irmak/Workspace/Holo-Bot/extracted_data/plier_picking/demonstration_3\n"
     ]
    },
    {
     "name": "stderr",
     "output_type": "stream",
     "text": [
      "[libx264 @ 0x56250e51fe00] using SAR=1/1\n",
      "[libx264 @ 0x56250e51fe00] using cpu capabilities: MMX2 SSE2Fast SSSE3 SSE4.2 AVX FMA3 BMI2 AVX2\n",
      "[libx264 @ 0x56250e51fe00] profile High 4:4:4 Predictive, level 4.0, 4:4:4, 8-bit\n",
      "[libx264 @ 0x56250e51fe00] 264 - core 164 r3095 baee400 - H.264/MPEG-4 AVC codec - Copyleft 2003-2022 - http://www.videolan.org/x264.html - options: cabac=1 ref=3 deblock=1:0:0 analyse=0x3:0x113 me=hex subme=7 psy=1 psy_rd=1.00:0.00 mixed_ref=1 me_range=16 chroma_me=1 trellis=1 8x8dct=1 cqm=0 deadzone=21,11 fast_pskip=1 chroma_qp_offset=4 threads=22 lookahead_threads=3 sliced_threads=0 nr=0 decimate=1 interlaced=0 bluray_compat=0 constrained_intra=0 bframes=3 b_pyramid=2 b_adapt=1 b_bias=0 direct=1 weightb=1 open_gop=0 weightp=2 keyint=250 keyint_min=10 scenecut=40 intra_refresh=0 rc_lookahead=40 rc=crf mbtree=1 crf=23.0 qcomp=0.60 qpmin=0 qpmax=69 qpstep=4 ip_ratio=1.40 aq=1:1.00\n",
      "Output #0, mp4, to '/home/irmak/Workspace/Holo-Bot/extracted_data/plier_picking/demonstration_3/visualization_0.mp4':\n",
      "  Metadata:\n",
      "    encoder         : Lavf59.27.100\n",
      "  Stream #0:0: Video: h264 (avc1 / 0x31637661), yuv444p(tv, progressive), 2000x720 [SAR 1:1 DAR 25:9], q=2-31, 10 fps, 10240 tbn\n",
      "    Metadata:\n",
      "      encoder         : Lavc59.37.100 libx264\n",
      "    Side data:\n",
      "      cpb: bitrate max/min/avg: 0/0/0 buffer size: 0 vbv_delay: N/A\n",
      "frame=   19 fps=0.0 q=-1.0 Lsize=     680kB time=00:00:01.60 bitrate=3483.0kbits/s speed=2.32x    \n",
      "video:679kB audio:0kB subtitle:0kB other streams:0kB global headers:0kB muxing overhead: 0.156568%\n",
      "[libx264 @ 0x56250e51fe00] frame I:1     Avg QP:22.34  size: 50297\n",
      "[libx264 @ 0x56250e51fe00] frame P:5     Avg QP:20.98  size: 57884\n",
      "[libx264 @ 0x56250e51fe00] frame B:13    Avg QP:21.78  size: 27319\n",
      "[libx264 @ 0x56250e51fe00] consecutive B-frames:  5.3%  0.0% 31.6% 63.2%\n",
      "[libx264 @ 0x56250e51fe00] mb I  I16..4: 30.0% 41.3% 28.7%\n",
      "[libx264 @ 0x56250e51fe00] mb P  I16..4:  3.1% 38.2%  3.2%  P16..4: 15.6%  8.5%  3.9%  0.0%  0.0%    skip:27.4%\n",
      "[libx264 @ 0x56250e51fe00] mb B  I16..4:  0.4% 12.2%  0.2%  B16..8: 23.3%  5.9%  1.7%  direct: 6.8%  skip:49.5%  L0:42.7% L1:48.0% BI: 9.3%\n",
      "[libx264 @ 0x56250e51fe00] 8x8 transform intra:79.8% inter:82.9%\n",
      "[libx264 @ 0x56250e51fe00] coded y,u,v intra: 68.7% 37.9% 36.6% inter: 24.2% 14.5% 13.6%\n",
      "[libx264 @ 0x56250e51fe00] i16 v,h,dc,p: 49% 37%  6%  9%\n",
      "[libx264 @ 0x56250e51fe00] i8 v,h,dc,ddl,ddr,vr,hd,vl,hu: 14% 19% 49%  3%  2%  2%  3%  3%  5%\n",
      "[libx264 @ 0x56250e51fe00] i4 v,h,dc,ddl,ddr,vr,hd,vl,hu: 38% 34% 12%  2%  2%  2%  4%  2%  4%\n",
      "[libx264 @ 0x56250e51fe00] Weighted P-Frames: Y:0.0% UV:0.0%\n",
      "[libx264 @ 0x56250e51fe00] ref P L0: 44.7% 11.2% 30.1% 14.0%\n",
      "[libx264 @ 0x56250e51fe00] ref B L0: 73.6% 21.4%  5.0%\n",
      "[libx264 @ 0x56250e51fe00] ref B L1: 93.4%  6.6%\n",
      "[libx264 @ 0x56250e51fe00] kb/s:2925.71\n",
      "ffmpeg version 5.1.2 Copyright (c) 2000-2022 the FFmpeg developers\n",
      "  built with gcc 10.4.0 (conda-forge gcc 10.4.0-18)\n",
      "  configuration: --prefix=/home/irmak/miniconda3/envs/tactile_learning --cc=/home/conda/feedstock_root/build_artifacts/ffmpeg_1666357487580/_build_env/bin/x86_64-conda-linux-gnu-cc --cxx=/home/conda/feedstock_root/build_artifacts/ffmpeg_1666357487580/_build_env/bin/x86_64-conda-linux-gnu-c++ --nm=/home/conda/feedstock_root/build_artifacts/ffmpeg_1666357487580/_build_env/bin/x86_64-conda-linux-gnu-nm --ar=/home/conda/feedstock_root/build_artifacts/ffmpeg_1666357487580/_build_env/bin/x86_64-conda-linux-gnu-ar --disable-doc --disable-openssl --enable-demuxer=dash --enable-hardcoded-tables --enable-libfreetype --enable-libfontconfig --enable-libopenh264 --enable-gnutls --enable-libmp3lame --enable-libvpx --enable-pthreads --enable-vaapi --enable-gpl --enable-libx264 --enable-libx265 --enable-libaom --enable-libsvtav1 --enable-libxml2 --enable-pic --enable-shared --disable-static --enable-version3 --enable-zlib --pkg-config=/home/conda/feedstock_root/build_artifacts/ffmpeg_1666357487580/_build_env/bin/pkg-config\n",
      "  libavutil      57. 28.100 / 57. 28.100\n",
      "  libavcodec     59. 37.100 / 59. 37.100\n",
      "  libavformat    59. 27.100 / 59. 27.100\n",
      "  libavdevice    59.  7.100 / 59.  7.100\n",
      "  libavfilter     8. 44.100 /  8. 44.100\n",
      "  libswscale      6.  7.100 /  6.  7.100\n",
      "  libswresample   4.  7.100 /  4.  7.100\n",
      "  libpostproc    56.  6.100 / 56.  6.100\n",
      "[image2 @ 0x556e21ef0640] Pattern type 'glob_sequence' is deprecated: use pattern_type 'glob' instead\n",
      "Input #0, image2, from '/home/irmak/Workspace/Holo-Bot/extracted_data/plier_picking/demonstration_20/visualization/%*.png':\n",
      "  Duration: 00:00:01.32, start: 0.000000, bitrate: N/A\n",
      "  Stream #0:0: Video: png, rgba(pc), 2000x2000 [SAR 3937:3937 DAR 1:1], 25 fps, 25 tbr, 25 tbn\n",
      "Stream mapping:\n",
      "  Stream #0:0 -> #0:0 (png (native) -> h264 (libx264))\n",
      "Press [q] to stop, [?] for help\n"
     ]
    },
    {
     "name": "stdout",
     "output_type": "stream",
     "text": [
      "dumping video in root: /home/irmak/Workspace/Holo-Bot/extracted_data/plier_picking/demonstration_20\n"
     ]
    },
    {
     "name": "stderr",
     "output_type": "stream",
     "text": [
      "[libx264 @ 0x556e21ef77c0] using SAR=1/1\n",
      "[libx264 @ 0x556e21ef77c0] using cpu capabilities: MMX2 SSE2Fast SSSE3 SSE4.2 AVX FMA3 BMI2 AVX2\n",
      "[libx264 @ 0x556e21ef77c0] profile High 4:4:4 Predictive, level 4.0, 4:4:4, 8-bit\n",
      "[libx264 @ 0x556e21ef77c0] 264 - core 164 r3095 baee400 - H.264/MPEG-4 AVC codec - Copyleft 2003-2022 - http://www.videolan.org/x264.html - options: cabac=1 ref=3 deblock=1:0:0 analyse=0x3:0x113 me=hex subme=7 psy=1 psy_rd=1.00:0.00 mixed_ref=1 me_range=16 chroma_me=1 trellis=1 8x8dct=1 cqm=0 deadzone=21,11 fast_pskip=1 chroma_qp_offset=4 threads=22 lookahead_threads=3 sliced_threads=0 nr=0 decimate=1 interlaced=0 bluray_compat=0 constrained_intra=0 bframes=3 b_pyramid=2 b_adapt=1 b_bias=0 direct=1 weightb=1 open_gop=0 weightp=2 keyint=250 keyint_min=10 scenecut=40 intra_refresh=0 rc_lookahead=40 rc=crf mbtree=1 crf=23.0 qcomp=0.60 qpmin=0 qpmax=69 qpstep=4 ip_ratio=1.40 aq=1:1.00\n",
      "Output #0, mp4, to '/home/irmak/Workspace/Holo-Bot/extracted_data/plier_picking/demonstration_20/visualization_0.mp4':\n",
      "  Metadata:\n",
      "    encoder         : Lavf59.27.100\n",
      "  Stream #0:0: Video: h264 (avc1 / 0x31637661), yuv444p(tv, progressive), 2000x720 [SAR 1:1 DAR 25:9], q=2-31, 10 fps, 10240 tbn\n",
      "    Metadata:\n",
      "      encoder         : Lavc59.37.100 libx264\n",
      "    Side data:\n",
      "      cpb: bitrate max/min/avg: 0/0/0 buffer size: 0 vbv_delay: N/A\n",
      "frame=   33 fps=0.0 q=-1.0 Lsize=    1122kB time=00:00:03.00 bitrate=3062.7kbits/s speed=3.49x    \n",
      "video:1120kB audio:0kB subtitle:0kB other streams:0kB global headers:0kB muxing overhead: 0.111657%\n",
      "[libx264 @ 0x556e21ef77c0] frame I:1     Avg QP:22.82  size: 50056\n",
      "[libx264 @ 0x556e21ef77c0] frame P:9     Avg QP:20.42  size: 53943\n",
      "[libx264 @ 0x556e21ef77c0] frame B:23    Avg QP:21.62  size: 26567\n",
      "[libx264 @ 0x556e21ef77c0] consecutive B-frames:  6.1%  0.0%  9.1% 84.8%\n",
      "[libx264 @ 0x556e21ef77c0] mb I  I16..4: 28.2% 43.9% 27.9%\n",
      "[libx264 @ 0x556e21ef77c0] mb P  I16..4:  2.2% 28.3%  1.9%  P16..4: 20.4% 11.7%  6.6%  0.0%  0.0%    skip:28.9%\n",
      "[libx264 @ 0x556e21ef77c0] mb B  I16..4:  0.4% 12.8%  0.2%  B16..8: 23.9%  6.1%  1.8%  direct: 6.0%  skip:49.0%  L0:44.6% L1:46.9% BI: 8.4%\n",
      "[libx264 @ 0x556e21ef77c0] 8x8 transform intra:85.0% inter:84.3%\n",
      "[libx264 @ 0x556e21ef77c0] coded y,u,v intra: 74.3% 40.4% 38.7% inter: 24.5% 14.5% 13.1%\n",
      "[libx264 @ 0x556e21ef77c0] i16 v,h,dc,p: 46% 37%  7% 10%\n",
      "[libx264 @ 0x556e21ef77c0] i8 v,h,dc,ddl,ddr,vr,hd,vl,hu: 12% 19% 53%  3%  2%  2%  2%  3%  5%\n",
      "[libx264 @ 0x556e21ef77c0] i4 v,h,dc,ddl,ddr,vr,hd,vl,hu: 37% 33% 13%  2%  3%  2%  4%  2%  4%\n",
      "[libx264 @ 0x556e21ef77c0] Weighted P-Frames: Y:0.0% UV:0.0%\n",
      "[libx264 @ 0x556e21ef77c0] ref P L0: 41.4%  9.6% 31.8% 17.2%\n",
      "[libx264 @ 0x556e21ef77c0] ref B L0: 70.0% 24.5%  5.5%\n",
      "[libx264 @ 0x556e21ef77c0] ref B L1: 88.3% 11.7%\n",
      "[libx264 @ 0x556e21ef77c0] kb/s:2779.58\n",
      "ffmpeg version 5.1.2 Copyright (c) 2000-2022 the FFmpeg developers\n",
      "  built with gcc 10.4.0 (conda-forge gcc 10.4.0-18)\n",
      "  configuration: --prefix=/home/irmak/miniconda3/envs/tactile_learning --cc=/home/conda/feedstock_root/build_artifacts/ffmpeg_1666357487580/_build_env/bin/x86_64-conda-linux-gnu-cc --cxx=/home/conda/feedstock_root/build_artifacts/ffmpeg_1666357487580/_build_env/bin/x86_64-conda-linux-gnu-c++ --nm=/home/conda/feedstock_root/build_artifacts/ffmpeg_1666357487580/_build_env/bin/x86_64-conda-linux-gnu-nm --ar=/home/conda/feedstock_root/build_artifacts/ffmpeg_1666357487580/_build_env/bin/x86_64-conda-linux-gnu-ar --disable-doc --disable-openssl --enable-demuxer=dash --enable-hardcoded-tables --enable-libfreetype --enable-libfontconfig --enable-libopenh264 --enable-gnutls --enable-libmp3lame --enable-libvpx --enable-pthreads --enable-vaapi --enable-gpl --enable-libx264 --enable-libx265 --enable-libaom --enable-libsvtav1 --enable-libxml2 --enable-pic --enable-shared --disable-static --enable-version3 --enable-zlib --pkg-config=/home/conda/feedstock_root/build_artifacts/ffmpeg_1666357487580/_build_env/bin/pkg-config\n",
      "  libavutil      57. 28.100 / 57. 28.100\n",
      "  libavcodec     59. 37.100 / 59. 37.100\n",
      "  libavformat    59. 27.100 / 59. 27.100\n",
      "  libavdevice    59.  7.100 / 59.  7.100\n",
      "  libavfilter     8. 44.100 /  8. 44.100\n",
      "  libswscale      6.  7.100 /  6.  7.100\n",
      "  libswresample   4.  7.100 /  4.  7.100\n",
      "  libpostproc    56.  6.100 / 56.  6.100\n",
      "[image2 @ 0x561362ab3640] Pattern type 'glob_sequence' is deprecated: use pattern_type 'glob' instead\n",
      "Input #0, image2, from '/home/irmak/Workspace/Holo-Bot/extracted_data/plier_picking/demonstration_25/visualization/%*.png':\n",
      "  Duration: 00:00:01.00, start: 0.000000, bitrate: N/A\n",
      "  Stream #0:0: Video: png, rgba(pc), 2000x2000 [SAR 3937:3937 DAR 1:1], 25 fps, 25 tbr, 25 tbn\n",
      "Stream mapping:\n",
      "  Stream #0:0 -> #0:0 (png (native) -> h264 (libx264))\n",
      "Press [q] to stop, [?] for help\n"
     ]
    },
    {
     "name": "stdout",
     "output_type": "stream",
     "text": [
      "dumping video in root: /home/irmak/Workspace/Holo-Bot/extracted_data/plier_picking/demonstration_25\n"
     ]
    },
    {
     "name": "stderr",
     "output_type": "stream",
     "text": [
      "[libx264 @ 0x561362aba3c0] using SAR=1/1\n",
      "[libx264 @ 0x561362aba3c0] using cpu capabilities: MMX2 SSE2Fast SSSE3 SSE4.2 AVX FMA3 BMI2 AVX2\n",
      "[libx264 @ 0x561362aba3c0] profile High 4:4:4 Predictive, level 4.0, 4:4:4, 8-bit\n",
      "[libx264 @ 0x561362aba3c0] 264 - core 164 r3095 baee400 - H.264/MPEG-4 AVC codec - Copyleft 2003-2022 - http://www.videolan.org/x264.html - options: cabac=1 ref=3 deblock=1:0:0 analyse=0x3:0x113 me=hex subme=7 psy=1 psy_rd=1.00:0.00 mixed_ref=1 me_range=16 chroma_me=1 trellis=1 8x8dct=1 cqm=0 deadzone=21,11 fast_pskip=1 chroma_qp_offset=4 threads=22 lookahead_threads=3 sliced_threads=0 nr=0 decimate=1 interlaced=0 bluray_compat=0 constrained_intra=0 bframes=3 b_pyramid=2 b_adapt=1 b_bias=0 direct=1 weightb=1 open_gop=0 weightp=2 keyint=250 keyint_min=10 scenecut=40 intra_refresh=0 rc_lookahead=40 rc=crf mbtree=1 crf=23.0 qcomp=0.60 qpmin=0 qpmax=69 qpstep=4 ip_ratio=1.40 aq=1:1.00\n",
      "Output #0, mp4, to '/home/irmak/Workspace/Holo-Bot/extracted_data/plier_picking/demonstration_25/visualization_0.mp4':\n",
      "  Metadata:\n",
      "    encoder         : Lavf59.27.100\n",
      "  Stream #0:0: Video: h264 (avc1 / 0x31637661), yuv444p(tv, progressive), 2000x720 [SAR 1:1 DAR 25:9], q=2-31, 10 fps, 10240 tbn\n",
      "    Metadata:\n",
      "      encoder         : Lavc59.37.100 libx264\n",
      "    Side data:\n",
      "      cpb: bitrate max/min/avg: 0/0/0 buffer size: 0 vbv_delay: N/A\n",
      "frame=   25 fps=0.0 q=-1.0 Lsize=     892kB time=00:00:02.20 bitrate=3321.4kbits/s speed=2.92x    \n",
      "video:891kB audio:0kB subtitle:0kB other streams:0kB global headers:0kB muxing overhead: 0.129021%\n",
      "[libx264 @ 0x561362aba3c0] frame I:1     Avg QP:22.20  size: 51932\n",
      "[libx264 @ 0x561362aba3c0] frame P:6     Avg QP:20.57  size: 57905\n",
      "[libx264 @ 0x561362aba3c0] frame B:18    Avg QP:21.60  size: 28456\n",
      "[libx264 @ 0x561362aba3c0] consecutive B-frames:  4.0%  0.0%  0.0% 96.0%\n",
      "[libx264 @ 0x561362aba3c0] mb I  I16..4: 29.8% 41.3% 28.9%\n",
      "[libx264 @ 0x561362aba3c0] mb P  I16..4:  2.1% 33.6%  2.6%  P16..4: 17.2% 10.8%  5.7%  0.0%  0.0%    skip:28.0%\n",
      "[libx264 @ 0x561362aba3c0] mb B  I16..4:  0.4% 13.5%  0.3%  B16..8: 23.0%  6.4%  2.0%  direct: 6.5%  skip:47.9%  L0:42.8% L1:46.9% BI:10.4%\n",
      "[libx264 @ 0x561362aba3c0] 8x8 transform intra:83.1% inter:82.4%\n",
      "[libx264 @ 0x561362aba3c0] coded y,u,v intra: 73.5% 39.9% 38.6% inter: 24.7% 14.7% 13.9%\n",
      "[libx264 @ 0x561362aba3c0] i16 v,h,dc,p: 50% 38%  6%  6%\n",
      "[libx264 @ 0x561362aba3c0] i8 v,h,dc,ddl,ddr,vr,hd,vl,hu: 12% 20% 53%  3%  2%  1%  2%  3%  4%\n",
      "[libx264 @ 0x561362aba3c0] i4 v,h,dc,ddl,ddr,vr,hd,vl,hu: 36% 36% 12%  2%  2%  2%  4%  2%  4%\n",
      "[libx264 @ 0x561362aba3c0] Weighted P-Frames: Y:0.0% UV:0.0%\n",
      "[libx264 @ 0x561362aba3c0] ref P L0: 41.3% 11.2% 31.2% 16.3%\n",
      "[libx264 @ 0x561362aba3c0] ref B L0: 71.3% 23.1%  5.6%\n",
      "[libx264 @ 0x561362aba3c0] ref B L1: 89.8% 10.2%\n",
      "[libx264 @ 0x561362aba3c0] kb/s:2917.02\n",
      "ffmpeg version 5.1.2 Copyright (c) 2000-2022 the FFmpeg developers\n",
      "  built with gcc 10.4.0 (conda-forge gcc 10.4.0-18)\n",
      "  configuration: --prefix=/home/irmak/miniconda3/envs/tactile_learning --cc=/home/conda/feedstock_root/build_artifacts/ffmpeg_1666357487580/_build_env/bin/x86_64-conda-linux-gnu-cc --cxx=/home/conda/feedstock_root/build_artifacts/ffmpeg_1666357487580/_build_env/bin/x86_64-conda-linux-gnu-c++ --nm=/home/conda/feedstock_root/build_artifacts/ffmpeg_1666357487580/_build_env/bin/x86_64-conda-linux-gnu-nm --ar=/home/conda/feedstock_root/build_artifacts/ffmpeg_1666357487580/_build_env/bin/x86_64-conda-linux-gnu-ar --disable-doc --disable-openssl --enable-demuxer=dash --enable-hardcoded-tables --enable-libfreetype --enable-libfontconfig --enable-libopenh264 --enable-gnutls --enable-libmp3lame --enable-libvpx --enable-pthreads --enable-vaapi --enable-gpl --enable-libx264 --enable-libx265 --enable-libaom --enable-libsvtav1 --enable-libxml2 --enable-pic --enable-shared --disable-static --enable-version3 --enable-zlib --pkg-config=/home/conda/feedstock_root/build_artifacts/ffmpeg_1666357487580/_build_env/bin/pkg-config\n",
      "  libavutil      57. 28.100 / 57. 28.100\n",
      "  libavcodec     59. 37.100 / 59. 37.100\n",
      "  libavformat    59. 27.100 / 59. 27.100\n",
      "  libavdevice    59.  7.100 / 59.  7.100\n",
      "  libavfilter     8. 44.100 /  8. 44.100\n",
      "  libswscale      6.  7.100 /  6.  7.100\n",
      "  libswresample   4.  7.100 /  4.  7.100\n",
      "  libpostproc    56.  6.100 / 56.  6.100\n",
      "[image2 @ 0x558e95bb8640] Pattern type 'glob_sequence' is deprecated: use pattern_type 'glob' instead\n",
      "Input #0, image2, from '/home/irmak/Workspace/Holo-Bot/extracted_data/plier_picking/demonstration_16/visualization/%*.png':\n",
      "  Duration: 00:00:01.80, start: 0.000000, bitrate: N/A\n",
      "  Stream #0:0: Video: png, rgba(pc), 2000x2000 [SAR 3937:3937 DAR 1:1], 25 fps, 25 tbr, 25 tbn\n",
      "Stream mapping:\n",
      "  Stream #0:0 -> #0:0 (png (native) -> h264 (libx264))\n",
      "Press [q] to stop, [?] for help\n"
     ]
    },
    {
     "name": "stdout",
     "output_type": "stream",
     "text": [
      "dumping video in root: /home/irmak/Workspace/Holo-Bot/extracted_data/plier_picking/demonstration_16\n"
     ]
    },
    {
     "name": "stderr",
     "output_type": "stream",
     "text": [
      "[libx264 @ 0x558e95bbfec0] using SAR=1/1\n",
      "[libx264 @ 0x558e95bbfec0] using cpu capabilities: MMX2 SSE2Fast SSSE3 SSE4.2 AVX FMA3 BMI2 AVX2\n",
      "[libx264 @ 0x558e95bbfec0] profile High 4:4:4 Predictive, level 4.0, 4:4:4, 8-bit\n",
      "[libx264 @ 0x558e95bbfec0] 264 - core 164 r3095 baee400 - H.264/MPEG-4 AVC codec - Copyleft 2003-2022 - http://www.videolan.org/x264.html - options: cabac=1 ref=3 deblock=1:0:0 analyse=0x3:0x113 me=hex subme=7 psy=1 psy_rd=1.00:0.00 mixed_ref=1 me_range=16 chroma_me=1 trellis=1 8x8dct=1 cqm=0 deadzone=21,11 fast_pskip=1 chroma_qp_offset=4 threads=22 lookahead_threads=3 sliced_threads=0 nr=0 decimate=1 interlaced=0 bluray_compat=0 constrained_intra=0 bframes=3 b_pyramid=2 b_adapt=1 b_bias=0 direct=1 weightb=1 open_gop=0 weightp=2 keyint=250 keyint_min=10 scenecut=40 intra_refresh=0 rc_lookahead=40 rc=crf mbtree=1 crf=23.0 qcomp=0.60 qpmin=0 qpmax=69 qpstep=4 ip_ratio=1.40 aq=1:1.00\n",
      "Output #0, mp4, to '/home/irmak/Workspace/Holo-Bot/extracted_data/plier_picking/demonstration_16/visualization_0.mp4':\n",
      "  Metadata:\n",
      "    encoder         : Lavf59.27.100\n",
      "  Stream #0:0: Video: h264 (avc1 / 0x31637661), yuv444p(tv, progressive), 2000x720 [SAR 1:1 DAR 25:9], q=2-31, 10 fps, 10240 tbn\n",
      "    Metadata:\n",
      "      encoder         : Lavc59.37.100 libx264\n",
      "    Side data:\n",
      "      cpb: bitrate max/min/avg: 0/0/0 buffer size: 0 vbv_delay: N/A\n",
      "frame=   45 fps= 43 q=-1.0 Lsize=    1469kB time=00:00:04.20 bitrate=2866.2kbits/s speed=4.04x    \n",
      "video:1468kB audio:0kB subtitle:0kB other streams:0kB global headers:0kB muxing overhead: 0.095322%\n",
      "[libx264 @ 0x558e95bbfec0] frame I:1     Avg QP:22.83  size: 50489\n",
      "[libx264 @ 0x558e95bbfec0] frame P:11    Avg QP:20.00  size: 52651\n",
      "[libx264 @ 0x558e95bbfec0] frame B:33    Avg QP:21.52  size: 26454\n",
      "[libx264 @ 0x558e95bbfec0] consecutive B-frames:  2.2%  0.0%  0.0% 97.8%\n",
      "[libx264 @ 0x558e95bbfec0] mb I  I16..4: 27.9% 43.7% 28.4%\n",
      "[libx264 @ 0x558e95bbfec0] mb P  I16..4:  1.9% 28.2%  1.5%  P16..4: 20.6% 11.6%  6.1%  0.0%  0.0%    skip:30.1%\n",
      "[libx264 @ 0x558e95bbfec0] mb B  I16..4:  0.4% 11.7%  0.2%  B16..8: 24.6%  6.1%  1.8%  direct: 6.4%  skip:48.8%  L0:42.1% L1:48.4% BI: 9.6%\n",
      "[libx264 @ 0x558e95bbfec0] 8x8 transform intra:86.9% inter:83.8%\n",
      "[libx264 @ 0x558e95bbfec0] coded y,u,v intra: 76.4% 41.7% 39.3% inter: 25.1% 14.7% 13.2%\n",
      "[libx264 @ 0x558e95bbfec0] i16 v,h,dc,p: 47% 34%  9% 10%\n",
      "[libx264 @ 0x558e95bbfec0] i8 v,h,dc,ddl,ddr,vr,hd,vl,hu: 11% 18% 56%  3%  2%  2%  2%  2%  4%\n",
      "[libx264 @ 0x558e95bbfec0] i4 v,h,dc,ddl,ddr,vr,hd,vl,hu: 36% 33% 12%  3%  3%  3%  4%  3%  4%\n",
      "[libx264 @ 0x558e95bbfec0] Weighted P-Frames: Y:0.0% UV:0.0%\n",
      "[libx264 @ 0x558e95bbfec0] ref P L0: 39.0% 12.9% 31.2% 16.8%\n",
      "[libx264 @ 0x558e95bbfec0] ref B L0: 71.2% 23.6%  5.1%\n",
      "[libx264 @ 0x558e95bbfec0] ref B L1: 89.2% 10.8%\n",
      "[libx264 @ 0x558e95bbfec0] kb/s:2671.36\n",
      "ffmpeg version 5.1.2 Copyright (c) 2000-2022 the FFmpeg developers\n",
      "  built with gcc 10.4.0 (conda-forge gcc 10.4.0-18)\n",
      "  configuration: --prefix=/home/irmak/miniconda3/envs/tactile_learning --cc=/home/conda/feedstock_root/build_artifacts/ffmpeg_1666357487580/_build_env/bin/x86_64-conda-linux-gnu-cc --cxx=/home/conda/feedstock_root/build_artifacts/ffmpeg_1666357487580/_build_env/bin/x86_64-conda-linux-gnu-c++ --nm=/home/conda/feedstock_root/build_artifacts/ffmpeg_1666357487580/_build_env/bin/x86_64-conda-linux-gnu-nm --ar=/home/conda/feedstock_root/build_artifacts/ffmpeg_1666357487580/_build_env/bin/x86_64-conda-linux-gnu-ar --disable-doc --disable-openssl --enable-demuxer=dash --enable-hardcoded-tables --enable-libfreetype --enable-libfontconfig --enable-libopenh264 --enable-gnutls --enable-libmp3lame --enable-libvpx --enable-pthreads --enable-vaapi --enable-gpl --enable-libx264 --enable-libx265 --enable-libaom --enable-libsvtav1 --enable-libxml2 --enable-pic --enable-shared --disable-static --enable-version3 --enable-zlib --pkg-config=/home/conda/feedstock_root/build_artifacts/ffmpeg_1666357487580/_build_env/bin/pkg-config\n",
      "  libavutil      57. 28.100 / 57. 28.100\n",
      "  libavcodec     59. 37.100 / 59. 37.100\n",
      "  libavformat    59. 27.100 / 59. 27.100\n",
      "  libavdevice    59.  7.100 / 59.  7.100\n",
      "  libavfilter     8. 44.100 /  8. 44.100\n",
      "  libswscale      6.  7.100 /  6.  7.100\n",
      "  libswresample   4.  7.100 /  4.  7.100\n",
      "  libpostproc    56.  6.100 / 56.  6.100\n",
      "[image2 @ 0x555d95acf640] Pattern type 'glob_sequence' is deprecated: use pattern_type 'glob' instead\n",
      "Input #0, image2, from '/home/irmak/Workspace/Holo-Bot/extracted_data/plier_picking/demonstration_27/visualization/%*.png':\n",
      "  Duration: 00:00:01.24, start: 0.000000, bitrate: N/A\n",
      "  Stream #0:0: Video: png, rgba(pc), 2000x2000 [SAR 3937:3937 DAR 1:1], 25 fps, 25 tbr, 25 tbn\n",
      "Stream mapping:\n",
      "  Stream #0:0 -> #0:0 (png (native) -> h264 (libx264))\n",
      "Press [q] to stop, [?] for help\n"
     ]
    },
    {
     "name": "stdout",
     "output_type": "stream",
     "text": [
      "dumping video in root: /home/irmak/Workspace/Holo-Bot/extracted_data/plier_picking/demonstration_27\n"
     ]
    },
    {
     "name": "stderr",
     "output_type": "stream",
     "text": [
      "[libx264 @ 0x555d95ad5240] using SAR=1/1\n",
      "[libx264 @ 0x555d95ad5240] using cpu capabilities: MMX2 SSE2Fast SSSE3 SSE4.2 AVX FMA3 BMI2 AVX2\n",
      "[libx264 @ 0x555d95ad5240] profile High 4:4:4 Predictive, level 4.0, 4:4:4, 8-bit\n",
      "[libx264 @ 0x555d95ad5240] 264 - core 164 r3095 baee400 - H.264/MPEG-4 AVC codec - Copyleft 2003-2022 - http://www.videolan.org/x264.html - options: cabac=1 ref=3 deblock=1:0:0 analyse=0x3:0x113 me=hex subme=7 psy=1 psy_rd=1.00:0.00 mixed_ref=1 me_range=16 chroma_me=1 trellis=1 8x8dct=1 cqm=0 deadzone=21,11 fast_pskip=1 chroma_qp_offset=4 threads=22 lookahead_threads=3 sliced_threads=0 nr=0 decimate=1 interlaced=0 bluray_compat=0 constrained_intra=0 bframes=3 b_pyramid=2 b_adapt=1 b_bias=0 direct=1 weightb=1 open_gop=0 weightp=2 keyint=250 keyint_min=10 scenecut=40 intra_refresh=0 rc_lookahead=40 rc=crf mbtree=1 crf=23.0 qcomp=0.60 qpmin=0 qpmax=69 qpstep=4 ip_ratio=1.40 aq=1:1.00\n",
      "Output #0, mp4, to '/home/irmak/Workspace/Holo-Bot/extracted_data/plier_picking/demonstration_27/visualization_0.mp4':\n",
      "  Metadata:\n",
      "    encoder         : Lavf59.27.100\n",
      "  Stream #0:0: Video: h264 (avc1 / 0x31637661), yuv444p(tv, progressive), 2000x720 [SAR 1:1 DAR 25:9], q=2-31, 10 fps, 10240 tbn\n",
      "    Metadata:\n",
      "      encoder         : Lavc59.37.100 libx264\n",
      "    Side data:\n",
      "      cpb: bitrate max/min/avg: 0/0/0 buffer size: 0 vbv_delay: N/A\n",
      "frame=   31 fps=0.0 q=-1.0 Lsize=    1065kB time=00:00:02.80 bitrate=3117.1kbits/s speed=3.34x    \n",
      "video:1064kB audio:0kB subtitle:0kB other streams:0kB global headers:0kB muxing overhead: 0.114611%\n",
      "[libx264 @ 0x555d95ad5240] frame I:1     Avg QP:22.86  size: 51159\n",
      "[libx264 @ 0x555d95ad5240] frame P:8     Avg QP:20.44  size: 52853\n",
      "[libx264 @ 0x555d95ad5240] frame B:22    Avg QP:21.77  size: 27959\n",
      "[libx264 @ 0x555d95ad5240] consecutive B-frames:  3.2%  0.0% 19.4% 77.4%\n",
      "[libx264 @ 0x555d95ad5240] mb I  I16..4: 28.6% 43.1% 28.4%\n",
      "[libx264 @ 0x555d95ad5240] mb P  I16..4:  1.9% 27.9%  2.0%  P16..4: 20.9% 11.4%  5.7%  0.0%  0.0%    skip:30.3%\n",
      "[libx264 @ 0x555d95ad5240] mb B  I16..4:  0.3% 12.2%  0.3%  B16..8: 25.0%  6.4%  1.8%  direct: 6.2%  skip:47.9%  L0:46.7% L1:44.5% BI: 8.8%\n",
      "[libx264 @ 0x555d95ad5240] 8x8 transform intra:84.0% inter:84.6%\n",
      "[libx264 @ 0x555d95ad5240] coded y,u,v intra: 74.3% 40.5% 38.5% inter: 25.3% 14.9% 13.2%\n",
      "[libx264 @ 0x555d95ad5240] i16 v,h,dc,p: 48% 38%  5%  8%\n",
      "[libx264 @ 0x555d95ad5240] i8 v,h,dc,ddl,ddr,vr,hd,vl,hu: 12% 18% 54%  3%  2%  2%  3%  3%  5%\n",
      "[libx264 @ 0x555d95ad5240] i4 v,h,dc,ddl,ddr,vr,hd,vl,hu: 35% 33% 13%  3%  3%  2%  4%  3%  4%\n",
      "[libx264 @ 0x555d95ad5240] Weighted P-Frames: Y:0.0% UV:0.0%\n",
      "[libx264 @ 0x555d95ad5240] ref P L0: 38.7% 10.3% 32.4% 18.5%\n",
      "[libx264 @ 0x555d95ad5240] ref B L0: 71.2% 23.3%  5.4%\n",
      "[libx264 @ 0x555d95ad5240] ref B L1: 91.0%  9.0%\n",
      "[libx264 @ 0x555d95ad5240] kb/s:2810.55\n"
     ]
    }
   ],
   "source": [
    "# Turn the images to a video and delete the directory\n",
    "video_fps = 10\n",
    "for root in roots:\n",
    "    print('dumping video in root: {}'.format(root))\n",
    "    video_path = os.path.join(root, f'visualization_{view_num}.mp4')\n",
    "    if os.path.exists(video_path):\n",
    "        os.remove(video_path)\n",
    "    viz_dir = os.path.join(root, 'visualization')\n",
    "    os.system('ffmpeg -r {} -i {}/%*.png -vf scale=2000x720,setsar=1:1 {}'.format(\n",
    "        video_fps, # fps\n",
    "        viz_dir,\n",
    "        video_path\n",
    "    ))\n"
   ]
  },
  {
   "cell_type": "code",
   "execution_count": 19,
   "metadata": {},
   "outputs": [],
   "source": [
    "# Remove the img directory\n",
    "\n",
    "for root in roots:\n",
    "    viz_dir = os.path.join(root, 'visualization')\n",
    "    shutil.rmtree(viz_dir)\n"
   ]
  },
  {
   "cell_type": "code",
   "execution_count": null,
   "metadata": {},
   "outputs": [],
   "source": []
  }
 ],
 "metadata": {
  "kernelspec": {
   "display_name": "Python 3 (ipykernel)",
   "language": "python",
   "name": "python3"
  },
  "language_info": {
   "codemirror_mode": {
    "name": "ipython",
    "version": 3
   },
   "file_extension": ".py",
   "mimetype": "text/x-python",
   "name": "python",
   "nbconvert_exporter": "python",
   "pygments_lexer": "ipython3",
   "version": "3.9.13"
  },
  "vscode": {
   "interpreter": {
    "hash": "36852de55b288c46ba617fd48cf310240e4201e2f57004cbdac030fa23152bd3"
   }
  }
 },
 "nbformat": 4,
 "nbformat_minor": 4
}
