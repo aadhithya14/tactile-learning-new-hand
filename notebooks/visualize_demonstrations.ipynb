{
 "cells": [
  {
   "cell_type": "code",
   "execution_count": 1,
   "metadata": {},
   "outputs": [],
   "source": [
    "import cv2\n",
    "import h5py\n",
    "import matplotlib.pyplot as plt\n",
    "import numpy as np\n",
    "import os\n",
    "import pickle\n",
    "import shutil\n",
    "\n",
    "from tqdm import tqdm"
   ]
  },
  {
   "cell_type": "code",
   "execution_count": 2,
   "metadata": {},
   "outputs": [],
   "source": [
    "from tactile_learning.datasets.preprocess import dump_video_to_images, get_closest_id\n",
    "from tactile_learning.utils.visualization import plot_tactile_sensor"
   ]
  },
  {
   "cell_type": "code",
   "execution_count": 3,
   "metadata": {},
   "outputs": [],
   "source": [
    "import decimal\n",
    "\n",
    "# Get the metadata of images and tactile information\n",
    "def get_desired_indices(root, fps): # frames per second from the video to receive\n",
    "    image_metadata_path = os.path.join(root, 'cam_0_rgb_video.metadata')\n",
    "    tactile_info_path = os.path.join(root, 'touch_sensor_values.h5')\n",
    "\n",
    "    with open(image_metadata_path, 'rb') as f:\n",
    "        image_metadata = pickle.load(f)\n",
    "        image_timestamps_array = np.asarray(image_metadata['timestamps'])\n",
    "        image_timestamps = np.asarray(image_metadata['timestamps']) / 1000.\n",
    "    with h5py.File(tactile_info_path, 'r') as f:\n",
    "        tactile_timestamps = f['timestamps'][()]\n",
    "\n",
    "    image_id, tactile_id = 0, 0\n",
    "    curr_timestamp = tactile_timestamps[0] # These timestamps are in seconds\n",
    "    image_id = get_closest_id(image_id, curr_timestamp, image_timestamps)\n",
    "\n",
    "    tactile_indices, image_indices = [], []\n",
    "    tactile_indices.append(tactile_id)\n",
    "    image_indices.append(image_id)\n",
    "\n",
    "    frame_period = 1. / fps\n",
    "    while(True):\n",
    "        curr_timestamp += frame_period\n",
    "        tactile_id = get_closest_id(tactile_id, curr_timestamp, tactile_timestamps)\n",
    "        image_id = get_closest_id(image_id, curr_timestamp, image_timestamps)\n",
    "\n",
    "        if curr_timestamp > tactile_timestamps[tactile_id] and curr_timestamp > image_timestamps[image_id]:\n",
    "            break\n",
    "\n",
    "        tactile_indices.append(tactile_id)\n",
    "        image_indices.append(image_id)\n",
    "\n",
    "    assert len(tactile_indices) == len(image_indices)\n",
    "    return tactile_indices, image_indices\n"
   ]
  },
  {
   "cell_type": "code",
   "execution_count": 4,
   "metadata": {},
   "outputs": [],
   "source": [
    "\n",
    "def dump_states(root, tactile_indices, image_indices):\n",
    "    # Make directory to dump the visualization\n",
    "    pbar = tqdm(total=len(tactile_indices))\n",
    "\n",
    "    with h5py.File(os.path.join(root, 'touch_sensor_values.h5'), 'r') as f:\n",
    "        all_tactile_values = f['sensor_values'][()]\n",
    "\n",
    "    viz_dir = os.path.join(root, 'visualization')\n",
    "    os.makedirs(viz_dir, exist_ok=True)\n",
    "    \n",
    "    video_path = os.path.join(root, f'cam_0_rgb_video.avi')\n",
    "    vidcap = cv2.VideoCapture(video_path)\n",
    "    success, image = vidcap.read()\n",
    "    frame_count = int(vidcap.get(cv2.CAP_PROP_FRAME_COUNT))\n",
    "    frame_id = 0\n",
    "    for i in range(len(tactile_indices)):\n",
    "        tactile_id, image_id = tactile_indices[i], image_indices[i]\n",
    "        while frame_id != image_id and success:\n",
    "            # Find the frame that is equal to image_id\n",
    "            success, image = vidcap.read()\n",
    "            frame_id += 1\n",
    "        dump_demo_state(\n",
    "            frame_id = i,\n",
    "            viz_dir = viz_dir,\n",
    "            tactile_values = all_tactile_values[tactile_id,:,:,:],\n",
    "            camera_img = image\n",
    "        )\n",
    "\n",
    "        pbar.update(1)\n",
    "\n",
    "    pbar.close()\n",
    "\n",
    "def dump_demo_state(frame_id, viz_dir, tactile_values, camera_img):\n",
    "    # tactile_values: (15,16,3)\n",
    "    fig, axs = plt.subplots(figsize=(20,20), nrows=4, ncols=4)\n",
    "    for row_id in range(4):\n",
    "        for column_id in range(4):\n",
    "            if row_id + column_id > 0: # The top left axis should stay empty\n",
    "                plot_tactile_sensor(\n",
    "                    ax = axs[column_id][row_id],\n",
    "                    sensor_values = tactile_values[row_id*4 + column_id-1],\n",
    "                    title = f'Sensor {row_id*4+column_id-1}'\n",
    "                )\n",
    "    fig.suptitle('Tactile State')\n",
    "    fig.savefig(os.path.join(viz_dir, 'Tactile State.png'))\n",
    "    fig.clf()\n",
    "    plt.close()\n",
    "\n",
    "    tactile_img = cv2.imread(os.path.join(viz_dir, 'Tactile State.png'))\n",
    "    height_scale = camera_img.shape[0] / tactile_img.shape[0]\n",
    "    tactile_img = cv2.resize(\n",
    "        tactile_img,\n",
    "        (int(tactile_img.shape[1] * height_scale),\n",
    "         int(tactile_img.shape[0] * height_scale))\n",
    "    )\n",
    "    total_img = cv2.hconcat([camera_img, tactile_img])\n",
    "\n",
    "    img_name = 'state_{}.png'.format(str(frame_id).zfill(3))\n",
    "    cv2.imwrite(os.path.join(viz_dir, img_name), total_img)\n",
    "\n"
   ]
  },
  {
   "cell_type": "code",
   "execution_count": 7,
   "metadata": {},
   "outputs": [
    {
     "name": "stdout",
     "output_type": "stream",
     "text": [
      "tactile_indices: [0, 51, 100, 150, 199, 248, 297, 347, 395, 445, 499, 544, 592, 642, 691, 740, 790, 839, 887, 937, 985, 1035, 1082, 1132], image_indices: [74, 88, 103, 118, 133, 148, 163, 178, 193, 208, 223, 238, 252, 267, 282, 297, 311, 326, 341, 356, 371, 386, 401, 416]\n"
     ]
    },
    {
     "name": "stderr",
     "output_type": "stream",
     "text": [
      "100%|█████████████████████| 24/24 [00:27<00:00,  1.16s/it]\n"
     ]
    },
    {
     "name": "stdout",
     "output_type": "stream",
     "text": [
      "tactile_indices: [0, 51, 104, 150, 198, 249, 297, 347, 395, 444, 493, 543, 592, 642, 691, 739, 788, 836, 886, 935, 985, 1034, 1083, 1133, 1181, 1230, 1279, 1328, 1378, 1426, 1476, 1525, 1575, 1624, 1674, 1723, 1773, 1820, 1871, 1919, 1969, 2018, 2066, 2116, 2165, 2218, 2263, 2314, 2361, 2411, 2459, 2508], image_indices: [69, 84, 99, 113, 128, 143, 158, 173, 188, 203, 217, 232, 247, 262, 277, 292, 307, 320, 335, 350, 365, 380, 395, 409, 424, 439, 453, 468, 483, 498, 513, 528, 543, 558, 573, 588, 603, 618, 633, 648, 663, 678, 693, 708, 723, 738, 753, 768, 783, 798, 813, 828]\n"
     ]
    },
    {
     "name": "stderr",
     "output_type": "stream",
     "text": [
      "100%|█████████████████████| 52/52 [00:59<00:00,  1.14s/it]\n"
     ]
    },
    {
     "name": "stdout",
     "output_type": "stream",
     "text": [
      "tactile_indices: [0, 50, 99, 149, 197, 246, 294, 345, 394, 443, 492, 540, 590, 639, 691, 739, 787, 837, 887, 936, 984, 1034, 1082, 1132, 1182, 1231, 1280, 1329, 1378, 1427, 1478, 1525, 1576], image_indices: [68, 83, 98, 113, 128, 143, 158, 173, 188, 203, 218, 233, 248, 263, 278, 293, 308, 323, 338, 353, 368, 382, 396, 411, 426, 441, 456, 471, 486, 501, 515, 530, 545]\n"
     ]
    },
    {
     "name": "stderr",
     "output_type": "stream",
     "text": [
      "100%|█████████████████████| 33/33 [00:37<00:00,  1.13s/it]\n"
     ]
    },
    {
     "name": "stdout",
     "output_type": "stream",
     "text": [
      "tactile_indices: [0, 51, 100, 150, 199, 248, 296, 346, 394, 444, 494, 541, 590, 641, 688], image_indices: [69, 84, 99, 114, 129, 144, 159, 174, 189, 204, 219, 234, 248, 263, 278]\n"
     ]
    },
    {
     "name": "stderr",
     "output_type": "stream",
     "text": [
      "100%|█████████████████████| 15/15 [00:16<00:00,  1.13s/it]\n"
     ]
    },
    {
     "name": "stdout",
     "output_type": "stream",
     "text": [
      "tactile_indices: [0, 52, 100, 150, 199, 249, 298, 347, 397, 446, 495, 545, 593, 643, 693, 742, 790, 840, 889, 940, 989, 1038, 1087, 1137, 1185, 1235, 1285, 1333, 1384, 1432, 1482, 1531, 1580], image_indices: [70, 85, 100, 115, 130, 145, 160, 175, 190, 205, 220, 235, 250, 265, 280, 295, 310, 325, 340, 355, 370, 384, 399, 414, 429, 443, 458, 473, 488, 503, 518, 533, 548]\n"
     ]
    },
    {
     "name": "stderr",
     "output_type": "stream",
     "text": [
      "100%|█████████████████████| 33/33 [00:37<00:00,  1.13s/it]\n"
     ]
    },
    {
     "name": "stdout",
     "output_type": "stream",
     "text": [
      "tactile_indices: [0, 51, 99, 149, 198, 247, 297, 347, 395, 446, 494, 543, 592, 642, 691, 741, 790, 840, 889, 938, 987, 1037, 1086, 1135, 1185, 1234], image_indices: [71, 86, 101, 116, 131, 146, 160, 175, 190, 205, 220, 235, 250, 265, 280, 295, 309, 324, 339, 354, 369, 384, 399, 413, 428, 442]\n"
     ]
    },
    {
     "name": "stderr",
     "output_type": "stream",
     "text": [
      "100%|█████████████████████| 26/26 [00:30<00:00,  1.16s/it]\n"
     ]
    },
    {
     "name": "stdout",
     "output_type": "stream",
     "text": [
      "tactile_indices: [0, 51, 100, 150, 199, 248, 295, 347, 394, 444, 492, 541, 592, 641, 689, 738, 787, 837, 885, 935, 984, 1035, 1082, 1132, 1181, 1231, 1280, 1330, 1378, 1428, 1477, 1527, 1576, 1625, 1673, 1723, 1772, 1823, 1870, 1920, 1968, 2018, 2067, 2118, 2167, 2216, 2266, 2315, 2365, 2414, 2463, 2511, 2560, 2609, 2658], image_indices: [70, 85, 100, 115, 130, 145, 160, 175, 190, 205, 220, 235, 250, 265, 280, 294, 309, 324, 339, 354, 369, 384, 399, 414, 428, 443, 458, 473, 488, 503, 518, 533, 548, 563, 578, 593, 608, 623, 637, 652, 667, 682, 697, 712, 727, 742, 756, 771, 786, 801, 815, 830, 845, 860, 875]\n"
     ]
    },
    {
     "name": "stderr",
     "output_type": "stream",
     "text": [
      "100%|█████████████████████| 55/55 [01:02<00:00,  1.13s/it]\n"
     ]
    },
    {
     "name": "stdout",
     "output_type": "stream",
     "text": [
      "tactile_indices: [0, 52, 100, 150, 200, 249, 299, 348, 398, 446, 496, 544, 595, 643, 693, 742, 792, 840, 890, 938, 989, 1037, 1087, 1136, 1189, 1234, 1285, 1332, 1383, 1429, 1481, 1529, 1579], image_indices: [70, 85, 100, 115, 130, 145, 159, 174, 189, 204, 219, 233, 248, 262, 277, 292, 307, 322, 337, 352, 366, 381, 396, 411, 426, 441, 456, 470, 484, 499, 514, 529, 544]\n"
     ]
    },
    {
     "name": "stderr",
     "output_type": "stream",
     "text": [
      "100%|█████████████████████| 33/33 [00:37<00:00,  1.12s/it]\n"
     ]
    },
    {
     "name": "stdout",
     "output_type": "stream",
     "text": [
      "tactile_indices: [0, 51, 100, 152, 198, 248, 296, 346, 396, 445, 494, 544, 592, 642, 690, 740, 788, 841, 887, 937, 985, 1036, 1083, 1133, 1182, 1232], image_indices: [71, 86, 101, 116, 131, 146, 161, 176, 191, 206, 221, 236, 251, 265, 280, 295, 310, 325, 339, 354, 368, 383, 398, 413, 428, 443]\n"
     ]
    },
    {
     "name": "stderr",
     "output_type": "stream",
     "text": [
      "100%|█████████████████████| 26/26 [00:28<00:00,  1.08s/it]\n"
     ]
    }
   ],
   "source": [
    "\n",
    "roots = [\n",
    "    '/home/irmak/Workspace/Holo-Bot/extracted_data/box_handle_lifting/box_location_changing/eval/demonstration_5',\n",
    "    '/home/irmak/Workspace/Holo-Bot/extracted_data/box_handle_lifting/box_location_changing/eval/demonstration_12',\n",
    "    '/home/irmak/Workspace/Holo-Bot/extracted_data/box_handle_lifting/box_location_changing/eval/demonstration_13',\n",
    "    '/home/irmak/Workspace/Holo-Bot/extracted_data/box_handle_lifting/box_location_changing/eval/demonstration_14',\n",
    "    '/home/irmak/Workspace/Holo-Bot/extracted_data/box_handle_lifting/box_location_changing/eval/demonstration_15',\n",
    "    '/home/irmak/Workspace/Holo-Bot/extracted_data/box_handle_lifting/box_location_changing/eval/demonstration_16',\n",
    "    '/home/irmak/Workspace/Holo-Bot/extracted_data/box_handle_lifting/box_location_changing/eval/demonstration_17',\n",
    "    '/home/irmak/Workspace/Holo-Bot/extracted_data/box_handle_lifting/box_location_changing/eval/demonstration_18',\n",
    "    '/home/irmak/Workspace/Holo-Bot/extracted_data/box_handle_lifting/box_location_changing/eval/demonstration_19',\n",
    "]\n",
    "\n",
    "retrieval_fps = 2\n",
    "for root in roots:\n",
    "    # print('root: {}'.format(root))\n",
    "    tactile_indices, image_indices = get_desired_indices(root=root, fps=retrieval_fps)\n",
    "    print('tactile_indices: {}, image_indices: {}'.format(tactile_indices, image_indices))\n",
    "    dump_states(root, tactile_indices, image_indices)\n"
   ]
  },
  {
   "cell_type": "code",
   "execution_count": 8,
   "metadata": {},
   "outputs": [
    {
     "name": "stdout",
     "output_type": "stream",
     "text": [
      "dumping video in root: /home/irmak/Workspace/Holo-Bot/extracted_data/box_handle_lifting/box_location_changing/eval/demonstration_5\n"
     ]
    },
    {
     "name": "stderr",
     "output_type": "stream",
     "text": [
      "ffmpeg version 5.1.2 Copyright (c) 2000-2022 the FFmpeg developers\n",
      "  built with gcc 10.4.0 (conda-forge gcc 10.4.0-18)\n",
      "  configuration: --prefix=/home/irmak/miniconda3/envs/tactile_learning --cc=/home/conda/feedstock_root/build_artifacts/ffmpeg_1666357487580/_build_env/bin/x86_64-conda-linux-gnu-cc --cxx=/home/conda/feedstock_root/build_artifacts/ffmpeg_1666357487580/_build_env/bin/x86_64-conda-linux-gnu-c++ --nm=/home/conda/feedstock_root/build_artifacts/ffmpeg_1666357487580/_build_env/bin/x86_64-conda-linux-gnu-nm --ar=/home/conda/feedstock_root/build_artifacts/ffmpeg_1666357487580/_build_env/bin/x86_64-conda-linux-gnu-ar --disable-doc --disable-openssl --enable-demuxer=dash --enable-hardcoded-tables --enable-libfreetype --enable-libfontconfig --enable-libopenh264 --enable-gnutls --enable-libmp3lame --enable-libvpx --enable-pthreads --enable-vaapi --enable-gpl --enable-libx264 --enable-libx265 --enable-libaom --enable-libsvtav1 --enable-libxml2 --enable-pic --enable-shared --disable-static --enable-version3 --enable-zlib --pkg-config=/home/conda/feedstock_root/build_artifacts/ffmpeg_1666357487580/_build_env/bin/pkg-config\n",
      "  libavutil      57. 28.100 / 57. 28.100\n",
      "  libavcodec     59. 37.100 / 59. 37.100\n",
      "  libavformat    59. 27.100 / 59. 27.100\n",
      "  libavdevice    59.  7.100 / 59.  7.100\n",
      "  libavfilter     8. 44.100 /  8. 44.100\n",
      "  libswscale      6.  7.100 /  6.  7.100\n",
      "  libswresample   4.  7.100 /  4.  7.100\n",
      "  libpostproc    56.  6.100 / 56.  6.100\n",
      "[image2 @ 0x55ede2d32640] Pattern type 'glob_sequence' is deprecated: use pattern_type 'glob' instead\n",
      "Input #0, image2, from '/home/irmak/Workspace/Holo-Bot/extracted_data/box_handle_lifting/box_location_changing/eval/demonstration_5/visualization/%*.png':\n",
      "  Duration: 00:00:01.00, start: 0.000000, bitrate: N/A\n",
      "  Stream #0:0: Video: png, rgba(pc), 2000x2000 [SAR 3937:3937 DAR 1:1], 25 fps, 25 tbr, 25 tbn\n",
      "Stream mapping:\n",
      "  Stream #0:0 -> #0:0 (png (native) -> h264 (libx264))\n",
      "Press [q] to stop, [?] for help\n",
      "[libx264 @ 0x55ede2d39680] using SAR=1/1\n",
      "[libx264 @ 0x55ede2d39680] using cpu capabilities: MMX2 SSE2Fast SSSE3 SSE4.2 AVX FMA3 BMI2 AVX2\n",
      "[libx264 @ 0x55ede2d39680] profile High 4:4:4 Predictive, level 4.0, 4:4:4, 8-bit\n",
      "[libx264 @ 0x55ede2d39680] 264 - core 164 r3095 baee400 - H.264/MPEG-4 AVC codec - Copyleft 2003-2022 - http://www.videolan.org/x264.html - options: cabac=1 ref=3 deblock=1:0:0 analyse=0x3:0x113 me=hex subme=7 psy=1 psy_rd=1.00:0.00 mixed_ref=1 me_range=16 chroma_me=1 trellis=1 8x8dct=1 cqm=0 deadzone=21,11 fast_pskip=1 chroma_qp_offset=4 threads=22 lookahead_threads=3 sliced_threads=0 nr=0 decimate=1 interlaced=0 bluray_compat=0 constrained_intra=0 bframes=3 b_pyramid=2 b_adapt=1 b_bias=0 direct=1 weightb=1 open_gop=0 weightp=2 keyint=250 keyint_min=10 scenecut=40 intra_refresh=0 rc_lookahead=40 rc=crf mbtree=1 crf=23.0 qcomp=0.60 qpmin=0 qpmax=69 qpstep=4 ip_ratio=1.40 aq=1:1.00\n",
      "Output #0, mp4, to '/home/irmak/Workspace/Holo-Bot/extracted_data/box_handle_lifting/box_location_changing/eval/demonstration_5/visualization.mp4':\n",
      "  Metadata:\n",
      "    encoder         : Lavf59.27.100\n",
      "  Stream #0:0: Video: h264 (avc1 / 0x31637661), yuv444p(tv, progressive), 2000x720 [SAR 1:1 DAR 25:9], q=2-31, 10 fps, 10240 tbn\n",
      "    Metadata:\n",
      "      encoder         : Lavc59.37.100 libx264\n",
      "    Side data:\n",
      "      cpb: bitrate max/min/avg: 0/0/0 buffer size: 0 vbv_delay: N/A\n",
      "frame=   25 fps=0.0 q=-1.0 Lsize=     715kB time=00:00:02.20 bitrate=2661.4kbits/s speed=2.98x    \n",
      "video:714kB audio:0kB subtitle:0kB other streams:0kB global headers:0kB muxing overhead: 0.161071%\n",
      "[libx264 @ 0x55ede2d39680] frame I:1     Avg QP:22.88  size: 49753\n",
      "[libx264 @ 0x55ede2d39680] frame P:7     Avg QP:20.10  size: 49062\n",
      "[libx264 @ 0x55ede2d39680] frame B:17    Avg QP:21.97  size: 19815\n",
      "[libx264 @ 0x55ede2d39680] consecutive B-frames:  4.0% 16.0%  0.0% 80.0%\n",
      "[libx264 @ 0x55ede2d39680] mb I  I16..4: 26.1% 46.2% 27.7%\n",
      "[libx264 @ 0x55ede2d39680] mb P  I16..4:  3.6% 23.5%  2.6%  P16..4: 21.8% 11.3%  6.5%  0.0%  0.0%    skip:30.8%\n",
      "[libx264 @ 0x55ede2d39680] mb B  I16..4:  0.7%  7.7%  0.2%  B16..8: 24.4%  6.2%  1.5%  direct: 4.8%  skip:54.5%  L0:46.0% L1:46.7% BI: 7.3%\n",
      "[libx264 @ 0x55ede2d39680] 8x8 transform intra:75.3% inter:83.1%\n",
      "[libx264 @ 0x55ede2d39680] coded y,u,v intra: 57.9% 27.8% 27.6% inter: 21.2% 10.3% 10.0%\n",
      "[libx264 @ 0x55ede2d39680] i16 v,h,dc,p: 41% 35% 13% 11%\n",
      "[libx264 @ 0x55ede2d39680] i8 v,h,dc,ddl,ddr,vr,hd,vl,hu: 17% 19% 47%  2%  3%  3%  2%  2%  4%\n",
      "[libx264 @ 0x55ede2d39680] i4 v,h,dc,ddl,ddr,vr,hd,vl,hu: 38% 33% 12%  2%  2%  3%  4%  2%  4%\n",
      "[libx264 @ 0x55ede2d39680] Weighted P-Frames: Y:0.0% UV:0.0%\n",
      "[libx264 @ 0x55ede2d39680] ref P L0: 39.3%  8.5% 30.6% 21.6%\n",
      "[libx264 @ 0x55ede2d39680] ref B L0: 72.1% 23.2%  4.7%\n",
      "[libx264 @ 0x55ede2d39680] ref B L1: 90.8%  9.2%\n",
      "[libx264 @ 0x55ede2d39680] kb/s:2336.14\n",
      "ffmpeg version 5.1.2 Copyright (c) 2000-2022 the FFmpeg developers\n",
      "  built with gcc 10.4.0 (conda-forge gcc 10.4.0-18)\n",
      "  configuration: --prefix=/home/irmak/miniconda3/envs/tactile_learning --cc=/home/conda/feedstock_root/build_artifacts/ffmpeg_1666357487580/_build_env/bin/x86_64-conda-linux-gnu-cc --cxx=/home/conda/feedstock_root/build_artifacts/ffmpeg_1666357487580/_build_env/bin/x86_64-conda-linux-gnu-c++ --nm=/home/conda/feedstock_root/build_artifacts/ffmpeg_1666357487580/_build_env/bin/x86_64-conda-linux-gnu-nm --ar=/home/conda/feedstock_root/build_artifacts/ffmpeg_1666357487580/_build_env/bin/x86_64-conda-linux-gnu-ar --disable-doc --disable-openssl --enable-demuxer=dash --enable-hardcoded-tables --enable-libfreetype --enable-libfontconfig --enable-libopenh264 --enable-gnutls --enable-libmp3lame --enable-libvpx --enable-pthreads --enable-vaapi --enable-gpl --enable-libx264 --enable-libx265 --enable-libaom --enable-libsvtav1 --enable-libxml2 --enable-pic --enable-shared --disable-static --enable-version3 --enable-zlib --pkg-config=/home/conda/feedstock_root/build_artifacts/ffmpeg_1666357487580/_build_env/bin/pkg-config\n",
      "  libavutil      57. 28.100 / 57. 28.100\n",
      "  libavcodec     59. 37.100 / 59. 37.100\n",
      "  libavformat    59. 27.100 / 59. 27.100\n",
      "  libavdevice    59.  7.100 / 59.  7.100\n",
      "  libavfilter     8. 44.100 /  8. 44.100\n",
      "  libswscale      6.  7.100 /  6.  7.100\n",
      "  libswresample   4.  7.100 /  4.  7.100\n",
      "  libpostproc    56.  6.100 / 56.  6.100\n",
      "[image2 @ 0x555dbe27a640] Pattern type 'glob_sequence' is deprecated: use pattern_type 'glob' instead\n",
      "Input #0, image2, from '/home/irmak/Workspace/Holo-Bot/extracted_data/box_handle_lifting/box_location_changing/eval/demonstration_12/visualization/%*.png':\n",
      "  Duration: 00:00:02.12, start: 0.000000, bitrate: N/A\n",
      "  Stream #0:0: Video: png, rgba(pc), 2000x2000 [SAR 3937:3937 DAR 1:1], 25 fps, 25 tbr, 25 tbn\n",
      "Stream mapping:\n",
      "  Stream #0:0 -> #0:0 (png (native) -> h264 (libx264))\n",
      "Press [q] to stop, [?] for help\n"
     ]
    },
    {
     "name": "stdout",
     "output_type": "stream",
     "text": [
      "dumping video in root: /home/irmak/Workspace/Holo-Bot/extracted_data/box_handle_lifting/box_location_changing/eval/demonstration_12\n"
     ]
    },
    {
     "name": "stderr",
     "output_type": "stream",
     "text": [
      "[libx264 @ 0x555dbe280f40] using SAR=1/1\n",
      "[libx264 @ 0x555dbe280f40] using cpu capabilities: MMX2 SSE2Fast SSSE3 SSE4.2 AVX FMA3 BMI2 AVX2\n",
      "[libx264 @ 0x555dbe280f40] profile High 4:4:4 Predictive, level 4.0, 4:4:4, 8-bit\n",
      "[libx264 @ 0x555dbe280f40] 264 - core 164 r3095 baee400 - H.264/MPEG-4 AVC codec - Copyleft 2003-2022 - http://www.videolan.org/x264.html - options: cabac=1 ref=3 deblock=1:0:0 analyse=0x3:0x113 me=hex subme=7 psy=1 psy_rd=1.00:0.00 mixed_ref=1 me_range=16 chroma_me=1 trellis=1 8x8dct=1 cqm=0 deadzone=21,11 fast_pskip=1 chroma_qp_offset=4 threads=22 lookahead_threads=3 sliced_threads=0 nr=0 decimate=1 interlaced=0 bluray_compat=0 constrained_intra=0 bframes=3 b_pyramid=2 b_adapt=1 b_bias=0 direct=1 weightb=1 open_gop=0 weightp=2 keyint=250 keyint_min=10 scenecut=40 intra_refresh=0 rc_lookahead=40 rc=crf mbtree=1 crf=23.0 qcomp=0.60 qpmin=0 qpmax=69 qpstep=4 ip_ratio=1.40 aq=1:1.00\n",
      "Output #0, mp4, to '/home/irmak/Workspace/Holo-Bot/extracted_data/box_handle_lifting/box_location_changing/eval/demonstration_12/visualization.mp4':\n",
      "  Metadata:\n",
      "    encoder         : Lavf59.27.100\n",
      "  Stream #0:0: Video: h264 (avc1 / 0x31637661), yuv444p(tv, progressive), 2000x720 [SAR 1:1 DAR 25:9], q=2-31, 10 fps, 10240 tbn\n",
      "    Metadata:\n",
      "      encoder         : Lavc59.37.100 libx264\n",
      "    Side data:\n",
      "      cpb: bitrate max/min/avg: 0/0/0 buffer size: 0 vbv_delay: N/A\n",
      "frame=   53 fps=0.0 q=-1.0 Lsize=    1427kB time=00:00:05.00 bitrate=2337.5kbits/s speed=5.02x    \n",
      "video:1425kB audio:0kB subtitle:0kB other streams:0kB global headers:0kB muxing overhead: 0.104767%\n",
      "[libx264 @ 0x555dbe280f40] frame I:1     Avg QP:22.61  size: 50283\n",
      "[libx264 @ 0x555dbe280f40] frame P:13    Avg QP:19.31  size: 50986\n",
      "[libx264 @ 0x555dbe280f40] frame B:39    Avg QP:22.07  size: 19119\n",
      "[libx264 @ 0x555dbe280f40] consecutive B-frames:  1.9%  0.0%  0.0% 98.1%\n",
      "[libx264 @ 0x555dbe280f40] mb I  I16..4: 28.5% 43.3% 28.3%\n",
      "[libx264 @ 0x555dbe280f40] mb P  I16..4:  2.4% 30.1%  1.4%  P16..4: 17.7% 10.6%  6.9%  0.0%  0.0%    skip:30.9%\n",
      "[libx264 @ 0x555dbe280f40] mb B  I16..4:  0.8%  7.0%  0.2%  B16..8: 25.6%  6.3%  1.6%  direct: 4.6%  skip:53.9%  L0:48.3% L1:42.8% BI: 8.9%\n",
      "[libx264 @ 0x555dbe280f40] 8x8 transform intra:83.3% inter:82.7%\n",
      "[libx264 @ 0x555dbe280f40] coded y,u,v intra: 66.6% 30.6% 29.7% inter: 20.8% 10.2% 9.6%\n",
      "[libx264 @ 0x555dbe280f40] i16 v,h,dc,p: 39% 31% 20% 10%\n",
      "[libx264 @ 0x555dbe280f40] i8 v,h,dc,ddl,ddr,vr,hd,vl,hu: 15% 20% 52%  2%  2%  2%  2%  2%  3%\n",
      "[libx264 @ 0x555dbe280f40] i4 v,h,dc,ddl,ddr,vr,hd,vl,hu: 37% 33% 13%  2%  3%  3%  4%  2%  4%\n",
      "[libx264 @ 0x555dbe280f40] Weighted P-Frames: Y:0.0% UV:0.0%\n",
      "[libx264 @ 0x555dbe280f40] ref P L0: 35.6%  9.4% 31.9% 23.2%\n",
      "[libx264 @ 0x555dbe280f40] ref B L0: 65.3% 26.7%  8.0%\n",
      "[libx264 @ 0x555dbe280f40] ref B L1: 88.3% 11.7%\n",
      "[libx264 @ 0x555dbe280f40] kb/s:2201.87\n",
      "ffmpeg version 5.1.2 Copyright (c) 2000-2022 the FFmpeg developers\n",
      "  built with gcc 10.4.0 (conda-forge gcc 10.4.0-18)\n",
      "  configuration: --prefix=/home/irmak/miniconda3/envs/tactile_learning --cc=/home/conda/feedstock_root/build_artifacts/ffmpeg_1666357487580/_build_env/bin/x86_64-conda-linux-gnu-cc --cxx=/home/conda/feedstock_root/build_artifacts/ffmpeg_1666357487580/_build_env/bin/x86_64-conda-linux-gnu-c++ --nm=/home/conda/feedstock_root/build_artifacts/ffmpeg_1666357487580/_build_env/bin/x86_64-conda-linux-gnu-nm --ar=/home/conda/feedstock_root/build_artifacts/ffmpeg_1666357487580/_build_env/bin/x86_64-conda-linux-gnu-ar --disable-doc --disable-openssl --enable-demuxer=dash --enable-hardcoded-tables --enable-libfreetype --enable-libfontconfig --enable-libopenh264 --enable-gnutls --enable-libmp3lame --enable-libvpx --enable-pthreads --enable-vaapi --enable-gpl --enable-libx264 --enable-libx265 --enable-libaom --enable-libsvtav1 --enable-libxml2 --enable-pic --enable-shared --disable-static --enable-version3 --enable-zlib --pkg-config=/home/conda/feedstock_root/build_artifacts/ffmpeg_1666357487580/_build_env/bin/pkg-config\n",
      "  libavutil      57. 28.100 / 57. 28.100\n",
      "  libavcodec     59. 37.100 / 59. 37.100\n",
      "  libavformat    59. 27.100 / 59. 27.100\n",
      "  libavdevice    59.  7.100 / 59.  7.100\n",
      "  libavfilter     8. 44.100 /  8. 44.100\n",
      "  libswscale      6.  7.100 /  6.  7.100\n",
      "  libswresample   4.  7.100 /  4.  7.100\n",
      "  libpostproc    56.  6.100 / 56.  6.100\n",
      "[image2 @ 0x564b196ef640] Pattern type 'glob_sequence' is deprecated: use pattern_type 'glob' instead\n",
      "Input #0, image2, from '/home/irmak/Workspace/Holo-Bot/extracted_data/box_handle_lifting/box_location_changing/eval/demonstration_13/visualization/%*.png':\n",
      "  Duration: 00:00:01.36, start: 0.000000, bitrate: N/A\n",
      "  Stream #0:0: Video: png, rgba(pc), 2000x2000 [SAR 3937:3937 DAR 1:1], 25 fps, 25 tbr, 25 tbn\n",
      "Stream mapping:\n",
      "  Stream #0:0 -> #0:0 (png (native) -> h264 (libx264))\n",
      "Press [q] to stop, [?] for help\n"
     ]
    },
    {
     "name": "stdout",
     "output_type": "stream",
     "text": [
      "dumping video in root: /home/irmak/Workspace/Holo-Bot/extracted_data/box_handle_lifting/box_location_changing/eval/demonstration_13\n"
     ]
    },
    {
     "name": "stderr",
     "output_type": "stream",
     "text": [
      "[libx264 @ 0x564b196f4ac0] using SAR=1/1\n",
      "[libx264 @ 0x564b196f4ac0] using cpu capabilities: MMX2 SSE2Fast SSSE3 SSE4.2 AVX FMA3 BMI2 AVX2\n",
      "[libx264 @ 0x564b196f4ac0] profile High 4:4:4 Predictive, level 4.0, 4:4:4, 8-bit\n",
      "[libx264 @ 0x564b196f4ac0] 264 - core 164 r3095 baee400 - H.264/MPEG-4 AVC codec - Copyleft 2003-2022 - http://www.videolan.org/x264.html - options: cabac=1 ref=3 deblock=1:0:0 analyse=0x3:0x113 me=hex subme=7 psy=1 psy_rd=1.00:0.00 mixed_ref=1 me_range=16 chroma_me=1 trellis=1 8x8dct=1 cqm=0 deadzone=21,11 fast_pskip=1 chroma_qp_offset=4 threads=22 lookahead_threads=3 sliced_threads=0 nr=0 decimate=1 interlaced=0 bluray_compat=0 constrained_intra=0 bframes=3 b_pyramid=2 b_adapt=1 b_bias=0 direct=1 weightb=1 open_gop=0 weightp=2 keyint=250 keyint_min=10 scenecut=40 intra_refresh=0 rc_lookahead=40 rc=crf mbtree=1 crf=23.0 qcomp=0.60 qpmin=0 qpmax=69 qpstep=4 ip_ratio=1.40 aq=1:1.00\n",
      "Output #0, mp4, to '/home/irmak/Workspace/Holo-Bot/extracted_data/box_handle_lifting/box_location_changing/eval/demonstration_13/visualization.mp4':\n",
      "  Metadata:\n",
      "    encoder         : Lavf59.27.100\n",
      "  Stream #0:0: Video: h264 (avc1 / 0x31637661), yuv444p(tv, progressive), 2000x720 [SAR 1:1 DAR 25:9], q=2-31, 10 fps, 10240 tbn\n",
      "    Metadata:\n",
      "      encoder         : Lavc59.37.100 libx264\n",
      "    Side data:\n",
      "      cpb: bitrate max/min/avg: 0/0/0 buffer size: 0 vbv_delay: N/A\n",
      "frame=   34 fps=0.0 q=-1.0 Lsize=     893kB time=00:00:03.10 bitrate=2358.7kbits/s speed=3.69x    \n",
      "video:891kB audio:0kB subtitle:0kB other streams:0kB global headers:0kB muxing overhead: 0.140788%\n",
      "[libx264 @ 0x564b196f4ac0] frame I:1     Avg QP:22.78  size: 50767\n",
      "[libx264 @ 0x564b196f4ac0] frame P:9     Avg QP:19.62  size: 47453\n",
      "[libx264 @ 0x564b196f4ac0] frame B:24    Avg QP:21.88  size: 18091\n",
      "[libx264 @ 0x564b196f4ac0] consecutive B-frames:  5.9%  0.0%  0.0% 94.1%\n",
      "[libx264 @ 0x564b196f4ac0] mb I  I16..4: 27.1% 44.2% 28.6%\n",
      "[libx264 @ 0x564b196f4ac0] mb P  I16..4:  3.0% 21.6%  2.1%  P16..4: 22.7% 11.9%  6.9%  0.0%  0.0%    skip:31.8%\n",
      "[libx264 @ 0x564b196f4ac0] mb B  I16..4:  0.7%  7.3%  0.1%  B16..8: 23.1%  5.4%  1.4%  direct: 4.6%  skip:57.4%  L0:46.9% L1:44.7% BI: 8.5%\n",
      "[libx264 @ 0x564b196f4ac0] 8x8 transform intra:77.4% inter:83.0%\n",
      "[libx264 @ 0x564b196f4ac0] coded y,u,v intra: 59.9% 28.8% 28.4% inter: 19.9% 9.8% 9.5%\n",
      "[libx264 @ 0x564b196f4ac0] i16 v,h,dc,p: 40% 34% 16% 11%\n",
      "[libx264 @ 0x564b196f4ac0] i8 v,h,dc,ddl,ddr,vr,hd,vl,hu: 17% 18% 50%  2%  2%  3%  2%  2%  4%\n",
      "[libx264 @ 0x564b196f4ac0] i4 v,h,dc,ddl,ddr,vr,hd,vl,hu: 38% 34% 12%  2%  2%  3%  4%  2%  4%\n",
      "[libx264 @ 0x564b196f4ac0] Weighted P-Frames: Y:0.0% UV:0.0%\n",
      "[libx264 @ 0x564b196f4ac0] ref P L0: 38.5% 10.7% 31.8% 19.0%\n",
      "[libx264 @ 0x564b196f4ac0] ref B L0: 70.0% 23.0%  7.0%\n",
      "[libx264 @ 0x564b196f4ac0] ref B L1: 88.4% 11.6%\n",
      "[libx264 @ 0x564b196f4ac0] kb/s:2145.96\n",
      "ffmpeg version 5.1.2 Copyright (c) 2000-2022 the FFmpeg developers\n",
      "  built with gcc 10.4.0 (conda-forge gcc 10.4.0-18)\n",
      "  configuration: --prefix=/home/irmak/miniconda3/envs/tactile_learning --cc=/home/conda/feedstock_root/build_artifacts/ffmpeg_1666357487580/_build_env/bin/x86_64-conda-linux-gnu-cc --cxx=/home/conda/feedstock_root/build_artifacts/ffmpeg_1666357487580/_build_env/bin/x86_64-conda-linux-gnu-c++ --nm=/home/conda/feedstock_root/build_artifacts/ffmpeg_1666357487580/_build_env/bin/x86_64-conda-linux-gnu-nm --ar=/home/conda/feedstock_root/build_artifacts/ffmpeg_1666357487580/_build_env/bin/x86_64-conda-linux-gnu-ar --disable-doc --disable-openssl --enable-demuxer=dash --enable-hardcoded-tables --enable-libfreetype --enable-libfontconfig --enable-libopenh264 --enable-gnutls --enable-libmp3lame --enable-libvpx --enable-pthreads --enable-vaapi --enable-gpl --enable-libx264 --enable-libx265 --enable-libaom --enable-libsvtav1 --enable-libxml2 --enable-pic --enable-shared --disable-static --enable-version3 --enable-zlib --pkg-config=/home/conda/feedstock_root/build_artifacts/ffmpeg_1666357487580/_build_env/bin/pkg-config\n",
      "  libavutil      57. 28.100 / 57. 28.100\n",
      "  libavcodec     59. 37.100 / 59. 37.100\n",
      "  libavformat    59. 27.100 / 59. 27.100\n",
      "  libavdevice    59.  7.100 / 59.  7.100\n",
      "  libavfilter     8. 44.100 /  8. 44.100\n",
      "  libswscale      6.  7.100 /  6.  7.100\n",
      "  libswresample   4.  7.100 /  4.  7.100\n",
      "  libpostproc    56.  6.100 / 56.  6.100\n",
      "[image2 @ 0x562bee88c640] Pattern type 'glob_sequence' is deprecated: use pattern_type 'glob' instead\n",
      "Input #0, image2, from '/home/irmak/Workspace/Holo-Bot/extracted_data/box_handle_lifting/box_location_changing/eval/demonstration_14/visualization/%*.png':\n",
      "  Duration: 00:00:00.64, start: 0.000000, bitrate: N/A\n",
      "  Stream #0:0: Video: png, rgba(pc), 2000x2000 [SAR 3937:3937 DAR 1:1], 25 fps, 25 tbr, 25 tbn\n",
      "Stream mapping:\n",
      "  Stream #0:0 -> #0:0 (png (native) -> h264 (libx264))\n",
      "Press [q] to stop, [?] for help\n"
     ]
    },
    {
     "name": "stdout",
     "output_type": "stream",
     "text": [
      "dumping video in root: /home/irmak/Workspace/Holo-Bot/extracted_data/box_handle_lifting/box_location_changing/eval/demonstration_14\n"
     ]
    },
    {
     "name": "stderr",
     "output_type": "stream",
     "text": [
      "[libx264 @ 0x562bee893140] using SAR=1/1\n",
      "[libx264 @ 0x562bee893140] using cpu capabilities: MMX2 SSE2Fast SSSE3 SSE4.2 AVX FMA3 BMI2 AVX2\n",
      "[libx264 @ 0x562bee893140] profile High 4:4:4 Predictive, level 4.0, 4:4:4, 8-bit\n",
      "[libx264 @ 0x562bee893140] 264 - core 164 r3095 baee400 - H.264/MPEG-4 AVC codec - Copyleft 2003-2022 - http://www.videolan.org/x264.html - options: cabac=1 ref=3 deblock=1:0:0 analyse=0x3:0x113 me=hex subme=7 psy=1 psy_rd=1.00:0.00 mixed_ref=1 me_range=16 chroma_me=1 trellis=1 8x8dct=1 cqm=0 deadzone=21,11 fast_pskip=1 chroma_qp_offset=4 threads=22 lookahead_threads=3 sliced_threads=0 nr=0 decimate=1 interlaced=0 bluray_compat=0 constrained_intra=0 bframes=3 b_pyramid=2 b_adapt=1 b_bias=0 direct=1 weightb=1 open_gop=0 weightp=2 keyint=250 keyint_min=10 scenecut=40 intra_refresh=0 rc_lookahead=40 rc=crf mbtree=1 crf=23.0 qcomp=0.60 qpmin=0 qpmax=69 qpstep=4 ip_ratio=1.40 aq=1:1.00\n",
      "Output #0, mp4, to '/home/irmak/Workspace/Holo-Bot/extracted_data/box_handle_lifting/box_location_changing/eval/demonstration_14/visualization.mp4':\n",
      "  Metadata:\n",
      "    encoder         : Lavf59.27.100\n",
      "  Stream #0:0: Video: h264 (avc1 / 0x31637661), yuv444p(tv, progressive), 2000x720 [SAR 1:1 DAR 25:9], q=2-31, 10 fps, 10240 tbn\n",
      "    Metadata:\n",
      "      encoder         : Lavc59.37.100 libx264\n",
      "    Side data:\n",
      "      cpb: bitrate max/min/avg: 0/0/0 buffer size: 0 vbv_delay: N/A\n",
      "frame=   16 fps=0.0 q=-1.0 Lsize=     443kB time=00:00:01.30 bitrate=2793.7kbits/s speed=2.14x    \n",
      "video:442kB audio:0kB subtitle:0kB other streams:0kB global headers:0kB muxing overhead: 0.234246%\n",
      "[libx264 @ 0x562bee893140] frame I:1     Avg QP:23.56  size: 48769\n",
      "[libx264 @ 0x562bee893140] frame P:4     Avg QP:20.40  size: 50527\n",
      "[libx264 @ 0x562bee893140] frame B:11    Avg QP:21.80  size: 18307\n",
      "[libx264 @ 0x562bee893140] consecutive B-frames:  6.2%  0.0% 18.8% 75.0%\n",
      "[libx264 @ 0x562bee893140] mb I  I16..4: 27.2% 44.5% 28.3%\n",
      "[libx264 @ 0x562bee893140] mb P  I16..4:  3.6% 24.6%  3.2%  P16..4: 20.7%  9.9%  6.7%  0.0%  0.0%    skip:31.3%\n",
      "[libx264 @ 0x562bee893140] mb B  I16..4:  0.7%  9.7%  0.2%  B16..8: 22.0%  4.6%  1.2%  direct: 4.1%  skip:57.5%  L0:40.7% L1:53.0% BI: 6.3%\n",
      "[libx264 @ 0x562bee893140] 8x8 transform intra:72.9% inter:84.5%\n",
      "[libx264 @ 0x562bee893140] coded y,u,v intra: 55.2% 26.9% 26.1% inter: 18.3% 9.2% 8.9%\n",
      "[libx264 @ 0x562bee893140] i16 v,h,dc,p: 48% 36%  9%  7%\n",
      "[libx264 @ 0x562bee893140] i8 v,h,dc,ddl,ddr,vr,hd,vl,hu: 20% 18% 49%  2%  2%  2%  2%  2%  3%\n",
      "[libx264 @ 0x562bee893140] i4 v,h,dc,ddl,ddr,vr,hd,vl,hu: 40% 35% 11%  1%  2%  2%  4%  1%  3%\n",
      "[libx264 @ 0x562bee893140] Weighted P-Frames: Y:0.0% UV:0.0%\n",
      "[libx264 @ 0x562bee893140] ref P L0: 42.5%  8.8% 30.8% 18.0%\n",
      "[libx264 @ 0x562bee893140] ref B L0: 64.7% 28.8%  6.6%\n",
      "[libx264 @ 0x562bee893140] ref B L1: 86.8% 13.2%\n",
      "[libx264 @ 0x562bee893140] kb/s:2261.27\n",
      "ffmpeg version 5.1.2 Copyright (c) 2000-2022 the FFmpeg developers\n",
      "  built with gcc 10.4.0 (conda-forge gcc 10.4.0-18)\n",
      "  configuration: --prefix=/home/irmak/miniconda3/envs/tactile_learning --cc=/home/conda/feedstock_root/build_artifacts/ffmpeg_1666357487580/_build_env/bin/x86_64-conda-linux-gnu-cc --cxx=/home/conda/feedstock_root/build_artifacts/ffmpeg_1666357487580/_build_env/bin/x86_64-conda-linux-gnu-c++ --nm=/home/conda/feedstock_root/build_artifacts/ffmpeg_1666357487580/_build_env/bin/x86_64-conda-linux-gnu-nm --ar=/home/conda/feedstock_root/build_artifacts/ffmpeg_1666357487580/_build_env/bin/x86_64-conda-linux-gnu-ar --disable-doc --disable-openssl --enable-demuxer=dash --enable-hardcoded-tables --enable-libfreetype --enable-libfontconfig --enable-libopenh264 --enable-gnutls --enable-libmp3lame --enable-libvpx --enable-pthreads --enable-vaapi --enable-gpl --enable-libx264 --enable-libx265 --enable-libaom --enable-libsvtav1 --enable-libxml2 --enable-pic --enable-shared --disable-static --enable-version3 --enable-zlib --pkg-config=/home/conda/feedstock_root/build_artifacts/ffmpeg_1666357487580/_build_env/bin/pkg-config\n",
      "  libavutil      57. 28.100 / 57. 28.100\n",
      "  libavcodec     59. 37.100 / 59. 37.100\n",
      "  libavformat    59. 27.100 / 59. 27.100\n",
      "  libavdevice    59.  7.100 / 59.  7.100\n",
      "  libavfilter     8. 44.100 /  8. 44.100\n",
      "  libswscale      6.  7.100 /  6.  7.100\n",
      "  libswresample   4.  7.100 /  4.  7.100\n",
      "  libpostproc    56.  6.100 / 56.  6.100\n",
      "[image2 @ 0x55b0fbff7640] Pattern type 'glob_sequence' is deprecated: use pattern_type 'glob' instead\n",
      "Input #0, image2, from '/home/irmak/Workspace/Holo-Bot/extracted_data/box_handle_lifting/box_location_changing/eval/demonstration_15/visualization/%*.png':\n",
      "  Duration: 00:00:01.36, start: 0.000000, bitrate: N/A\n",
      "  Stream #0:0: Video: png, rgba(pc), 2000x2000 [SAR 3937:3937 DAR 1:1], 25 fps, 25 tbr, 25 tbn\n",
      "Stream mapping:\n",
      "  Stream #0:0 -> #0:0 (png (native) -> h264 (libx264))\n",
      "Press [q] to stop, [?] for help\n"
     ]
    },
    {
     "name": "stdout",
     "output_type": "stream",
     "text": [
      "dumping video in root: /home/irmak/Workspace/Holo-Bot/extracted_data/box_handle_lifting/box_location_changing/eval/demonstration_15\n"
     ]
    },
    {
     "name": "stderr",
     "output_type": "stream",
     "text": [
      "[libx264 @ 0x55b0fbffcac0] using SAR=1/1\n",
      "[libx264 @ 0x55b0fbffcac0] using cpu capabilities: MMX2 SSE2Fast SSSE3 SSE4.2 AVX FMA3 BMI2 AVX2\n",
      "[libx264 @ 0x55b0fbffcac0] profile High 4:4:4 Predictive, level 4.0, 4:4:4, 8-bit\n",
      "[libx264 @ 0x55b0fbffcac0] 264 - core 164 r3095 baee400 - H.264/MPEG-4 AVC codec - Copyleft 2003-2022 - http://www.videolan.org/x264.html - options: cabac=1 ref=3 deblock=1:0:0 analyse=0x3:0x113 me=hex subme=7 psy=1 psy_rd=1.00:0.00 mixed_ref=1 me_range=16 chroma_me=1 trellis=1 8x8dct=1 cqm=0 deadzone=21,11 fast_pskip=1 chroma_qp_offset=4 threads=22 lookahead_threads=3 sliced_threads=0 nr=0 decimate=1 interlaced=0 bluray_compat=0 constrained_intra=0 bframes=3 b_pyramid=2 b_adapt=1 b_bias=0 direct=1 weightb=1 open_gop=0 weightp=2 keyint=250 keyint_min=10 scenecut=40 intra_refresh=0 rc_lookahead=40 rc=crf mbtree=1 crf=23.0 qcomp=0.60 qpmin=0 qpmax=69 qpstep=4 ip_ratio=1.40 aq=1:1.00\n",
      "Output #0, mp4, to '/home/irmak/Workspace/Holo-Bot/extracted_data/box_handle_lifting/box_location_changing/eval/demonstration_15/visualization.mp4':\n",
      "  Metadata:\n",
      "    encoder         : Lavf59.27.100\n",
      "  Stream #0:0: Video: h264 (avc1 / 0x31637661), yuv444p(tv, progressive), 2000x720 [SAR 1:1 DAR 25:9], q=2-31, 10 fps, 10240 tbn\n",
      "    Metadata:\n",
      "      encoder         : Lavc59.37.100 libx264\n",
      "    Side data:\n",
      "      cpb: bitrate max/min/avg: 0/0/0 buffer size: 0 vbv_delay: N/A\n",
      "frame=   34 fps=0.0 q=-1.0 Lsize=     916kB time=00:00:03.10 bitrate=2420.6kbits/s speed=3.61x    \n",
      "video:915kB audio:0kB subtitle:0kB other streams:0kB global headers:0kB muxing overhead: 0.137179%\n",
      "[libx264 @ 0x55b0fbffcac0] frame I:1     Avg QP:22.90  size: 50152\n",
      "[libx264 @ 0x55b0fbffcac0] frame P:9     Avg QP:19.93  size: 46416\n",
      "[libx264 @ 0x55b0fbffcac0] frame B:24    Avg QP:21.84  size: 19506\n",
      "[libx264 @ 0x55b0fbffcac0] consecutive B-frames:  5.9%  0.0%  0.0% 94.1%\n",
      "[libx264 @ 0x55b0fbffcac0] mb I  I16..4: 28.1% 43.6% 28.3%\n",
      "[libx264 @ 0x55b0fbffcac0] mb P  I16..4:  2.9% 19.5%  2.1%  P16..4: 23.1% 13.0%  7.4%  0.0%  0.0%    skip:32.1%\n",
      "[libx264 @ 0x55b0fbffcac0] mb B  I16..4:  0.7%  7.8%  0.1%  B16..8: 24.1%  6.0%  1.5%  direct: 4.8%  skip:55.0%  L0:46.1% L1:45.7% BI: 8.2%\n",
      "[libx264 @ 0x55b0fbffcac0] 8x8 transform intra:76.9% inter:82.8%\n",
      "[libx264 @ 0x55b0fbffcac0] coded y,u,v intra: 59.3% 28.6% 28.2% inter: 20.8% 10.0% 9.7%\n",
      "[libx264 @ 0x55b0fbffcac0] i16 v,h,dc,p: 40% 33% 16% 12%\n",
      "[libx264 @ 0x55b0fbffcac0] i8 v,h,dc,ddl,ddr,vr,hd,vl,hu: 16% 18% 50%  2%  2%  3%  2%  2%  4%\n",
      "[libx264 @ 0x55b0fbffcac0] i4 v,h,dc,ddl,ddr,vr,hd,vl,hu: 37% 34% 13%  2%  3%  3%  4%  2%  4%\n",
      "[libx264 @ 0x55b0fbffcac0] Weighted P-Frames: Y:0.0% UV:0.0%\n",
      "[libx264 @ 0x55b0fbffcac0] ref P L0: 35.6%  8.5% 34.5% 21.4%\n",
      "[libx264 @ 0x55b0fbffcac0] ref B L0: 70.0% 23.2%  6.8%\n",
      "[libx264 @ 0x55b0fbffcac0] ref B L1: 87.9% 12.1%\n",
      "[libx264 @ 0x55b0fbffcac0] kb/s:2202.45\n",
      "ffmpeg version 5.1.2 Copyright (c) 2000-2022 the FFmpeg developers\n",
      "  built with gcc 10.4.0 (conda-forge gcc 10.4.0-18)\n",
      "  configuration: --prefix=/home/irmak/miniconda3/envs/tactile_learning --cc=/home/conda/feedstock_root/build_artifacts/ffmpeg_1666357487580/_build_env/bin/x86_64-conda-linux-gnu-cc --cxx=/home/conda/feedstock_root/build_artifacts/ffmpeg_1666357487580/_build_env/bin/x86_64-conda-linux-gnu-c++ --nm=/home/conda/feedstock_root/build_artifacts/ffmpeg_1666357487580/_build_env/bin/x86_64-conda-linux-gnu-nm --ar=/home/conda/feedstock_root/build_artifacts/ffmpeg_1666357487580/_build_env/bin/x86_64-conda-linux-gnu-ar --disable-doc --disable-openssl --enable-demuxer=dash --enable-hardcoded-tables --enable-libfreetype --enable-libfontconfig --enable-libopenh264 --enable-gnutls --enable-libmp3lame --enable-libvpx --enable-pthreads --enable-vaapi --enable-gpl --enable-libx264 --enable-libx265 --enable-libaom --enable-libsvtav1 --enable-libxml2 --enable-pic --enable-shared --disable-static --enable-version3 --enable-zlib --pkg-config=/home/conda/feedstock_root/build_artifacts/ffmpeg_1666357487580/_build_env/bin/pkg-config\n",
      "  libavutil      57. 28.100 / 57. 28.100\n",
      "  libavcodec     59. 37.100 / 59. 37.100\n",
      "  libavformat    59. 27.100 / 59. 27.100\n",
      "  libavdevice    59.  7.100 / 59.  7.100\n",
      "  libavfilter     8. 44.100 /  8. 44.100\n",
      "  libswscale      6.  7.100 /  6.  7.100\n",
      "  libswresample   4.  7.100 /  4.  7.100\n",
      "  libpostproc    56.  6.100 / 56.  6.100\n",
      "[image2 @ 0x563bb6c80640] Pattern type 'glob_sequence' is deprecated: use pattern_type 'glob' instead\n",
      "Input #0, image2, from '/home/irmak/Workspace/Holo-Bot/extracted_data/box_handle_lifting/box_location_changing/eval/demonstration_16/visualization/%*.png':\n",
      "  Duration: 00:00:01.08, start: 0.000000, bitrate: N/A\n",
      "  Stream #0:0: Video: png, rgba(pc), 2000x2000 [SAR 3937:3937 DAR 1:1], 25 fps, 25 tbr, 25 tbn\n",
      "Stream mapping:\n",
      "  Stream #0:0 -> #0:0 (png (native) -> h264 (libx264))\n",
      "Press [q] to stop, [?] for help\n"
     ]
    },
    {
     "name": "stdout",
     "output_type": "stream",
     "text": [
      "dumping video in root: /home/irmak/Workspace/Holo-Bot/extracted_data/box_handle_lifting/box_location_changing/eval/demonstration_16\n"
     ]
    },
    {
     "name": "stderr",
     "output_type": "stream",
     "text": [
      "[libx264 @ 0x563bb6c878c0] using SAR=1/1\n",
      "[libx264 @ 0x563bb6c878c0] using cpu capabilities: MMX2 SSE2Fast SSSE3 SSE4.2 AVX FMA3 BMI2 AVX2\n",
      "[libx264 @ 0x563bb6c878c0] profile High 4:4:4 Predictive, level 4.0, 4:4:4, 8-bit\n",
      "[libx264 @ 0x563bb6c878c0] 264 - core 164 r3095 baee400 - H.264/MPEG-4 AVC codec - Copyleft 2003-2022 - http://www.videolan.org/x264.html - options: cabac=1 ref=3 deblock=1:0:0 analyse=0x3:0x113 me=hex subme=7 psy=1 psy_rd=1.00:0.00 mixed_ref=1 me_range=16 chroma_me=1 trellis=1 8x8dct=1 cqm=0 deadzone=21,11 fast_pskip=1 chroma_qp_offset=4 threads=22 lookahead_threads=3 sliced_threads=0 nr=0 decimate=1 interlaced=0 bluray_compat=0 constrained_intra=0 bframes=3 b_pyramid=2 b_adapt=1 b_bias=0 direct=1 weightb=1 open_gop=0 weightp=2 keyint=250 keyint_min=10 scenecut=40 intra_refresh=0 rc_lookahead=40 rc=crf mbtree=1 crf=23.0 qcomp=0.60 qpmin=0 qpmax=69 qpstep=4 ip_ratio=1.40 aq=1:1.00\n",
      "Output #0, mp4, to '/home/irmak/Workspace/Holo-Bot/extracted_data/box_handle_lifting/box_location_changing/eval/demonstration_16/visualization.mp4':\n",
      "  Metadata:\n",
      "    encoder         : Lavf59.27.100\n",
      "  Stream #0:0: Video: h264 (avc1 / 0x31637661), yuv444p(tv, progressive), 2000x720 [SAR 1:1 DAR 25:9], q=2-31, 10 fps, 10240 tbn\n",
      "    Metadata:\n",
      "      encoder         : Lavc59.37.100 libx264\n",
      "    Side data:\n",
      "      cpb: bitrate max/min/avg: 0/0/0 buffer size: 0 vbv_delay: N/A\n",
      "frame=   27 fps=0.0 q=-1.0 Lsize=     682kB time=00:00:02.40 bitrate=2329.0kbits/s speed=3.31x    \n",
      "video:681kB audio:0kB subtitle:0kB other streams:0kB global headers:0kB muxing overhead: 0.172182%\n",
      "[libx264 @ 0x563bb6c878c0] frame I:1     Avg QP:23.13  size: 48851\n",
      "[libx264 @ 0x563bb6c878c0] frame P:7     Avg QP:19.80  size: 45533\n",
      "[libx264 @ 0x563bb6c878c0] frame B:19    Avg QP:21.65  size: 17329\n",
      "[libx264 @ 0x563bb6c878c0] consecutive B-frames:  3.7%  7.4%  0.0% 88.9%\n",
      "[libx264 @ 0x563bb6c878c0] mb I  I16..4: 20.9% 51.2% 27.9%\n",
      "[libx264 @ 0x563bb6c878c0] mb P  I16..4:  3.3% 19.9%  2.5%  P16..4: 22.6% 11.9%  6.9%  0.0%  0.0%    skip:32.9%\n",
      "[libx264 @ 0x563bb6c878c0] mb B  I16..4:  0.8%  7.8%  0.1%  B16..8: 23.4%  5.5%  1.4%  direct: 4.3%  skip:56.8%  L0:45.2% L1:46.8% BI: 8.0%\n",
      "[libx264 @ 0x563bb6c878c0] 8x8 transform intra:76.0% inter:82.7%\n",
      "[libx264 @ 0x563bb6c878c0] coded y,u,v intra: 55.1% 26.1% 24.1% inter: 19.0% 9.2% 8.3%\n",
      "[libx264 @ 0x563bb6c878c0] i16 v,h,dc,p: 35% 37% 17% 12%\n",
      "[libx264 @ 0x563bb6c878c0] i8 v,h,dc,ddl,ddr,vr,hd,vl,hu: 20% 20% 47%  2%  2%  3%  2%  2%  3%\n",
      "[libx264 @ 0x563bb6c878c0] i4 v,h,dc,ddl,ddr,vr,hd,vl,hu: 39% 33% 12%  2%  2%  2%  4%  2%  4%\n",
      "[libx264 @ 0x563bb6c878c0] Weighted P-Frames: Y:0.0% UV:0.0%\n",
      "[libx264 @ 0x563bb6c878c0] ref P L0: 38.4% 10.0% 34.2% 17.4%\n",
      "[libx264 @ 0x563bb6c878c0] ref B L0: 72.0% 23.6%  4.4%\n",
      "[libx264 @ 0x563bb6c878c0] ref B L1: 87.2% 12.8%\n",
      "[libx264 @ 0x563bb6c878c0] kb/s:2064.67\n",
      "ffmpeg version 5.1.2 Copyright (c) 2000-2022 the FFmpeg developers\n",
      "  built with gcc 10.4.0 (conda-forge gcc 10.4.0-18)\n",
      "  configuration: --prefix=/home/irmak/miniconda3/envs/tactile_learning --cc=/home/conda/feedstock_root/build_artifacts/ffmpeg_1666357487580/_build_env/bin/x86_64-conda-linux-gnu-cc --cxx=/home/conda/feedstock_root/build_artifacts/ffmpeg_1666357487580/_build_env/bin/x86_64-conda-linux-gnu-c++ --nm=/home/conda/feedstock_root/build_artifacts/ffmpeg_1666357487580/_build_env/bin/x86_64-conda-linux-gnu-nm --ar=/home/conda/feedstock_root/build_artifacts/ffmpeg_1666357487580/_build_env/bin/x86_64-conda-linux-gnu-ar --disable-doc --disable-openssl --enable-demuxer=dash --enable-hardcoded-tables --enable-libfreetype --enable-libfontconfig --enable-libopenh264 --enable-gnutls --enable-libmp3lame --enable-libvpx --enable-pthreads --enable-vaapi --enable-gpl --enable-libx264 --enable-libx265 --enable-libaom --enable-libsvtav1 --enable-libxml2 --enable-pic --enable-shared --disable-static --enable-version3 --enable-zlib --pkg-config=/home/conda/feedstock_root/build_artifacts/ffmpeg_1666357487580/_build_env/bin/pkg-config\n",
      "  libavutil      57. 28.100 / 57. 28.100\n",
      "  libavcodec     59. 37.100 / 59. 37.100\n",
      "  libavformat    59. 27.100 / 59. 27.100\n",
      "  libavdevice    59.  7.100 / 59.  7.100\n",
      "  libavfilter     8. 44.100 /  8. 44.100\n",
      "  libswscale      6.  7.100 /  6.  7.100\n",
      "  libswresample   4.  7.100 /  4.  7.100\n",
      "  libpostproc    56.  6.100 / 56.  6.100\n",
      "[image2 @ 0x558c0b50f640] Pattern type 'glob_sequence' is deprecated: use pattern_type 'glob' instead\n",
      "Input #0, image2, from '/home/irmak/Workspace/Holo-Bot/extracted_data/box_handle_lifting/box_location_changing/eval/demonstration_17/visualization/%*.png':\n",
      "  Duration: 00:00:02.24, start: 0.000000, bitrate: N/A\n",
      "  Stream #0:0: Video: png, rgba(pc), 2000x2000 [SAR 3937:3937 DAR 1:1], 25 fps, 25 tbr, 25 tbn\n",
      "Stream mapping:\n",
      "  Stream #0:0 -> #0:0 (png (native) -> h264 (libx264))\n",
      "Press [q] to stop, [?] for help\n"
     ]
    },
    {
     "name": "stdout",
     "output_type": "stream",
     "text": [
      "dumping video in root: /home/irmak/Workspace/Holo-Bot/extracted_data/box_handle_lifting/box_location_changing/eval/demonstration_17\n"
     ]
    },
    {
     "name": "stderr",
     "output_type": "stream",
     "text": [
      "[libx264 @ 0x558c0b516580] using SAR=1/1\n",
      "[libx264 @ 0x558c0b516580] using cpu capabilities: MMX2 SSE2Fast SSSE3 SSE4.2 AVX FMA3 BMI2 AVX2\n",
      "[libx264 @ 0x558c0b516580] profile High 4:4:4 Predictive, level 4.0, 4:4:4, 8-bit\n",
      "[libx264 @ 0x558c0b516580] 264 - core 164 r3095 baee400 - H.264/MPEG-4 AVC codec - Copyleft 2003-2022 - http://www.videolan.org/x264.html - options: cabac=1 ref=3 deblock=1:0:0 analyse=0x3:0x113 me=hex subme=7 psy=1 psy_rd=1.00:0.00 mixed_ref=1 me_range=16 chroma_me=1 trellis=1 8x8dct=1 cqm=0 deadzone=21,11 fast_pskip=1 chroma_qp_offset=4 threads=22 lookahead_threads=3 sliced_threads=0 nr=0 decimate=1 interlaced=0 bluray_compat=0 constrained_intra=0 bframes=3 b_pyramid=2 b_adapt=1 b_bias=0 direct=1 weightb=1 open_gop=0 weightp=2 keyint=250 keyint_min=10 scenecut=40 intra_refresh=0 rc_lookahead=40 rc=crf mbtree=1 crf=23.0 qcomp=0.60 qpmin=0 qpmax=69 qpstep=4 ip_ratio=1.40 aq=1:1.00\n",
      "Output #0, mp4, to '/home/irmak/Workspace/Holo-Bot/extracted_data/box_handle_lifting/box_location_changing/eval/demonstration_17/visualization.mp4':\n",
      "  Metadata:\n",
      "    encoder         : Lavf59.27.100\n",
      "  Stream #0:0: Video: h264 (avc1 / 0x31637661), yuv444p(tv, progressive), 2000x720 [SAR 1:1 DAR 25:9], q=2-31, 10 fps, 10240 tbn\n",
      "    Metadata:\n",
      "      encoder         : Lavc59.37.100 libx264\n",
      "    Side data:\n",
      "      cpb: bitrate max/min/avg: 0/0/0 buffer size: 0 vbv_delay: N/A\n",
      "frame=   56 fps= 55 q=-1.0 Lsize=    1294kB time=00:00:05.30 bitrate=2000.8kbits/s speed=5.22x    \n",
      "video:1293kB audio:0kB subtitle:0kB other streams:0kB global headers:0kB muxing overhead: 0.117601%\n",
      "[libx264 @ 0x558c0b516580] frame I:1     Avg QP:22.94  size: 52999\n",
      "[libx264 @ 0x558c0b516580] frame P:14    Avg QP:18.93  size: 42280\n",
      "[libx264 @ 0x558c0b516580] frame B:41    Avg QP:21.65  size: 16545\n",
      "[libx264 @ 0x558c0b516580] consecutive B-frames:  1.8%  0.0%  5.4% 92.9%\n",
      "[libx264 @ 0x558c0b516580] mb I  I16..4: 27.9% 43.4% 28.7%\n",
      "[libx264 @ 0x558c0b516580] mb P  I16..4:  2.8% 16.2%  1.3%  P16..4: 23.7% 13.2%  7.5%  0.0%  0.0%    skip:35.3%\n",
      "[libx264 @ 0x558c0b516580] mb B  I16..4:  0.8%  7.1%  0.1%  B16..8: 23.5%  5.4%  1.3%  direct: 3.8%  skip:57.9%  L0:46.8% L1:45.0% BI: 8.2%\n",
      "[libx264 @ 0x558c0b516580] 8x8 transform intra:78.8% inter:84.0%\n",
      "[libx264 @ 0x558c0b516580] coded y,u,v intra: 59.0% 28.0% 25.4% inter: 18.7% 9.3% 8.3%\n",
      "[libx264 @ 0x558c0b516580] i16 v,h,dc,p: 36% 30% 22% 12%\n",
      "[libx264 @ 0x558c0b516580] i8 v,h,dc,ddl,ddr,vr,hd,vl,hu: 15% 19% 52%  2%  2%  3%  2%  2%  3%\n",
      "[libx264 @ 0x558c0b516580] i4 v,h,dc,ddl,ddr,vr,hd,vl,hu: 36% 34% 13%  2%  3%  3%  4%  2%  4%\n",
      "[libx264 @ 0x558c0b516580] Weighted P-Frames: Y:0.0% UV:0.0%\n",
      "[libx264 @ 0x558c0b516580] ref P L0: 37.2% 10.4% 32.9% 19.5%\n",
      "[libx264 @ 0x558c0b516580] ref B L0: 65.4% 27.0%  7.6%\n",
      "[libx264 @ 0x558c0b516580] ref B L1: 87.4% 12.6%\n",
      "[libx264 @ 0x558c0b516580] kb/s:1890.40\n",
      "ffmpeg version 5.1.2 Copyright (c) 2000-2022 the FFmpeg developers\n",
      "  built with gcc 10.4.0 (conda-forge gcc 10.4.0-18)\n",
      "  configuration: --prefix=/home/irmak/miniconda3/envs/tactile_learning --cc=/home/conda/feedstock_root/build_artifacts/ffmpeg_1666357487580/_build_env/bin/x86_64-conda-linux-gnu-cc --cxx=/home/conda/feedstock_root/build_artifacts/ffmpeg_1666357487580/_build_env/bin/x86_64-conda-linux-gnu-c++ --nm=/home/conda/feedstock_root/build_artifacts/ffmpeg_1666357487580/_build_env/bin/x86_64-conda-linux-gnu-nm --ar=/home/conda/feedstock_root/build_artifacts/ffmpeg_1666357487580/_build_env/bin/x86_64-conda-linux-gnu-ar --disable-doc --disable-openssl --enable-demuxer=dash --enable-hardcoded-tables --enable-libfreetype --enable-libfontconfig --enable-libopenh264 --enable-gnutls --enable-libmp3lame --enable-libvpx --enable-pthreads --enable-vaapi --enable-gpl --enable-libx264 --enable-libx265 --enable-libaom --enable-libsvtav1 --enable-libxml2 --enable-pic --enable-shared --disable-static --enable-version3 --enable-zlib --pkg-config=/home/conda/feedstock_root/build_artifacts/ffmpeg_1666357487580/_build_env/bin/pkg-config\n",
      "  libavutil      57. 28.100 / 57. 28.100\n",
      "  libavcodec     59. 37.100 / 59. 37.100\n",
      "  libavformat    59. 27.100 / 59. 27.100\n",
      "  libavdevice    59.  7.100 / 59.  7.100\n",
      "  libavfilter     8. 44.100 /  8. 44.100\n",
      "  libswscale      6.  7.100 /  6.  7.100\n",
      "  libswresample   4.  7.100 /  4.  7.100\n",
      "  libpostproc    56.  6.100 / 56.  6.100\n",
      "[image2 @ 0x5645ac1e6640] Pattern type 'glob_sequence' is deprecated: use pattern_type 'glob' instead\n",
      "Input #0, image2, from '/home/irmak/Workspace/Holo-Bot/extracted_data/box_handle_lifting/box_location_changing/eval/demonstration_18/visualization/%*.png':\n",
      "  Duration: 00:00:01.36, start: 0.000000, bitrate: N/A\n",
      "  Stream #0:0: Video: png, rgba(pc), 2000x2000 [SAR 3937:3937 DAR 1:1], 25 fps, 25 tbr, 25 tbn\n",
      "Stream mapping:\n",
      "  Stream #0:0 -> #0:0 (png (native) -> h264 (libx264))\n",
      "Press [q] to stop, [?] for help\n"
     ]
    },
    {
     "name": "stdout",
     "output_type": "stream",
     "text": [
      "dumping video in root: /home/irmak/Workspace/Holo-Bot/extracted_data/box_handle_lifting/box_location_changing/eval/demonstration_18\n"
     ]
    },
    {
     "name": "stderr",
     "output_type": "stream",
     "text": [
      "[libx264 @ 0x5645ac1ebac0] using SAR=1/1\n",
      "[libx264 @ 0x5645ac1ebac0] using cpu capabilities: MMX2 SSE2Fast SSSE3 SSE4.2 AVX FMA3 BMI2 AVX2\n",
      "[libx264 @ 0x5645ac1ebac0] profile High 4:4:4 Predictive, level 4.0, 4:4:4, 8-bit\n",
      "[libx264 @ 0x5645ac1ebac0] 264 - core 164 r3095 baee400 - H.264/MPEG-4 AVC codec - Copyleft 2003-2022 - http://www.videolan.org/x264.html - options: cabac=1 ref=3 deblock=1:0:0 analyse=0x3:0x113 me=hex subme=7 psy=1 psy_rd=1.00:0.00 mixed_ref=1 me_range=16 chroma_me=1 trellis=1 8x8dct=1 cqm=0 deadzone=21,11 fast_pskip=1 chroma_qp_offset=4 threads=22 lookahead_threads=3 sliced_threads=0 nr=0 decimate=1 interlaced=0 bluray_compat=0 constrained_intra=0 bframes=3 b_pyramid=2 b_adapt=1 b_bias=0 direct=1 weightb=1 open_gop=0 weightp=2 keyint=250 keyint_min=10 scenecut=40 intra_refresh=0 rc_lookahead=40 rc=crf mbtree=1 crf=23.0 qcomp=0.60 qpmin=0 qpmax=69 qpstep=4 ip_ratio=1.40 aq=1:1.00\n",
      "Output #0, mp4, to '/home/irmak/Workspace/Holo-Bot/extracted_data/box_handle_lifting/box_location_changing/eval/demonstration_18/visualization.mp4':\n",
      "  Metadata:\n",
      "    encoder         : Lavf59.27.100\n",
      "  Stream #0:0: Video: h264 (avc1 / 0x31637661), yuv444p(tv, progressive), 2000x720 [SAR 1:1 DAR 25:9], q=2-31, 10 fps, 10240 tbn\n",
      "    Metadata:\n",
      "      encoder         : Lavc59.37.100 libx264\n",
      "    Side data:\n",
      "      cpb: bitrate max/min/avg: 0/0/0 buffer size: 0 vbv_delay: N/A\n",
      "frame=   34 fps=0.0 q=-1.0 Lsize=     903kB time=00:00:03.10 bitrate=2386.2kbits/s speed=3.85x    \n",
      "video:902kB audio:0kB subtitle:0kB other streams:0kB global headers:0kB muxing overhead: 0.138290%\n",
      "[libx264 @ 0x5645ac1ebac0] frame I:1     Avg QP:22.94  size: 51404\n",
      "[libx264 @ 0x5645ac1ebac0] frame P:9     Avg QP:19.82  size: 44406\n",
      "[libx264 @ 0x5645ac1ebac0] frame B:24    Avg QP:21.73  size: 19653\n",
      "[libx264 @ 0x5645ac1ebac0] consecutive B-frames:  2.9%  5.9%  8.8% 82.4%\n",
      "[libx264 @ 0x5645ac1ebac0] mb I  I16..4: 28.0% 43.3% 28.7%\n",
      "[libx264 @ 0x5645ac1ebac0] mb P  I16..4:  3.1% 20.1%  2.0%  P16..4: 23.2% 12.3%  6.6%  0.0%  0.0%    skip:32.6%\n",
      "[libx264 @ 0x5645ac1ebac0] mb B  I16..4:  0.9%  8.9%  0.3%  B16..8: 23.3%  6.3%  1.6%  direct: 4.7%  skip:54.0%  L0:43.0% L1:49.4% BI: 7.6%\n",
      "[libx264 @ 0x5645ac1ebac0] 8x8 transform intra:76.9% inter:82.0%\n",
      "[libx264 @ 0x5645ac1ebac0] coded y,u,v intra: 58.5% 26.8% 24.8% inter: 20.6% 9.6% 8.7%\n",
      "[libx264 @ 0x5645ac1ebac0] i16 v,h,dc,p: 38% 32% 17% 13%\n",
      "[libx264 @ 0x5645ac1ebac0] i8 v,h,dc,ddl,ddr,vr,hd,vl,hu: 17% 21% 47%  2%  3%  3%  2%  2%  4%\n",
      "[libx264 @ 0x5645ac1ebac0] i4 v,h,dc,ddl,ddr,vr,hd,vl,hu: 36% 34% 12%  2%  3%  3%  4%  2%  4%\n",
      "[libx264 @ 0x5645ac1ebac0] Weighted P-Frames: Y:0.0% UV:0.0%\n",
      "[libx264 @ 0x5645ac1ebac0] ref P L0: 37.0%  9.8% 33.6% 19.5%\n",
      "[libx264 @ 0x5645ac1ebac0] ref B L0: 65.7% 26.3%  8.0%\n",
      "[libx264 @ 0x5645ac1ebac0] ref B L1: 87.9% 12.1%\n",
      "[libx264 @ 0x5645ac1ebac0] kb/s:2171.13\n",
      "ffmpeg version 5.1.2 Copyright (c) 2000-2022 the FFmpeg developers\n",
      "  built with gcc 10.4.0 (conda-forge gcc 10.4.0-18)\n",
      "  configuration: --prefix=/home/irmak/miniconda3/envs/tactile_learning --cc=/home/conda/feedstock_root/build_artifacts/ffmpeg_1666357487580/_build_env/bin/x86_64-conda-linux-gnu-cc --cxx=/home/conda/feedstock_root/build_artifacts/ffmpeg_1666357487580/_build_env/bin/x86_64-conda-linux-gnu-c++ --nm=/home/conda/feedstock_root/build_artifacts/ffmpeg_1666357487580/_build_env/bin/x86_64-conda-linux-gnu-nm --ar=/home/conda/feedstock_root/build_artifacts/ffmpeg_1666357487580/_build_env/bin/x86_64-conda-linux-gnu-ar --disable-doc --disable-openssl --enable-demuxer=dash --enable-hardcoded-tables --enable-libfreetype --enable-libfontconfig --enable-libopenh264 --enable-gnutls --enable-libmp3lame --enable-libvpx --enable-pthreads --enable-vaapi --enable-gpl --enable-libx264 --enable-libx265 --enable-libaom --enable-libsvtav1 --enable-libxml2 --enable-pic --enable-shared --disable-static --enable-version3 --enable-zlib --pkg-config=/home/conda/feedstock_root/build_artifacts/ffmpeg_1666357487580/_build_env/bin/pkg-config\n",
      "  libavutil      57. 28.100 / 57. 28.100\n",
      "  libavcodec     59. 37.100 / 59. 37.100\n",
      "  libavformat    59. 27.100 / 59. 27.100\n",
      "  libavdevice    59.  7.100 / 59.  7.100\n",
      "  libavfilter     8. 44.100 /  8. 44.100\n",
      "  libswscale      6.  7.100 /  6.  7.100\n",
      "  libswresample   4.  7.100 /  4.  7.100\n",
      "  libpostproc    56.  6.100 / 56.  6.100\n",
      "[image2 @ 0x562b21bad640] Pattern type 'glob_sequence' is deprecated: use pattern_type 'glob' instead\n",
      "Input #0, image2, from '/home/irmak/Workspace/Holo-Bot/extracted_data/box_handle_lifting/box_location_changing/eval/demonstration_19/visualization/%*.png':\n",
      "  Duration: 00:00:01.08, start: 0.000000, bitrate: N/A\n",
      "  Stream #0:0: Video: png, rgba(pc), 2000x2000 [SAR 3937:3937 DAR 1:1], 25 fps, 25 tbr, 25 tbn\n",
      "Stream mapping:\n",
      "  Stream #0:0 -> #0:0 (png (native) -> h264 (libx264))\n",
      "Press [q] to stop, [?] for help\n"
     ]
    },
    {
     "name": "stdout",
     "output_type": "stream",
     "text": [
      "dumping video in root: /home/irmak/Workspace/Holo-Bot/extracted_data/box_handle_lifting/box_location_changing/eval/demonstration_19\n"
     ]
    },
    {
     "name": "stderr",
     "output_type": "stream",
     "text": [
      "[libx264 @ 0x562b21bb48c0] using SAR=1/1\n",
      "[libx264 @ 0x562b21bb48c0] using cpu capabilities: MMX2 SSE2Fast SSSE3 SSE4.2 AVX FMA3 BMI2 AVX2\n",
      "[libx264 @ 0x562b21bb48c0] profile High 4:4:4 Predictive, level 4.0, 4:4:4, 8-bit\n",
      "[libx264 @ 0x562b21bb48c0] 264 - core 164 r3095 baee400 - H.264/MPEG-4 AVC codec - Copyleft 2003-2022 - http://www.videolan.org/x264.html - options: cabac=1 ref=3 deblock=1:0:0 analyse=0x3:0x113 me=hex subme=7 psy=1 psy_rd=1.00:0.00 mixed_ref=1 me_range=16 chroma_me=1 trellis=1 8x8dct=1 cqm=0 deadzone=21,11 fast_pskip=1 chroma_qp_offset=4 threads=22 lookahead_threads=3 sliced_threads=0 nr=0 decimate=1 interlaced=0 bluray_compat=0 constrained_intra=0 bframes=3 b_pyramid=2 b_adapt=1 b_bias=0 direct=1 weightb=1 open_gop=0 weightp=2 keyint=250 keyint_min=10 scenecut=40 intra_refresh=0 rc_lookahead=40 rc=crf mbtree=1 crf=23.0 qcomp=0.60 qpmin=0 qpmax=69 qpstep=4 ip_ratio=1.40 aq=1:1.00\n",
      "Output #0, mp4, to '/home/irmak/Workspace/Holo-Bot/extracted_data/box_handle_lifting/box_location_changing/eval/demonstration_19/visualization.mp4':\n",
      "  Metadata:\n",
      "    encoder         : Lavf59.27.100\n",
      "  Stream #0:0: Video: h264 (avc1 / 0x31637661), yuv444p(tv, progressive), 2000x720 [SAR 1:1 DAR 25:9], q=2-31, 10 fps, 10240 tbn\n",
      "    Metadata:\n",
      "      encoder         : Lavc59.37.100 libx264\n",
      "    Side data:\n",
      "      cpb: bitrate max/min/avg: 0/0/0 buffer size: 0 vbv_delay: N/A\n",
      "frame=   27 fps=0.0 q=-1.0 Lsize=     751kB time=00:00:02.40 bitrate=2563.1kbits/s speed=3.31x    \n",
      "video:750kB audio:0kB subtitle:0kB other streams:0kB global headers:0kB muxing overhead: 0.154341%\n",
      "[libx264 @ 0x562b21bb48c0] frame I:1     Avg QP:22.69  size: 49195\n",
      "[libx264 @ 0x562b21bb48c0] frame P:7     Avg QP:19.98  size: 49656\n",
      "[libx264 @ 0x562b21bb48c0] frame B:19    Avg QP:21.83  size: 19490\n",
      "[libx264 @ 0x562b21bb48c0] consecutive B-frames:  3.7%  0.0% 22.2% 74.1%\n",
      "[libx264 @ 0x562b21bb48c0] mb I  I16..4: 29.6% 42.8% 27.6%\n",
      "[libx264 @ 0x562b21bb48c0] mb P  I16..4:  3.4% 24.8%  2.6%  P16..4: 21.5% 10.6%  5.8%  0.0%  0.0%    skip:31.2%\n",
      "[libx264 @ 0x562b21bb48c0] mb B  I16..4:  0.8%  7.4%  0.2%  B16..8: 24.4%  5.7%  1.4%  direct: 4.8%  skip:55.2%  L0:46.4% L1:44.8% BI: 8.8%\n",
      "[libx264 @ 0x562b21bb48c0] 8x8 transform intra:75.1% inter:83.3%\n",
      "[libx264 @ 0x562b21bb48c0] coded y,u,v intra: 58.3% 28.0% 27.7% inter: 20.7% 10.5% 10.3%\n",
      "[libx264 @ 0x562b21bb48c0] i16 v,h,dc,p: 42% 32% 14% 11%\n",
      "[libx264 @ 0x562b21bb48c0] i8 v,h,dc,ddl,ddr,vr,hd,vl,hu: 17% 18% 47%  3%  3%  3%  2%  3%  4%\n",
      "[libx264 @ 0x562b21bb48c0] i4 v,h,dc,ddl,ddr,vr,hd,vl,hu: 38% 32% 13%  2%  2%  3%  4%  2%  4%\n",
      "[libx264 @ 0x562b21bb48c0] Weighted P-Frames: Y:0.0% UV:0.0%\n",
      "[libx264 @ 0x562b21bb48c0] ref P L0: 40.1% 11.5% 31.1% 17.2%\n",
      "[libx264 @ 0x562b21bb48c0] ref B L0: 69.4% 24.3%  6.3%\n",
      "[libx264 @ 0x562b21bb48c0] ref B L1: 91.6%  8.4%\n",
      "[libx264 @ 0x562b21bb48c0] kb/s:2272.87\n"
     ]
    }
   ],
   "source": [
    "# Turn the images to a video and delete the directory\n",
    "video_fps = 10\n",
    "for root in roots:\n",
    "    print('dumping video in root: {}'.format(root))\n",
    "    video_path = os.path.join(root, 'visualization.mp4')\n",
    "    if os.path.exists(video_path):\n",
    "        os.remove(video_path)\n",
    "    viz_dir = os.path.join(root, 'visualization')\n",
    "    os.system('ffmpeg -r {} -i {}/%*.png -vf scale=2000x720,setsar=1:1 {}'.format(\n",
    "        video_fps, # fps\n",
    "        viz_dir,\n",
    "        video_path\n",
    "    ))\n"
   ]
  },
  {
   "cell_type": "code",
   "execution_count": 9,
   "metadata": {},
   "outputs": [],
   "source": [
    "# Remove the img directory\n",
    "\n",
    "for root in roots:\n",
    "    viz_dir = os.path.join(root, 'visualization')\n",
    "    shutil.rmtree(viz_dir)\n"
   ]
  },
  {
   "cell_type": "code",
   "execution_count": null,
   "metadata": {},
   "outputs": [],
   "source": []
  }
 ],
 "metadata": {
  "kernelspec": {
   "display_name": "Python 3 (ipykernel)",
   "language": "python",
   "name": "python3"
  },
  "language_info": {
   "codemirror_mode": {
    "name": "ipython",
    "version": 3
   },
   "file_extension": ".py",
   "mimetype": "text/x-python",
   "name": "python",
   "nbconvert_exporter": "python",
   "pygments_lexer": "ipython3",
   "version": "3.9.13"
  },
  "vscode": {
   "interpreter": {
    "hash": "36852de55b288c46ba617fd48cf310240e4201e2f57004cbdac030fa23152bd3"
   }
  }
 },
 "nbformat": 4,
 "nbformat_minor": 4
}
