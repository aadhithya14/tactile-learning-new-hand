{
 "cells": [
  {
   "cell_type": "code",
   "execution_count": 4,
   "metadata": {},
   "outputs": [],
   "source": [
    "import cv2\n",
    "import h5py\n",
    "import matplotlib.pyplot as plt\n",
    "import numpy as np\n",
    "import os\n",
    "import pickle\n",
    "import shutil\n",
    "\n",
    "from tqdm import tqdm"
   ]
  },
  {
   "cell_type": "code",
   "execution_count": 5,
   "metadata": {},
   "outputs": [],
   "source": [
    "from tactile_learning.datasets import dump_video_to_images, get_closest_id\n",
    "from tactile_learning.utils.visualization import plot_tactile_sensor"
   ]
  },
  {
   "cell_type": "code",
   "execution_count": 6,
   "metadata": {},
   "outputs": [],
   "source": [
    "import decimal\n",
    "\n",
    "# Get the metadata of images and tactile information\n",
    "def get_desired_indices(root, fps, view_num=0): # frames per second from the video to receive\n",
    "    image_metadata_path = os.path.join(root, f'cam_{view_num}_rgb_video.metadata')\n",
    "    tactile_info_path = os.path.join(root, 'touch_sensor_values.h5')\n",
    "\n",
    "    with open(image_metadata_path, 'rb') as f:\n",
    "        image_metadata = pickle.load(f)\n",
    "        image_timestamps_array = np.asarray(image_metadata['timestamps'])\n",
    "        image_timestamps = np.asarray(image_metadata['timestamps']) / 1000.\n",
    "    with h5py.File(tactile_info_path, 'r') as f:\n",
    "        tactile_timestamps = f['timestamps'][()]\n",
    "\n",
    "    image_id, tactile_id = 0, 0\n",
    "    curr_timestamp = tactile_timestamps[0] # These timestamps are in seconds\n",
    "    image_id = get_closest_id(image_id, curr_timestamp, image_timestamps)\n",
    "\n",
    "    tactile_indices, image_indices = [], []\n",
    "    tactile_indices.append(tactile_id)\n",
    "    image_indices.append(image_id)\n",
    "\n",
    "    frame_period = 1. / fps\n",
    "    while(True):\n",
    "        curr_timestamp += frame_period\n",
    "        tactile_id = get_closest_id(tactile_id, curr_timestamp, tactile_timestamps)\n",
    "        image_id = get_closest_id(image_id, curr_timestamp, image_timestamps)\n",
    "\n",
    "        if curr_timestamp > tactile_timestamps[tactile_id] and curr_timestamp > image_timestamps[image_id]:\n",
    "            break\n",
    "\n",
    "        tactile_indices.append(tactile_id)\n",
    "        image_indices.append(image_id)\n",
    "\n",
    "    assert len(tactile_indices) == len(image_indices)\n",
    "    return tactile_indices, image_indices\n"
   ]
  },
  {
   "cell_type": "code",
   "execution_count": 7,
   "metadata": {},
   "outputs": [],
   "source": [
    "\n",
    "def dump_states(root, tactile_indices, image_indices, view_num=0):\n",
    "    # Make directory to dump the visualization\n",
    "    pbar = tqdm(total=len(tactile_indices))\n",
    "\n",
    "    with h5py.File(os.path.join(root, 'touch_sensor_values.h5'), 'r') as f:\n",
    "        all_tactile_values = f['sensor_values'][()]\n",
    "\n",
    "    viz_dir = os.path.join(root, 'visualization')\n",
    "    os.makedirs(viz_dir, exist_ok=True)\n",
    "    \n",
    "    video_path = os.path.join(root, f'cam_{view_num}_rgb_video.avi')\n",
    "    vidcap = cv2.VideoCapture(video_path)\n",
    "    success, image = vidcap.read()\n",
    "    frame_count = int(vidcap.get(cv2.CAP_PROP_FRAME_COUNT))\n",
    "    frame_id = 0\n",
    "    for i in range(len(tactile_indices)):\n",
    "        tactile_id, image_id = tactile_indices[i], image_indices[i]\n",
    "        while frame_id != image_id and success:\n",
    "            # Find the frame that is equal to image_id\n",
    "            success, image = vidcap.read()\n",
    "            frame_id += 1\n",
    "        dump_demo_state(\n",
    "            frame_id = i,\n",
    "            viz_dir = viz_dir,\n",
    "            tactile_values = all_tactile_values[tactile_id,:,:,:],\n",
    "            camera_img = image\n",
    "        )\n",
    "\n",
    "        pbar.update(1)\n",
    "\n",
    "    pbar.close()\n",
    "\n",
    "def dump_demo_state(frame_id, viz_dir, tactile_values, camera_img):\n",
    "    # tactile_values: (15,16,3)\n",
    "    fig, axs = plt.subplots(figsize=(20,20), nrows=4, ncols=4)\n",
    "    for row_id in range(4):\n",
    "        for column_id in range(4):\n",
    "            if row_id + column_id > 0: # The top left axis should stay empty\n",
    "                plot_tactile_sensor(\n",
    "                    ax = axs[column_id][row_id],\n",
    "                    sensor_values = tactile_values[row_id*4 + column_id-1],\n",
    "                    title = f'Sensor {row_id*4+column_id-1}'\n",
    "                )\n",
    "    fig.suptitle('Tactile State')\n",
    "    fig.savefig(os.path.join(viz_dir, 'Tactile State.png'))\n",
    "    fig.clf()\n",
    "    plt.close()\n",
    "\n",
    "    tactile_img = cv2.imread(os.path.join(viz_dir, 'Tactile State.png'))\n",
    "    height_scale = camera_img.shape[0] / tactile_img.shape[0]\n",
    "    tactile_img = cv2.resize(\n",
    "        tactile_img,\n",
    "        (int(tactile_img.shape[1] * height_scale),\n",
    "         int(tactile_img.shape[0] * height_scale))\n",
    "    )\n",
    "    total_img = cv2.hconcat([camera_img, tactile_img])\n",
    "\n",
    "    img_name = 'state_{}.png'.format(str(frame_id).zfill(3))\n",
    "    cv2.imwrite(os.path.join(viz_dir, img_name), total_img)\n",
    "\n"
   ]
  },
  {
   "cell_type": "code",
   "execution_count": 8,
   "metadata": {},
   "outputs": [
    {
     "name": "stdout",
     "output_type": "stream",
     "text": [
      "tactile_indices: [0, 97, 194, 300, 392, 501, 602, 688, 786, 885, 983, 1080, 1179, 1276, 1374, 1472, 1571, 1670, 1772, 1866, 1965, 2063, 2162, 2258, 2357, 2455], image_indices: [71, 100, 129, 157, 186, 214, 244, 273, 301, 329, 358, 388, 418, 447, 476, 506, 534, 563, 592, 621, 651, 681, 710, 739, 768, 798]\n"
     ]
    },
    {
     "name": "stderr",
     "output_type": "stream",
     "text": [
      "100%|██████████| 26/26 [00:30<00:00,  1.15s/it]\n"
     ]
    },
    {
     "name": "stdout",
     "output_type": "stream",
     "text": [
      "tactile_indices: [0, 101, 199, 298, 395, 493, 592, 690, 788, 887, 984, 1083, 1180, 1279, 1378, 1475, 1574, 1673, 1770, 1868, 1967, 2065, 2163, 2261, 2359, 2456, 2555, 2652], image_indices: [69, 99, 128, 157, 186, 216, 245, 275, 303, 333, 362, 391, 420, 450, 478, 506, 536, 565, 595, 625, 654, 683, 713, 743, 772, 802, 832, 860]\n"
     ]
    },
    {
     "name": "stderr",
     "output_type": "stream",
     "text": [
      "100%|██████████| 28/28 [00:32<00:00,  1.17s/it]\n"
     ]
    },
    {
     "name": "stdout",
     "output_type": "stream",
     "text": [
      "tactile_indices: [0, 100, 200, 299, 397, 494, 593, 690, 790, 886, 989, 1082, 1181, 1279, 1378, 1476, 1575, 1673, 1771, 1870, 1968, 2072, 2165, 2264, 2363, 2462, 2560, 2659, 2757, 2855, 2953, 3051, 3148, 3246], image_indices: [71, 99, 128, 157, 186, 215, 245, 275, 305, 335, 364, 394, 424, 453, 483, 513, 542, 572, 601, 630, 659, 689, 718, 748, 777, 807, 836, 865, 894, 924, 954, 983, 1013, 1042]\n"
     ]
    },
    {
     "name": "stderr",
     "output_type": "stream",
     "text": [
      "100%|██████████| 34/34 [00:39<00:00,  1.15s/it]\n"
     ]
    },
    {
     "name": "stdout",
     "output_type": "stream",
     "text": [
      "tactile_indices: [0, 90, 188, 287, 386, 484, 582, 680, 778, 877, 974, 1074, 1170, 1268, 1366, 1464, 1563, 1663, 1759, 1856, 1954, 2053], image_indices: [70, 99, 129, 159, 188, 217, 246, 274, 302, 332, 361, 391, 420, 450, 478, 508, 537, 567, 597, 627, 657, 686]\n"
     ]
    },
    {
     "name": "stderr",
     "output_type": "stream",
     "text": [
      "100%|██████████| 22/22 [00:25<00:00,  1.15s/it]\n"
     ]
    },
    {
     "name": "stdout",
     "output_type": "stream",
     "text": [
      "tactile_indices: [0, 101, 199, 298, 395, 493, 592, 689, 789, 886, 983, 1082, 1179, 1280, 1378, 1477, 1575, 1674, 1772, 1870, 1968, 2065, 2163, 2262, 2360, 2459], image_indices: [75, 105, 133, 163, 193, 221, 251, 280, 309, 339, 368, 396, 426, 456, 486, 515, 545, 575, 605, 635, 664, 694, 724, 754, 783, 813]\n"
     ]
    },
    {
     "name": "stderr",
     "output_type": "stream",
     "text": [
      "100%|██████████| 26/26 [00:30<00:00,  1.17s/it]\n"
     ]
    },
    {
     "name": "stdout",
     "output_type": "stream",
     "text": [
      "tactile_indices: [0, 101, 199, 297, 395, 492, 591, 688, 787, 885, 984, 1082, 1180, 1278, 1384, 1475, 1573, 1670, 1769, 1867, 1965, 2063, 2162, 2261, 2359, 2458], image_indices: [74, 104, 133, 162, 192, 222, 252, 281, 309, 338, 367, 397, 426, 455, 484, 512, 541, 570, 599, 629, 658, 688, 717, 746, 775, 805]\n"
     ]
    },
    {
     "name": "stderr",
     "output_type": "stream",
     "text": [
      "100%|██████████| 26/26 [00:30<00:00,  1.16s/it]\n"
     ]
    },
    {
     "name": "stdout",
     "output_type": "stream",
     "text": [
      "tactile_indices: [0, 101, 200, 295, 394, 495, 592, 690, 787, 892, 985, 1083, 1182, 1280, 1378, 1474, 1573, 1672, 1770, 1866, 1965, 2064, 2162, 2260, 2360, 2458, 2555, 2652, 2750, 2849, 2947, 3047, 3145, 3241, 3341], image_indices: [70, 99, 129, 158, 187, 217, 246, 275, 305, 335, 365, 394, 422, 452, 481, 510, 538, 567, 597, 626, 656, 686, 715, 745, 774, 804, 833, 863, 892, 920, 948, 975, 1005, 1035, 1065]\n"
     ]
    },
    {
     "name": "stderr",
     "output_type": "stream",
     "text": [
      "100%|██████████| 35/35 [00:41<00:00,  1.17s/it]\n"
     ]
    },
    {
     "name": "stdout",
     "output_type": "stream",
     "text": [
      "tactile_indices: [0, 99, 198, 296, 395, 493, 591, 689, 789, 887, 985, 1083, 1180, 1279, 1377, 1475, 1574, 1671, 1770, 1869, 1967, 2063, 2161, 2260, 2358, 2457, 2554, 2653, 2751, 2850, 2949, 3045, 3143, 3242, 3339, 3438, 3536, 3634, 3731, 3829, 3927, 4026, 4125, 4224, 4322, 4420], image_indices: [74, 102, 132, 161, 191, 221, 251, 280, 310, 338, 368, 397, 427, 457, 487, 516, 546, 575, 605, 634, 664, 694, 723, 753, 783, 813, 842, 872, 902, 929, 959, 988, 1017, 1046, 1075, 1105, 1135, 1165, 1194, 1222, 1252, 1281, 1311, 1341, 1371, 1400]\n"
     ]
    },
    {
     "name": "stderr",
     "output_type": "stream",
     "text": [
      "100%|██████████| 46/46 [00:53<00:00,  1.17s/it]\n"
     ]
    },
    {
     "name": "stdout",
     "output_type": "stream",
     "text": [
      "tactile_indices: [0, 100, 199, 298, 395, 492, 592, 689, 787, 887, 983, 1082, 1179, 1277, 1377, 1475, 1573, 1670, 1768, 1865, 1964, 2064, 2162, 2263, 2358, 2458, 2554, 2654, 2752, 2850, 2948], image_indices: [71, 100, 129, 158, 187, 217, 246, 275, 305, 334, 363, 392, 422, 452, 481, 511, 539, 567, 597, 627, 656, 685, 714, 743, 773, 802, 831, 860, 890, 920, 950]\n"
     ]
    },
    {
     "name": "stderr",
     "output_type": "stream",
     "text": [
      "100%|██████████| 31/31 [00:36<00:00,  1.19s/it]\n"
     ]
    },
    {
     "name": "stdout",
     "output_type": "stream",
     "text": [
      "tactile_indices: [0, 99, 197, 297, 396, 498, 592, 689, 786, 885, 984, 1081, 1179, 1278, 1377, 1475, 1574, 1672, 1771, 1869, 1968, 2065, 2163, 2262, 2361, 2458, 2554], image_indices: [68, 98, 128, 156, 186, 216, 245, 274, 303, 333, 360, 389, 419, 448, 477, 506, 536, 566, 596, 626, 655, 685, 715, 745, 774, 803, 832]\n"
     ]
    },
    {
     "name": "stderr",
     "output_type": "stream",
     "text": [
      "100%|██████████| 27/27 [00:31<00:00,  1.18s/it]\n"
     ]
    },
    {
     "name": "stdout",
     "output_type": "stream",
     "text": [
      "tactile_indices: [0, 99, 198, 297, 403, 495, 593, 690, 789, 887, 985, 1084, 1182, 1279, 1378, 1474, 1573, 1672, 1768, 1867, 1965, 2065, 2162, 2260], image_indices: [72, 101, 130, 159, 189, 217, 247, 277, 306, 335, 364, 393, 422, 450, 480, 509, 538, 567, 597, 626, 655, 684, 714, 744]\n"
     ]
    },
    {
     "name": "stderr",
     "output_type": "stream",
     "text": [
      "100%|██████████| 24/24 [00:28<00:00,  1.19s/it]\n"
     ]
    }
   ],
   "source": [
    "import glob\n",
    "# roots = [\n",
    "#     '/home/irmak/Workspace/Holo-Bot/extracted_data/bowl_picking/eval/demonstration_7',\n",
    "#     '/home/irmak/Workspace/Holo-Bot/extracted_data/bowl_picking/eval/demonstration_9',\n",
    "#     '/home/irmak/Workspace/Holo-Bot/extracted_data/bowl_picking/eval/demonstration_15',\n",
    "# ]\n",
    "data_path = '/home/irmak/Workspace/Holo-Bot/extracted_data/gum_opening'\n",
    "# data_path = '/data/tactile_learning/deployment_data/data/bowl_picking/demonstrations/image_generalization'\n",
    "roots = glob.glob(f'{data_path}/demonstration_*')\n",
    "# roots = [f'{data_path}/demonstration_6']\n",
    "\n",
    "retrieval_fps = 1\n",
    "view_num = 0\n",
    "for root in roots:\n",
    "    # print('root: {}'.format(root))\n",
    "    tactile_indices, image_indices = get_desired_indices(root=root, fps=retrieval_fps, view_num=view_num)\n",
    "    print('tactile_indices: {}, image_indices: {}'.format(tactile_indices, image_indices))\n",
    "    dump_states(root, tactile_indices, image_indices, view_num=view_num)\n"
   ]
  },
  {
   "cell_type": "code",
   "execution_count": null,
   "metadata": {},
   "outputs": [],
   "source": []
  },
  {
   "cell_type": "code",
   "execution_count": 9,
   "metadata": {},
   "outputs": [
    {
     "name": "stdout",
     "output_type": "stream",
     "text": [
      "['/home/irmak/Workspace/Holo-Bot/extracted_data/gum_opening/demonstration_14', '/home/irmak/Workspace/Holo-Bot/extracted_data/gum_opening/demonstration_15', '/home/irmak/Workspace/Holo-Bot/extracted_data/gum_opening/demonstration_10', '/home/irmak/Workspace/Holo-Bot/extracted_data/gum_opening/demonstration_8', '/home/irmak/Workspace/Holo-Bot/extracted_data/gum_opening/demonstration_3', '/home/irmak/Workspace/Holo-Bot/extracted_data/gum_opening/demonstration_12', '/home/irmak/Workspace/Holo-Bot/extracted_data/gum_opening/demonstration_6', '/home/irmak/Workspace/Holo-Bot/extracted_data/gum_opening/demonstration_16', '/home/irmak/Workspace/Holo-Bot/extracted_data/gum_opening/demonstration_11', '/home/irmak/Workspace/Holo-Bot/extracted_data/gum_opening/demonstration_7', '/home/irmak/Workspace/Holo-Bot/extracted_data/gum_opening/demonstration_5']\n"
     ]
    }
   ],
   "source": [
    "print(roots)"
   ]
  },
  {
   "cell_type": "code",
   "execution_count": 10,
   "metadata": {},
   "outputs": [
    {
     "name": "stdout",
     "output_type": "stream",
     "text": [
      "dumping video in root: /home/irmak/Workspace/Holo-Bot/extracted_data/gum_opening/demonstration_14\n"
     ]
    },
    {
     "name": "stderr",
     "output_type": "stream",
     "text": [
      "ffmpeg version 5.1.2 Copyright (c) 2000-2022 the FFmpeg developers\n",
      "  built with gcc 10.4.0 (conda-forge gcc 10.4.0-18)\n",
      "  configuration: --prefix=/home/irmak/miniconda3/envs/tactile_learning --cc=/home/conda/feedstock_root/build_artifacts/ffmpeg_1666357487580/_build_env/bin/x86_64-conda-linux-gnu-cc --cxx=/home/conda/feedstock_root/build_artifacts/ffmpeg_1666357487580/_build_env/bin/x86_64-conda-linux-gnu-c++ --nm=/home/conda/feedstock_root/build_artifacts/ffmpeg_1666357487580/_build_env/bin/x86_64-conda-linux-gnu-nm --ar=/home/conda/feedstock_root/build_artifacts/ffmpeg_1666357487580/_build_env/bin/x86_64-conda-linux-gnu-ar --disable-doc --disable-openssl --enable-demuxer=dash --enable-hardcoded-tables --enable-libfreetype --enable-libfontconfig --enable-libopenh264 --enable-gnutls --enable-libmp3lame --enable-libvpx --enable-pthreads --enable-vaapi --enable-gpl --enable-libx264 --enable-libx265 --enable-libaom --enable-libsvtav1 --enable-libxml2 --enable-pic --enable-shared --disable-static --enable-version3 --enable-zlib --pkg-config=/home/conda/feedstock_root/build_artifacts/ffmpeg_1666357487580/_build_env/bin/pkg-config\n",
      "  libavutil      57. 28.100 / 57. 28.100\n",
      "  libavcodec     59. 37.100 / 59. 37.100\n",
      "  libavformat    59. 27.100 / 59. 27.100\n",
      "  libavdevice    59.  7.100 / 59.  7.100\n",
      "  libavfilter     8. 44.100 /  8. 44.100\n",
      "  libswscale      6.  7.100 /  6.  7.100\n",
      "  libswresample   4.  7.100 /  4.  7.100\n",
      "  libpostproc    56.  6.100 / 56.  6.100\n",
      "[image2 @ 0x55730bd78640] Pattern type 'glob_sequence' is deprecated: use pattern_type 'glob' instead\n",
      "Input #0, image2, from '/home/irmak/Workspace/Holo-Bot/extracted_data/gum_opening/demonstration_14/visualization/%*.png':\n",
      "  Duration: 00:00:01.08, start: 0.000000, bitrate: N/A\n",
      "  Stream #0:0: Video: png, rgba(pc), 2000x2000 [SAR 3937:3937 DAR 1:1], 25 fps, 25 tbr, 25 tbn\n",
      "Stream mapping:\n",
      "  Stream #0:0 -> #0:0 (png (native) -> h264 (libx264))\n",
      "Press [q] to stop, [?] for help\n",
      "[libx264 @ 0x55730bd7f4c0] using SAR=1/1\n",
      "[libx264 @ 0x55730bd7f4c0] using cpu capabilities: MMX2 SSE2Fast SSSE3 SSE4.2 AVX FMA3 BMI2 AVX2\n",
      "[libx264 @ 0x55730bd7f4c0] profile High 4:4:4 Predictive, level 4.0, 4:4:4, 8-bit\n",
      "[libx264 @ 0x55730bd7f4c0] 264 - core 164 r3095 baee400 - H.264/MPEG-4 AVC codec - Copyleft 2003-2022 - http://www.videolan.org/x264.html - options: cabac=1 ref=3 deblock=1:0:0 analyse=0x3:0x113 me=hex subme=7 psy=1 psy_rd=1.00:0.00 mixed_ref=1 me_range=16 chroma_me=1 trellis=1 8x8dct=1 cqm=0 deadzone=21,11 fast_pskip=1 chroma_qp_offset=4 threads=22 lookahead_threads=3 sliced_threads=0 nr=0 decimate=1 interlaced=0 bluray_compat=0 constrained_intra=0 bframes=3 b_pyramid=2 b_adapt=1 b_bias=0 direct=1 weightb=1 open_gop=0 weightp=2 keyint=250 keyint_min=10 scenecut=40 intra_refresh=0 rc_lookahead=40 rc=crf mbtree=1 crf=23.0 qcomp=0.60 qpmin=0 qpmax=69 qpstep=4 ip_ratio=1.40 aq=1:1.00\n",
      "Output #0, mp4, to '/home/irmak/Workspace/Holo-Bot/extracted_data/gum_opening/demonstration_14/visualization_0.mp4':\n",
      "  Metadata:\n",
      "    encoder         : Lavf59.27.100\n",
      "  Stream #0:0: Video: h264 (avc1 / 0x31637661), yuv444p(tv, progressive), 2000x720 [SAR 1:1 DAR 25:9], q=2-31, 10 fps, 10240 tbn\n",
      "    Metadata:\n",
      "      encoder         : Lavc59.37.100 libx264\n",
      "    Side data:\n",
      "      cpb: bitrate max/min/avg: 0/0/0 buffer size: 0 vbv_delay: N/A\n",
      "frame=   27 fps=0.0 q=-1.0 Lsize=     821kB time=00:00:02.40 bitrate=2803.8kbits/s speed=3.06x    \n",
      "video:820kB audio:0kB subtitle:0kB other streams:0kB global headers:0kB muxing overhead: 0.142982%\n",
      "[libx264 @ 0x55730bd7f4c0] frame I:1     Avg QP:22.83  size: 48580\n",
      "[libx264 @ 0x55730bd7f4c0] frame P:7     Avg QP:20.68  size: 52143\n",
      "[libx264 @ 0x55730bd7f4c0] frame B:19    Avg QP:22.15  size: 22405\n",
      "[libx264 @ 0x55730bd7f4c0] consecutive B-frames:  3.7%  7.4%  0.0% 88.9%\n",
      "[libx264 @ 0x55730bd7f4c0] mb I  I16..4: 29.3% 42.7% 28.0%\n",
      "[libx264 @ 0x55730bd7f4c0] mb P  I16..4:  2.9% 25.7%  2.5%  P16..4: 22.3% 12.3%  7.3%  0.0%  0.0%    skip:27.0%\n",
      "[libx264 @ 0x55730bd7f4c0] mb B  I16..4:  0.4%  9.0%  0.3%  B16..8: 25.8%  6.6%  1.9%  direct: 4.6%  skip:51.3%  L0:43.1% L1:50.2% BI: 6.7%\n",
      "[libx264 @ 0x55730bd7f4c0] 8x8 transform intra:78.3% inter:83.4%\n",
      "[libx264 @ 0x55730bd7f4c0] coded y,u,v intra: 65.0% 33.0% 32.2% inter: 21.1% 12.4% 11.2%\n",
      "[libx264 @ 0x55730bd7f4c0] i16 v,h,dc,p: 49% 34%  9%  8%\n",
      "[libx264 @ 0x55730bd7f4c0] i8 v,h,dc,ddl,ddr,vr,hd,vl,hu: 14% 18% 52%  3%  2%  2%  3%  3%  4%\n",
      "[libx264 @ 0x55730bd7f4c0] i4 v,h,dc,ddl,ddr,vr,hd,vl,hu: 37% 32% 14%  2%  3%  2%  4%  2%  4%\n",
      "[libx264 @ 0x55730bd7f4c0] Weighted P-Frames: Y:0.0% UV:0.0%\n",
      "[libx264 @ 0x55730bd7f4c0] ref P L0: 39.5%  7.8% 32.0% 20.7%\n",
      "[libx264 @ 0x55730bd7f4c0] ref B L0: 66.4% 27.2%  6.4%\n",
      "[libx264 @ 0x55730bd7f4c0] ref B L1: 88.4% 11.6%\n",
      "[libx264 @ 0x55730bd7f4c0] kb/s:2486.75\n",
      "ffmpeg version 5.1.2 Copyright (c) 2000-2022 the FFmpeg developers\n",
      "  built with gcc 10.4.0 (conda-forge gcc 10.4.0-18)\n",
      "  configuration: --prefix=/home/irmak/miniconda3/envs/tactile_learning --cc=/home/conda/feedstock_root/build_artifacts/ffmpeg_1666357487580/_build_env/bin/x86_64-conda-linux-gnu-cc --cxx=/home/conda/feedstock_root/build_artifacts/ffmpeg_1666357487580/_build_env/bin/x86_64-conda-linux-gnu-c++ --nm=/home/conda/feedstock_root/build_artifacts/ffmpeg_1666357487580/_build_env/bin/x86_64-conda-linux-gnu-nm --ar=/home/conda/feedstock_root/build_artifacts/ffmpeg_1666357487580/_build_env/bin/x86_64-conda-linux-gnu-ar --disable-doc --disable-openssl --enable-demuxer=dash --enable-hardcoded-tables --enable-libfreetype --enable-libfontconfig --enable-libopenh264 --enable-gnutls --enable-libmp3lame --enable-libvpx --enable-pthreads --enable-vaapi --enable-gpl --enable-libx264 --enable-libx265 --enable-libaom --enable-libsvtav1 --enable-libxml2 --enable-pic --enable-shared --disable-static --enable-version3 --enable-zlib --pkg-config=/home/conda/feedstock_root/build_artifacts/ffmpeg_1666357487580/_build_env/bin/pkg-config\n",
      "  libavutil      57. 28.100 / 57. 28.100\n",
      "  libavcodec     59. 37.100 / 59. 37.100\n",
      "  libavformat    59. 27.100 / 59. 27.100\n",
      "  libavdevice    59.  7.100 / 59.  7.100\n",
      "  libavfilter     8. 44.100 /  8. 44.100\n",
      "  libswscale      6.  7.100 /  6.  7.100\n",
      "  libswresample   4.  7.100 /  4.  7.100\n",
      "  libpostproc    56.  6.100 / 56.  6.100\n",
      "[image2 @ 0x562a9617a640] Pattern type 'glob_sequence' is deprecated: use pattern_type 'glob' instead\n",
      "Input #0, image2, from '/home/irmak/Workspace/Holo-Bot/extracted_data/gum_opening/demonstration_15/visualization/%*.png':\n",
      "  Duration: 00:00:01.16, start: 0.000000, bitrate: N/A\n",
      "  Stream #0:0: Video: png, rgba(pc), 2000x2000 [SAR 3937:3937 DAR 1:1], 25 fps, 25 tbr, 25 tbn\n",
      "Stream mapping:\n",
      "  Stream #0:0 -> #0:0 (png (native) -> h264 (libx264))\n",
      "Press [q] to stop, [?] for help\n"
     ]
    },
    {
     "name": "stdout",
     "output_type": "stream",
     "text": [
      "dumping video in root: /home/irmak/Workspace/Holo-Bot/extracted_data/gum_opening/demonstration_15\n"
     ]
    },
    {
     "name": "stderr",
     "output_type": "stream",
     "text": [
      "[libx264 @ 0x562a96181900] using SAR=1/1\n",
      "[libx264 @ 0x562a96181900] using cpu capabilities: MMX2 SSE2Fast SSSE3 SSE4.2 AVX FMA3 BMI2 AVX2\n",
      "[libx264 @ 0x562a96181900] profile High 4:4:4 Predictive, level 4.0, 4:4:4, 8-bit\n",
      "[libx264 @ 0x562a96181900] 264 - core 164 r3095 baee400 - H.264/MPEG-4 AVC codec - Copyleft 2003-2022 - http://www.videolan.org/x264.html - options: cabac=1 ref=3 deblock=1:0:0 analyse=0x3:0x113 me=hex subme=7 psy=1 psy_rd=1.00:0.00 mixed_ref=1 me_range=16 chroma_me=1 trellis=1 8x8dct=1 cqm=0 deadzone=21,11 fast_pskip=1 chroma_qp_offset=4 threads=22 lookahead_threads=3 sliced_threads=0 nr=0 decimate=1 interlaced=0 bluray_compat=0 constrained_intra=0 bframes=3 b_pyramid=2 b_adapt=1 b_bias=0 direct=1 weightb=1 open_gop=0 weightp=2 keyint=250 keyint_min=10 scenecut=40 intra_refresh=0 rc_lookahead=40 rc=crf mbtree=1 crf=23.0 qcomp=0.60 qpmin=0 qpmax=69 qpstep=4 ip_ratio=1.40 aq=1:1.00\n",
      "Output #0, mp4, to '/home/irmak/Workspace/Holo-Bot/extracted_data/gum_opening/demonstration_15/visualization_0.mp4':\n",
      "  Metadata:\n",
      "    encoder         : Lavf59.27.100\n",
      "  Stream #0:0: Video: h264 (avc1 / 0x31637661), yuv444p(tv, progressive), 2000x720 [SAR 1:1 DAR 25:9], q=2-31, 10 fps, 10240 tbn\n",
      "    Metadata:\n",
      "      encoder         : Lavc59.37.100 libx264\n",
      "    Side data:\n",
      "      cpb: bitrate max/min/avg: 0/0/0 buffer size: 0 vbv_delay: N/A\n",
      "frame=   29 fps=0.0 q=-1.0 Lsize=     948kB time=00:00:02.60 bitrate=2986.9kbits/s speed=3.18x    \n",
      "video:947kB audio:0kB subtitle:0kB other streams:0kB global headers:0kB muxing overhead: 0.126346%\n",
      "[libx264 @ 0x562a96181900] frame I:1     Avg QP:22.13  size: 42669\n",
      "[libx264 @ 0x562a96181900] frame P:7     Avg QP:20.73  size: 55582\n",
      "[libx264 @ 0x562a96181900] frame B:21    Avg QP:22.11  size: 25577\n",
      "[libx264 @ 0x562a96181900] consecutive B-frames:  3.4%  0.0%  0.0% 96.6%\n",
      "[libx264 @ 0x562a96181900] mb I  I16..4: 31.6% 43.8% 24.6%\n",
      "[libx264 @ 0x562a96181900] mb P  I16..4:  2.7% 26.6%  2.8%  P16..4: 21.0% 12.5%  7.3%  0.0%  0.0%    skip:27.1%\n",
      "[libx264 @ 0x562a96181900] mb B  I16..4:  0.4% 10.7%  0.2%  B16..8: 25.0%  6.7%  2.1%  direct: 5.4%  skip:49.5%  L0:45.6% L1:46.1% BI: 8.4%\n",
      "[libx264 @ 0x562a96181900] 8x8 transform intra:80.9% inter:84.3%\n",
      "[libx264 @ 0x562a96181900] coded y,u,v intra: 69.3% 37.2% 34.9% inter: 23.5% 13.7% 12.1%\n",
      "[libx264 @ 0x562a96181900] i16 v,h,dc,p: 52% 34%  7%  7%\n",
      "[libx264 @ 0x562a96181900] i8 v,h,dc,ddl,ddr,vr,hd,vl,hu: 13% 18% 54%  3%  2%  2%  2%  3%  4%\n",
      "[libx264 @ 0x562a96181900] i4 v,h,dc,ddl,ddr,vr,hd,vl,hu: 40% 31% 13%  2%  2%  2%  4%  2%  3%\n",
      "[libx264 @ 0x562a96181900] Weighted P-Frames: Y:0.0% UV:0.0%\n",
      "[libx264 @ 0x562a96181900] ref P L0: 39.5%  8.3% 32.3% 19.8%\n",
      "[libx264 @ 0x562a96181900] ref B L0: 69.8% 23.3%  6.9%\n",
      "[libx264 @ 0x562a96181900] ref B L1: 87.7% 12.3%\n",
      "[libx264 @ 0x562a96181900] kb/s:2672.74\n",
      "ffmpeg version 5.1.2 Copyright (c) 2000-2022 the FFmpeg developers\n",
      "  built with gcc 10.4.0 (conda-forge gcc 10.4.0-18)\n",
      "  configuration: --prefix=/home/irmak/miniconda3/envs/tactile_learning --cc=/home/conda/feedstock_root/build_artifacts/ffmpeg_1666357487580/_build_env/bin/x86_64-conda-linux-gnu-cc --cxx=/home/conda/feedstock_root/build_artifacts/ffmpeg_1666357487580/_build_env/bin/x86_64-conda-linux-gnu-c++ --nm=/home/conda/feedstock_root/build_artifacts/ffmpeg_1666357487580/_build_env/bin/x86_64-conda-linux-gnu-nm --ar=/home/conda/feedstock_root/build_artifacts/ffmpeg_1666357487580/_build_env/bin/x86_64-conda-linux-gnu-ar --disable-doc --disable-openssl --enable-demuxer=dash --enable-hardcoded-tables --enable-libfreetype --enable-libfontconfig --enable-libopenh264 --enable-gnutls --enable-libmp3lame --enable-libvpx --enable-pthreads --enable-vaapi --enable-gpl --enable-libx264 --enable-libx265 --enable-libaom --enable-libsvtav1 --enable-libxml2 --enable-pic --enable-shared --disable-static --enable-version3 --enable-zlib --pkg-config=/home/conda/feedstock_root/build_artifacts/ffmpeg_1666357487580/_build_env/bin/pkg-config\n",
      "  libavutil      57. 28.100 / 57. 28.100\n",
      "  libavcodec     59. 37.100 / 59. 37.100\n",
      "  libavformat    59. 27.100 / 59. 27.100\n",
      "  libavdevice    59.  7.100 / 59.  7.100\n",
      "  libavfilter     8. 44.100 /  8. 44.100\n",
      "  libswscale      6.  7.100 /  6.  7.100\n",
      "  libswresample   4.  7.100 /  4.  7.100\n",
      "  libpostproc    56.  6.100 / 56.  6.100\n",
      "[image2 @ 0x555b99ace640] Pattern type 'glob_sequence' is deprecated: use pattern_type 'glob' instead\n",
      "Input #0, image2, from '/home/irmak/Workspace/Holo-Bot/extracted_data/gum_opening/demonstration_10/visualization/%*.png':\n",
      "  Duration: 00:00:01.40, start: 0.000000, bitrate: N/A\n",
      "  Stream #0:0: Video: png, rgba(pc), 2000x2000 [SAR 3937:3937 DAR 1:1], 25 fps, 25 tbr, 25 tbn\n",
      "Stream mapping:\n",
      "  Stream #0:0 -> #0:0 (png (native) -> h264 (libx264))\n",
      "Press [q] to stop, [?] for help\n"
     ]
    },
    {
     "name": "stdout",
     "output_type": "stream",
     "text": [
      "dumping video in root: /home/irmak/Workspace/Holo-Bot/extracted_data/gum_opening/demonstration_10\n"
     ]
    },
    {
     "name": "stderr",
     "output_type": "stream",
     "text": [
      "[libx264 @ 0x555b99ad5500] using SAR=1/1\n",
      "[libx264 @ 0x555b99ad5500] using cpu capabilities: MMX2 SSE2Fast SSSE3 SSE4.2 AVX FMA3 BMI2 AVX2\n",
      "[libx264 @ 0x555b99ad5500] profile High 4:4:4 Predictive, level 4.0, 4:4:4, 8-bit\n",
      "[libx264 @ 0x555b99ad5500] 264 - core 164 r3095 baee400 - H.264/MPEG-4 AVC codec - Copyleft 2003-2022 - http://www.videolan.org/x264.html - options: cabac=1 ref=3 deblock=1:0:0 analyse=0x3:0x113 me=hex subme=7 psy=1 psy_rd=1.00:0.00 mixed_ref=1 me_range=16 chroma_me=1 trellis=1 8x8dct=1 cqm=0 deadzone=21,11 fast_pskip=1 chroma_qp_offset=4 threads=22 lookahead_threads=3 sliced_threads=0 nr=0 decimate=1 interlaced=0 bluray_compat=0 constrained_intra=0 bframes=3 b_pyramid=2 b_adapt=1 b_bias=0 direct=1 weightb=1 open_gop=0 weightp=2 keyint=250 keyint_min=10 scenecut=40 intra_refresh=0 rc_lookahead=40 rc=crf mbtree=1 crf=23.0 qcomp=0.60 qpmin=0 qpmax=69 qpstep=4 ip_ratio=1.40 aq=1:1.00\n",
      "Output #0, mp4, to '/home/irmak/Workspace/Holo-Bot/extracted_data/gum_opening/demonstration_10/visualization_0.mp4':\n",
      "  Metadata:\n",
      "    encoder         : Lavf59.27.100\n",
      "  Stream #0:0: Video: h264 (avc1 / 0x31637661), yuv444p(tv, progressive), 2000x720 [SAR 1:1 DAR 25:9], q=2-31, 10 fps, 10240 tbn\n",
      "    Metadata:\n",
      "      encoder         : Lavc59.37.100 libx264\n",
      "    Side data:\n",
      "      cpb: bitrate max/min/avg: 0/0/0 buffer size: 0 vbv_delay: N/A\n",
      "frame=   35 fps=0.0 q=-1.0 Lsize=    1009kB time=00:00:03.20 bitrate=2582.4kbits/s speed=3.66x    \n",
      "video:1007kB audio:0kB subtitle:0kB other streams:0kB global headers:0kB muxing overhead: 0.125718%\n",
      "[libx264 @ 0x555b99ad5500] frame I:1     Avg QP:23.55  size: 49819\n",
      "[libx264 @ 0x555b99ad5500] frame P:9     Avg QP:20.31  size: 49668\n",
      "[libx264 @ 0x555b99ad5500] frame B:25    Avg QP:22.04  size: 21366\n",
      "[libx264 @ 0x555b99ad5500] consecutive B-frames:  2.9%  5.7%  0.0% 91.4%\n",
      "[libx264 @ 0x555b99ad5500] mb I  I16..4: 19.9% 51.6% 28.5%\n",
      "[libx264 @ 0x555b99ad5500] mb P  I16..4:  2.6% 22.1%  2.0%  P16..4: 23.2% 13.0%  8.0%  0.0%  0.0%    skip:29.1%\n",
      "[libx264 @ 0x555b99ad5500] mb B  I16..4:  0.5%  8.7%  0.2%  B16..8: 26.5%  6.1%  1.8%  direct: 4.3%  skip:51.8%  L0:45.3% L1:47.2% BI: 7.6%\n",
      "[libx264 @ 0x555b99ad5500] 8x8 transform intra:81.5% inter:84.2%\n",
      "[libx264 @ 0x555b99ad5500] coded y,u,v intra: 66.4% 33.9% 32.7% inter: 20.9% 12.2% 11.1%\n",
      "[libx264 @ 0x555b99ad5500] i16 v,h,dc,p: 39% 38% 13% 10%\n",
      "[libx264 @ 0x555b99ad5500] i8 v,h,dc,ddl,ddr,vr,hd,vl,hu: 15% 18% 52%  3%  2%  2%  2%  3%  4%\n",
      "[libx264 @ 0x555b99ad5500] i4 v,h,dc,ddl,ddr,vr,hd,vl,hu: 37% 32% 14%  2%  2%  3%  4%  2%  4%\n",
      "[libx264 @ 0x555b99ad5500] Weighted P-Frames: Y:0.0% UV:0.0%\n",
      "[libx264 @ 0x555b99ad5500] ref P L0: 39.9%  7.8% 31.5% 20.8%\n",
      "[libx264 @ 0x555b99ad5500] ref B L0: 69.6% 23.8%  6.5%\n",
      "[libx264 @ 0x555b99ad5500] ref B L1: 87.7% 12.3%\n",
      "[libx264 @ 0x555b99ad5500] kb/s:2356.54\n",
      "ffmpeg version 5.1.2 Copyright (c) 2000-2022 the FFmpeg developers\n",
      "  built with gcc 10.4.0 (conda-forge gcc 10.4.0-18)\n",
      "  configuration: --prefix=/home/irmak/miniconda3/envs/tactile_learning --cc=/home/conda/feedstock_root/build_artifacts/ffmpeg_1666357487580/_build_env/bin/x86_64-conda-linux-gnu-cc --cxx=/home/conda/feedstock_root/build_artifacts/ffmpeg_1666357487580/_build_env/bin/x86_64-conda-linux-gnu-c++ --nm=/home/conda/feedstock_root/build_artifacts/ffmpeg_1666357487580/_build_env/bin/x86_64-conda-linux-gnu-nm --ar=/home/conda/feedstock_root/build_artifacts/ffmpeg_1666357487580/_build_env/bin/x86_64-conda-linux-gnu-ar --disable-doc --disable-openssl --enable-demuxer=dash --enable-hardcoded-tables --enable-libfreetype --enable-libfontconfig --enable-libopenh264 --enable-gnutls --enable-libmp3lame --enable-libvpx --enable-pthreads --enable-vaapi --enable-gpl --enable-libx264 --enable-libx265 --enable-libaom --enable-libsvtav1 --enable-libxml2 --enable-pic --enable-shared --disable-static --enable-version3 --enable-zlib --pkg-config=/home/conda/feedstock_root/build_artifacts/ffmpeg_1666357487580/_build_env/bin/pkg-config\n",
      "  libavutil      57. 28.100 / 57. 28.100\n",
      "  libavcodec     59. 37.100 / 59. 37.100\n",
      "  libavformat    59. 27.100 / 59. 27.100\n",
      "  libavdevice    59.  7.100 / 59.  7.100\n",
      "  libavfilter     8. 44.100 /  8. 44.100\n",
      "  libswscale      6.  7.100 /  6.  7.100\n",
      "  libswresample   4.  7.100 /  4.  7.100\n",
      "  libpostproc    56.  6.100 / 56.  6.100\n",
      "[image2 @ 0x5599750ba640] Pattern type 'glob_sequence' is deprecated: use pattern_type 'glob' instead\n",
      "Input #0, image2, from '/home/irmak/Workspace/Holo-Bot/extracted_data/gum_opening/demonstration_8/visualization/%*.png':\n",
      "  Duration: 00:00:00.92, start: 0.000000, bitrate: N/A\n",
      "  Stream #0:0: Video: png, rgba(pc), 2000x2000 [SAR 3937:3937 DAR 1:1], 25 fps, 25 tbr, 25 tbn\n",
      "Stream mapping:\n",
      "  Stream #0:0 -> #0:0 (png (native) -> h264 (libx264))\n",
      "Press [q] to stop, [?] for help\n"
     ]
    },
    {
     "name": "stdout",
     "output_type": "stream",
     "text": [
      "dumping video in root: /home/irmak/Workspace/Holo-Bot/extracted_data/gum_opening/demonstration_8\n"
     ]
    },
    {
     "name": "stderr",
     "output_type": "stream",
     "text": [
      "[libx264 @ 0x5599750c0fc0] using SAR=1/1\n",
      "[libx264 @ 0x5599750c0fc0] using cpu capabilities: MMX2 SSE2Fast SSSE3 SSE4.2 AVX FMA3 BMI2 AVX2\n",
      "[libx264 @ 0x5599750c0fc0] profile High 4:4:4 Predictive, level 4.0, 4:4:4, 8-bit\n",
      "[libx264 @ 0x5599750c0fc0] 264 - core 164 r3095 baee400 - H.264/MPEG-4 AVC codec - Copyleft 2003-2022 - http://www.videolan.org/x264.html - options: cabac=1 ref=3 deblock=1:0:0 analyse=0x3:0x113 me=hex subme=7 psy=1 psy_rd=1.00:0.00 mixed_ref=1 me_range=16 chroma_me=1 trellis=1 8x8dct=1 cqm=0 deadzone=21,11 fast_pskip=1 chroma_qp_offset=4 threads=22 lookahead_threads=3 sliced_threads=0 nr=0 decimate=1 interlaced=0 bluray_compat=0 constrained_intra=0 bframes=3 b_pyramid=2 b_adapt=1 b_bias=0 direct=1 weightb=1 open_gop=0 weightp=2 keyint=250 keyint_min=10 scenecut=40 intra_refresh=0 rc_lookahead=40 rc=crf mbtree=1 crf=23.0 qcomp=0.60 qpmin=0 qpmax=69 qpstep=4 ip_ratio=1.40 aq=1:1.00\n",
      "Output #0, mp4, to '/home/irmak/Workspace/Holo-Bot/extracted_data/gum_opening/demonstration_8/visualization_0.mp4':\n",
      "  Metadata:\n",
      "    encoder         : Lavf59.27.100\n",
      "  Stream #0:0: Video: h264 (avc1 / 0x31637661), yuv444p(tv, progressive), 2000x720 [SAR 1:1 DAR 25:9], q=2-31, 10 fps, 10240 tbn\n",
      "    Metadata:\n",
      "      encoder         : Lavc59.37.100 libx264\n",
      "    Side data:\n",
      "      cpb: bitrate max/min/avg: 0/0/0 buffer size: 0 vbv_delay: N/A\n",
      "frame=   23 fps=0.0 q=-1.0 Lsize=     714kB time=00:00:02.00 bitrate=2925.9kbits/s speed=2.71x    \n",
      "video:713kB audio:0kB subtitle:0kB other streams:0kB global headers:0kB muxing overhead: 0.157868%\n",
      "[libx264 @ 0x5599750c0fc0] frame I:1     Avg QP:23.31  size: 49320\n",
      "[libx264 @ 0x5599750c0fc0] frame P:6     Avg QP:20.71  size: 54793\n",
      "[libx264 @ 0x5599750c0fc0] frame B:16    Avg QP:21.92  size: 21974\n",
      "[libx264 @ 0x5599750c0fc0] consecutive B-frames:  4.3%  8.7%  0.0% 87.0%\n",
      "[libx264 @ 0x5599750c0fc0] mb I  I16..4: 28.3% 43.4% 28.3%\n",
      "[libx264 @ 0x5599750c0fc0] mb P  I16..4:  3.1% 31.5%  2.7%  P16..4: 19.3% 10.2%  6.1%  0.0%  0.0%    skip:27.2%\n",
      "[libx264 @ 0x5599750c0fc0] mb B  I16..4:  0.6%  9.7%  0.3%  B16..8: 23.3%  5.5%  1.8%  direct: 5.5%  skip:53.2%  L0:43.8% L1:48.5% BI: 7.7%\n",
      "[libx264 @ 0x5599750c0fc0] 8x8 transform intra:78.6% inter:83.9%\n",
      "[libx264 @ 0x5599750c0fc0] coded y,u,v intra: 64.8% 34.2% 32.2% inter: 20.7% 12.2% 11.1%\n",
      "[libx264 @ 0x5599750c0fc0] i16 v,h,dc,p: 47% 36%  7%  9%\n",
      "[libx264 @ 0x5599750c0fc0] i8 v,h,dc,ddl,ddr,vr,hd,vl,hu: 15% 19% 48%  3%  2%  2%  3%  3%  4%\n",
      "[libx264 @ 0x5599750c0fc0] i4 v,h,dc,ddl,ddr,vr,hd,vl,hu: 36% 34% 13%  2%  2%  2%  4%  2%  4%\n",
      "[libx264 @ 0x5599750c0fc0] Weighted P-Frames: Y:0.0% UV:0.0%\n",
      "[libx264 @ 0x5599750c0fc0] ref P L0: 47.6%  6.8% 29.0% 16.6%\n",
      "[libx264 @ 0x5599750c0fc0] ref B L0: 69.6% 23.9%  6.5%\n",
      "[libx264 @ 0x5599750c0fc0] ref B L1: 89.2% 10.8%\n",
      "[libx264 @ 0x5599750c0fc0] kb/s:2537.97\n",
      "ffmpeg version 5.1.2 Copyright (c) 2000-2022 the FFmpeg developers\n",
      "  built with gcc 10.4.0 (conda-forge gcc 10.4.0-18)\n",
      "  configuration: --prefix=/home/irmak/miniconda3/envs/tactile_learning --cc=/home/conda/feedstock_root/build_artifacts/ffmpeg_1666357487580/_build_env/bin/x86_64-conda-linux-gnu-cc --cxx=/home/conda/feedstock_root/build_artifacts/ffmpeg_1666357487580/_build_env/bin/x86_64-conda-linux-gnu-c++ --nm=/home/conda/feedstock_root/build_artifacts/ffmpeg_1666357487580/_build_env/bin/x86_64-conda-linux-gnu-nm --ar=/home/conda/feedstock_root/build_artifacts/ffmpeg_1666357487580/_build_env/bin/x86_64-conda-linux-gnu-ar --disable-doc --disable-openssl --enable-demuxer=dash --enable-hardcoded-tables --enable-libfreetype --enable-libfontconfig --enable-libopenh264 --enable-gnutls --enable-libmp3lame --enable-libvpx --enable-pthreads --enable-vaapi --enable-gpl --enable-libx264 --enable-libx265 --enable-libaom --enable-libsvtav1 --enable-libxml2 --enable-pic --enable-shared --disable-static --enable-version3 --enable-zlib --pkg-config=/home/conda/feedstock_root/build_artifacts/ffmpeg_1666357487580/_build_env/bin/pkg-config\n",
      "  libavutil      57. 28.100 / 57. 28.100\n",
      "  libavcodec     59. 37.100 / 59. 37.100\n",
      "  libavformat    59. 27.100 / 59. 27.100\n",
      "  libavdevice    59.  7.100 / 59.  7.100\n",
      "  libavfilter     8. 44.100 /  8. 44.100\n",
      "  libswscale      6.  7.100 /  6.  7.100\n",
      "  libswresample   4.  7.100 /  4.  7.100\n",
      "  libpostproc    56.  6.100 / 56.  6.100\n",
      "[image2 @ 0x55e52d13e640] Pattern type 'glob_sequence' is deprecated: use pattern_type 'glob' instead\n",
      "Input #0, image2, from '/home/irmak/Workspace/Holo-Bot/extracted_data/gum_opening/demonstration_3/visualization/%*.png':\n",
      "  Duration: 00:00:01.08, start: 0.000000, bitrate: N/A\n",
      "  Stream #0:0: Video: png, rgba(pc), 2000x2000 [SAR 3937:3937 DAR 1:1], 25 fps, 25 tbr, 25 tbn\n",
      "Stream mapping:\n",
      "  Stream #0:0 -> #0:0 (png (native) -> h264 (libx264))\n",
      "Press [q] to stop, [?] for help\n"
     ]
    },
    {
     "name": "stdout",
     "output_type": "stream",
     "text": [
      "dumping video in root: /home/irmak/Workspace/Holo-Bot/extracted_data/gum_opening/demonstration_3\n"
     ]
    },
    {
     "name": "stderr",
     "output_type": "stream",
     "text": [
      "[libx264 @ 0x55e52d145180] using SAR=1/1\n",
      "[libx264 @ 0x55e52d145180] using cpu capabilities: MMX2 SSE2Fast SSSE3 SSE4.2 AVX FMA3 BMI2 AVX2\n",
      "[libx264 @ 0x55e52d145180] profile High 4:4:4 Predictive, level 4.0, 4:4:4, 8-bit\n",
      "[libx264 @ 0x55e52d145180] 264 - core 164 r3095 baee400 - H.264/MPEG-4 AVC codec - Copyleft 2003-2022 - http://www.videolan.org/x264.html - options: cabac=1 ref=3 deblock=1:0:0 analyse=0x3:0x113 me=hex subme=7 psy=1 psy_rd=1.00:0.00 mixed_ref=1 me_range=16 chroma_me=1 trellis=1 8x8dct=1 cqm=0 deadzone=21,11 fast_pskip=1 chroma_qp_offset=4 threads=22 lookahead_threads=3 sliced_threads=0 nr=0 decimate=1 interlaced=0 bluray_compat=0 constrained_intra=0 bframes=3 b_pyramid=2 b_adapt=1 b_bias=0 direct=1 weightb=1 open_gop=0 weightp=2 keyint=250 keyint_min=10 scenecut=40 intra_refresh=0 rc_lookahead=40 rc=crf mbtree=1 crf=23.0 qcomp=0.60 qpmin=0 qpmax=69 qpstep=4 ip_ratio=1.40 aq=1:1.00\n",
      "Output #0, mp4, to '/home/irmak/Workspace/Holo-Bot/extracted_data/gum_opening/demonstration_3/visualization_0.mp4':\n",
      "  Metadata:\n",
      "    encoder         : Lavf59.27.100\n",
      "  Stream #0:0: Video: h264 (avc1 / 0x31637661), yuv444p(tv, progressive), 2000x720 [SAR 1:1 DAR 25:9], q=2-31, 10 fps, 10240 tbn\n",
      "    Metadata:\n",
      "      encoder         : Lavc59.37.100 libx264\n",
      "    Side data:\n",
      "      cpb: bitrate max/min/avg: 0/0/0 buffer size: 0 vbv_delay: N/A\n",
      "frame=   27 fps=0.0 q=-1.0 Lsize=     778kB time=00:00:02.40 bitrate=2656.7kbits/s speed=3.03x    \n",
      "video:777kB audio:0kB subtitle:0kB other streams:0kB global headers:0kB muxing overhead: 0.150912%\n",
      "[libx264 @ 0x55e52d145180] frame I:1     Avg QP:23.23  size: 49604\n",
      "[libx264 @ 0x55e52d145180] frame P:7     Avg QP:20.53  size: 50062\n",
      "[libx264 @ 0x55e52d145180] frame B:19    Avg QP:22.02  size: 20795\n",
      "[libx264 @ 0x55e52d145180] consecutive B-frames:  3.7%  7.4%  0.0% 88.9%\n",
      "[libx264 @ 0x55e52d145180] mb I  I16..4: 27.2% 44.2% 28.6%\n",
      "[libx264 @ 0x55e52d145180] mb P  I16..4:  2.8% 25.3%  2.1%  P16..4: 21.9% 12.4%  7.5%  0.0%  0.0%    skip:27.9%\n",
      "[libx264 @ 0x55e52d145180] mb B  I16..4:  0.4%  9.0%  0.2%  B16..8: 25.1%  5.8%  1.8%  direct: 4.7%  skip:53.0%  L0:46.3% L1:46.6% BI: 7.1%\n",
      "[libx264 @ 0x55e52d145180] 8x8 transform intra:79.5% inter:84.0%\n",
      "[libx264 @ 0x55e52d145180] coded y,u,v intra: 65.1% 33.2% 31.4% inter: 20.6% 11.9% 10.8%\n",
      "[libx264 @ 0x55e52d145180] i16 v,h,dc,p: 46% 37%  9%  9%\n",
      "[libx264 @ 0x55e52d145180] i8 v,h,dc,ddl,ddr,vr,hd,vl,hu: 15% 19% 53%  2%  2%  2%  2%  2%  4%\n",
      "[libx264 @ 0x55e52d145180] i4 v,h,dc,ddl,ddr,vr,hd,vl,hu: 38% 35% 12%  2%  2%  2%  4%  2%  4%\n",
      "[libx264 @ 0x55e52d145180] Weighted P-Frames: Y:0.0% UV:0.0%\n",
      "[libx264 @ 0x55e52d145180] ref P L0: 38.3%  8.1% 33.8% 19.9%\n",
      "[libx264 @ 0x55e52d145180] ref B L0: 67.8% 26.8%  5.4%\n",
      "[libx264 @ 0x55e52d145180] ref B L1: 86.5% 13.5%\n",
      "[libx264 @ 0x55e52d145180] kb/s:2355.96\n",
      "ffmpeg version 5.1.2 Copyright (c) 2000-2022 the FFmpeg developers\n",
      "  built with gcc 10.4.0 (conda-forge gcc 10.4.0-18)\n",
      "  configuration: --prefix=/home/irmak/miniconda3/envs/tactile_learning --cc=/home/conda/feedstock_root/build_artifacts/ffmpeg_1666357487580/_build_env/bin/x86_64-conda-linux-gnu-cc --cxx=/home/conda/feedstock_root/build_artifacts/ffmpeg_1666357487580/_build_env/bin/x86_64-conda-linux-gnu-c++ --nm=/home/conda/feedstock_root/build_artifacts/ffmpeg_1666357487580/_build_env/bin/x86_64-conda-linux-gnu-nm --ar=/home/conda/feedstock_root/build_artifacts/ffmpeg_1666357487580/_build_env/bin/x86_64-conda-linux-gnu-ar --disable-doc --disable-openssl --enable-demuxer=dash --enable-hardcoded-tables --enable-libfreetype --enable-libfontconfig --enable-libopenh264 --enable-gnutls --enable-libmp3lame --enable-libvpx --enable-pthreads --enable-vaapi --enable-gpl --enable-libx264 --enable-libx265 --enable-libaom --enable-libsvtav1 --enable-libxml2 --enable-pic --enable-shared --disable-static --enable-version3 --enable-zlib --pkg-config=/home/conda/feedstock_root/build_artifacts/ffmpeg_1666357487580/_build_env/bin/pkg-config\n",
      "  libavutil      57. 28.100 / 57. 28.100\n",
      "  libavcodec     59. 37.100 / 59. 37.100\n",
      "  libavformat    59. 27.100 / 59. 27.100\n",
      "  libavdevice    59.  7.100 / 59.  7.100\n",
      "  libavfilter     8. 44.100 /  8. 44.100\n",
      "  libswscale      6.  7.100 /  6.  7.100\n",
      "  libswresample   4.  7.100 /  4.  7.100\n",
      "  libpostproc    56.  6.100 / 56.  6.100\n",
      "[image2 @ 0x5632f0d21640] Pattern type 'glob_sequence' is deprecated: use pattern_type 'glob' instead\n",
      "Input #0, image2, from '/home/irmak/Workspace/Holo-Bot/extracted_data/gum_opening/demonstration_12/visualization/%*.png':\n",
      "  Duration: 00:00:01.08, start: 0.000000, bitrate: N/A\n",
      "  Stream #0:0: Video: png, rgba(pc), 2000x2000 [SAR 3937:3937 DAR 1:1], 25 fps, 25 tbr, 25 tbn\n",
      "Stream mapping:\n",
      "  Stream #0:0 -> #0:0 (png (native) -> h264 (libx264))\n",
      "Press [q] to stop, [?] for help\n"
     ]
    },
    {
     "name": "stdout",
     "output_type": "stream",
     "text": [
      "dumping video in root: /home/irmak/Workspace/Holo-Bot/extracted_data/gum_opening/demonstration_12\n"
     ]
    },
    {
     "name": "stderr",
     "output_type": "stream",
     "text": [
      "[libx264 @ 0x5632f0d284c0] using SAR=1/1\n",
      "[libx264 @ 0x5632f0d284c0] using cpu capabilities: MMX2 SSE2Fast SSSE3 SSE4.2 AVX FMA3 BMI2 AVX2\n",
      "[libx264 @ 0x5632f0d284c0] profile High 4:4:4 Predictive, level 4.0, 4:4:4, 8-bit\n",
      "[libx264 @ 0x5632f0d284c0] 264 - core 164 r3095 baee400 - H.264/MPEG-4 AVC codec - Copyleft 2003-2022 - http://www.videolan.org/x264.html - options: cabac=1 ref=3 deblock=1:0:0 analyse=0x3:0x113 me=hex subme=7 psy=1 psy_rd=1.00:0.00 mixed_ref=1 me_range=16 chroma_me=1 trellis=1 8x8dct=1 cqm=0 deadzone=21,11 fast_pskip=1 chroma_qp_offset=4 threads=22 lookahead_threads=3 sliced_threads=0 nr=0 decimate=1 interlaced=0 bluray_compat=0 constrained_intra=0 bframes=3 b_pyramid=2 b_adapt=1 b_bias=0 direct=1 weightb=1 open_gop=0 weightp=2 keyint=250 keyint_min=10 scenecut=40 intra_refresh=0 rc_lookahead=40 rc=crf mbtree=1 crf=23.0 qcomp=0.60 qpmin=0 qpmax=69 qpstep=4 ip_ratio=1.40 aq=1:1.00\n",
      "Output #0, mp4, to '/home/irmak/Workspace/Holo-Bot/extracted_data/gum_opening/demonstration_12/visualization_0.mp4':\n",
      "  Metadata:\n",
      "    encoder         : Lavf59.27.100\n",
      "  Stream #0:0: Video: h264 (avc1 / 0x31637661), yuv444p(tv, progressive), 2000x720 [SAR 1:1 DAR 25:9], q=2-31, 10 fps, 10240 tbn\n",
      "    Metadata:\n",
      "      encoder         : Lavc59.37.100 libx264\n",
      "    Side data:\n",
      "      cpb: bitrate max/min/avg: 0/0/0 buffer size: 0 vbv_delay: N/A\n",
      "frame=   27 fps=0.0 q=-1.0 Lsize=     906kB time=00:00:02.40 bitrate=3092.8kbits/s speed=3.07x    \n",
      "video:905kB audio:0kB subtitle:0kB other streams:0kB global headers:0kB muxing overhead: 0.129601%\n",
      "[libx264 @ 0x5632f0d284c0] frame I:1     Avg QP:23.45  size: 49491\n",
      "[libx264 @ 0x5632f0d284c0] frame P:7     Avg QP:20.72  size: 54829\n",
      "[libx264 @ 0x5632f0d284c0] frame B:19    Avg QP:22.07  size: 25932\n",
      "[libx264 @ 0x5632f0d284c0] consecutive B-frames:  3.7%  7.4%  0.0% 88.9%\n",
      "[libx264 @ 0x5632f0d284c0] mb I  I16..4: 27.5% 44.3% 28.2%\n",
      "[libx264 @ 0x5632f0d284c0] mb P  I16..4:  2.6% 28.7%  2.4%  P16..4: 21.3% 11.2%  7.0%  0.0%  0.0%    skip:26.8%\n",
      "[libx264 @ 0x5632f0d284c0] mb B  I16..4:  0.4% 11.3%  0.2%  B16..8: 25.3%  6.6%  2.0%  direct: 5.5%  skip:48.7%  L0:47.1% L1:44.8% BI: 8.0%\n",
      "[libx264 @ 0x5632f0d284c0] 8x8 transform intra:81.8% inter:84.1%\n",
      "[libx264 @ 0x5632f0d284c0] coded y,u,v intra: 69.9% 37.8% 35.7% inter: 23.8% 13.8% 12.4%\n",
      "[libx264 @ 0x5632f0d284c0] i16 v,h,dc,p: 48% 38%  6%  8%\n",
      "[libx264 @ 0x5632f0d284c0] i8 v,h,dc,ddl,ddr,vr,hd,vl,hu: 13% 18% 53%  3%  2%  2%  3%  3%  4%\n",
      "[libx264 @ 0x5632f0d284c0] i4 v,h,dc,ddl,ddr,vr,hd,vl,hu: 36% 34% 14%  2%  2%  2%  4%  2%  3%\n",
      "[libx264 @ 0x5632f0d284c0] Weighted P-Frames: Y:0.0% UV:0.0%\n",
      "[libx264 @ 0x5632f0d284c0] ref P L0: 41.4%  9.3% 30.5% 18.8%\n",
      "[libx264 @ 0x5632f0d284c0] ref B L0: 68.4% 25.5%  6.1%\n",
      "[libx264 @ 0x5632f0d284c0] ref B L1: 88.4% 11.6%\n",
      "[libx264 @ 0x5632f0d284c0] kb/s:2743.70\n",
      "ffmpeg version 5.1.2 Copyright (c) 2000-2022 the FFmpeg developers\n",
      "  built with gcc 10.4.0 (conda-forge gcc 10.4.0-18)\n",
      "  configuration: --prefix=/home/irmak/miniconda3/envs/tactile_learning --cc=/home/conda/feedstock_root/build_artifacts/ffmpeg_1666357487580/_build_env/bin/x86_64-conda-linux-gnu-cc --cxx=/home/conda/feedstock_root/build_artifacts/ffmpeg_1666357487580/_build_env/bin/x86_64-conda-linux-gnu-c++ --nm=/home/conda/feedstock_root/build_artifacts/ffmpeg_1666357487580/_build_env/bin/x86_64-conda-linux-gnu-nm --ar=/home/conda/feedstock_root/build_artifacts/ffmpeg_1666357487580/_build_env/bin/x86_64-conda-linux-gnu-ar --disable-doc --disable-openssl --enable-demuxer=dash --enable-hardcoded-tables --enable-libfreetype --enable-libfontconfig --enable-libopenh264 --enable-gnutls --enable-libmp3lame --enable-libvpx --enable-pthreads --enable-vaapi --enable-gpl --enable-libx264 --enable-libx265 --enable-libaom --enable-libsvtav1 --enable-libxml2 --enable-pic --enable-shared --disable-static --enable-version3 --enable-zlib --pkg-config=/home/conda/feedstock_root/build_artifacts/ffmpeg_1666357487580/_build_env/bin/pkg-config\n",
      "  libavutil      57. 28.100 / 57. 28.100\n",
      "  libavcodec     59. 37.100 / 59. 37.100\n",
      "  libavformat    59. 27.100 / 59. 27.100\n",
      "  libavdevice    59.  7.100 / 59.  7.100\n",
      "  libavfilter     8. 44.100 /  8. 44.100\n",
      "  libswscale      6.  7.100 /  6.  7.100\n",
      "  libswresample   4.  7.100 /  4.  7.100\n",
      "  libpostproc    56.  6.100 / 56.  6.100\n",
      "[image2 @ 0x56534c463640] Pattern type 'glob_sequence' is deprecated: use pattern_type 'glob' instead\n",
      "Input #0, image2, from '/home/irmak/Workspace/Holo-Bot/extracted_data/gum_opening/demonstration_6/visualization/%*.png':\n",
      "  Duration: 00:00:01.44, start: 0.000000, bitrate: N/A\n",
      "  Stream #0:0: Video: png, rgba(pc), 2000x2000 [SAR 3937:3937 DAR 1:1], 25 fps, 25 tbr, 25 tbn\n",
      "Stream mapping:\n",
      "  Stream #0:0 -> #0:0 (png (native) -> h264 (libx264))\n",
      "Press [q] to stop, [?] for help\n"
     ]
    },
    {
     "name": "stdout",
     "output_type": "stream",
     "text": [
      "dumping video in root: /home/irmak/Workspace/Holo-Bot/extracted_data/gum_opening/demonstration_6\n"
     ]
    },
    {
     "name": "stderr",
     "output_type": "stream",
     "text": [
      "[libx264 @ 0x56534c46a940] using SAR=1/1\n",
      "[libx264 @ 0x56534c46a940] using cpu capabilities: MMX2 SSE2Fast SSSE3 SSE4.2 AVX FMA3 BMI2 AVX2\n",
      "[libx264 @ 0x56534c46a940] profile High 4:4:4 Predictive, level 4.0, 4:4:4, 8-bit\n",
      "[libx264 @ 0x56534c46a940] 264 - core 164 r3095 baee400 - H.264/MPEG-4 AVC codec - Copyleft 2003-2022 - http://www.videolan.org/x264.html - options: cabac=1 ref=3 deblock=1:0:0 analyse=0x3:0x113 me=hex subme=7 psy=1 psy_rd=1.00:0.00 mixed_ref=1 me_range=16 chroma_me=1 trellis=1 8x8dct=1 cqm=0 deadzone=21,11 fast_pskip=1 chroma_qp_offset=4 threads=22 lookahead_threads=3 sliced_threads=0 nr=0 decimate=1 interlaced=0 bluray_compat=0 constrained_intra=0 bframes=3 b_pyramid=2 b_adapt=1 b_bias=0 direct=1 weightb=1 open_gop=0 weightp=2 keyint=250 keyint_min=10 scenecut=40 intra_refresh=0 rc_lookahead=40 rc=crf mbtree=1 crf=23.0 qcomp=0.60 qpmin=0 qpmax=69 qpstep=4 ip_ratio=1.40 aq=1:1.00\n",
      "Output #0, mp4, to '/home/irmak/Workspace/Holo-Bot/extracted_data/gum_opening/demonstration_6/visualization_0.mp4':\n",
      "  Metadata:\n",
      "    encoder         : Lavf59.27.100\n",
      "  Stream #0:0: Video: h264 (avc1 / 0x31637661), yuv444p(tv, progressive), 2000x720 [SAR 1:1 DAR 25:9], q=2-31, 10 fps, 10240 tbn\n",
      "    Metadata:\n",
      "      encoder         : Lavc59.37.100 libx264\n",
      "    Side data:\n",
      "      cpb: bitrate max/min/avg: 0/0/0 buffer size: 0 vbv_delay: N/A\n",
      "frame=   36 fps=0.0 q=-1.0 Lsize=    1136kB time=00:00:03.30 bitrate=2819.0kbits/s speed=3.69x    \n",
      "video:1134kB audio:0kB subtitle:0kB other streams:0kB global headers:0kB muxing overhead: 0.113381%\n",
      "[libx264 @ 0x56534c46a940] frame I:1     Avg QP:23.12  size: 50026\n",
      "[libx264 @ 0x56534c46a940] frame P:9     Avg QP:20.36  size: 52504\n",
      "[libx264 @ 0x56534c46a940] frame B:26    Avg QP:22.09  size: 24550\n",
      "[libx264 @ 0x56534c46a940] consecutive B-frames:  2.8%  0.0%  8.3% 88.9%\n",
      "[libx264 @ 0x56534c46a940] mb I  I16..4: 28.0% 43.7% 28.3%\n",
      "[libx264 @ 0x56534c46a940] mb P  I16..4:  2.1% 23.4%  2.0%  P16..4: 22.6% 13.1%  8.4%  0.0%  0.0%    skip:28.4%\n",
      "[libx264 @ 0x56534c46a940] mb B  I16..4:  0.4% 10.5%  0.2%  B16..8: 25.1%  6.4%  2.1%  direct: 5.3%  skip:50.1%  L0:46.4% L1:45.7% BI: 7.9%\n",
      "[libx264 @ 0x56534c46a940] 8x8 transform intra:83.0% inter:84.9%\n",
      "[libx264 @ 0x56534c46a940] coded y,u,v intra: 71.6% 38.1% 36.3% inter: 23.3% 13.5% 12.0%\n",
      "[libx264 @ 0x56534c46a940] i16 v,h,dc,p: 49% 36%  8%  8%\n",
      "[libx264 @ 0x56534c46a940] i8 v,h,dc,ddl,ddr,vr,hd,vl,hu: 12% 17% 56%  2%  2%  2%  2%  3%  4%\n",
      "[libx264 @ 0x56534c46a940] i4 v,h,dc,ddl,ddr,vr,hd,vl,hu: 36% 33% 14%  2%  3%  2%  4%  2%  4%\n",
      "[libx264 @ 0x56534c46a940] Weighted P-Frames: Y:0.0% UV:0.0%\n",
      "[libx264 @ 0x56534c46a940] ref P L0: 36.6%  7.6% 34.8% 21.0%\n",
      "[libx264 @ 0x56534c46a940] ref B L0: 66.0% 26.2%  7.8%\n",
      "[libx264 @ 0x56534c46a940] ref B L1: 86.0% 14.0%\n",
      "[libx264 @ 0x56534c46a940] kb/s:2579.73\n",
      "ffmpeg version 5.1.2 Copyright (c) 2000-2022 the FFmpeg developers\n",
      "  built with gcc 10.4.0 (conda-forge gcc 10.4.0-18)\n",
      "  configuration: --prefix=/home/irmak/miniconda3/envs/tactile_learning --cc=/home/conda/feedstock_root/build_artifacts/ffmpeg_1666357487580/_build_env/bin/x86_64-conda-linux-gnu-cc --cxx=/home/conda/feedstock_root/build_artifacts/ffmpeg_1666357487580/_build_env/bin/x86_64-conda-linux-gnu-c++ --nm=/home/conda/feedstock_root/build_artifacts/ffmpeg_1666357487580/_build_env/bin/x86_64-conda-linux-gnu-nm --ar=/home/conda/feedstock_root/build_artifacts/ffmpeg_1666357487580/_build_env/bin/x86_64-conda-linux-gnu-ar --disable-doc --disable-openssl --enable-demuxer=dash --enable-hardcoded-tables --enable-libfreetype --enable-libfontconfig --enable-libopenh264 --enable-gnutls --enable-libmp3lame --enable-libvpx --enable-pthreads --enable-vaapi --enable-gpl --enable-libx264 --enable-libx265 --enable-libaom --enable-libsvtav1 --enable-libxml2 --enable-pic --enable-shared --disable-static --enable-version3 --enable-zlib --pkg-config=/home/conda/feedstock_root/build_artifacts/ffmpeg_1666357487580/_build_env/bin/pkg-config\n",
      "  libavutil      57. 28.100 / 57. 28.100\n",
      "  libavcodec     59. 37.100 / 59. 37.100\n",
      "  libavformat    59. 27.100 / 59. 27.100\n",
      "  libavdevice    59.  7.100 / 59.  7.100\n",
      "  libavfilter     8. 44.100 /  8. 44.100\n",
      "  libswscale      6.  7.100 /  6.  7.100\n",
      "  libswresample   4.  7.100 /  4.  7.100\n",
      "  libpostproc    56.  6.100 / 56.  6.100\n",
      "[image2 @ 0x557d7262c640] Pattern type 'glob_sequence' is deprecated: use pattern_type 'glob' instead\n",
      "Input #0, image2, from '/home/irmak/Workspace/Holo-Bot/extracted_data/gum_opening/demonstration_16/visualization/%*.png':\n",
      "  Duration: 00:00:01.88, start: 0.000000, bitrate: N/A\n",
      "  Stream #0:0: Video: png, rgba(pc), 2000x2000 [SAR 3937:3937 DAR 1:1], 25 fps, 25 tbr, 25 tbn\n",
      "Stream mapping:\n",
      "  Stream #0:0 -> #0:0 (png (native) -> h264 (libx264))\n",
      "Press [q] to stop, [?] for help\n"
     ]
    },
    {
     "name": "stdout",
     "output_type": "stream",
     "text": [
      "dumping video in root: /home/irmak/Workspace/Holo-Bot/extracted_data/gum_opening/demonstration_16\n"
     ]
    },
    {
     "name": "stderr",
     "output_type": "stream",
     "text": [
      "[libx264 @ 0x557d72633a40] using SAR=1/1\n",
      "[libx264 @ 0x557d72633a40] using cpu capabilities: MMX2 SSE2Fast SSSE3 SSE4.2 AVX FMA3 BMI2 AVX2\n",
      "[libx264 @ 0x557d72633a40] profile High 4:4:4 Predictive, level 4.0, 4:4:4, 8-bit\n",
      "[libx264 @ 0x557d72633a40] 264 - core 164 r3095 baee400 - H.264/MPEG-4 AVC codec - Copyleft 2003-2022 - http://www.videolan.org/x264.html - options: cabac=1 ref=3 deblock=1:0:0 analyse=0x3:0x113 me=hex subme=7 psy=1 psy_rd=1.00:0.00 mixed_ref=1 me_range=16 chroma_me=1 trellis=1 8x8dct=1 cqm=0 deadzone=21,11 fast_pskip=1 chroma_qp_offset=4 threads=22 lookahead_threads=3 sliced_threads=0 nr=0 decimate=1 interlaced=0 bluray_compat=0 constrained_intra=0 bframes=3 b_pyramid=2 b_adapt=1 b_bias=0 direct=1 weightb=1 open_gop=0 weightp=2 keyint=250 keyint_min=10 scenecut=40 intra_refresh=0 rc_lookahead=40 rc=crf mbtree=1 crf=23.0 qcomp=0.60 qpmin=0 qpmax=69 qpstep=4 ip_ratio=1.40 aq=1:1.00\n",
      "Output #0, mp4, to '/home/irmak/Workspace/Holo-Bot/extracted_data/gum_opening/demonstration_16/visualization_0.mp4':\n",
      "  Metadata:\n",
      "    encoder         : Lavf59.27.100\n",
      "  Stream #0:0: Video: h264 (avc1 / 0x31637661), yuv444p(tv, progressive), 2000x720 [SAR 1:1 DAR 25:9], q=2-31, 10 fps, 10240 tbn\n",
      "    Metadata:\n",
      "      encoder         : Lavc59.37.100 libx264\n",
      "    Side data:\n",
      "      cpb: bitrate max/min/avg: 0/0/0 buffer size: 0 vbv_delay: N/A\n",
      "frame=   47 fps=0.0 q=-1.0 Lsize=    1374kB time=00:00:04.40 bitrate=2558.5kbits/s speed=4.47x    \n",
      "video:1373kB audio:0kB subtitle:0kB other streams:0kB global headers:0kB muxing overhead: 0.103645%\n",
      "[libx264 @ 0x557d72633a40] frame I:1     Avg QP:22.69  size: 49598\n",
      "[libx264 @ 0x557d72633a40] frame P:12    Avg QP:20.20  size: 50570\n",
      "[libx264 @ 0x557d72633a40] frame B:34    Avg QP:22.22  size: 22019\n",
      "[libx264 @ 0x557d72633a40] consecutive B-frames:  2.1%  4.3%  0.0% 93.6%\n",
      "[libx264 @ 0x557d72633a40] mb I  I16..4: 29.9% 42.3% 27.8%\n",
      "[libx264 @ 0x557d72633a40] mb P  I16..4:  2.5% 25.7%  1.6%  P16..4: 21.5% 12.0%  7.6%  0.0%  0.0%    skip:29.0%\n",
      "[libx264 @ 0x557d72633a40] mb B  I16..4:  0.5%  9.0%  0.2%  B16..8: 26.5%  6.5%  1.9%  direct: 4.9%  skip:50.6%  L0:46.8% L1:45.4% BI: 7.8%\n",
      "[libx264 @ 0x557d72633a40] 8x8 transform intra:83.6% inter:84.5%\n",
      "[libx264 @ 0x557d72633a40] coded y,u,v intra: 69.6% 35.6% 33.5% inter: 22.1% 12.5% 11.4%\n",
      "[libx264 @ 0x557d72633a40] i16 v,h,dc,p: 44% 32% 12% 11%\n",
      "[libx264 @ 0x557d72633a40] i8 v,h,dc,ddl,ddr,vr,hd,vl,hu: 13% 19% 53%  3%  2%  2%  2%  3%  4%\n",
      "[libx264 @ 0x557d72633a40] i4 v,h,dc,ddl,ddr,vr,hd,vl,hu: 34% 33% 15%  2%  3%  3%  4%  3%  4%\n",
      "[libx264 @ 0x557d72633a40] Weighted P-Frames: Y:0.0% UV:0.0%\n",
      "[libx264 @ 0x557d72633a40] ref P L0: 36.8%  9.3% 33.3% 20.7%\n",
      "[libx264 @ 0x557d72633a40] ref B L0: 66.4% 26.7%  6.9%\n",
      "[libx264 @ 0x557d72633a40] ref B L1: 87.4% 12.6%\n",
      "[libx264 @ 0x557d72633a40] kb/s:2391.61\n",
      "ffmpeg version 5.1.2 Copyright (c) 2000-2022 the FFmpeg developers\n",
      "  built with gcc 10.4.0 (conda-forge gcc 10.4.0-18)\n",
      "  configuration: --prefix=/home/irmak/miniconda3/envs/tactile_learning --cc=/home/conda/feedstock_root/build_artifacts/ffmpeg_1666357487580/_build_env/bin/x86_64-conda-linux-gnu-cc --cxx=/home/conda/feedstock_root/build_artifacts/ffmpeg_1666357487580/_build_env/bin/x86_64-conda-linux-gnu-c++ --nm=/home/conda/feedstock_root/build_artifacts/ffmpeg_1666357487580/_build_env/bin/x86_64-conda-linux-gnu-nm --ar=/home/conda/feedstock_root/build_artifacts/ffmpeg_1666357487580/_build_env/bin/x86_64-conda-linux-gnu-ar --disable-doc --disable-openssl --enable-demuxer=dash --enable-hardcoded-tables --enable-libfreetype --enable-libfontconfig --enable-libopenh264 --enable-gnutls --enable-libmp3lame --enable-libvpx --enable-pthreads --enable-vaapi --enable-gpl --enable-libx264 --enable-libx265 --enable-libaom --enable-libsvtav1 --enable-libxml2 --enable-pic --enable-shared --disable-static --enable-version3 --enable-zlib --pkg-config=/home/conda/feedstock_root/build_artifacts/ffmpeg_1666357487580/_build_env/bin/pkg-config\n",
      "  libavutil      57. 28.100 / 57. 28.100\n",
      "  libavcodec     59. 37.100 / 59. 37.100\n",
      "  libavformat    59. 27.100 / 59. 27.100\n",
      "  libavdevice    59.  7.100 / 59.  7.100\n",
      "  libavfilter     8. 44.100 /  8. 44.100\n",
      "  libswscale      6.  7.100 /  6.  7.100\n",
      "  libswresample   4.  7.100 /  4.  7.100\n",
      "  libpostproc    56.  6.100 / 56.  6.100\n",
      "[image2 @ 0x562c93e0b640] Pattern type 'glob_sequence' is deprecated: use pattern_type 'glob' instead\n",
      "Input #0, image2, from '/home/irmak/Workspace/Holo-Bot/extracted_data/gum_opening/demonstration_11/visualization/%*.png':\n",
      "  Duration: 00:00:01.28, start: 0.000000, bitrate: N/A\n",
      "  Stream #0:0: Video: png, rgba(pc), 2000x2000 [SAR 3937:3937 DAR 1:1], 25 fps, 25 tbr, 25 tbn\n",
      "Stream mapping:\n",
      "  Stream #0:0 -> #0:0 (png (native) -> h264 (libx264))\n",
      "Press [q] to stop, [?] for help\n"
     ]
    },
    {
     "name": "stdout",
     "output_type": "stream",
     "text": [
      "dumping video in root: /home/irmak/Workspace/Holo-Bot/extracted_data/gum_opening/demonstration_11\n"
     ]
    },
    {
     "name": "stderr",
     "output_type": "stream",
     "text": [
      "[libx264 @ 0x562c93e12780] using SAR=1/1\n",
      "[libx264 @ 0x562c93e12780] using cpu capabilities: MMX2 SSE2Fast SSSE3 SSE4.2 AVX FMA3 BMI2 AVX2\n",
      "[libx264 @ 0x562c93e12780] profile High 4:4:4 Predictive, level 4.0, 4:4:4, 8-bit\n",
      "[libx264 @ 0x562c93e12780] 264 - core 164 r3095 baee400 - H.264/MPEG-4 AVC codec - Copyleft 2003-2022 - http://www.videolan.org/x264.html - options: cabac=1 ref=3 deblock=1:0:0 analyse=0x3:0x113 me=hex subme=7 psy=1 psy_rd=1.00:0.00 mixed_ref=1 me_range=16 chroma_me=1 trellis=1 8x8dct=1 cqm=0 deadzone=21,11 fast_pskip=1 chroma_qp_offset=4 threads=22 lookahead_threads=3 sliced_threads=0 nr=0 decimate=1 interlaced=0 bluray_compat=0 constrained_intra=0 bframes=3 b_pyramid=2 b_adapt=1 b_bias=0 direct=1 weightb=1 open_gop=0 weightp=2 keyint=250 keyint_min=10 scenecut=40 intra_refresh=0 rc_lookahead=40 rc=crf mbtree=1 crf=23.0 qcomp=0.60 qpmin=0 qpmax=69 qpstep=4 ip_ratio=1.40 aq=1:1.00\n",
      "Output #0, mp4, to '/home/irmak/Workspace/Holo-Bot/extracted_data/gum_opening/demonstration_11/visualization_0.mp4':\n",
      "  Metadata:\n",
      "    encoder         : Lavf59.27.100\n",
      "  Stream #0:0: Video: h264 (avc1 / 0x31637661), yuv444p(tv, progressive), 2000x720 [SAR 1:1 DAR 25:9], q=2-31, 10 fps, 10240 tbn\n",
      "    Metadata:\n",
      "      encoder         : Lavc59.37.100 libx264\n",
      "    Side data:\n",
      "      cpb: bitrate max/min/avg: 0/0/0 buffer size: 0 vbv_delay: N/A\n",
      "frame=   32 fps=0.0 q=-1.0 Lsize=    1030kB time=00:00:02.90 bitrate=2909.6kbits/s speed=3.48x    \n",
      "video:1029kB audio:0kB subtitle:0kB other streams:0kB global headers:0kB muxing overhead: 0.120458%\n",
      "[libx264 @ 0x562c93e12780] frame I:1     Avg QP:23.26  size: 50156\n",
      "[libx264 @ 0x562c93e12780] frame P:8     Avg QP:20.54  size: 53812\n",
      "[libx264 @ 0x562c93e12780] frame B:23    Avg QP:22.12  size: 24876\n",
      "[libx264 @ 0x562c93e12780] consecutive B-frames:  3.1%  0.0%  9.4% 87.5%\n",
      "[libx264 @ 0x562c93e12780] mb I  I16..4: 27.2% 44.4% 28.4%\n",
      "[libx264 @ 0x562c93e12780] mb P  I16..4:  2.4% 24.3%  2.1%  P16..4: 22.3% 13.4%  8.1%  0.0%  0.0%    skip:27.4%\n",
      "[libx264 @ 0x562c93e12780] mb B  I16..4:  0.4%  9.8%  0.2%  B16..8: 26.1%  6.7%  2.1%  direct: 5.3%  skip:49.4%  L0:46.8% L1:45.3% BI: 7.9%\n",
      "[libx264 @ 0x562c93e12780] 8x8 transform intra:81.3% inter:84.5%\n",
      "[libx264 @ 0x562c93e12780] coded y,u,v intra: 69.6% 37.2% 35.7% inter: 23.7% 13.9% 12.5%\n",
      "[libx264 @ 0x562c93e12780] i16 v,h,dc,p: 49% 35%  8%  8%\n",
      "[libx264 @ 0x562c93e12780] i8 v,h,dc,ddl,ddr,vr,hd,vl,hu: 13% 17% 54%  3%  2%  2%  2%  3%  4%\n",
      "[libx264 @ 0x562c93e12780] i4 v,h,dc,ddl,ddr,vr,hd,vl,hu: 38% 33% 13%  2%  2%  2%  4%  2%  3%\n",
      "[libx264 @ 0x562c93e12780] Weighted P-Frames: Y:0.0% UV:0.0%\n",
      "[libx264 @ 0x562c93e12780] ref P L0: 37.0%  8.2% 33.9% 20.9%\n",
      "[libx264 @ 0x562c93e12780] ref B L0: 67.7% 25.0%  7.3%\n",
      "[libx264 @ 0x562c93e12780] ref B L1: 86.9% 13.1%\n",
      "[libx264 @ 0x562c93e12780] kb/s:2631.98\n",
      "ffmpeg version 5.1.2 Copyright (c) 2000-2022 the FFmpeg developers\n",
      "  built with gcc 10.4.0 (conda-forge gcc 10.4.0-18)\n",
      "  configuration: --prefix=/home/irmak/miniconda3/envs/tactile_learning --cc=/home/conda/feedstock_root/build_artifacts/ffmpeg_1666357487580/_build_env/bin/x86_64-conda-linux-gnu-cc --cxx=/home/conda/feedstock_root/build_artifacts/ffmpeg_1666357487580/_build_env/bin/x86_64-conda-linux-gnu-c++ --nm=/home/conda/feedstock_root/build_artifacts/ffmpeg_1666357487580/_build_env/bin/x86_64-conda-linux-gnu-nm --ar=/home/conda/feedstock_root/build_artifacts/ffmpeg_1666357487580/_build_env/bin/x86_64-conda-linux-gnu-ar --disable-doc --disable-openssl --enable-demuxer=dash --enable-hardcoded-tables --enable-libfreetype --enable-libfontconfig --enable-libopenh264 --enable-gnutls --enable-libmp3lame --enable-libvpx --enable-pthreads --enable-vaapi --enable-gpl --enable-libx264 --enable-libx265 --enable-libaom --enable-libsvtav1 --enable-libxml2 --enable-pic --enable-shared --disable-static --enable-version3 --enable-zlib --pkg-config=/home/conda/feedstock_root/build_artifacts/ffmpeg_1666357487580/_build_env/bin/pkg-config\n",
      "  libavutil      57. 28.100 / 57. 28.100\n",
      "  libavcodec     59. 37.100 / 59. 37.100\n",
      "  libavformat    59. 27.100 / 59. 27.100\n",
      "  libavdevice    59.  7.100 / 59.  7.100\n",
      "  libavfilter     8. 44.100 /  8. 44.100\n",
      "  libswscale      6.  7.100 /  6.  7.100\n",
      "  libswresample   4.  7.100 /  4.  7.100\n",
      "  libpostproc    56.  6.100 / 56.  6.100\n",
      "[image2 @ 0x564df9b24640] Pattern type 'glob_sequence' is deprecated: use pattern_type 'glob' instead\n",
      "Input #0, image2, from '/home/irmak/Workspace/Holo-Bot/extracted_data/gum_opening/demonstration_7/visualization/%*.png':\n",
      "  Duration: 00:00:01.12, start: 0.000000, bitrate: N/A\n",
      "  Stream #0:0: Video: png, rgba(pc), 2000x2000 [SAR 3937:3937 DAR 1:1], 25 fps, 25 tbr, 25 tbn\n",
      "Stream mapping:\n",
      "  Stream #0:0 -> #0:0 (png (native) -> h264 (libx264))\n",
      "Press [q] to stop, [?] for help\n"
     ]
    },
    {
     "name": "stdout",
     "output_type": "stream",
     "text": [
      "dumping video in root: /home/irmak/Workspace/Holo-Bot/extracted_data/gum_opening/demonstration_7\n"
     ]
    },
    {
     "name": "stderr",
     "output_type": "stream",
     "text": [
      "[libx264 @ 0x564df9b2b5c0] using SAR=1/1\n",
      "[libx264 @ 0x564df9b2b5c0] using cpu capabilities: MMX2 SSE2Fast SSSE3 SSE4.2 AVX FMA3 BMI2 AVX2\n",
      "[libx264 @ 0x564df9b2b5c0] profile High 4:4:4 Predictive, level 4.0, 4:4:4, 8-bit\n",
      "[libx264 @ 0x564df9b2b5c0] 264 - core 164 r3095 baee400 - H.264/MPEG-4 AVC codec - Copyleft 2003-2022 - http://www.videolan.org/x264.html - options: cabac=1 ref=3 deblock=1:0:0 analyse=0x3:0x113 me=hex subme=7 psy=1 psy_rd=1.00:0.00 mixed_ref=1 me_range=16 chroma_me=1 trellis=1 8x8dct=1 cqm=0 deadzone=21,11 fast_pskip=1 chroma_qp_offset=4 threads=22 lookahead_threads=3 sliced_threads=0 nr=0 decimate=1 interlaced=0 bluray_compat=0 constrained_intra=0 bframes=3 b_pyramid=2 b_adapt=1 b_bias=0 direct=1 weightb=1 open_gop=0 weightp=2 keyint=250 keyint_min=10 scenecut=40 intra_refresh=0 rc_lookahead=40 rc=crf mbtree=1 crf=23.0 qcomp=0.60 qpmin=0 qpmax=69 qpstep=4 ip_ratio=1.40 aq=1:1.00\n",
      "Output #0, mp4, to '/home/irmak/Workspace/Holo-Bot/extracted_data/gum_opening/demonstration_7/visualization_0.mp4':\n",
      "  Metadata:\n",
      "    encoder         : Lavf59.27.100\n",
      "  Stream #0:0: Video: h264 (avc1 / 0x31637661), yuv444p(tv, progressive), 2000x720 [SAR 1:1 DAR 25:9], q=2-31, 10 fps, 10240 tbn\n",
      "    Metadata:\n",
      "      encoder         : Lavc59.37.100 libx264\n",
      "    Side data:\n",
      "      cpb: bitrate max/min/avg: 0/0/0 buffer size: 0 vbv_delay: N/A\n",
      "frame=   28 fps=0.0 q=-1.0 Lsize=     843kB time=00:00:02.50 bitrate=2763.8kbits/s speed=   3x    \n",
      "video:842kB audio:0kB subtitle:0kB other streams:0kB global headers:0kB muxing overhead: 0.139705%\n",
      "[libx264 @ 0x564df9b2b5c0] frame I:1     Avg QP:23.35  size: 50146\n",
      "[libx264 @ 0x564df9b2b5c0] frame P:7     Avg QP:20.57  size: 51331\n",
      "[libx264 @ 0x564df9b2b5c0] frame B:20    Avg QP:22.10  size: 22619\n",
      "[libx264 @ 0x564df9b2b5c0] consecutive B-frames:  3.6%  0.0% 10.7% 85.7%\n",
      "[libx264 @ 0x564df9b2b5c0] mb I  I16..4: 27.3% 44.2% 28.6%\n",
      "[libx264 @ 0x564df9b2b5c0] mb P  I16..4:  3.0% 28.7%  2.4%  P16..4: 19.8% 10.7%  6.8%  0.0%  0.0%    skip:28.6%\n",
      "[libx264 @ 0x564df9b2b5c0] mb B  I16..4:  0.5% 10.6%  0.2%  B16..8: 24.3%  6.2%  1.9%  direct: 5.1%  skip:51.1%  L0:44.2% L1:47.7% BI: 8.1%\n",
      "[libx264 @ 0x564df9b2b5c0] 8x8 transform intra:80.8% inter:83.4%\n",
      "[libx264 @ 0x564df9b2b5c0] coded y,u,v intra: 66.6% 34.5% 32.6% inter: 21.3% 12.0% 11.2%\n",
      "[libx264 @ 0x564df9b2b5c0] i16 v,h,dc,p: 42% 37%  9% 11%\n",
      "[libx264 @ 0x564df9b2b5c0] i8 v,h,dc,ddl,ddr,vr,hd,vl,hu: 14% 20% 50%  3%  2%  2%  2%  3%  4%\n",
      "[libx264 @ 0x564df9b2b5c0] i4 v,h,dc,ddl,ddr,vr,hd,vl,hu: 37% 34% 13%  2%  2%  2%  4%  2%  3%\n",
      "[libx264 @ 0x564df9b2b5c0] Weighted P-Frames: Y:0.0% UV:0.0%\n",
      "[libx264 @ 0x564df9b2b5c0] ref P L0: 39.4%  7.8% 32.9% 19.8%\n",
      "[libx264 @ 0x564df9b2b5c0] ref B L0: 69.6% 24.0%  6.4%\n",
      "[libx264 @ 0x564df9b2b5c0] ref B L1: 88.7% 11.3%\n",
      "[libx264 @ 0x564df9b2b5c0] kb/s:2462.40\n",
      "ffmpeg version 5.1.2 Copyright (c) 2000-2022 the FFmpeg developers\n",
      "  built with gcc 10.4.0 (conda-forge gcc 10.4.0-18)\n",
      "  configuration: --prefix=/home/irmak/miniconda3/envs/tactile_learning --cc=/home/conda/feedstock_root/build_artifacts/ffmpeg_1666357487580/_build_env/bin/x86_64-conda-linux-gnu-cc --cxx=/home/conda/feedstock_root/build_artifacts/ffmpeg_1666357487580/_build_env/bin/x86_64-conda-linux-gnu-c++ --nm=/home/conda/feedstock_root/build_artifacts/ffmpeg_1666357487580/_build_env/bin/x86_64-conda-linux-gnu-nm --ar=/home/conda/feedstock_root/build_artifacts/ffmpeg_1666357487580/_build_env/bin/x86_64-conda-linux-gnu-ar --disable-doc --disable-openssl --enable-demuxer=dash --enable-hardcoded-tables --enable-libfreetype --enable-libfontconfig --enable-libopenh264 --enable-gnutls --enable-libmp3lame --enable-libvpx --enable-pthreads --enable-vaapi --enable-gpl --enable-libx264 --enable-libx265 --enable-libaom --enable-libsvtav1 --enable-libxml2 --enable-pic --enable-shared --disable-static --enable-version3 --enable-zlib --pkg-config=/home/conda/feedstock_root/build_artifacts/ffmpeg_1666357487580/_build_env/bin/pkg-config\n",
      "  libavutil      57. 28.100 / 57. 28.100\n",
      "  libavcodec     59. 37.100 / 59. 37.100\n",
      "  libavformat    59. 27.100 / 59. 27.100\n",
      "  libavdevice    59.  7.100 / 59.  7.100\n",
      "  libavfilter     8. 44.100 /  8. 44.100\n",
      "  libswscale      6.  7.100 /  6.  7.100\n",
      "  libswresample   4.  7.100 /  4.  7.100\n",
      "  libpostproc    56.  6.100 / 56.  6.100\n",
      "[image2 @ 0x55df07b6a640] Pattern type 'glob_sequence' is deprecated: use pattern_type 'glob' instead\n",
      "Input #0, image2, from '/home/irmak/Workspace/Holo-Bot/extracted_data/gum_opening/demonstration_5/visualization/%*.png':\n",
      "  Duration: 00:00:01.00, start: 0.000000, bitrate: N/A\n",
      "  Stream #0:0: Video: png, rgba(pc), 2000x2000 [SAR 3937:3937 DAR 1:1], 25 fps, 25 tbr, 25 tbn\n",
      "Stream mapping:\n",
      "  Stream #0:0 -> #0:0 (png (native) -> h264 (libx264))\n",
      "Press [q] to stop, [?] for help\n"
     ]
    },
    {
     "name": "stdout",
     "output_type": "stream",
     "text": [
      "dumping video in root: /home/irmak/Workspace/Holo-Bot/extracted_data/gum_opening/demonstration_5\n"
     ]
    },
    {
     "name": "stderr",
     "output_type": "stream",
     "text": [
      "[libx264 @ 0x55df07b71a00] using SAR=1/1\n",
      "[libx264 @ 0x55df07b71a00] using cpu capabilities: MMX2 SSE2Fast SSSE3 SSE4.2 AVX FMA3 BMI2 AVX2\n",
      "[libx264 @ 0x55df07b71a00] profile High 4:4:4 Predictive, level 4.0, 4:4:4, 8-bit\n",
      "[libx264 @ 0x55df07b71a00] 264 - core 164 r3095 baee400 - H.264/MPEG-4 AVC codec - Copyleft 2003-2022 - http://www.videolan.org/x264.html - options: cabac=1 ref=3 deblock=1:0:0 analyse=0x3:0x113 me=hex subme=7 psy=1 psy_rd=1.00:0.00 mixed_ref=1 me_range=16 chroma_me=1 trellis=1 8x8dct=1 cqm=0 deadzone=21,11 fast_pskip=1 chroma_qp_offset=4 threads=22 lookahead_threads=3 sliced_threads=0 nr=0 decimate=1 interlaced=0 bluray_compat=0 constrained_intra=0 bframes=3 b_pyramid=2 b_adapt=1 b_bias=0 direct=1 weightb=1 open_gop=0 weightp=2 keyint=250 keyint_min=10 scenecut=40 intra_refresh=0 rc_lookahead=40 rc=crf mbtree=1 crf=23.0 qcomp=0.60 qpmin=0 qpmax=69 qpstep=4 ip_ratio=1.40 aq=1:1.00\n",
      "Output #0, mp4, to '/home/irmak/Workspace/Holo-Bot/extracted_data/gum_opening/demonstration_5/visualization_0.mp4':\n",
      "  Metadata:\n",
      "    encoder         : Lavf59.27.100\n",
      "  Stream #0:0: Video: h264 (avc1 / 0x31637661), yuv444p(tv, progressive), 2000x720 [SAR 1:1 DAR 25:9], q=2-31, 10 fps, 10240 tbn\n",
      "    Metadata:\n",
      "      encoder         : Lavc59.37.100 libx264\n",
      "    Side data:\n",
      "      cpb: bitrate max/min/avg: 0/0/0 buffer size: 0 vbv_delay: N/A\n",
      "frame=   25 fps=0.0 q=-1.0 Lsize=     776kB time=00:00:02.20 bitrate=2888.5kbits/s speed= 2.9x    \n",
      "video:775kB audio:0kB subtitle:0kB other streams:0kB global headers:0kB muxing overhead: 0.148388%\n",
      "[libx264 @ 0x55df07b71a00] frame I:1     Avg QP:23.34  size: 49086\n",
      "[libx264 @ 0x55df07b71a00] frame P:6     Avg QP:20.73  size: 54493\n",
      "[libx264 @ 0x55df07b71a00] frame B:18    Avg QP:21.92  size: 23137\n",
      "[libx264 @ 0x55df07b71a00] consecutive B-frames:  4.0%  0.0%  0.0% 96.0%\n",
      "[libx264 @ 0x55df07b71a00] mb I  I16..4: 27.1% 44.6% 28.2%\n",
      "[libx264 @ 0x55df07b71a00] mb P  I16..4:  3.2% 31.5%  2.7%  P16..4: 18.8% 11.0%  6.7%  0.0%  0.0%    skip:26.0%\n",
      "[libx264 @ 0x55df07b71a00] mb B  I16..4:  0.5% 11.7%  0.3%  B16..8: 24.1%  5.9%  1.8%  direct: 4.8%  skip:51.0%  L0:45.0% L1:47.4% BI: 7.6%\n",
      "[libx264 @ 0x55df07b71a00] 8x8 transform intra:80.7% inter:83.4%\n",
      "[libx264 @ 0x55df07b71a00] coded y,u,v intra: 67.3% 33.7% 32.4% inter: 20.7% 11.8% 11.0%\n",
      "[libx264 @ 0x55df07b71a00] i16 v,h,dc,p: 45% 37%  9%  9%\n",
      "[libx264 @ 0x55df07b71a00] i8 v,h,dc,ddl,ddr,vr,hd,vl,hu: 15% 21% 50%  3%  2%  2%  2%  3%  4%\n",
      "[libx264 @ 0x55df07b71a00] i4 v,h,dc,ddl,ddr,vr,hd,vl,hu: 38% 32% 13%  2%  2%  2%  4%  2%  4%\n",
      "[libx264 @ 0x55df07b71a00] Weighted P-Frames: Y:0.0% UV:0.0%\n",
      "[libx264 @ 0x55df07b71a00] ref P L0: 42.1%  9.3% 30.0% 18.7%\n",
      "[libx264 @ 0x55df07b71a00] ref B L0: 70.1% 24.0%  5.9%\n",
      "[libx264 @ 0x55df07b71a00] ref B L1: 88.2% 11.8%\n",
      "[libx264 @ 0x55df07b71a00] kb/s:2536.01\n"
     ]
    }
   ],
   "source": [
    "# Turn the images to a video and delete the directory\n",
    "video_fps = 10\n",
    "for root in roots:\n",
    "    print('dumping video in root: {}'.format(root))\n",
    "    video_path = os.path.join(root, f'visualization_{view_num}.mp4')\n",
    "    if os.path.exists(video_path):\n",
    "        os.remove(video_path)\n",
    "    viz_dir = os.path.join(root, 'visualization')\n",
    "    os.system('ffmpeg -r {} -i {}/%*.png -vf scale=2000x720,setsar=1:1 {}'.format(\n",
    "        video_fps, # fps\n",
    "        viz_dir,\n",
    "        video_path\n",
    "    ))\n"
   ]
  },
  {
   "cell_type": "code",
   "execution_count": 11,
   "metadata": {},
   "outputs": [],
   "source": [
    "# Remove the img directory\n",
    "\n",
    "for root in roots:\n",
    "    viz_dir = os.path.join(root, 'visualization')\n",
    "    shutil.rmtree(viz_dir)\n"
   ]
  },
  {
   "cell_type": "code",
   "execution_count": null,
   "metadata": {},
   "outputs": [],
   "source": []
  }
 ],
 "metadata": {
  "kernelspec": {
   "display_name": "Python 3 (ipykernel)",
   "language": "python",
   "name": "python3"
  },
  "language_info": {
   "codemirror_mode": {
    "name": "ipython",
    "version": 3
   },
   "file_extension": ".py",
   "mimetype": "text/x-python",
   "name": "python",
   "nbconvert_exporter": "python",
   "pygments_lexer": "ipython3",
   "version": "3.9.13"
  },
  "vscode": {
   "interpreter": {
    "hash": "36852de55b288c46ba617fd48cf310240e4201e2f57004cbdac030fa23152bd3"
   }
  }
 },
 "nbformat": 4,
 "nbformat_minor": 4
}
