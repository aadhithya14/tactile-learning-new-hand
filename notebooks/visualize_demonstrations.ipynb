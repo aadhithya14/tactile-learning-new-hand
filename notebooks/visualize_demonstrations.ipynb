{
 "cells": [
  {
   "cell_type": "code",
   "execution_count": 16,
   "metadata": {},
   "outputs": [],
   "source": [
    "import cv2\n",
    "import h5py\n",
    "import matplotlib.pyplot as plt\n",
    "import numpy as np\n",
    "import os\n",
    "import pickle\n",
    "import shutil\n",
    "\n",
    "from tqdm import tqdm"
   ]
  },
  {
   "cell_type": "code",
   "execution_count": 17,
   "metadata": {},
   "outputs": [],
   "source": [
    "# Script to visualize demonstrations according to the timestamps\n",
    "# First get the first timestamp of the xela sensor\n",
    "# Then with given fps given get image frames - find closest tactile and image observations"
   ]
  },
  {
   "cell_type": "code",
   "execution_count": 18,
   "metadata": {},
   "outputs": [],
   "source": [
    "from tactile_learning.datasets.preprocess import dump_video_to_images, get_closest_id\n",
    "from tactile_learning.utils.visualization import plot_tactile_sensor"
   ]
  },
  {
   "cell_type": "code",
   "execution_count": 19,
   "metadata": {},
   "outputs": [],
   "source": [
    "# Get the metadata of images and tactile information\n",
    "def get_desired_indices(root, fps): # frames per second from the video to receive\n",
    "    image_metadata_path = os.path.join(root, 'cam_0_rgb_video.metadata')\n",
    "    tactile_info_path = os.path.join(root, 'touch_sensor_values.h5')\n",
    "\n",
    "    with open(image_metadata_path, 'rb') as f:\n",
    "        image_metadata = pickle.load(f)\n",
    "        image_timestamps = np.asarray(image_metadata['timestamps']) / 1000.\n",
    "    with h5py.File(tactile_info_path, 'r') as f:\n",
    "        tactile_timestamps = f['timestamps'][()]\n",
    "\n",
    "    image_id, tactile_id = 0, 0\n",
    "    curr_timestamp = tactile_timestamps[0] # These timestamps are in seconds\n",
    "    image_id = get_closest_id(image_id, curr_timestamp, image_timestamps)\n",
    "\n",
    "    tactile_indices, image_indices = [], []\n",
    "    tactile_indices.append(tactile_id)\n",
    "    image_indices.append(image_id)\n",
    "\n",
    "    frame_period = 1. / fps\n",
    "    while(True):\n",
    "        curr_timestamp += frame_period\n",
    "        tactile_id = get_closest_id(tactile_id, curr_timestamp, tactile_timestamps)\n",
    "        image_id = get_closest_id(image_id, curr_timestamp, image_timestamps)\n",
    "        # print('tactile_timestamps[{}]: {}, image_timestamps[{}]: {}'.format(\n",
    "        #     tactile_id, tactile_timestamps[tactile_id], image_id, image_timestamps[image_id]\n",
    "        # ))\n",
    "\n",
    "        if curr_timestamp > tactile_timestamps[tactile_id] and curr_timestamp > image_timestamps[image_id]:\n",
    "            break\n",
    "\n",
    "        tactile_indices.append(tactile_id)\n",
    "        image_indices.append(image_id)\n",
    "\n",
    "    assert len(tactile_indices) == len(image_indices)\n",
    "    return tactile_indices, image_indices\n",
    "\n",
    "    # print('tactile_indices: {}, image_indices: {}'.format(tactile_indices, image_indices))"
   ]
  },
  {
   "cell_type": "code",
   "execution_count": 20,
   "metadata": {},
   "outputs": [],
   "source": [
    "\n",
    "def dump_states(root, tactile_indices, image_indices):\n",
    "    # Make directory to dump the visualization\n",
    "    pbar = tqdm(total=len(tactile_indices))\n",
    "\n",
    "    with h5py.File(os.path.join(root, 'touch_sensor_values.h5'), 'r') as f:\n",
    "        all_tactile_values = f['sensor_values'][()]\n",
    "\n",
    "    viz_dir = os.path.join(root, 'visualization')\n",
    "    os.makedirs(viz_dir, exist_ok=True)\n",
    "    \n",
    "    video_path = os.path.join(root, f'cam_0_rgb_video.avi')\n",
    "    vidcap = cv2.VideoCapture(video_path)\n",
    "    success, image = vidcap.read()\n",
    "    frame_count = int(vidcap.get(cv2.CAP_PROP_FRAME_COUNT))\n",
    "    frame_id = 0\n",
    "    for i in range(len(tactile_indices)):\n",
    "        tactile_id, image_id = tactile_indices[i], image_indices[i]\n",
    "        while frame_id != image_id and success:\n",
    "            # Find the frame that is equal to image_id\n",
    "            success, image = vidcap.read()\n",
    "            frame_id += 1\n",
    "        dump_demo_state(\n",
    "            frame_id = i,\n",
    "            viz_dir = viz_dir,\n",
    "            tactile_values = all_tactile_values[tactile_id,:,:,:],\n",
    "            camera_img = image\n",
    "        )\n",
    "\n",
    "        pbar.update(1)\n",
    "\n",
    "    pbar.close()\n",
    "\n",
    "        # break\n",
    "        # if i > 10:\n",
    "        #     break\n",
    "\n",
    "\n",
    "def dump_demo_state(frame_id, viz_dir, tactile_values, camera_img):\n",
    "    # tactile_values: (15,16,3)\n",
    "    # print('tactile_values.shape: {}'.format(tactile_values.shape))\n",
    "\n",
    "    fig, axs = plt.subplots(figsize=(20,20), nrows=4, ncols=4)\n",
    "    for row_id in range(4):\n",
    "        for column_id in range(4):\n",
    "            if row_id + column_id > 0: # The top left axis should stay empty\n",
    "                plot_tactile_sensor(\n",
    "                    ax = axs[column_id][row_id],\n",
    "                    sensor_values = tactile_values[row_id*4 + column_id-1],\n",
    "                    title = f'Sensor {row_id*4+column_id-1}'\n",
    "                )\n",
    "    fig.suptitle('Tactile State')\n",
    "    fig.savefig(os.path.join(viz_dir, 'Tactile State.png'))\n",
    "    # cv2.imwrite(os.path.join(viz_dir, 'Camera Image.png', image))\n",
    "    fig.clf()\n",
    "    plt.close()\n",
    "\n",
    "    tactile_img = cv2.imread(os.path.join(viz_dir, 'Tactile State.png'))\n",
    "    height_scale = camera_img.shape[0] / tactile_img.shape[0]\n",
    "    tactile_img = cv2.resize(\n",
    "        tactile_img,\n",
    "        (int(tactile_img.shape[1] * height_scale),\n",
    "         int(tactile_img.shape[0] * height_scale))\n",
    "    )\n",
    "    total_img = cv2.hconcat([camera_img, tactile_img])\n",
    "\n",
    "    img_name = 'state_{}.png'.format(str(frame_id).zfill(3))\n",
    "    cv2.imwrite(os.path.join(viz_dir, img_name), total_img)\n",
    "\n"
   ]
  },
  {
   "cell_type": "code",
   "execution_count": 25,
   "metadata": {},
   "outputs": [
    {
     "name": "stdout",
     "output_type": "stream",
     "text": [
      "root: /home/irmak/Workspace/Holo-Bot/extracted_data/both_robots/demonstration_new_box_opening_1\n"
     ]
    },
    {
     "name": "stderr",
     "output_type": "stream",
     "text": [
      "100%|██████████| 393/393 [07:08<00:00,  1.09s/it]\n"
     ]
    },
    {
     "name": "stdout",
     "output_type": "stream",
     "text": [
      "root: /home/irmak/Workspace/Holo-Bot/extracted_data/both_robots/demonstration_hammer_1\n"
     ]
    },
    {
     "name": "stderr",
     "output_type": "stream",
     "text": [
      "100%|██████████| 125/125 [02:15<00:00,  1.08s/it]\n"
     ]
    },
    {
     "name": "stdout",
     "output_type": "stream",
     "text": [
      "root: /home/irmak/Workspace/Holo-Bot/extracted_data/both_robots/demonstration_new_book_1\n"
     ]
    },
    {
     "name": "stderr",
     "output_type": "stream",
     "text": [
      "100%|██████████| 331/331 [06:05<00:00,  1.10s/it]\n"
     ]
    },
    {
     "name": "stdout",
     "output_type": "stream",
     "text": [
      "root: /home/irmak/Workspace/Holo-Bot/extracted_data/both_robots/demonstration_bottle_opening_1\n"
     ]
    },
    {
     "name": "stderr",
     "output_type": "stream",
     "text": [
      "100%|██████████| 565/565 [10:15<00:00,  1.09s/it]\n"
     ]
    },
    {
     "name": "stdout",
     "output_type": "stream",
     "text": [
      "root: /home/irmak/Workspace/Holo-Bot/extracted_data/both_robots/demonstration_new_reverse_peg_4\n"
     ]
    },
    {
     "name": "stderr",
     "output_type": "stream",
     "text": [
      "100%|██████████| 237/237 [04:23<00:00,  1.11s/it]\n"
     ]
    },
    {
     "name": "stdout",
     "output_type": "stream",
     "text": [
      "root: /home/irmak/Workspace/Holo-Bot/extracted_data/both_robots/demonstration_new_joystick_2\n"
     ]
    },
    {
     "name": "stderr",
     "output_type": "stream",
     "text": [
      "100%|██████████| 298/298 [05:29<00:00,  1.10s/it]\n"
     ]
    }
   ],
   "source": [
    "# root = '/home/irmak/Workspace/Holo-Bot/extracted_data/both_robots/demonstration_new_box_opening_1'\n",
    "roots = [\n",
    "    '/home/irmak/Workspace/Holo-Bot/extracted_data/both_robots/demonstration_new_box_opening_1',\n",
    "    '/home/irmak/Workspace/Holo-Bot/extracted_data/both_robots/demonstration_hammer_1',\n",
    "    '/home/irmak/Workspace/Holo-Bot/extracted_data/both_robots/demonstration_new_book_1',\n",
    "    '/home/irmak/Workspace/Holo-Bot/extracted_data/both_robots/demonstration_bottle_opening_1',\n",
    "    '/home/irmak/Workspace/Holo-Bot/extracted_data/both_robots/demonstration_new_reverse_peg_4',\n",
    "    '/home/irmak/Workspace/Holo-Bot/extracted_data/both_robots/demonstration_new_joystick_2'\n",
    "]\n",
    "\n",
    "retrieval_fps = 2\n",
    "for root in roots:\n",
    "    print('root: {}'.format(root))\n",
    "    tactile_indices, image_indices = get_desired_indices(root=root, fps=retrieval_fps)\n",
    "    dump_states(root, tactile_indices, image_indices)\n"
   ]
  },
  {
   "cell_type": "code",
   "execution_count": 27,
   "metadata": {},
   "outputs": [
    {
     "name": "stdout",
     "output_type": "stream",
     "text": [
      "dumping video in root: /home/irmak/Workspace/Holo-Bot/extracted_data/both_robots/demonstration_new_box_opening_1\n"
     ]
    },
    {
     "name": "stderr",
     "output_type": "stream",
     "text": [
      "ffmpeg version 5.1.2 Copyright (c) 2000-2022 the FFmpeg developers\n",
      "  built with gcc 10.4.0 (conda-forge gcc 10.4.0-18)\n",
      "  configuration: --prefix=/home/irmak/miniconda3/envs/tactile_learning --cc=/home/conda/feedstock_root/build_artifacts/ffmpeg_1666357487580/_build_env/bin/x86_64-conda-linux-gnu-cc --cxx=/home/conda/feedstock_root/build_artifacts/ffmpeg_1666357487580/_build_env/bin/x86_64-conda-linux-gnu-c++ --nm=/home/conda/feedstock_root/build_artifacts/ffmpeg_1666357487580/_build_env/bin/x86_64-conda-linux-gnu-nm --ar=/home/conda/feedstock_root/build_artifacts/ffmpeg_1666357487580/_build_env/bin/x86_64-conda-linux-gnu-ar --disable-doc --disable-openssl --enable-demuxer=dash --enable-hardcoded-tables --enable-libfreetype --enable-libfontconfig --enable-libopenh264 --enable-gnutls --enable-libmp3lame --enable-libvpx --enable-pthreads --enable-vaapi --enable-gpl --enable-libx264 --enable-libx265 --enable-libaom --enable-libsvtav1 --enable-libxml2 --enable-pic --enable-shared --disable-static --enable-version3 --enable-zlib --pkg-config=/home/conda/feedstock_root/build_artifacts/ffmpeg_1666357487580/_build_env/bin/pkg-config\n",
      "  libavutil      57. 28.100 / 57. 28.100\n",
      "  libavcodec     59. 37.100 / 59. 37.100\n",
      "  libavformat    59. 27.100 / 59. 27.100\n",
      "  libavdevice    59.  7.100 / 59.  7.100\n",
      "  libavfilter     8. 44.100 /  8. 44.100\n",
      "  libswscale      6.  7.100 /  6.  7.100\n",
      "  libswresample   4.  7.100 /  4.  7.100\n",
      "  libpostproc    56.  6.100 / 56.  6.100\n",
      "[image2 @ 0x558c25f9c640] Pattern type 'glob_sequence' is deprecated: use pattern_type 'glob' instead\n",
      "Input #0, image2, from '/home/irmak/Workspace/Holo-Bot/extracted_data/both_robots/demonstration_new_box_opening_1/visualization/%*.png':\n",
      "  Duration: 00:00:15.76, start: 0.000000, bitrate: N/A\n",
      "  Stream #0:0: Video: png, rgba(pc), 2000x2000 [SAR 3937:3937 DAR 1:1], 25 fps, 25 tbr, 25 tbn\n",
      "Stream mapping:\n",
      "  Stream #0:0 -> #0:0 (png (native) -> h264 (libx264))\n",
      "Press [q] to stop, [?] for help\n",
      "[libx264 @ 0x558c25fafb00] using SAR=1/1\n",
      "[libx264 @ 0x558c25fafb00] using cpu capabilities: MMX2 SSE2Fast SSSE3 SSE4.2 AVX FMA3 BMI2 AVX2\n",
      "[libx264 @ 0x558c25fafb00] profile High 4:4:4 Predictive, level 4.0, 4:4:4, 8-bit\n",
      "[libx264 @ 0x558c25fafb00] 264 - core 164 r3095 baee400 - H.264/MPEG-4 AVC codec - Copyleft 2003-2022 - http://www.videolan.org/x264.html - options: cabac=1 ref=3 deblock=1:0:0 analyse=0x3:0x113 me=hex subme=7 psy=1 psy_rd=1.00:0.00 mixed_ref=1 me_range=16 chroma_me=1 trellis=1 8x8dct=1 cqm=0 deadzone=21,11 fast_pskip=1 chroma_qp_offset=4 threads=22 lookahead_threads=3 sliced_threads=0 nr=0 decimate=1 interlaced=0 bluray_compat=0 constrained_intra=0 bframes=3 b_pyramid=2 b_adapt=1 b_bias=0 direct=1 weightb=1 open_gop=0 weightp=2 keyint=250 keyint_min=10 scenecut=40 intra_refresh=0 rc_lookahead=40 rc=crf mbtree=1 crf=23.0 qcomp=0.60 qpmin=0 qpmax=69 qpstep=4 ip_ratio=1.40 aq=1:1.00\n",
      "Output #0, mp4, to '/home/irmak/Workspace/Holo-Bot/extracted_data/both_robots/demonstration_new_box_opening_1/visualization.mp4':\n",
      "  Metadata:\n",
      "    encoder         : Lavf59.27.100\n",
      "  Stream #0:0: Video: h264 (avc1 / 0x31637661), yuv444p(tv, progressive), 2000x720 [SAR 1:1 DAR 25:9], q=2-31, 10 fps, 10240 tbn\n",
      "    Metadata:\n",
      "      encoder         : Lavc59.37.100 libx264\n",
      "    Side data:\n",
      "      cpb: bitrate max/min/avg: 0/0/0 buffer size: 0 vbv_delay: N/A\n",
      "frame=  394 fps=125 q=-1.0 Lsize=   11888kB time=00:00:39.10 bitrate=2490.8kbits/s speed=12.4x    \n",
      "video:11883kB audio:0kB subtitle:0kB other streams:0kB global headers:0kB muxing overhead: 0.047313%\n",
      "[libx264 @ 0x558c25fafb00] frame I:2     Avg QP:19.29  size:103151\n",
      "[libx264 @ 0x558c25fafb00] frame P:99    Avg QP:20.28  size: 53851\n",
      "[libx264 @ 0x558c25fafb00] frame B:293   Avg QP:22.83  size: 22627\n",
      "[libx264 @ 0x558c25fafb00] consecutive B-frames:  0.8%  0.0%  0.8% 98.5%\n",
      "[libx264 @ 0x558c25fafb00] mb I  I16..4: 24.0% 52.8% 23.3%\n",
      "[libx264 @ 0x558c25fafb00] mb P  I16..4:  2.2% 15.7%  0.6%  P16..4: 23.2% 16.2%  9.9%  0.0%  0.0%    skip:32.2%\n",
      "[libx264 @ 0x558c25fafb00] mb B  I16..4:  1.0%  9.6%  0.2%  B16..8: 25.1%  7.6%  2.1%  direct: 3.9%  skip:50.6%  L0:49.1% L1:39.5% BI:11.4%\n",
      "[libx264 @ 0x558c25fafb00] 8x8 transform intra:86.1% inter:83.8%\n",
      "[libx264 @ 0x558c25fafb00] coded y,u,v intra: 67.3% 37.4% 32.9% inter: 21.0% 12.2% 10.9%\n",
      "[libx264 @ 0x558c25fafb00] i16 v,h,dc,p: 38% 20% 31% 10%\n",
      "[libx264 @ 0x558c25fafb00] i8 v,h,dc,ddl,ddr,vr,hd,vl,hu: 17% 16% 50%  3%  2%  3%  2%  3%  3%\n",
      "[libx264 @ 0x558c25fafb00] i4 v,h,dc,ddl,ddr,vr,hd,vl,hu: 29% 23% 16%  4%  6%  8%  6%  4%  5%\n",
      "[libx264 @ 0x558c25fafb00] Weighted P-Frames: Y:1.0% UV:0.0%\n",
      "[libx264 @ 0x558c25fafb00] ref P L0: 32.5%  8.3% 37.7% 21.3%  0.1%\n",
      "[libx264 @ 0x558c25fafb00] ref B L0: 67.0% 25.5%  7.5%\n",
      "[libx264 @ 0x558c25fafb00] ref B L1: 88.0% 12.0%\n",
      "[libx264 @ 0x558c25fafb00] kb/s:2470.50\n",
      "ffmpeg version 5.1.2 Copyright (c) 2000-2022 the FFmpeg developers\n",
      "  built with gcc 10.4.0 (conda-forge gcc 10.4.0-18)\n",
      "  configuration: --prefix=/home/irmak/miniconda3/envs/tactile_learning --cc=/home/conda/feedstock_root/build_artifacts/ffmpeg_1666357487580/_build_env/bin/x86_64-conda-linux-gnu-cc --cxx=/home/conda/feedstock_root/build_artifacts/ffmpeg_1666357487580/_build_env/bin/x86_64-conda-linux-gnu-c++ --nm=/home/conda/feedstock_root/build_artifacts/ffmpeg_1666357487580/_build_env/bin/x86_64-conda-linux-gnu-nm --ar=/home/conda/feedstock_root/build_artifacts/ffmpeg_1666357487580/_build_env/bin/x86_64-conda-linux-gnu-ar --disable-doc --disable-openssl --enable-demuxer=dash --enable-hardcoded-tables --enable-libfreetype --enable-libfontconfig --enable-libopenh264 --enable-gnutls --enable-libmp3lame --enable-libvpx --enable-pthreads --enable-vaapi --enable-gpl --enable-libx264 --enable-libx265 --enable-libaom --enable-libsvtav1 --enable-libxml2 --enable-pic --enable-shared --disable-static --enable-version3 --enable-zlib --pkg-config=/home/conda/feedstock_root/build_artifacts/ffmpeg_1666357487580/_build_env/bin/pkg-config\n",
      "  libavutil      57. 28.100 / 57. 28.100\n",
      "  libavcodec     59. 37.100 / 59. 37.100\n",
      "  libavformat    59. 27.100 / 59. 27.100\n",
      "  libavdevice    59.  7.100 / 59.  7.100\n",
      "  libavfilter     8. 44.100 /  8. 44.100\n",
      "  libswscale      6.  7.100 /  6.  7.100\n",
      "  libswresample   4.  7.100 /  4.  7.100\n",
      "  libpostproc    56.  6.100 / 56.  6.100\n",
      "[image2 @ 0x560a4b90c640] Pattern type 'glob_sequence' is deprecated: use pattern_type 'glob' instead\n",
      "Input #0, image2, from '/home/irmak/Workspace/Holo-Bot/extracted_data/both_robots/demonstration_hammer_1/visualization/%*.png':\n",
      "  Duration: 00:00:05.04, start: 0.000000, bitrate: N/A\n",
      "  Stream #0:0: Video: png, rgba(pc), 2000x2000 [SAR 3937:3937 DAR 1:1], 25 fps, 25 tbr, 25 tbn\n",
      "Stream mapping:\n",
      "  Stream #0:0 -> #0:0 (png (native) -> h264 (libx264))\n",
      "Press [q] to stop, [?] for help\n"
     ]
    },
    {
     "name": "stdout",
     "output_type": "stream",
     "text": [
      "dumping video in root: /home/irmak/Workspace/Holo-Bot/extracted_data/both_robots/demonstration_hammer_1\n"
     ]
    },
    {
     "name": "stderr",
     "output_type": "stream",
     "text": [
      "[libx264 @ 0x560a4b925880] using SAR=1/1\n",
      "[libx264 @ 0x560a4b925880] using cpu capabilities: MMX2 SSE2Fast SSSE3 SSE4.2 AVX FMA3 BMI2 AVX2\n",
      "[libx264 @ 0x560a4b925880] profile High 4:4:4 Predictive, level 4.0, 4:4:4, 8-bit\n",
      "[libx264 @ 0x560a4b925880] 264 - core 164 r3095 baee400 - H.264/MPEG-4 AVC codec - Copyleft 2003-2022 - http://www.videolan.org/x264.html - options: cabac=1 ref=3 deblock=1:0:0 analyse=0x3:0x113 me=hex subme=7 psy=1 psy_rd=1.00:0.00 mixed_ref=1 me_range=16 chroma_me=1 trellis=1 8x8dct=1 cqm=0 deadzone=21,11 fast_pskip=1 chroma_qp_offset=4 threads=22 lookahead_threads=3 sliced_threads=0 nr=0 decimate=1 interlaced=0 bluray_compat=0 constrained_intra=0 bframes=3 b_pyramid=2 b_adapt=1 b_bias=0 direct=1 weightb=1 open_gop=0 weightp=2 keyint=250 keyint_min=10 scenecut=40 intra_refresh=0 rc_lookahead=40 rc=crf mbtree=1 crf=23.0 qcomp=0.60 qpmin=0 qpmax=69 qpstep=4 ip_ratio=1.40 aq=1:1.00\n",
      "Output #0, mp4, to '/home/irmak/Workspace/Holo-Bot/extracted_data/both_robots/demonstration_hammer_1/visualization.mp4':\n",
      "  Metadata:\n",
      "    encoder         : Lavf59.27.100\n",
      "  Stream #0:0: Video: h264 (avc1 / 0x31637661), yuv444p(tv, progressive), 2000x720 [SAR 1:1 DAR 25:9], q=2-31, 10 fps, 10240 tbn\n",
      "    Metadata:\n",
      "      encoder         : Lavc59.37.100 libx264\n",
      "    Side data:\n",
      "      cpb: bitrate max/min/avg: 0/0/0 buffer size: 0 vbv_delay: N/A\n",
      "frame=  126 fps=0.0 q=-1.0 Lsize=     568kB time=00:00:12.30 bitrate= 378.1kbits/s speed=14.3x    \n",
      "video:565kB audio:0kB subtitle:0kB other streams:0kB global headers:0kB muxing overhead: 0.412646%\n",
      "[libx264 @ 0x560a4b925880] frame I:1     Avg QP:22.42  size: 53155\n",
      "[libx264 @ 0x560a4b925880] frame P:32    Avg QP:15.40  size: 12242\n",
      "[libx264 @ 0x560a4b925880] frame B:93    Avg QP:24.24  size:  1434\n",
      "[libx264 @ 0x560a4b925880] consecutive B-frames:  1.6%  0.0%  0.0% 98.4%\n",
      "[libx264 @ 0x560a4b925880] mb I  I16..4: 20.9% 50.1% 29.0%\n",
      "[libx264 @ 0x560a4b925880] mb P  I16..4:  0.6%  2.0%  0.5%  P16..4:  5.2%  1.7%  1.4%  0.0%  0.0%    skip:88.6%\n",
      "[libx264 @ 0x560a4b925880] mb B  I16..4:  0.1%  0.2%  0.0%  B16..8:  4.9%  1.1%  0.5%  direct: 0.1%  skip:93.1%  L0:50.9% L1:46.2% BI: 2.9%\n",
      "[libx264 @ 0x560a4b925880] 8x8 transform intra:57.9% inter:32.0%\n",
      "[libx264 @ 0x560a4b925880] coded y,u,v intra: 36.2% 24.4% 24.1% inter: 0.7% 0.5% 0.6%\n",
      "[libx264 @ 0x560a4b925880] i16 v,h,dc,p: 45% 46%  7%  1%\n",
      "[libx264 @ 0x560a4b925880] i8 v,h,dc,ddl,ddr,vr,hd,vl,hu: 31% 16% 38%  2%  2%  3%  2%  2%  5%\n",
      "[libx264 @ 0x560a4b925880] i4 v,h,dc,ddl,ddr,vr,hd,vl,hu: 38% 35% 14%  1%  2%  2%  4%  1%  3%\n",
      "[libx264 @ 0x560a4b925880] Weighted P-Frames: Y:0.0% UV:0.0%\n",
      "[libx264 @ 0x560a4b925880] ref P L0: 46.2%  2.0% 28.9% 22.9%\n",
      "[libx264 @ 0x560a4b925880] ref B L0: 70.0% 22.4%  7.6%\n",
      "[libx264 @ 0x560a4b925880] ref B L1: 87.1% 12.9%\n",
      "[libx264 @ 0x560a4b925880] kb/s:367.15\n",
      "ffmpeg version 5.1.2 Copyright (c) 2000-2022 the FFmpeg developers\n",
      "  built with gcc 10.4.0 (conda-forge gcc 10.4.0-18)\n",
      "  configuration: --prefix=/home/irmak/miniconda3/envs/tactile_learning --cc=/home/conda/feedstock_root/build_artifacts/ffmpeg_1666357487580/_build_env/bin/x86_64-conda-linux-gnu-cc --cxx=/home/conda/feedstock_root/build_artifacts/ffmpeg_1666357487580/_build_env/bin/x86_64-conda-linux-gnu-c++ --nm=/home/conda/feedstock_root/build_artifacts/ffmpeg_1666357487580/_build_env/bin/x86_64-conda-linux-gnu-nm --ar=/home/conda/feedstock_root/build_artifacts/ffmpeg_1666357487580/_build_env/bin/x86_64-conda-linux-gnu-ar --disable-doc --disable-openssl --enable-demuxer=dash --enable-hardcoded-tables --enable-libfreetype --enable-libfontconfig --enable-libopenh264 --enable-gnutls --enable-libmp3lame --enable-libvpx --enable-pthreads --enable-vaapi --enable-gpl --enable-libx264 --enable-libx265 --enable-libaom --enable-libsvtav1 --enable-libxml2 --enable-pic --enable-shared --disable-static --enable-version3 --enable-zlib --pkg-config=/home/conda/feedstock_root/build_artifacts/ffmpeg_1666357487580/_build_env/bin/pkg-config\n",
      "  libavutil      57. 28.100 / 57. 28.100\n",
      "  libavcodec     59. 37.100 / 59. 37.100\n",
      "  libavformat    59. 27.100 / 59. 27.100\n",
      "  libavdevice    59.  7.100 / 59.  7.100\n",
      "  libavfilter     8. 44.100 /  8. 44.100\n",
      "  libswscale      6.  7.100 /  6.  7.100\n",
      "  libswresample   4.  7.100 /  4.  7.100\n",
      "  libpostproc    56.  6.100 / 56.  6.100\n",
      "[image2 @ 0x55b76a4e6640] Pattern type 'glob_sequence' is deprecated: use pattern_type 'glob' instead\n",
      "Input #0, image2, from '/home/irmak/Workspace/Holo-Bot/extracted_data/both_robots/demonstration_new_book_1/visualization/%*.png':\n",
      "  Duration: 00:00:13.28, start: 0.000000, bitrate: N/A\n",
      "  Stream #0:0: Video: png, rgba(pc), 2000x2000 [SAR 3937:3937 DAR 1:1], 25 fps, 25 tbr, 25 tbn\n",
      "Stream mapping:\n",
      "  Stream #0:0 -> #0:0 (png (native) -> h264 (libx264))\n",
      "Press [q] to stop, [?] for help\n"
     ]
    },
    {
     "name": "stdout",
     "output_type": "stream",
     "text": [
      "dumping video in root: /home/irmak/Workspace/Holo-Bot/extracted_data/both_robots/demonstration_new_book_1\n"
     ]
    },
    {
     "name": "stderr",
     "output_type": "stream",
     "text": [
      "[libx264 @ 0x55b76a4f7a80] using SAR=1/1\n",
      "[libx264 @ 0x55b76a4f7a80] using cpu capabilities: MMX2 SSE2Fast SSSE3 SSE4.2 AVX FMA3 BMI2 AVX2\n",
      "[libx264 @ 0x55b76a4f7a80] profile High 4:4:4 Predictive, level 4.0, 4:4:4, 8-bit\n",
      "[libx264 @ 0x55b76a4f7a80] 264 - core 164 r3095 baee400 - H.264/MPEG-4 AVC codec - Copyleft 2003-2022 - http://www.videolan.org/x264.html - options: cabac=1 ref=3 deblock=1:0:0 analyse=0x3:0x113 me=hex subme=7 psy=1 psy_rd=1.00:0.00 mixed_ref=1 me_range=16 chroma_me=1 trellis=1 8x8dct=1 cqm=0 deadzone=21,11 fast_pskip=1 chroma_qp_offset=4 threads=22 lookahead_threads=3 sliced_threads=0 nr=0 decimate=1 interlaced=0 bluray_compat=0 constrained_intra=0 bframes=3 b_pyramid=2 b_adapt=1 b_bias=0 direct=1 weightb=1 open_gop=0 weightp=2 keyint=250 keyint_min=10 scenecut=40 intra_refresh=0 rc_lookahead=40 rc=crf mbtree=1 crf=23.0 qcomp=0.60 qpmin=0 qpmax=69 qpstep=4 ip_ratio=1.40 aq=1:1.00\n",
      "Output #0, mp4, to '/home/irmak/Workspace/Holo-Bot/extracted_data/both_robots/demonstration_new_book_1/visualization.mp4':\n",
      "  Metadata:\n",
      "    encoder         : Lavf59.27.100\n",
      "  Stream #0:0: Video: h264 (avc1 / 0x31637661), yuv444p(tv, progressive), 2000x720 [SAR 1:1 DAR 25:9], q=2-31, 10 fps, 10240 tbn\n",
      "    Metadata:\n",
      "      encoder         : Lavc59.37.100 libx264\n",
      "    Side data:\n",
      "      cpb: bitrate max/min/avg: 0/0/0 buffer size: 0 vbv_delay: N/A\n",
      "frame=  332 fps=121 q=-1.0 Lsize=    9802kB time=00:00:32.90 bitrate=2440.6kbits/s speed=  12x    \n",
      "video:9797kB audio:0kB subtitle:0kB other streams:0kB global headers:0kB muxing overhead: 0.049850%\n",
      "[libx264 @ 0x55b76a4f7a80] frame I:2     Avg QP:19.19  size:103244\n",
      "[libx264 @ 0x55b76a4f7a80] frame P:84    Avg QP:20.07  size: 54293\n",
      "[libx264 @ 0x55b76a4f7a80] frame B:246   Avg QP:22.60  size: 21399\n",
      "[libx264 @ 0x55b76a4f7a80] consecutive B-frames:  1.2%  0.0%  0.0% 98.8%\n",
      "[libx264 @ 0x55b76a4f7a80] mb I  I16..4: 24.1% 52.7% 23.2%\n",
      "[libx264 @ 0x55b76a4f7a80] mb P  I16..4:  2.3% 17.6%  0.6%  P16..4: 22.7% 14.7%  9.8%  0.0%  0.0%    skip:32.3%\n",
      "[libx264 @ 0x55b76a4f7a80] mb B  I16..4:  1.1%  9.6%  0.3%  B16..8: 26.0%  7.0%  2.1%  direct: 4.2%  skip:49.7%  L0:48.3% L1:41.4% BI:10.4%\n",
      "[libx264 @ 0x55b76a4f7a80] 8x8 transform intra:85.3% inter:83.8%\n",
      "[libx264 @ 0x55b76a4f7a80] coded y,u,v intra: 64.8% 32.5% 30.2% inter: 20.9% 10.8% 9.9%\n",
      "[libx264 @ 0x55b76a4f7a80] i16 v,h,dc,p: 34% 20% 35% 10%\n",
      "[libx264 @ 0x55b76a4f7a80] i8 v,h,dc,ddl,ddr,vr,hd,vl,hu: 17% 16% 49%  3%  3%  3%  3%  3%  3%\n",
      "[libx264 @ 0x55b76a4f7a80] i4 v,h,dc,ddl,ddr,vr,hd,vl,hu: 27% 20% 15%  5%  9%  7%  7%  5%  5%\n",
      "[libx264 @ 0x55b76a4f7a80] Weighted P-Frames: Y:2.4% UV:0.0%\n",
      "[libx264 @ 0x55b76a4f7a80] ref P L0: 32.9%  9.1% 36.3% 21.5%  0.2%\n",
      "[libx264 @ 0x55b76a4f7a80] ref B L0: 65.7% 27.0%  7.3%\n",
      "[libx264 @ 0x55b76a4f7a80] ref B L1: 88.8% 11.2%\n",
      "[libx264 @ 0x55b76a4f7a80] kb/s:2417.18\n",
      "ffmpeg version 5.1.2 Copyright (c) 2000-2022 the FFmpeg developers\n",
      "  built with gcc 10.4.0 (conda-forge gcc 10.4.0-18)\n",
      "  configuration: --prefix=/home/irmak/miniconda3/envs/tactile_learning --cc=/home/conda/feedstock_root/build_artifacts/ffmpeg_1666357487580/_build_env/bin/x86_64-conda-linux-gnu-cc --cxx=/home/conda/feedstock_root/build_artifacts/ffmpeg_1666357487580/_build_env/bin/x86_64-conda-linux-gnu-c++ --nm=/home/conda/feedstock_root/build_artifacts/ffmpeg_1666357487580/_build_env/bin/x86_64-conda-linux-gnu-nm --ar=/home/conda/feedstock_root/build_artifacts/ffmpeg_1666357487580/_build_env/bin/x86_64-conda-linux-gnu-ar --disable-doc --disable-openssl --enable-demuxer=dash --enable-hardcoded-tables --enable-libfreetype --enable-libfontconfig --enable-libopenh264 --enable-gnutls --enable-libmp3lame --enable-libvpx --enable-pthreads --enable-vaapi --enable-gpl --enable-libx264 --enable-libx265 --enable-libaom --enable-libsvtav1 --enable-libxml2 --enable-pic --enable-shared --disable-static --enable-version3 --enable-zlib --pkg-config=/home/conda/feedstock_root/build_artifacts/ffmpeg_1666357487580/_build_env/bin/pkg-config\n",
      "  libavutil      57. 28.100 / 57. 28.100\n",
      "  libavcodec     59. 37.100 / 59. 37.100\n",
      "  libavformat    59. 27.100 / 59. 27.100\n",
      "  libavdevice    59.  7.100 / 59.  7.100\n",
      "  libavfilter     8. 44.100 /  8. 44.100\n",
      "  libswscale      6.  7.100 /  6.  7.100\n",
      "  libswresample   4.  7.100 /  4.  7.100\n",
      "  libpostproc    56.  6.100 / 56.  6.100\n",
      "[image2 @ 0x55d79c0bc640] Pattern type 'glob_sequence' is deprecated: use pattern_type 'glob' instead\n",
      "Input #0, image2, from '/home/irmak/Workspace/Holo-Bot/extracted_data/both_robots/demonstration_bottle_opening_1/visualization/%*.png':\n",
      "  Duration: 00:00:22.64, start: 0.000000, bitrate: N/A\n",
      "  Stream #0:0: Video: png, rgba(pc), 2000x2000 [SAR 3937:3937 DAR 1:1], 25 fps, 25 tbr, 25 tbn\n",
      "Stream mapping:\n",
      "  Stream #0:0 -> #0:0 (png (native) -> h264 (libx264))\n",
      "Press [q] to stop, [?] for help\n"
     ]
    },
    {
     "name": "stdout",
     "output_type": "stream",
     "text": [
      "dumping video in root: /home/irmak/Workspace/Holo-Bot/extracted_data/both_robots/demonstration_bottle_opening_1\n"
     ]
    },
    {
     "name": "stderr",
     "output_type": "stream",
     "text": [
      "[libx264 @ 0x55d79c0d5b40] using SAR=1/1\n",
      "[libx264 @ 0x55d79c0d5b40] using cpu capabilities: MMX2 SSE2Fast SSSE3 SSE4.2 AVX FMA3 BMI2 AVX2\n",
      "[libx264 @ 0x55d79c0d5b40] profile High 4:4:4 Predictive, level 4.0, 4:4:4, 8-bit\n",
      "[libx264 @ 0x55d79c0d5b40] 264 - core 164 r3095 baee400 - H.264/MPEG-4 AVC codec - Copyleft 2003-2022 - http://www.videolan.org/x264.html - options: cabac=1 ref=3 deblock=1:0:0 analyse=0x3:0x113 me=hex subme=7 psy=1 psy_rd=1.00:0.00 mixed_ref=1 me_range=16 chroma_me=1 trellis=1 8x8dct=1 cqm=0 deadzone=21,11 fast_pskip=1 chroma_qp_offset=4 threads=22 lookahead_threads=3 sliced_threads=0 nr=0 decimate=1 interlaced=0 bluray_compat=0 constrained_intra=0 bframes=3 b_pyramid=2 b_adapt=1 b_bias=0 direct=1 weightb=1 open_gop=0 weightp=2 keyint=250 keyint_min=10 scenecut=40 intra_refresh=0 rc_lookahead=40 rc=crf mbtree=1 crf=23.0 qcomp=0.60 qpmin=0 qpmax=69 qpstep=4 ip_ratio=1.40 aq=1:1.00\n",
      "Output #0, mp4, to '/home/irmak/Workspace/Holo-Bot/extracted_data/both_robots/demonstration_bottle_opening_1/visualization.mp4':\n",
      "  Metadata:\n",
      "    encoder         : Lavf59.27.100\n",
      "  Stream #0:0: Video: h264 (avc1 / 0x31637661), yuv444p(tv, progressive), 2000x720 [SAR 1:1 DAR 25:9], q=2-31, 10 fps, 10240 tbn\n",
      "    Metadata:\n",
      "      encoder         : Lavc59.37.100 libx264\n",
      "    Side data:\n",
      "      cpb: bitrate max/min/avg: 0/0/0 buffer size: 0 vbv_delay: N/A\n",
      "frame=  566 fps=299 q=-1.0 Lsize=    2214kB time=00:00:56.30 bitrate= 322.1kbits/s speed=29.8x    \n",
      "video:2206kB audio:0kB subtitle:0kB other streams:0kB global headers:0kB muxing overhead: 0.340524%\n",
      "[libx264 @ 0x55d79c0d5b40] frame I:3     Avg QP:14.66  size:180822\n",
      "[libx264 @ 0x55d79c0d5b40] frame P:143   Avg QP:15.74  size:  7802\n",
      "[libx264 @ 0x55d79c0d5b40] frame B:420   Avg QP:24.36  size:  1429\n",
      "[libx264 @ 0x55d79c0d5b40] consecutive B-frames:  0.7%  0.7%  1.1% 97.5%\n",
      "[libx264 @ 0x55d79c0d5b40] mb I  I16..4: 22.2% 54.3% 23.5%\n",
      "[libx264 @ 0x55d79c0d5b40] mb P  I16..4:  0.4%  0.6%  0.2%  P16..4:  4.2%  1.5%  1.1%  0.0%  0.0%    skip:92.0%\n",
      "[libx264 @ 0x55d79c0d5b40] mb B  I16..4:  0.1%  0.1%  0.1%  B16..8:  4.5%  1.0%  0.4%  direct: 0.1%  skip:93.7%  L0:51.6% L1:45.6% BI: 2.8%\n",
      "[libx264 @ 0x55d79c0d5b40] 8x8 transform intra:51.8% inter:22.7%\n",
      "[libx264 @ 0x55d79c0d5b40] coded y,u,v intra: 40.0% 29.3% 28.8% inter: 0.6% 0.4% 0.5%\n",
      "[libx264 @ 0x55d79c0d5b40] i16 v,h,dc,p: 56% 34%  9%  2%\n",
      "[libx264 @ 0x55d79c0d5b40] i8 v,h,dc,ddl,ddr,vr,hd,vl,hu: 22% 13% 43%  3%  3%  4%  3%  3%  7%\n",
      "[libx264 @ 0x55d79c0d5b40] i4 v,h,dc,ddl,ddr,vr,hd,vl,hu: 40% 27% 18%  2%  2%  2%  3%  2%  3%\n",
      "[libx264 @ 0x55d79c0d5b40] Weighted P-Frames: Y:0.0% UV:0.0%\n",
      "[libx264 @ 0x55d79c0d5b40] ref P L0: 42.8%  2.1% 31.7% 23.3%\n",
      "[libx264 @ 0x55d79c0d5b40] ref B L0: 69.9% 23.6%  6.5%\n",
      "[libx264 @ 0x55d79c0d5b40] ref B L1: 87.6% 12.4%\n",
      "[libx264 @ 0x55d79c0d5b40] kb/s:319.22\n",
      "ffmpeg version 5.1.2 Copyright (c) 2000-2022 the FFmpeg developers\n",
      "  built with gcc 10.4.0 (conda-forge gcc 10.4.0-18)\n",
      "  configuration: --prefix=/home/irmak/miniconda3/envs/tactile_learning --cc=/home/conda/feedstock_root/build_artifacts/ffmpeg_1666357487580/_build_env/bin/x86_64-conda-linux-gnu-cc --cxx=/home/conda/feedstock_root/build_artifacts/ffmpeg_1666357487580/_build_env/bin/x86_64-conda-linux-gnu-c++ --nm=/home/conda/feedstock_root/build_artifacts/ffmpeg_1666357487580/_build_env/bin/x86_64-conda-linux-gnu-nm --ar=/home/conda/feedstock_root/build_artifacts/ffmpeg_1666357487580/_build_env/bin/x86_64-conda-linux-gnu-ar --disable-doc --disable-openssl --enable-demuxer=dash --enable-hardcoded-tables --enable-libfreetype --enable-libfontconfig --enable-libopenh264 --enable-gnutls --enable-libmp3lame --enable-libvpx --enable-pthreads --enable-vaapi --enable-gpl --enable-libx264 --enable-libx265 --enable-libaom --enable-libsvtav1 --enable-libxml2 --enable-pic --enable-shared --disable-static --enable-version3 --enable-zlib --pkg-config=/home/conda/feedstock_root/build_artifacts/ffmpeg_1666357487580/_build_env/bin/pkg-config\n",
      "  libavutil      57. 28.100 / 57. 28.100\n",
      "  libavcodec     59. 37.100 / 59. 37.100\n",
      "  libavformat    59. 27.100 / 59. 27.100\n",
      "  libavdevice    59.  7.100 / 59.  7.100\n",
      "  libavfilter     8. 44.100 /  8. 44.100\n",
      "  libswscale      6.  7.100 /  6.  7.100\n",
      "  libswresample   4.  7.100 /  4.  7.100\n",
      "  libpostproc    56.  6.100 / 56.  6.100\n",
      "[image2 @ 0x56504dba4640] Pattern type 'glob_sequence' is deprecated: use pattern_type 'glob' instead\n",
      "Input #0, image2, from '/home/irmak/Workspace/Holo-Bot/extracted_data/both_robots/demonstration_new_reverse_peg_4/visualization/%*.png':\n",
      "  Duration: 00:00:09.52, start: 0.000000, bitrate: N/A\n",
      "  Stream #0:0: Video: png, rgba(pc), 2000x2000 [SAR 3937:3937 DAR 1:1], 25 fps, 25 tbr, 25 tbn\n",
      "Stream mapping:\n",
      "  Stream #0:0 -> #0:0 (png (native) -> h264 (libx264))\n",
      "Press [q] to stop, [?] for help\n"
     ]
    },
    {
     "name": "stdout",
     "output_type": "stream",
     "text": [
      "dumping video in root: /home/irmak/Workspace/Holo-Bot/extracted_data/both_robots/demonstration_new_reverse_peg_4\n"
     ]
    },
    {
     "name": "stderr",
     "output_type": "stream",
     "text": [
      "[libx264 @ 0x56504dbb28c0] using SAR=1/1\n",
      "[libx264 @ 0x56504dbb28c0] using cpu capabilities: MMX2 SSE2Fast SSSE3 SSE4.2 AVX FMA3 BMI2 AVX2\n",
      "[libx264 @ 0x56504dbb28c0] profile High 4:4:4 Predictive, level 4.0, 4:4:4, 8-bit\n",
      "[libx264 @ 0x56504dbb28c0] 264 - core 164 r3095 baee400 - H.264/MPEG-4 AVC codec - Copyleft 2003-2022 - http://www.videolan.org/x264.html - options: cabac=1 ref=3 deblock=1:0:0 analyse=0x3:0x113 me=hex subme=7 psy=1 psy_rd=1.00:0.00 mixed_ref=1 me_range=16 chroma_me=1 trellis=1 8x8dct=1 cqm=0 deadzone=21,11 fast_pskip=1 chroma_qp_offset=4 threads=22 lookahead_threads=3 sliced_threads=0 nr=0 decimate=1 interlaced=0 bluray_compat=0 constrained_intra=0 bframes=3 b_pyramid=2 b_adapt=1 b_bias=0 direct=1 weightb=1 open_gop=0 weightp=2 keyint=250 keyint_min=10 scenecut=40 intra_refresh=0 rc_lookahead=40 rc=crf mbtree=1 crf=23.0 qcomp=0.60 qpmin=0 qpmax=69 qpstep=4 ip_ratio=1.40 aq=1:1.00\n",
      "Output #0, mp4, to '/home/irmak/Workspace/Holo-Bot/extracted_data/both_robots/demonstration_new_reverse_peg_4/visualization.mp4':\n",
      "  Metadata:\n",
      "    encoder         : Lavf59.27.100\n",
      "  Stream #0:0: Video: h264 (avc1 / 0x31637661), yuv444p(tv, progressive), 2000x720 [SAR 1:1 DAR 25:9], q=2-31, 10 fps, 10240 tbn\n",
      "    Metadata:\n",
      "      encoder         : Lavc59.37.100 libx264\n",
      "    Side data:\n",
      "      cpb: bitrate max/min/avg: 0/0/0 buffer size: 0 vbv_delay: N/A\n",
      "frame=  238 fps=109 q=-1.0 Lsize=    7335kB time=00:00:23.50 bitrate=2557.1kbits/s speed=10.7x    \n",
      "video:7332kB audio:0kB subtitle:0kB other streams:0kB global headers:0kB muxing overhead: 0.051055%\n",
      "[libx264 @ 0x56504dbb28c0] frame I:1     Avg QP:23.27  size: 53936\n",
      "[libx264 @ 0x56504dbb28c0] frame P:60    Avg QP:19.97  size: 55851\n",
      "[libx264 @ 0x56504dbb28c0] frame B:177   Avg QP:22.94  size: 23175\n",
      "[libx264 @ 0x56504dbb28c0] consecutive B-frames:  0.8%  0.0%  0.0% 99.2%\n",
      "[libx264 @ 0x56504dbb28c0] mb I  I16..4: 23.9% 47.1% 29.0%\n",
      "[libx264 @ 0x56504dbb28c0] mb P  I16..4:  2.9% 23.2%  0.8%  P16..4: 20.9% 13.2%  8.7%  0.0%  0.0%    skip:30.4%\n",
      "[libx264 @ 0x56504dbb28c0] mb B  I16..4:  1.4%  9.9%  0.5%  B16..8: 25.6%  7.6%  2.3%  direct: 4.7%  skip:48.2%  L0:48.5% L1:41.7% BI: 9.8%\n",
      "[libx264 @ 0x56504dbb28c0] 8x8 transform intra:84.2% inter:82.3%\n",
      "[libx264 @ 0x56504dbb28c0] coded y,u,v intra: 64.0% 31.3% 29.6% inter: 21.3% 11.3% 10.6%\n",
      "[libx264 @ 0x56504dbb28c0] i16 v,h,dc,p: 34% 23% 32% 10%\n",
      "[libx264 @ 0x56504dbb28c0] i8 v,h,dc,ddl,ddr,vr,hd,vl,hu: 18% 18% 45%  3%  3%  3%  3%  3%  5%\n",
      "[libx264 @ 0x56504dbb28c0] i4 v,h,dc,ddl,ddr,vr,hd,vl,hu: 27% 21% 15%  5%  7%  7%  6%  6%  6%\n",
      "[libx264 @ 0x56504dbb28c0] Weighted P-Frames: Y:6.7% UV:0.0%\n",
      "[libx264 @ 0x56504dbb28c0] ref P L0: 34.4% 11.9% 33.3% 19.7%  0.7%\n",
      "[libx264 @ 0x56504dbb28c0] ref B L0: 68.2% 24.9%  6.9%\n",
      "[libx264 @ 0x56504dbb28c0] ref B L1: 89.3% 10.7%\n",
      "[libx264 @ 0x56504dbb28c0] kb/s:2523.33\n",
      "ffmpeg version 5.1.2 Copyright (c) 2000-2022 the FFmpeg developers\n",
      "  built with gcc 10.4.0 (conda-forge gcc 10.4.0-18)\n",
      "  configuration: --prefix=/home/irmak/miniconda3/envs/tactile_learning --cc=/home/conda/feedstock_root/build_artifacts/ffmpeg_1666357487580/_build_env/bin/x86_64-conda-linux-gnu-cc --cxx=/home/conda/feedstock_root/build_artifacts/ffmpeg_1666357487580/_build_env/bin/x86_64-conda-linux-gnu-c++ --nm=/home/conda/feedstock_root/build_artifacts/ffmpeg_1666357487580/_build_env/bin/x86_64-conda-linux-gnu-nm --ar=/home/conda/feedstock_root/build_artifacts/ffmpeg_1666357487580/_build_env/bin/x86_64-conda-linux-gnu-ar --disable-doc --disable-openssl --enable-demuxer=dash --enable-hardcoded-tables --enable-libfreetype --enable-libfontconfig --enable-libopenh264 --enable-gnutls --enable-libmp3lame --enable-libvpx --enable-pthreads --enable-vaapi --enable-gpl --enable-libx264 --enable-libx265 --enable-libaom --enable-libsvtav1 --enable-libxml2 --enable-pic --enable-shared --disable-static --enable-version3 --enable-zlib --pkg-config=/home/conda/feedstock_root/build_artifacts/ffmpeg_1666357487580/_build_env/bin/pkg-config\n",
      "  libavutil      57. 28.100 / 57. 28.100\n",
      "  libavcodec     59. 37.100 / 59. 37.100\n",
      "  libavformat    59. 27.100 / 59. 27.100\n",
      "  libavdevice    59.  7.100 / 59.  7.100\n",
      "  libavfilter     8. 44.100 /  8. 44.100\n",
      "  libswscale      6.  7.100 /  6.  7.100\n",
      "  libswresample   4.  7.100 /  4.  7.100\n",
      "  libpostproc    56.  6.100 / 56.  6.100\n",
      "[image2 @ 0x56451d772640] Pattern type 'glob_sequence' is deprecated: use pattern_type 'glob' instead\n",
      "Input #0, image2, from '/home/irmak/Workspace/Holo-Bot/extracted_data/both_robots/demonstration_new_joystick_2/visualization/%*.png':\n",
      "  Duration: 00:00:11.96, start: 0.000000, bitrate: N/A\n",
      "  Stream #0:0: Video: png, rgba(pc), 2000x2000 [SAR 3937:3937 DAR 1:1], 25 fps, 25 tbr, 25 tbn\n",
      "Stream mapping:\n",
      "  Stream #0:0 -> #0:0 (png (native) -> h264 (libx264))\n",
      "Press [q] to stop, [?] for help\n"
     ]
    },
    {
     "name": "stdout",
     "output_type": "stream",
     "text": [
      "dumping video in root: /home/irmak/Workspace/Holo-Bot/extracted_data/both_robots/demonstration_new_joystick_2\n"
     ]
    },
    {
     "name": "stderr",
     "output_type": "stream",
     "text": [
      "[libx264 @ 0x56451d7824c0] using SAR=1/1\n",
      "[libx264 @ 0x56451d7824c0] using cpu capabilities: MMX2 SSE2Fast SSSE3 SSE4.2 AVX FMA3 BMI2 AVX2\n",
      "[libx264 @ 0x56451d7824c0] profile High 4:4:4 Predictive, level 4.0, 4:4:4, 8-bit\n",
      "[libx264 @ 0x56451d7824c0] 264 - core 164 r3095 baee400 - H.264/MPEG-4 AVC codec - Copyleft 2003-2022 - http://www.videolan.org/x264.html - options: cabac=1 ref=3 deblock=1:0:0 analyse=0x3:0x113 me=hex subme=7 psy=1 psy_rd=1.00:0.00 mixed_ref=1 me_range=16 chroma_me=1 trellis=1 8x8dct=1 cqm=0 deadzone=21,11 fast_pskip=1 chroma_qp_offset=4 threads=22 lookahead_threads=3 sliced_threads=0 nr=0 decimate=1 interlaced=0 bluray_compat=0 constrained_intra=0 bframes=3 b_pyramid=2 b_adapt=1 b_bias=0 direct=1 weightb=1 open_gop=0 weightp=2 keyint=250 keyint_min=10 scenecut=40 intra_refresh=0 rc_lookahead=40 rc=crf mbtree=1 crf=23.0 qcomp=0.60 qpmin=0 qpmax=69 qpstep=4 ip_ratio=1.40 aq=1:1.00\n",
      "Output #0, mp4, to '/home/irmak/Workspace/Holo-Bot/extracted_data/both_robots/demonstration_new_joystick_2/visualization.mp4':\n",
      "  Metadata:\n",
      "    encoder         : Lavf59.27.100\n",
      "  Stream #0:0: Video: h264 (avc1 / 0x31637661), yuv444p(tv, progressive), 2000x720 [SAR 1:1 DAR 25:9], q=2-31, 10 fps, 10240 tbn\n",
      "    Metadata:\n",
      "      encoder         : Lavc59.37.100 libx264\n",
      "    Side data:\n",
      "      cpb: bitrate max/min/avg: 0/0/0 buffer size: 0 vbv_delay: N/A\n",
      "frame=  299 fps=121 q=-1.0 Lsize=    7327kB time=00:00:29.60 bitrate=2027.8kbits/s speed=  12x    \n",
      "video:7323kB audio:0kB subtitle:0kB other streams:0kB global headers:0kB muxing overhead: 0.060827%\n",
      "[libx264 @ 0x56451d7824c0] frame I:2     Avg QP:19.05  size:101730\n",
      "[libx264 @ 0x56451d7824c0] frame P:75    Avg QP:19.28  size: 46087\n",
      "[libx264 @ 0x56451d7824c0] frame B:222   Avg QP:22.29  size: 17287\n",
      "[libx264 @ 0x56451d7824c0] consecutive B-frames:  1.0%  0.0%  0.0% 99.0%\n",
      "[libx264 @ 0x56451d7824c0] mb I  I16..4: 24.2% 52.4% 23.4%\n",
      "[libx264 @ 0x56451d7824c0] mb P  I16..4:  3.2% 17.2%  0.5%  P16..4: 22.4% 14.1%  9.2%  0.0%  0.0%    skip:33.5%\n",
      "[libx264 @ 0x56451d7824c0] mb B  I16..4:  1.5%  8.3%  0.2%  B16..8: 25.6%  7.1%  1.7%  direct: 3.3%  skip:52.4%  L0:50.1% L1:41.2% BI: 8.7%\n",
      "[libx264 @ 0x56451d7824c0] 8x8 transform intra:81.2% inter:84.4%\n",
      "[libx264 @ 0x56451d7824c0] coded y,u,v intra: 55.0% 26.8% 24.4% inter: 17.8% 9.7% 8.7%\n",
      "[libx264 @ 0x56451d7824c0] i16 v,h,dc,p: 35% 23% 32% 10%\n",
      "[libx264 @ 0x56451d7824c0] i8 v,h,dc,ddl,ddr,vr,hd,vl,hu: 18% 19% 49%  3%  2%  2%  2%  2%  4%\n",
      "[libx264 @ 0x56451d7824c0] i4 v,h,dc,ddl,ddr,vr,hd,vl,hu: 33% 25% 14%  3%  5%  6%  5%  3%  5%\n",
      "[libx264 @ 0x56451d7824c0] Weighted P-Frames: Y:0.0% UV:0.0%\n",
      "[libx264 @ 0x56451d7824c0] ref P L0: 34.3%  7.8% 35.3% 22.6%\n",
      "[libx264 @ 0x56451d7824c0] ref B L0: 65.5% 26.2%  8.3%\n",
      "[libx264 @ 0x56451d7824c0] ref B L1: 85.9% 14.1%\n",
      "[libx264 @ 0x56451d7824c0] kb/s:2006.05\n"
     ]
    }
   ],
   "source": [
    "# Turn the images to a video and delete the directory\n",
    "video_fps = 10\n",
    "for root in roots:\n",
    "    print('dumping video in root: {}'.format(root))\n",
    "    video_path = os.path.join(root, 'visualization.mp4')\n",
    "    if os.path.exists(video_path):\n",
    "        os.remove(video_path)\n",
    "    viz_dir = os.path.join(root, 'visualization')\n",
    "    os.system('ffmpeg -r {} -i {}/%*.png -vf scale=2000x720,setsar=1:1 {}'.format(\n",
    "        video_fps, # fps\n",
    "        viz_dir,\n",
    "        video_path\n",
    "    ))\n"
   ]
  },
  {
   "cell_type": "code",
   "execution_count": null,
   "metadata": {},
   "outputs": [],
   "source": [
    "# Remove the img directory\n",
    "\n",
    "for root in roots:\n",
    "    viz_dir = os.path.join(root, 'visualization')\n",
    "    shutil.rmtree(viz_dir)\n"
   ]
  },
  {
   "cell_type": "code",
   "execution_count": null,
   "metadata": {},
   "outputs": [],
   "source": []
  }
 ],
 "metadata": {
  "kernelspec": {
   "display_name": "Python 3.9.13 ('tactile_learning')",
   "language": "python",
   "name": "python3"
  },
  "language_info": {
   "codemirror_mode": {
    "name": "ipython",
    "version": 3
   },
   "file_extension": ".py",
   "mimetype": "text/x-python",
   "name": "python",
   "nbconvert_exporter": "python",
   "pygments_lexer": "ipython3",
   "version": "3.9.13"
  },
  "orig_nbformat": 4,
  "vscode": {
   "interpreter": {
    "hash": "36852de55b288c46ba617fd48cf310240e4201e2f57004cbdac030fa23152bd3"
   }
  }
 },
 "nbformat": 4,
 "nbformat_minor": 2
}
