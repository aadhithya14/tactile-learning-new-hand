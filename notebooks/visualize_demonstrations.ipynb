{
 "cells": [
  {
   "cell_type": "code",
   "execution_count": 1,
   "metadata": {},
   "outputs": [],
   "source": [
    "import cv2\n",
    "import h5py\n",
    "import matplotlib.pyplot as plt\n",
    "import numpy as np\n",
    "import os\n",
    "import pickle\n",
    "import shutil\n",
    "\n",
    "from tqdm import tqdm"
   ]
  },
  {
   "cell_type": "code",
   "execution_count": 2,
   "metadata": {},
   "outputs": [],
   "source": [
    "from tactile_learning.datasets import dump_video_to_images, get_closest_id\n",
    "from tactile_learning.utils.visualization import plot_tactile_sensor"
   ]
  },
  {
   "cell_type": "code",
   "execution_count": 3,
   "metadata": {},
   "outputs": [],
   "source": [
    "import decimal\n",
    "\n",
    "# Get the metadata of images and tactile information\n",
    "def get_desired_indices(root, fps, view_num=0): # frames per second from the video to receive\n",
    "    image_metadata_path = os.path.join(root, f'cam_{view_num}_rgb_video.metadata')\n",
    "    tactile_info_path = os.path.join(root, 'touch_sensor_values.h5')\n",
    "\n",
    "    with open(image_metadata_path, 'rb') as f:\n",
    "        image_metadata = pickle.load(f)\n",
    "        image_timestamps_array = np.asarray(image_metadata['timestamps'])\n",
    "        image_timestamps = np.asarray(image_metadata['timestamps']) / 1000.\n",
    "    with h5py.File(tactile_info_path, 'r') as f:\n",
    "        tactile_timestamps = f['timestamps'][()]\n",
    "\n",
    "    image_id, tactile_id = 0, 0\n",
    "    curr_timestamp = tactile_timestamps[0] # These timestamps are in seconds\n",
    "    image_id = get_closest_id(image_id, curr_timestamp, image_timestamps)\n",
    "\n",
    "    tactile_indices, image_indices = [], []\n",
    "    tactile_indices.append(tactile_id)\n",
    "    image_indices.append(image_id)\n",
    "\n",
    "    frame_period = 1. / fps\n",
    "    while(True):\n",
    "        curr_timestamp += frame_period\n",
    "        tactile_id = get_closest_id(tactile_id, curr_timestamp, tactile_timestamps)\n",
    "        image_id = get_closest_id(image_id, curr_timestamp, image_timestamps)\n",
    "\n",
    "        if curr_timestamp > tactile_timestamps[tactile_id] and curr_timestamp > image_timestamps[image_id]:\n",
    "            break\n",
    "\n",
    "        tactile_indices.append(tactile_id)\n",
    "        image_indices.append(image_id)\n",
    "\n",
    "    assert len(tactile_indices) == len(image_indices)\n",
    "    return tactile_indices, image_indices\n"
   ]
  },
  {
   "cell_type": "code",
   "execution_count": 4,
   "metadata": {},
   "outputs": [],
   "source": [
    "\n",
    "def dump_states(root, tactile_indices, image_indices, view_num=0):\n",
    "    # Make directory to dump the visualization\n",
    "    pbar = tqdm(total=len(tactile_indices))\n",
    "\n",
    "    with h5py.File(os.path.join(root, 'touch_sensor_values.h5'), 'r') as f:\n",
    "        all_tactile_values = f['sensor_values'][()]\n",
    "\n",
    "    viz_dir = os.path.join(root, 'visualization')\n",
    "    os.makedirs(viz_dir, exist_ok=True)\n",
    "    \n",
    "    video_path = os.path.join(root, f'cam_{view_num}_rgb_video.avi')\n",
    "    vidcap = cv2.VideoCapture(video_path)\n",
    "    success, image = vidcap.read()\n",
    "    frame_count = int(vidcap.get(cv2.CAP_PROP_FRAME_COUNT))\n",
    "    frame_id = 0\n",
    "    for i in range(len(tactile_indices)):\n",
    "        tactile_id, image_id = tactile_indices[i], image_indices[i]\n",
    "        while frame_id != image_id and success:\n",
    "            # Find the frame that is equal to image_id\n",
    "            success, image = vidcap.read()\n",
    "            frame_id += 1\n",
    "        dump_demo_state(\n",
    "            frame_id = i,\n",
    "            viz_dir = viz_dir,\n",
    "            tactile_values = all_tactile_values[tactile_id,:,:,:],\n",
    "            camera_img = image\n",
    "        )\n",
    "\n",
    "        pbar.update(1)\n",
    "\n",
    "    pbar.close()\n",
    "\n",
    "def dump_demo_state(frame_id, viz_dir, tactile_values, camera_img):\n",
    "    # tactile_values: (15,16,3)\n",
    "    fig, axs = plt.subplots(figsize=(20,20), nrows=4, ncols=4)\n",
    "    for row_id in range(4):\n",
    "        for column_id in range(4):\n",
    "            if row_id + column_id > 0: # The top left axis should stay empty\n",
    "                plot_tactile_sensor(\n",
    "                    ax = axs[column_id][row_id],\n",
    "                    sensor_values = tactile_values[row_id*4 + column_id-1],\n",
    "                    title = f'Sensor {row_id*4+column_id-1}'\n",
    "                )\n",
    "    fig.suptitle('Tactile State')\n",
    "    fig.savefig(os.path.join(viz_dir, 'Tactile State.png'))\n",
    "    fig.clf()\n",
    "    plt.close()\n",
    "\n",
    "    tactile_img = cv2.imread(os.path.join(viz_dir, 'Tactile State.png'))\n",
    "    height_scale = camera_img.shape[0] / tactile_img.shape[0]\n",
    "    tactile_img = cv2.resize(\n",
    "        tactile_img,\n",
    "        (int(tactile_img.shape[1] * height_scale),\n",
    "         int(tactile_img.shape[0] * height_scale))\n",
    "    )\n",
    "    total_img = cv2.hconcat([camera_img, tactile_img])\n",
    "\n",
    "    img_name = 'state_{}.png'.format(str(frame_id).zfill(3))\n",
    "    cv2.imwrite(os.path.join(viz_dir, img_name), total_img)\n",
    "\n"
   ]
  },
  {
   "cell_type": "code",
   "execution_count": 5,
   "metadata": {},
   "outputs": [
    {
     "name": "stdout",
     "output_type": "stream",
     "text": [
      "tactile_indices: [0, 100, 199, 298, 397, 495, 590, 689, 787, 886, 984, 1082, 1180, 1278, 1377, 1476], image_indices: [72, 101, 130, 159, 189, 219, 248, 278, 308, 338, 367, 397, 427, 457, 487, 517]\n"
     ]
    },
    {
     "name": "stderr",
     "output_type": "stream",
     "text": [
      "100%|██████████| 16/16 [00:19<00:00,  1.19s/it]\n"
     ]
    },
    {
     "name": "stdout",
     "output_type": "stream",
     "text": [
      "tactile_indices: [0, 99, 197, 294, 393, 491, 589, 689, 785, 882, 980, 1079, 1178, 1276, 1373, 1471, 1570, 1668, 1766, 1864, 1963, 2061, 2159, 2257, 2355, 2454], image_indices: [69, 99, 129, 159, 189, 219, 249, 279, 309, 339, 369, 398, 428, 458, 488, 518, 547, 577, 607, 637, 667, 697, 727, 756, 786, 815]\n"
     ]
    },
    {
     "name": "stderr",
     "output_type": "stream",
     "text": [
      "100%|██████████| 26/26 [00:30<00:00,  1.16s/it]\n"
     ]
    },
    {
     "name": "stdout",
     "output_type": "stream",
     "text": [
      "tactile_indices: [0, 99, 198, 297, 395, 493, 591, 693, 789, 886, 985, 1083, 1181, 1280], image_indices: [72, 102, 132, 162, 191, 221, 250, 280, 310, 340, 369, 399, 429, 459]\n"
     ]
    },
    {
     "name": "stderr",
     "output_type": "stream",
     "text": [
      "100%|██████████| 14/14 [00:16<00:00,  1.17s/it]\n"
     ]
    },
    {
     "name": "stdout",
     "output_type": "stream",
     "text": [
      "tactile_indices: [0, 101, 199, 296, 395, 494, 593, 691, 788, 888, 986, 1084, 1182, 1281, 1380, 1477, 1575, 1673, 1771, 1871, 1969], image_indices: [73, 103, 133, 163, 192, 222, 252, 281, 311, 341, 371, 400, 429, 459, 489, 518, 548, 578, 607, 637, 667]\n"
     ]
    },
    {
     "name": "stderr",
     "output_type": "stream",
     "text": [
      "100%|██████████| 21/21 [00:24<00:00,  1.17s/it]\n"
     ]
    },
    {
     "name": "stdout",
     "output_type": "stream",
     "text": [
      "tactile_indices: [0, 100, 198, 296, 396, 495, 593, 690, 788, 886, 985, 1082, 1181, 1280, 1377, 1476, 1573, 1671, 1769], image_indices: [72, 102, 132, 162, 192, 222, 252, 282, 312, 341, 370, 400, 430, 460, 490, 520, 550, 580, 608]\n"
     ]
    },
    {
     "name": "stderr",
     "output_type": "stream",
     "text": [
      "100%|██████████| 19/19 [00:22<00:00,  1.19s/it]\n"
     ]
    },
    {
     "name": "stdout",
     "output_type": "stream",
     "text": [
      "tactile_indices: [0, 99, 197, 294, 393, 493, 589, 688, 787, 884, 982, 1080, 1178, 1277, 1376, 1474, 1572, 1669, 1769, 1866, 1964, 2063, 2161, 2259, 2358, 2456, 2554, 2652, 2751], image_indices: [69, 98, 128, 158, 187, 217, 247, 277, 307, 336, 366, 396, 426, 456, 485, 515, 545, 575, 605, 635, 665, 695, 725, 754, 783, 811, 841, 871, 901]\n"
     ]
    },
    {
     "name": "stderr",
     "output_type": "stream",
     "text": [
      "100%|██████████| 29/29 [00:34<00:00,  1.17s/it]\n"
     ]
    },
    {
     "name": "stdout",
     "output_type": "stream",
     "text": [
      "tactile_indices: [0, 99, 197, 294, 393, 491, 590, 689, 787, 885, 983, 1082, 1180, 1278, 1377, 1474, 1572, 1670, 1768, 1867, 1965, 2063, 2161, 2259, 2359, 2456, 2553], image_indices: [70, 100, 130, 160, 190, 219, 248, 278, 308, 338, 367, 397, 427, 457, 487, 517, 547, 576, 606, 636, 666, 696, 726, 755, 785, 815, 845]\n"
     ]
    },
    {
     "name": "stderr",
     "output_type": "stream",
     "text": [
      "100%|██████████| 27/27 [00:32<00:00,  1.19s/it]\n"
     ]
    },
    {
     "name": "stdout",
     "output_type": "stream",
     "text": [
      "tactile_indices: [0, 100, 198, 297, 396, 494, 593, 690, 789, 889, 986, 1083, 1182, 1281, 1380, 1477, 1577, 1674], image_indices: [71, 101, 130, 159, 189, 219, 249, 279, 308, 338, 368, 398, 428, 458, 488, 517, 547, 576]\n"
     ]
    },
    {
     "name": "stderr",
     "output_type": "stream",
     "text": [
      "100%|██████████| 18/18 [00:21<00:00,  1.20s/it]\n"
     ]
    }
   ],
   "source": [
    "import glob\n",
    "# roots = [\n",
    "#     '/home/irmak/Workspace/Holo-Bot/extracted_data/bowl_picking/eval/demonstration_7',\n",
    "#     '/home/irmak/Workspace/Holo-Bot/extracted_data/bowl_picking/eval/demonstration_9',\n",
    "#     '/home/irmak/Workspace/Holo-Bot/extracted_data/bowl_picking/eval/demonstration_15',\n",
    "# ]\n",
    "data_path = '/home/irmak/Workspace/Holo-Bot/extracted_data/card_flipping'\n",
    "# data_path = '/data/tactile_learning/deployment_data/data/bowl_picking/demonstrations/image_generalization'\n",
    "roots = glob.glob(f'{data_path}/demonstration_*')\n",
    "\n",
    "retrieval_fps = 1\n",
    "view_num = 0\n",
    "for root in roots:\n",
    "    # print('root: {}'.format(root))\n",
    "    tactile_indices, image_indices = get_desired_indices(root=root, fps=retrieval_fps, view_num=view_num)\n",
    "    print('tactile_indices: {}, image_indices: {}'.format(tactile_indices, image_indices))\n",
    "    dump_states(root, tactile_indices, image_indices, view_num=view_num)\n"
   ]
  },
  {
   "cell_type": "code",
   "execution_count": 6,
   "metadata": {},
   "outputs": [
    {
     "name": "stdout",
     "output_type": "stream",
     "text": [
      "['/home/irmak/Workspace/Holo-Bot/extracted_data/card_flipping/demonstration_34', '/home/irmak/Workspace/Holo-Bot/extracted_data/card_flipping/demonstration_26', '/home/irmak/Workspace/Holo-Bot/extracted_data/card_flipping/demonstration_33', '/home/irmak/Workspace/Holo-Bot/extracted_data/card_flipping/demonstration_25', '/home/irmak/Workspace/Holo-Bot/extracted_data/card_flipping/demonstration_32', '/home/irmak/Workspace/Holo-Bot/extracted_data/card_flipping/demonstration_24', '/home/irmak/Workspace/Holo-Bot/extracted_data/card_flipping/demonstration_27', '/home/irmak/Workspace/Holo-Bot/extracted_data/card_flipping/demonstration_31']\n"
     ]
    }
   ],
   "source": [
    "print(roots)"
   ]
  },
  {
   "cell_type": "code",
   "execution_count": 7,
   "metadata": {},
   "outputs": [
    {
     "name": "stdout",
     "output_type": "stream",
     "text": [
      "dumping video in root: /home/irmak/Workspace/Holo-Bot/extracted_data/card_flipping/demonstration_34\n"
     ]
    },
    {
     "name": "stderr",
     "output_type": "stream",
     "text": [
      "ffmpeg version 5.1.2 Copyright (c) 2000-2022 the FFmpeg developers\n",
      "  built with gcc 10.4.0 (conda-forge gcc 10.4.0-18)\n",
      "  configuration: --prefix=/home/irmak/miniconda3/envs/tactile_learning --cc=/home/conda/feedstock_root/build_artifacts/ffmpeg_1666357487580/_build_env/bin/x86_64-conda-linux-gnu-cc --cxx=/home/conda/feedstock_root/build_artifacts/ffmpeg_1666357487580/_build_env/bin/x86_64-conda-linux-gnu-c++ --nm=/home/conda/feedstock_root/build_artifacts/ffmpeg_1666357487580/_build_env/bin/x86_64-conda-linux-gnu-nm --ar=/home/conda/feedstock_root/build_artifacts/ffmpeg_1666357487580/_build_env/bin/x86_64-conda-linux-gnu-ar --disable-doc --disable-openssl --enable-demuxer=dash --enable-hardcoded-tables --enable-libfreetype --enable-libfontconfig --enable-libopenh264 --enable-gnutls --enable-libmp3lame --enable-libvpx --enable-pthreads --enable-vaapi --enable-gpl --enable-libx264 --enable-libx265 --enable-libaom --enable-libsvtav1 --enable-libxml2 --enable-pic --enable-shared --disable-static --enable-version3 --enable-zlib --pkg-config=/home/conda/feedstock_root/build_artifacts/ffmpeg_1666357487580/_build_env/bin/pkg-config\n",
      "  libavutil      57. 28.100 / 57. 28.100\n",
      "  libavcodec     59. 37.100 / 59. 37.100\n",
      "  libavformat    59. 27.100 / 59. 27.100\n",
      "  libavdevice    59.  7.100 / 59.  7.100\n",
      "  libavfilter     8. 44.100 /  8. 44.100\n",
      "  libswscale      6.  7.100 /  6.  7.100\n",
      "  libswresample   4.  7.100 /  4.  7.100\n",
      "  libpostproc    56.  6.100 / 56.  6.100\n",
      "[image2 @ 0x55e77c41e640] Pattern type 'glob_sequence' is deprecated: use pattern_type 'glob' instead\n",
      "Input #0, image2, from '/home/irmak/Workspace/Holo-Bot/extracted_data/card_flipping/demonstration_34/visualization/%*.png':\n",
      "  Duration: 00:00:00.68, start: 0.000000, bitrate: N/A\n",
      "  Stream #0:0: Video: png, rgba(pc), 2000x2000 [SAR 3937:3937 DAR 1:1], 25 fps, 25 tbr, 25 tbn\n",
      "Stream mapping:\n",
      "  Stream #0:0 -> #0:0 (png (native) -> h264 (libx264))\n",
      "Press [q] to stop, [?] for help\n",
      "[libx264 @ 0x55e77c424fc0] using SAR=1/1\n",
      "[libx264 @ 0x55e77c424fc0] using cpu capabilities: MMX2 SSE2Fast SSSE3 SSE4.2 AVX FMA3 BMI2 AVX2\n",
      "[libx264 @ 0x55e77c424fc0] profile High 4:4:4 Predictive, level 4.0, 4:4:4, 8-bit\n",
      "[libx264 @ 0x55e77c424fc0] 264 - core 164 r3095 baee400 - H.264/MPEG-4 AVC codec - Copyleft 2003-2022 - http://www.videolan.org/x264.html - options: cabac=1 ref=3 deblock=1:0:0 analyse=0x3:0x113 me=hex subme=7 psy=1 psy_rd=1.00:0.00 mixed_ref=1 me_range=16 chroma_me=1 trellis=1 8x8dct=1 cqm=0 deadzone=21,11 fast_pskip=1 chroma_qp_offset=4 threads=22 lookahead_threads=3 sliced_threads=0 nr=0 decimate=1 interlaced=0 bluray_compat=0 constrained_intra=0 bframes=3 b_pyramid=2 b_adapt=1 b_bias=0 direct=1 weightb=1 open_gop=0 weightp=2 keyint=250 keyint_min=10 scenecut=40 intra_refresh=0 rc_lookahead=40 rc=crf mbtree=1 crf=23.0 qcomp=0.60 qpmin=0 qpmax=69 qpstep=4 ip_ratio=1.40 aq=1:1.00\n",
      "Output #0, mp4, to '/home/irmak/Workspace/Holo-Bot/extracted_data/card_flipping/demonstration_34/visualization_0.mp4':\n",
      "  Metadata:\n",
      "    encoder         : Lavf59.27.100\n",
      "  Stream #0:0: Video: h264 (avc1 / 0x31637661), yuv444p(tv, progressive), 2000x720 [SAR 1:1 DAR 25:9], q=2-31, 10 fps, 10240 tbn\n",
      "    Metadata:\n",
      "      encoder         : Lavc59.37.100 libx264\n",
      "    Side data:\n",
      "      cpb: bitrate max/min/avg: 0/0/0 buffer size: 0 vbv_delay: N/A\n",
      "frame=   17 fps=0.0 q=-1.0 Lsize=     588kB time=00:00:01.40 bitrate=3442.9kbits/s speed=2.12x    \n",
      "video:587kB audio:0kB subtitle:0kB other streams:0kB global headers:0kB muxing overhead: 0.179726%\n",
      "[libx264 @ 0x55e77c424fc0] frame I:1     Avg QP:22.88  size: 48088\n",
      "[libx264 @ 0x55e77c424fc0] frame P:4     Avg QP:21.11  size: 58244\n",
      "[libx264 @ 0x55e77c424fc0] frame B:12    Avg QP:21.78  size: 26643\n",
      "[libx264 @ 0x55e77c424fc0] consecutive B-frames:  5.9%  0.0%  0.0% 94.1%\n",
      "[libx264 @ 0x55e77c424fc0] mb I  I16..4: 21.1% 51.5% 27.4%\n",
      "[libx264 @ 0x55e77c424fc0] mb P  I16..4:  3.2% 33.6%  3.7%  P16..4: 17.2% 10.5%  6.2%  0.0%  0.0%    skip:25.4%\n",
      "[libx264 @ 0x55e77c424fc0] mb B  I16..4:  0.5% 12.1%  0.2%  B16..8: 24.7%  6.1%  1.8%  direct: 6.1%  skip:48.5%  L0:43.9% L1:48.7% BI: 7.4%\n",
      "[libx264 @ 0x55e77c424fc0] 8x8 transform intra:79.8% inter:83.8%\n",
      "[libx264 @ 0x55e77c424fc0] coded y,u,v intra: 65.9% 36.4% 34.7% inter: 23.7% 14.5% 12.9%\n",
      "[libx264 @ 0x55e77c424fc0] i16 v,h,dc,p: 44% 44%  4%  8%\n",
      "[libx264 @ 0x55e77c424fc0] i8 v,h,dc,ddl,ddr,vr,hd,vl,hu: 16% 19% 50%  3%  2%  2%  2%  3%  4%\n",
      "[libx264 @ 0x55e77c424fc0] i4 v,h,dc,ddl,ddr,vr,hd,vl,hu: 41% 33% 12%  1%  2%  2%  4%  2%  3%\n",
      "[libx264 @ 0x55e77c424fc0] Weighted P-Frames: Y:0.0% UV:0.0%\n",
      "[libx264 @ 0x55e77c424fc0] ref P L0: 46.6%  7.8% 30.2% 15.3%\n",
      "[libx264 @ 0x55e77c424fc0] ref B L0: 70.4% 24.9%  4.7%\n",
      "[libx264 @ 0x55e77c424fc0] ref B L1: 86.7% 13.3%\n",
      "[libx264 @ 0x55e77c424fc0] kb/s:2827.21\n",
      "ffmpeg version 5.1.2 Copyright (c) 2000-2022 the FFmpeg developers\n",
      "  built with gcc 10.4.0 (conda-forge gcc 10.4.0-18)\n",
      "  configuration: --prefix=/home/irmak/miniconda3/envs/tactile_learning --cc=/home/conda/feedstock_root/build_artifacts/ffmpeg_1666357487580/_build_env/bin/x86_64-conda-linux-gnu-cc --cxx=/home/conda/feedstock_root/build_artifacts/ffmpeg_1666357487580/_build_env/bin/x86_64-conda-linux-gnu-c++ --nm=/home/conda/feedstock_root/build_artifacts/ffmpeg_1666357487580/_build_env/bin/x86_64-conda-linux-gnu-nm --ar=/home/conda/feedstock_root/build_artifacts/ffmpeg_1666357487580/_build_env/bin/x86_64-conda-linux-gnu-ar --disable-doc --disable-openssl --enable-demuxer=dash --enable-hardcoded-tables --enable-libfreetype --enable-libfontconfig --enable-libopenh264 --enable-gnutls --enable-libmp3lame --enable-libvpx --enable-pthreads --enable-vaapi --enable-gpl --enable-libx264 --enable-libx265 --enable-libaom --enable-libsvtav1 --enable-libxml2 --enable-pic --enable-shared --disable-static --enable-version3 --enable-zlib --pkg-config=/home/conda/feedstock_root/build_artifacts/ffmpeg_1666357487580/_build_env/bin/pkg-config\n",
      "  libavutil      57. 28.100 / 57. 28.100\n",
      "  libavcodec     59. 37.100 / 59. 37.100\n",
      "  libavformat    59. 27.100 / 59. 27.100\n",
      "  libavdevice    59.  7.100 / 59.  7.100\n",
      "  libavfilter     8. 44.100 /  8. 44.100\n",
      "  libswscale      6.  7.100 /  6.  7.100\n",
      "  libswresample   4.  7.100 /  4.  7.100\n",
      "  libpostproc    56.  6.100 / 56.  6.100\n",
      "[image2 @ 0x5587245ea640] Pattern type 'glob_sequence' is deprecated: use pattern_type 'glob' instead\n",
      "Input #0, image2, from '/home/irmak/Workspace/Holo-Bot/extracted_data/card_flipping/demonstration_26/visualization/%*.png':\n",
      "  Duration: 00:00:01.08, start: 0.000000, bitrate: N/A\n",
      "  Stream #0:0: Video: png, rgba(pc), 2000x2000 [SAR 3937:3937 DAR 1:1], 25 fps, 25 tbr, 25 tbn\n",
      "Stream mapping:\n",
      "  Stream #0:0 -> #0:0 (png (native) -> h264 (libx264))\n",
      "Press [q] to stop, [?] for help\n"
     ]
    },
    {
     "name": "stdout",
     "output_type": "stream",
     "text": [
      "dumping video in root: /home/irmak/Workspace/Holo-Bot/extracted_data/card_flipping/demonstration_26\n"
     ]
    },
    {
     "name": "stderr",
     "output_type": "stream",
     "text": [
      "[libx264 @ 0x5587245f14c0] using SAR=1/1\n",
      "[libx264 @ 0x5587245f14c0] using cpu capabilities: MMX2 SSE2Fast SSSE3 SSE4.2 AVX FMA3 BMI2 AVX2\n",
      "[libx264 @ 0x5587245f14c0] profile High 4:4:4 Predictive, level 4.0, 4:4:4, 8-bit\n",
      "[libx264 @ 0x5587245f14c0] 264 - core 164 r3095 baee400 - H.264/MPEG-4 AVC codec - Copyleft 2003-2022 - http://www.videolan.org/x264.html - options: cabac=1 ref=3 deblock=1:0:0 analyse=0x3:0x113 me=hex subme=7 psy=1 psy_rd=1.00:0.00 mixed_ref=1 me_range=16 chroma_me=1 trellis=1 8x8dct=1 cqm=0 deadzone=21,11 fast_pskip=1 chroma_qp_offset=4 threads=22 lookahead_threads=3 sliced_threads=0 nr=0 decimate=1 interlaced=0 bluray_compat=0 constrained_intra=0 bframes=3 b_pyramid=2 b_adapt=1 b_bias=0 direct=1 weightb=1 open_gop=0 weightp=2 keyint=250 keyint_min=10 scenecut=40 intra_refresh=0 rc_lookahead=40 rc=crf mbtree=1 crf=23.0 qcomp=0.60 qpmin=0 qpmax=69 qpstep=4 ip_ratio=1.40 aq=1:1.00\n",
      "Output #0, mp4, to '/home/irmak/Workspace/Holo-Bot/extracted_data/card_flipping/demonstration_26/visualization_0.mp4':\n",
      "  Metadata:\n",
      "    encoder         : Lavf59.27.100\n",
      "  Stream #0:0: Video: h264 (avc1 / 0x31637661), yuv444p(tv, progressive), 2000x720 [SAR 1:1 DAR 25:9], q=2-31, 10 fps, 10240 tbn\n",
      "    Metadata:\n",
      "      encoder         : Lavc59.37.100 libx264\n",
      "    Side data:\n",
      "      cpb: bitrate max/min/avg: 0/0/0 buffer size: 0 vbv_delay: N/A\n",
      "frame=   27 fps=0.0 q=-1.0 Lsize=     899kB time=00:00:02.40 bitrate=3069.0kbits/s speed= 3.1x    \n",
      "video:898kB audio:0kB subtitle:0kB other streams:0kB global headers:0kB muxing overhead: 0.130611%\n",
      "[libx264 @ 0x5587245f14c0] frame I:1     Avg QP:24.96  size: 50133\n",
      "[libx264 @ 0x5587245f14c0] frame P:7     Avg QP:20.65  size: 55203\n",
      "[libx264 @ 0x5587245f14c0] frame B:19    Avg QP:22.03  size: 25383\n",
      "[libx264 @ 0x5587245f14c0] consecutive B-frames:  3.7%  7.4%  0.0% 88.9%\n",
      "[libx264 @ 0x5587245f14c0] mb I  I16..4: 20.6% 51.1% 28.4%\n",
      "[libx264 @ 0x5587245f14c0] mb P  I16..4:  2.3% 30.0%  2.1%  P16..4: 19.1% 12.0%  7.4%  0.0%  0.0%    skip:27.0%\n",
      "[libx264 @ 0x5587245f14c0] mb B  I16..4:  0.4% 10.2%  0.2%  B16..8: 26.1%  6.5%  2.0%  direct: 5.7%  skip:49.0%  L0:46.5% L1:45.7% BI: 7.9%\n",
      "[libx264 @ 0x5587245f14c0] 8x8 transform intra:83.4% inter:83.5%\n",
      "[libx264 @ 0x5587245f14c0] coded y,u,v intra: 70.6% 39.0% 36.6% inter: 23.8% 14.6% 12.7%\n",
      "[libx264 @ 0x5587245f14c0] i16 v,h,dc,p: 44% 40%  6% 10%\n",
      "[libx264 @ 0x5587245f14c0] i8 v,h,dc,ddl,ddr,vr,hd,vl,hu: 14% 18% 53%  3%  2%  2%  2%  3%  4%\n",
      "[libx264 @ 0x5587245f14c0] i4 v,h,dc,ddl,ddr,vr,hd,vl,hu: 37% 34% 13%  2%  2%  2%  4%  2%  3%\n",
      "[libx264 @ 0x5587245f14c0] Weighted P-Frames: Y:0.0% UV:0.0%\n",
      "[libx264 @ 0x5587245f14c0] ref P L0: 40.7%  8.9% 31.6% 18.8%\n",
      "[libx264 @ 0x5587245f14c0] ref B L0: 66.3% 28.1%  5.6%\n",
      "[libx264 @ 0x5587245f14c0] ref B L1: 87.2% 12.8%\n",
      "[libx264 @ 0x5587245f14c0] kb/s:2722.47\n",
      "ffmpeg version 5.1.2 Copyright (c) 2000-2022 the FFmpeg developers\n",
      "  built with gcc 10.4.0 (conda-forge gcc 10.4.0-18)\n",
      "  configuration: --prefix=/home/irmak/miniconda3/envs/tactile_learning --cc=/home/conda/feedstock_root/build_artifacts/ffmpeg_1666357487580/_build_env/bin/x86_64-conda-linux-gnu-cc --cxx=/home/conda/feedstock_root/build_artifacts/ffmpeg_1666357487580/_build_env/bin/x86_64-conda-linux-gnu-c++ --nm=/home/conda/feedstock_root/build_artifacts/ffmpeg_1666357487580/_build_env/bin/x86_64-conda-linux-gnu-nm --ar=/home/conda/feedstock_root/build_artifacts/ffmpeg_1666357487580/_build_env/bin/x86_64-conda-linux-gnu-ar --disable-doc --disable-openssl --enable-demuxer=dash --enable-hardcoded-tables --enable-libfreetype --enable-libfontconfig --enable-libopenh264 --enable-gnutls --enable-libmp3lame --enable-libvpx --enable-pthreads --enable-vaapi --enable-gpl --enable-libx264 --enable-libx265 --enable-libaom --enable-libsvtav1 --enable-libxml2 --enable-pic --enable-shared --disable-static --enable-version3 --enable-zlib --pkg-config=/home/conda/feedstock_root/build_artifacts/ffmpeg_1666357487580/_build_env/bin/pkg-config\n",
      "  libavutil      57. 28.100 / 57. 28.100\n",
      "  libavcodec     59. 37.100 / 59. 37.100\n",
      "  libavformat    59. 27.100 / 59. 27.100\n",
      "  libavdevice    59.  7.100 / 59.  7.100\n",
      "  libavfilter     8. 44.100 /  8. 44.100\n",
      "  libswscale      6.  7.100 /  6.  7.100\n",
      "  libswresample   4.  7.100 /  4.  7.100\n",
      "  libpostproc    56.  6.100 / 56.  6.100\n",
      "[image2 @ 0x556bcdbac640] Pattern type 'glob_sequence' is deprecated: use pattern_type 'glob' instead\n",
      "Input #0, image2, from '/home/irmak/Workspace/Holo-Bot/extracted_data/card_flipping/demonstration_33/visualization/%*.png':\n",
      "  Duration: 00:00:00.60, start: 0.000000, bitrate: N/A\n",
      "  Stream #0:0: Video: png, rgba(pc), 2000x2000 [SAR 3937:3937 DAR 1:1], 25 fps, 25 tbr, 25 tbn\n",
      "Stream mapping:\n",
      "  Stream #0:0 -> #0:0 (png (native) -> h264 (libx264))\n",
      "Press [q] to stop, [?] for help\n"
     ]
    },
    {
     "name": "stdout",
     "output_type": "stream",
     "text": [
      "dumping video in root: /home/irmak/Workspace/Holo-Bot/extracted_data/card_flipping/demonstration_33\n"
     ]
    },
    {
     "name": "stderr",
     "output_type": "stream",
     "text": [
      "[libx264 @ 0x556bcdbb1b00] using SAR=1/1\n",
      "[libx264 @ 0x556bcdbb1b00] using cpu capabilities: MMX2 SSE2Fast SSSE3 SSE4.2 AVX FMA3 BMI2 AVX2\n",
      "[libx264 @ 0x556bcdbb1b00] profile High 4:4:4 Predictive, level 4.0, 4:4:4, 8-bit\n",
      "[libx264 @ 0x556bcdbb1b00] 264 - core 164 r3095 baee400 - H.264/MPEG-4 AVC codec - Copyleft 2003-2022 - http://www.videolan.org/x264.html - options: cabac=1 ref=3 deblock=1:0:0 analyse=0x3:0x113 me=hex subme=7 psy=1 psy_rd=1.00:0.00 mixed_ref=1 me_range=16 chroma_me=1 trellis=1 8x8dct=1 cqm=0 deadzone=21,11 fast_pskip=1 chroma_qp_offset=4 threads=22 lookahead_threads=3 sliced_threads=0 nr=0 decimate=1 interlaced=0 bluray_compat=0 constrained_intra=0 bframes=3 b_pyramid=2 b_adapt=1 b_bias=0 direct=1 weightb=1 open_gop=0 weightp=2 keyint=250 keyint_min=10 scenecut=40 intra_refresh=0 rc_lookahead=40 rc=crf mbtree=1 crf=23.0 qcomp=0.60 qpmin=0 qpmax=69 qpstep=4 ip_ratio=1.40 aq=1:1.00\n",
      "Output #0, mp4, to '/home/irmak/Workspace/Holo-Bot/extracted_data/card_flipping/demonstration_33/visualization_0.mp4':\n",
      "  Metadata:\n",
      "    encoder         : Lavf59.27.100\n",
      "  Stream #0:0: Video: h264 (avc1 / 0x31637661), yuv444p(tv, progressive), 2000x720 [SAR 1:1 DAR 25:9], q=2-31, 10 fps, 10240 tbn\n",
      "    Metadata:\n",
      "      encoder         : Lavc59.37.100 libx264\n",
      "    Side data:\n",
      "      cpb: bitrate max/min/avg: 0/0/0 buffer size: 0 vbv_delay: N/A\n",
      "frame=   15 fps=0.0 q=-1.0 Lsize=     531kB time=00:00:01.20 bitrate=3625.4kbits/s speed=1.93x    \n",
      "video:530kB audio:0kB subtitle:0kB other streams:0kB global headers:0kB muxing overhead: 0.194730%\n",
      "[libx264 @ 0x556bcdbb1b00] frame I:1     Avg QP:23.60  size: 48518\n",
      "[libx264 @ 0x556bcdbb1b00] frame P:4     Avg QP:21.28  size: 55409\n",
      "[libx264 @ 0x556bcdbb1b00] frame B:10    Avg QP:22.02  size: 27196\n",
      "[libx264 @ 0x556bcdbb1b00] consecutive B-frames:  6.7% 13.3%  0.0% 80.0%\n",
      "[libx264 @ 0x556bcdbb1b00] mb I  I16..4: 27.7% 44.0% 28.2%\n",
      "[libx264 @ 0x556bcdbb1b00] mb P  I16..4:  3.4% 31.9%  3.5%  P16..4: 19.8% 11.1%  5.9%  0.0%  0.0%    skip:24.4%\n",
      "[libx264 @ 0x556bcdbb1b00] mb B  I16..4:  0.4% 13.4%  0.2%  B16..8: 24.5%  6.0%  1.8%  direct: 5.8%  skip:47.9%  L0:41.7% L1:51.1% BI: 7.3%\n",
      "[libx264 @ 0x556bcdbb1b00] 8x8 transform intra:77.3% inter:83.9%\n",
      "[libx264 @ 0x556bcdbb1b00] coded y,u,v intra: 64.7% 36.1% 34.0% inter: 23.3% 14.5% 13.1%\n",
      "[libx264 @ 0x556bcdbb1b00] i16 v,h,dc,p: 50% 38%  4%  7%\n",
      "[libx264 @ 0x556bcdbb1b00] i8 v,h,dc,ddl,ddr,vr,hd,vl,hu: 15% 19% 50%  3%  2%  2%  2%  3%  5%\n",
      "[libx264 @ 0x556bcdbb1b00] i4 v,h,dc,ddl,ddr,vr,hd,vl,hu: 39% 35% 12%  2%  2%  2%  4%  2%  3%\n",
      "[libx264 @ 0x556bcdbb1b00] Weighted P-Frames: Y:0.0% UV:0.0%\n",
      "[libx264 @ 0x556bcdbb1b00] ref P L0: 42.9%  9.1% 30.6% 17.4%\n",
      "[libx264 @ 0x556bcdbb1b00] ref B L0: 70.0% 26.0%  3.9%\n",
      "[libx264 @ 0x556bcdbb1b00] ref B L1: 88.7% 11.3%\n",
      "[libx264 @ 0x556bcdbb1b00] kb/s:2891.27\n",
      "ffmpeg version 5.1.2 Copyright (c) 2000-2022 the FFmpeg developers\n",
      "  built with gcc 10.4.0 (conda-forge gcc 10.4.0-18)\n",
      "  configuration: --prefix=/home/irmak/miniconda3/envs/tactile_learning --cc=/home/conda/feedstock_root/build_artifacts/ffmpeg_1666357487580/_build_env/bin/x86_64-conda-linux-gnu-cc --cxx=/home/conda/feedstock_root/build_artifacts/ffmpeg_1666357487580/_build_env/bin/x86_64-conda-linux-gnu-c++ --nm=/home/conda/feedstock_root/build_artifacts/ffmpeg_1666357487580/_build_env/bin/x86_64-conda-linux-gnu-nm --ar=/home/conda/feedstock_root/build_artifacts/ffmpeg_1666357487580/_build_env/bin/x86_64-conda-linux-gnu-ar --disable-doc --disable-openssl --enable-demuxer=dash --enable-hardcoded-tables --enable-libfreetype --enable-libfontconfig --enable-libopenh264 --enable-gnutls --enable-libmp3lame --enable-libvpx --enable-pthreads --enable-vaapi --enable-gpl --enable-libx264 --enable-libx265 --enable-libaom --enable-libsvtav1 --enable-libxml2 --enable-pic --enable-shared --disable-static --enable-version3 --enable-zlib --pkg-config=/home/conda/feedstock_root/build_artifacts/ffmpeg_1666357487580/_build_env/bin/pkg-config\n",
      "  libavutil      57. 28.100 / 57. 28.100\n",
      "  libavcodec     59. 37.100 / 59. 37.100\n",
      "  libavformat    59. 27.100 / 59. 27.100\n",
      "  libavdevice    59.  7.100 / 59.  7.100\n",
      "  libavfilter     8. 44.100 /  8. 44.100\n",
      "  libswscale      6.  7.100 /  6.  7.100\n",
      "  libswresample   4.  7.100 /  4.  7.100\n",
      "  libpostproc    56.  6.100 / 56.  6.100\n",
      "[image2 @ 0x55d2eac65640] Pattern type 'glob_sequence' is deprecated: use pattern_type 'glob' instead\n",
      "Input #0, image2, from '/home/irmak/Workspace/Holo-Bot/extracted_data/card_flipping/demonstration_25/visualization/%*.png':\n",
      "  Duration: 00:00:00.88, start: 0.000000, bitrate: N/A\n",
      "  Stream #0:0: Video: png, rgba(pc), 2000x2000 [SAR 3937:3937 DAR 1:1], 25 fps, 25 tbr, 25 tbn\n",
      "Stream mapping:\n",
      "  Stream #0:0 -> #0:0 (png (native) -> h264 (libx264))\n",
      "Press [q] to stop, [?] for help\n"
     ]
    },
    {
     "name": "stdout",
     "output_type": "stream",
     "text": [
      "dumping video in root: /home/irmak/Workspace/Holo-Bot/extracted_data/card_flipping/demonstration_25\n"
     ]
    },
    {
     "name": "stderr",
     "output_type": "stream",
     "text": [
      "[libx264 @ 0x55d2eac6c240] using SAR=1/1\n",
      "[libx264 @ 0x55d2eac6c240] using cpu capabilities: MMX2 SSE2Fast SSSE3 SSE4.2 AVX FMA3 BMI2 AVX2\n",
      "[libx264 @ 0x55d2eac6c240] profile High 4:4:4 Predictive, level 4.0, 4:4:4, 8-bit\n",
      "[libx264 @ 0x55d2eac6c240] 264 - core 164 r3095 baee400 - H.264/MPEG-4 AVC codec - Copyleft 2003-2022 - http://www.videolan.org/x264.html - options: cabac=1 ref=3 deblock=1:0:0 analyse=0x3:0x113 me=hex subme=7 psy=1 psy_rd=1.00:0.00 mixed_ref=1 me_range=16 chroma_me=1 trellis=1 8x8dct=1 cqm=0 deadzone=21,11 fast_pskip=1 chroma_qp_offset=4 threads=22 lookahead_threads=3 sliced_threads=0 nr=0 decimate=1 interlaced=0 bluray_compat=0 constrained_intra=0 bframes=3 b_pyramid=2 b_adapt=1 b_bias=0 direct=1 weightb=1 open_gop=0 weightp=2 keyint=250 keyint_min=10 scenecut=40 intra_refresh=0 rc_lookahead=40 rc=crf mbtree=1 crf=23.0 qcomp=0.60 qpmin=0 qpmax=69 qpstep=4 ip_ratio=1.40 aq=1:1.00\n",
      "Output #0, mp4, to '/home/irmak/Workspace/Holo-Bot/extracted_data/card_flipping/demonstration_25/visualization_0.mp4':\n",
      "  Metadata:\n",
      "    encoder         : Lavf59.27.100\n",
      "  Stream #0:0: Video: h264 (avc1 / 0x31637661), yuv444p(tv, progressive), 2000x720 [SAR 1:1 DAR 25:9], q=2-31, 10 fps, 10240 tbn\n",
      "    Metadata:\n",
      "      encoder         : Lavc59.37.100 libx264\n",
      "    Side data:\n",
      "      cpb: bitrate max/min/avg: 0/0/0 buffer size: 0 vbv_delay: N/A\n",
      "frame=   22 fps=0.0 q=-1.0 Lsize=     748kB time=00:00:01.90 bitrate=3225.3kbits/s speed=2.69x    \n",
      "video:747kB audio:0kB subtitle:0kB other streams:0kB global headers:0kB muxing overhead: 0.149169%\n",
      "[libx264 @ 0x55d2eac6c240] frame I:1     Avg QP:23.49  size: 49527\n",
      "[libx264 @ 0x55d2eac6c240] frame P:6     Avg QP:20.97  size: 52770\n",
      "[libx264 @ 0x55d2eac6c240] frame B:15    Avg QP:21.92  size: 26538\n",
      "[libx264 @ 0x55d2eac6c240] consecutive B-frames:  9.1%  0.0%  0.0% 90.9%\n",
      "[libx264 @ 0x55d2eac6c240] mb I  I16..4: 26.3% 45.3% 28.5%\n",
      "[libx264 @ 0x55d2eac6c240] mb P  I16..4:  2.6% 27.0%  2.4%  P16..4: 21.6% 12.2%  7.3%  0.0%  0.0%    skip:26.9%\n",
      "[libx264 @ 0x55d2eac6c240] mb B  I16..4:  0.4% 12.0%  0.2%  B16..8: 25.0%  6.5%  1.9%  direct: 5.8%  skip:48.2%  L0:45.6% L1:47.1% BI: 7.3%\n",
      "[libx264 @ 0x55d2eac6c240] 8x8 transform intra:80.5% inter:83.7%\n",
      "[libx264 @ 0x55d2eac6c240] coded y,u,v intra: 68.3% 38.3% 35.3% inter: 23.8% 14.6% 12.7%\n",
      "[libx264 @ 0x55d2eac6c240] i16 v,h,dc,p: 49% 37%  5%  8%\n",
      "[libx264 @ 0x55d2eac6c240] i8 v,h,dc,ddl,ddr,vr,hd,vl,hu: 14% 18% 52%  3%  2%  2%  3%  3%  4%\n",
      "[libx264 @ 0x55d2eac6c240] i4 v,h,dc,ddl,ddr,vr,hd,vl,hu: 39% 33% 12%  2%  2%  2%  4%  2%  3%\n",
      "[libx264 @ 0x55d2eac6c240] Weighted P-Frames: Y:0.0% UV:0.0%\n",
      "[libx264 @ 0x55d2eac6c240] ref P L0: 40.4%  8.7% 31.7% 19.1%\n",
      "[libx264 @ 0x55d2eac6c240] ref B L0: 69.1% 25.2%  5.8%\n",
      "[libx264 @ 0x55d2eac6c240] ref B L1: 87.3% 12.7%\n",
      "[libx264 @ 0x55d2eac6c240] kb/s:2778.96\n",
      "ffmpeg version 5.1.2 Copyright (c) 2000-2022 the FFmpeg developers\n",
      "  built with gcc 10.4.0 (conda-forge gcc 10.4.0-18)\n",
      "  configuration: --prefix=/home/irmak/miniconda3/envs/tactile_learning --cc=/home/conda/feedstock_root/build_artifacts/ffmpeg_1666357487580/_build_env/bin/x86_64-conda-linux-gnu-cc --cxx=/home/conda/feedstock_root/build_artifacts/ffmpeg_1666357487580/_build_env/bin/x86_64-conda-linux-gnu-c++ --nm=/home/conda/feedstock_root/build_artifacts/ffmpeg_1666357487580/_build_env/bin/x86_64-conda-linux-gnu-nm --ar=/home/conda/feedstock_root/build_artifacts/ffmpeg_1666357487580/_build_env/bin/x86_64-conda-linux-gnu-ar --disable-doc --disable-openssl --enable-demuxer=dash --enable-hardcoded-tables --enable-libfreetype --enable-libfontconfig --enable-libopenh264 --enable-gnutls --enable-libmp3lame --enable-libvpx --enable-pthreads --enable-vaapi --enable-gpl --enable-libx264 --enable-libx265 --enable-libaom --enable-libsvtav1 --enable-libxml2 --enable-pic --enable-shared --disable-static --enable-version3 --enable-zlib --pkg-config=/home/conda/feedstock_root/build_artifacts/ffmpeg_1666357487580/_build_env/bin/pkg-config\n",
      "  libavutil      57. 28.100 / 57. 28.100\n",
      "  libavcodec     59. 37.100 / 59. 37.100\n",
      "  libavformat    59. 27.100 / 59. 27.100\n",
      "  libavdevice    59.  7.100 / 59.  7.100\n",
      "  libavfilter     8. 44.100 /  8. 44.100\n",
      "  libswscale      6.  7.100 /  6.  7.100\n",
      "  libswresample   4.  7.100 /  4.  7.100\n",
      "  libpostproc    56.  6.100 / 56.  6.100\n",
      "[image2 @ 0x562b35500640] Pattern type 'glob_sequence' is deprecated: use pattern_type 'glob' instead\n",
      "Input #0, image2, from '/home/irmak/Workspace/Holo-Bot/extracted_data/card_flipping/demonstration_32/visualization/%*.png':\n",
      "  Duration: 00:00:00.80, start: 0.000000, bitrate: N/A\n",
      "  Stream #0:0: Video: png, rgba(pc), 2000x2000 [SAR 3937:3937 DAR 1:1], 25 fps, 25 tbr, 25 tbn\n",
      "Stream mapping:\n",
      "  Stream #0:0 -> #0:0 (png (native) -> h264 (libx264))\n",
      "Press [q] to stop, [?] for help\n"
     ]
    },
    {
     "name": "stdout",
     "output_type": "stream",
     "text": [
      "dumping video in root: /home/irmak/Workspace/Holo-Bot/extracted_data/card_flipping/demonstration_32\n"
     ]
    },
    {
     "name": "stderr",
     "output_type": "stream",
     "text": [
      "[libx264 @ 0x562b35507140] using SAR=1/1\n",
      "[libx264 @ 0x562b35507140] using cpu capabilities: MMX2 SSE2Fast SSSE3 SSE4.2 AVX FMA3 BMI2 AVX2\n",
      "[libx264 @ 0x562b35507140] profile High 4:4:4 Predictive, level 4.0, 4:4:4, 8-bit\n",
      "[libx264 @ 0x562b35507140] 264 - core 164 r3095 baee400 - H.264/MPEG-4 AVC codec - Copyleft 2003-2022 - http://www.videolan.org/x264.html - options: cabac=1 ref=3 deblock=1:0:0 analyse=0x3:0x113 me=hex subme=7 psy=1 psy_rd=1.00:0.00 mixed_ref=1 me_range=16 chroma_me=1 trellis=1 8x8dct=1 cqm=0 deadzone=21,11 fast_pskip=1 chroma_qp_offset=4 threads=22 lookahead_threads=3 sliced_threads=0 nr=0 decimate=1 interlaced=0 bluray_compat=0 constrained_intra=0 bframes=3 b_pyramid=2 b_adapt=1 b_bias=0 direct=1 weightb=1 open_gop=0 weightp=2 keyint=250 keyint_min=10 scenecut=40 intra_refresh=0 rc_lookahead=40 rc=crf mbtree=1 crf=23.0 qcomp=0.60 qpmin=0 qpmax=69 qpstep=4 ip_ratio=1.40 aq=1:1.00\n",
      "Output #0, mp4, to '/home/irmak/Workspace/Holo-Bot/extracted_data/card_flipping/demonstration_32/visualization_0.mp4':\n",
      "  Metadata:\n",
      "    encoder         : Lavf59.27.100\n",
      "  Stream #0:0: Video: h264 (avc1 / 0x31637661), yuv444p(tv, progressive), 2000x720 [SAR 1:1 DAR 25:9], q=2-31, 10 fps, 10240 tbn\n",
      "    Metadata:\n",
      "      encoder         : Lavc59.37.100 libx264\n",
      "    Side data:\n",
      "      cpb: bitrate max/min/avg: 0/0/0 buffer size: 0 vbv_delay: N/A\n",
      "frame=   20 fps=0.0 q=-1.0 Lsize=     702kB time=00:00:01.70 bitrate=3383.8kbits/s speed=2.45x    \n",
      "video:701kB audio:0kB subtitle:0kB other streams:0kB global headers:0kB muxing overhead: 0.154457%\n",
      "[libx264 @ 0x562b35507140] frame I:1     Avg QP:22.31  size: 49962\n",
      "[libx264 @ 0x562b35507140] frame P:5     Avg QP:21.04  size: 55375\n",
      "[libx264 @ 0x562b35507140] frame B:14    Avg QP:21.99  size: 27891\n",
      "[libx264 @ 0x562b35507140] consecutive B-frames:  5.0%  0.0% 15.0% 80.0%\n",
      "[libx264 @ 0x562b35507140] mb I  I16..4: 29.0% 42.8% 28.3%\n",
      "[libx264 @ 0x562b35507140] mb P  I16..4:  3.0% 29.8%  3.1%  P16..4: 19.8% 11.7%  6.9%  0.0%  0.0%    skip:25.7%\n",
      "[libx264 @ 0x562b35507140] mb B  I16..4:  0.4% 15.1%  0.2%  B16..8: 22.4%  6.1%  1.9%  direct: 5.8%  skip:48.1%  L0:41.9% L1:50.0% BI: 8.1%\n",
      "[libx264 @ 0x562b35507140] 8x8 transform intra:80.8% inter:83.6%\n",
      "[libx264 @ 0x562b35507140] coded y,u,v intra: 69.5% 38.6% 36.1% inter: 23.3% 14.4% 12.9%\n",
      "[libx264 @ 0x562b35507140] i16 v,h,dc,p: 51% 37%  5%  7%\n",
      "[libx264 @ 0x562b35507140] i8 v,h,dc,ddl,ddr,vr,hd,vl,hu: 13% 20% 51%  3%  2%  2%  2%  3%  4%\n",
      "[libx264 @ 0x562b35507140] i4 v,h,dc,ddl,ddr,vr,hd,vl,hu: 38% 34% 12%  2%  2%  2%  4%  2%  4%\n",
      "[libx264 @ 0x562b35507140] Weighted P-Frames: Y:0.0% UV:0.0%\n",
      "[libx264 @ 0x562b35507140] ref P L0: 40.6%  8.9% 30.1% 20.4%\n",
      "[libx264 @ 0x562b35507140] ref B L0: 67.7% 26.5%  5.8%\n",
      "[libx264 @ 0x562b35507140] ref B L1: 90.1%  9.9%\n",
      "[libx264 @ 0x562b35507140] kb/s:2869.23\n",
      "ffmpeg version 5.1.2 Copyright (c) 2000-2022 the FFmpeg developers\n",
      "  built with gcc 10.4.0 (conda-forge gcc 10.4.0-18)\n",
      "  configuration: --prefix=/home/irmak/miniconda3/envs/tactile_learning --cc=/home/conda/feedstock_root/build_artifacts/ffmpeg_1666357487580/_build_env/bin/x86_64-conda-linux-gnu-cc --cxx=/home/conda/feedstock_root/build_artifacts/ffmpeg_1666357487580/_build_env/bin/x86_64-conda-linux-gnu-c++ --nm=/home/conda/feedstock_root/build_artifacts/ffmpeg_1666357487580/_build_env/bin/x86_64-conda-linux-gnu-nm --ar=/home/conda/feedstock_root/build_artifacts/ffmpeg_1666357487580/_build_env/bin/x86_64-conda-linux-gnu-ar --disable-doc --disable-openssl --enable-demuxer=dash --enable-hardcoded-tables --enable-libfreetype --enable-libfontconfig --enable-libopenh264 --enable-gnutls --enable-libmp3lame --enable-libvpx --enable-pthreads --enable-vaapi --enable-gpl --enable-libx264 --enable-libx265 --enable-libaom --enable-libsvtav1 --enable-libxml2 --enable-pic --enable-shared --disable-static --enable-version3 --enable-zlib --pkg-config=/home/conda/feedstock_root/build_artifacts/ffmpeg_1666357487580/_build_env/bin/pkg-config\n",
      "  libavutil      57. 28.100 / 57. 28.100\n",
      "  libavcodec     59. 37.100 / 59. 37.100\n",
      "  libavformat    59. 27.100 / 59. 27.100\n",
      "  libavdevice    59.  7.100 / 59.  7.100\n",
      "  libavfilter     8. 44.100 /  8. 44.100\n",
      "  libswscale      6.  7.100 /  6.  7.100\n",
      "  libswresample   4.  7.100 /  4.  7.100\n",
      "  libpostproc    56.  6.100 / 56.  6.100\n",
      "[image2 @ 0x564b77f06640] Pattern type 'glob_sequence' is deprecated: use pattern_type 'glob' instead\n",
      "Input #0, image2, from '/home/irmak/Workspace/Holo-Bot/extracted_data/card_flipping/demonstration_24/visualization/%*.png':\n",
      "  Duration: 00:00:01.20, start: 0.000000, bitrate: N/A\n",
      "  Stream #0:0: Video: png, rgba(pc), 2000x2000 [SAR 3937:3937 DAR 1:1], 25 fps, 25 tbr, 25 tbn\n",
      "Stream mapping:\n",
      "  Stream #0:0 -> #0:0 (png (native) -> h264 (libx264))\n",
      "Press [q] to stop, [?] for help\n"
     ]
    },
    {
     "name": "stdout",
     "output_type": "stream",
     "text": [
      "dumping video in root: /home/irmak/Workspace/Holo-Bot/extracted_data/card_flipping/demonstration_24\n"
     ]
    },
    {
     "name": "stderr",
     "output_type": "stream",
     "text": [
      "[libx264 @ 0x564b77f0d640] using SAR=1/1\n",
      "[libx264 @ 0x564b77f0d640] using cpu capabilities: MMX2 SSE2Fast SSSE3 SSE4.2 AVX FMA3 BMI2 AVX2\n",
      "[libx264 @ 0x564b77f0d640] profile High 4:4:4 Predictive, level 4.0, 4:4:4, 8-bit\n",
      "[libx264 @ 0x564b77f0d640] 264 - core 164 r3095 baee400 - H.264/MPEG-4 AVC codec - Copyleft 2003-2022 - http://www.videolan.org/x264.html - options: cabac=1 ref=3 deblock=1:0:0 analyse=0x3:0x113 me=hex subme=7 psy=1 psy_rd=1.00:0.00 mixed_ref=1 me_range=16 chroma_me=1 trellis=1 8x8dct=1 cqm=0 deadzone=21,11 fast_pskip=1 chroma_qp_offset=4 threads=22 lookahead_threads=3 sliced_threads=0 nr=0 decimate=1 interlaced=0 bluray_compat=0 constrained_intra=0 bframes=3 b_pyramid=2 b_adapt=1 b_bias=0 direct=1 weightb=1 open_gop=0 weightp=2 keyint=250 keyint_min=10 scenecut=40 intra_refresh=0 rc_lookahead=40 rc=crf mbtree=1 crf=23.0 qcomp=0.60 qpmin=0 qpmax=69 qpstep=4 ip_ratio=1.40 aq=1:1.00\n",
      "Output #0, mp4, to '/home/irmak/Workspace/Holo-Bot/extracted_data/card_flipping/demonstration_24/visualization_0.mp4':\n",
      "  Metadata:\n",
      "    encoder         : Lavf59.27.100\n",
      "  Stream #0:0: Video: h264 (avc1 / 0x31637661), yuv444p(tv, progressive), 2000x720 [SAR 1:1 DAR 25:9], q=2-31, 10 fps, 10240 tbn\n",
      "    Metadata:\n",
      "      encoder         : Lavc59.37.100 libx264\n",
      "    Side data:\n",
      "      cpb: bitrate max/min/avg: 0/0/0 buffer size: 0 vbv_delay: N/A\n",
      "frame=   30 fps=0.0 q=-1.0 Lsize=     984kB time=00:00:02.70 bitrate=2983.9kbits/s speed=3.39x    \n",
      "video:982kB audio:0kB subtitle:0kB other streams:0kB global headers:0kB muxing overhead: 0.122978%\n",
      "[libx264 @ 0x564b77f0d640] frame I:1     Avg QP:22.95  size: 49613\n",
      "[libx264 @ 0x564b77f0d640] frame P:8     Avg QP:20.40  size: 52628\n",
      "[libx264 @ 0x564b77f0d640] frame B:21    Avg QP:21.63  size: 25455\n",
      "[libx264 @ 0x564b77f0d640] consecutive B-frames:  6.7%  0.0%  0.0% 93.3%\n",
      "[libx264 @ 0x564b77f0d640] mb I  I16..4: 26.9% 44.8% 28.2%\n",
      "[libx264 @ 0x564b77f0d640] mb P  I16..4:  1.9% 27.8%  1.9%  P16..4: 20.6% 12.2%  7.1%  0.0%  0.0%    skip:28.5%\n",
      "[libx264 @ 0x564b77f0d640] mb B  I16..4:  0.3% 11.4%  0.2%  B16..8: 24.5%  6.3%  1.8%  direct: 5.8%  skip:49.8%  L0:45.8% L1:45.9% BI: 8.3%\n",
      "[libx264 @ 0x564b77f0d640] 8x8 transform intra:84.0% inter:84.3%\n",
      "[libx264 @ 0x564b77f0d640] coded y,u,v intra: 72.9% 40.0% 37.7% inter: 23.9% 14.6% 12.6%\n",
      "[libx264 @ 0x564b77f0d640] i16 v,h,dc,p: 50% 36%  6%  8%\n",
      "[libx264 @ 0x564b77f0d640] i8 v,h,dc,ddl,ddr,vr,hd,vl,hu: 12% 18% 54%  3%  2%  2%  2%  3%  4%\n",
      "[libx264 @ 0x564b77f0d640] i4 v,h,dc,ddl,ddr,vr,hd,vl,hu: 38% 34% 12%  2%  2%  2%  4%  2%  4%\n",
      "[libx264 @ 0x564b77f0d640] Weighted P-Frames: Y:0.0% UV:0.0%\n",
      "[libx264 @ 0x564b77f0d640] ref P L0: 37.8%  8.8% 32.4% 21.0%\n",
      "[libx264 @ 0x564b77f0d640] ref B L0: 69.7% 24.3%  6.0%\n",
      "[libx264 @ 0x564b77f0d640] ref B L1: 85.8% 14.2%\n",
      "[libx264 @ 0x564b77f0d640] kb/s:2680.48\n",
      "ffmpeg version 5.1.2 Copyright (c) 2000-2022 the FFmpeg developers\n",
      "  built with gcc 10.4.0 (conda-forge gcc 10.4.0-18)\n",
      "  configuration: --prefix=/home/irmak/miniconda3/envs/tactile_learning --cc=/home/conda/feedstock_root/build_artifacts/ffmpeg_1666357487580/_build_env/bin/x86_64-conda-linux-gnu-cc --cxx=/home/conda/feedstock_root/build_artifacts/ffmpeg_1666357487580/_build_env/bin/x86_64-conda-linux-gnu-c++ --nm=/home/conda/feedstock_root/build_artifacts/ffmpeg_1666357487580/_build_env/bin/x86_64-conda-linux-gnu-nm --ar=/home/conda/feedstock_root/build_artifacts/ffmpeg_1666357487580/_build_env/bin/x86_64-conda-linux-gnu-ar --disable-doc --disable-openssl --enable-demuxer=dash --enable-hardcoded-tables --enable-libfreetype --enable-libfontconfig --enable-libopenh264 --enable-gnutls --enable-libmp3lame --enable-libvpx --enable-pthreads --enable-vaapi --enable-gpl --enable-libx264 --enable-libx265 --enable-libaom --enable-libsvtav1 --enable-libxml2 --enable-pic --enable-shared --disable-static --enable-version3 --enable-zlib --pkg-config=/home/conda/feedstock_root/build_artifacts/ffmpeg_1666357487580/_build_env/bin/pkg-config\n",
      "  libavutil      57. 28.100 / 57. 28.100\n",
      "  libavcodec     59. 37.100 / 59. 37.100\n",
      "  libavformat    59. 27.100 / 59. 27.100\n",
      "  libavdevice    59.  7.100 / 59.  7.100\n",
      "  libavfilter     8. 44.100 /  8. 44.100\n",
      "  libswscale      6.  7.100 /  6.  7.100\n",
      "  libswresample   4.  7.100 /  4.  7.100\n",
      "  libpostproc    56.  6.100 / 56.  6.100\n",
      "[image2 @ 0x5610c51c2640] Pattern type 'glob_sequence' is deprecated: use pattern_type 'glob' instead\n",
      "Input #0, image2, from '/home/irmak/Workspace/Holo-Bot/extracted_data/card_flipping/demonstration_27/visualization/%*.png':\n",
      "  Duration: 00:00:01.12, start: 0.000000, bitrate: N/A\n",
      "  Stream #0:0: Video: png, rgba(pc), 2000x2000 [SAR 3937:3937 DAR 1:1], 25 fps, 25 tbr, 25 tbn\n",
      "Stream mapping:\n",
      "  Stream #0:0 -> #0:0 (png (native) -> h264 (libx264))\n",
      "Press [q] to stop, [?] for help\n"
     ]
    },
    {
     "name": "stdout",
     "output_type": "stream",
     "text": [
      "dumping video in root: /home/irmak/Workspace/Holo-Bot/extracted_data/card_flipping/demonstration_27\n"
     ]
    },
    {
     "name": "stderr",
     "output_type": "stream",
     "text": [
      "[libx264 @ 0x5610c51c8180] using SAR=1/1\n",
      "[libx264 @ 0x5610c51c8180] using cpu capabilities: MMX2 SSE2Fast SSSE3 SSE4.2 AVX FMA3 BMI2 AVX2\n",
      "[libx264 @ 0x5610c51c8180] profile High 4:4:4 Predictive, level 4.0, 4:4:4, 8-bit\n",
      "[libx264 @ 0x5610c51c8180] 264 - core 164 r3095 baee400 - H.264/MPEG-4 AVC codec - Copyleft 2003-2022 - http://www.videolan.org/x264.html - options: cabac=1 ref=3 deblock=1:0:0 analyse=0x3:0x113 me=hex subme=7 psy=1 psy_rd=1.00:0.00 mixed_ref=1 me_range=16 chroma_me=1 trellis=1 8x8dct=1 cqm=0 deadzone=21,11 fast_pskip=1 chroma_qp_offset=4 threads=22 lookahead_threads=3 sliced_threads=0 nr=0 decimate=1 interlaced=0 bluray_compat=0 constrained_intra=0 bframes=3 b_pyramid=2 b_adapt=1 b_bias=0 direct=1 weightb=1 open_gop=0 weightp=2 keyint=250 keyint_min=10 scenecut=40 intra_refresh=0 rc_lookahead=40 rc=crf mbtree=1 crf=23.0 qcomp=0.60 qpmin=0 qpmax=69 qpstep=4 ip_ratio=1.40 aq=1:1.00\n",
      "Output #0, mp4, to '/home/irmak/Workspace/Holo-Bot/extracted_data/card_flipping/demonstration_27/visualization_0.mp4':\n",
      "  Metadata:\n",
      "    encoder         : Lavf59.27.100\n",
      "  Stream #0:0: Video: h264 (avc1 / 0x31637661), yuv444p(tv, progressive), 2000x720 [SAR 1:1 DAR 25:9], q=2-31, 10 fps, 10240 tbn\n",
      "    Metadata:\n",
      "      encoder         : Lavc59.37.100 libx264\n",
      "    Side data:\n",
      "      cpb: bitrate max/min/avg: 0/0/0 buffer size: 0 vbv_delay: N/A\n",
      "frame=   28 fps=0.0 q=-1.0 Lsize=     945kB time=00:00:02.50 bitrate=3096.3kbits/s speed=3.14x    \n",
      "video:944kB audio:0kB subtitle:0kB other streams:0kB global headers:0kB muxing overhead: 0.124687%\n",
      "[libx264 @ 0x5610c51c8180] frame I:1     Avg QP:23.46  size: 50552\n",
      "[libx264 @ 0x5610c51c8180] frame P:7     Avg QP:20.61  size: 55409\n",
      "[libx264 @ 0x5610c51c8180] frame B:20    Avg QP:22.00  size: 26366\n",
      "[libx264 @ 0x5610c51c8180] consecutive B-frames:  3.6%  0.0% 10.7% 85.7%\n",
      "[libx264 @ 0x5610c51c8180] mb I  I16..4: 27.4% 44.2% 28.4%\n",
      "[libx264 @ 0x5610c51c8180] mb P  I16..4:  2.3% 30.6%  2.3%  P16..4: 18.5% 11.7%  7.4%  0.0%  0.0%    skip:27.1%\n",
      "[libx264 @ 0x5610c51c8180] mb B  I16..4:  0.4% 11.7%  0.2%  B16..8: 24.9%  6.6%  2.0%  direct: 6.0%  skip:48.2%  L0:44.9% L1:46.9% BI: 8.2%\n",
      "[libx264 @ 0x5610c51c8180] 8x8 transform intra:83.2% inter:83.6%\n",
      "[libx264 @ 0x5610c51c8180] coded y,u,v intra: 72.3% 39.8% 37.4% inter: 23.9% 14.5% 12.6%\n",
      "[libx264 @ 0x5610c51c8180] i16 v,h,dc,p: 49% 37%  6%  7%\n",
      "[libx264 @ 0x5610c51c8180] i8 v,h,dc,ddl,ddr,vr,hd,vl,hu: 12% 19% 53%  3%  2%  2%  2%  3%  4%\n",
      "[libx264 @ 0x5610c51c8180] i4 v,h,dc,ddl,ddr,vr,hd,vl,hu: 38% 34% 13%  2%  2%  2%  4%  2%  3%\n",
      "[libx264 @ 0x5610c51c8180] Weighted P-Frames: Y:0.0% UV:0.0%\n",
      "[libx264 @ 0x5610c51c8180] ref P L0: 40.2%  9.0% 33.6% 17.2%\n",
      "[libx264 @ 0x5610c51c8180] ref B L0: 66.9% 26.3%  6.8%\n",
      "[libx264 @ 0x5610c51c8180] ref B L1: 84.9% 15.1%\n",
      "[libx264 @ 0x5610c51c8180] kb/s:2759.23\n",
      "ffmpeg version 5.1.2 Copyright (c) 2000-2022 the FFmpeg developers\n",
      "  built with gcc 10.4.0 (conda-forge gcc 10.4.0-18)\n",
      "  configuration: --prefix=/home/irmak/miniconda3/envs/tactile_learning --cc=/home/conda/feedstock_root/build_artifacts/ffmpeg_1666357487580/_build_env/bin/x86_64-conda-linux-gnu-cc --cxx=/home/conda/feedstock_root/build_artifacts/ffmpeg_1666357487580/_build_env/bin/x86_64-conda-linux-gnu-c++ --nm=/home/conda/feedstock_root/build_artifacts/ffmpeg_1666357487580/_build_env/bin/x86_64-conda-linux-gnu-nm --ar=/home/conda/feedstock_root/build_artifacts/ffmpeg_1666357487580/_build_env/bin/x86_64-conda-linux-gnu-ar --disable-doc --disable-openssl --enable-demuxer=dash --enable-hardcoded-tables --enable-libfreetype --enable-libfontconfig --enable-libopenh264 --enable-gnutls --enable-libmp3lame --enable-libvpx --enable-pthreads --enable-vaapi --enable-gpl --enable-libx264 --enable-libx265 --enable-libaom --enable-libsvtav1 --enable-libxml2 --enable-pic --enable-shared --disable-static --enable-version3 --enable-zlib --pkg-config=/home/conda/feedstock_root/build_artifacts/ffmpeg_1666357487580/_build_env/bin/pkg-config\n",
      "  libavutil      57. 28.100 / 57. 28.100\n",
      "  libavcodec     59. 37.100 / 59. 37.100\n",
      "  libavformat    59. 27.100 / 59. 27.100\n",
      "  libavdevice    59.  7.100 / 59.  7.100\n",
      "  libavfilter     8. 44.100 /  8. 44.100\n",
      "  libswscale      6.  7.100 /  6.  7.100\n",
      "  libswresample   4.  7.100 /  4.  7.100\n",
      "  libpostproc    56.  6.100 / 56.  6.100\n",
      "[image2 @ 0x556f53d60640] Pattern type 'glob_sequence' is deprecated: use pattern_type 'glob' instead\n",
      "Input #0, image2, from '/home/irmak/Workspace/Holo-Bot/extracted_data/card_flipping/demonstration_31/visualization/%*.png':\n",
      "  Duration: 00:00:00.76, start: 0.000000, bitrate: N/A\n",
      "  Stream #0:0: Video: png, rgba(pc), 2000x2000 [SAR 3937:3937 DAR 1:1], 25 fps, 25 tbr, 25 tbn\n",
      "Stream mapping:\n",
      "  Stream #0:0 -> #0:0 (png (native) -> h264 (libx264))\n",
      "Press [q] to stop, [?] for help\n"
     ]
    },
    {
     "name": "stdout",
     "output_type": "stream",
     "text": [
      "dumping video in root: /home/irmak/Workspace/Holo-Bot/extracted_data/card_flipping/demonstration_31\n"
     ]
    },
    {
     "name": "stderr",
     "output_type": "stream",
     "text": [
      "[libx264 @ 0x556f53d670c0] using SAR=1/1\n",
      "[libx264 @ 0x556f53d670c0] using cpu capabilities: MMX2 SSE2Fast SSSE3 SSE4.2 AVX FMA3 BMI2 AVX2\n",
      "[libx264 @ 0x556f53d670c0] profile High 4:4:4 Predictive, level 4.0, 4:4:4, 8-bit\n",
      "[libx264 @ 0x556f53d670c0] 264 - core 164 r3095 baee400 - H.264/MPEG-4 AVC codec - Copyleft 2003-2022 - http://www.videolan.org/x264.html - options: cabac=1 ref=3 deblock=1:0:0 analyse=0x3:0x113 me=hex subme=7 psy=1 psy_rd=1.00:0.00 mixed_ref=1 me_range=16 chroma_me=1 trellis=1 8x8dct=1 cqm=0 deadzone=21,11 fast_pskip=1 chroma_qp_offset=4 threads=22 lookahead_threads=3 sliced_threads=0 nr=0 decimate=1 interlaced=0 bluray_compat=0 constrained_intra=0 bframes=3 b_pyramid=2 b_adapt=1 b_bias=0 direct=1 weightb=1 open_gop=0 weightp=2 keyint=250 keyint_min=10 scenecut=40 intra_refresh=0 rc_lookahead=40 rc=crf mbtree=1 crf=23.0 qcomp=0.60 qpmin=0 qpmax=69 qpstep=4 ip_ratio=1.40 aq=1:1.00\n",
      "Output #0, mp4, to '/home/irmak/Workspace/Holo-Bot/extracted_data/card_flipping/demonstration_31/visualization_0.mp4':\n",
      "  Metadata:\n",
      "    encoder         : Lavf59.27.100\n",
      "  Stream #0:0: Video: h264 (avc1 / 0x31637661), yuv444p(tv, progressive), 2000x720 [SAR 1:1 DAR 25:9], q=2-31, 10 fps, 10240 tbn\n",
      "    Metadata:\n",
      "      encoder         : Lavc59.37.100 libx264\n",
      "    Side data:\n",
      "      cpb: bitrate max/min/avg: 0/0/0 buffer size: 0 vbv_delay: N/A\n",
      "frame=   19 fps=0.0 q=-1.0 Lsize=     661kB time=00:00:01.60 bitrate=3382.1kbits/s speed= 2.3x    \n",
      "video:660kB audio:0kB subtitle:0kB other streams:0kB global headers:0kB muxing overhead: 0.163615%\n",
      "[libx264 @ 0x556f53d670c0] frame I:1     Avg QP:23.30  size: 48957\n",
      "[libx264 @ 0x556f53d670c0] frame P:5     Avg QP:21.04  size: 57118\n",
      "[libx264 @ 0x556f53d670c0] frame B:13    Avg QP:22.04  size: 26164\n",
      "[libx264 @ 0x556f53d670c0] consecutive B-frames:  5.3% 10.5%  0.0% 84.2%\n",
      "[libx264 @ 0x556f53d670c0] mb I  I16..4: 27.6% 44.0% 28.4%\n",
      "[libx264 @ 0x556f53d670c0] mb P  I16..4:  3.1% 34.9%  2.9%  P16..4: 17.0% 10.4%  6.2%  0.0%  0.0%    skip:25.4%\n",
      "[libx264 @ 0x556f53d670c0] mb B  I16..4:  0.3% 10.3%  0.2%  B16..8: 25.9%  6.6%  1.9%  direct: 6.1%  skip:48.7%  L0:44.8% L1:47.1% BI: 8.1%\n",
      "[libx264 @ 0x556f53d670c0] 8x8 transform intra:79.1% inter:82.6%\n",
      "[libx264 @ 0x556f53d670c0] coded y,u,v intra: 67.1% 37.5% 34.8% inter: 23.9% 14.5% 13.0%\n",
      "[libx264 @ 0x556f53d670c0] i16 v,h,dc,p: 52% 37%  4%  7%\n",
      "[libx264 @ 0x556f53d670c0] i8 v,h,dc,ddl,ddr,vr,hd,vl,hu: 14% 19% 51%  3%  2%  2%  2%  3%  4%\n",
      "[libx264 @ 0x556f53d670c0] i4 v,h,dc,ddl,ddr,vr,hd,vl,hu: 39% 35% 11%  2%  2%  2%  4%  2%  3%\n",
      "[libx264 @ 0x556f53d670c0] Weighted P-Frames: Y:0.0% UV:0.0%\n",
      "[libx264 @ 0x556f53d670c0] ref P L0: 44.0%  9.7% 27.4% 18.9%\n",
      "[libx264 @ 0x556f53d670c0] ref B L0: 70.3% 25.6%  4.2%\n",
      "[libx264 @ 0x556f53d670c0] ref B L1: 87.9% 12.1%\n",
      "[libx264 @ 0x556f53d670c0] kb/s:2840.74\n"
     ]
    }
   ],
   "source": [
    "# Turn the images to a video and delete the directory\n",
    "video_fps = 10\n",
    "for root in roots:\n",
    "    print('dumping video in root: {}'.format(root))\n",
    "    video_path = os.path.join(root, f'visualization_{view_num}.mp4')\n",
    "    if os.path.exists(video_path):\n",
    "        os.remove(video_path)\n",
    "    viz_dir = os.path.join(root, 'visualization')\n",
    "    os.system('ffmpeg -r {} -i {}/%*.png -vf scale=2000x720,setsar=1:1 {}'.format(\n",
    "        video_fps, # fps\n",
    "        viz_dir,\n",
    "        video_path\n",
    "    ))\n"
   ]
  },
  {
   "cell_type": "code",
   "execution_count": 19,
   "metadata": {},
   "outputs": [],
   "source": [
    "# Remove the img directory\n",
    "\n",
    "for root in roots:\n",
    "    viz_dir = os.path.join(root, 'visualization')\n",
    "    shutil.rmtree(viz_dir)\n"
   ]
  },
  {
   "cell_type": "code",
   "execution_count": null,
   "metadata": {},
   "outputs": [],
   "source": []
  }
 ],
 "metadata": {
  "kernelspec": {
   "display_name": "Python 3 (ipykernel)",
   "language": "python",
   "name": "python3"
  },
  "language_info": {
   "codemirror_mode": {
    "name": "ipython",
    "version": 3
   },
   "file_extension": ".py",
   "mimetype": "text/x-python",
   "name": "python",
   "nbconvert_exporter": "python",
   "pygments_lexer": "ipython3",
   "version": "3.9.13"
  },
  "vscode": {
   "interpreter": {
    "hash": "36852de55b288c46ba617fd48cf310240e4201e2f57004cbdac030fa23152bd3"
   }
  }
 },
 "nbformat": 4,
 "nbformat_minor": 4
}
