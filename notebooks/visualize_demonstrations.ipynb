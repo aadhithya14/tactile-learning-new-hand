{
 "cells": [
  {
   "cell_type": "code",
   "execution_count": 1,
   "metadata": {},
   "outputs": [],
   "source": [
    "import cv2\n",
    "import h5py\n",
    "import matplotlib.pyplot as plt\n",
    "import numpy as np\n",
    "import os\n",
    "import pickle\n",
    "import shutil\n",
    "\n",
    "from tqdm import tqdm"
   ]
  },
  {
   "cell_type": "code",
   "execution_count": 2,
   "metadata": {},
   "outputs": [],
   "source": [
    "from tactile_learning.datasets import dump_video_to_images, get_closest_id\n",
    "from tactile_learning.utils.visualization import plot_tactile_sensor"
   ]
  },
  {
   "cell_type": "code",
   "execution_count": 3,
   "metadata": {},
   "outputs": [],
   "source": [
    "import decimal\n",
    "\n",
    "# Get the metadata of images and tactile information\n",
    "def get_desired_indices(root, fps, view_num=0): # frames per second from the video to receive\n",
    "    image_metadata_path = os.path.join(root, f'cam_{view_num}_rgb_video.metadata')\n",
    "    tactile_info_path = os.path.join(root, 'touch_sensor_values.h5')\n",
    "\n",
    "    with open(image_metadata_path, 'rb') as f:\n",
    "        image_metadata = pickle.load(f)\n",
    "        image_timestamps_array = np.asarray(image_metadata['timestamps'])\n",
    "        image_timestamps = np.asarray(image_metadata['timestamps']) / 1000.\n",
    "    with h5py.File(tactile_info_path, 'r') as f:\n",
    "        tactile_timestamps = f['timestamps'][()]\n",
    "\n",
    "    image_id, tactile_id = 0, 0\n",
    "    curr_timestamp = tactile_timestamps[0] # These timestamps are in seconds\n",
    "    image_id = get_closest_id(image_id, curr_timestamp, image_timestamps)\n",
    "\n",
    "    tactile_indices, image_indices = [], []\n",
    "    tactile_indices.append(tactile_id)\n",
    "    image_indices.append(image_id)\n",
    "\n",
    "    frame_period = 1. / fps\n",
    "    while(True):\n",
    "        curr_timestamp += frame_period\n",
    "        tactile_id = get_closest_id(tactile_id, curr_timestamp, tactile_timestamps)\n",
    "        image_id = get_closest_id(image_id, curr_timestamp, image_timestamps)\n",
    "\n",
    "        if curr_timestamp > tactile_timestamps[tactile_id] and curr_timestamp > image_timestamps[image_id]:\n",
    "            break\n",
    "\n",
    "        tactile_indices.append(tactile_id)\n",
    "        image_indices.append(image_id)\n",
    "\n",
    "    assert len(tactile_indices) == len(image_indices)\n",
    "    return tactile_indices, image_indices\n"
   ]
  },
  {
   "cell_type": "code",
   "execution_count": 4,
   "metadata": {},
   "outputs": [],
   "source": [
    "\n",
    "def dump_states(root, tactile_indices, image_indices, view_num=0):\n",
    "    # Make directory to dump the visualization\n",
    "    pbar = tqdm(total=len(tactile_indices))\n",
    "\n",
    "    with h5py.File(os.path.join(root, 'touch_sensor_values.h5'), 'r') as f:\n",
    "        all_tactile_values = f['sensor_values'][()]\n",
    "\n",
    "    viz_dir = os.path.join(root, 'visualization')\n",
    "    os.makedirs(viz_dir, exist_ok=True)\n",
    "    \n",
    "    video_path = os.path.join(root, f'cam_{view_num}_rgb_video.avi')\n",
    "    vidcap = cv2.VideoCapture(video_path)\n",
    "    success, image = vidcap.read()\n",
    "    frame_count = int(vidcap.get(cv2.CAP_PROP_FRAME_COUNT))\n",
    "    frame_id = 0\n",
    "    for i in range(len(tactile_indices)):\n",
    "        tactile_id, image_id = tactile_indices[i], image_indices[i]\n",
    "        while frame_id != image_id and success:\n",
    "            # Find the frame that is equal to image_id\n",
    "            success, image = vidcap.read()\n",
    "            frame_id += 1\n",
    "        dump_demo_state(\n",
    "            frame_id = i,\n",
    "            viz_dir = viz_dir,\n",
    "            tactile_values = all_tactile_values[tactile_id,:,:,:],\n",
    "            camera_img = image\n",
    "        )\n",
    "\n",
    "        pbar.update(1)\n",
    "\n",
    "    pbar.close()\n",
    "\n",
    "def dump_demo_state(frame_id, viz_dir, tactile_values, camera_img):\n",
    "    # tactile_values: (15,16,3)\n",
    "    fig, axs = plt.subplots(figsize=(20,20), nrows=4, ncols=4)\n",
    "    for row_id in range(4):\n",
    "        for column_id in range(4):\n",
    "            if row_id + column_id > 0: # The top left axis should stay empty\n",
    "                plot_tactile_sensor(\n",
    "                    ax = axs[column_id][row_id],\n",
    "                    sensor_values = tactile_values[row_id*4 + column_id-1],\n",
    "                    title = f'Sensor {row_id*4+column_id-1}'\n",
    "                )\n",
    "    fig.suptitle('Tactile State')\n",
    "    fig.savefig(os.path.join(viz_dir, 'Tactile State.png'))\n",
    "    fig.clf()\n",
    "    plt.close()\n",
    "\n",
    "    tactile_img = cv2.imread(os.path.join(viz_dir, 'Tactile State.png'))\n",
    "    height_scale = camera_img.shape[0] / tactile_img.shape[0]\n",
    "    tactile_img = cv2.resize(\n",
    "        tactile_img,\n",
    "        (int(tactile_img.shape[1] * height_scale),\n",
    "         int(tactile_img.shape[0] * height_scale))\n",
    "    )\n",
    "    total_img = cv2.hconcat([camera_img, tactile_img])\n",
    "\n",
    "    img_name = 'state_{}.png'.format(str(frame_id).zfill(3))\n",
    "    cv2.imwrite(os.path.join(viz_dir, img_name), total_img)\n",
    "\n"
   ]
  },
  {
   "cell_type": "code",
   "execution_count": 5,
   "metadata": {},
   "outputs": [
    {
     "name": "stdout",
     "output_type": "stream",
     "text": [
      "tactile_indices: [0, 52, 100, 149, 198, 257, 296, 346, 394, 444, 492, 541], image_indices: [72, 87, 102, 117, 132, 147, 162, 176, 191, 206, 221, 236]\n"
     ]
    },
    {
     "name": "stderr",
     "output_type": "stream",
     "text": [
      "100%|██████████| 12/12 [00:12<00:00,  1.07s/it]\n"
     ]
    },
    {
     "name": "stdout",
     "output_type": "stream",
     "text": [
      "tactile_indices: [0, 52, 98, 149, 199, 248, 297, 346, 395, 447, 494, 543, 593, 641, 693, 739, 789, 838, 888, 936, 986, 1034, 1086, 1133, 1184, 1232, 1281, 1332, 1379, 1431, 1479, 1528, 1576, 1625, 1674, 1722, 1773, 1820, 1870, 1918, 1968, 2017, 2067, 2115], image_indices: [72, 87, 102, 117, 132, 147, 162, 177, 192, 207, 222, 237, 252, 267, 282, 297, 312, 327, 342, 357, 372, 387, 402, 417, 432, 447, 462, 477, 492, 507, 522, 537, 552, 567, 582, 597, 612, 627, 641, 656, 671, 686, 701, 715]\n"
     ]
    },
    {
     "name": "stderr",
     "output_type": "stream",
     "text": [
      "100%|██████████| 44/44 [00:47<00:00,  1.09s/it]\n"
     ]
    },
    {
     "name": "stdout",
     "output_type": "stream",
     "text": [
      "tactile_indices: [0, 51, 100, 151, 198, 251, 295, 347, 395, 444, 492, 541, 589, 640, 687, 736, 787, 838, 884, 934, 983, 1032, 1080, 1130, 1180, 1229, 1279, 1326, 1376, 1424, 1474, 1522, 1576, 1620, 1672, 1718, 1769, 1816, 1866, 1915], image_indices: [71, 86, 101, 116, 131, 146, 161, 176, 191, 206, 221, 236, 251, 266, 281, 296, 311, 326, 341, 356, 371, 386, 401, 416, 431, 446, 461, 476, 491, 506, 521, 536, 551, 566, 581, 596, 611, 626, 641, 656]\n"
     ]
    },
    {
     "name": "stderr",
     "output_type": "stream",
     "text": [
      "100%|██████████| 40/40 [00:43<00:00,  1.10s/it]\n"
     ]
    },
    {
     "name": "stdout",
     "output_type": "stream",
     "text": [
      "tactile_indices: [0, 50, 98, 149, 197, 247, 296, 347, 394, 444, 492, 542, 590, 641, 691, 739, 787, 837, 885, 936, 984, 1033, 1084, 1132, 1183, 1231, 1279, 1329, 1379, 1427, 1478, 1526, 1575, 1625, 1674, 1723, 1775, 1822], image_indices: [72, 86, 101, 116, 130, 145, 160, 175, 190, 205, 220, 235, 250, 265, 280, 295, 310, 325, 340, 355, 370, 385, 400, 415, 430, 445, 460, 475, 490, 505, 520, 535, 550, 565, 580, 595, 610, 623]\n"
     ]
    },
    {
     "name": "stderr",
     "output_type": "stream",
     "text": [
      "100%|██████████| 38/38 [00:41<00:00,  1.10s/it]\n"
     ]
    },
    {
     "name": "stdout",
     "output_type": "stream",
     "text": [
      "tactile_indices: [0, 52, 99, 150, 197, 248, 296, 346, 395, 445, 493, 543, 591, 642, 689, 738, 789, 837, 885, 935, 982, 1034, 1082, 1132, 1180, 1230, 1279, 1328, 1378, 1428, 1475, 1525, 1574, 1624, 1672, 1723, 1770, 1820, 1869, 1920, 1968, 2019, 2066, 2117, 2165, 2214, 2263, 2312, 2360, 2411, 2459, 2509, 2558, 2607, 2655, 2705, 2755, 2805, 2853, 2903, 2950, 3000, 3050, 3099], image_indices: [71, 86, 101, 116, 131, 146, 161, 176, 191, 206, 221, 236, 251, 266, 281, 296, 311, 326, 341, 356, 370, 385, 400, 415, 430, 445, 460, 475, 490, 505, 520, 535, 550, 565, 580, 595, 610, 625, 640, 655, 670, 685, 699, 714, 729, 744, 759, 774, 789, 804, 819, 834, 849, 864, 879, 894, 909, 923, 938, 953, 968, 983, 998, 1013]\n"
     ]
    },
    {
     "name": "stderr",
     "output_type": "stream",
     "text": [
      "100%|██████████| 64/64 [01:12<00:00,  1.13s/it]\n"
     ]
    },
    {
     "name": "stdout",
     "output_type": "stream",
     "text": [
      "tactile_indices: [0, 51, 101, 147, 197, 250, 296, 344, 394, 442, 493, 540, 590, 639, 689, 735, 789, 835, 884, 932, 983, 1031, 1080, 1128, 1178, 1230, 1277, 1326, 1374, 1425, 1472, 1521, 1570, 1620, 1668, 1717, 1765, 1816, 1864, 1914, 1962, 2011, 2060, 2110, 2158, 2209, 2256, 2307, 2355, 2405, 2452, 2503], image_indices: [72, 87, 102, 117, 132, 147, 162, 177, 192, 207, 222, 237, 252, 267, 282, 296, 311, 326, 341, 356, 371, 386, 401, 416, 431, 446, 461, 476, 491, 506, 521, 536, 551, 566, 581, 596, 611, 626, 641, 656, 671, 686, 701, 716, 731, 746, 761, 775, 790, 804, 819, 834]\n"
     ]
    },
    {
     "name": "stderr",
     "output_type": "stream",
     "text": [
      "100%|██████████| 52/52 [00:55<00:00,  1.06s/it]\n"
     ]
    },
    {
     "name": "stdout",
     "output_type": "stream",
     "text": [
      "tactile_indices: [0, 50, 99, 146, 196, 245, 294, 343, 392, 442, 491, 541, 590, 639, 689, 738, 787, 835, 886, 933, 983, 1031, 1080, 1129, 1178, 1227, 1277, 1326, 1375, 1423, 1472, 1521, 1571, 1618, 1669, 1717, 1767, 1815, 1866, 1913, 1963, 2011, 2061, 2108, 2159, 2207, 2258, 2305, 2355, 2403, 2454, 2501, 2551, 2600, 2649, 2698, 2751], image_indices: [72, 87, 102, 117, 132, 147, 162, 177, 192, 207, 222, 236, 251, 266, 281, 296, 311, 326, 341, 356, 371, 386, 401, 416, 431, 446, 461, 476, 491, 506, 521, 536, 551, 566, 581, 595, 610, 625, 640, 655, 670, 685, 700, 715, 730, 745, 760, 775, 790, 805, 820, 835, 850, 865, 880, 895, 910]\n"
     ]
    },
    {
     "name": "stderr",
     "output_type": "stream",
     "text": [
      "100%|██████████| 57/57 [01:02<00:00,  1.09s/it]\n"
     ]
    },
    {
     "name": "stdout",
     "output_type": "stream",
     "text": [
      "tactile_indices: [0], image_indices: [1205]\n"
     ]
    },
    {
     "name": "stderr",
     "output_type": "stream",
     "text": [
      "  0%|          | 0/1 [00:00<?, ?it/s]"
     ]
    },
    {
     "ename": "AttributeError",
     "evalue": "'NoneType' object has no attribute 'shape'",
     "output_type": "error",
     "traceback": [
      "\u001b[0;31m---------------------------------------------------------------------------\u001b[0m",
      "\u001b[0;31mAttributeError\u001b[0m                            Traceback (most recent call last)",
      "\u001b[1;32m/home/irmak/Workspace/tactile-learning/notebooks/visualize_demonstrations.ipynb Cell 5\u001b[0m in \u001b[0;36m3\n\u001b[1;32m     <a href='vscode-notebook-cell://ssh-remote%2Blambda/home/irmak/Workspace/tactile-learning/notebooks/visualize_demonstrations.ipynb#W4sdnNjb2RlLXJlbW90ZQ%3D%3D?line=27'>28</a>\u001b[0m tactile_indices, image_indices \u001b[39m=\u001b[39m get_desired_indices(root\u001b[39m=\u001b[39mroot, fps\u001b[39m=\u001b[39mretrieval_fps, view_num\u001b[39m=\u001b[39mview_num)\n\u001b[1;32m     <a href='vscode-notebook-cell://ssh-remote%2Blambda/home/irmak/Workspace/tactile-learning/notebooks/visualize_demonstrations.ipynb#W4sdnNjb2RlLXJlbW90ZQ%3D%3D?line=28'>29</a>\u001b[0m \u001b[39mprint\u001b[39m(\u001b[39m'\u001b[39m\u001b[39mtactile_indices: \u001b[39m\u001b[39m{}\u001b[39;00m\u001b[39m, image_indices: \u001b[39m\u001b[39m{}\u001b[39;00m\u001b[39m'\u001b[39m\u001b[39m.\u001b[39mformat(tactile_indices, image_indices))\n\u001b[0;32m---> <a href='vscode-notebook-cell://ssh-remote%2Blambda/home/irmak/Workspace/tactile-learning/notebooks/visualize_demonstrations.ipynb#W4sdnNjb2RlLXJlbW90ZQ%3D%3D?line=29'>30</a>\u001b[0m dump_states(root, tactile_indices, image_indices, view_num\u001b[39m=\u001b[39;49mview_num)\n",
      "\u001b[1;32m/home/irmak/Workspace/tactile-learning/notebooks/visualize_demonstrations.ipynb Cell 5\u001b[0m in \u001b[0;36m2\n\u001b[1;32m     <a href='vscode-notebook-cell://ssh-remote%2Blambda/home/irmak/Workspace/tactile-learning/notebooks/visualize_demonstrations.ipynb#W4sdnNjb2RlLXJlbW90ZQ%3D%3D?line=19'>20</a>\u001b[0m         success, image \u001b[39m=\u001b[39m vidcap\u001b[39m.\u001b[39mread()\n\u001b[1;32m     <a href='vscode-notebook-cell://ssh-remote%2Blambda/home/irmak/Workspace/tactile-learning/notebooks/visualize_demonstrations.ipynb#W4sdnNjb2RlLXJlbW90ZQ%3D%3D?line=20'>21</a>\u001b[0m         frame_id \u001b[39m+\u001b[39m\u001b[39m=\u001b[39m \u001b[39m1\u001b[39m\n\u001b[0;32m---> <a href='vscode-notebook-cell://ssh-remote%2Blambda/home/irmak/Workspace/tactile-learning/notebooks/visualize_demonstrations.ipynb#W4sdnNjb2RlLXJlbW90ZQ%3D%3D?line=21'>22</a>\u001b[0m     dump_demo_state(\n\u001b[1;32m     <a href='vscode-notebook-cell://ssh-remote%2Blambda/home/irmak/Workspace/tactile-learning/notebooks/visualize_demonstrations.ipynb#W4sdnNjb2RlLXJlbW90ZQ%3D%3D?line=22'>23</a>\u001b[0m         frame_id \u001b[39m=\u001b[39;49m i,\n\u001b[1;32m     <a href='vscode-notebook-cell://ssh-remote%2Blambda/home/irmak/Workspace/tactile-learning/notebooks/visualize_demonstrations.ipynb#W4sdnNjb2RlLXJlbW90ZQ%3D%3D?line=23'>24</a>\u001b[0m         viz_dir \u001b[39m=\u001b[39;49m viz_dir,\n\u001b[1;32m     <a href='vscode-notebook-cell://ssh-remote%2Blambda/home/irmak/Workspace/tactile-learning/notebooks/visualize_demonstrations.ipynb#W4sdnNjb2RlLXJlbW90ZQ%3D%3D?line=24'>25</a>\u001b[0m         tactile_values \u001b[39m=\u001b[39;49m all_tactile_values[tactile_id,:,:,:],\n\u001b[1;32m     <a href='vscode-notebook-cell://ssh-remote%2Blambda/home/irmak/Workspace/tactile-learning/notebooks/visualize_demonstrations.ipynb#W4sdnNjb2RlLXJlbW90ZQ%3D%3D?line=25'>26</a>\u001b[0m         camera_img \u001b[39m=\u001b[39;49m image\n\u001b[1;32m     <a href='vscode-notebook-cell://ssh-remote%2Blambda/home/irmak/Workspace/tactile-learning/notebooks/visualize_demonstrations.ipynb#W4sdnNjb2RlLXJlbW90ZQ%3D%3D?line=26'>27</a>\u001b[0m     )\n\u001b[1;32m     <a href='vscode-notebook-cell://ssh-remote%2Blambda/home/irmak/Workspace/tactile-learning/notebooks/visualize_demonstrations.ipynb#W4sdnNjb2RlLXJlbW90ZQ%3D%3D?line=28'>29</a>\u001b[0m     pbar\u001b[39m.\u001b[39mupdate(\u001b[39m1\u001b[39m)\n\u001b[1;32m     <a href='vscode-notebook-cell://ssh-remote%2Blambda/home/irmak/Workspace/tactile-learning/notebooks/visualize_demonstrations.ipynb#W4sdnNjb2RlLXJlbW90ZQ%3D%3D?line=30'>31</a>\u001b[0m pbar\u001b[39m.\u001b[39mclose()\n",
      "\u001b[1;32m/home/irmak/Workspace/tactile-learning/notebooks/visualize_demonstrations.ipynb Cell 5\u001b[0m in \u001b[0;36m5\n\u001b[1;32m     <a href='vscode-notebook-cell://ssh-remote%2Blambda/home/irmak/Workspace/tactile-learning/notebooks/visualize_demonstrations.ipynb#W4sdnNjb2RlLXJlbW90ZQ%3D%3D?line=46'>47</a>\u001b[0m plt\u001b[39m.\u001b[39mclose()\n\u001b[1;32m     <a href='vscode-notebook-cell://ssh-remote%2Blambda/home/irmak/Workspace/tactile-learning/notebooks/visualize_demonstrations.ipynb#W4sdnNjb2RlLXJlbW90ZQ%3D%3D?line=48'>49</a>\u001b[0m tactile_img \u001b[39m=\u001b[39m cv2\u001b[39m.\u001b[39mimread(os\u001b[39m.\u001b[39mpath\u001b[39m.\u001b[39mjoin(viz_dir, \u001b[39m'\u001b[39m\u001b[39mTactile State.png\u001b[39m\u001b[39m'\u001b[39m))\n\u001b[0;32m---> <a href='vscode-notebook-cell://ssh-remote%2Blambda/home/irmak/Workspace/tactile-learning/notebooks/visualize_demonstrations.ipynb#W4sdnNjb2RlLXJlbW90ZQ%3D%3D?line=49'>50</a>\u001b[0m height_scale \u001b[39m=\u001b[39m camera_img\u001b[39m.\u001b[39;49mshape[\u001b[39m0\u001b[39m] \u001b[39m/\u001b[39m tactile_img\u001b[39m.\u001b[39mshape[\u001b[39m0\u001b[39m]\n\u001b[1;32m     <a href='vscode-notebook-cell://ssh-remote%2Blambda/home/irmak/Workspace/tactile-learning/notebooks/visualize_demonstrations.ipynb#W4sdnNjb2RlLXJlbW90ZQ%3D%3D?line=50'>51</a>\u001b[0m tactile_img \u001b[39m=\u001b[39m cv2\u001b[39m.\u001b[39mresize(\n\u001b[1;32m     <a href='vscode-notebook-cell://ssh-remote%2Blambda/home/irmak/Workspace/tactile-learning/notebooks/visualize_demonstrations.ipynb#W4sdnNjb2RlLXJlbW90ZQ%3D%3D?line=51'>52</a>\u001b[0m     tactile_img,\n\u001b[1;32m     <a href='vscode-notebook-cell://ssh-remote%2Blambda/home/irmak/Workspace/tactile-learning/notebooks/visualize_demonstrations.ipynb#W4sdnNjb2RlLXJlbW90ZQ%3D%3D?line=52'>53</a>\u001b[0m     (\u001b[39mint\u001b[39m(tactile_img\u001b[39m.\u001b[39mshape[\u001b[39m1\u001b[39m] \u001b[39m*\u001b[39m height_scale),\n\u001b[1;32m     <a href='vscode-notebook-cell://ssh-remote%2Blambda/home/irmak/Workspace/tactile-learning/notebooks/visualize_demonstrations.ipynb#W4sdnNjb2RlLXJlbW90ZQ%3D%3D?line=53'>54</a>\u001b[0m      \u001b[39mint\u001b[39m(tactile_img\u001b[39m.\u001b[39mshape[\u001b[39m0\u001b[39m] \u001b[39m*\u001b[39m height_scale))\n\u001b[1;32m     <a href='vscode-notebook-cell://ssh-remote%2Blambda/home/irmak/Workspace/tactile-learning/notebooks/visualize_demonstrations.ipynb#W4sdnNjb2RlLXJlbW90ZQ%3D%3D?line=54'>55</a>\u001b[0m )\n\u001b[1;32m     <a href='vscode-notebook-cell://ssh-remote%2Blambda/home/irmak/Workspace/tactile-learning/notebooks/visualize_demonstrations.ipynb#W4sdnNjb2RlLXJlbW90ZQ%3D%3D?line=55'>56</a>\u001b[0m total_img \u001b[39m=\u001b[39m cv2\u001b[39m.\u001b[39mhconcat([camera_img, tactile_img])\n",
      "\u001b[0;31mAttributeError\u001b[0m: 'NoneType' object has no attribute 'shape'"
     ]
    }
   ],
   "source": [
    "import glob\n",
    "# roots = [\n",
    "#     '/home/irmak/Workspace/Holo-Bot/extracted_data/bowl_picking/eval/demonstration_7',\n",
    "#     '/home/irmak/Workspace/Holo-Bot/extracted_data/bowl_picking/eval/demonstration_9',\n",
    "#     '/home/irmak/Workspace/Holo-Bot/extracted_data/bowl_picking/eval/demonstration_15',\n",
    "# ]\n",
    "data_path = '/home/irmak/Workspace/Holo-Bot/extracted_data/plier_clipping'\n",
    "# data_path = '/data/tactile_learning/deployment_data/data/bowl_picking/demonstrations/image_generalization'\n",
    "roots = glob.glob(f'{data_path}/demonstration_*')\n",
    "# roots = [f'{data_path}/demonstration_6']\n",
    "\n",
    "roots = [\n",
    "    '/home/irmak/Workspace/Holo-Bot/extracted_data/plier_clipping/demonstration_1',\n",
    "    '/home/irmak/Workspace/Holo-Bot/extracted_data/plier_clipping/demonstration_2',\n",
    "    '/home/irmak/Workspace/Holo-Bot/extracted_data/plier_clipping/demonstration_3',\n",
    "    '/home/irmak/Workspace/Holo-Bot/extracted_data/plier_clipping/demonstration_4',\n",
    "    '/home/irmak/Workspace/Holo-Bot/extracted_data/plier_clipping/demonstration_5',\n",
    "    '/home/irmak/Workspace/Holo-Bot/extracted_data/plier_clipping/demonstration_6',\n",
    "    '/home/irmak/Workspace/Holo-Bot/extracted_data/plier_clipping/demonstration_7',\n",
    "    '/home/irmak/Workspace/Holo-Bot/extracted_data/plier_clipping/demonstration_8',\n",
    "    '/home/irmak/Workspace/Holo-Bot/extracted_data/plier_clipping/demonstration_9',\n",
    "]\n",
    "\n",
    "retrieval_fps = 2\n",
    "view_num = 0\n",
    "for root in roots:\n",
    "    # print('root: {}'.format(root))\n",
    "    tactile_indices, image_indices = get_desired_indices(root=root, fps=retrieval_fps, view_num=view_num)\n",
    "    print('tactile_indices: {}, image_indices: {}'.format(tactile_indices, image_indices))\n",
    "    dump_states(root, tactile_indices, image_indices, view_num=view_num)\n"
   ]
  },
  {
   "cell_type": "code",
   "execution_count": 6,
   "metadata": {},
   "outputs": [
    {
     "name": "stdout",
     "output_type": "stream",
     "text": [
      "['/home/irmak/Workspace/Holo-Bot/extracted_data/mouse_scrolling/demonstration_8', '/home/irmak/Workspace/Holo-Bot/extracted_data/mouse_scrolling/demonstration_3', '/home/irmak/Workspace/Holo-Bot/extracted_data/mouse_scrolling/demonstration_1', '/home/irmak/Workspace/Holo-Bot/extracted_data/mouse_scrolling/demonstration_2', '/home/irmak/Workspace/Holo-Bot/extracted_data/mouse_scrolling/demonstration_9', '/home/irmak/Workspace/Holo-Bot/extracted_data/mouse_scrolling/demonstration_6', '/home/irmak/Workspace/Holo-Bot/extracted_data/mouse_scrolling/demonstration_7', '/home/irmak/Workspace/Holo-Bot/extracted_data/mouse_scrolling/demonstration_5', '/home/irmak/Workspace/Holo-Bot/extracted_data/mouse_scrolling/demonstration_4']\n"
     ]
    }
   ],
   "source": [
    "print(roots)"
   ]
  },
  {
   "cell_type": "code",
   "execution_count": 6,
   "metadata": {},
   "outputs": [
    {
     "name": "stdout",
     "output_type": "stream",
     "text": [
      "dumping video in root: /home/irmak/Workspace/Holo-Bot/extracted_data/plier_clipping/demonstration_1\n"
     ]
    },
    {
     "name": "stderr",
     "output_type": "stream",
     "text": [
      "ffmpeg version 5.1.2 Copyright (c) 2000-2022 the FFmpeg developers\n",
      "  built with gcc 10.4.0 (conda-forge gcc 10.4.0-18)\n",
      "  configuration: --prefix=/home/irmak/miniconda3/envs/tactile_learning --cc=/home/conda/feedstock_root/build_artifacts/ffmpeg_1666357487580/_build_env/bin/x86_64-conda-linux-gnu-cc --cxx=/home/conda/feedstock_root/build_artifacts/ffmpeg_1666357487580/_build_env/bin/x86_64-conda-linux-gnu-c++ --nm=/home/conda/feedstock_root/build_artifacts/ffmpeg_1666357487580/_build_env/bin/x86_64-conda-linux-gnu-nm --ar=/home/conda/feedstock_root/build_artifacts/ffmpeg_1666357487580/_build_env/bin/x86_64-conda-linux-gnu-ar --disable-doc --disable-openssl --enable-demuxer=dash --enable-hardcoded-tables --enable-libfreetype --enable-libfontconfig --enable-libopenh264 --enable-gnutls --enable-libmp3lame --enable-libvpx --enable-pthreads --enable-vaapi --enable-gpl --enable-libx264 --enable-libx265 --enable-libaom --enable-libsvtav1 --enable-libxml2 --enable-pic --enable-shared --disable-static --enable-version3 --enable-zlib --pkg-config=/home/conda/feedstock_root/build_artifacts/ffmpeg_1666357487580/_build_env/bin/pkg-config\n",
      "  libavutil      57. 28.100 / 57. 28.100\n",
      "  libavcodec     59. 37.100 / 59. 37.100\n",
      "  libavformat    59. 27.100 / 59. 27.100\n",
      "  libavdevice    59.  7.100 / 59.  7.100\n",
      "  libavfilter     8. 44.100 /  8. 44.100\n",
      "  libswscale      6.  7.100 /  6.  7.100\n",
      "  libswresample   4.  7.100 /  4.  7.100\n",
      "  libpostproc    56.  6.100 / 56.  6.100\n",
      "[image2 @ 0x560be4dac640] Pattern type 'glob_sequence' is deprecated: use pattern_type 'glob' instead\n",
      "Input #0, image2, from '/home/irmak/Workspace/Holo-Bot/extracted_data/plier_clipping/demonstration_1/visualization/%*.png':\n",
      "  Duration: 00:00:00.52, start: 0.000000, bitrate: N/A\n",
      "  Stream #0:0: Video: png, rgba(pc), 2000x2000 [SAR 3937:3937 DAR 1:1], 25 fps, 25 tbr, 25 tbn\n",
      "Stream mapping:\n",
      "  Stream #0:0 -> #0:0 (png (native) -> h264 (libx264))\n",
      "Press [q] to stop, [?] for help\n",
      "[libx264 @ 0x560be4db3340] using SAR=1/1\n",
      "[libx264 @ 0x560be4db3340] using cpu capabilities: MMX2 SSE2Fast SSSE3 SSE4.2 AVX FMA3 BMI2 AVX2\n",
      "[libx264 @ 0x560be4db3340] profile High 4:4:4 Predictive, level 4.0, 4:4:4, 8-bit\n",
      "[libx264 @ 0x560be4db3340] 264 - core 164 r3095 baee400 - H.264/MPEG-4 AVC codec - Copyleft 2003-2022 - http://www.videolan.org/x264.html - options: cabac=1 ref=3 deblock=1:0:0 analyse=0x3:0x113 me=hex subme=7 psy=1 psy_rd=1.00:0.00 mixed_ref=1 me_range=16 chroma_me=1 trellis=1 8x8dct=1 cqm=0 deadzone=21,11 fast_pskip=1 chroma_qp_offset=4 threads=22 lookahead_threads=3 sliced_threads=0 nr=0 decimate=1 interlaced=0 bluray_compat=0 constrained_intra=0 bframes=3 b_pyramid=2 b_adapt=1 b_bias=0 direct=1 weightb=1 open_gop=0 weightp=2 keyint=250 keyint_min=10 scenecut=40 intra_refresh=0 rc_lookahead=40 rc=crf mbtree=1 crf=23.0 qcomp=0.60 qpmin=0 qpmax=69 qpstep=4 ip_ratio=1.40 aq=1:1.00\n",
      "Output #0, mp4, to '/home/irmak/Workspace/Holo-Bot/extracted_data/plier_clipping/demonstration_1/visualization_0.mp4':\n",
      "  Metadata:\n",
      "    encoder         : Lavf59.27.100\n",
      "  Stream #0:0: Video: h264 (avc1 / 0x31637661), yuv444p(tv, progressive), 2000x720 [SAR 1:1 DAR 25:9], q=2-31, 10 fps, 10240 tbn\n",
      "    Metadata:\n",
      "      encoder         : Lavc59.37.100 libx264\n",
      "    Side data:\n",
      "      cpb: bitrate max/min/avg: 0/0/0 buffer size: 0 vbv_delay: N/A\n",
      "frame=   13 fps=0.0 q=-1.0 Lsize=     450kB time=00:00:01.00 bitrate=3686.3kbits/s speed=1.74x    \n",
      "video:449kB audio:0kB subtitle:0kB other streams:0kB global headers:0kB muxing overhead: 0.224664%\n",
      "[libx264 @ 0x560be4db3340] frame I:1     Avg QP:23.40  size: 49367\n",
      "[libx264 @ 0x560be4db3340] frame P:3     Avg QP:21.51  size: 56983\n",
      "[libx264 @ 0x560be4db3340] frame B:9     Avg QP:22.04  size: 26532\n",
      "[libx264 @ 0x560be4db3340] consecutive B-frames:  7.7%  0.0%  0.0% 92.3%\n",
      "[libx264 @ 0x560be4db3340] mb I  I16..4: 27.9% 43.8% 28.3%\n",
      "[libx264 @ 0x560be4db3340] mb P  I16..4:  3.6% 37.6%  4.4%  P16..4: 15.3%  7.3%  3.9%  0.0%  0.0%    skip:27.8%\n",
      "[libx264 @ 0x560be4db3340] mb B  I16..4:  0.5% 14.1%  0.0%  B16..8: 20.6%  4.8%  1.4%  direct: 8.5%  skip:50.0%  L0:39.5% L1:50.9% BI: 9.6%\n",
      "[libx264 @ 0x560be4db3340] 8x8 transform intra:76.9% inter:85.2%\n",
      "[libx264 @ 0x560be4db3340] coded y,u,v intra: 63.3% 29.6% 24.9% inter: 26.2% 12.4% 10.0%\n",
      "[libx264 @ 0x560be4db3340] i16 v,h,dc,p: 48% 39%  5%  8%\n",
      "[libx264 @ 0x560be4db3340] i8 v,h,dc,ddl,ddr,vr,hd,vl,hu: 15% 19% 51%  2%  2%  2%  3%  2%  4%\n",
      "[libx264 @ 0x560be4db3340] i4 v,h,dc,ddl,ddr,vr,hd,vl,hu: 39% 36% 12%  1%  2%  2%  4%  1%  3%\n",
      "[libx264 @ 0x560be4db3340] Weighted P-Frames: Y:0.0% UV:0.0%\n",
      "[libx264 @ 0x560be4db3340] ref P L0: 39.7% 21.2% 29.7%  9.3%\n",
      "[libx264 @ 0x560be4db3340] ref B L0: 74.9% 20.5%  4.6%\n",
      "[libx264 @ 0x560be4db3340] ref B L1: 90.3%  9.7%\n",
      "[libx264 @ 0x560be4db3340] kb/s:2825.29\n",
      "ffmpeg version 5.1.2 Copyright (c) 2000-2022 the FFmpeg developers\n",
      "  built with gcc 10.4.0 (conda-forge gcc 10.4.0-18)\n",
      "  configuration: --prefix=/home/irmak/miniconda3/envs/tactile_learning --cc=/home/conda/feedstock_root/build_artifacts/ffmpeg_1666357487580/_build_env/bin/x86_64-conda-linux-gnu-cc --cxx=/home/conda/feedstock_root/build_artifacts/ffmpeg_1666357487580/_build_env/bin/x86_64-conda-linux-gnu-c++ --nm=/home/conda/feedstock_root/build_artifacts/ffmpeg_1666357487580/_build_env/bin/x86_64-conda-linux-gnu-nm --ar=/home/conda/feedstock_root/build_artifacts/ffmpeg_1666357487580/_build_env/bin/x86_64-conda-linux-gnu-ar --disable-doc --disable-openssl --enable-demuxer=dash --enable-hardcoded-tables --enable-libfreetype --enable-libfontconfig --enable-libopenh264 --enable-gnutls --enable-libmp3lame --enable-libvpx --enable-pthreads --enable-vaapi --enable-gpl --enable-libx264 --enable-libx265 --enable-libaom --enable-libsvtav1 --enable-libxml2 --enable-pic --enable-shared --disable-static --enable-version3 --enable-zlib --pkg-config=/home/conda/feedstock_root/build_artifacts/ffmpeg_1666357487580/_build_env/bin/pkg-config\n",
      "  libavutil      57. 28.100 / 57. 28.100\n",
      "  libavcodec     59. 37.100 / 59. 37.100\n",
      "  libavformat    59. 27.100 / 59. 27.100\n",
      "  libavdevice    59.  7.100 / 59.  7.100\n",
      "  libavfilter     8. 44.100 /  8. 44.100\n",
      "  libswscale      6.  7.100 /  6.  7.100\n",
      "  libswresample   4.  7.100 /  4.  7.100\n",
      "  libpostproc    56.  6.100 / 56.  6.100\n",
      "[image2 @ 0x560c44c80640] Pattern type 'glob_sequence' is deprecated: use pattern_type 'glob' instead\n",
      "Input #0, image2, from '/home/irmak/Workspace/Holo-Bot/extracted_data/plier_clipping/demonstration_2/visualization/%*.png':\n",
      "  Duration: 00:00:01.80, start: 0.000000, bitrate: N/A\n",
      "  Stream #0:0: Video: png, rgba(pc), 2000x2000 [SAR 3937:3937 DAR 1:1], 25 fps, 25 tbr, 25 tbn\n",
      "Stream mapping:\n",
      "  Stream #0:0 -> #0:0 (png (native) -> h264 (libx264))\n",
      "Press [q] to stop, [?] for help\n"
     ]
    },
    {
     "name": "stdout",
     "output_type": "stream",
     "text": [
      "dumping video in root: /home/irmak/Workspace/Holo-Bot/extracted_data/plier_clipping/demonstration_2\n"
     ]
    },
    {
     "name": "stderr",
     "output_type": "stream",
     "text": [
      "[libx264 @ 0x560c44c851c0] using SAR=1/1\n",
      "[libx264 @ 0x560c44c851c0] using cpu capabilities: MMX2 SSE2Fast SSSE3 SSE4.2 AVX FMA3 BMI2 AVX2\n",
      "[libx264 @ 0x560c44c851c0] profile High 4:4:4 Predictive, level 4.0, 4:4:4, 8-bit\n",
      "[libx264 @ 0x560c44c851c0] 264 - core 164 r3095 baee400 - H.264/MPEG-4 AVC codec - Copyleft 2003-2022 - http://www.videolan.org/x264.html - options: cabac=1 ref=3 deblock=1:0:0 analyse=0x3:0x113 me=hex subme=7 psy=1 psy_rd=1.00:0.00 mixed_ref=1 me_range=16 chroma_me=1 trellis=1 8x8dct=1 cqm=0 deadzone=21,11 fast_pskip=1 chroma_qp_offset=4 threads=22 lookahead_threads=3 sliced_threads=0 nr=0 decimate=1 interlaced=0 bluray_compat=0 constrained_intra=0 bframes=3 b_pyramid=2 b_adapt=1 b_bias=0 direct=1 weightb=1 open_gop=0 weightp=2 keyint=250 keyint_min=10 scenecut=40 intra_refresh=0 rc_lookahead=40 rc=crf mbtree=1 crf=23.0 qcomp=0.60 qpmin=0 qpmax=69 qpstep=4 ip_ratio=1.40 aq=1:1.00\n",
      "Output #0, mp4, to '/home/irmak/Workspace/Holo-Bot/extracted_data/plier_clipping/demonstration_2/visualization_0.mp4':\n",
      "  Metadata:\n",
      "    encoder         : Lavf59.27.100\n",
      "  Stream #0:0: Video: h264 (avc1 / 0x31637661), yuv444p(tv, progressive), 2000x720 [SAR 1:1 DAR 25:9], q=2-31, 10 fps, 10240 tbn\n",
      "    Metadata:\n",
      "      encoder         : Lavc59.37.100 libx264\n",
      "    Side data:\n",
      "      cpb: bitrate max/min/avg: 0/0/0 buffer size: 0 vbv_delay: N/A\n",
      "frame=   45 fps=0.0 q=-1.0 Lsize=    1207kB time=00:00:04.20 bitrate=2353.4kbits/s speed=4.46x    \n",
      "video:1205kB audio:0kB subtitle:0kB other streams:0kB global headers:0kB muxing overhead: 0.116116%\n",
      "[libx264 @ 0x560c44c851c0] frame I:1     Avg QP:22.81  size: 51679\n",
      "[libx264 @ 0x560c44c851c0] frame P:11    Avg QP:20.01  size: 43494\n",
      "[libx264 @ 0x560c44c851c0] frame B:33    Avg QP:22.25  size: 21312\n",
      "[libx264 @ 0x560c44c851c0] consecutive B-frames:  2.2%  0.0%  0.0% 97.8%\n",
      "[libx264 @ 0x560c44c851c0] mb I  I16..4: 27.8% 43.6% 28.6%\n",
      "[libx264 @ 0x560c44c851c0] mb P  I16..4:  1.8% 19.8%  1.3%  P16..4: 23.8% 11.9%  6.5%  0.0%  0.0%    skip:35.0%\n",
      "[libx264 @ 0x560c44c851c0] mb B  I16..4:  0.4% 13.5%  0.0%  B16..8: 19.9%  4.2%  1.1%  direct: 5.1%  skip:55.8%  L0:45.2% L1:46.5% BI: 8.3%\n",
      "[libx264 @ 0x560c44c851c0] 8x8 transform intra:87.1% inter:85.4%\n",
      "[libx264 @ 0x560c44c851c0] coded y,u,v intra: 73.3% 39.0% 32.0% inter: 21.5% 13.1% 10.1%\n",
      "[libx264 @ 0x560c44c851c0] i16 v,h,dc,p: 41% 31% 13% 14%\n",
      "[libx264 @ 0x560c44c851c0] i8 v,h,dc,ddl,ddr,vr,hd,vl,hu: 12% 20% 56%  2%  2%  1%  2%  2%  3%\n",
      "[libx264 @ 0x560c44c851c0] i4 v,h,dc,ddl,ddr,vr,hd,vl,hu: 38% 36% 11%  2%  2%  2%  4%  1%  3%\n",
      "[libx264 @ 0x560c44c851c0] Weighted P-Frames: Y:0.0% UV:0.0%\n",
      "[libx264 @ 0x560c44c851c0] ref P L0: 35.1%  9.4% 35.1% 20.4%\n",
      "[libx264 @ 0x560c44c851c0] ref B L0: 62.8% 28.7%  8.5%\n",
      "[libx264 @ 0x560c44c851c0] ref B L1: 90.8%  9.2%\n",
      "[libx264 @ 0x560c44c851c0] kb/s:2192.76\n",
      "ffmpeg version 5.1.2 Copyright (c) 2000-2022 the FFmpeg developers\n",
      "  built with gcc 10.4.0 (conda-forge gcc 10.4.0-18)\n",
      "  configuration: --prefix=/home/irmak/miniconda3/envs/tactile_learning --cc=/home/conda/feedstock_root/build_artifacts/ffmpeg_1666357487580/_build_env/bin/x86_64-conda-linux-gnu-cc --cxx=/home/conda/feedstock_root/build_artifacts/ffmpeg_1666357487580/_build_env/bin/x86_64-conda-linux-gnu-c++ --nm=/home/conda/feedstock_root/build_artifacts/ffmpeg_1666357487580/_build_env/bin/x86_64-conda-linux-gnu-nm --ar=/home/conda/feedstock_root/build_artifacts/ffmpeg_1666357487580/_build_env/bin/x86_64-conda-linux-gnu-ar --disable-doc --disable-openssl --enable-demuxer=dash --enable-hardcoded-tables --enable-libfreetype --enable-libfontconfig --enable-libopenh264 --enable-gnutls --enable-libmp3lame --enable-libvpx --enable-pthreads --enable-vaapi --enable-gpl --enable-libx264 --enable-libx265 --enable-libaom --enable-libsvtav1 --enable-libxml2 --enable-pic --enable-shared --disable-static --enable-version3 --enable-zlib --pkg-config=/home/conda/feedstock_root/build_artifacts/ffmpeg_1666357487580/_build_env/bin/pkg-config\n",
      "  libavutil      57. 28.100 / 57. 28.100\n",
      "  libavcodec     59. 37.100 / 59. 37.100\n",
      "  libavformat    59. 27.100 / 59. 27.100\n",
      "  libavdevice    59.  7.100 / 59.  7.100\n",
      "  libavfilter     8. 44.100 /  8. 44.100\n",
      "  libswscale      6.  7.100 /  6.  7.100\n",
      "  libswresample   4.  7.100 /  4.  7.100\n",
      "  libpostproc    56.  6.100 / 56.  6.100\n",
      "[image2 @ 0x55f260e21640] Pattern type 'glob_sequence' is deprecated: use pattern_type 'glob' instead\n",
      "Input #0, image2, from '/home/irmak/Workspace/Holo-Bot/extracted_data/plier_clipping/demonstration_3/visualization/%*.png':\n",
      "  Duration: 00:00:01.64, start: 0.000000, bitrate: N/A\n",
      "  Stream #0:0: Video: png, rgba(pc), 2000x2000 [SAR 3937:3937 DAR 1:1], 25 fps, 25 tbr, 25 tbn\n",
      "Stream mapping:\n",
      "  Stream #0:0 -> #0:0 (png (native) -> h264 (libx264))\n",
      "Press [q] to stop, [?] for help\n"
     ]
    },
    {
     "name": "stdout",
     "output_type": "stream",
     "text": [
      "dumping video in root: /home/irmak/Workspace/Holo-Bot/extracted_data/plier_clipping/demonstration_3\n"
     ]
    },
    {
     "name": "stderr",
     "output_type": "stream",
     "text": [
      "[libx264 @ 0x55f260e28bc0] using SAR=1/1\n",
      "[libx264 @ 0x55f260e28bc0] using cpu capabilities: MMX2 SSE2Fast SSSE3 SSE4.2 AVX FMA3 BMI2 AVX2\n",
      "[libx264 @ 0x55f260e28bc0] profile High 4:4:4 Predictive, level 4.0, 4:4:4, 8-bit\n",
      "[libx264 @ 0x55f260e28bc0] 264 - core 164 r3095 baee400 - H.264/MPEG-4 AVC codec - Copyleft 2003-2022 - http://www.videolan.org/x264.html - options: cabac=1 ref=3 deblock=1:0:0 analyse=0x3:0x113 me=hex subme=7 psy=1 psy_rd=1.00:0.00 mixed_ref=1 me_range=16 chroma_me=1 trellis=1 8x8dct=1 cqm=0 deadzone=21,11 fast_pskip=1 chroma_qp_offset=4 threads=22 lookahead_threads=3 sliced_threads=0 nr=0 decimate=1 interlaced=0 bluray_compat=0 constrained_intra=0 bframes=3 b_pyramid=2 b_adapt=1 b_bias=0 direct=1 weightb=1 open_gop=0 weightp=2 keyint=250 keyint_min=10 scenecut=40 intra_refresh=0 rc_lookahead=40 rc=crf mbtree=1 crf=23.0 qcomp=0.60 qpmin=0 qpmax=69 qpstep=4 ip_ratio=1.40 aq=1:1.00\n",
      "Output #0, mp4, to '/home/irmak/Workspace/Holo-Bot/extracted_data/plier_clipping/demonstration_3/visualization_0.mp4':\n",
      "  Metadata:\n",
      "    encoder         : Lavf59.27.100\n",
      "  Stream #0:0: Video: h264 (avc1 / 0x31637661), yuv444p(tv, progressive), 2000x720 [SAR 1:1 DAR 25:9], q=2-31, 10 fps, 10240 tbn\n",
      "    Metadata:\n",
      "      encoder         : Lavc59.37.100 libx264\n",
      "    Side data:\n",
      "      cpb: bitrate max/min/avg: 0/0/0 buffer size: 0 vbv_delay: N/A\n",
      "frame=   41 fps=0.0 q=-1.0 Lsize=    1114kB time=00:00:03.80 bitrate=2400.9kbits/s speed=4.08x    \n",
      "video:1112kB audio:0kB subtitle:0kB other streams:0kB global headers:0kB muxing overhead: 0.121590%\n",
      "[libx264 @ 0x55f260e28bc0] frame I:1     Avg QP:22.81  size: 51679\n",
      "[libx264 @ 0x55f260e28bc0] frame P:10    Avg QP:19.91  size: 45916\n",
      "[libx264 @ 0x55f260e28bc0] frame B:30    Avg QP:22.30  size: 20918\n",
      "[libx264 @ 0x55f260e28bc0] consecutive B-frames:  2.4%  0.0%  0.0% 97.6%\n",
      "[libx264 @ 0x55f260e28bc0] mb I  I16..4: 27.8% 43.6% 28.6%\n",
      "[libx264 @ 0x55f260e28bc0] mb P  I16..4:  2.1% 22.6%  1.5%  P16..4: 22.4% 11.7%  5.8%  0.0%  0.0%    skip:34.0%\n",
      "[libx264 @ 0x55f260e28bc0] mb B  I16..4:  0.4%  9.5%  0.0%  B16..8: 23.1%  4.8%  1.2%  direct: 5.9%  skip:55.0%  L0:42.5% L1:48.9% BI: 8.7%\n",
      "[libx264 @ 0x55f260e28bc0] 8x8 transform intra:84.0% inter:86.0%\n",
      "[libx264 @ 0x55f260e28bc0] coded y,u,v intra: 69.0% 37.4% 32.1% inter: 22.6% 14.3% 11.4%\n",
      "[libx264 @ 0x55f260e28bc0] i16 v,h,dc,p: 42% 31% 12% 15%\n",
      "[libx264 @ 0x55f260e28bc0] i8 v,h,dc,ddl,ddr,vr,hd,vl,hu: 13% 17% 54%  2%  2%  2%  3%  2%  4%\n",
      "[libx264 @ 0x55f260e28bc0] i4 v,h,dc,ddl,ddr,vr,hd,vl,hu: 37% 36% 12%  2%  3%  2%  4%  2%  3%\n",
      "[libx264 @ 0x55f260e28bc0] Weighted P-Frames: Y:0.0% UV:0.0%\n",
      "[libx264 @ 0x55f260e28bc0] ref P L0: 37.6% 13.6% 30.9% 18.0%\n",
      "[libx264 @ 0x55f260e28bc0] ref B L0: 70.1% 23.5%  6.4%\n",
      "[libx264 @ 0x55f260e28bc0] ref B L1: 88.8% 11.2%\n",
      "[libx264 @ 0x55f260e28bc0] kb/s:2221.24\n",
      "ffmpeg version 5.1.2 Copyright (c) 2000-2022 the FFmpeg developers\n",
      "  built with gcc 10.4.0 (conda-forge gcc 10.4.0-18)\n",
      "  configuration: --prefix=/home/irmak/miniconda3/envs/tactile_learning --cc=/home/conda/feedstock_root/build_artifacts/ffmpeg_1666357487580/_build_env/bin/x86_64-conda-linux-gnu-cc --cxx=/home/conda/feedstock_root/build_artifacts/ffmpeg_1666357487580/_build_env/bin/x86_64-conda-linux-gnu-c++ --nm=/home/conda/feedstock_root/build_artifacts/ffmpeg_1666357487580/_build_env/bin/x86_64-conda-linux-gnu-nm --ar=/home/conda/feedstock_root/build_artifacts/ffmpeg_1666357487580/_build_env/bin/x86_64-conda-linux-gnu-ar --disable-doc --disable-openssl --enable-demuxer=dash --enable-hardcoded-tables --enable-libfreetype --enable-libfontconfig --enable-libopenh264 --enable-gnutls --enable-libmp3lame --enable-libvpx --enable-pthreads --enable-vaapi --enable-gpl --enable-libx264 --enable-libx265 --enable-libaom --enable-libsvtav1 --enable-libxml2 --enable-pic --enable-shared --disable-static --enable-version3 --enable-zlib --pkg-config=/home/conda/feedstock_root/build_artifacts/ffmpeg_1666357487580/_build_env/bin/pkg-config\n",
      "  libavutil      57. 28.100 / 57. 28.100\n",
      "  libavcodec     59. 37.100 / 59. 37.100\n",
      "  libavformat    59. 27.100 / 59. 27.100\n",
      "  libavdevice    59.  7.100 / 59.  7.100\n",
      "  libavfilter     8. 44.100 /  8. 44.100\n",
      "  libswscale      6.  7.100 /  6.  7.100\n",
      "  libswresample   4.  7.100 /  4.  7.100\n",
      "  libpostproc    56.  6.100 / 56.  6.100\n",
      "[image2 @ 0x55f5ca2ed640] Pattern type 'glob_sequence' is deprecated: use pattern_type 'glob' instead\n",
      "Input #0, image2, from '/home/irmak/Workspace/Holo-Bot/extracted_data/plier_clipping/demonstration_4/visualization/%*.png':\n",
      "  Duration: 00:00:01.56, start: 0.000000, bitrate: N/A\n",
      "  Stream #0:0: Video: png, rgba(pc), 2000x2000 [SAR 3937:3937 DAR 1:1], 25 fps, 25 tbr, 25 tbn\n",
      "Stream mapping:\n",
      "  Stream #0:0 -> #0:0 (png (native) -> h264 (libx264))\n",
      "Press [q] to stop, [?] for help\n"
     ]
    },
    {
     "name": "stdout",
     "output_type": "stream",
     "text": [
      "dumping video in root: /home/irmak/Workspace/Holo-Bot/extracted_data/plier_clipping/demonstration_4\n"
     ]
    },
    {
     "name": "stderr",
     "output_type": "stream",
     "text": [
      "[libx264 @ 0x55f5ca2f3280] using SAR=1/1\n",
      "[libx264 @ 0x55f5ca2f3280] using cpu capabilities: MMX2 SSE2Fast SSSE3 SSE4.2 AVX FMA3 BMI2 AVX2\n",
      "[libx264 @ 0x55f5ca2f3280] profile High 4:4:4 Predictive, level 4.0, 4:4:4, 8-bit\n",
      "[libx264 @ 0x55f5ca2f3280] 264 - core 164 r3095 baee400 - H.264/MPEG-4 AVC codec - Copyleft 2003-2022 - http://www.videolan.org/x264.html - options: cabac=1 ref=3 deblock=1:0:0 analyse=0x3:0x113 me=hex subme=7 psy=1 psy_rd=1.00:0.00 mixed_ref=1 me_range=16 chroma_me=1 trellis=1 8x8dct=1 cqm=0 deadzone=21,11 fast_pskip=1 chroma_qp_offset=4 threads=22 lookahead_threads=3 sliced_threads=0 nr=0 decimate=1 interlaced=0 bluray_compat=0 constrained_intra=0 bframes=3 b_pyramid=2 b_adapt=1 b_bias=0 direct=1 weightb=1 open_gop=0 weightp=2 keyint=250 keyint_min=10 scenecut=40 intra_refresh=0 rc_lookahead=40 rc=crf mbtree=1 crf=23.0 qcomp=0.60 qpmin=0 qpmax=69 qpstep=4 ip_ratio=1.40 aq=1:1.00\n",
      "Output #0, mp4, to '/home/irmak/Workspace/Holo-Bot/extracted_data/plier_clipping/demonstration_4/visualization_0.mp4':\n",
      "  Metadata:\n",
      "    encoder         : Lavf59.27.100\n",
      "  Stream #0:0: Video: h264 (avc1 / 0x31637661), yuv444p(tv, progressive), 2000x720 [SAR 1:1 DAR 25:9], q=2-31, 10 fps, 10240 tbn\n",
      "    Metadata:\n",
      "      encoder         : Lavc59.37.100 libx264\n",
      "    Side data:\n",
      "      cpb: bitrate max/min/avg: 0/0/0 buffer size: 0 vbv_delay: N/A\n",
      "frame=   39 fps=0.0 q=-1.0 Lsize=    1040kB time=00:00:03.60 bitrate=2366.1kbits/s speed=4.02x    \n",
      "video:1038kB audio:0kB subtitle:0kB other streams:0kB global headers:0kB muxing overhead: 0.127984%\n",
      "[libx264 @ 0x55f5ca2f3280] frame I:1     Avg QP:22.87  size: 51632\n",
      "[libx264 @ 0x55f5ca2f3280] frame P:10    Avg QP:19.97  size: 43822\n",
      "[libx264 @ 0x55f5ca2f3280] frame B:28    Avg QP:22.07  size: 20460\n",
      "[libx264 @ 0x55f5ca2f3280] consecutive B-frames:  2.6%  5.1%  0.0% 92.3%\n",
      "[libx264 @ 0x55f5ca2f3280] mb I  I16..4: 27.7% 43.8% 28.6%\n",
      "[libx264 @ 0x55f5ca2f3280] mb P  I16..4:  1.7% 20.6%  1.5%  P16..4: 23.8% 11.8%  6.0%  0.0%  0.0%    skip:34.6%\n",
      "[libx264 @ 0x55f5ca2f3280] mb B  I16..4:  0.4% 10.4%  0.0%  B16..8: 23.0%  5.1%  1.2%  direct: 5.7%  skip:54.2%  L0:43.3% L1:48.3% BI: 8.4%\n",
      "[libx264 @ 0x55f5ca2f3280] 8x8 transform intra:84.5% inter:85.3%\n",
      "[libx264 @ 0x55f5ca2f3280] coded y,u,v intra: 69.3% 30.1% 25.8% inter: 23.4% 11.1% 8.7%\n",
      "[libx264 @ 0x55f5ca2f3280] i16 v,h,dc,p: 42% 34% 12% 12%\n",
      "[libx264 @ 0x55f5ca2f3280] i8 v,h,dc,ddl,ddr,vr,hd,vl,hu: 13% 18% 56%  2%  2%  1%  3%  2%  3%\n",
      "[libx264 @ 0x55f5ca2f3280] i4 v,h,dc,ddl,ddr,vr,hd,vl,hu: 38% 36% 11%  2%  3%  2%  4%  1%  3%\n",
      "[libx264 @ 0x55f5ca2f3280] Weighted P-Frames: Y:0.0% UV:0.0%\n",
      "[libx264 @ 0x55f5ca2f3280] ref P L0: 36.8% 11.4% 33.7% 18.1%\n",
      "[libx264 @ 0x55f5ca2f3280] ref B L0: 68.4% 25.4%  6.2%\n",
      "[libx264 @ 0x55f5ca2f3280] ref B L1: 86.7% 13.3%\n",
      "[libx264 @ 0x55f5ca2f3280] kb/s:2179.94\n",
      "ffmpeg version 5.1.2 Copyright (c) 2000-2022 the FFmpeg developers\n",
      "  built with gcc 10.4.0 (conda-forge gcc 10.4.0-18)\n",
      "  configuration: --prefix=/home/irmak/miniconda3/envs/tactile_learning --cc=/home/conda/feedstock_root/build_artifacts/ffmpeg_1666357487580/_build_env/bin/x86_64-conda-linux-gnu-cc --cxx=/home/conda/feedstock_root/build_artifacts/ffmpeg_1666357487580/_build_env/bin/x86_64-conda-linux-gnu-c++ --nm=/home/conda/feedstock_root/build_artifacts/ffmpeg_1666357487580/_build_env/bin/x86_64-conda-linux-gnu-nm --ar=/home/conda/feedstock_root/build_artifacts/ffmpeg_1666357487580/_build_env/bin/x86_64-conda-linux-gnu-ar --disable-doc --disable-openssl --enable-demuxer=dash --enable-hardcoded-tables --enable-libfreetype --enable-libfontconfig --enable-libopenh264 --enable-gnutls --enable-libmp3lame --enable-libvpx --enable-pthreads --enable-vaapi --enable-gpl --enable-libx264 --enable-libx265 --enable-libaom --enable-libsvtav1 --enable-libxml2 --enable-pic --enable-shared --disable-static --enable-version3 --enable-zlib --pkg-config=/home/conda/feedstock_root/build_artifacts/ffmpeg_1666357487580/_build_env/bin/pkg-config\n",
      "  libavutil      57. 28.100 / 57. 28.100\n",
      "  libavcodec     59. 37.100 / 59. 37.100\n",
      "  libavformat    59. 27.100 / 59. 27.100\n",
      "  libavdevice    59.  7.100 / 59.  7.100\n",
      "  libavfilter     8. 44.100 /  8. 44.100\n",
      "  libswscale      6.  7.100 /  6.  7.100\n",
      "  libswresample   4.  7.100 /  4.  7.100\n",
      "  libpostproc    56.  6.100 / 56.  6.100\n",
      "[image2 @ 0x56504f1be640] Pattern type 'glob_sequence' is deprecated: use pattern_type 'glob' instead\n",
      "Input #0, image2, from '/home/irmak/Workspace/Holo-Bot/extracted_data/plier_clipping/demonstration_5/visualization/%*.png':\n",
      "  Duration: 00:00:02.60, start: 0.000000, bitrate: N/A\n",
      "  Stream #0:0: Video: png, rgba(pc), 2000x2000 [SAR 3937:3937 DAR 1:1], 25 fps, 25 tbr, 25 tbn\n",
      "Stream mapping:\n",
      "  Stream #0:0 -> #0:0 (png (native) -> h264 (libx264))\n",
      "Press [q] to stop, [?] for help\n"
     ]
    },
    {
     "name": "stdout",
     "output_type": "stream",
     "text": [
      "dumping video in root: /home/irmak/Workspace/Holo-Bot/extracted_data/plier_clipping/demonstration_5\n"
     ]
    },
    {
     "name": "stderr",
     "output_type": "stream",
     "text": [
      "[libx264 @ 0x56504f1c4900] using SAR=1/1\n",
      "[libx264 @ 0x56504f1c4900] using cpu capabilities: MMX2 SSE2Fast SSSE3 SSE4.2 AVX FMA3 BMI2 AVX2\n",
      "[libx264 @ 0x56504f1c4900] profile High 4:4:4 Predictive, level 4.0, 4:4:4, 8-bit\n",
      "[libx264 @ 0x56504f1c4900] 264 - core 164 r3095 baee400 - H.264/MPEG-4 AVC codec - Copyleft 2003-2022 - http://www.videolan.org/x264.html - options: cabac=1 ref=3 deblock=1:0:0 analyse=0x3:0x113 me=hex subme=7 psy=1 psy_rd=1.00:0.00 mixed_ref=1 me_range=16 chroma_me=1 trellis=1 8x8dct=1 cqm=0 deadzone=21,11 fast_pskip=1 chroma_qp_offset=4 threads=22 lookahead_threads=3 sliced_threads=0 nr=0 decimate=1 interlaced=0 bluray_compat=0 constrained_intra=0 bframes=3 b_pyramid=2 b_adapt=1 b_bias=0 direct=1 weightb=1 open_gop=0 weightp=2 keyint=250 keyint_min=10 scenecut=40 intra_refresh=0 rc_lookahead=40 rc=crf mbtree=1 crf=23.0 qcomp=0.60 qpmin=0 qpmax=69 qpstep=4 ip_ratio=1.40 aq=1:1.00\n",
      "Output #0, mp4, to '/home/irmak/Workspace/Holo-Bot/extracted_data/plier_clipping/demonstration_5/visualization_0.mp4':\n",
      "  Metadata:\n",
      "    encoder         : Lavf59.27.100\n",
      "  Stream #0:0: Video: h264 (avc1 / 0x31637661), yuv444p(tv, progressive), 2000x720 [SAR 1:1 DAR 25:9], q=2-31, 10 fps, 10240 tbn\n",
      "    Metadata:\n",
      "      encoder         : Lavc59.37.100 libx264\n",
      "    Side data:\n",
      "      cpb: bitrate max/min/avg: 0/0/0 buffer size: 0 vbv_delay: N/A\n",
      "frame=   65 fps= 60 q=-1.0 Lsize=    1748kB time=00:00:06.20 bitrate=2309.5kbits/s speed=5.74x    \n",
      "video:1746kB audio:0kB subtitle:0kB other streams:0kB global headers:0kB muxing overhead: 0.093556%\n",
      "[libx264 @ 0x56504f1c4900] frame I:1     Avg QP:22.77  size: 51728\n",
      "[libx264 @ 0x56504f1c4900] frame P:16    Avg QP:19.57  size: 44192\n",
      "[libx264 @ 0x56504f1c4900] frame B:48    Avg QP:22.22  size: 21432\n",
      "[libx264 @ 0x56504f1c4900] consecutive B-frames:  1.5%  0.0%  0.0% 98.5%\n",
      "[libx264 @ 0x56504f1c4900] mb I  I16..4: 28.1% 43.5% 28.5%\n",
      "[libx264 @ 0x56504f1c4900] mb P  I16..4:  1.3% 17.4%  0.9%  P16..4: 24.5% 13.4%  7.3%  0.0%  0.0%    skip:35.4%\n",
      "[libx264 @ 0x56504f1c4900] mb B  I16..4:  0.3% 10.1%  0.0%  B16..8: 23.7%  5.5%  1.3%  direct: 5.8%  skip:53.4%  L0:47.7% L1:42.9% BI: 9.5%\n",
      "[libx264 @ 0x56504f1c4900] 8x8 transform intra:88.3% inter:85.7%\n",
      "[libx264 @ 0x56504f1c4900] coded y,u,v intra: 73.6% 30.5% 25.9% inter: 24.6% 11.1% 8.7%\n",
      "[libx264 @ 0x56504f1c4900] i16 v,h,dc,p: 43% 31% 15% 11%\n",
      "[libx264 @ 0x56504f1c4900] i8 v,h,dc,ddl,ddr,vr,hd,vl,hu: 11% 17% 59%  2%  2%  1%  2%  2%  3%\n",
      "[libx264 @ 0x56504f1c4900] i4 v,h,dc,ddl,ddr,vr,hd,vl,hu: 37% 36% 12%  2%  2%  2%  4%  1%  4%\n",
      "[libx264 @ 0x56504f1c4900] Weighted P-Frames: Y:0.0% UV:0.0%\n",
      "[libx264 @ 0x56504f1c4900] ref P L0: 34.5%  9.6% 35.2% 20.7%\n",
      "[libx264 @ 0x56504f1c4900] ref B L0: 65.2% 27.5%  7.3%\n",
      "[libx264 @ 0x56504f1c4900] ref B L1: 85.1% 14.9%\n",
      "[libx264 @ 0x56504f1c4900] kb/s:2200.05\n",
      "ffmpeg version 5.1.2 Copyright (c) 2000-2022 the FFmpeg developers\n",
      "  built with gcc 10.4.0 (conda-forge gcc 10.4.0-18)\n",
      "  configuration: --prefix=/home/irmak/miniconda3/envs/tactile_learning --cc=/home/conda/feedstock_root/build_artifacts/ffmpeg_1666357487580/_build_env/bin/x86_64-conda-linux-gnu-cc --cxx=/home/conda/feedstock_root/build_artifacts/ffmpeg_1666357487580/_build_env/bin/x86_64-conda-linux-gnu-c++ --nm=/home/conda/feedstock_root/build_artifacts/ffmpeg_1666357487580/_build_env/bin/x86_64-conda-linux-gnu-nm --ar=/home/conda/feedstock_root/build_artifacts/ffmpeg_1666357487580/_build_env/bin/x86_64-conda-linux-gnu-ar --disable-doc --disable-openssl --enable-demuxer=dash --enable-hardcoded-tables --enable-libfreetype --enable-libfontconfig --enable-libopenh264 --enable-gnutls --enable-libmp3lame --enable-libvpx --enable-pthreads --enable-vaapi --enable-gpl --enable-libx264 --enable-libx265 --enable-libaom --enable-libsvtav1 --enable-libxml2 --enable-pic --enable-shared --disable-static --enable-version3 --enable-zlib --pkg-config=/home/conda/feedstock_root/build_artifacts/ffmpeg_1666357487580/_build_env/bin/pkg-config\n",
      "  libavutil      57. 28.100 / 57. 28.100\n",
      "  libavcodec     59. 37.100 / 59. 37.100\n",
      "  libavformat    59. 27.100 / 59. 27.100\n",
      "  libavdevice    59.  7.100 / 59.  7.100\n",
      "  libavfilter     8. 44.100 /  8. 44.100\n",
      "  libswscale      6.  7.100 /  6.  7.100\n",
      "  libswresample   4.  7.100 /  4.  7.100\n",
      "  libpostproc    56.  6.100 / 56.  6.100\n",
      "[image2 @ 0x5568abe3b640] Pattern type 'glob_sequence' is deprecated: use pattern_type 'glob' instead\n",
      "Input #0, image2, from '/home/irmak/Workspace/Holo-Bot/extracted_data/plier_clipping/demonstration_6/visualization/%*.png':\n",
      "  Duration: 00:00:02.12, start: 0.000000, bitrate: N/A\n",
      "  Stream #0:0: Video: png, rgba(pc), 2000x2000 [SAR 3937:3937 DAR 1:1], 25 fps, 25 tbr, 25 tbn\n",
      "Stream mapping:\n",
      "  Stream #0:0 -> #0:0 (png (native) -> h264 (libx264))\n",
      "Press [q] to stop, [?] for help\n"
     ]
    },
    {
     "name": "stdout",
     "output_type": "stream",
     "text": [
      "dumping video in root: /home/irmak/Workspace/Holo-Bot/extracted_data/plier_clipping/demonstration_6\n"
     ]
    },
    {
     "name": "stderr",
     "output_type": "stream",
     "text": [
      "[libx264 @ 0x5568abe40840] using SAR=1/1\n",
      "[libx264 @ 0x5568abe40840] using cpu capabilities: MMX2 SSE2Fast SSSE3 SSE4.2 AVX FMA3 BMI2 AVX2\n",
      "[libx264 @ 0x5568abe40840] profile High 4:4:4 Predictive, level 4.0, 4:4:4, 8-bit\n",
      "[libx264 @ 0x5568abe40840] 264 - core 164 r3095 baee400 - H.264/MPEG-4 AVC codec - Copyleft 2003-2022 - http://www.videolan.org/x264.html - options: cabac=1 ref=3 deblock=1:0:0 analyse=0x3:0x113 me=hex subme=7 psy=1 psy_rd=1.00:0.00 mixed_ref=1 me_range=16 chroma_me=1 trellis=1 8x8dct=1 cqm=0 deadzone=21,11 fast_pskip=1 chroma_qp_offset=4 threads=22 lookahead_threads=3 sliced_threads=0 nr=0 decimate=1 interlaced=0 bluray_compat=0 constrained_intra=0 bframes=3 b_pyramid=2 b_adapt=1 b_bias=0 direct=1 weightb=1 open_gop=0 weightp=2 keyint=250 keyint_min=10 scenecut=40 intra_refresh=0 rc_lookahead=40 rc=crf mbtree=1 crf=23.0 qcomp=0.60 qpmin=0 qpmax=69 qpstep=4 ip_ratio=1.40 aq=1:1.00\n",
      "Output #0, mp4, to '/home/irmak/Workspace/Holo-Bot/extracted_data/plier_clipping/demonstration_6/visualization_0.mp4':\n",
      "  Metadata:\n",
      "    encoder         : Lavf59.27.100\n",
      "  Stream #0:0: Video: h264 (avc1 / 0x31637661), yuv444p(tv, progressive), 2000x720 [SAR 1:1 DAR 25:9], q=2-31, 10 fps, 10240 tbn\n",
      "    Metadata:\n",
      "      encoder         : Lavc59.37.100 libx264\n",
      "    Side data:\n",
      "      cpb: bitrate max/min/avg: 0/0/0 buffer size: 0 vbv_delay: N/A\n",
      "frame=   53 fps= 50 q=-1.0 Lsize=    1795kB time=00:00:05.00 bitrate=2941.2kbits/s speed=4.68x    \n",
      "video:1794kB audio:0kB subtitle:0kB other streams:0kB global headers:0kB muxing overhead: 0.083245%\n",
      "[libx264 @ 0x5568abe40840] frame I:1     Avg QP:22.82  size: 51722\n",
      "[libx264 @ 0x5568abe40840] frame P:13    Avg QP:20.00  size: 52434\n",
      "[libx264 @ 0x5568abe40840] frame B:39    Avg QP:22.53  size: 28274\n",
      "[libx264 @ 0x5568abe40840] consecutive B-frames:  1.9%  0.0%  0.0% 98.1%\n",
      "[libx264 @ 0x5568abe40840] mb I  I16..4: 27.8% 43.7% 28.5%\n",
      "[libx264 @ 0x5568abe40840] mb P  I16..4:  1.2% 23.8%  1.1%  P16..4: 21.2% 12.6%  6.3%  0.0%  0.0%    skip:33.9%\n",
      "[libx264 @ 0x5568abe40840] mb B  I16..4:  0.2% 13.3%  0.0%  B16..8: 21.6%  5.5%  1.5%  direct: 7.0%  skip:50.9%  L0:45.7% L1:43.3% BI:11.1%\n",
      "[libx264 @ 0x5568abe40840] 8x8 transform intra:90.3% inter:87.2%\n",
      "[libx264 @ 0x5568abe40840] coded y,u,v intra: 80.5% 43.9% 36.8% inter: 27.7% 15.7% 11.7%\n",
      "[libx264 @ 0x5568abe40840] i16 v,h,dc,p: 49% 33% 10%  9%\n",
      "[libx264 @ 0x5568abe40840] i8 v,h,dc,ddl,ddr,vr,hd,vl,hu: 10% 17% 59%  2%  2%  1%  3%  2%  4%\n",
      "[libx264 @ 0x5568abe40840] i4 v,h,dc,ddl,ddr,vr,hd,vl,hu: 38% 36% 11%  2%  2%  2%  4%  1%  4%\n",
      "[libx264 @ 0x5568abe40840] Weighted P-Frames: Y:0.0% UV:0.0%\n",
      "[libx264 @ 0x5568abe40840] ref P L0: 34.7% 12.9% 33.4% 19.0%\n",
      "[libx264 @ 0x5568abe40840] ref B L0: 67.5% 26.1%  6.4%\n",
      "[libx264 @ 0x5568abe40840] ref B L1: 86.8% 13.2%\n",
      "[libx264 @ 0x5568abe40840] kb/s:2771.41\n",
      "ffmpeg version 5.1.2 Copyright (c) 2000-2022 the FFmpeg developers\n",
      "  built with gcc 10.4.0 (conda-forge gcc 10.4.0-18)\n",
      "  configuration: --prefix=/home/irmak/miniconda3/envs/tactile_learning --cc=/home/conda/feedstock_root/build_artifacts/ffmpeg_1666357487580/_build_env/bin/x86_64-conda-linux-gnu-cc --cxx=/home/conda/feedstock_root/build_artifacts/ffmpeg_1666357487580/_build_env/bin/x86_64-conda-linux-gnu-c++ --nm=/home/conda/feedstock_root/build_artifacts/ffmpeg_1666357487580/_build_env/bin/x86_64-conda-linux-gnu-nm --ar=/home/conda/feedstock_root/build_artifacts/ffmpeg_1666357487580/_build_env/bin/x86_64-conda-linux-gnu-ar --disable-doc --disable-openssl --enable-demuxer=dash --enable-hardcoded-tables --enable-libfreetype --enable-libfontconfig --enable-libopenh264 --enable-gnutls --enable-libmp3lame --enable-libvpx --enable-pthreads --enable-vaapi --enable-gpl --enable-libx264 --enable-libx265 --enable-libaom --enable-libsvtav1 --enable-libxml2 --enable-pic --enable-shared --disable-static --enable-version3 --enable-zlib --pkg-config=/home/conda/feedstock_root/build_artifacts/ffmpeg_1666357487580/_build_env/bin/pkg-config\n",
      "  libavutil      57. 28.100 / 57. 28.100\n",
      "  libavcodec     59. 37.100 / 59. 37.100\n",
      "  libavformat    59. 27.100 / 59. 27.100\n",
      "  libavdevice    59.  7.100 / 59.  7.100\n",
      "  libavfilter     8. 44.100 /  8. 44.100\n",
      "  libswscale      6.  7.100 /  6.  7.100\n",
      "  libswresample   4.  7.100 /  4.  7.100\n",
      "  libpostproc    56.  6.100 / 56.  6.100\n",
      "[image2 @ 0x557109320640] Pattern type 'glob_sequence' is deprecated: use pattern_type 'glob' instead\n",
      "Input #0, image2, from '/home/irmak/Workspace/Holo-Bot/extracted_data/plier_clipping/demonstration_7/visualization/%*.png':\n",
      "  Duration: 00:00:02.32, start: 0.000000, bitrate: N/A\n",
      "  Stream #0:0: Video: png, rgba(pc), 2000x2000 [SAR 3937:3937 DAR 1:1], 25 fps, 25 tbr, 25 tbn\n",
      "Stream mapping:\n",
      "  Stream #0:0 -> #0:0 (png (native) -> h264 (libx264))\n",
      "Press [q] to stop, [?] for help\n"
     ]
    },
    {
     "name": "stdout",
     "output_type": "stream",
     "text": [
      "dumping video in root: /home/irmak/Workspace/Holo-Bot/extracted_data/plier_clipping/demonstration_7\n"
     ]
    },
    {
     "name": "stderr",
     "output_type": "stream",
     "text": [
      "[libx264 @ 0x557109326380] using SAR=1/1\n",
      "[libx264 @ 0x557109326380] using cpu capabilities: MMX2 SSE2Fast SSSE3 SSE4.2 AVX FMA3 BMI2 AVX2\n",
      "[libx264 @ 0x557109326380] profile High 4:4:4 Predictive, level 4.0, 4:4:4, 8-bit\n",
      "[libx264 @ 0x557109326380] 264 - core 164 r3095 baee400 - H.264/MPEG-4 AVC codec - Copyleft 2003-2022 - http://www.videolan.org/x264.html - options: cabac=1 ref=3 deblock=1:0:0 analyse=0x3:0x113 me=hex subme=7 psy=1 psy_rd=1.00:0.00 mixed_ref=1 me_range=16 chroma_me=1 trellis=1 8x8dct=1 cqm=0 deadzone=21,11 fast_pskip=1 chroma_qp_offset=4 threads=22 lookahead_threads=3 sliced_threads=0 nr=0 decimate=1 interlaced=0 bluray_compat=0 constrained_intra=0 bframes=3 b_pyramid=2 b_adapt=1 b_bias=0 direct=1 weightb=1 open_gop=0 weightp=2 keyint=250 keyint_min=10 scenecut=40 intra_refresh=0 rc_lookahead=40 rc=crf mbtree=1 crf=23.0 qcomp=0.60 qpmin=0 qpmax=69 qpstep=4 ip_ratio=1.40 aq=1:1.00\n",
      "Output #0, mp4, to '/home/irmak/Workspace/Holo-Bot/extracted_data/plier_clipping/demonstration_7/visualization_0.mp4':\n",
      "  Metadata:\n",
      "    encoder         : Lavf59.27.100\n",
      "  Stream #0:0: Video: h264 (avc1 / 0x31637661), yuv444p(tv, progressive), 2000x720 [SAR 1:1 DAR 25:9], q=2-31, 10 fps, 10240 tbn\n",
      "    Metadata:\n",
      "      encoder         : Lavc59.37.100 libx264\n",
      "    Side data:\n",
      "      cpb: bitrate max/min/avg: 0/0/0 buffer size: 0 vbv_delay: N/A\n",
      "frame=   58 fps= 56 q=-1.0 Lsize=    1601kB time=00:00:05.50 bitrate=2384.6kbits/s speed=5.27x    \n",
      "video:1599kB audio:0kB subtitle:0kB other streams:0kB global headers:0kB muxing overhead: 0.097016%\n",
      "[libx264 @ 0x557109326380] frame I:1     Avg QP:22.81  size: 51679\n",
      "[libx264 @ 0x557109326380] frame P:15    Avg QP:19.54  size: 44657\n",
      "[libx264 @ 0x557109326380] frame B:42    Avg QP:22.25  size: 21801\n",
      "[libx264 @ 0x557109326380] consecutive B-frames:  3.4%  0.0%  0.0% 96.6%\n",
      "[libx264 @ 0x557109326380] mb I  I16..4: 27.8% 43.6% 28.6%\n",
      "[libx264 @ 0x557109326380] mb P  I16..4:  1.5% 19.2%  1.0%  P16..4: 23.8% 12.6%  6.7%  0.0%  0.0%    skip:35.3%\n",
      "[libx264 @ 0x557109326380] mb B  I16..4:  0.3%  9.9%  0.0%  B16..8: 23.2%  5.4%  1.3%  direct: 6.1%  skip:53.8%  L0:45.9% L1:44.3% BI: 9.7%\n",
      "[libx264 @ 0x557109326380] 8x8 transform intra:87.3% inter:86.1%\n",
      "[libx264 @ 0x557109326380] coded y,u,v intra: 72.8% 31.0% 26.9% inter: 24.7% 11.3% 8.9%\n",
      "[libx264 @ 0x557109326380] i16 v,h,dc,p: 46% 31% 12% 11%\n",
      "[libx264 @ 0x557109326380] i8 v,h,dc,ddl,ddr,vr,hd,vl,hu: 12% 18% 56%  2%  2%  1%  3%  2%  3%\n",
      "[libx264 @ 0x557109326380] i4 v,h,dc,ddl,ddr,vr,hd,vl,hu: 37% 36% 11%  2%  2%  2%  4%  2%  4%\n",
      "[libx264 @ 0x557109326380] Weighted P-Frames: Y:0.0% UV:0.0%\n",
      "[libx264 @ 0x557109326380] ref P L0: 36.9% 10.7% 33.4% 19.1%\n",
      "[libx264 @ 0x557109326380] ref B L0: 65.7% 27.1%  7.3%\n",
      "[libx264 @ 0x557109326380] ref B L1: 87.5% 12.5%\n",
      "[libx264 @ 0x557109326380] kb/s:2258.18\n",
      "ffmpeg version 5.1.2 Copyright (c) 2000-2022 the FFmpeg developers\n",
      "  built with gcc 10.4.0 (conda-forge gcc 10.4.0-18)\n",
      "  configuration: --prefix=/home/irmak/miniconda3/envs/tactile_learning --cc=/home/conda/feedstock_root/build_artifacts/ffmpeg_1666357487580/_build_env/bin/x86_64-conda-linux-gnu-cc --cxx=/home/conda/feedstock_root/build_artifacts/ffmpeg_1666357487580/_build_env/bin/x86_64-conda-linux-gnu-c++ --nm=/home/conda/feedstock_root/build_artifacts/ffmpeg_1666357487580/_build_env/bin/x86_64-conda-linux-gnu-nm --ar=/home/conda/feedstock_root/build_artifacts/ffmpeg_1666357487580/_build_env/bin/x86_64-conda-linux-gnu-ar --disable-doc --disable-openssl --enable-demuxer=dash --enable-hardcoded-tables --enable-libfreetype --enable-libfontconfig --enable-libopenh264 --enable-gnutls --enable-libmp3lame --enable-libvpx --enable-pthreads --enable-vaapi --enable-gpl --enable-libx264 --enable-libx265 --enable-libaom --enable-libsvtav1 --enable-libxml2 --enable-pic --enable-shared --disable-static --enable-version3 --enable-zlib --pkg-config=/home/conda/feedstock_root/build_artifacts/ffmpeg_1666357487580/_build_env/bin/pkg-config\n",
      "  libavutil      57. 28.100 / 57. 28.100\n",
      "  libavcodec     59. 37.100 / 59. 37.100\n",
      "  libavformat    59. 27.100 / 59. 27.100\n",
      "  libavdevice    59.  7.100 / 59.  7.100\n",
      "  libavfilter     8. 44.100 /  8. 44.100\n",
      "  libswscale      6.  7.100 /  6.  7.100\n",
      "  libswresample   4.  7.100 /  4.  7.100\n",
      "  libpostproc    56.  6.100 / 56.  6.100\n",
      "[image2 @ 0x560fb7473640] Pattern type 'glob_sequence' is deprecated: use pattern_type 'glob' instead\n",
      "Input #0, image2, from '/home/irmak/Workspace/Holo-Bot/extracted_data/plier_clipping/demonstration_8/visualization/%*.png':\n",
      "  Duration: 00:00:00.04, start: 0.000000, bitrate: N/A\n",
      "  Stream #0:0: Video: png, rgba(pc), 2000x2000 [SAR 3937:3937 DAR 1:1], 25 fps, 25 tbr, 25 tbn\n",
      "Stream mapping:\n",
      "  Stream #0:0 -> #0:0 (png (native) -> h264 (libx264))\n",
      "Press [q] to stop, [?] for help\n"
     ]
    },
    {
     "name": "stdout",
     "output_type": "stream",
     "text": [
      "dumping video in root: /home/irmak/Workspace/Holo-Bot/extracted_data/plier_clipping/demonstration_8\n",
      "dumping video in root: /home/irmak/Workspace/Holo-Bot/extracted_data/plier_clipping/demonstration_9\n"
     ]
    },
    {
     "name": "stderr",
     "output_type": "stream",
     "text": [
      "[libx264 @ 0x560fb7477dc0] using SAR=1/1\n",
      "[libx264 @ 0x560fb7477dc0] using cpu capabilities: MMX2 SSE2Fast SSSE3 SSE4.2 AVX FMA3 BMI2 AVX2\n",
      "[libx264 @ 0x560fb7477dc0] profile High 4:4:4 Predictive, level 4.0, 4:4:4, 8-bit\n",
      "[libx264 @ 0x560fb7477dc0] 264 - core 164 r3095 baee400 - H.264/MPEG-4 AVC codec - Copyleft 2003-2022 - http://www.videolan.org/x264.html - options: cabac=1 ref=3 deblock=1:0:0 analyse=0x3:0x113 me=hex subme=7 psy=1 psy_rd=1.00:0.00 mixed_ref=1 me_range=16 chroma_me=1 trellis=1 8x8dct=1 cqm=0 deadzone=21,11 fast_pskip=1 chroma_qp_offset=4 threads=22 lookahead_threads=3 sliced_threads=0 nr=0 decimate=1 interlaced=0 bluray_compat=0 constrained_intra=0 bframes=3 b_pyramid=2 b_adapt=1 b_bias=0 direct=1 weightb=1 open_gop=0 weightp=2 keyint=250 keyint_min=10 scenecut=40 intra_refresh=0 rc_lookahead=40 rc=crf mbtree=1 crf=23.0 qcomp=0.60 qpmin=0 qpmax=69 qpstep=4 ip_ratio=1.40 aq=1:1.00\n",
      "Output #0, mp4, to '/home/irmak/Workspace/Holo-Bot/extracted_data/plier_clipping/demonstration_8/visualization_0.mp4':\n",
      "  Metadata:\n",
      "    encoder         : Lavf59.27.100\n",
      "  Stream #0:0: Video: h264 (avc1 / 0x31637661), yuv444p(tv, progressive), 2000x720 [SAR 1:1 DAR 25:9], q=2-31, 10 fps, 10240 tbn\n",
      "    Metadata:\n",
      "      encoder         : Lavc59.37.100 libx264\n",
      "    Side data:\n",
      "      cpb: bitrate max/min/avg: 0/0/0 buffer size: 0 vbv_delay: N/A\n",
      "frame=    1 fps=0.0 q=25.0 Lsize=      46kB time=00:00:00.00 bitrate=3861061.2kbits/s speed=0.000328x    \n",
      "video:45kB audio:0kB subtitle:0kB other streams:0kB global headers:0kB muxing overhead: 1.810276%\n",
      "[libx264 @ 0x560fb7477dc0] frame I:1     Avg QP:25.27  size: 45768\n",
      "[libx264 @ 0x560fb7477dc0] mb I  I16..4: 28.3% 44.2% 27.5%\n",
      "[libx264 @ 0x560fb7477dc0] 8x8 transform intra:44.2%\n",
      "[libx264 @ 0x560fb7477dc0] coded y,u,v intra: 14.9% 8.4% 8.9%\n",
      "[libx264 @ 0x560fb7477dc0] i16 v,h,dc,p: 54% 45%  1%  0%\n",
      "[libx264 @ 0x560fb7477dc0] i8 v,h,dc,ddl,ddr,vr,hd,vl,hu: 45% 13% 41%  0%  0%  0%  0%  0%  0%\n",
      "[libx264 @ 0x560fb7477dc0] i4 v,h,dc,ddl,ddr,vr,hd,vl,hu: 35% 43%  9%  1%  2%  1%  4%  1%  4%\n",
      "[libx264 @ 0x560fb7477dc0] kb/s:3661.44\n",
      "ffmpeg version 5.1.2 Copyright (c) 2000-2022 the FFmpeg developers\n",
      "  built with gcc 10.4.0 (conda-forge gcc 10.4.0-18)\n",
      "  configuration: --prefix=/home/irmak/miniconda3/envs/tactile_learning --cc=/home/conda/feedstock_root/build_artifacts/ffmpeg_1666357487580/_build_env/bin/x86_64-conda-linux-gnu-cc --cxx=/home/conda/feedstock_root/build_artifacts/ffmpeg_1666357487580/_build_env/bin/x86_64-conda-linux-gnu-c++ --nm=/home/conda/feedstock_root/build_artifacts/ffmpeg_1666357487580/_build_env/bin/x86_64-conda-linux-gnu-nm --ar=/home/conda/feedstock_root/build_artifacts/ffmpeg_1666357487580/_build_env/bin/x86_64-conda-linux-gnu-ar --disable-doc --disable-openssl --enable-demuxer=dash --enable-hardcoded-tables --enable-libfreetype --enable-libfontconfig --enable-libopenh264 --enable-gnutls --enable-libmp3lame --enable-libvpx --enable-pthreads --enable-vaapi --enable-gpl --enable-libx264 --enable-libx265 --enable-libaom --enable-libsvtav1 --enable-libxml2 --enable-pic --enable-shared --disable-static --enable-version3 --enable-zlib --pkg-config=/home/conda/feedstock_root/build_artifacts/ffmpeg_1666357487580/_build_env/bin/pkg-config\n",
      "  libavutil      57. 28.100 / 57. 28.100\n",
      "  libavcodec     59. 37.100 / 59. 37.100\n",
      "  libavformat    59. 27.100 / 59. 27.100\n",
      "  libavdevice    59.  7.100 / 59.  7.100\n",
      "  libavfilter     8. 44.100 /  8. 44.100\n",
      "  libswscale      6.  7.100 /  6.  7.100\n",
      "  libswresample   4.  7.100 /  4.  7.100\n",
      "  libpostproc    56.  6.100 / 56.  6.100\n",
      "[image2 @ 0x55e2fbc7b640] Pattern type 'glob_sequence' is deprecated: use pattern_type 'glob' instead\n",
      "[image2 @ 0x55e2fbc7b640] Could not open file : /home/irmak/Workspace/Holo-Bot/extracted_data/plier_clipping/demonstration_9/visualization/*.png\n",
      "[image2 @ 0x55e2fbc7b640] Could not find codec parameters for stream 0 (Video: png, none(pc)): unspecified size\n",
      "Consider increasing the value for the 'analyzeduration' (0) and 'probesize' (5000000) options\n",
      "Input #0, image2, from '/home/irmak/Workspace/Holo-Bot/extracted_data/plier_clipping/demonstration_9/visualization/%*.png':\n",
      "  Duration: 00:00:00.04, start: 0.000000, bitrate: N/A\n",
      "  Stream #0:0: Video: png, none(pc), 25 fps, 25 tbr, 25 tbn\n",
      "Output #0, mp4, to '/home/irmak/Workspace/Holo-Bot/extracted_data/plier_clipping/demonstration_9/visualization_0.mp4':\n",
      "Output file #0 does not contain any stream\n"
     ]
    }
   ],
   "source": [
    "# Turn the images to a video and delete the directory\n",
    "video_fps = 10\n",
    "for root in roots:\n",
    "    print('dumping video in root: {}'.format(root))\n",
    "    video_path = os.path.join(root, f'visualization_{view_num}.mp4')\n",
    "    if os.path.exists(video_path):\n",
    "        os.remove(video_path)\n",
    "    viz_dir = os.path.join(root, 'visualization')\n",
    "    os.system('ffmpeg -r {} -i {}/%*.png -vf scale=2000x720,setsar=1:1 {}'.format(\n",
    "        video_fps, # fps\n",
    "        viz_dir,\n",
    "        video_path\n",
    "    ))\n"
   ]
  },
  {
   "cell_type": "code",
   "execution_count": 8,
   "metadata": {},
   "outputs": [],
   "source": [
    "# Remove the img directory\n",
    "\n",
    "for root in roots:\n",
    "    viz_dir = os.path.join(root, 'visualization')\n",
    "    shutil.rmtree(viz_dir)\n"
   ]
  },
  {
   "cell_type": "code",
   "execution_count": null,
   "metadata": {},
   "outputs": [],
   "source": []
  }
 ],
 "metadata": {
  "kernelspec": {
   "display_name": "Python 3 (ipykernel)",
   "language": "python",
   "name": "python3"
  },
  "language_info": {
   "codemirror_mode": {
    "name": "ipython",
    "version": 3
   },
   "file_extension": ".py",
   "mimetype": "text/x-python",
   "name": "python",
   "nbconvert_exporter": "python",
   "pygments_lexer": "ipython3",
   "version": "3.9.13"
  },
  "vscode": {
   "interpreter": {
    "hash": "36852de55b288c46ba617fd48cf310240e4201e2f57004cbdac030fa23152bd3"
   }
  }
 },
 "nbformat": 4,
 "nbformat_minor": 4
}
