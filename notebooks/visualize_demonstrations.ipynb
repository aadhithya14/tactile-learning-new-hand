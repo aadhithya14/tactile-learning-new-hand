{
 "cells": [
  {
   "cell_type": "code",
   "execution_count": 1,
   "metadata": {},
   "outputs": [],
   "source": [
    "import cv2\n",
    "import h5py\n",
    "import matplotlib.pyplot as plt\n",
    "import numpy as np\n",
    "import os\n",
    "import pickle\n",
    "import shutil\n",
    "\n",
    "from tqdm import tqdm"
   ]
  },
  {
   "cell_type": "code",
   "execution_count": 2,
   "metadata": {},
   "outputs": [],
   "source": [
    "from tactile_learning.datasets.preprocess import dump_video_to_images, get_closest_id\n",
    "from tactile_learning.utils.visualization import plot_tactile_sensor"
   ]
  },
  {
   "cell_type": "code",
   "execution_count": 3,
   "metadata": {},
   "outputs": [],
   "source": [
    "import decimal\n",
    "\n",
    "# Get the metadata of images and tactile information\n",
    "def get_desired_indices(root, fps): # frames per second from the video to receive\n",
    "    image_metadata_path = os.path.join(root, 'cam_0_rgb_video.metadata')\n",
    "    tactile_info_path = os.path.join(root, 'touch_sensor_values.h5')\n",
    "\n",
    "    with open(image_metadata_path, 'rb') as f:\n",
    "        image_metadata = pickle.load(f)\n",
    "        image_timestamps_array = np.asarray(image_metadata['timestamps'])\n",
    "        image_timestamps = np.asarray(image_metadata['timestamps']) / 1000.\n",
    "    with h5py.File(tactile_info_path, 'r') as f:\n",
    "        tactile_timestamps = f['timestamps'][()]\n",
    "\n",
    "    image_id, tactile_id = 0, 0\n",
    "    curr_timestamp = tactile_timestamps[0] # These timestamps are in seconds\n",
    "    image_id = get_closest_id(image_id, curr_timestamp, image_timestamps)\n",
    "\n",
    "    tactile_indices, image_indices = [], []\n",
    "    tactile_indices.append(tactile_id)\n",
    "    image_indices.append(image_id)\n",
    "\n",
    "    frame_period = 1. / fps\n",
    "    while(True):\n",
    "        curr_timestamp += frame_period\n",
    "        tactile_id = get_closest_id(tactile_id, curr_timestamp, tactile_timestamps)\n",
    "        image_id = get_closest_id(image_id, curr_timestamp, image_timestamps)\n",
    "\n",
    "        if curr_timestamp > tactile_timestamps[tactile_id] and curr_timestamp > image_timestamps[image_id]:\n",
    "            break\n",
    "\n",
    "        tactile_indices.append(tactile_id)\n",
    "        image_indices.append(image_id)\n",
    "\n",
    "    assert len(tactile_indices) == len(image_indices)\n",
    "    return tactile_indices, image_indices\n"
   ]
  },
  {
   "cell_type": "code",
   "execution_count": 19,
   "metadata": {},
   "outputs": [],
   "source": [
    "\n",
    "def dump_states(root, tactile_indices, image_indices):\n",
    "    # Make directory to dump the visualization\n",
    "    pbar = tqdm(total=len(tactile_indices))\n",
    "\n",
    "    with h5py.File(os.path.join(root, 'touch_sensor_values.h5'), 'r') as f:\n",
    "        all_tactile_values = f['sensor_values'][()]\n",
    "\n",
    "    viz_dir = os.path.join(root, 'visualization')\n",
    "    os.makedirs(viz_dir, exist_ok=True)\n",
    "    \n",
    "    video_path = os.path.join(root, f'cam_0_rgb_video.avi')\n",
    "    vidcap = cv2.VideoCapture(video_path)\n",
    "    success, image = vidcap.read()\n",
    "    frame_count = int(vidcap.get(cv2.CAP_PROP_FRAME_COUNT))\n",
    "    frame_id = 0\n",
    "    for i in range(len(tactile_indices)):\n",
    "        tactile_id, image_id = tactile_indices[i], image_indices[i]\n",
    "        while frame_id != image_id and success:\n",
    "            # Find the frame that is equal to image_id\n",
    "            success, image = vidcap.read()\n",
    "            frame_id += 1\n",
    "        dump_demo_state(\n",
    "            frame_id = i,\n",
    "            viz_dir = viz_dir,\n",
    "            tactile_values = all_tactile_values[tactile_id,:,:,:],\n",
    "            camera_img = image\n",
    "        )\n",
    "\n",
    "        pbar.update(1)\n",
    "\n",
    "    pbar.close()\n",
    "\n",
    "def dump_demo_state(frame_id, viz_dir, tactile_values, camera_img):\n",
    "    # tactile_values: (15,16,3)\n",
    "    fig, axs = plt.subplots(figsize=(20,20), nrows=4, ncols=4)\n",
    "    for row_id in range(4):\n",
    "        for column_id in range(4):\n",
    "            if row_id + column_id > 0: # The top left axis should stay empty\n",
    "                plot_tactile_sensor(\n",
    "                    ax = axs[column_id][row_id],\n",
    "                    sensor_values = tactile_values[row_id*4 + column_id-1],\n",
    "                    title = f'Sensor {row_id*4+column_id-1}'\n",
    "                )\n",
    "    fig.suptitle('Tactile State')\n",
    "    fig.savefig(os.path.join(viz_dir, 'Tactile State.png'))\n",
    "    fig.clf()\n",
    "    plt.close()\n",
    "\n",
    "    tactile_img = cv2.imread(os.path.join(viz_dir, 'Tactile State.png'))\n",
    "    height_scale = camera_img.shape[0] / tactile_img.shape[0]\n",
    "    tactile_img = cv2.resize(\n",
    "        tactile_img,\n",
    "        (int(tactile_img.shape[1] * height_scale),\n",
    "         int(tactile_img.shape[0] * height_scale))\n",
    "    )\n",
    "    total_img = cv2.hconcat([camera_img, tactile_img])\n",
    "\n",
    "    img_name = 'state_{}.png'.format(str(frame_id).zfill(3))\n",
    "    cv2.imwrite(os.path.join(viz_dir, img_name), total_img)\n",
    "\n"
   ]
  },
  {
   "cell_type": "code",
   "execution_count": null,
   "metadata": {},
   "outputs": [
    {
     "name": "stdout",
     "output_type": "stream",
     "text": [
      "tactile_indices: [0, 50, 98, 149, 199, 246, 295, 345, 400, 446, 493, 542, 591, 641, 687, 738, 785, 835, 883, 933, 984, 1032, 1079, 1132, 1181, 1229, 1278, 1328, 1376, 1426, 1474, 1525, 1573, 1622, 1671, 1720, 1771, 1819, 1869, 1917, 1966, 2015, 2066, 2114, 2163, 2213, 2262, 2311, 2360, 2408, 2458, 2506, 2557, 2604, 2654, 2702, 2753, 2801, 2852, 2901, 2950, 2999, 3051, 3099, 3147, 3197, 3247, 3295, 3345, 3394, 3444, 3493, 3541, 3591, 3639, 3690, 3737, 3787, 3834, 3886, 3934, 3984, 4032, 4083, 4132, 4181, 4231, 4281, 4330, 4378, 4429, 4477, 4527, 4574, 4625, 4675, 4724, 4774, 4822, 4872, 4921, 4971, 5020, 5070, 5119, 5168, 5215, 5266, 5329, 5364, 5415, 5463, 5517, 5561, 5611, 5660, 5710, 5758, 5807, 5855, 5905, 5953, 6004, 6054, 6103, 6153, 6202, 6251, 6299, 6351, 6397, 6448, 6496, 6547, 6595, 6645, 6694, 6743, 6793, 6841, 6891, 6940, 6988, 7037, 7086, 7136, 7186, 7234, 7283, 7333, 7382, 7438, 7479, 7530, 7579, 7628, 7676, 7725, 7774, 7823, 7873, 7922, 7971, 8021, 8068, 8120, 8172, 8219, 8269, 8317, 8366, 8414, 8464, 8513, 8563, 8610, 8660, 8709, 8758, 8807, 8858, 8905, 8955, 9004, 9053, 9102, 9151, 9200, 9248, 9297, 9346, 9396, 9445, 9494, 9543, 9593, 9641, 9691, 9740, 9789, 9837, 9887, 9936, 9986, 10033, 10085, 10132, 10182, 10230, 10280, 10329, 10380, 10429, 10477, 10527, 10575, 10625, 10673, 10724, 10772, 10822, 10870, 10919, 10968, 11019, 11066, 11115, 11164, 11212, 11263, 11311, 11362, 11409, 11459, 11506, 11557, 11604, 11655, 11703, 11754, 11802, 11852, 11902, 11950, 11999, 12049, 12097, 12147, 12195, 12244, 12294, 12354, 12393, 12441, 12492, 12540, 12589, 12639, 12688, 12737, 12787, 12836, 12885, 12933, 12984, 13032, 13081, 13131, 13180, 13229, 13279, 13328, 13376, 13427, 13476, 13525, 13574, 13624, 13672, 13722, 13771, 13822, 13869, 13919, 13968, 14017, 14067, 14115, 14163, 14213, 14263, 14312, 14362, 14409, 14468, 14509, 14558, 14607, 14658, 14705, 14756, 14805, 14854, 14904, 14952, 15003, 15051, 15102, 15150, 15198, 15248, 15299, 15346, 15396, 15444, 15496, 15544, 15594, 15643, 15693, 15739, 15791, 15841, 15889, 15937, 15986, 16037, 16085, 16136, 16184, 16233, 16282, 16332, 16381, 16430, 16479, 16528, 16590, 16627, 16684, 16725, 16776, 16824, 16874, 16921, 16972, 17021, 17070, 17120, 17168, 17218, 17267, 17317, 17366, 17415, 17464, 17513, 17560, 17610, 17660, 17706, 17758, 17805, 17856, 17904, 17954, 18003, 18052, 18101, 18152, 18199, 18250, 18299, 18348, 18395, 18446, 18495, 18545, 18593, 18643, 18692, 18741, 18790, 18840, 18889, 18939, 18987, 19036, 19085, 19134, 19183, 19233, 19282, 19332, 19395, 19436, 19483, 19527, 19578, 19634, 19678, 19736, 19783, 19824, 19874, 19923, 19971, 20021, 20069, 20120, 20169, 20218, 20269, 20316, 20365, 20415, 20463, 20513, 20561, 20611, 20660, 20711, 20759, 20808, 20855, 20906, 20955, 21004, 21054, 21103, 21152, 21202, 21250, 21300, 21349, 21398, 21447, 21502, 21547, 21594, 21644, 21692, 21743, 21790, 21840, 21890, 21938, 21988], image_indices: [70, 85, 100, 115, 130, 145, 160, 175, 190, 205, 220, 234, 249, 264, 278, 293, 308, 323, 338, 353, 368, 383, 398, 413, 428, 443, 458, 472, 487, 502, 517, 532, 547, 562, 576, 591, 606, 621, 636, 651, 665, 680, 695, 710, 724, 739, 754, 769, 784, 799, 814, 829, 844, 859, 873, 888, 903, 917, 932, 947, 962, 977, 992, 1007, 1022, 1037, 1051, 1066, 1081, 1096, 1111, 1126, 1140, 1155, 1169, 1184, 1199, 1214, 1229, 1244, 1259, 1274, 1289, 1304, 1318, 1333, 1348, 1363, 1378, 1393, 1408, 1423, 1437, 1452, 1467, 1482, 1497, 1512, 1527, 1541, 1556, 1571, 1586, 1601, 1616, 1631, 1646, 1661, 1675, 1690, 1704, 1719, 1734, 1749, 1764, 1779, 1794, 1809, 1824, 1839, 1854, 1869, 1884, 1899, 1914, 1929, 1943, 1958, 1973, 1988, 2003, 2018, 2033, 2048, 2063, 2078, 2093, 2108, 2123, 2137, 2152, 2166, 2181, 2196, 2211, 2226, 2241, 2256, 2271, 2285, 2300, 2315, 2330, 2345, 2359, 2374, 2389, 2404, 2418, 2433, 2448, 2463, 2478, 2493, 2508, 2523, 2538, 2553, 2568, 2583, 2597, 2612, 2626, 2641, 2656, 2671, 2686, 2701, 2716, 2730, 2745, 2760, 2775, 2790, 2804, 2819, 2833, 2848, 2862, 2877, 2892, 2907, 2922, 2937, 2952, 2967, 2982, 2996, 3011, 3025, 3040, 3055, 3070, 3085, 3100, 3115, 3129, 3144, 3159, 3174, 3189, 3204, 3219, 3234, 3249, 3264, 3279, 3294, 3308, 3323, 3337, 3351, 3366, 3381, 3396, 3411, 3426, 3440, 3455, 3470, 3485, 3500, 3515, 3529, 3544, 3559, 3574, 3589, 3603, 3618, 3633, 3648, 3663, 3678, 3693, 3708, 3723, 3738, 3753, 3768, 3783, 3798, 3813, 3828, 3842, 3857, 3872, 3886, 3901, 3916, 3931, 3945, 3960, 3974, 3989, 4004, 4019, 4034, 4049, 4064, 4079, 4094, 4109, 4123, 4137, 4151, 4166, 4181, 4196, 4210, 4225, 4240, 4254, 4268, 4283, 4298, 4313, 4326, 4341, 4356, 4371, 4386, 4401, 4416, 4431, 4446, 4461, 4476, 4491, 4506, 4521, 4536, 4550, 4565, 4580, 4594, 4609, 4624, 4639, 4654, 4669, 4684, 4699, 4714, 4729, 4744, 4759, 4773, 4788, 4802, 4817, 4832, 4847, 4862, 4877, 4891, 4906, 4921, 4936, 4951, 4966, 4981, 4996, 5011, 5026, 5041, 5056, 5071, 5086, 5101, 5116, 5131, 5146, 5161, 5176, 5191, 5206, 5221, 5236, 5250, 5265, 5280, 5294, 5308, 5323, 5338, 5353, 5368, 5383, 5398, 5412, 5427, 5442, 5457, 5472, 5487, 5502, 5516, 5531, 5546, 5561, 5576, 5590, 5605, 5620, 5635, 5650, 5665, 5680, 5694, 5709, 5724, 5739, 5753, 5769, 5784, 5799, 5814, 5829, 5844, 5858, 5873, 5888, 5903, 5917, 5932, 5947, 5962, 5977, 5991, 6006, 6021, 6036, 6051, 6066, 6081, 6096, 6111, 6126, 6141, 6156, 6171, 6186, 6201, 6216, 6231, 6246, 6261, 6276, 6291, 6305, 6320, 6335, 6350, 6365, 6380, 6395, 6409, 6423, 6438, 6453, 6468, 6483, 6498, 6513, 6528, 6543, 6558, 6573, 6588, 6603, 6618, 6633, 6647, 6662, 6677, 6692, 6707]\n"
     ]
    },
    {
     "name": "stderr",
     "output_type": "stream",
     "text": [
      " 47%|████████▉          | 211/448 [03:44<04:08,  1.05s/it]"
     ]
    }
   ],
   "source": [
    "\n",
    "roots = [\n",
    "    # '/home/irmak/Workspace/Holo-Bot/extracted_data/tactile_play_data/demonstration_21',\n",
    "    '/home/irmak/Workspace/Holo-Bot/extracted_data/tactile_play_data/demonstration_30',\n",
    "]\n",
    "\n",
    "retrieval_fps = 2\n",
    "for root in roots:\n",
    "    # print('root: {}'.format(root))\n",
    "    tactile_indices, image_indices = get_desired_indices(root=root, fps=retrieval_fps)\n",
    "    print('tactile_indices: {}, image_indices: {}'.format(tactile_indices, image_indices))\n",
    "    dump_states(root, tactile_indices, image_indices)\n"
   ]
  },
  {
   "cell_type": "code",
   "execution_count": null,
   "metadata": {},
   "outputs": [],
   "source": [
    "# Turn the images to a video and delete the directory\n",
    "video_fps = 10\n",
    "for root in roots:\n",
    "    print('dumping video in root: {}'.format(root))\n",
    "    video_path = os.path.join(root, 'visualization.mp4')\n",
    "    if os.path.exists(video_path):\n",
    "        os.remove(video_path)\n",
    "    viz_dir = os.path.join(root, 'visualization')\n",
    "    os.system('ffmpeg -r {} -i {}/%*.png -vf scale=2000x720,setsar=1:1 {}'.format(\n",
    "        video_fps, # fps\n",
    "        viz_dir,\n",
    "        video_path\n",
    "    ))\n"
   ]
  },
  {
   "cell_type": "code",
   "execution_count": 37,
   "metadata": {},
   "outputs": [],
   "source": [
    "# Remove the img directory\n",
    "\n",
    "for root in roots:\n",
    "    viz_dir = os.path.join(root, 'visualization')\n",
    "    shutil.rmtree(viz_dir)\n"
   ]
  },
  {
   "cell_type": "code",
   "execution_count": null,
   "metadata": {},
   "outputs": [],
   "source": []
  }
 ],
 "metadata": {
  "kernelspec": {
   "display_name": "Python 3 (ipykernel)",
   "language": "python",
   "name": "python3"
  },
  "language_info": {
   "codemirror_mode": {
    "name": "ipython",
    "version": 3
   },
   "file_extension": ".py",
   "mimetype": "text/x-python",
   "name": "python",
   "nbconvert_exporter": "python",
   "pygments_lexer": "ipython3",
   "version": "3.9.13"
  },
  "vscode": {
   "interpreter": {
    "hash": "36852de55b288c46ba617fd48cf310240e4201e2f57004cbdac030fa23152bd3"
   }
  }
 },
 "nbformat": 4,
 "nbformat_minor": 4
}
