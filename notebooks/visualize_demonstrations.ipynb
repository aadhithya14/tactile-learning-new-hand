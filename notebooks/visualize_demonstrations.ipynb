{
 "cells": [
  {
   "cell_type": "code",
   "execution_count": 1,
   "metadata": {},
   "outputs": [],
   "source": [
    "import cv2\n",
    "import h5py\n",
    "import matplotlib.pyplot as plt\n",
    "import numpy as np\n",
    "import os\n",
    "import pickle\n",
    "import shutil\n",
    "\n",
    "from tqdm import tqdm"
   ]
  },
  {
   "cell_type": "code",
   "execution_count": 2,
   "metadata": {},
   "outputs": [],
   "source": [
    "from tactile_learning.datasets import dump_video_to_images, get_closest_id\n",
    "from tactile_learning.utils.visualization import plot_tactile_sensor"
   ]
  },
  {
   "cell_type": "code",
   "execution_count": 3,
   "metadata": {},
   "outputs": [],
   "source": [
    "import decimal\n",
    "\n",
    "# Get the metadata of images and tactile information\n",
    "def get_desired_indices(root, fps, view_num=0): # frames per second from the video to receive\n",
    "    image_metadata_path = os.path.join(root, f'cam_{view_num}_rgb_video.metadata')\n",
    "    tactile_info_path = os.path.join(root, 'touch_sensor_values.h5')\n",
    "\n",
    "    with open(image_metadata_path, 'rb') as f:\n",
    "        image_metadata = pickle.load(f)\n",
    "        image_timestamps_array = np.asarray(image_metadata['timestamps'])\n",
    "        image_timestamps = np.asarray(image_metadata['timestamps']) / 1000.\n",
    "    with h5py.File(tactile_info_path, 'r') as f:\n",
    "        tactile_timestamps = f['timestamps'][()]\n",
    "\n",
    "    image_id, tactile_id = 0, 0\n",
    "    curr_timestamp = tactile_timestamps[0] # These timestamps are in seconds\n",
    "    image_id = get_closest_id(image_id, curr_timestamp, image_timestamps)\n",
    "\n",
    "    tactile_indices, image_indices = [], []\n",
    "    tactile_indices.append(tactile_id)\n",
    "    image_indices.append(image_id)\n",
    "\n",
    "    frame_period = 1. / fps\n",
    "    while(True):\n",
    "        curr_timestamp += frame_period\n",
    "        tactile_id = get_closest_id(tactile_id, curr_timestamp, tactile_timestamps)\n",
    "        image_id = get_closest_id(image_id, curr_timestamp, image_timestamps)\n",
    "\n",
    "        if curr_timestamp > tactile_timestamps[tactile_id] and curr_timestamp > image_timestamps[image_id]:\n",
    "            break\n",
    "\n",
    "        tactile_indices.append(tactile_id)\n",
    "        image_indices.append(image_id)\n",
    "\n",
    "    assert len(tactile_indices) == len(image_indices)\n",
    "    return tactile_indices, image_indices\n"
   ]
  },
  {
   "cell_type": "code",
   "execution_count": 4,
   "metadata": {},
   "outputs": [],
   "source": [
    "\n",
    "def dump_states(root, tactile_indices, image_indices, view_num=0):\n",
    "    # Make directory to dump the visualization\n",
    "    pbar = tqdm(total=len(tactile_indices))\n",
    "\n",
    "    with h5py.File(os.path.join(root, 'touch_sensor_values.h5'), 'r') as f:\n",
    "        all_tactile_values = f['sensor_values'][()]\n",
    "\n",
    "    viz_dir = os.path.join(root, 'visualization')\n",
    "    os.makedirs(viz_dir, exist_ok=True)\n",
    "    \n",
    "    video_path = os.path.join(root, f'cam_{view_num}_rgb_video.avi')\n",
    "    vidcap = cv2.VideoCapture(video_path)\n",
    "    success, image = vidcap.read()\n",
    "    frame_count = int(vidcap.get(cv2.CAP_PROP_FRAME_COUNT))\n",
    "    frame_id = 0\n",
    "    for i in range(len(tactile_indices)):\n",
    "        tactile_id, image_id = tactile_indices[i], image_indices[i]\n",
    "        while frame_id != image_id and success:\n",
    "            # Find the frame that is equal to image_id\n",
    "            success, image = vidcap.read()\n",
    "            frame_id += 1\n",
    "        dump_demo_state(\n",
    "            frame_id = i,\n",
    "            viz_dir = viz_dir,\n",
    "            tactile_values = all_tactile_values[tactile_id,:,:,:],\n",
    "            camera_img = image\n",
    "        )\n",
    "\n",
    "        pbar.update(1)\n",
    "\n",
    "    pbar.close()\n",
    "\n",
    "def dump_demo_state(frame_id, viz_dir, tactile_values, camera_img):\n",
    "    # tactile_values: (15,16,3)\n",
    "    fig, axs = plt.subplots(figsize=(20,20), nrows=4, ncols=4)\n",
    "    for row_id in range(4):\n",
    "        for column_id in range(4):\n",
    "            if row_id + column_id > 0: # The top left axis should stay empty\n",
    "                plot_tactile_sensor(\n",
    "                    ax = axs[column_id][row_id],\n",
    "                    sensor_values = tactile_values[row_id*4 + column_id-1],\n",
    "                    title = f'Sensor {row_id*4+column_id-1}'\n",
    "                )\n",
    "    fig.suptitle('Tactile State')\n",
    "    fig.savefig(os.path.join(viz_dir, 'Tactile State.png'))\n",
    "    fig.clf()\n",
    "    plt.close()\n",
    "\n",
    "    tactile_img = cv2.imread(os.path.join(viz_dir, 'Tactile State.png'))\n",
    "    height_scale = camera_img.shape[0] / tactile_img.shape[0]\n",
    "    tactile_img = cv2.resize(\n",
    "        tactile_img,\n",
    "        (int(tactile_img.shape[1] * height_scale),\n",
    "         int(tactile_img.shape[0] * height_scale))\n",
    "    )\n",
    "    total_img = cv2.hconcat([camera_img, tactile_img])\n",
    "\n",
    "    img_name = 'state_{}.png'.format(str(frame_id).zfill(3))\n",
    "    cv2.imwrite(os.path.join(viz_dir, img_name), total_img)\n",
    "\n"
   ]
  },
  {
   "cell_type": "code",
   "execution_count": 5,
   "metadata": {},
   "outputs": [
    {
     "name": "stdout",
     "output_type": "stream",
     "text": [
      "tactile_indices: [0, 99, 197, 295, 392, 490, 588, 686, 785, 884, 982, 1079, 1177, 1275, 1372, 1470, 1568, 1667, 1765, 1863, 1961, 2060, 2157, 2255, 2354, 2453, 2550, 2649, 2745, 2843, 2941, 3040, 3140, 3238, 3333, 3431, 3530, 3628, 3726, 3825, 3922, 4020, 4118, 4216, 4314, 4410, 4509, 4608, 4706, 4804, 4901, 5000, 5098, 5195, 5294], image_indices: [70, 100, 128, 157, 186, 215, 243, 271, 299, 328, 357, 385, 414, 443, 472, 499, 528, 557, 586, 616, 646, 676, 705, 735, 764, 794, 823, 853, 883, 912, 938, 968, 997, 1026, 1056, 1086, 1115, 1145, 1175, 1204, 1233, 1262, 1291, 1319, 1349, 1379, 1408, 1437, 1467, 1495, 1524, 1554, 1584, 1613, 1642]\n"
     ]
    },
    {
     "name": "stderr",
     "output_type": "stream",
     "text": [
      "100%|██████████| 55/55 [01:06<00:00,  1.20s/it]\n"
     ]
    },
    {
     "name": "stdout",
     "output_type": "stream",
     "text": [
      "tactile_indices: [0, 99, 198, 296, 394, 493, 591, 689, 787, 886, 983], image_indices: [70, 99, 129, 158, 187, 216, 245, 274, 304, 331, 360]\n"
     ]
    },
    {
     "name": "stderr",
     "output_type": "stream",
     "text": [
      "100%|██████████| 11/11 [00:13<00:00,  1.19s/it]\n"
     ]
    },
    {
     "name": "stdout",
     "output_type": "stream",
     "text": [
      "tactile_indices: [0, 100, 198, 296, 394, 492, 589, 686, 785, 883, 982, 1080, 1178, 1276, 1375, 1474, 1572, 1670, 1769, 1867, 1963, 2062, 2160, 2258, 2356, 2454, 2553, 2650, 2749, 2846, 2944, 3042, 3140, 3238, 3335, 3433, 3531, 3628, 3726], image_indices: [71, 100, 130, 159, 187, 217, 246, 276, 305, 334, 364, 393, 423, 452, 481, 511, 540, 570, 598, 628, 658, 688, 718, 748, 777, 807, 837, 866, 896, 925, 953, 983, 1011, 1040, 1069, 1099, 1128, 1158, 1186]\n"
     ]
    },
    {
     "name": "stderr",
     "output_type": "stream",
     "text": [
      "100%|██████████| 39/39 [00:46<00:00,  1.19s/it]\n"
     ]
    },
    {
     "name": "stdout",
     "output_type": "stream",
     "text": [
      "tactile_indices: [0, 98, 198, 295, 393, 491, 588, 686, 785, 883, 980, 1079, 1176, 1280, 1372, 1471, 1569, 1667, 1765, 1862, 1961, 2059, 2158, 2255, 2353, 2451, 2552], image_indices: [69, 98, 126, 155, 184, 214, 244, 273, 303, 332, 360, 390, 419, 449, 479, 509, 538, 567, 595, 625, 655, 683, 713, 742, 771, 800, 830]\n"
     ]
    },
    {
     "name": "stderr",
     "output_type": "stream",
     "text": [
      "100%|██████████| 27/27 [00:31<00:00,  1.18s/it]\n"
     ]
    },
    {
     "name": "stdout",
     "output_type": "stream",
     "text": [
      "tactile_indices: [0, 99, 200, 298, 396, 494, 593, 691, 795, 890, 986, 1089, 1181, 1279, 1377, 1476, 1575, 1674, 1772, 1870, 1968, 2065, 2162, 2260, 2359, 2457, 2554, 2652, 2750, 2849, 2946, 3045, 3143, 3241, 3338, 3436, 3534, 3632, 3730, 3828, 3925, 4030, 4122, 4219, 4318, 4416, 4513, 4611, 4709, 4807, 4904, 5002, 5100, 5198, 5296, 5393, 5490, 5589, 5687, 5784, 5881, 5978, 6076, 6174], image_indices: [68, 98, 127, 156, 185, 213, 242, 270, 299, 328, 357, 385, 415, 444, 474, 504, 533, 562, 592, 622, 652, 681, 711, 741, 771, 800, 830, 859, 889, 919, 948, 978, 1007, 1036, 1066, 1096, 1125, 1154, 1184, 1212, 1242, 1272, 1300, 1330, 1356, 1385, 1415, 1444, 1474, 1504, 1533, 1561, 1590, 1619, 1648, 1676, 1705, 1734, 1763, 1791, 1820, 1850, 1878, 1908]\n"
     ]
    },
    {
     "name": "stderr",
     "output_type": "stream",
     "text": [
      "100%|██████████| 64/64 [01:15<00:00,  1.18s/it]\n"
     ]
    },
    {
     "name": "stdout",
     "output_type": "stream",
     "text": [
      "tactile_indices: [0, 99, 196, 295, 393, 492, 588, 687, 785, 884, 980, 1079, 1177, 1273, 1370, 1467, 1565, 1664, 1762, 1861, 1959, 2057, 2156, 2254, 2352, 2451], image_indices: [68, 98, 127, 157, 186, 216, 245, 274, 303, 333, 362, 391, 419, 448, 477, 506, 535, 564, 594, 624, 653, 682, 711, 741, 770, 799]\n"
     ]
    },
    {
     "name": "stderr",
     "output_type": "stream",
     "text": [
      "100%|██████████| 26/26 [00:30<00:00,  1.17s/it]\n"
     ]
    },
    {
     "name": "stdout",
     "output_type": "stream",
     "text": [
      "tactile_indices: [0, 99, 197, 296, 392, 491, 588, 687, 784, 883, 981, 1079, 1177, 1274, 1373, 1472, 1569, 1668, 1766, 1864, 1962, 2060, 2157, 2255, 2352, 2451, 2548, 2647, 2744, 2842, 2938, 3038, 3134, 3232, 3329, 3428, 3526, 3624, 3722, 3820, 3918, 4017, 4113, 4211, 4308, 4412, 4504, 4603, 4701, 4798, 4896, 4994, 5093, 5190, 5289, 5386, 5483, 5581, 5680, 5778, 5875, 5975, 6071, 6170], image_indices: [69, 98, 127, 154, 182, 212, 241, 271, 299, 328, 358, 387, 416, 446, 475, 504, 533, 563, 592, 620, 649, 679, 708, 737, 767, 797, 826, 856, 885, 914, 944, 974, 1004, 1033, 1062, 1091, 1120, 1149, 1177, 1207, 1236, 1265, 1294, 1322, 1352, 1381, 1410, 1439, 1469, 1497, 1527, 1556, 1585, 1615, 1644, 1674, 1704, 1734, 1763, 1792, 1822, 1851, 1881, 1911]\n"
     ]
    },
    {
     "name": "stderr",
     "output_type": "stream",
     "text": [
      "100%|██████████| 64/64 [01:19<00:00,  1.24s/it]\n"
     ]
    },
    {
     "name": "stdout",
     "output_type": "stream",
     "text": [
      "tactile_indices: [0, 100, 198, 297, 395, 494, 593, 690, 790, 888, 987, 1085, 1183, 1282, 1379, 1477, 1575, 1674, 1773, 1872, 1969, 2068, 2165, 2263, 2362, 2460, 2556, 2654, 2751, 2849, 2947, 3046, 3144, 3240, 3342, 3436, 3536, 3633, 3730, 3828, 3926, 4023, 4121, 4219, 4318, 4415, 4513, 4611, 4709, 4806, 4905, 5003, 5101, 5198, 5304, 5396, 5494, 5602, 5690, 5787, 5887, 5984, 6084, 6181, 6279, 6378, 6474, 6573, 6671, 6769, 6867, 6966, 7063, 7161, 7259, 7357, 7455, 7553, 7652, 7748, 7846, 7944, 8041, 8139, 8238, 8336, 8432, 8531, 8630, 8728, 8825, 8924, 9022, 9120, 9218, 9317, 9414, 9513, 9611], image_indices: [69, 98, 126, 156, 185, 214, 243, 273, 303, 333, 363, 393, 421, 451, 481, 511, 541, 570, 599, 629, 659, 688, 717, 747, 776, 806, 836, 865, 894, 924, 954, 984, 1013, 1042, 1071, 1101, 1130, 1160, 1190, 1220, 1249, 1279, 1309, 1337, 1367, 1396, 1425, 1455, 1484, 1514, 1543, 1571, 1601, 1631, 1661, 1691, 1721, 1750, 1780, 1810, 1839, 1869, 1899, 1929, 1958, 1988, 2018, 2048, 2077, 2106, 2135, 2164, 2194, 2223, 2253, 2283, 2313, 2343, 2372, 2402, 2432, 2462, 2490, 2518, 2548, 2578, 2607, 2637, 2666, 2695, 2724, 2753, 2783, 2813, 2843, 2873, 2901, 2931, 2959]\n"
     ]
    },
    {
     "name": "stderr",
     "output_type": "stream",
     "text": [
      "100%|██████████| 99/99 [02:04<00:00,  1.26s/it]\n"
     ]
    },
    {
     "name": "stdout",
     "output_type": "stream",
     "text": [
      "tactile_indices: [0, 98, 196, 294, 392, 491, 589, 688, 786, 884, 982, 1081, 1179, 1278, 1375, 1474, 1571, 1668, 1766, 1864, 1961, 2059, 2158, 2257, 2354, 2452, 2554, 2648, 2745, 2842, 2940, 3038, 3136, 3234, 3333, 3432, 3530, 3627, 3725, 3824, 3921, 4020, 4119, 4216, 4315, 4413, 4510, 4606, 4705, 4803, 4902, 5000, 5098, 5196, 5294, 5392, 5490, 5589, 5687, 5784, 5882, 5981], image_indices: [68, 98, 127, 156, 182, 211, 239, 268, 297, 327, 356, 386, 415, 445, 475, 505, 532, 561, 591, 621, 650, 680, 709, 738, 768, 797, 826, 855, 885, 915, 945, 973, 1003, 1032, 1062, 1091, 1120, 1149, 1179, 1208, 1237, 1264, 1294, 1323, 1351, 1381, 1411, 1440, 1469, 1498, 1528, 1558, 1587, 1615, 1645, 1673, 1703, 1732, 1762, 1792, 1822, 1852]\n"
     ]
    },
    {
     "name": "stderr",
     "output_type": "stream",
     "text": [
      "100%|██████████| 62/62 [01:58<00:00,  1.91s/it]\n"
     ]
    }
   ],
   "source": [
    "import glob\n",
    "# roots = [\n",
    "#     '/home/irmak/Workspace/Holo-Bot/extracted_data/bowl_picking/eval/demonstration_7',\n",
    "#     '/home/irmak/Workspace/Holo-Bot/extracted_data/bowl_picking/eval/demonstration_9',\n",
    "#     '/home/irmak/Workspace/Holo-Bot/extracted_data/bowl_picking/eval/demonstration_15',\n",
    "# ]\n",
    "data_path = '/home/irmak/Workspace/Holo-Bot/extracted_data/mouse_scrolling'\n",
    "# data_path = '/data/tactile_learning/deployment_data/data/bowl_picking/demonstrations/image_generalization'\n",
    "roots = glob.glob(f'{data_path}/demonstration_*')\n",
    "# roots = [f'{data_path}/demonstration_6']\n",
    "\n",
    "retrieval_fps = 1\n",
    "view_num = 0\n",
    "for root in roots:\n",
    "    # print('root: {}'.format(root))\n",
    "    tactile_indices, image_indices = get_desired_indices(root=root, fps=retrieval_fps, view_num=view_num)\n",
    "    print('tactile_indices: {}, image_indices: {}'.format(tactile_indices, image_indices))\n",
    "    dump_states(root, tactile_indices, image_indices, view_num=view_num)\n"
   ]
  },
  {
   "cell_type": "code",
   "execution_count": 6,
   "metadata": {},
   "outputs": [
    {
     "name": "stdout",
     "output_type": "stream",
     "text": [
      "['/home/irmak/Workspace/Holo-Bot/extracted_data/mouse_scrolling/demonstration_8', '/home/irmak/Workspace/Holo-Bot/extracted_data/mouse_scrolling/demonstration_3', '/home/irmak/Workspace/Holo-Bot/extracted_data/mouse_scrolling/demonstration_1', '/home/irmak/Workspace/Holo-Bot/extracted_data/mouse_scrolling/demonstration_2', '/home/irmak/Workspace/Holo-Bot/extracted_data/mouse_scrolling/demonstration_9', '/home/irmak/Workspace/Holo-Bot/extracted_data/mouse_scrolling/demonstration_6', '/home/irmak/Workspace/Holo-Bot/extracted_data/mouse_scrolling/demonstration_7', '/home/irmak/Workspace/Holo-Bot/extracted_data/mouse_scrolling/demonstration_5', '/home/irmak/Workspace/Holo-Bot/extracted_data/mouse_scrolling/demonstration_4']\n"
     ]
    }
   ],
   "source": [
    "print(roots)"
   ]
  },
  {
   "cell_type": "code",
   "execution_count": 7,
   "metadata": {},
   "outputs": [
    {
     "name": "stdout",
     "output_type": "stream",
     "text": [
      "dumping video in root: /home/irmak/Workspace/Holo-Bot/extracted_data/mouse_scrolling/demonstration_8\n"
     ]
    },
    {
     "name": "stderr",
     "output_type": "stream",
     "text": [
      "ffmpeg version 5.1.2 Copyright (c) 2000-2022 the FFmpeg developers\n",
      "  built with gcc 10.4.0 (conda-forge gcc 10.4.0-18)\n",
      "  configuration: --prefix=/home/irmak/miniconda3/envs/tactile_learning --cc=/home/conda/feedstock_root/build_artifacts/ffmpeg_1666357487580/_build_env/bin/x86_64-conda-linux-gnu-cc --cxx=/home/conda/feedstock_root/build_artifacts/ffmpeg_1666357487580/_build_env/bin/x86_64-conda-linux-gnu-c++ --nm=/home/conda/feedstock_root/build_artifacts/ffmpeg_1666357487580/_build_env/bin/x86_64-conda-linux-gnu-nm --ar=/home/conda/feedstock_root/build_artifacts/ffmpeg_1666357487580/_build_env/bin/x86_64-conda-linux-gnu-ar --disable-doc --disable-openssl --enable-demuxer=dash --enable-hardcoded-tables --enable-libfreetype --enable-libfontconfig --enable-libopenh264 --enable-gnutls --enable-libmp3lame --enable-libvpx --enable-pthreads --enable-vaapi --enable-gpl --enable-libx264 --enable-libx265 --enable-libaom --enable-libsvtav1 --enable-libxml2 --enable-pic --enable-shared --disable-static --enable-version3 --enable-zlib --pkg-config=/home/conda/feedstock_root/build_artifacts/ffmpeg_1666357487580/_build_env/bin/pkg-config\n",
      "  libavutil      57. 28.100 / 57. 28.100\n",
      "  libavcodec     59. 37.100 / 59. 37.100\n",
      "  libavformat    59. 27.100 / 59. 27.100\n",
      "  libavdevice    59.  7.100 / 59.  7.100\n",
      "  libavfilter     8. 44.100 /  8. 44.100\n",
      "  libswscale      6.  7.100 /  6.  7.100\n",
      "  libswresample   4.  7.100 /  4.  7.100\n",
      "  libpostproc    56.  6.100 / 56.  6.100\n",
      "[image2 @ 0x5627e6055640] Pattern type 'glob_sequence' is deprecated: use pattern_type 'glob' instead\n",
      "Input #0, image2, from '/home/irmak/Workspace/Holo-Bot/extracted_data/mouse_scrolling/demonstration_8/visualization/%*.png':\n",
      "  Duration: 00:00:02.24, start: 0.000000, bitrate: N/A\n",
      "  Stream #0:0: Video: png, rgba(pc), 2000x2000 [SAR 3937:3937 DAR 1:1], 25 fps, 25 tbr, 25 tbn\n",
      "Stream mapping:\n",
      "  Stream #0:0 -> #0:0 (png (native) -> h264 (libx264))\n",
      "Press [q] to stop, [?] for help\n",
      "[libx264 @ 0x5627e605a9c0] using SAR=1/1\n",
      "[libx264 @ 0x5627e605a9c0] using cpu capabilities: MMX2 SSE2Fast SSSE3 SSE4.2 AVX FMA3 BMI2 AVX2\n",
      "[libx264 @ 0x5627e605a9c0] profile High 4:4:4 Predictive, level 4.0, 4:4:4, 8-bit\n",
      "[libx264 @ 0x5627e605a9c0] 264 - core 164 r3095 baee400 - H.264/MPEG-4 AVC codec - Copyleft 2003-2022 - http://www.videolan.org/x264.html - options: cabac=1 ref=3 deblock=1:0:0 analyse=0x3:0x113 me=hex subme=7 psy=1 psy_rd=1.00:0.00 mixed_ref=1 me_range=16 chroma_me=1 trellis=1 8x8dct=1 cqm=0 deadzone=21,11 fast_pskip=1 chroma_qp_offset=4 threads=22 lookahead_threads=3 sliced_threads=0 nr=0 decimate=1 interlaced=0 bluray_compat=0 constrained_intra=0 bframes=3 b_pyramid=2 b_adapt=1 b_bias=0 direct=1 weightb=1 open_gop=0 weightp=2 keyint=250 keyint_min=10 scenecut=40 intra_refresh=0 rc_lookahead=40 rc=crf mbtree=1 crf=23.0 qcomp=0.60 qpmin=0 qpmax=69 qpstep=4 ip_ratio=1.40 aq=1:1.00\n",
      "Output #0, mp4, to '/home/irmak/Workspace/Holo-Bot/extracted_data/mouse_scrolling/demonstration_8/visualization_0.mp4':\n",
      "  Metadata:\n",
      "    encoder         : Lavf59.27.100\n",
      "  Stream #0:0: Video: h264 (avc1 / 0x31637661), yuv444p(tv, progressive), 2000x720 [SAR 1:1 DAR 25:9], q=2-31, 10 fps, 10240 tbn\n",
      "    Metadata:\n",
      "      encoder         : Lavc59.37.100 libx264\n",
      "    Side data:\n",
      "      cpb: bitrate max/min/avg: 0/0/0 buffer size: 0 vbv_delay: N/A\n",
      "frame=   56 fps= 48 q=-1.0 Lsize=    1743kB time=00:00:05.30 bitrate=2694.5kbits/s speed=4.54x    \n",
      "video:1742kB audio:0kB subtitle:0kB other streams:0kB global headers:0kB muxing overhead: 0.087296%\n",
      "[libx264 @ 0x5627e605a9c0] frame I:1     Avg QP:23.17  size: 51205\n",
      "[libx264 @ 0x5627e605a9c0] frame P:15    Avg QP:19.97  size: 50794\n",
      "[libx264 @ 0x5627e605a9c0] frame B:40    Avg QP:21.99  size: 24244\n",
      "[libx264 @ 0x5627e605a9c0] consecutive B-frames:  3.6%  3.6%  0.0% 92.9%\n",
      "[libx264 @ 0x5627e605a9c0] mb I  I16..4: 20.4% 51.3% 28.3%\n",
      "[libx264 @ 0x5627e605a9c0] mb P  I16..4:  1.3% 24.6%  1.0%  P16..4: 20.7% 12.4%  7.1%  0.0%  0.0%    skip:32.8%\n",
      "[libx264 @ 0x5627e605a9c0] mb B  I16..4:  0.3% 11.1%  0.1%  B16..8: 23.7%  6.0%  1.7%  direct: 5.5%  skip:51.6%  L0:47.3% L1:43.0% BI: 9.7%\n",
      "[libx264 @ 0x5627e605a9c0] 8x8 transform intra:89.6% inter:85.0%\n",
      "[libx264 @ 0x5627e605a9c0] coded y,u,v intra: 77.8% 41.5% 39.3% inter: 24.2% 13.8% 11.8%\n",
      "[libx264 @ 0x5627e605a9c0] i16 v,h,dc,p: 39% 36% 14% 11%\n",
      "[libx264 @ 0x5627e605a9c0] i8 v,h,dc,ddl,ddr,vr,hd,vl,hu: 11% 18% 57%  3%  1%  1%  2%  2%  4%\n",
      "[libx264 @ 0x5627e605a9c0] i4 v,h,dc,ddl,ddr,vr,hd,vl,hu: 37% 34% 12%  2%  3%  2%  4%  2%  4%\n",
      "[libx264 @ 0x5627e605a9c0] Weighted P-Frames: Y:0.0% UV:0.0%\n",
      "[libx264 @ 0x5627e605a9c0] ref P L0: 34.9%  9.1% 35.1% 20.9%\n",
      "[libx264 @ 0x5627e605a9c0] ref B L0: 61.5% 30.6%  7.9%\n",
      "[libx264 @ 0x5627e605a9c0] ref B L1: 86.1% 13.9%\n",
      "[libx264 @ 0x5627e605a9c0] kb/s:2546.99\n",
      "ffmpeg version 5.1.2 Copyright (c) 2000-2022 the FFmpeg developers\n",
      "  built with gcc 10.4.0 (conda-forge gcc 10.4.0-18)\n",
      "  configuration: --prefix=/home/irmak/miniconda3/envs/tactile_learning --cc=/home/conda/feedstock_root/build_artifacts/ffmpeg_1666357487580/_build_env/bin/x86_64-conda-linux-gnu-cc --cxx=/home/conda/feedstock_root/build_artifacts/ffmpeg_1666357487580/_build_env/bin/x86_64-conda-linux-gnu-c++ --nm=/home/conda/feedstock_root/build_artifacts/ffmpeg_1666357487580/_build_env/bin/x86_64-conda-linux-gnu-nm --ar=/home/conda/feedstock_root/build_artifacts/ffmpeg_1666357487580/_build_env/bin/x86_64-conda-linux-gnu-ar --disable-doc --disable-openssl --enable-demuxer=dash --enable-hardcoded-tables --enable-libfreetype --enable-libfontconfig --enable-libopenh264 --enable-gnutls --enable-libmp3lame --enable-libvpx --enable-pthreads --enable-vaapi --enable-gpl --enable-libx264 --enable-libx265 --enable-libaom --enable-libsvtav1 --enable-libxml2 --enable-pic --enable-shared --disable-static --enable-version3 --enable-zlib --pkg-config=/home/conda/feedstock_root/build_artifacts/ffmpeg_1666357487580/_build_env/bin/pkg-config\n",
      "  libavutil      57. 28.100 / 57. 28.100\n",
      "  libavcodec     59. 37.100 / 59. 37.100\n",
      "  libavformat    59. 27.100 / 59. 27.100\n",
      "  libavdevice    59.  7.100 / 59.  7.100\n",
      "  libavfilter     8. 44.100 /  8. 44.100\n",
      "  libswscale      6.  7.100 /  6.  7.100\n",
      "  libswresample   4.  7.100 /  4.  7.100\n",
      "  libpostproc    56.  6.100 / 56.  6.100\n",
      "[image2 @ 0x5605e9e65640] Pattern type 'glob_sequence' is deprecated: use pattern_type 'glob' instead\n",
      "Input #0, image2, from '/home/irmak/Workspace/Holo-Bot/extracted_data/mouse_scrolling/demonstration_3/visualization/%*.png':\n",
      "  Duration: 00:00:00.48, start: 0.000000, bitrate: N/A\n",
      "  Stream #0:0: Video: png, rgba(pc), 2000x2000 [SAR 3937:3937 DAR 1:1], 25 fps, 25 tbr, 25 tbn\n",
      "Stream mapping:\n",
      "  Stream #0:0 -> #0:0 (png (native) -> h264 (libx264))\n",
      "Press [q] to stop, [?] for help\n"
     ]
    },
    {
     "name": "stdout",
     "output_type": "stream",
     "text": [
      "dumping video in root: /home/irmak/Workspace/Holo-Bot/extracted_data/mouse_scrolling/demonstration_3\n"
     ]
    },
    {
     "name": "stderr",
     "output_type": "stream",
     "text": [
      "[libx264 @ 0x5605e9e6c240] using SAR=1/1\n",
      "[libx264 @ 0x5605e9e6c240] using cpu capabilities: MMX2 SSE2Fast SSSE3 SSE4.2 AVX FMA3 BMI2 AVX2\n",
      "[libx264 @ 0x5605e9e6c240] profile High 4:4:4 Predictive, level 4.0, 4:4:4, 8-bit\n",
      "[libx264 @ 0x5605e9e6c240] 264 - core 164 r3095 baee400 - H.264/MPEG-4 AVC codec - Copyleft 2003-2022 - http://www.videolan.org/x264.html - options: cabac=1 ref=3 deblock=1:0:0 analyse=0x3:0x113 me=hex subme=7 psy=1 psy_rd=1.00:0.00 mixed_ref=1 me_range=16 chroma_me=1 trellis=1 8x8dct=1 cqm=0 deadzone=21,11 fast_pskip=1 chroma_qp_offset=4 threads=22 lookahead_threads=3 sliced_threads=0 nr=0 decimate=1 interlaced=0 bluray_compat=0 constrained_intra=0 bframes=3 b_pyramid=2 b_adapt=1 b_bias=0 direct=1 weightb=1 open_gop=0 weightp=2 keyint=250 keyint_min=10 scenecut=40 intra_refresh=0 rc_lookahead=40 rc=crf mbtree=1 crf=23.0 qcomp=0.60 qpmin=0 qpmax=69 qpstep=4 ip_ratio=1.40 aq=1:1.00\n",
      "Output #0, mp4, to '/home/irmak/Workspace/Holo-Bot/extracted_data/mouse_scrolling/demonstration_3/visualization_0.mp4':\n",
      "  Metadata:\n",
      "    encoder         : Lavf59.27.100\n",
      "  Stream #0:0: Video: h264 (avc1 / 0x31637661), yuv444p(tv, progressive), 2000x720 [SAR 1:1 DAR 25:9], q=2-31, 10 fps, 10240 tbn\n",
      "    Metadata:\n",
      "      encoder         : Lavc59.37.100 libx264\n",
      "    Side data:\n",
      "      cpb: bitrate max/min/avg: 0/0/0 buffer size: 0 vbv_delay: N/A\n",
      "frame=   12 fps=0.0 q=-1.0 Lsize=     366kB time=00:00:00.90 bitrate=3328.7kbits/s speed=1.52x    \n",
      "video:365kB audio:0kB subtitle:0kB other streams:0kB global headers:0kB muxing overhead: 0.271216%\n",
      "[libx264 @ 0x5605e9e6c240] frame I:1     Avg QP:23.71  size: 49193\n",
      "[libx264 @ 0x5605e9e6c240] frame P:3     Avg QP:21.47  size: 53979\n",
      "[libx264 @ 0x5605e9e6c240] frame B:8     Avg QP:21.68  size: 20210\n",
      "[libx264 @ 0x5605e9e6c240] consecutive B-frames:  8.3%  0.0% 25.0% 66.7%\n",
      "[libx264 @ 0x5605e9e6c240] mb I  I16..4: 27.8% 44.2% 28.0%\n",
      "[libx264 @ 0x5605e9e6c240] mb P  I16..4:  3.6% 37.2%  4.3%  P16..4: 15.0%  6.8%  4.1%  0.0%  0.0%    skip:29.0%\n",
      "[libx264 @ 0x5605e9e6c240] mb B  I16..4:  0.6% 10.3%  0.1%  B16..8: 21.5%  4.6%  1.3%  direct: 5.2%  skip:56.4%  L0:40.0% L1:53.4% BI: 6.6%\n",
      "[libx264 @ 0x5605e9e6c240] 8x8 transform intra:73.7% inter:84.2%\n",
      "[libx264 @ 0x5605e9e6c240] coded y,u,v intra: 58.0% 30.3% 27.7% inter: 19.0% 11.1% 9.2%\n",
      "[libx264 @ 0x5605e9e6c240] i16 v,h,dc,p: 48% 39%  6%  7%\n",
      "[libx264 @ 0x5605e9e6c240] i8 v,h,dc,ddl,ddr,vr,hd,vl,hu: 17% 21% 48%  3%  1%  1%  2%  2%  3%\n",
      "[libx264 @ 0x5605e9e6c240] i4 v,h,dc,ddl,ddr,vr,hd,vl,hu: 39% 36% 11%  1%  2%  2%  4%  2%  3%\n",
      "[libx264 @ 0x5605e9e6c240] Weighted P-Frames: Y:0.0% UV:0.0%\n",
      "[libx264 @ 0x5605e9e6c240] ref P L0: 46.4%  9.7% 34.7%  9.2%\n",
      "[libx264 @ 0x5605e9e6c240] ref B L0: 73.1% 22.3%  4.6%\n",
      "[libx264 @ 0x5605e9e6c240] ref B L1: 85.0% 15.0%\n",
      "[libx264 @ 0x5605e9e6c240] kb/s:2485.43\n",
      "ffmpeg version 5.1.2 Copyright (c) 2000-2022 the FFmpeg developers\n",
      "  built with gcc 10.4.0 (conda-forge gcc 10.4.0-18)\n",
      "  configuration: --prefix=/home/irmak/miniconda3/envs/tactile_learning --cc=/home/conda/feedstock_root/build_artifacts/ffmpeg_1666357487580/_build_env/bin/x86_64-conda-linux-gnu-cc --cxx=/home/conda/feedstock_root/build_artifacts/ffmpeg_1666357487580/_build_env/bin/x86_64-conda-linux-gnu-c++ --nm=/home/conda/feedstock_root/build_artifacts/ffmpeg_1666357487580/_build_env/bin/x86_64-conda-linux-gnu-nm --ar=/home/conda/feedstock_root/build_artifacts/ffmpeg_1666357487580/_build_env/bin/x86_64-conda-linux-gnu-ar --disable-doc --disable-openssl --enable-demuxer=dash --enable-hardcoded-tables --enable-libfreetype --enable-libfontconfig --enable-libopenh264 --enable-gnutls --enable-libmp3lame --enable-libvpx --enable-pthreads --enable-vaapi --enable-gpl --enable-libx264 --enable-libx265 --enable-libaom --enable-libsvtav1 --enable-libxml2 --enable-pic --enable-shared --disable-static --enable-version3 --enable-zlib --pkg-config=/home/conda/feedstock_root/build_artifacts/ffmpeg_1666357487580/_build_env/bin/pkg-config\n",
      "  libavutil      57. 28.100 / 57. 28.100\n",
      "  libavcodec     59. 37.100 / 59. 37.100\n",
      "  libavformat    59. 27.100 / 59. 27.100\n",
      "  libavdevice    59.  7.100 / 59.  7.100\n",
      "  libavfilter     8. 44.100 /  8. 44.100\n",
      "  libswscale      6.  7.100 /  6.  7.100\n",
      "  libswresample   4.  7.100 /  4.  7.100\n",
      "  libpostproc    56.  6.100 / 56.  6.100\n",
      "[image2 @ 0x5567284b0640] Pattern type 'glob_sequence' is deprecated: use pattern_type 'glob' instead\n",
      "Input #0, image2, from '/home/irmak/Workspace/Holo-Bot/extracted_data/mouse_scrolling/demonstration_1/visualization/%*.png':\n",
      "  Duration: 00:00:01.60, start: 0.000000, bitrate: N/A\n",
      "  Stream #0:0: Video: png, rgba(pc), 2000x2000 [SAR 3937:3937 DAR 1:1], 25 fps, 25 tbr, 25 tbn\n",
      "Stream mapping:\n",
      "  Stream #0:0 -> #0:0 (png (native) -> h264 (libx264))\n",
      "Press [q] to stop, [?] for help\n"
     ]
    },
    {
     "name": "stdout",
     "output_type": "stream",
     "text": [
      "dumping video in root: /home/irmak/Workspace/Holo-Bot/extracted_data/mouse_scrolling/demonstration_1\n"
     ]
    },
    {
     "name": "stderr",
     "output_type": "stream",
     "text": [
      "[libx264 @ 0x5567284b7b40] using SAR=1/1\n",
      "[libx264 @ 0x5567284b7b40] using cpu capabilities: MMX2 SSE2Fast SSSE3 SSE4.2 AVX FMA3 BMI2 AVX2\n",
      "[libx264 @ 0x5567284b7b40] profile High 4:4:4 Predictive, level 4.0, 4:4:4, 8-bit\n",
      "[libx264 @ 0x5567284b7b40] 264 - core 164 r3095 baee400 - H.264/MPEG-4 AVC codec - Copyleft 2003-2022 - http://www.videolan.org/x264.html - options: cabac=1 ref=3 deblock=1:0:0 analyse=0x3:0x113 me=hex subme=7 psy=1 psy_rd=1.00:0.00 mixed_ref=1 me_range=16 chroma_me=1 trellis=1 8x8dct=1 cqm=0 deadzone=21,11 fast_pskip=1 chroma_qp_offset=4 threads=22 lookahead_threads=3 sliced_threads=0 nr=0 decimate=1 interlaced=0 bluray_compat=0 constrained_intra=0 bframes=3 b_pyramid=2 b_adapt=1 b_bias=0 direct=1 weightb=1 open_gop=0 weightp=2 keyint=250 keyint_min=10 scenecut=40 intra_refresh=0 rc_lookahead=40 rc=crf mbtree=1 crf=23.0 qcomp=0.60 qpmin=0 qpmax=69 qpstep=4 ip_ratio=1.40 aq=1:1.00\n",
      "Output #0, mp4, to '/home/irmak/Workspace/Holo-Bot/extracted_data/mouse_scrolling/demonstration_1/visualization_0.mp4':\n",
      "  Metadata:\n",
      "    encoder         : Lavf59.27.100\n",
      "  Stream #0:0: Video: h264 (avc1 / 0x31637661), yuv444p(tv, progressive), 2000x720 [SAR 1:1 DAR 25:9], q=2-31, 10 fps, 10240 tbn\n",
      "    Metadata:\n",
      "      encoder         : Lavc59.37.100 libx264\n",
      "    Side data:\n",
      "      cpb: bitrate max/min/avg: 0/0/0 buffer size: 0 vbv_delay: N/A\n",
      "frame=   40 fps=0.0 q=-1.0 Lsize=    1106kB time=00:00:03.70 bitrate=2449.1kbits/s speed=3.85x    \n",
      "video:1105kB audio:0kB subtitle:0kB other streams:0kB global headers:0kB muxing overhead: 0.120651%\n",
      "[libx264 @ 0x5567284b7b40] frame I:1     Avg QP:22.77  size: 52758\n",
      "[libx264 @ 0x5567284b7b40] frame P:10    Avg QP:19.96  size: 46679\n",
      "[libx264 @ 0x5567284b7b40] frame B:29    Avg QP:22.10  size: 21074\n",
      "[libx264 @ 0x5567284b7b40] consecutive B-frames:  2.5%  0.0%  7.5% 90.0%\n",
      "[libx264 @ 0x5567284b7b40] mb I  I16..4: 27.4% 43.7% 28.9%\n",
      "[libx264 @ 0x5567284b7b40] mb P  I16..4:  1.7% 20.1%  1.3%  P16..4: 23.4% 12.8%  7.8%  0.0%  0.0%    skip:32.8%\n",
      "[libx264 @ 0x5567284b7b40] mb B  I16..4:  0.4%  9.5%  0.1%  B16..8: 23.8%  5.8%  1.6%  direct: 4.5%  skip:54.2%  L0:46.2% L1:45.6% BI: 8.2%\n",
      "[libx264 @ 0x5567284b7b40] 8x8 transform intra:83.6% inter:85.2%\n",
      "[libx264 @ 0x5567284b7b40] coded y,u,v intra: 69.2% 35.4% 34.2% inter: 21.4% 12.2% 10.5%\n",
      "[libx264 @ 0x5567284b7b40] i16 v,h,dc,p: 45% 33% 14%  8%\n",
      "[libx264 @ 0x5567284b7b40] i8 v,h,dc,ddl,ddr,vr,hd,vl,hu: 13% 18% 57%  3%  1%  1%  2%  2%  3%\n",
      "[libx264 @ 0x5567284b7b40] i4 v,h,dc,ddl,ddr,vr,hd,vl,hu: 37% 36% 12%  2%  2%  2%  4%  2%  4%\n",
      "[libx264 @ 0x5567284b7b40] Weighted P-Frames: Y:0.0% UV:0.0%\n",
      "[libx264 @ 0x5567284b7b40] ref P L0: 32.0%  6.8% 37.6% 23.6%\n",
      "[libx264 @ 0x5567284b7b40] ref B L0: 58.5% 32.4%  9.1%\n",
      "[libx264 @ 0x5567284b7b40] ref B L1: 85.9% 14.1%\n",
      "[libx264 @ 0x5567284b7b40] kb/s:2261.36\n",
      "ffmpeg version 5.1.2 Copyright (c) 2000-2022 the FFmpeg developers\n",
      "  built with gcc 10.4.0 (conda-forge gcc 10.4.0-18)\n",
      "  configuration: --prefix=/home/irmak/miniconda3/envs/tactile_learning --cc=/home/conda/feedstock_root/build_artifacts/ffmpeg_1666357487580/_build_env/bin/x86_64-conda-linux-gnu-cc --cxx=/home/conda/feedstock_root/build_artifacts/ffmpeg_1666357487580/_build_env/bin/x86_64-conda-linux-gnu-c++ --nm=/home/conda/feedstock_root/build_artifacts/ffmpeg_1666357487580/_build_env/bin/x86_64-conda-linux-gnu-nm --ar=/home/conda/feedstock_root/build_artifacts/ffmpeg_1666357487580/_build_env/bin/x86_64-conda-linux-gnu-ar --disable-doc --disable-openssl --enable-demuxer=dash --enable-hardcoded-tables --enable-libfreetype --enable-libfontconfig --enable-libopenh264 --enable-gnutls --enable-libmp3lame --enable-libvpx --enable-pthreads --enable-vaapi --enable-gpl --enable-libx264 --enable-libx265 --enable-libaom --enable-libsvtav1 --enable-libxml2 --enable-pic --enable-shared --disable-static --enable-version3 --enable-zlib --pkg-config=/home/conda/feedstock_root/build_artifacts/ffmpeg_1666357487580/_build_env/bin/pkg-config\n",
      "  libavutil      57. 28.100 / 57. 28.100\n",
      "  libavcodec     59. 37.100 / 59. 37.100\n",
      "  libavformat    59. 27.100 / 59. 27.100\n",
      "  libavdevice    59.  7.100 / 59.  7.100\n",
      "  libavfilter     8. 44.100 /  8. 44.100\n",
      "  libswscale      6.  7.100 /  6.  7.100\n",
      "  libswresample   4.  7.100 /  4.  7.100\n",
      "  libpostproc    56.  6.100 / 56.  6.100\n",
      "[image2 @ 0x55a4fac3c640] Pattern type 'glob_sequence' is deprecated: use pattern_type 'glob' instead\n",
      "Input #0, image2, from '/home/irmak/Workspace/Holo-Bot/extracted_data/mouse_scrolling/demonstration_2/visualization/%*.png':\n",
      "  Duration: 00:00:01.12, start: 0.000000, bitrate: N/A\n",
      "  Stream #0:0: Video: png, rgba(pc), 2000x2000 [SAR 3937:3937 DAR 1:1], 25 fps, 25 tbr, 25 tbn\n",
      "Stream mapping:\n",
      "  Stream #0:0 -> #0:0 (png (native) -> h264 (libx264))\n",
      "Press [q] to stop, [?] for help\n"
     ]
    },
    {
     "name": "stdout",
     "output_type": "stream",
     "text": [
      "dumping video in root: /home/irmak/Workspace/Holo-Bot/extracted_data/mouse_scrolling/demonstration_2\n"
     ]
    },
    {
     "name": "stderr",
     "output_type": "stream",
     "text": [
      "[libx264 @ 0x55a4fac43540] using SAR=1/1\n",
      "[libx264 @ 0x55a4fac43540] using cpu capabilities: MMX2 SSE2Fast SSSE3 SSE4.2 AVX FMA3 BMI2 AVX2\n",
      "[libx264 @ 0x55a4fac43540] profile High 4:4:4 Predictive, level 4.0, 4:4:4, 8-bit\n",
      "[libx264 @ 0x55a4fac43540] 264 - core 164 r3095 baee400 - H.264/MPEG-4 AVC codec - Copyleft 2003-2022 - http://www.videolan.org/x264.html - options: cabac=1 ref=3 deblock=1:0:0 analyse=0x3:0x113 me=hex subme=7 psy=1 psy_rd=1.00:0.00 mixed_ref=1 me_range=16 chroma_me=1 trellis=1 8x8dct=1 cqm=0 deadzone=21,11 fast_pskip=1 chroma_qp_offset=4 threads=22 lookahead_threads=3 sliced_threads=0 nr=0 decimate=1 interlaced=0 bluray_compat=0 constrained_intra=0 bframes=3 b_pyramid=2 b_adapt=1 b_bias=0 direct=1 weightb=1 open_gop=0 weightp=2 keyint=250 keyint_min=10 scenecut=40 intra_refresh=0 rc_lookahead=40 rc=crf mbtree=1 crf=23.0 qcomp=0.60 qpmin=0 qpmax=69 qpstep=4 ip_ratio=1.40 aq=1:1.00\n",
      "Output #0, mp4, to '/home/irmak/Workspace/Holo-Bot/extracted_data/mouse_scrolling/demonstration_2/visualization_0.mp4':\n",
      "  Metadata:\n",
      "    encoder         : Lavf59.27.100\n",
      "  Stream #0:0: Video: h264 (avc1 / 0x31637661), yuv444p(tv, progressive), 2000x720 [SAR 1:1 DAR 25:9], q=2-31, 10 fps, 10240 tbn\n",
      "    Metadata:\n",
      "      encoder         : Lavc59.37.100 libx264\n",
      "    Side data:\n",
      "      cpb: bitrate max/min/avg: 0/0/0 buffer size: 0 vbv_delay: N/A\n",
      "frame=   28 fps=0.0 q=-1.0 Lsize=     785kB time=00:00:02.50 bitrate=2571.8kbits/s speed=2.95x    \n",
      "video:784kB audio:0kB subtitle:0kB other streams:0kB global headers:0kB muxing overhead: 0.150155%\n",
      "[libx264 @ 0x55a4fac43540] frame I:1     Avg QP:22.97  size: 51571\n",
      "[libx264 @ 0x55a4fac43540] frame P:7     Avg QP:20.42  size: 48231\n",
      "[libx264 @ 0x55a4fac43540] frame B:20    Avg QP:21.95  size: 20631\n",
      "[libx264 @ 0x55a4fac43540] consecutive B-frames:  3.6%  0.0% 10.7% 85.7%\n",
      "[libx264 @ 0x55a4fac43540] mb I  I16..4: 28.1% 43.4% 28.5%\n",
      "[libx264 @ 0x55a4fac43540] mb P  I16..4:  2.2% 21.4%  1.9%  P16..4: 23.0% 12.5%  7.5%  0.0%  0.0%    skip:31.5%\n",
      "[libx264 @ 0x55a4fac43540] mb B  I16..4:  0.5%  9.1%  0.1%  B16..8: 23.9%  5.5%  1.5%  direct: 4.9%  skip:54.5%  L0:46.9% L1:45.7% BI: 7.3%\n",
      "[libx264 @ 0x55a4fac43540] 8x8 transform intra:79.6% inter:85.2%\n",
      "[libx264 @ 0x55a4fac43540] coded y,u,v intra: 64.7% 34.1% 32.3% inter: 21.4% 12.4% 10.5%\n",
      "[libx264 @ 0x55a4fac43540] i16 v,h,dc,p: 45% 34% 11% 10%\n",
      "[libx264 @ 0x55a4fac43540] i8 v,h,dc,ddl,ddr,vr,hd,vl,hu: 14% 18% 55%  3%  1%  1%  2%  2%  3%\n",
      "[libx264 @ 0x55a4fac43540] i4 v,h,dc,ddl,ddr,vr,hd,vl,hu: 38% 37% 12%  2%  2%  2%  4%  2%  4%\n",
      "[libx264 @ 0x55a4fac43540] Weighted P-Frames: Y:0.0% UV:0.0%\n",
      "[libx264 @ 0x55a4fac43540] ref P L0: 36.2%  7.0% 35.2% 21.6%\n",
      "[libx264 @ 0x55a4fac43540] ref B L0: 61.4% 29.2%  9.4%\n",
      "[libx264 @ 0x55a4fac43540] ref B L1: 85.2% 14.8%\n",
      "[libx264 @ 0x55a4fac43540] kb/s:2290.90\n",
      "ffmpeg version 5.1.2 Copyright (c) 2000-2022 the FFmpeg developers\n",
      "  built with gcc 10.4.0 (conda-forge gcc 10.4.0-18)\n",
      "  configuration: --prefix=/home/irmak/miniconda3/envs/tactile_learning --cc=/home/conda/feedstock_root/build_artifacts/ffmpeg_1666357487580/_build_env/bin/x86_64-conda-linux-gnu-cc --cxx=/home/conda/feedstock_root/build_artifacts/ffmpeg_1666357487580/_build_env/bin/x86_64-conda-linux-gnu-c++ --nm=/home/conda/feedstock_root/build_artifacts/ffmpeg_1666357487580/_build_env/bin/x86_64-conda-linux-gnu-nm --ar=/home/conda/feedstock_root/build_artifacts/ffmpeg_1666357487580/_build_env/bin/x86_64-conda-linux-gnu-ar --disable-doc --disable-openssl --enable-demuxer=dash --enable-hardcoded-tables --enable-libfreetype --enable-libfontconfig --enable-libopenh264 --enable-gnutls --enable-libmp3lame --enable-libvpx --enable-pthreads --enable-vaapi --enable-gpl --enable-libx264 --enable-libx265 --enable-libaom --enable-libsvtav1 --enable-libxml2 --enable-pic --enable-shared --disable-static --enable-version3 --enable-zlib --pkg-config=/home/conda/feedstock_root/build_artifacts/ffmpeg_1666357487580/_build_env/bin/pkg-config\n",
      "  libavutil      57. 28.100 / 57. 28.100\n",
      "  libavcodec     59. 37.100 / 59. 37.100\n",
      "  libavformat    59. 27.100 / 59. 27.100\n",
      "  libavdevice    59.  7.100 / 59.  7.100\n",
      "  libavfilter     8. 44.100 /  8. 44.100\n",
      "  libswscale      6.  7.100 /  6.  7.100\n",
      "  libswresample   4.  7.100 /  4.  7.100\n",
      "  libpostproc    56.  6.100 / 56.  6.100\n",
      "[image2 @ 0x555a148f3640] Pattern type 'glob_sequence' is deprecated: use pattern_type 'glob' instead\n",
      "Input #0, image2, from '/home/irmak/Workspace/Holo-Bot/extracted_data/mouse_scrolling/demonstration_9/visualization/%*.png':\n",
      "  Duration: 00:00:02.60, start: 0.000000, bitrate: N/A\n",
      "  Stream #0:0: Video: png, rgba(pc), 2000x2000 [SAR 3937:3937 DAR 1:1], 25 fps, 25 tbr, 25 tbn\n",
      "Stream mapping:\n",
      "  Stream #0:0 -> #0:0 (png (native) -> h264 (libx264))\n",
      "Press [q] to stop, [?] for help\n"
     ]
    },
    {
     "name": "stdout",
     "output_type": "stream",
     "text": [
      "dumping video in root: /home/irmak/Workspace/Holo-Bot/extracted_data/mouse_scrolling/demonstration_9\n"
     ]
    },
    {
     "name": "stderr",
     "output_type": "stream",
     "text": [
      "[libx264 @ 0x555a148f9900] using SAR=1/1\n",
      "[libx264 @ 0x555a148f9900] using cpu capabilities: MMX2 SSE2Fast SSSE3 SSE4.2 AVX FMA3 BMI2 AVX2\n",
      "[libx264 @ 0x555a148f9900] profile High 4:4:4 Predictive, level 4.0, 4:4:4, 8-bit\n",
      "[libx264 @ 0x555a148f9900] 264 - core 164 r3095 baee400 - H.264/MPEG-4 AVC codec - Copyleft 2003-2022 - http://www.videolan.org/x264.html - options: cabac=1 ref=3 deblock=1:0:0 analyse=0x3:0x113 me=hex subme=7 psy=1 psy_rd=1.00:0.00 mixed_ref=1 me_range=16 chroma_me=1 trellis=1 8x8dct=1 cqm=0 deadzone=21,11 fast_pskip=1 chroma_qp_offset=4 threads=22 lookahead_threads=3 sliced_threads=0 nr=0 decimate=1 interlaced=0 bluray_compat=0 constrained_intra=0 bframes=3 b_pyramid=2 b_adapt=1 b_bias=0 direct=1 weightb=1 open_gop=0 weightp=2 keyint=250 keyint_min=10 scenecut=40 intra_refresh=0 rc_lookahead=40 rc=crf mbtree=1 crf=23.0 qcomp=0.60 qpmin=0 qpmax=69 qpstep=4 ip_ratio=1.40 aq=1:1.00\n",
      "Output #0, mp4, to '/home/irmak/Workspace/Holo-Bot/extracted_data/mouse_scrolling/demonstration_9/visualization_0.mp4':\n",
      "  Metadata:\n",
      "    encoder         : Lavf59.27.100\n",
      "  Stream #0:0: Video: h264 (avc1 / 0x31637661), yuv444p(tv, progressive), 2000x720 [SAR 1:1 DAR 25:9], q=2-31, 10 fps, 10240 tbn\n",
      "    Metadata:\n",
      "      encoder         : Lavc59.37.100 libx264\n",
      "    Side data:\n",
      "      cpb: bitrate max/min/avg: 0/0/0 buffer size: 0 vbv_delay: N/A\n",
      "frame=   65 fps= 56 q=-1.0 Lsize=    1979kB time=00:00:06.20 bitrate=2614.4kbits/s speed=5.33x    \n",
      "video:1977kB audio:0kB subtitle:0kB other streams:0kB global headers:0kB muxing overhead: 0.082635%\n",
      "[libx264 @ 0x555a148f9900] frame I:1     Avg QP:22.73  size: 51314\n",
      "[libx264 @ 0x555a148f9900] frame P:16    Avg QP:20.02  size: 50277\n",
      "[libx264 @ 0x555a148f9900] frame B:48    Avg QP:21.97  size: 24336\n",
      "[libx264 @ 0x555a148f9900] consecutive B-frames:  1.5%  0.0%  0.0% 98.5%\n",
      "[libx264 @ 0x555a148f9900] mb I  I16..4: 28.2% 43.2% 28.6%\n",
      "[libx264 @ 0x555a148f9900] mb P  I16..4:  1.1% 23.6%  0.9%  P16..4: 21.2% 12.8%  8.0%  0.0%  0.0%    skip:32.5%\n",
      "[libx264 @ 0x555a148f9900] mb B  I16..4:  0.3% 11.4%  0.1%  B16..8: 23.8%  6.1%  1.7%  direct: 5.1%  skip:51.4%  L0:48.2% L1:42.9% BI: 8.9%\n",
      "[libx264 @ 0x555a148f9900] 8x8 transform intra:90.0% inter:85.3%\n",
      "[libx264 @ 0x555a148f9900] coded y,u,v intra: 79.1% 41.9% 39.6% inter: 23.9% 13.8% 11.7%\n",
      "[libx264 @ 0x555a148f9900] i16 v,h,dc,p: 48% 31% 14%  7%\n",
      "[libx264 @ 0x555a148f9900] i8 v,h,dc,ddl,ddr,vr,hd,vl,hu: 10% 18% 60%  2%  1%  1%  2%  2%  3%\n",
      "[libx264 @ 0x555a148f9900] i4 v,h,dc,ddl,ddr,vr,hd,vl,hu: 37% 34% 12%  2%  2%  2%  4%  2%  4%\n",
      "[libx264 @ 0x555a148f9900] Weighted P-Frames: Y:0.0% UV:0.0%\n",
      "[libx264 @ 0x555a148f9900] ref P L0: 32.7%  7.7% 36.0% 23.6%\n",
      "[libx264 @ 0x555a148f9900] ref B L0: 61.0% 31.1%  7.9%\n",
      "[libx264 @ 0x555a148f9900] ref B L1: 84.7% 15.3%\n",
      "[libx264 @ 0x555a148f9900] kb/s:2490.91\n",
      "ffmpeg version 5.1.2 Copyright (c) 2000-2022 the FFmpeg developers\n",
      "  built with gcc 10.4.0 (conda-forge gcc 10.4.0-18)\n",
      "  configuration: --prefix=/home/irmak/miniconda3/envs/tactile_learning --cc=/home/conda/feedstock_root/build_artifacts/ffmpeg_1666357487580/_build_env/bin/x86_64-conda-linux-gnu-cc --cxx=/home/conda/feedstock_root/build_artifacts/ffmpeg_1666357487580/_build_env/bin/x86_64-conda-linux-gnu-c++ --nm=/home/conda/feedstock_root/build_artifacts/ffmpeg_1666357487580/_build_env/bin/x86_64-conda-linux-gnu-nm --ar=/home/conda/feedstock_root/build_artifacts/ffmpeg_1666357487580/_build_env/bin/x86_64-conda-linux-gnu-ar --disable-doc --disable-openssl --enable-demuxer=dash --enable-hardcoded-tables --enable-libfreetype --enable-libfontconfig --enable-libopenh264 --enable-gnutls --enable-libmp3lame --enable-libvpx --enable-pthreads --enable-vaapi --enable-gpl --enable-libx264 --enable-libx265 --enable-libaom --enable-libsvtav1 --enable-libxml2 --enable-pic --enable-shared --disable-static --enable-version3 --enable-zlib --pkg-config=/home/conda/feedstock_root/build_artifacts/ffmpeg_1666357487580/_build_env/bin/pkg-config\n",
      "  libavutil      57. 28.100 / 57. 28.100\n",
      "  libavcodec     59. 37.100 / 59. 37.100\n",
      "  libavformat    59. 27.100 / 59. 27.100\n",
      "  libavdevice    59.  7.100 / 59.  7.100\n",
      "  libavfilter     8. 44.100 /  8. 44.100\n",
      "  libswscale      6.  7.100 /  6.  7.100\n",
      "  libswresample   4.  7.100 /  4.  7.100\n",
      "  libpostproc    56.  6.100 / 56.  6.100\n",
      "[image2 @ 0x560a94aaa640] Pattern type 'glob_sequence' is deprecated: use pattern_type 'glob' instead\n",
      "Input #0, image2, from '/home/irmak/Workspace/Holo-Bot/extracted_data/mouse_scrolling/demonstration_6/visualization/%*.png':\n",
      "  Duration: 00:00:01.08, start: 0.000000, bitrate: N/A\n",
      "  Stream #0:0: Video: png, rgba(pc), 2000x2000 [SAR 3937:3937 DAR 1:1], 25 fps, 25 tbr, 25 tbn\n",
      "Stream mapping:\n",
      "  Stream #0:0 -> #0:0 (png (native) -> h264 (libx264))\n",
      "Press [q] to stop, [?] for help\n"
     ]
    },
    {
     "name": "stdout",
     "output_type": "stream",
     "text": [
      "dumping video in root: /home/irmak/Workspace/Holo-Bot/extracted_data/mouse_scrolling/demonstration_6\n"
     ]
    },
    {
     "name": "stderr",
     "output_type": "stream",
     "text": [
      "[libx264 @ 0x560a94ab14c0] using SAR=1/1\n",
      "[libx264 @ 0x560a94ab14c0] using cpu capabilities: MMX2 SSE2Fast SSSE3 SSE4.2 AVX FMA3 BMI2 AVX2\n",
      "[libx264 @ 0x560a94ab14c0] profile High 4:4:4 Predictive, level 4.0, 4:4:4, 8-bit\n",
      "[libx264 @ 0x560a94ab14c0] 264 - core 164 r3095 baee400 - H.264/MPEG-4 AVC codec - Copyleft 2003-2022 - http://www.videolan.org/x264.html - options: cabac=1 ref=3 deblock=1:0:0 analyse=0x3:0x113 me=hex subme=7 psy=1 psy_rd=1.00:0.00 mixed_ref=1 me_range=16 chroma_me=1 trellis=1 8x8dct=1 cqm=0 deadzone=21,11 fast_pskip=1 chroma_qp_offset=4 threads=22 lookahead_threads=3 sliced_threads=0 nr=0 decimate=1 interlaced=0 bluray_compat=0 constrained_intra=0 bframes=3 b_pyramid=2 b_adapt=1 b_bias=0 direct=1 weightb=1 open_gop=0 weightp=2 keyint=250 keyint_min=10 scenecut=40 intra_refresh=0 rc_lookahead=40 rc=crf mbtree=1 crf=23.0 qcomp=0.60 qpmin=0 qpmax=69 qpstep=4 ip_ratio=1.40 aq=1:1.00\n",
      "Output #0, mp4, to '/home/irmak/Workspace/Holo-Bot/extracted_data/mouse_scrolling/demonstration_6/visualization_0.mp4':\n",
      "  Metadata:\n",
      "    encoder         : Lavf59.27.100\n",
      "  Stream #0:0: Video: h264 (avc1 / 0x31637661), yuv444p(tv, progressive), 2000x720 [SAR 1:1 DAR 25:9], q=2-31, 10 fps, 10240 tbn\n",
      "    Metadata:\n",
      "      encoder         : Lavc59.37.100 libx264\n",
      "    Side data:\n",
      "      cpb: bitrate max/min/avg: 0/0/0 buffer size: 0 vbv_delay: N/A\n",
      "frame=   27 fps=0.0 q=-1.0 Lsize=     824kB time=00:00:02.40 bitrate=2812.1kbits/s speed=3.03x    \n",
      "video:823kB audio:0kB subtitle:0kB other streams:0kB global headers:0kB muxing overhead: 0.142560%\n",
      "[libx264 @ 0x560a94ab14c0] frame I:1     Avg QP:22.90  size: 50779\n",
      "[libx264 @ 0x560a94ab14c0] frame P:7     Avg QP:20.34  size: 50898\n",
      "[libx264 @ 0x560a94ab14c0] frame B:19    Avg QP:21.72  size: 22879\n",
      "[libx264 @ 0x560a94ab14c0] consecutive B-frames:  3.7%  7.4%  0.0% 88.9%\n",
      "[libx264 @ 0x560a94ab14c0] mb I  I16..4: 28.7% 43.2% 28.1%\n",
      "[libx264 @ 0x560a94ab14c0] mb P  I16..4:  1.8% 26.1%  1.8%  P16..4: 19.6% 12.0%  6.8%  0.0%  0.0%    skip:32.0%\n",
      "[libx264 @ 0x560a94ab14c0] mb B  I16..4:  0.4% 11.6%  0.0%  B16..8: 22.3%  5.0%  1.3%  direct: 5.5%  skip:53.8%  L0:43.3% L1:48.7% BI: 8.0%\n",
      "[libx264 @ 0x560a94ab14c0] 8x8 transform intra:83.4% inter:85.8%\n",
      "[libx264 @ 0x560a94ab14c0] coded y,u,v intra: 70.7% 38.1% 36.0% inter: 23.0% 13.5% 11.6%\n",
      "[libx264 @ 0x560a94ab14c0] i16 v,h,dc,p: 50% 35%  9%  7%\n",
      "[libx264 @ 0x560a94ab14c0] i8 v,h,dc,ddl,ddr,vr,hd,vl,hu: 12% 19% 56%  3%  1%  1%  2%  2%  4%\n",
      "[libx264 @ 0x560a94ab14c0] i4 v,h,dc,ddl,ddr,vr,hd,vl,hu: 39% 37% 11%  1%  2%  2%  4%  1%  3%\n",
      "[libx264 @ 0x560a94ab14c0] Weighted P-Frames: Y:0.0% UV:0.0%\n",
      "[libx264 @ 0x560a94ab14c0] ref P L0: 35.8%  7.4% 37.4% 19.4%\n",
      "[libx264 @ 0x560a94ab14c0] ref B L0: 65.0% 28.8%  6.2%\n",
      "[libx264 @ 0x560a94ab14c0] ref B L1: 85.0% 15.0%\n",
      "[libx264 @ 0x560a94ab14c0] kb/s:2494.11\n",
      "ffmpeg version 5.1.2 Copyright (c) 2000-2022 the FFmpeg developers\n",
      "  built with gcc 10.4.0 (conda-forge gcc 10.4.0-18)\n",
      "  configuration: --prefix=/home/irmak/miniconda3/envs/tactile_learning --cc=/home/conda/feedstock_root/build_artifacts/ffmpeg_1666357487580/_build_env/bin/x86_64-conda-linux-gnu-cc --cxx=/home/conda/feedstock_root/build_artifacts/ffmpeg_1666357487580/_build_env/bin/x86_64-conda-linux-gnu-c++ --nm=/home/conda/feedstock_root/build_artifacts/ffmpeg_1666357487580/_build_env/bin/x86_64-conda-linux-gnu-nm --ar=/home/conda/feedstock_root/build_artifacts/ffmpeg_1666357487580/_build_env/bin/x86_64-conda-linux-gnu-ar --disable-doc --disable-openssl --enable-demuxer=dash --enable-hardcoded-tables --enable-libfreetype --enable-libfontconfig --enable-libopenh264 --enable-gnutls --enable-libmp3lame --enable-libvpx --enable-pthreads --enable-vaapi --enable-gpl --enable-libx264 --enable-libx265 --enable-libaom --enable-libsvtav1 --enable-libxml2 --enable-pic --enable-shared --disable-static --enable-version3 --enable-zlib --pkg-config=/home/conda/feedstock_root/build_artifacts/ffmpeg_1666357487580/_build_env/bin/pkg-config\n",
      "  libavutil      57. 28.100 / 57. 28.100\n",
      "  libavcodec     59. 37.100 / 59. 37.100\n",
      "  libavformat    59. 27.100 / 59. 27.100\n",
      "  libavdevice    59.  7.100 / 59.  7.100\n",
      "  libavfilter     8. 44.100 /  8. 44.100\n",
      "  libswscale      6.  7.100 /  6.  7.100\n",
      "  libswresample   4.  7.100 /  4.  7.100\n",
      "  libpostproc    56.  6.100 / 56.  6.100\n",
      "[image2 @ 0x55fd1d7d8640] Pattern type 'glob_sequence' is deprecated: use pattern_type 'glob' instead\n",
      "Input #0, image2, from '/home/irmak/Workspace/Holo-Bot/extracted_data/mouse_scrolling/demonstration_7/visualization/%*.png':\n",
      "  Duration: 00:00:02.60, start: 0.000000, bitrate: N/A\n",
      "  Stream #0:0: Video: png, rgba(pc), 2000x2000 [SAR 3937:3937 DAR 1:1], 25 fps, 25 tbr, 25 tbn\n",
      "Stream mapping:\n",
      "  Stream #0:0 -> #0:0 (png (native) -> h264 (libx264))\n",
      "Press [q] to stop, [?] for help\n"
     ]
    },
    {
     "name": "stdout",
     "output_type": "stream",
     "text": [
      "dumping video in root: /home/irmak/Workspace/Holo-Bot/extracted_data/mouse_scrolling/demonstration_7\n"
     ]
    },
    {
     "name": "stderr",
     "output_type": "stream",
     "text": [
      "[libx264 @ 0x55fd1d7de700] using SAR=1/1\n",
      "[libx264 @ 0x55fd1d7de700] using cpu capabilities: MMX2 SSE2Fast SSSE3 SSE4.2 AVX FMA3 BMI2 AVX2\n",
      "[libx264 @ 0x55fd1d7de700] profile High 4:4:4 Predictive, level 4.0, 4:4:4, 8-bit\n",
      "[libx264 @ 0x55fd1d7de700] 264 - core 164 r3095 baee400 - H.264/MPEG-4 AVC codec - Copyleft 2003-2022 - http://www.videolan.org/x264.html - options: cabac=1 ref=3 deblock=1:0:0 analyse=0x3:0x113 me=hex subme=7 psy=1 psy_rd=1.00:0.00 mixed_ref=1 me_range=16 chroma_me=1 trellis=1 8x8dct=1 cqm=0 deadzone=21,11 fast_pskip=1 chroma_qp_offset=4 threads=22 lookahead_threads=3 sliced_threads=0 nr=0 decimate=1 interlaced=0 bluray_compat=0 constrained_intra=0 bframes=3 b_pyramid=2 b_adapt=1 b_bias=0 direct=1 weightb=1 open_gop=0 weightp=2 keyint=250 keyint_min=10 scenecut=40 intra_refresh=0 rc_lookahead=40 rc=crf mbtree=1 crf=23.0 qcomp=0.60 qpmin=0 qpmax=69 qpstep=4 ip_ratio=1.40 aq=1:1.00\n",
      "Output #0, mp4, to '/home/irmak/Workspace/Holo-Bot/extracted_data/mouse_scrolling/demonstration_7/visualization_0.mp4':\n",
      "  Metadata:\n",
      "    encoder         : Lavf59.27.100\n",
      "  Stream #0:0: Video: h264 (avc1 / 0x31637661), yuv444p(tv, progressive), 2000x720 [SAR 1:1 DAR 25:9], q=2-31, 10 fps, 10240 tbn\n",
      "    Metadata:\n",
      "      encoder         : Lavc59.37.100 libx264\n",
      "    Side data:\n",
      "      cpb: bitrate max/min/avg: 0/0/0 buffer size: 0 vbv_delay: N/A\n",
      "frame=   65 fps= 53 q=-1.0 Lsize=    1955kB time=00:00:06.20 bitrate=2583.2kbits/s speed=5.08x    \n",
      "video:1953kB audio:0kB subtitle:0kB other streams:0kB global headers:0kB muxing overhead: 0.083635%\n",
      "[libx264 @ 0x55fd1d7de700] frame I:1     Avg QP:23.16  size: 51366\n",
      "[libx264 @ 0x55fd1d7de700] frame P:16    Avg QP:19.76  size: 48538\n",
      "[libx264 @ 0x55fd1d7de700] frame B:48    Avg QP:21.72  size: 24410\n",
      "[libx264 @ 0x55fd1d7de700] consecutive B-frames:  1.5%  0.0%  0.0% 98.5%\n",
      "[libx264 @ 0x55fd1d7de700] mb I  I16..4: 26.8% 44.6% 28.6%\n",
      "[libx264 @ 0x55fd1d7de700] mb P  I16..4:  1.3% 19.6%  0.9%  P16..4: 23.7% 13.7%  8.0%  0.0%  0.0%    skip:32.7%\n",
      "[libx264 @ 0x55fd1d7de700] mb B  I16..4:  0.3% 11.4%  0.1%  B16..8: 23.5%  6.0%  1.8%  direct: 5.2%  skip:51.7%  L0:47.6% L1:43.5% BI: 8.9%\n",
      "[libx264 @ 0x55fd1d7de700] 8x8 transform intra:88.9% inter:85.2%\n",
      "[libx264 @ 0x55fd1d7de700] coded y,u,v intra: 77.7% 41.3% 39.0% inter: 24.0% 13.9% 12.0%\n",
      "[libx264 @ 0x55fd1d7de700] i16 v,h,dc,p: 45% 31% 14% 10%\n",
      "[libx264 @ 0x55fd1d7de700] i8 v,h,dc,ddl,ddr,vr,hd,vl,hu: 10% 18% 59%  3%  1%  1%  2%  2%  4%\n",
      "[libx264 @ 0x55fd1d7de700] i4 v,h,dc,ddl,ddr,vr,hd,vl,hu: 37% 34% 13%  2%  2%  2%  4%  2%  4%\n",
      "[libx264 @ 0x55fd1d7de700] Weighted P-Frames: Y:0.0% UV:0.0%\n",
      "[libx264 @ 0x55fd1d7de700] ref P L0: 32.2%  8.7% 36.4% 22.7%\n",
      "[libx264 @ 0x55fd1d7de700] ref B L0: 60.2% 29.7% 10.1%\n",
      "[libx264 @ 0x55fd1d7de700] ref B L1: 85.1% 14.9%\n",
      "[libx264 @ 0x55fd1d7de700] kb/s:2461.14\n",
      "ffmpeg version 5.1.2 Copyright (c) 2000-2022 the FFmpeg developers\n",
      "  built with gcc 10.4.0 (conda-forge gcc 10.4.0-18)\n",
      "  configuration: --prefix=/home/irmak/miniconda3/envs/tactile_learning --cc=/home/conda/feedstock_root/build_artifacts/ffmpeg_1666357487580/_build_env/bin/x86_64-conda-linux-gnu-cc --cxx=/home/conda/feedstock_root/build_artifacts/ffmpeg_1666357487580/_build_env/bin/x86_64-conda-linux-gnu-c++ --nm=/home/conda/feedstock_root/build_artifacts/ffmpeg_1666357487580/_build_env/bin/x86_64-conda-linux-gnu-nm --ar=/home/conda/feedstock_root/build_artifacts/ffmpeg_1666357487580/_build_env/bin/x86_64-conda-linux-gnu-ar --disable-doc --disable-openssl --enable-demuxer=dash --enable-hardcoded-tables --enable-libfreetype --enable-libfontconfig --enable-libopenh264 --enable-gnutls --enable-libmp3lame --enable-libvpx --enable-pthreads --enable-vaapi --enable-gpl --enable-libx264 --enable-libx265 --enable-libaom --enable-libsvtav1 --enable-libxml2 --enable-pic --enable-shared --disable-static --enable-version3 --enable-zlib --pkg-config=/home/conda/feedstock_root/build_artifacts/ffmpeg_1666357487580/_build_env/bin/pkg-config\n",
      "  libavutil      57. 28.100 / 57. 28.100\n",
      "  libavcodec     59. 37.100 / 59. 37.100\n",
      "  libavformat    59. 27.100 / 59. 27.100\n",
      "  libavdevice    59.  7.100 / 59.  7.100\n",
      "  libavfilter     8. 44.100 /  8. 44.100\n",
      "  libswscale      6.  7.100 /  6.  7.100\n",
      "  libswresample   4.  7.100 /  4.  7.100\n",
      "  libpostproc    56.  6.100 / 56.  6.100\n",
      "[image2 @ 0x5614dceaa640] Pattern type 'glob_sequence' is deprecated: use pattern_type 'glob' instead\n",
      "Input #0, image2, from '/home/irmak/Workspace/Holo-Bot/extracted_data/mouse_scrolling/demonstration_5/visualization/%*.png':\n",
      "  Duration: 00:00:04.00, start: 0.000000, bitrate: N/A\n",
      "  Stream #0:0: Video: png, rgba(pc), 2000x2000 [SAR 3937:3937 DAR 1:1], 25 fps, 25 tbr, 25 tbn\n",
      "Stream mapping:\n",
      "  Stream #0:0 -> #0:0 (png (native) -> h264 (libx264))\n",
      "Press [q] to stop, [?] for help\n"
     ]
    },
    {
     "name": "stdout",
     "output_type": "stream",
     "text": [
      "dumping video in root: /home/irmak/Workspace/Holo-Bot/extracted_data/mouse_scrolling/demonstration_5\n"
     ]
    },
    {
     "name": "stderr",
     "output_type": "stream",
     "text": [
      "[libx264 @ 0x5614dceb41c0] using SAR=1/1\n",
      "[libx264 @ 0x5614dceb41c0] using cpu capabilities: MMX2 SSE2Fast SSSE3 SSE4.2 AVX FMA3 BMI2 AVX2\n",
      "[libx264 @ 0x5614dceb41c0] profile High 4:4:4 Predictive, level 4.0, 4:4:4, 8-bit\n",
      "[libx264 @ 0x5614dceb41c0] 264 - core 164 r3095 baee400 - H.264/MPEG-4 AVC codec - Copyleft 2003-2022 - http://www.videolan.org/x264.html - options: cabac=1 ref=3 deblock=1:0:0 analyse=0x3:0x113 me=hex subme=7 psy=1 psy_rd=1.00:0.00 mixed_ref=1 me_range=16 chroma_me=1 trellis=1 8x8dct=1 cqm=0 deadzone=21,11 fast_pskip=1 chroma_qp_offset=4 threads=22 lookahead_threads=3 sliced_threads=0 nr=0 decimate=1 interlaced=0 bluray_compat=0 constrained_intra=0 bframes=3 b_pyramid=2 b_adapt=1 b_bias=0 direct=1 weightb=1 open_gop=0 weightp=2 keyint=250 keyint_min=10 scenecut=40 intra_refresh=0 rc_lookahead=40 rc=crf mbtree=1 crf=23.0 qcomp=0.60 qpmin=0 qpmax=69 qpstep=4 ip_ratio=1.40 aq=1:1.00\n",
      "Output #0, mp4, to '/home/irmak/Workspace/Holo-Bot/extracted_data/mouse_scrolling/demonstration_5/visualization_0.mp4':\n",
      "  Metadata:\n",
      "    encoder         : Lavf59.27.100\n",
      "  Stream #0:0: Video: h264 (avc1 / 0x31637661), yuv444p(tv, progressive), 2000x720 [SAR 1:1 DAR 25:9], q=2-31, 10 fps, 10240 tbn\n",
      "    Metadata:\n",
      "      encoder         : Lavc59.37.100 libx264\n",
      "    Side data:\n",
      "      cpb: bitrate max/min/avg: 0/0/0 buffer size: 0 vbv_delay: N/A\n",
      "frame=  100 fps= 69 q=-1.0 Lsize=    2939kB time=00:00:09.70 bitrate=2481.8kbits/s speed=6.68x    \n",
      "video:2937kB audio:0kB subtitle:0kB other streams:0kB global headers:0kB muxing overhead: 0.069469%\n",
      "[libx264 @ 0x5614dceb41c0] frame I:1     Avg QP:22.84  size: 51842\n",
      "[libx264 @ 0x5614dceb41c0] frame P:25    Avg QP:19.95  size: 48317\n",
      "[libx264 @ 0x5614dceb41c0] frame B:74    Avg QP:21.93  size: 23603\n",
      "[libx264 @ 0x5614dceb41c0] consecutive B-frames:  1.0%  0.0%  3.0% 96.0%\n",
      "[libx264 @ 0x5614dceb41c0] mb I  I16..4: 28.0% 43.5% 28.6%\n",
      "[libx264 @ 0x5614dceb41c0] mb P  I16..4:  1.1% 19.4%  0.7%  P16..4: 23.6% 13.6%  8.1%  0.0%  0.0%    skip:33.4%\n",
      "[libx264 @ 0x5614dceb41c0] mb B  I16..4:  0.3% 10.1%  0.1%  B16..8: 24.4%  6.2%  1.7%  direct: 5.0%  skip:52.2%  L0:50.1% L1:41.2% BI: 8.8%\n",
      "[libx264 @ 0x5614dceb41c0] 8x8 transform intra:90.7% inter:85.1%\n",
      "[libx264 @ 0x5614dceb41c0] coded y,u,v intra: 79.3% 42.9% 40.7% inter: 23.9% 14.1% 11.8%\n",
      "[libx264 @ 0x5614dceb41c0] i16 v,h,dc,p: 44% 29% 16% 12%\n",
      "[libx264 @ 0x5614dceb41c0] i8 v,h,dc,ddl,ddr,vr,hd,vl,hu: 10% 17% 60%  3%  1%  1%  2%  2%  4%\n",
      "[libx264 @ 0x5614dceb41c0] i4 v,h,dc,ddl,ddr,vr,hd,vl,hu: 35% 33% 13%  3%  3%  3%  4%  2%  4%\n",
      "[libx264 @ 0x5614dceb41c0] Weighted P-Frames: Y:0.0% UV:0.0%\n",
      "[libx264 @ 0x5614dceb41c0] ref P L0: 31.6%  8.1% 37.2% 23.1%\n",
      "[libx264 @ 0x5614dceb41c0] ref B L0: 62.9% 28.4%  8.7%\n",
      "[libx264 @ 0x5614dceb41c0] ref B L1: 86.4% 13.6%\n",
      "[libx264 @ 0x5614dceb41c0] kb/s:2405.12\n",
      "ffmpeg version 5.1.2 Copyright (c) 2000-2022 the FFmpeg developers\n",
      "  built with gcc 10.4.0 (conda-forge gcc 10.4.0-18)\n",
      "  configuration: --prefix=/home/irmak/miniconda3/envs/tactile_learning --cc=/home/conda/feedstock_root/build_artifacts/ffmpeg_1666357487580/_build_env/bin/x86_64-conda-linux-gnu-cc --cxx=/home/conda/feedstock_root/build_artifacts/ffmpeg_1666357487580/_build_env/bin/x86_64-conda-linux-gnu-c++ --nm=/home/conda/feedstock_root/build_artifacts/ffmpeg_1666357487580/_build_env/bin/x86_64-conda-linux-gnu-nm --ar=/home/conda/feedstock_root/build_artifacts/ffmpeg_1666357487580/_build_env/bin/x86_64-conda-linux-gnu-ar --disable-doc --disable-openssl --enable-demuxer=dash --enable-hardcoded-tables --enable-libfreetype --enable-libfontconfig --enable-libopenh264 --enable-gnutls --enable-libmp3lame --enable-libvpx --enable-pthreads --enable-vaapi --enable-gpl --enable-libx264 --enable-libx265 --enable-libaom --enable-libsvtav1 --enable-libxml2 --enable-pic --enable-shared --disable-static --enable-version3 --enable-zlib --pkg-config=/home/conda/feedstock_root/build_artifacts/ffmpeg_1666357487580/_build_env/bin/pkg-config\n",
      "  libavutil      57. 28.100 / 57. 28.100\n",
      "  libavcodec     59. 37.100 / 59. 37.100\n",
      "  libavformat    59. 27.100 / 59. 27.100\n",
      "  libavdevice    59.  7.100 / 59.  7.100\n",
      "  libavfilter     8. 44.100 /  8. 44.100\n",
      "  libswscale      6.  7.100 /  6.  7.100\n",
      "  libswresample   4.  7.100 /  4.  7.100\n",
      "  libpostproc    56.  6.100 / 56.  6.100\n",
      "[image2 @ 0x559b15f2f640] Pattern type 'glob_sequence' is deprecated: use pattern_type 'glob' instead\n",
      "Input #0, image2, from '/home/irmak/Workspace/Holo-Bot/extracted_data/mouse_scrolling/demonstration_4/visualization/%*.png':\n",
      "  Duration: 00:00:02.52, start: 0.000000, bitrate: N/A\n",
      "  Stream #0:0: Video: png, rgba(pc), 2000x2000 [SAR 3937:3937 DAR 1:1], 25 fps, 25 tbr, 25 tbn\n",
      "Stream mapping:\n",
      "  Stream #0:0 -> #0:0 (png (native) -> h264 (libx264))\n",
      "Press [q] to stop, [?] for help\n"
     ]
    },
    {
     "name": "stdout",
     "output_type": "stream",
     "text": [
      "dumping video in root: /home/irmak/Workspace/Holo-Bot/extracted_data/mouse_scrolling/demonstration_4\n"
     ]
    },
    {
     "name": "stderr",
     "output_type": "stream",
     "text": [
      "[libx264 @ 0x559b15f35180] using SAR=1/1\n",
      "[libx264 @ 0x559b15f35180] using cpu capabilities: MMX2 SSE2Fast SSSE3 SSE4.2 AVX FMA3 BMI2 AVX2\n",
      "[libx264 @ 0x559b15f35180] profile High 4:4:4 Predictive, level 4.0, 4:4:4, 8-bit\n",
      "[libx264 @ 0x559b15f35180] 264 - core 164 r3095 baee400 - H.264/MPEG-4 AVC codec - Copyleft 2003-2022 - http://www.videolan.org/x264.html - options: cabac=1 ref=3 deblock=1:0:0 analyse=0x3:0x113 me=hex subme=7 psy=1 psy_rd=1.00:0.00 mixed_ref=1 me_range=16 chroma_me=1 trellis=1 8x8dct=1 cqm=0 deadzone=21,11 fast_pskip=1 chroma_qp_offset=4 threads=22 lookahead_threads=3 sliced_threads=0 nr=0 decimate=1 interlaced=0 bluray_compat=0 constrained_intra=0 bframes=3 b_pyramid=2 b_adapt=1 b_bias=0 direct=1 weightb=1 open_gop=0 weightp=2 keyint=250 keyint_min=10 scenecut=40 intra_refresh=0 rc_lookahead=40 rc=crf mbtree=1 crf=23.0 qcomp=0.60 qpmin=0 qpmax=69 qpstep=4 ip_ratio=1.40 aq=1:1.00\n",
      "Output #0, mp4, to '/home/irmak/Workspace/Holo-Bot/extracted_data/mouse_scrolling/demonstration_4/visualization_0.mp4':\n",
      "  Metadata:\n",
      "    encoder         : Lavf59.27.100\n",
      "  Stream #0:0: Video: h264 (avc1 / 0x31637661), yuv444p(tv, progressive), 2000x720 [SAR 1:1 DAR 25:9], q=2-31, 10 fps, 10240 tbn\n",
      "    Metadata:\n",
      "      encoder         : Lavc59.37.100 libx264\n",
      "    Side data:\n",
      "      cpb: bitrate max/min/avg: 0/0/0 buffer size: 0 vbv_delay: N/A\n",
      "frame=   63 fps= 53 q=-1.0 Lsize=    1921kB time=00:00:06.00 bitrate=2622.5kbits/s speed=5.01x    \n",
      "video:1919kB audio:0kB subtitle:0kB other streams:0kB global headers:0kB muxing overhead: 0.083906%\n",
      "[libx264 @ 0x559b15f35180] frame I:1     Avg QP:22.87  size: 51619\n",
      "[libx264 @ 0x559b15f35180] frame P:16    Avg QP:20.02  size: 50409\n",
      "[libx264 @ 0x559b15f35180] frame B:46    Avg QP:21.90  size: 24053\n",
      "[libx264 @ 0x559b15f35180] consecutive B-frames:  1.6%  3.2%  0.0% 95.2%\n",
      "[libx264 @ 0x559b15f35180] mb I  I16..4: 27.6% 43.8% 28.6%\n",
      "[libx264 @ 0x559b15f35180] mb P  I16..4:  1.2% 22.9%  1.1%  P16..4: 21.2% 12.9%  7.3%  0.0%  0.0%    skip:33.4%\n",
      "[libx264 @ 0x559b15f35180] mb B  I16..4:  0.3% 10.2%  0.0%  B16..8: 23.6%  6.5%  1.8%  direct: 5.4%  skip:52.2%  L0:46.5% L1:43.5% BI: 9.9%\n",
      "[libx264 @ 0x559b15f35180] 8x8 transform intra:88.8% inter:84.2%\n",
      "[libx264 @ 0x559b15f35180] coded y,u,v intra: 77.5% 41.9% 39.4% inter: 24.4% 14.0% 11.8%\n",
      "[libx264 @ 0x559b15f35180] i16 v,h,dc,p: 45% 31% 14% 10%\n",
      "[libx264 @ 0x559b15f35180] i8 v,h,dc,ddl,ddr,vr,hd,vl,hu: 10% 18% 58%  3%  1%  1%  2%  2%  4%\n",
      "[libx264 @ 0x559b15f35180] i4 v,h,dc,ddl,ddr,vr,hd,vl,hu: 37% 34% 12%  2%  3%  2%  4%  2%  4%\n",
      "[libx264 @ 0x559b15f35180] Weighted P-Frames: Y:0.0% UV:0.0%\n",
      "[libx264 @ 0x559b15f35180] ref P L0: 32.3%  8.5% 37.7% 21.4%\n",
      "[libx264 @ 0x559b15f35180] ref B L0: 61.7% 29.7%  8.5%\n",
      "[libx264 @ 0x559b15f35180] ref B L1: 87.6% 12.4%\n",
      "[libx264 @ 0x559b15f35180] kb/s:2494.73\n"
     ]
    }
   ],
   "source": [
    "# Turn the images to a video and delete the directory\n",
    "video_fps = 10\n",
    "for root in roots:\n",
    "    print('dumping video in root: {}'.format(root))\n",
    "    video_path = os.path.join(root, f'visualization_{view_num}.mp4')\n",
    "    if os.path.exists(video_path):\n",
    "        os.remove(video_path)\n",
    "    viz_dir = os.path.join(root, 'visualization')\n",
    "    os.system('ffmpeg -r {} -i {}/%*.png -vf scale=2000x720,setsar=1:1 {}'.format(\n",
    "        video_fps, # fps\n",
    "        viz_dir,\n",
    "        video_path\n",
    "    ))\n"
   ]
  },
  {
   "cell_type": "code",
   "execution_count": 8,
   "metadata": {},
   "outputs": [],
   "source": [
    "# Remove the img directory\n",
    "\n",
    "for root in roots:\n",
    "    viz_dir = os.path.join(root, 'visualization')\n",
    "    shutil.rmtree(viz_dir)\n"
   ]
  },
  {
   "cell_type": "code",
   "execution_count": null,
   "metadata": {},
   "outputs": [],
   "source": []
  }
 ],
 "metadata": {
  "kernelspec": {
   "display_name": "Python 3 (ipykernel)",
   "language": "python",
   "name": "python3"
  },
  "language_info": {
   "codemirror_mode": {
    "name": "ipython",
    "version": 3
   },
   "file_extension": ".py",
   "mimetype": "text/x-python",
   "name": "python",
   "nbconvert_exporter": "python",
   "pygments_lexer": "ipython3",
   "version": "3.9.13"
  },
  "vscode": {
   "interpreter": {
    "hash": "36852de55b288c46ba617fd48cf310240e4201e2f57004cbdac030fa23152bd3"
   }
  }
 },
 "nbformat": 4,
 "nbformat_minor": 4
}
