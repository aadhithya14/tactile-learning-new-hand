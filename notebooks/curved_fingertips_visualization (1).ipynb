{
 "cells": [
  {
   "cell_type": "code",
   "execution_count": null,
   "metadata": {},
   "outputs": [
    {
     "ename": "",
     "evalue": "",
     "output_type": "error",
     "traceback": [
      "\u001b[1;31mRunning cells with 'rlgpu' requires the ipykernel package.\n",
      "\u001b[1;31mRun the following command to install 'ipykernel' into the Python environment. \n",
      "\u001b[1;31mCommand: 'conda install -n rlgpu ipykernel --update-deps --force-reinstall'"
     ]
    }
   ],
   "source": [
    "import numpy as np \n",
    "import matplotlib.pyplot as plt\n",
    "import cv2"
   ]
  },
  {
   "cell_type": "code",
   "execution_count": null,
   "metadata": {},
   "outputs": [
    {
     "ename": "",
     "evalue": "",
     "output_type": "error",
     "traceback": [
      "\u001b[1;31mRunning cells with 'rlgpu' requires the ipykernel package.\n",
      "\u001b[1;31mRun the following command to install 'ipykernel' into the Python environment. \n",
      "\u001b[1;31mCommand: 'conda install -n rlgpu ipykernel --update-deps --force-reinstall'"
     ]
    }
   ],
   "source": [
    "for i in range(60, 180+1, 40):\n",
    "    print(i)"
   ]
  },
  {
   "cell_type": "code",
   "execution_count": null,
   "metadata": {},
   "outputs": [
    {
     "ename": "",
     "evalue": "",
     "output_type": "error",
     "traceback": [
      "\u001b[1;31mRunning cells with 'rlgpu' requires the ipykernel package.\n",
      "\u001b[1;31mRun the following command to install 'ipykernel' into the Python environment. \n",
      "\u001b[1;31mCommand: 'conda install -n rlgpu ipykernel --update-deps --force-reinstall'"
     ]
    }
   ],
   "source": [
    "def plot_tactile_sensor(ax, sensor_values, use_img=False, img=None, title='Tip Position'):\n",
    "    # sensor_values: (16, 3) - 3 values for each tactile - x and y represents the position, z represents the pressure on the tactile point\n",
    "    img_shape = (240, 240, 3) # For one sensor\n",
    "    blank_image = np.ones(img_shape, np.uint8) * 255\n",
    "    if use_img == False: \n",
    "        img = ax.imshow(blank_image.copy())\n",
    "    ax.set_title(title)\n",
    "\n",
    "    # Set the coordinates for each circle\n",
    "    tactile_coordinates = []\n",
    "    for j in range(60, 180+1, 40): # Y\n",
    "        for i in range(60, 180+1, 40): # X - It goes from top left to bottom right row first \n",
    "            tactile_coordinates.append([i,j])\n",
    "\n",
    "    # Plot the circles \n",
    "    for i in range(sensor_values.shape[0]):\n",
    "        center_coordinates = (\n",
    "            tactile_coordinates[i][0] + int(sensor_values[i,0]/20), # NOTE: Change this\n",
    "            tactile_coordinates[i][1] + int(sensor_values[i,1]/20)\n",
    "        )\n",
    "        radius = max(10 + int(sensor_values[i,2]/10), 2)\n",
    "      \n",
    "        if i == 0:\n",
    "            frame_axis = cv2.circle(blank_image.copy(), center_coordinates, radius, color=(0,255,0), thickness=-1)\n",
    "        else:\n",
    "            frame_axis = cv2.circle(frame_axis.copy(), center_coordinates, radius, color=(0,255,0), thickness=-1)\n",
    "\n",
    "    img.set_array(frame_axis)\n",
    "\n",
    "    return img, frame_axis"
   ]
  },
  {
   "cell_type": "code",
   "execution_count": null,
   "metadata": {},
   "outputs": [
    {
     "ename": "",
     "evalue": "",
     "output_type": "error",
     "traceback": [
      "\u001b[1;31mRunning cells with 'rlgpu' requires the ipykernel package.\n",
      "\u001b[1;31mRun the following command to install 'ipykernel' into the Python environment. \n",
      "\u001b[1;31mCommand: 'conda install -n rlgpu ipykernel --update-deps --force-reinstall'"
     ]
    }
   ],
   "source": [
    "def plot_tactile_curved_tip(ax, sensor_values, use_img=False, img=None, title='Tip Position'):\n",
    "    # sensor_values: (16, 3) - 3 values for each tactile - x and y represents the position, z represents the pressure on the tactile point\n",
    "    img_shape = (240, 240, 3) # For one sensor\n",
    "    blank_image = np.ones(img_shape, np.uint8) * 255\n",
    "    if use_img == False: \n",
    "        img = ax.imshow(blank_image.copy())\n",
    "    ax.set_title(title)\n",
    "\n",
    "    # Set the coordinates for each circle\n",
    "    tactile_coordinates = []\n",
    "    for j in range(20, 240, 40): # y axis\n",
    "        # x axis is somewhat hard coded\n",
    "        for i in range(20, 240, 40):\n",
    "            if j == 20 and (i == 100 or i == 140): # Only the middle two will be added\n",
    "                tactile_coordinates.append([i,j])\n",
    "            elif (j > 20 and j < 100) and (i > 20 and i < 220):\n",
    "                tactile_coordinates.append([i,j])\n",
    "            elif j >= 100: \n",
    "                tactile_coordinates.append([i,j])\n",
    "    \n",
    "    # Plot the circles \n",
    "    for i in range(sensor_values.shape[0]):\n",
    "        center_coordinates = (\n",
    "            tactile_coordinates[i][0] + int(sensor_values[i,0]/20),\n",
    "            tactile_coordinates[i][1] + int(sensor_values[i,1]/20)\n",
    "        )\n",
    "        radius = max(10 + int(sensor_values[i,2]/10), 2)\n",
    "      \n",
    "        if i == 0:\n",
    "            frame_axis = cv2.circle(blank_image.copy(), center_coordinates, radius, color=(0,255,0), thickness=-1)\n",
    "        else:\n",
    "            frame_axis = cv2.circle(frame_axis.copy(), center_coordinates, radius, color=(0,255,0), thickness=-1)\n",
    "\n",
    "    img.set_array(frame_axis)\n",
    "\n",
    "    return img, frame_axis\n",
    "\n"
   ]
  },
  {
   "cell_type": "code",
   "execution_count": null,
   "metadata": {},
   "outputs": [
    {
     "ename": "",
     "evalue": "",
     "output_type": "error",
     "traceback": [
      "\u001b[1;31mRunning cells with 'rlgpu' requires the ipykernel package.\n",
      "\u001b[1;31mRun the following command to install 'ipykernel' into the Python environment. \n",
      "\u001b[1;31mCommand: 'conda install -n rlgpu ipykernel --update-deps --force-reinstall'"
     ]
    }
   ],
   "source": [
    "# fig, axs = plt.subplots(nrows=1, ncols=4, figsize=(20,5))\n",
    "# sensor_values = np.random.randn(30,3) * 20\n",
    "# plot_tactile_curved_tip(axs[0], sensor_values=sensor_values)\n",
    "# plot_tactile_curved_tip(axs[1], sensor_values=sensor_values)\n",
    "# plot_tactile_curved_tip(axs[2], sensor_values=sensor_values)\n",
    "# plot_tactile_curved_tip(axs[3], sensor_values=sensor_values)"
   ]
  },
  {
   "cell_type": "code",
   "execution_count": null,
   "metadata": {},
   "outputs": [
    {
     "ename": "",
     "evalue": "",
     "output_type": "error",
     "traceback": [
      "\u001b[1;31mRunning cells with 'rlgpu' requires the ipykernel package.\n",
      "\u001b[1;31mRun the following command to install 'ipykernel' into the Python environment. \n",
      "\u001b[1;31mCommand: 'conda install -n rlgpu ipykernel --update-deps --force-reinstall'"
     ]
    }
   ],
   "source": [
    "def plot_tactile_palm(ax, sensor_values, use_img=False, img=None, title='Tip Position'):\n",
    "    # sensor_values: (16, 3) - 3 values for each tactile - x and y represents the position, z represents the pressure on the tactile point\n",
    "    img_shape = (480, 960, 3) # For one sensor\n",
    "    blank_image = np.ones(img_shape, np.uint8) * 255\n",
    "    if use_img == False: \n",
    "        img = ax.imshow(blank_image.copy())\n",
    "    ax.set_title(title)\n",
    "\n",
    "    # Set the coordinates for each circle\n",
    "    tactile_coordinates = []\n",
    "    for j in range(70, 410+1, 40):\n",
    "        for i in range(180, 780+1, 40):\n",
    "            if (j < 230) and ((i >= 220 and i <= 420) or (i >= 540 and i <= 740)):\n",
    "                tactile_coordinates.append([i,j])\n",
    "            elif (j > 230) and (i >= 540 and i <= 740):\n",
    "                tactile_coordinates.append([i,j])\n",
    "\n",
    "    print(len(tactile_coordinates))\n",
    "\n",
    "    # Plot the circles \n",
    "    for i in range(sensor_values.shape[0]):\n",
    "        center_coordinates = (\n",
    "            tactile_coordinates[i][0] + int(sensor_values[i,0]/20),\n",
    "            tactile_coordinates[i][1] + int(sensor_values[i,1]/20)\n",
    "        )\n",
    "        radius = max(10 + int(sensor_values[i,2]/10), 2)\n",
    "      \n",
    "        if i == 0:\n",
    "            frame_axis = cv2.circle(blank_image.copy(), center_coordinates, radius, color=(0,255,0), thickness=-1)\n",
    "        else:\n",
    "            frame_axis = cv2.circle(frame_axis.copy(), center_coordinates, radius, color=(0,255,0), thickness=-1)\n",
    "\n",
    "    img.set_array(frame_axis)\n",
    "\n",
    "    return img, frame_axis"
   ]
  },
  {
   "cell_type": "code",
   "execution_count": null,
   "metadata": {},
   "outputs": [
    {
     "ename": "",
     "evalue": "",
     "output_type": "error",
     "traceback": [
      "\u001b[1;31mRunning cells with 'rlgpu' requires the ipykernel package.\n",
      "\u001b[1;31mRun the following command to install 'ipykernel' into the Python environment. \n",
      "\u001b[1;31mCommand: 'conda install -n rlgpu ipykernel --update-deps --force-reinstall'"
     ]
    }
   ],
   "source": [
    "# fig, axs = plt.subplots(nrows=1, ncols=1, figsize=(10,10))\n",
    "# sensor_values = np.random.randn(72,3) * 20\n",
    "# plot_tactile_palm(axs, sensor_values=sensor_values)"
   ]
  },
  {
   "cell_type": "code",
   "execution_count": null,
   "metadata": {},
   "outputs": [
    {
     "ename": "",
     "evalue": "",
     "output_type": "error",
     "traceback": [
      "\u001b[1;31mRunning cells with 'rlgpu' requires the ipykernel package.\n",
      "\u001b[1;31mRun the following command to install 'ipykernel' into the Python environment. \n",
      "\u001b[1;31mCommand: 'conda install -n rlgpu ipykernel --update-deps --force-reinstall'"
     ]
    }
   ],
   "source": [
    "thumb = [['thumb_empty'],\n",
    "          ['thumb_tip'],\n",
    "          ['thumb_section2'],\n",
    "          ['thumb_section3']]\n",
    "\n",
    "index = [['index_tip'],\n",
    "          ['index_section1'],\n",
    "          ['index_section2'],\n",
    "          ['index_section3']]\n",
    "\n",
    "ring = [['ring_tip'],\n",
    "          ['ring_section1'],\n",
    "          ['ring_section2'],\n",
    "          ['ring_section3']]\n",
    "\n",
    "middle = [['mid_tip'],\n",
    "          ['mid_section1'],\n",
    "          ['mid_section2'],\n",
    "          ['mid_section3']]\n",
    "\n",
    "all_fingers = [thumb, index, middle, ring]\n",
    "\n",
    "hand = [[thumb, index, middle, ring],\n",
    "        ['palm', 'palm', 'palm', 'palm']]\n",
    "\n",
    "# inner = [['innerA'],\n",
    "#          ['innerB']]\n",
    "# outer = [['upper left',  inner],\n",
    "#           ['lower left', 'lower right']]\n",
    "def annotate_axes(ax, text, fontsize=10):\n",
    "    ax.text(0.5, 0.5, text, transform=ax.transAxes,\n",
    "            ha=\"center\", va=\"center\", fontsize=fontsize, color=\"darkgrey\")\n",
    "\n",
    "fig, axs = plt.subplot_mosaic(hand, figsize=(10,20))\n",
    "for k in axs:\n",
    "    # annotate_axes(axs[k], f\"{k}\")\n",
    "    print('k: {}'.format(k))\n",
    "\n",
    "    if 'tip' in k:\n",
    "        sensor_values = np.random.randn(30,3) * 20\n",
    "        plot_tactile_curved_tip(axs[k], sensor_values=sensor_values, title=k)\n",
    "    elif 'palm' in k:\n",
    "        sensor_values = np.random.randn(72,3) * 20\n",
    "        plot_tactile_palm(axs[k], sensor_values = sensor_values, title=k)\n",
    "    elif not 'empty' in k:\n",
    "        sensor_values = np.random.randn(16,3) * 20\n",
    "        plot_tactile_sensor(axs[k], sensor_values=sensor_values, title=k)\n",
    "\n",
    "    axs[k].get_yaxis().set_ticks([])\n",
    "    axs[k].get_xaxis().set_ticks([])\n"
   ]
  }
 ],
 "metadata": {
  "kernelspec": {
   "display_name": "tactile_learning",
   "language": "python",
   "name": "python3"
  },
  "language_info": {
   "codemirror_mode": {
    "name": "ipython",
    "version": 3
   },
   "file_extension": ".py",
   "mimetype": "text/x-python",
   "name": "python",
   "nbconvert_exporter": "python",
   "pygments_lexer": "ipython3",
   "version": "3.7.16"
  },
  "orig_nbformat": 4
 },
 "nbformat": 4,
 "nbformat_minor": 2
}
